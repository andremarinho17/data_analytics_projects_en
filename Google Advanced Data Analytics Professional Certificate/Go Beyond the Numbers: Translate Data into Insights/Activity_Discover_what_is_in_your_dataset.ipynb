{
  "cells": [
    {
      "cell_type": "markdown",
      "metadata": {
        "id": "view-in-github",
        "colab_type": "text"
      },
      "source": [
        "<a href=\"https://colab.research.google.com/github/andremarinho17/data_analytics_projects_en/blob/main/Activity_Discover_what_is_in_your_dataset.ipynb\" target=\"_parent\"><img src=\"https://colab.research.google.com/assets/colab-badge.svg\" alt=\"Open In Colab\"/></a>"
      ]
    },
    {
      "cell_type": "markdown",
      "metadata": {
        "id": "1WD1hC5MTRMS"
      },
      "source": [
        "# Activity: Discover what is in your dataset - André Marinho\n",
        "\n",
        "## Unicorn Companies EDA\n",
        "\n",
        "**Author:** André Marinho\n",
        "\n",
        "<p align=\"center\"><img src=\"https://www.battery.com/wp-content/uploads/2022/04/DT-Unicorn-221-scaled.jpg\" >"
      ],
      "id": "1WD1hC5MTRMS"
    },
    {
      "cell_type": "markdown",
      "metadata": {
        "id": "ee31943b-274e-4c28-bce6-155cb6f4c334"
      },
      "source": [
        "## Introduction\n",
        "\n",
        "In this activity, you will discover characteristics of a dataset and use visualizations to analyze the data. This will develop and strengthen your skills in **exploratory data analysis (EDA)** and your knowledge of functions that allow you to explore and visualize data.\n",
        "\n",
        "EDA is an essential process in a data science workflow. As a data professional, you will need to conduct this process to better understand the data at hand and determine how it can be used to solve the problem you want to address. This activity will give you an opportunity to practice that process and prepare you for EDA in future projects.\n",
        "\n",
        "In this activity, you are a member of an analytics team that provides insights to an investing firm. To help them decide which companies to invest in next, the firm wants insights into **unicorn companies**–companies that are valued at over one billion dollars. The data you will use for this task provides information on over 1,000 unicorn companies, including their industry, country, year founded, and select investors. You will use this information to gain insights into how and when companies reach this prestigious milestone and to make recommendations for next steps to the investing firm."
      ],
      "id": "ee31943b-274e-4c28-bce6-155cb6f4c334"
    },
    {
      "cell_type": "markdown",
      "metadata": {
        "id": "4bb9630e-b940-4835-a389-d39def1fa848"
      },
      "source": [
        "## Step 1: Imports"
      ],
      "id": "4bb9630e-b940-4835-a389-d39def1fa848"
    },
    {
      "cell_type": "markdown",
      "metadata": {
        "id": "bc180686-4ae2-47ea-a292-3588ac60a820"
      },
      "source": [
        "### Import libraries and packages\n",
        "\n",
        "First, import relevant Python libraries and modules. Use the `pandas` library and the `matplotlib.pyplot` module."
      ],
      "id": "bc180686-4ae2-47ea-a292-3588ac60a820"
    },
    {
      "cell_type": "code",
      "execution_count": null,
      "metadata": {
        "id": "8e7f1f2c-bbcc-4f3c-b927-b090ee8334c4"
      },
      "outputs": [],
      "source": [
        "# Import libraries and packages\n",
        "\n",
        "import pandas as pd\n",
        "import matplotlib.pyplot as plt"
      ],
      "id": "8e7f1f2c-bbcc-4f3c-b927-b090ee8334c4"
    },
    {
      "cell_type": "markdown",
      "metadata": {
        "id": "7d29c6bd-f194-46bb-b794-56dc20130473"
      },
      "source": [
        "### Load the dataset into a DataFrame\n",
        "\n",
        "The dataset provided is in the form of a csv file named `Unicorn_Companies.csv` and contains a subset of data on unicorn companies. As shown in this cell, the dataset has been automatically loaded in for you. You do not need to download the .csv file, or provide more code, in order to access the dataset and proceed with this lab. Please continue with this activity by completing the following instructions."
      ],
      "id": "7d29c6bd-f194-46bb-b794-56dc20130473"
    },
    {
      "cell_type": "code",
      "execution_count": null,
      "metadata": {
        "id": "3bd40d44-080f-4e49-b0c2-160dedc3c4df"
      },
      "outputs": [],
      "source": [
        "# RUN THIS CELL TO IMPORT YOUR DATA.\n",
        "\n",
        "companies = pd.read_csv(\"Unicorn_Companies.csv\")"
      ],
      "id": "3bd40d44-080f-4e49-b0c2-160dedc3c4df"
    },
    {
      "cell_type": "markdown",
      "metadata": {
        "id": "lXPOJ3LO-v7J",
        "jp-MarkdownHeadingCollapsed": true,
        "tags": []
      },
      "source": [
        "<details>\n",
        "  <summary><h4><strong>Hint 1</strong></h4></summary>\n",
        "\n",
        "Refer to what you learned about [loading data](https://www.coursera.org/learn/go-beyond-the-numbers-translate-data-into-insight/supplement/MdTG2/reference-guide-import-datasets-using-python) in Python.\n",
        "\n",
        "</details>"
      ],
      "id": "lXPOJ3LO-v7J"
    },
    {
      "cell_type": "markdown",
      "metadata": {
        "id": "O5TEL8Ty-v7L",
        "jp-MarkdownHeadingCollapsed": true,
        "tags": []
      },
      "source": [
        "<details>\n",
        "  <summary><h4><strong>Hint 2</strong></h4></summary>\n",
        "\n",
        "Use the function in the `pandas` library that allows you to read data from a csv file and load the data into a DataFrame.\n",
        "\n",
        "\n",
        "</details>"
      ],
      "id": "O5TEL8Ty-v7L"
    },
    {
      "cell_type": "markdown",
      "metadata": {
        "id": "kEx2SsH2-v7M",
        "jp-MarkdownHeadingCollapsed": true,
        "tags": []
      },
      "source": [
        "<details>\n",
        "  <summary><h4><strong>Hint 3</strong></h4></summary>\n",
        "\n",
        "Use the `read_csv()` function from the `pandas` library.\n",
        "\n",
        "</details>"
      ],
      "id": "kEx2SsH2-v7M"
    },
    {
      "cell_type": "markdown",
      "metadata": {
        "id": "95bf39c9-d05c-4324-a40b-bc692607b61b"
      },
      "source": [
        "## Step 2: Data exploration"
      ],
      "id": "95bf39c9-d05c-4324-a40b-bc692607b61b"
    },
    {
      "cell_type": "markdown",
      "metadata": {
        "id": "26561614-8e9b-4840-8dbf-b50131ae5314",
        "tags": []
      },
      "source": [
        "### Display the first 10 rows of the data\n",
        "\n",
        "Next, explore the dataset and answer questions to guide your exploration and analysis of the data. To begin, display the first 10 rows of the data to get an understanding of how the dataset is structured."
      ],
      "id": "26561614-8e9b-4840-8dbf-b50131ae5314"
    },
    {
      "cell_type": "code",
      "execution_count": null,
      "metadata": {
        "id": "ad5210a5-7a64-4991-b004-de818cfaf506",
        "outputId": "50f80652-a105-461f-a2c5-ca5360c12554"
      },
      "outputs": [
        {
          "data": {
            "text/html": [
              "<div>\n",
              "<style scoped>\n",
              "    .dataframe tbody tr th:only-of-type {\n",
              "        vertical-align: middle;\n",
              "    }\n",
              "\n",
              "    .dataframe tbody tr th {\n",
              "        vertical-align: top;\n",
              "    }\n",
              "\n",
              "    .dataframe thead th {\n",
              "        text-align: right;\n",
              "    }\n",
              "</style>\n",
              "<table border=\"1\" class=\"dataframe\">\n",
              "  <thead>\n",
              "    <tr style=\"text-align: right;\">\n",
              "      <th></th>\n",
              "      <th>Company</th>\n",
              "      <th>Valuation</th>\n",
              "      <th>Date Joined</th>\n",
              "      <th>Industry</th>\n",
              "      <th>City</th>\n",
              "      <th>Country/Region</th>\n",
              "      <th>Continent</th>\n",
              "      <th>Year Founded</th>\n",
              "      <th>Funding</th>\n",
              "      <th>Select Investors</th>\n",
              "    </tr>\n",
              "  </thead>\n",
              "  <tbody>\n",
              "    <tr>\n",
              "      <th>0</th>\n",
              "      <td>Bytedance</td>\n",
              "      <td>$180B</td>\n",
              "      <td>4/7/17</td>\n",
              "      <td>Artificial intelligence</td>\n",
              "      <td>Beijing</td>\n",
              "      <td>China</td>\n",
              "      <td>Asia</td>\n",
              "      <td>2012</td>\n",
              "      <td>$8B</td>\n",
              "      <td>Sequoia Capital China, SIG Asia Investments, S...</td>\n",
              "    </tr>\n",
              "    <tr>\n",
              "      <th>1</th>\n",
              "      <td>SpaceX</td>\n",
              "      <td>$100B</td>\n",
              "      <td>12/1/12</td>\n",
              "      <td>Other</td>\n",
              "      <td>Hawthorne</td>\n",
              "      <td>United States</td>\n",
              "      <td>North America</td>\n",
              "      <td>2002</td>\n",
              "      <td>$7B</td>\n",
              "      <td>Founders Fund, Draper Fisher Jurvetson, Rothen...</td>\n",
              "    </tr>\n",
              "    <tr>\n",
              "      <th>2</th>\n",
              "      <td>SHEIN</td>\n",
              "      <td>$100B</td>\n",
              "      <td>7/3/18</td>\n",
              "      <td>E-commerce &amp; direct-to-consumer</td>\n",
              "      <td>Shenzhen</td>\n",
              "      <td>China</td>\n",
              "      <td>Asia</td>\n",
              "      <td>2008</td>\n",
              "      <td>$2B</td>\n",
              "      <td>Tiger Global Management, Sequoia Capital China...</td>\n",
              "    </tr>\n",
              "    <tr>\n",
              "      <th>3</th>\n",
              "      <td>Stripe</td>\n",
              "      <td>$95B</td>\n",
              "      <td>1/23/14</td>\n",
              "      <td>Fintech</td>\n",
              "      <td>San Francisco</td>\n",
              "      <td>United States</td>\n",
              "      <td>North America</td>\n",
              "      <td>2010</td>\n",
              "      <td>$2B</td>\n",
              "      <td>Khosla Ventures, LowercaseCapital, capitalG</td>\n",
              "    </tr>\n",
              "    <tr>\n",
              "      <th>4</th>\n",
              "      <td>Klarna</td>\n",
              "      <td>$46B</td>\n",
              "      <td>12/12/11</td>\n",
              "      <td>Fintech</td>\n",
              "      <td>Stockholm</td>\n",
              "      <td>Sweden</td>\n",
              "      <td>Europe</td>\n",
              "      <td>2005</td>\n",
              "      <td>$4B</td>\n",
              "      <td>Institutional Venture Partners, Sequoia Capita...</td>\n",
              "    </tr>\n",
              "    <tr>\n",
              "      <th>5</th>\n",
              "      <td>Canva</td>\n",
              "      <td>$40B</td>\n",
              "      <td>1/8/18</td>\n",
              "      <td>Internet software &amp; services</td>\n",
              "      <td>Surry Hills</td>\n",
              "      <td>Australia</td>\n",
              "      <td>Oceania</td>\n",
              "      <td>2012</td>\n",
              "      <td>$572M</td>\n",
              "      <td>Sequoia Capital China, Blackbird Ventures, Mat...</td>\n",
              "    </tr>\n",
              "    <tr>\n",
              "      <th>6</th>\n",
              "      <td>Checkout.com</td>\n",
              "      <td>$40B</td>\n",
              "      <td>5/2/19</td>\n",
              "      <td>Fintech</td>\n",
              "      <td>London</td>\n",
              "      <td>United Kingdom</td>\n",
              "      <td>Europe</td>\n",
              "      <td>2012</td>\n",
              "      <td>$2B</td>\n",
              "      <td>Tiger Global Management, Insight Partners, DST...</td>\n",
              "    </tr>\n",
              "    <tr>\n",
              "      <th>7</th>\n",
              "      <td>Instacart</td>\n",
              "      <td>$39B</td>\n",
              "      <td>12/30/14</td>\n",
              "      <td>Supply chain, logistics, &amp; delivery</td>\n",
              "      <td>San Francisco</td>\n",
              "      <td>United States</td>\n",
              "      <td>North America</td>\n",
              "      <td>2012</td>\n",
              "      <td>$3B</td>\n",
              "      <td>Khosla Ventures, Kleiner Perkins Caufield &amp; By...</td>\n",
              "    </tr>\n",
              "    <tr>\n",
              "      <th>8</th>\n",
              "      <td>JUUL Labs</td>\n",
              "      <td>$38B</td>\n",
              "      <td>12/20/17</td>\n",
              "      <td>Consumer &amp; retail</td>\n",
              "      <td>San Francisco</td>\n",
              "      <td>United States</td>\n",
              "      <td>North America</td>\n",
              "      <td>2015</td>\n",
              "      <td>$14B</td>\n",
              "      <td>Tiger Global Management</td>\n",
              "    </tr>\n",
              "    <tr>\n",
              "      <th>9</th>\n",
              "      <td>Databricks</td>\n",
              "      <td>$38B</td>\n",
              "      <td>2/5/19</td>\n",
              "      <td>Data management &amp; analytics</td>\n",
              "      <td>San Francisco</td>\n",
              "      <td>United States</td>\n",
              "      <td>North America</td>\n",
              "      <td>2013</td>\n",
              "      <td>$3B</td>\n",
              "      <td>Andreessen Horowitz, New Enterprise Associates...</td>\n",
              "    </tr>\n",
              "  </tbody>\n",
              "</table>\n",
              "</div>"
            ],
            "text/plain": [
              "        Company Valuation Date Joined                             Industry  \\\n",
              "0     Bytedance     $180B      4/7/17              Artificial intelligence   \n",
              "1        SpaceX     $100B     12/1/12                                Other   \n",
              "2         SHEIN     $100B      7/3/18      E-commerce & direct-to-consumer   \n",
              "3        Stripe      $95B     1/23/14                              Fintech   \n",
              "4        Klarna      $46B    12/12/11                              Fintech   \n",
              "5         Canva      $40B      1/8/18         Internet software & services   \n",
              "6  Checkout.com      $40B      5/2/19                              Fintech   \n",
              "7     Instacart      $39B    12/30/14  Supply chain, logistics, & delivery   \n",
              "8     JUUL Labs      $38B    12/20/17                    Consumer & retail   \n",
              "9    Databricks      $38B      2/5/19          Data management & analytics   \n",
              "\n",
              "            City  Country/Region      Continent  Year Founded Funding  \\\n",
              "0        Beijing           China           Asia          2012     $8B   \n",
              "1      Hawthorne   United States  North America          2002     $7B   \n",
              "2       Shenzhen           China           Asia          2008     $2B   \n",
              "3  San Francisco   United States  North America          2010     $2B   \n",
              "4      Stockholm          Sweden         Europe          2005     $4B   \n",
              "5    Surry Hills       Australia        Oceania          2012   $572M   \n",
              "6         London  United Kingdom         Europe          2012     $2B   \n",
              "7  San Francisco   United States  North America          2012     $3B   \n",
              "8  San Francisco   United States  North America          2015    $14B   \n",
              "9  San Francisco   United States  North America          2013     $3B   \n",
              "\n",
              "                                    Select Investors  \n",
              "0  Sequoia Capital China, SIG Asia Investments, S...  \n",
              "1  Founders Fund, Draper Fisher Jurvetson, Rothen...  \n",
              "2  Tiger Global Management, Sequoia Capital China...  \n",
              "3        Khosla Ventures, LowercaseCapital, capitalG  \n",
              "4  Institutional Venture Partners, Sequoia Capita...  \n",
              "5  Sequoia Capital China, Blackbird Ventures, Mat...  \n",
              "6  Tiger Global Management, Insight Partners, DST...  \n",
              "7  Khosla Ventures, Kleiner Perkins Caufield & By...  \n",
              "8                            Tiger Global Management  \n",
              "9  Andreessen Horowitz, New Enterprise Associates...  "
            ]
          },
          "execution_count": 4,
          "metadata": {},
          "output_type": "execute_result"
        }
      ],
      "source": [
        "# Display the first 10 rows of the data\n",
        "\n",
        "companies.head(10)"
      ],
      "id": "ad5210a5-7a64-4991-b004-de818cfaf506"
    },
    {
      "cell_type": "markdown",
      "metadata": {
        "id": "49881dfd-4532-424f-9729-f5378d984df0",
        "jp-MarkdownHeadingCollapsed": true,
        "tags": []
      },
      "source": [
        "<details>\n",
        "  <summary><h4><strong>Hint 1</strong></h4></summary>\n",
        "\n",
        "Refer to [the content about exploratory data analysis in Python](https://www.coursera.org/learn/go-beyond-the-numbers-translate-data-into-insight/lecture/kfl9b/find-stories-using-the-six-exploratory-data-analysis-practices).\n",
        "\n",
        "</details>"
      ],
      "id": "49881dfd-4532-424f-9729-f5378d984df0"
    },
    {
      "cell_type": "markdown",
      "metadata": {
        "id": "k2QxFOi9HW1Q",
        "jp-MarkdownHeadingCollapsed": true,
        "tags": []
      },
      "source": [
        "<details>\n",
        "  <summary><h4><strong>Hint 2</strong></h4></summary>\n",
        "\n",
        "Use the function in the `pandas` library that allows you to get a specific number of rows from the top of a DataFrame.\n",
        "\n",
        "\n",
        "</details>"
      ],
      "id": "k2QxFOi9HW1Q"
    },
    {
      "cell_type": "markdown",
      "metadata": {
        "id": "ptkclWFzHjHv",
        "jp-MarkdownHeadingCollapsed": true,
        "tags": []
      },
      "source": [
        "<details>\n",
        "  <summary><h4><strong>Hint 3</strong></h4></summary>\n",
        "\n",
        "Use the `head()` function from the `pandas` library.\n",
        "\n",
        "</details>"
      ],
      "id": "ptkclWFzHjHv"
    },
    {
      "cell_type": "markdown",
      "metadata": {
        "id": "fb45ed17-5e22-4d48-9750-130a8586bbf9",
        "tags": []
      },
      "source": [
        "**Question:** What do you think the \"Date Joined\" column represents?"
      ],
      "id": "fb45ed17-5e22-4d48-9750-130a8586bbf9"
    },
    {
      "cell_type": "markdown",
      "metadata": {
        "id": "EvIbtmjalQHF"
      },
      "source": [
        "The date that a company joined the list of unicorn companies."
      ],
      "id": "EvIbtmjalQHF"
    },
    {
      "cell_type": "markdown",
      "metadata": {
        "id": "46e7fce4-b8dc-4f53-9f5f-a7d7fdfe0831",
        "tags": []
      },
      "source": [
        "**Question:** What do you think the \"Select Investors\" column represents?"
      ],
      "id": "46e7fce4-b8dc-4f53-9f5f-a7d7fdfe0831"
    },
    {
      "cell_type": "markdown",
      "metadata": {
        "id": "1sdw8O-PlQ19"
      },
      "source": [
        "The current investors of a company.\n"
      ],
      "id": "1sdw8O-PlQ19"
    },
    {
      "cell_type": "markdown",
      "metadata": {
        "id": "6d423621-c14b-4987-a76d-feee76046144"
      },
      "source": [
        "### Assess the size of the dataset\n",
        "\n",
        "Get a sense of how large the dataset is. The `size` property that DataFrames have can help."
      ],
      "id": "6d423621-c14b-4987-a76d-feee76046144"
    },
    {
      "cell_type": "code",
      "execution_count": null,
      "metadata": {
        "id": "1856c3c8-dd7e-4b0f-8e30-06e8ed6b9885",
        "outputId": "908bfbe3-7b4c-457d-ab89-d219d8f0d2ba"
      },
      "outputs": [
        {
          "data": {
            "text/plain": [
              "10740"
            ]
          },
          "execution_count": 10,
          "metadata": {},
          "output_type": "execute_result"
        }
      ],
      "source": [
        "# How large the dataset is\n",
        "\n",
        "companies.size"
      ],
      "id": "1856c3c8-dd7e-4b0f-8e30-06e8ed6b9885"
    },
    {
      "cell_type": "markdown",
      "metadata": {
        "id": "a1188994-353a-466e-884c-e7b770fa03ac",
        "jp-MarkdownHeadingCollapsed": true,
        "tags": []
      },
      "source": [
        "**Question:** What do you notice about the size of the dataset?"
      ],
      "id": "a1188994-353a-466e-884c-e7b770fa03ac"
    },
    {
      "cell_type": "markdown",
      "metadata": {
        "id": "gLRHG7k6lPC2"
      },
      "source": [
        "We have 1074 unicorn companies."
      ],
      "id": "gLRHG7k6lPC2"
    },
    {
      "cell_type": "markdown",
      "metadata": {
        "id": "e31095a6-5526-42d3-b1c0-b77c1f8b3852"
      },
      "source": [
        "### Determine the shape of the dataset\n",
        "\n",
        "Identify the number of rows and columns in the dataset. The `shape` property that DataFrames have can help."
      ],
      "id": "e31095a6-5526-42d3-b1c0-b77c1f8b3852"
    },
    {
      "cell_type": "code",
      "execution_count": null,
      "metadata": {
        "id": "df3c71a1-2519-4c50-86c2-63902a534d27",
        "outputId": "18250dbf-83d5-4f9a-eba8-b4b6e0c79fb7"
      },
      "outputs": [
        {
          "data": {
            "text/plain": [
              "(1074, 10)"
            ]
          },
          "execution_count": 14,
          "metadata": {},
          "output_type": "execute_result"
        }
      ],
      "source": [
        "# Shape of the dataset\n",
        "\n",
        "companies.shape"
      ],
      "id": "df3c71a1-2519-4c50-86c2-63902a534d27"
    },
    {
      "cell_type": "markdown",
      "metadata": {
        "id": "4c2998a8-f864-43eb-a2d5-64845ebc805c"
      },
      "source": [
        "**Question:** What do you notice about the shape of the dataset?"
      ],
      "id": "4c2998a8-f864-43eb-a2d5-64845ebc805c"
    },
    {
      "cell_type": "markdown",
      "metadata": {
        "id": "2D8Ix19xlOHv"
      },
      "source": [
        "We have 1074 rows and 10 columns"
      ],
      "id": "2D8Ix19xlOHv"
    },
    {
      "cell_type": "markdown",
      "metadata": {
        "id": "b9c8ecb7-c202-4d0a-92ad-b6b6737bc167"
      },
      "source": [
        "### Get basic information about the dataset\n",
        "\n",
        "To further understand what the dataset entails, get basic information about the dataset, including the data type of values in each column. There is more than one way to approach this task. In this instance, use the `info()` function from `pandas`."
      ],
      "id": "b9c8ecb7-c202-4d0a-92ad-b6b6737bc167"
    },
    {
      "cell_type": "code",
      "execution_count": null,
      "metadata": {
        "id": "eedad8b8-ca45-430e-91d2-eff3ad66adaf",
        "outputId": "e39f06dc-43a9-4b85-8af8-196f63517c21"
      },
      "outputs": [
        {
          "name": "stdout",
          "output_type": "stream",
          "text": [
            "<class 'pandas.core.frame.DataFrame'>\n",
            "RangeIndex: 1074 entries, 0 to 1073\n",
            "Data columns (total 10 columns):\n",
            " #   Column            Non-Null Count  Dtype \n",
            "---  ------            --------------  ----- \n",
            " 0   Company           1074 non-null   object\n",
            " 1   Valuation         1074 non-null   object\n",
            " 2   Date Joined       1074 non-null   object\n",
            " 3   Industry          1074 non-null   object\n",
            " 4   City              1058 non-null   object\n",
            " 5   Country/Region    1074 non-null   object\n",
            " 6   Continent         1074 non-null   object\n",
            " 7   Year Founded      1074 non-null   int64 \n",
            " 8   Funding           1074 non-null   object\n",
            " 9   Select Investors  1073 non-null   object\n",
            "dtypes: int64(1), object(9)\n",
            "memory usage: 84.0+ KB\n"
          ]
        }
      ],
      "source": [
        "# Get information\n",
        "\n",
        "companies.info()"
      ],
      "id": "eedad8b8-ca45-430e-91d2-eff3ad66adaf"
    },
    {
      "cell_type": "markdown",
      "metadata": {
        "id": "bd6573bc-2adb-410e-a85c-d6d5886d51bf"
      },
      "source": [
        "**Question:** What do you notice about the type of data in the `Year Founded` column? Refer to the output from using `info()` above. Knowing the data type of this variable is helpful because it indicates what types of analysis can be done with that variable, how it can be aggregated with other variables, and so on."
      ],
      "id": "bd6573bc-2adb-410e-a85c-d6d5886d51bf"
    },
    {
      "cell_type": "markdown",
      "metadata": {
        "id": "z_zKTLpXlF3D"
      },
      "source": [
        "Is the only column that the type is int64."
      ],
      "id": "z_zKTLpXlF3D"
    },
    {
      "cell_type": "markdown",
      "metadata": {
        "id": "e6da795c-331b-4271-9825-103112cb08da"
      },
      "source": [
        "**Question:** What do you notice about the type of data in the `Date Joined` column? Refer to the output from using `info()` above. Knowing the data type of this variable is helpful because it indicates what types of analysis can be done with that variable and how the variable can be transformed to suit specific tasks."
      ],
      "id": "e6da795c-331b-4271-9825-103112cb08da"
    },
    {
      "cell_type": "markdown",
      "metadata": {
        "id": "oS1P_JQNlMFQ"
      },
      "source": [
        "The column format is object, and we'll need to convert to date format."
      ],
      "id": "oS1P_JQNlMFQ"
    },
    {
      "cell_type": "markdown",
      "metadata": {
        "id": "XFkjw_Ke2Cjn"
      },
      "source": [
        "## Step 3: Statistical tests"
      ],
      "id": "XFkjw_Ke2Cjn"
    },
    {
      "cell_type": "markdown",
      "metadata": {
        "id": "7dac147e-19e1-49e7-bd80-e122390c3a70",
        "tags": []
      },
      "source": [
        "### Find descriptive statistics\n",
        "\n",
        "Find descriptive statistics and structure your dataset. The `describe()` function from the `pandas` library can help. This function generates statistics for the numeric columns in a dataset."
      ],
      "id": "7dac147e-19e1-49e7-bd80-e122390c3a70"
    },
    {
      "cell_type": "code",
      "execution_count": null,
      "metadata": {
        "id": "13f1c1dd-5637-4726-8fa0-2fbd838e4afa",
        "outputId": "b9a8198f-20f3-4c5e-addc-49b9f8ca1e98"
      },
      "outputs": [
        {
          "data": {
            "text/html": [
              "<div>\n",
              "<style scoped>\n",
              "    .dataframe tbody tr th:only-of-type {\n",
              "        vertical-align: middle;\n",
              "    }\n",
              "\n",
              "    .dataframe tbody tr th {\n",
              "        vertical-align: top;\n",
              "    }\n",
              "\n",
              "    .dataframe thead th {\n",
              "        text-align: right;\n",
              "    }\n",
              "</style>\n",
              "<table border=\"1\" class=\"dataframe\">\n",
              "  <thead>\n",
              "    <tr style=\"text-align: right;\">\n",
              "      <th></th>\n",
              "      <th>Year Founded</th>\n",
              "    </tr>\n",
              "  </thead>\n",
              "  <tbody>\n",
              "    <tr>\n",
              "      <th>count</th>\n",
              "      <td>1074.000000</td>\n",
              "    </tr>\n",
              "    <tr>\n",
              "      <th>mean</th>\n",
              "      <td>2012.895717</td>\n",
              "    </tr>\n",
              "    <tr>\n",
              "      <th>std</th>\n",
              "      <td>5.698573</td>\n",
              "    </tr>\n",
              "    <tr>\n",
              "      <th>min</th>\n",
              "      <td>1919.000000</td>\n",
              "    </tr>\n",
              "    <tr>\n",
              "      <th>25%</th>\n",
              "      <td>2011.000000</td>\n",
              "    </tr>\n",
              "    <tr>\n",
              "      <th>50%</th>\n",
              "      <td>2014.000000</td>\n",
              "    </tr>\n",
              "    <tr>\n",
              "      <th>75%</th>\n",
              "      <td>2016.000000</td>\n",
              "    </tr>\n",
              "    <tr>\n",
              "      <th>max</th>\n",
              "      <td>2021.000000</td>\n",
              "    </tr>\n",
              "  </tbody>\n",
              "</table>\n",
              "</div>"
            ],
            "text/plain": [
              "       Year Founded\n",
              "count   1074.000000\n",
              "mean    2012.895717\n",
              "std        5.698573\n",
              "min     1919.000000\n",
              "25%     2011.000000\n",
              "50%     2014.000000\n",
              "75%     2016.000000\n",
              "max     2021.000000"
            ]
          },
          "execution_count": 16,
          "metadata": {},
          "output_type": "execute_result"
        }
      ],
      "source": [
        "# Get descriptive statistics\n",
        "\n",
        "companies.describe()"
      ],
      "id": "13f1c1dd-5637-4726-8fa0-2fbd838e4afa"
    },
    {
      "cell_type": "markdown",
      "metadata": {
        "id": "a70475eb-d3a6-42e4-8b71-a49b5a1aa0db"
      },
      "source": [
        "**Question:** Based on the table of descriptive stats generated above, what do you notice about the minimum value in the `Year Founded` column? This is important to know because it helps you understand how early the entries in the data begin."
      ],
      "id": "a70475eb-d3a6-42e4-8b71-a49b5a1aa0db"
    },
    {
      "cell_type": "markdown",
      "metadata": {
        "id": "KoM_YE7TlSx7"
      },
      "source": [
        "It probably indicates an older and centenary company in our dataset or maybe an outlier."
      ],
      "id": "KoM_YE7TlSx7"
    },
    {
      "cell_type": "markdown",
      "metadata": {
        "id": "390764a7-961c-4ec7-ae11-38943d94b788",
        "tags": []
      },
      "source": [
        "**Question:** What do you notice about the maximum value in the `Year Founded` column? This is important to know because it helps you understand the most recent year captured by the data."
      ],
      "id": "390764a7-961c-4ec7-ae11-38943d94b788"
    },
    {
      "cell_type": "markdown",
      "metadata": {
        "id": "7HQWuLNhZXTZ"
      },
      "source": [
        "We have a company that grew faster because it was founded in 2021 and turned into a unicorn in under 3 years."
      ],
      "id": "7HQWuLNhZXTZ"
    },
    {
      "cell_type": "markdown",
      "metadata": {
        "id": "94b53c7f-54d8-4d1a-ae07-7c28c2ab8f5b",
        "tags": []
      },
      "source": [
        "### Convert the `Date Joined` column to datetime\n",
        "\n",
        "Use the `to_datetime()` function from the `pandas` library  to convert the `Date Joined` column to datetime. This splits each value into year, month, and date components. This is an important step in data cleaning, as it makes the data in this column easier to use in tasks you may encounter. To name a few examples, you may need to compare \"date joined\" between companies or determine how long it took a company to become a unicorn. Having \"date joined\" in datetime form would help you complete such tasks."
      ],
      "id": "94b53c7f-54d8-4d1a-ae07-7c28c2ab8f5b"
    },
    {
      "cell_type": "code",
      "execution_count": null,
      "metadata": {
        "id": "afe607c8-9dd7-47c3-9fc8-88772f015e2b"
      },
      "outputs": [],
      "source": [
        "# Step 1: Use pd.to_datetime() to convert Date Joined column to datetime\n",
        "# Step 2: Update the column with the converted values\n",
        "\n",
        "df = companies\n",
        "df['Date Joined'] = pd.to_datetime(df['Date Joined'])"
      ],
      "id": "afe607c8-9dd7-47c3-9fc8-88772f015e2b"
    },
    {
      "cell_type": "code",
      "execution_count": null,
      "metadata": {
        "id": "SBg22N43bA17",
        "outputId": "d4d1cf8f-91f6-434e-d513-d40436f3eff3"
      },
      "outputs": [
        {
          "name": "stdout",
          "output_type": "stream",
          "text": [
            "<class 'pandas.core.frame.DataFrame'>\n",
            "RangeIndex: 1074 entries, 0 to 1073\n",
            "Data columns (total 10 columns):\n",
            " #   Column            Non-Null Count  Dtype         \n",
            "---  ------            --------------  -----         \n",
            " 0   Company           1074 non-null   object        \n",
            " 1   Valuation         1074 non-null   object        \n",
            " 2   Date Joined       1074 non-null   datetime64[ns]\n",
            " 3   Industry          1074 non-null   object        \n",
            " 4   City              1058 non-null   object        \n",
            " 5   Country/Region    1074 non-null   object        \n",
            " 6   Continent         1074 non-null   object        \n",
            " 7   Year Founded      1074 non-null   int64         \n",
            " 8   Funding           1074 non-null   object        \n",
            " 9   Select Investors  1073 non-null   object        \n",
            "dtypes: datetime64[ns](1), int64(1), object(8)\n",
            "memory usage: 84.0+ KB\n"
          ]
        }
      ],
      "source": [
        "# Use .info() to confirm that the update actually took place\n",
        "\n",
        "df.info()"
      ],
      "id": "SBg22N43bA17"
    },
    {
      "cell_type": "markdown",
      "metadata": {
        "id": "ae351a97-926e-40af-91e2-4bd12a5bf888",
        "tags": []
      },
      "source": [
        "### Create a `Year Joined` column\n",
        "\n",
        "It is common to encounter situations where you will need to compare the year joined with the year founded. The `Date Joined` column does not just have year—it has the year, month, and date. Extract the year component from the `Date Joined` column and add those year components into a new column to keep track of each company's year joined."
      ],
      "id": "ae351a97-926e-40af-91e2-4bd12a5bf888"
    },
    {
      "cell_type": "code",
      "execution_count": null,
      "metadata": {
        "id": "7d8be21b-d625-4a8a-ad8b-a2e4ae7a2c4e"
      },
      "outputs": [],
      "source": [
        "# Step 1: Use .dt.year to extract year component from Date Joined column\n",
        "# Step 2: Add the result as a new column named Year Joined to the DataFrame\n",
        "\n",
        "df['Year Joined'] = df['Date Joined'].dt.year"
      ],
      "id": "7d8be21b-d625-4a8a-ad8b-a2e4ae7a2c4e"
    },
    {
      "cell_type": "code",
      "execution_count": null,
      "metadata": {
        "id": "eSycjkBTbQB4",
        "outputId": "2b65c6df-8673-4391-8e52-87867d691298"
      },
      "outputs": [
        {
          "data": {
            "text/html": [
              "<div>\n",
              "<style scoped>\n",
              "    .dataframe tbody tr th:only-of-type {\n",
              "        vertical-align: middle;\n",
              "    }\n",
              "\n",
              "    .dataframe tbody tr th {\n",
              "        vertical-align: top;\n",
              "    }\n",
              "\n",
              "    .dataframe thead th {\n",
              "        text-align: right;\n",
              "    }\n",
              "</style>\n",
              "<table border=\"1\" class=\"dataframe\">\n",
              "  <thead>\n",
              "    <tr style=\"text-align: right;\">\n",
              "      <th></th>\n",
              "      <th>Company</th>\n",
              "      <th>Valuation</th>\n",
              "      <th>Date Joined</th>\n",
              "      <th>Industry</th>\n",
              "      <th>City</th>\n",
              "      <th>Country/Region</th>\n",
              "      <th>Continent</th>\n",
              "      <th>Year Founded</th>\n",
              "      <th>Funding</th>\n",
              "      <th>Select Investors</th>\n",
              "      <th>Year Joined</th>\n",
              "    </tr>\n",
              "  </thead>\n",
              "  <tbody>\n",
              "    <tr>\n",
              "      <th>0</th>\n",
              "      <td>Bytedance</td>\n",
              "      <td>$180B</td>\n",
              "      <td>2017-04-07</td>\n",
              "      <td>Artificial intelligence</td>\n",
              "      <td>Beijing</td>\n",
              "      <td>China</td>\n",
              "      <td>Asia</td>\n",
              "      <td>2012</td>\n",
              "      <td>$8B</td>\n",
              "      <td>Sequoia Capital China, SIG Asia Investments, S...</td>\n",
              "      <td>2017</td>\n",
              "    </tr>\n",
              "    <tr>\n",
              "      <th>1</th>\n",
              "      <td>SpaceX</td>\n",
              "      <td>$100B</td>\n",
              "      <td>2012-12-01</td>\n",
              "      <td>Other</td>\n",
              "      <td>Hawthorne</td>\n",
              "      <td>United States</td>\n",
              "      <td>North America</td>\n",
              "      <td>2002</td>\n",
              "      <td>$7B</td>\n",
              "      <td>Founders Fund, Draper Fisher Jurvetson, Rothen...</td>\n",
              "      <td>2012</td>\n",
              "    </tr>\n",
              "    <tr>\n",
              "      <th>2</th>\n",
              "      <td>SHEIN</td>\n",
              "      <td>$100B</td>\n",
              "      <td>2018-07-03</td>\n",
              "      <td>E-commerce &amp; direct-to-consumer</td>\n",
              "      <td>Shenzhen</td>\n",
              "      <td>China</td>\n",
              "      <td>Asia</td>\n",
              "      <td>2008</td>\n",
              "      <td>$2B</td>\n",
              "      <td>Tiger Global Management, Sequoia Capital China...</td>\n",
              "      <td>2018</td>\n",
              "    </tr>\n",
              "    <tr>\n",
              "      <th>3</th>\n",
              "      <td>Stripe</td>\n",
              "      <td>$95B</td>\n",
              "      <td>2014-01-23</td>\n",
              "      <td>Fintech</td>\n",
              "      <td>San Francisco</td>\n",
              "      <td>United States</td>\n",
              "      <td>North America</td>\n",
              "      <td>2010</td>\n",
              "      <td>$2B</td>\n",
              "      <td>Khosla Ventures, LowercaseCapital, capitalG</td>\n",
              "      <td>2014</td>\n",
              "    </tr>\n",
              "    <tr>\n",
              "      <th>4</th>\n",
              "      <td>Klarna</td>\n",
              "      <td>$46B</td>\n",
              "      <td>2011-12-12</td>\n",
              "      <td>Fintech</td>\n",
              "      <td>Stockholm</td>\n",
              "      <td>Sweden</td>\n",
              "      <td>Europe</td>\n",
              "      <td>2005</td>\n",
              "      <td>$4B</td>\n",
              "      <td>Institutional Venture Partners, Sequoia Capita...</td>\n",
              "      <td>2011</td>\n",
              "    </tr>\n",
              "  </tbody>\n",
              "</table>\n",
              "</div>"
            ],
            "text/plain": [
              "     Company Valuation Date Joined                         Industry  \\\n",
              "0  Bytedance     $180B  2017-04-07          Artificial intelligence   \n",
              "1     SpaceX     $100B  2012-12-01                            Other   \n",
              "2      SHEIN     $100B  2018-07-03  E-commerce & direct-to-consumer   \n",
              "3     Stripe      $95B  2014-01-23                          Fintech   \n",
              "4     Klarna      $46B  2011-12-12                          Fintech   \n",
              "\n",
              "            City Country/Region      Continent  Year Founded Funding  \\\n",
              "0        Beijing          China           Asia          2012     $8B   \n",
              "1      Hawthorne  United States  North America          2002     $7B   \n",
              "2       Shenzhen          China           Asia          2008     $2B   \n",
              "3  San Francisco  United States  North America          2010     $2B   \n",
              "4      Stockholm         Sweden         Europe          2005     $4B   \n",
              "\n",
              "                                    Select Investors  Year Joined  \n",
              "0  Sequoia Capital China, SIG Asia Investments, S...         2017  \n",
              "1  Founders Fund, Draper Fisher Jurvetson, Rothen...         2012  \n",
              "2  Tiger Global Management, Sequoia Capital China...         2018  \n",
              "3        Khosla Ventures, LowercaseCapital, capitalG         2014  \n",
              "4  Institutional Venture Partners, Sequoia Capita...         2011  "
            ]
          },
          "execution_count": 20,
          "metadata": {},
          "output_type": "execute_result"
        }
      ],
      "source": [
        "# Use .head() to confirm that the new column did get added\n",
        "\n",
        "df.head()"
      ],
      "id": "eSycjkBTbQB4"
    },
    {
      "cell_type": "markdown",
      "metadata": {
        "id": "B4_yxUrQ2Yhp"
      },
      "source": [
        "## Step 4: Results and evaluation\n"
      ],
      "id": "B4_yxUrQ2Yhp"
    },
    {
      "cell_type": "markdown",
      "metadata": {
        "id": "5a99bfd0-95e9-4ed3-a01a-2e430967f98e",
        "tags": []
      },
      "source": [
        "### Take a sample of the data\n",
        "\n",
        "It is not necessary to take a sample of the data in order to conduct the visualizations and EDA that follow. But you may encounter scenarios in the future where you will need to take a sample of the data due to time and resource limitations. For the purpose of developing your skills around sampling, take a sample of the data and work with that sample for the next steps of analysis you want to conduct. Use the `sample()` function for this task.\n",
        "\n",
        "- Use `sample()` with the `n` parameter set to `50` to randomly sample 50 unicorn companies from the data. Be sure to specify the `random_state` parameter to ensure reproducibility of your work. Save the result to a variable called `companies_sampled`."
      ],
      "id": "5a99bfd0-95e9-4ed3-a01a-2e430967f98e"
    },
    {
      "cell_type": "code",
      "execution_count": null,
      "metadata": {
        "id": "1e5df00e-d64f-417c-b7fc-311a960ecc8c",
        "outputId": "b8e7359a-3ee2-499e-edd3-37ace49a3bd0"
      },
      "outputs": [
        {
          "data": {
            "text/html": [
              "<div>\n",
              "<style scoped>\n",
              "    .dataframe tbody tr th:only-of-type {\n",
              "        vertical-align: middle;\n",
              "    }\n",
              "\n",
              "    .dataframe tbody tr th {\n",
              "        vertical-align: top;\n",
              "    }\n",
              "\n",
              "    .dataframe thead th {\n",
              "        text-align: right;\n",
              "    }\n",
              "</style>\n",
              "<table border=\"1\" class=\"dataframe\">\n",
              "  <thead>\n",
              "    <tr style=\"text-align: right;\">\n",
              "      <th></th>\n",
              "      <th>Company</th>\n",
              "      <th>Valuation</th>\n",
              "      <th>Date Joined</th>\n",
              "      <th>Industry</th>\n",
              "      <th>City</th>\n",
              "      <th>Country/Region</th>\n",
              "      <th>Continent</th>\n",
              "      <th>Year Founded</th>\n",
              "      <th>Funding</th>\n",
              "      <th>Select Investors</th>\n",
              "      <th>Year Joined</th>\n",
              "    </tr>\n",
              "  </thead>\n",
              "  <tbody>\n",
              "    <tr>\n",
              "      <th>542</th>\n",
              "      <td>Aiven</td>\n",
              "      <td>$2B</td>\n",
              "      <td>2021-10-18</td>\n",
              "      <td>Internet software &amp; services</td>\n",
              "      <td>Helsinki</td>\n",
              "      <td>Finland</td>\n",
              "      <td>Europe</td>\n",
              "      <td>2016</td>\n",
              "      <td>$210M</td>\n",
              "      <td>Institutional Venture Partners, Atomico, Early...</td>\n",
              "      <td>2021</td>\n",
              "    </tr>\n",
              "    <tr>\n",
              "      <th>370</th>\n",
              "      <td>Jusfoun Big Data</td>\n",
              "      <td>$2B</td>\n",
              "      <td>2018-07-09</td>\n",
              "      <td>Data management &amp; analytics</td>\n",
              "      <td>Beijing</td>\n",
              "      <td>China</td>\n",
              "      <td>Asia</td>\n",
              "      <td>2010</td>\n",
              "      <td>$137M</td>\n",
              "      <td>Boxin Capital, DT Capital Partners, IDG Capital</td>\n",
              "      <td>2018</td>\n",
              "    </tr>\n",
              "    <tr>\n",
              "      <th>307</th>\n",
              "      <td>Innovaccer</td>\n",
              "      <td>$3B</td>\n",
              "      <td>2021-02-19</td>\n",
              "      <td>Health</td>\n",
              "      <td>San Francisco</td>\n",
              "      <td>United States</td>\n",
              "      <td>North America</td>\n",
              "      <td>2014</td>\n",
              "      <td>$379M</td>\n",
              "      <td>M12, WestBridge Capital, Lightspeed Venture Pa...</td>\n",
              "      <td>2021</td>\n",
              "    </tr>\n",
              "    <tr>\n",
              "      <th>493</th>\n",
              "      <td>Algolia</td>\n",
              "      <td>$2B</td>\n",
              "      <td>2021-07-28</td>\n",
              "      <td>Internet software &amp; services</td>\n",
              "      <td>San Francisco</td>\n",
              "      <td>United States</td>\n",
              "      <td>North America</td>\n",
              "      <td>2012</td>\n",
              "      <td>$334M</td>\n",
              "      <td>Accel, Alven Capital, Storm Ventures</td>\n",
              "      <td>2021</td>\n",
              "    </tr>\n",
              "    <tr>\n",
              "      <th>350</th>\n",
              "      <td>SouChe Holdings</td>\n",
              "      <td>$3B</td>\n",
              "      <td>2017-11-01</td>\n",
              "      <td>E-commerce &amp; direct-to-consumer</td>\n",
              "      <td>Hangzhou</td>\n",
              "      <td>China</td>\n",
              "      <td>Asia</td>\n",
              "      <td>2012</td>\n",
              "      <td>$1B</td>\n",
              "      <td>Morningside Ventures, Warburg Pincus, CreditEa...</td>\n",
              "      <td>2017</td>\n",
              "    </tr>\n",
              "  </tbody>\n",
              "</table>\n",
              "</div>"
            ],
            "text/plain": [
              "              Company Valuation Date Joined                         Industry  \\\n",
              "542             Aiven       $2B  2021-10-18     Internet software & services   \n",
              "370  Jusfoun Big Data       $2B  2018-07-09      Data management & analytics   \n",
              "307        Innovaccer       $3B  2021-02-19                           Health   \n",
              "493           Algolia       $2B  2021-07-28     Internet software & services   \n",
              "350   SouChe Holdings       $3B  2017-11-01  E-commerce & direct-to-consumer   \n",
              "\n",
              "              City Country/Region      Continent  Year Founded Funding  \\\n",
              "542       Helsinki        Finland         Europe          2016   $210M   \n",
              "370        Beijing          China           Asia          2010   $137M   \n",
              "307  San Francisco  United States  North America          2014   $379M   \n",
              "493  San Francisco  United States  North America          2012   $334M   \n",
              "350       Hangzhou          China           Asia          2012     $1B   \n",
              "\n",
              "                                      Select Investors  Year Joined  \n",
              "542  Institutional Venture Partners, Atomico, Early...         2021  \n",
              "370    Boxin Capital, DT Capital Partners, IDG Capital         2018  \n",
              "307  M12, WestBridge Capital, Lightspeed Venture Pa...         2021  \n",
              "493               Accel, Alven Capital, Storm Ventures         2021  \n",
              "350  Morningside Ventures, Warburg Pincus, CreditEa...         2017  "
            ]
          },
          "execution_count": 23,
          "metadata": {},
          "output_type": "execute_result"
        }
      ],
      "source": [
        "# Sample the data\n",
        "\n",
        "companies_sampled = df.sample(n=50, random_state = 42)\n",
        "companies_sampled.head()"
      ],
      "id": "1e5df00e-d64f-417c-b7fc-311a960ecc8c"
    },
    {
      "cell_type": "markdown",
      "metadata": {
        "id": "10beff64-16e0-464d-93f0-03ab61f7069b",
        "tags": []
      },
      "source": [
        "### Visualize the time it took companies to reach unicorn status\n",
        "\n",
        "Visualize the longest time it took companies to reach unicorn status for each industry represented in the sample. To create a bar plot to visualize this, use the `bar()` function from the `matplotlib.pyplot` module. You'll first need to prepare the data."
      ],
      "id": "10beff64-16e0-464d-93f0-03ab61f7069b"
    },
    {
      "cell_type": "code",
      "execution_count": null,
      "metadata": {
        "id": "5fxD5dlQw1Wq"
      },
      "outputs": [],
      "source": [
        "# Prepare data for plotting\n",
        "\n",
        "companies_sampled['Years to Unicorn'] = companies_sampled['Year Joined'] - companies_sampled['Year Founded']\n",
        "\n",
        "companies_grouped = companies_sampled[['Industry', 'Years to Unicorn']].groupby('Industry').max().sort_values(by='Years to Unicorn', ascending = False).reset_index()"
      ],
      "id": "5fxD5dlQw1Wq"
    },
    {
      "cell_type": "code",
      "execution_count": null,
      "metadata": {
        "id": "_OMnoun-w1Wq"
      },
      "outputs": [],
      "source": [
        "# importando os pacotes necessários\n",
        "import numpy as np\n",
        "import plotly.express as px\n",
        "import seaborn as sns\n",
        "import plotly.graph_objects as go\n",
        "import warnings"
      ],
      "id": "_OMnoun-w1Wq"
    },
    {
      "cell_type": "code",
      "execution_count": null,
      "metadata": {
        "id": "-ARBuYaMw1Wr",
        "outputId": "60c49c4f-2804-41d5-fb8f-3531ee95baf6"
      },
      "outputs": [
        {
          "data": {
            "text/html": [
              "<div>\n",
              "<style scoped>\n",
              "    .dataframe tbody tr th:only-of-type {\n",
              "        vertical-align: middle;\n",
              "    }\n",
              "\n",
              "    .dataframe tbody tr th {\n",
              "        vertical-align: top;\n",
              "    }\n",
              "\n",
              "    .dataframe thead th {\n",
              "        text-align: right;\n",
              "    }\n",
              "</style>\n",
              "<table border=\"1\" class=\"dataframe\">\n",
              "  <thead>\n",
              "    <tr style=\"text-align: right;\">\n",
              "      <th></th>\n",
              "      <th>Industry</th>\n",
              "      <th>Years to Unicorn</th>\n",
              "    </tr>\n",
              "  </thead>\n",
              "  <tbody>\n",
              "    <tr>\n",
              "      <th>0</th>\n",
              "      <td>Fintech</td>\n",
              "      <td>21</td>\n",
              "    </tr>\n",
              "    <tr>\n",
              "      <th>1</th>\n",
              "      <td>Health</td>\n",
              "      <td>21</td>\n",
              "    </tr>\n",
              "    <tr>\n",
              "      <th>2</th>\n",
              "      <td>Cybersecurity</td>\n",
              "      <td>19</td>\n",
              "    </tr>\n",
              "    <tr>\n",
              "      <th>3</th>\n",
              "      <td>E-commerce &amp; direct-to-consumer</td>\n",
              "      <td>18</td>\n",
              "    </tr>\n",
              "    <tr>\n",
              "      <th>4</th>\n",
              "      <td>Other</td>\n",
              "      <td>15</td>\n",
              "    </tr>\n",
              "    <tr>\n",
              "      <th>5</th>\n",
              "      <td>Internet software &amp; services</td>\n",
              "      <td>13</td>\n",
              "    </tr>\n",
              "    <tr>\n",
              "      <th>6</th>\n",
              "      <td>Supply chain, logistics, &amp; delivery</td>\n",
              "      <td>12</td>\n",
              "    </tr>\n",
              "    <tr>\n",
              "      <th>7</th>\n",
              "      <td>Mobile &amp; telecommunications</td>\n",
              "      <td>9</td>\n",
              "    </tr>\n",
              "    <tr>\n",
              "      <th>8</th>\n",
              "      <td>Data management &amp; analytics</td>\n",
              "      <td>8</td>\n",
              "    </tr>\n",
              "    <tr>\n",
              "      <th>9</th>\n",
              "      <td>Artificial intelligence</td>\n",
              "      <td>5</td>\n",
              "    </tr>\n",
              "    <tr>\n",
              "      <th>10</th>\n",
              "      <td>Auto &amp; transportation</td>\n",
              "      <td>2</td>\n",
              "    </tr>\n",
              "    <tr>\n",
              "      <th>11</th>\n",
              "      <td>Consumer &amp; retail</td>\n",
              "      <td>1</td>\n",
              "    </tr>\n",
              "  </tbody>\n",
              "</table>\n",
              "</div>"
            ],
            "text/plain": [
              "                               Industry  Years to Unicorn\n",
              "0                               Fintech                21\n",
              "1                                Health                21\n",
              "2                         Cybersecurity                19\n",
              "3       E-commerce & direct-to-consumer                18\n",
              "4                                 Other                15\n",
              "5          Internet software & services                13\n",
              "6   Supply chain, logistics, & delivery                12\n",
              "7           Mobile & telecommunications                 9\n",
              "8           Data management & analytics                 8\n",
              "9               Artificial intelligence                 5\n",
              "10                Auto & transportation                 2\n",
              "11                    Consumer & retail                 1"
            ]
          },
          "execution_count": 35,
          "metadata": {},
          "output_type": "execute_result"
        }
      ],
      "source": [
        "companies_grouped"
      ],
      "id": "-ARBuYaMw1Wr"
    },
    {
      "cell_type": "code",
      "execution_count": null,
      "metadata": {
        "id": "1153ca76-f1e3-4fea-a2db-a5de23614abd",
        "outputId": "f83584ff-3126-45d9-c2cc-b3385271f00a"
      },
      "outputs": [
        {
          "data": {
            "image/png": "[encoded data removed]",
            "text/plain": [
              "<Figure size 1080x648 with 1 Axes>"
            ]
          },
          "metadata": {
            "needs_background": "light"
          },
          "output_type": "display_data"
        }
      ],
      "source": [
        "# Create bar plot\n",
        "# with the various industries as the categories of the bars\n",
        "# and the time it took to reach unicorn status as the height of the bars\n",
        "\n",
        "# defining some colors\n",
        "GREY1, GREY2, GREY3= \"#CFCDCE\", \"#A2A1A3\", \"#787878\"\n",
        "\n",
        "# plotting the bar chart\n",
        "fig, ax = plt.subplots(figsize= (15,9))\n",
        "n_plots = 12\n",
        "palette = sns.color_palette(\"Blues_d\", n_colors=n_plots)\n",
        "palette.reverse()\n",
        "with palette:\n",
        "  ax = sns.barplot(y='Industry' ,x='Years to Unicorn', data=companies_grouped)\n",
        "  # plotar título\n",
        "  plt.text(-3, -2.2, 'Years to become a Unicorn',\n",
        "          fontsize=20,\n",
        "          color=GREY3,\n",
        "          weight='bold')\n",
        "\n",
        "  # plotar subtitulo\n",
        "  plt.text(-3, -1.8,\n",
        "          \"The maximum number of years that a company of each \\n\"\n",
        "          \"Industry spend till become a Unicorn (Sample Data).\",\n",
        "          verticalalignment=\"top\",\n",
        "          fontsize=18,\n",
        "          color=GREY2)\n",
        "\n",
        "  initialx=0\n",
        "\n",
        "  #remover grid\n",
        "  ax.spines['right'].set_visible(False)\n",
        "  ax.spines['left'].set_visible(False)\n",
        "  ax.spines['top'].set_visible(False)\n",
        "  ax.spines['bottom'].set_visible(False)\n",
        "\n",
        "  #remover titulos\n",
        "  ax.set_ylabel('')\n",
        "  ax.set_xlabel('')\n",
        "\n",
        "  plt.tick_params(\n",
        "    axis='both',\n",
        "    which='both',\n",
        "    bottom=False,\n",
        "    top=False,\n",
        "    labelbottom=False)\n",
        "\n",
        "  #adicionar labels\n",
        "  for p in ax.patches:\n",
        "    ax.text(p.get_width(),initialx+p.get_height()/8,'{:1.0f}'.format(p.get_width()))\n",
        "    initialx+=1\n",
        "  plt.show()"
      ],
      "id": "1153ca76-f1e3-4fea-a2db-a5de23614abd"
    },
    {
      "cell_type": "markdown",
      "metadata": {
        "id": "BtgkB4fVudvo",
        "jp-MarkdownHeadingCollapsed": true,
        "tags": []
      },
      "source": [
        "<details>\n",
        "  <summary><h4><strong>Hint 1</strong></h4></summary>\n",
        "\n",
        "To prepare the data for modeling, begin by creating a column that represents the number of years it took each company to reach unicorn status.\n",
        "\n",
        "</details>"
      ],
      "id": "BtgkB4fVudvo"
    },
    {
      "cell_type": "markdown",
      "metadata": {
        "id": "bHCMc83Nudvq",
        "jp-MarkdownHeadingCollapsed": true,
        "tags": []
      },
      "source": [
        "<details>\n",
        "  <summary><h4><strong>Hint 2</strong></h4></summary>\n",
        "    \n",
        "To prepare the data for modeling, group the dataframe by industry and get the maximum value in the newly created column for each industry.\n",
        "\n",
        "</details>"
      ],
      "id": "bHCMc83Nudvq"
    },
    {
      "cell_type": "markdown",
      "metadata": {
        "id": "ttH8ynAyudvr",
        "jp-MarkdownHeadingCollapsed": true,
        "tags": []
      },
      "source": [
        "<details>\n",
        "  <summary><h4><strong>Hint 3</strong></h4></summary>\n",
        "\n",
        "You can use the `plt.bar()` to create the bar plot, passing in the categories and heights of the bars.\n",
        "\n",
        "You can use `plt.title()`, `plt.xlabel()`, and `plt.ylabel()` to set the title, x-axis label, and y-axis label, respectively.\n",
        "\n",
        "You can use `plt.xticks()` to rotate labels on the x-axis of a plot. The parameters `rotation=45, horizontalalignment='right'` can be passed in to rotate the labels by 45 degrees and align the labels to the right.\n",
        "\n",
        "You can use `plt.show()` to display a plot.\n",
        "\n",
        "</details>"
      ],
      "id": "ttH8ynAyudvr"
    },
    {
      "cell_type": "markdown",
      "metadata": {
        "id": "59a1254d-4c99-49a6-b8fa-8dbd26bff000"
      },
      "source": [
        "**Question:** What do you observe from this bar plot?"
      ],
      "id": "59a1254d-4c99-49a6-b8fa-8dbd26bff000"
    },
    {
      "cell_type": "markdown",
      "metadata": {
        "id": "QNdABMI_lUdO"
      },
      "source": [
        "With this sample, we can observe that a company in the Fintech and Health industries spent more years to become a Unicorn, with 21 years, while a company in the Consumer & retail industry spent only one year."
      ],
      "id": "QNdABMI_lUdO"
    },
    {
      "cell_type": "markdown",
      "metadata": {
        "id": "95bc4742-40ff-4f02-ba94-b25f95094e54",
        "tags": []
      },
      "source": [
        "### Visualize the maximum unicorn company valuation per industry\n",
        "\n",
        "Visualize unicorn companies' maximum valuation for each industry represented in the sample. To create a bar plot to visualize this, use the `bar()` function from the `matplotlib.pyplot` module. Before plotting, create a new column that represents the companies' valuations as numbers (instead of strings, as they're currently represented). Then, use this new column to plot your data."
      ],
      "id": "95bc4742-40ff-4f02-ba94-b25f95094e54"
    },
    {
      "cell_type": "code",
      "execution_count": null,
      "metadata": {
        "id": "6MevStpzw1Wr",
        "outputId": "e6cce5e3-d59a-4282-9f6f-1febf8e5264b"
      },
      "outputs": [
        {
          "data": {
            "text/html": [
              "<div>\n",
              "<style scoped>\n",
              "    .dataframe tbody tr th:only-of-type {\n",
              "        vertical-align: middle;\n",
              "    }\n",
              "\n",
              "    .dataframe tbody tr th {\n",
              "        vertical-align: top;\n",
              "    }\n",
              "\n",
              "    .dataframe thead th {\n",
              "        text-align: right;\n",
              "    }\n",
              "</style>\n",
              "<table border=\"1\" class=\"dataframe\">\n",
              "  <thead>\n",
              "    <tr style=\"text-align: right;\">\n",
              "      <th></th>\n",
              "      <th>Company</th>\n",
              "      <th>Valuation</th>\n",
              "      <th>Date Joined</th>\n",
              "      <th>Industry</th>\n",
              "      <th>City</th>\n",
              "      <th>Country/Region</th>\n",
              "      <th>Continent</th>\n",
              "      <th>Year Founded</th>\n",
              "      <th>Funding</th>\n",
              "      <th>Select Investors</th>\n",
              "      <th>Year Joined</th>\n",
              "      <th>Years to Unicorn</th>\n",
              "    </tr>\n",
              "  </thead>\n",
              "  <tbody>\n",
              "    <tr>\n",
              "      <th>542</th>\n",
              "      <td>Aiven</td>\n",
              "      <td>$2B</td>\n",
              "      <td>2021-10-18</td>\n",
              "      <td>Internet software &amp; services</td>\n",
              "      <td>Helsinki</td>\n",
              "      <td>Finland</td>\n",
              "      <td>Europe</td>\n",
              "      <td>2016</td>\n",
              "      <td>$210M</td>\n",
              "      <td>Institutional Venture Partners, Atomico, Early...</td>\n",
              "      <td>2021</td>\n",
              "      <td>5</td>\n",
              "    </tr>\n",
              "    <tr>\n",
              "      <th>370</th>\n",
              "      <td>Jusfoun Big Data</td>\n",
              "      <td>$2B</td>\n",
              "      <td>2018-07-09</td>\n",
              "      <td>Data management &amp; analytics</td>\n",
              "      <td>Beijing</td>\n",
              "      <td>China</td>\n",
              "      <td>Asia</td>\n",
              "      <td>2010</td>\n",
              "      <td>$137M</td>\n",
              "      <td>Boxin Capital, DT Capital Partners, IDG Capital</td>\n",
              "      <td>2018</td>\n",
              "      <td>8</td>\n",
              "    </tr>\n",
              "    <tr>\n",
              "      <th>307</th>\n",
              "      <td>Innovaccer</td>\n",
              "      <td>$3B</td>\n",
              "      <td>2021-02-19</td>\n",
              "      <td>Health</td>\n",
              "      <td>San Francisco</td>\n",
              "      <td>United States</td>\n",
              "      <td>North America</td>\n",
              "      <td>2014</td>\n",
              "      <td>$379M</td>\n",
              "      <td>M12, WestBridge Capital, Lightspeed Venture Pa...</td>\n",
              "      <td>2021</td>\n",
              "      <td>7</td>\n",
              "    </tr>\n",
              "    <tr>\n",
              "      <th>493</th>\n",
              "      <td>Algolia</td>\n",
              "      <td>$2B</td>\n",
              "      <td>2021-07-28</td>\n",
              "      <td>Internet software &amp; services</td>\n",
              "      <td>San Francisco</td>\n",
              "      <td>United States</td>\n",
              "      <td>North America</td>\n",
              "      <td>2012</td>\n",
              "      <td>$334M</td>\n",
              "      <td>Accel, Alven Capital, Storm Ventures</td>\n",
              "      <td>2021</td>\n",
              "      <td>9</td>\n",
              "    </tr>\n",
              "    <tr>\n",
              "      <th>350</th>\n",
              "      <td>SouChe Holdings</td>\n",
              "      <td>$3B</td>\n",
              "      <td>2017-11-01</td>\n",
              "      <td>E-commerce &amp; direct-to-consumer</td>\n",
              "      <td>Hangzhou</td>\n",
              "      <td>China</td>\n",
              "      <td>Asia</td>\n",
              "      <td>2012</td>\n",
              "      <td>$1B</td>\n",
              "      <td>Morningside Ventures, Warburg Pincus, CreditEa...</td>\n",
              "      <td>2017</td>\n",
              "      <td>5</td>\n",
              "    </tr>\n",
              "  </tbody>\n",
              "</table>\n",
              "</div>"
            ],
            "text/plain": [
              "              Company Valuation Date Joined                         Industry  \\\n",
              "542             Aiven       $2B  2021-10-18     Internet software & services   \n",
              "370  Jusfoun Big Data       $2B  2018-07-09      Data management & analytics   \n",
              "307        Innovaccer       $3B  2021-02-19                           Health   \n",
              "493           Algolia       $2B  2021-07-28     Internet software & services   \n",
              "350   SouChe Holdings       $3B  2017-11-01  E-commerce & direct-to-consumer   \n",
              "\n",
              "              City Country/Region      Continent  Year Founded Funding  \\\n",
              "542       Helsinki        Finland         Europe          2016   $210M   \n",
              "370        Beijing          China           Asia          2010   $137M   \n",
              "307  San Francisco  United States  North America          2014   $379M   \n",
              "493  San Francisco  United States  North America          2012   $334M   \n",
              "350       Hangzhou          China           Asia          2012     $1B   \n",
              "\n",
              "                                      Select Investors  Year Joined  \\\n",
              "542  Institutional Venture Partners, Atomico, Early...         2021   \n",
              "370    Boxin Capital, DT Capital Partners, IDG Capital         2018   \n",
              "307  M12, WestBridge Capital, Lightspeed Venture Pa...         2021   \n",
              "493               Accel, Alven Capital, Storm Ventures         2021   \n",
              "350  Morningside Ventures, Warburg Pincus, CreditEa...         2017   \n",
              "\n",
              "     Years to Unicorn  \n",
              "542                 5  \n",
              "370                 8  \n",
              "307                 7  \n",
              "493                 9  \n",
              "350                 5  "
            ]
          },
          "execution_count": 51,
          "metadata": {},
          "output_type": "execute_result"
        }
      ],
      "source": [
        "# Create a column representing company valuation as numeric data\n",
        "\n",
        "companies_sampled.head()"
      ],
      "id": "6MevStpzw1Wr"
    },
    {
      "cell_type": "code",
      "execution_count": null,
      "metadata": {
        "scrolled": true,
        "id": "dur0AkDsw1Wr",
        "outputId": "25789cce-f7fa-4fb5-dae8-97b943c357fd"
      },
      "outputs": [
        {
          "data": {
            "text/html": [
              "<div>\n",
              "<style scoped>\n",
              "    .dataframe tbody tr th:only-of-type {\n",
              "        vertical-align: middle;\n",
              "    }\n",
              "\n",
              "    .dataframe tbody tr th {\n",
              "        vertical-align: top;\n",
              "    }\n",
              "\n",
              "    .dataframe thead th {\n",
              "        text-align: right;\n",
              "    }\n",
              "</style>\n",
              "<table border=\"1\" class=\"dataframe\">\n",
              "  <thead>\n",
              "    <tr style=\"text-align: right;\">\n",
              "      <th></th>\n",
              "      <th>Company</th>\n",
              "      <th>Valuation</th>\n",
              "      <th>Date Joined</th>\n",
              "      <th>Industry</th>\n",
              "      <th>City</th>\n",
              "      <th>Country/Region</th>\n",
              "      <th>Continent</th>\n",
              "      <th>Year Founded</th>\n",
              "      <th>Funding</th>\n",
              "      <th>Select Investors</th>\n",
              "      <th>Year Joined</th>\n",
              "      <th>Years to Unicorn</th>\n",
              "      <th>Valuation in Billions</th>\n",
              "    </tr>\n",
              "  </thead>\n",
              "  <tbody>\n",
              "    <tr>\n",
              "      <th>542</th>\n",
              "      <td>Aiven</td>\n",
              "      <td>$2B</td>\n",
              "      <td>2021-10-18</td>\n",
              "      <td>Internet software &amp; services</td>\n",
              "      <td>Helsinki</td>\n",
              "      <td>Finland</td>\n",
              "      <td>Europe</td>\n",
              "      <td>2016</td>\n",
              "      <td>$210M</td>\n",
              "      <td>Institutional Venture Partners, Atomico, Early...</td>\n",
              "      <td>2021</td>\n",
              "      <td>5</td>\n",
              "      <td>2</td>\n",
              "    </tr>\n",
              "    <tr>\n",
              "      <th>370</th>\n",
              "      <td>Jusfoun Big Data</td>\n",
              "      <td>$2B</td>\n",
              "      <td>2018-07-09</td>\n",
              "      <td>Data management &amp; analytics</td>\n",
              "      <td>Beijing</td>\n",
              "      <td>China</td>\n",
              "      <td>Asia</td>\n",
              "      <td>2010</td>\n",
              "      <td>$137M</td>\n",
              "      <td>Boxin Capital, DT Capital Partners, IDG Capital</td>\n",
              "      <td>2018</td>\n",
              "      <td>8</td>\n",
              "      <td>2</td>\n",
              "    </tr>\n",
              "    <tr>\n",
              "      <th>307</th>\n",
              "      <td>Innovaccer</td>\n",
              "      <td>$3B</td>\n",
              "      <td>2021-02-19</td>\n",
              "      <td>Health</td>\n",
              "      <td>San Francisco</td>\n",
              "      <td>United States</td>\n",
              "      <td>North America</td>\n",
              "      <td>2014</td>\n",
              "      <td>$379M</td>\n",
              "      <td>M12, WestBridge Capital, Lightspeed Venture Pa...</td>\n",
              "      <td>2021</td>\n",
              "      <td>7</td>\n",
              "      <td>3</td>\n",
              "    </tr>\n",
              "    <tr>\n",
              "      <th>493</th>\n",
              "      <td>Algolia</td>\n",
              "      <td>$2B</td>\n",
              "      <td>2021-07-28</td>\n",
              "      <td>Internet software &amp; services</td>\n",
              "      <td>San Francisco</td>\n",
              "      <td>United States</td>\n",
              "      <td>North America</td>\n",
              "      <td>2012</td>\n",
              "      <td>$334M</td>\n",
              "      <td>Accel, Alven Capital, Storm Ventures</td>\n",
              "      <td>2021</td>\n",
              "      <td>9</td>\n",
              "      <td>2</td>\n",
              "    </tr>\n",
              "    <tr>\n",
              "      <th>350</th>\n",
              "      <td>SouChe Holdings</td>\n",
              "      <td>$3B</td>\n",
              "      <td>2017-11-01</td>\n",
              "      <td>E-commerce &amp; direct-to-consumer</td>\n",
              "      <td>Hangzhou</td>\n",
              "      <td>China</td>\n",
              "      <td>Asia</td>\n",
              "      <td>2012</td>\n",
              "      <td>$1B</td>\n",
              "      <td>Morningside Ventures, Warburg Pincus, CreditEa...</td>\n",
              "      <td>2017</td>\n",
              "      <td>5</td>\n",
              "      <td>3</td>\n",
              "    </tr>\n",
              "  </tbody>\n",
              "</table>\n",
              "</div>"
            ],
            "text/plain": [
              "              Company Valuation Date Joined                         Industry  \\\n",
              "542             Aiven       $2B  2021-10-18     Internet software & services   \n",
              "370  Jusfoun Big Data       $2B  2018-07-09      Data management & analytics   \n",
              "307        Innovaccer       $3B  2021-02-19                           Health   \n",
              "493           Algolia       $2B  2021-07-28     Internet software & services   \n",
              "350   SouChe Holdings       $3B  2017-11-01  E-commerce & direct-to-consumer   \n",
              "\n",
              "              City Country/Region      Continent  Year Founded Funding  \\\n",
              "542       Helsinki        Finland         Europe          2016   $210M   \n",
              "370        Beijing          China           Asia          2010   $137M   \n",
              "307  San Francisco  United States  North America          2014   $379M   \n",
              "493  San Francisco  United States  North America          2012   $334M   \n",
              "350       Hangzhou          China           Asia          2012     $1B   \n",
              "\n",
              "                                      Select Investors  Year Joined  \\\n",
              "542  Institutional Venture Partners, Atomico, Early...         2021   \n",
              "370    Boxin Capital, DT Capital Partners, IDG Capital         2018   \n",
              "307  M12, WestBridge Capital, Lightspeed Venture Pa...         2021   \n",
              "493               Accel, Alven Capital, Storm Ventures         2021   \n",
              "350  Morningside Ventures, Warburg Pincus, CreditEa...         2017   \n",
              "\n",
              "     Years to Unicorn  Valuation in Billions  \n",
              "542                 5                      2  \n",
              "370                 8                      2  \n",
              "307                 7                      3  \n",
              "493                 9                      2  \n",
              "350                 5                      3  "
            ]
          },
          "execution_count": 54,
          "metadata": {},
          "output_type": "execute_result"
        }
      ],
      "source": [
        "companies_sampled['Valuation in Billions'] = companies_sampled['Valuation']\n",
        "companies_sampled['Valuation in Billions'] = companies_sampled['Valuation in Billions'].str.replace('$', '')\n",
        "companies_sampled['Valuation in Billions'] = companies_sampled['Valuation in Billions'].str.replace('B', '')\n",
        "companies_sampled['Valuation in Billions'] = companies_sampled['Valuation in Billions'].astype('int')\n",
        "companies_sampled.head()"
      ],
      "id": "dur0AkDsw1Wr"
    },
    {
      "cell_type": "code",
      "execution_count": null,
      "metadata": {
        "id": "LGC-rB8Mw1Ws",
        "outputId": "47866a08-fd4c-4be1-84eb-22c7f7df23bf"
      },
      "outputs": [
        {
          "data": {
            "text/html": [
              "<div>\n",
              "<style scoped>\n",
              "    .dataframe tbody tr th:only-of-type {\n",
              "        vertical-align: middle;\n",
              "    }\n",
              "\n",
              "    .dataframe tbody tr th {\n",
              "        vertical-align: top;\n",
              "    }\n",
              "\n",
              "    .dataframe thead th {\n",
              "        text-align: right;\n",
              "    }\n",
              "</style>\n",
              "<table border=\"1\" class=\"dataframe\">\n",
              "  <thead>\n",
              "    <tr style=\"text-align: right;\">\n",
              "      <th></th>\n",
              "      <th>Industry</th>\n",
              "      <th>Valuation in Billions</th>\n",
              "    </tr>\n",
              "  </thead>\n",
              "  <tbody>\n",
              "    <tr>\n",
              "      <th>0</th>\n",
              "      <td>Artificial intelligence</td>\n",
              "      <td>12</td>\n",
              "    </tr>\n",
              "    <tr>\n",
              "      <th>1</th>\n",
              "      <td>Fintech</td>\n",
              "      <td>10</td>\n",
              "    </tr>\n",
              "    <tr>\n",
              "      <th>2</th>\n",
              "      <td>Mobile &amp; telecommunications</td>\n",
              "      <td>7</td>\n",
              "    </tr>\n",
              "    <tr>\n",
              "      <th>3</th>\n",
              "      <td>Internet software &amp; services</td>\n",
              "      <td>5</td>\n",
              "    </tr>\n",
              "    <tr>\n",
              "      <th>4</th>\n",
              "      <td>Data management &amp; analytics</td>\n",
              "      <td>4</td>\n",
              "    </tr>\n",
              "    <tr>\n",
              "      <th>5</th>\n",
              "      <td>E-commerce &amp; direct-to-consumer</td>\n",
              "      <td>4</td>\n",
              "    </tr>\n",
              "    <tr>\n",
              "      <th>6</th>\n",
              "      <td>Cybersecurity</td>\n",
              "      <td>3</td>\n",
              "    </tr>\n",
              "    <tr>\n",
              "      <th>7</th>\n",
              "      <td>Health</td>\n",
              "      <td>3</td>\n",
              "    </tr>\n",
              "    <tr>\n",
              "      <th>8</th>\n",
              "      <td>Other</td>\n",
              "      <td>2</td>\n",
              "    </tr>\n",
              "    <tr>\n",
              "      <th>9</th>\n",
              "      <td>Supply chain, logistics, &amp; delivery</td>\n",
              "      <td>2</td>\n",
              "    </tr>\n",
              "    <tr>\n",
              "      <th>10</th>\n",
              "      <td>Auto &amp; transportation</td>\n",
              "      <td>1</td>\n",
              "    </tr>\n",
              "    <tr>\n",
              "      <th>11</th>\n",
              "      <td>Consumer &amp; retail</td>\n",
              "      <td>1</td>\n",
              "    </tr>\n",
              "  </tbody>\n",
              "</table>\n",
              "</div>"
            ],
            "text/plain": [
              "                               Industry  Valuation in Billions\n",
              "0               Artificial intelligence                     12\n",
              "1                               Fintech                     10\n",
              "2           Mobile & telecommunications                      7\n",
              "3          Internet software & services                      5\n",
              "4           Data management & analytics                      4\n",
              "5       E-commerce & direct-to-consumer                      4\n",
              "6                         Cybersecurity                      3\n",
              "7                                Health                      3\n",
              "8                                 Other                      2\n",
              "9   Supply chain, logistics, & delivery                      2\n",
              "10                Auto & transportation                      1\n",
              "11                    Consumer & retail                      1"
            ]
          },
          "execution_count": 55,
          "metadata": {},
          "output_type": "execute_result"
        }
      ],
      "source": [
        "companies_valuation_grouped = companies_sampled[['Industry', 'Valuation in Billions']].groupby('Industry').max().sort_values(by='Valuation in Billions', ascending = False).reset_index()\n",
        "companies_valuation_grouped"
      ],
      "id": "LGC-rB8Mw1Ws"
    },
    {
      "cell_type": "code",
      "execution_count": null,
      "metadata": {
        "id": "5ccf1d5e-877e-4e73-bba8-23875c72494d",
        "outputId": "3e885a6d-c850-4cd7-d075-6b9d045ef902"
      },
      "outputs": [
        {
          "data": {
            "image/png": "[encoded data removed]",
            "text/plain": [
              "<Figure size 1080x648 with 1 Axes>"
            ]
          },
          "metadata": {
            "needs_background": "light"
          },
          "output_type": "display_data"
        }
      ],
      "source": [
        "# Create bar plot\n",
        "# with the various industries as the categories of the bars\n",
        "# and the maximum valuation for each industry as the height of the bars\n",
        "\n",
        "# plotting the bar chart\n",
        "fig, ax = plt.subplots(figsize= (15,9))\n",
        "n_plots = 12\n",
        "palette = sns.color_palette(\"Blues_d\", n_colors=n_plots)\n",
        "palette.reverse()\n",
        "with palette:\n",
        "  ax = sns.barplot(y='Industry' ,x='Valuation in Billions', data=companies_valuation_grouped)\n",
        "  # plotar título\n",
        "  plt.text(-2, -2.2, 'Valuation in Billions',\n",
        "          fontsize=20,\n",
        "          color=GREY3,\n",
        "          weight='bold')\n",
        "\n",
        "  # plotar subtitulo\n",
        "  plt.text(-2, -1.8,\n",
        "          \"The maximum valuation in billions of companies \\n\"\n",
        "          \"of each industry (Sample Data).\",\n",
        "          verticalalignment=\"top\",\n",
        "          fontsize=18,\n",
        "          color=GREY2)\n",
        "\n",
        "  initialx=0\n",
        "\n",
        "  #remover grid\n",
        "  ax.spines['right'].set_visible(False)\n",
        "  ax.spines['left'].set_visible(False)\n",
        "  ax.spines['top'].set_visible(False)\n",
        "  ax.spines['bottom'].set_visible(False)\n",
        "\n",
        "  #remover titulos\n",
        "  ax.set_ylabel('')\n",
        "  ax.set_xlabel('')\n",
        "\n",
        "  plt.tick_params(\n",
        "    axis='both',\n",
        "    which='both',\n",
        "    bottom=False,\n",
        "    top=False,\n",
        "    labelbottom=False)\n",
        "\n",
        "  #adicionar labels\n",
        "  for p in ax.patches:\n",
        "    ax.text(p.get_width(),initialx+p.get_height()/8,'{:1.0f}'.format(p.get_width()))\n",
        "    initialx+=1\n",
        "  plt.show()"
      ],
      "id": "5ccf1d5e-877e-4e73-bba8-23875c72494d"
    },
    {
      "cell_type": "markdown",
      "metadata": {
        "id": "NnL6YrfFoA3G",
        "jp-MarkdownHeadingCollapsed": true,
        "tags": []
      },
      "source": [
        "<details>\n",
        "  <summary><h4><strong>Hint 1</strong></h4></summary>\n",
        "\n",
        "Repeat the process from the last task, only this time with different variables.\n",
        "</details>"
      ],
      "id": "NnL6YrfFoA3G"
    },
    {
      "cell_type": "markdown",
      "metadata": {
        "id": "bo8rC9dZoA3H",
        "jp-MarkdownHeadingCollapsed": true,
        "tags": []
      },
      "source": [
        "<details>\n",
        "  <summary><h4><strong>Hint 2</strong></h4></summary>\n",
        "\n",
        "Use the function in the `matplotlib.pyplot` module that allows you to create a bar plot, specifying the category and height for each bar.\n",
        "\n",
        "Use the functions in the `matplotlib.pyplot` module that allow you to set the title, x-axis label, and y-axis label of plots. In that module, there are also functions for rotating the labels on the x-axis and displaying the plot.\n",
        "\n",
        "</details>"
      ],
      "id": "bo8rC9dZoA3H"
    },
    {
      "cell_type": "markdown",
      "metadata": {
        "id": "TkeTAsUooA3J",
        "jp-MarkdownHeadingCollapsed": true,
        "tags": []
      },
      "source": [
        "<details>\n",
        "  <summary><h4><strong>Hint 3</strong></h4></summary>\n",
        "\n",
        "Use the `plt.bar()` to create the bar plot, passing in the categories and heights of the bars.\n",
        "\n",
        "Use `plt.title()`, `plt.xlabel()`, and `plt.ylabel()` to set the title, x-axis label, and y-axis label, respectively.\n",
        "\n",
        "Use `plt.xticks()` to rotate labels on the x-axis of a plot. The parameters `rotation=45, horizontalalignment='right'` can be passed in to rotate the labels by 45 degrees and align the labels to the right.\n",
        "\n",
        "Use `plt.show()` to display a plot.\n",
        "\n",
        "</details>"
      ],
      "id": "TkeTAsUooA3J"
    },
    {
      "cell_type": "markdown",
      "metadata": {
        "id": "441c0e4b-56bf-413c-9d40-abe1e5f13253"
      },
      "source": [
        "**Question:** What do you observe from this bar plot?"
      ],
      "id": "441c0e4b-56bf-413c-9d40-abe1e5f13253"
    },
    {
      "cell_type": "markdown",
      "metadata": {
        "id": "p_XNHFiPlVvA"
      },
      "source": [
        "With this bar chart of our sample, we can observe that a company in the Artificial Intelligence industry has the maximum valuation in billions (12), while a company in the Consumer & retail industry has only a one billion valuation as maximum."
      ],
      "id": "p_XNHFiPlVvA"
    },
    {
      "cell_type": "markdown",
      "metadata": {
        "id": "c77e7f0f-d2b9-4464-8a7c-9575d1e1ef9f"
      },
      "source": [
        "## Considerations"
      ],
      "id": "c77e7f0f-d2b9-4464-8a7c-9575d1e1ef9f"
    },
    {
      "cell_type": "markdown",
      "metadata": {
        "id": "uPq1FOvCZI6w"
      },
      "source": [
        "**What are some key takeaways that you learned from this lab?**"
      ],
      "id": "uPq1FOvCZI6w"
    },
    {
      "cell_type": "markdown",
      "metadata": {
        "id": "nOPK-j3sZLsm"
      },
      "source": [
        "Pandas, matplotlib, and Seaborn are incredible tools for EDA. We can make some preparations easily and visualize data with an incredible precision."
      ],
      "id": "nOPK-j3sZLsm"
    },
    {
      "cell_type": "markdown",
      "metadata": {
        "id": "d2NnpyO_ZL6x"
      },
      "source": [
        "**What findings would you share with others?**"
      ],
      "id": "d2NnpyO_ZL6x"
    },
    {
      "cell_type": "markdown",
      "metadata": {
        "id": "goG0jEeQZOIr"
      },
      "source": [
        "Some findings stood out:\n",
        "* We have 1074 unicorn companies in our dataset.\n",
        "* We have a company that probably grew faster because it was founded in 2021 and became a unicorn in 3-4 years.\n",
        "* We observed that a company in the Fintech and Health industries spent more years to become a Unicorn, with 21 years, while a company in the Consumer & retail industry spent only one year.\n",
        "* We also noticed that a company in the Artificial Intelligence industry has the maximum valuation in billions (12), while a company in the Consumer and retail industry has a maximum valuation of one billion.\n"
      ],
      "id": "goG0jEeQZOIr"
    },
    {
      "cell_type": "markdown",
      "metadata": {
        "id": "TLioKMc0ZTZi"
      },
      "source": [
        "**What recommendations would you share with stakeholders based on these findings?**"
      ],
      "id": "TLioKMc0ZTZi"
    },
    {
      "cell_type": "markdown",
      "metadata": {
        "id": "mVFm54BfZTv5"
      },
      "source": [
        "It could be interesting to focus on specific companies based on the years that they spent to become unicorns and on those that have the best valuation. With that in mind, conduct a close investigation and analysis to understand why they spent those years and how they achieved that valuation."
      ],
      "id": "mVFm54BfZTv5"
    },
    {
      "cell_type": "markdown",
      "metadata": {
        "id": "R9sAADZgr-YI"
      },
      "source": [
        "**References**\n",
        "\n",
        "Bhat, M.A. (2022, March). [*Unicorn Companies*](https://www.kaggle.com/datasets/mysarahmadbhat/unicorn-companies).\n",
        "\n"
      ],
      "id": "R9sAADZgr-YI"
    },
    {
      "cell_type": "markdown",
      "metadata": {
        "id": "HpO5PLTew1Ws"
      },
      "source": [
        "**Congratulations!** You've completed this lab. However, you may not notice a green check mark next to this item on Coursera's platform. Please continue your progress regardless of the check mark. Just click on the \"save\" icon at the top of this notebook to ensure your work has been logged."
      ],
      "id": "HpO5PLTew1Ws"
    }
  ],
  "metadata": {
    "colab": {
      "provenance": [],
      "include_colab_link": true
    },
    "kernelspec": {
      "display_name": "Python 3",
      "language": "python",
      "name": "python3"
    },
    "language_info": {
      "codemirror_mode": {
        "name": "ipython",
        "version": 3
      },
      "file_extension": ".py",
      "mimetype": "text/x-python",
      "name": "python",
      "nbconvert_exporter": "python",
      "pygments_lexer": "ipython3",
      "version": "3.7.6"
    },
    "toc-autonumbering": false,
    "toc-showtags": false
  },
  "nbformat": 4,
  "nbformat_minor": 5
}
