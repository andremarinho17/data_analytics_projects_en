{
  "cells": [
    {
      "cell_type": "markdown",
      "metadata": {
        "id": "view-in-github",
        "colab_type": "text"
      },
      "source": [
        "<a href=\"https://colab.research.google.com/github/andremarinho17/data_analytics_projects_en/blob/main/Activity_Perform_logistic_regression.ipynb\" target=\"_parent\"><img src=\"https://colab.research.google.com/assets/colab-badge.svg\" alt=\"Open In Colab\"/></a>"
      ]
    },
    {
      "cell_type": "markdown",
      "metadata": {
        "id": "700acefd-8120-42a9-a650-c610467e2a4c"
      },
      "source": [
        "# Activity: Perform logistic regression to predict customer satisfaction for an airline company\n",
        "\n",
        "<p align=\"center\"><img src=\"https://cdn.shopify.com/s/files/1/0657/3100/2634/files/Papier_peint_avion_Decollage_en_style_pop_art_et_colore.jpg?v=1712910949\" >\n",
        "\n",
        "\n",
        "\n",
        "**Author**: André Marinho\n",
        "\n",
        "## Introduction\n",
        "\n",
        "In this activity, you will complete an effective bionomial logistic regression. This exercise will help you better understand the value of using logistic regression to make predictions for a dependent variable based on one independent variable and help you build confidence in practicing logistic regression. Because logistic regression is leveraged across a wide array of industries, becoming proficient in this process will help you expand your skill set in a widely-applicable way.   \n",
        "\n",
        "For this activity, you work as a consultant for an airline. The airline is interested in knowing if a better in-flight entertainment experience leads to higher customer satisfaction. They would like you to construct and evaluate a model that predicts whether a future customer would be satisfied with their services given previous customer feedback about their flight experience.\n",
        "\n",
        "The data for this activity is for a sample size of 129,880 customers. It includes data points such as class, flight distance, and in-flight entertainment, among others. Your goal will be to utilize a binomial logistic regression model to help the airline model and better understand this data.\n",
        "\n",
        "Because this activity uses a dataset from the industry, you will need to conduct basic EDA, data cleaning, and other manipulations to prepare the data for modeling.\n",
        "\n",
        "In this activity, you will practice the following skills:\n",
        "\n",
        "* Importing packages and loading data\n",
        "* Exploring the data and completing the cleaning process\n",
        "* Building a binomial logistic regression model\n",
        "* Evaluating a binomial logistic regression model using a confusion matrix"
      ],
      "id": "700acefd-8120-42a9-a650-c610467e2a4c"
    },
    {
      "cell_type": "markdown",
      "metadata": {
        "id": "b42252b9-b980-4ee0-8cfd-82f4239b6d1a"
      },
      "source": [
        "## Step 1: Imports\n",
        "\n",
        "### Import packages\n",
        "\n",
        "Import relevant Python packages. Use `train_test_split`, `LogisticRegression`, and various imports from `sklearn.metrics` to build, visualize, and evalute the model."
      ],
      "id": "b42252b9-b980-4ee0-8cfd-82f4239b6d1a"
    },
    {
      "cell_type": "code",
      "execution_count": null,
      "metadata": {
        "id": "aacf7b0d-d652-46c4-a9fc-f1ff377bdd0c"
      },
      "outputs": [],
      "source": [
        "### YOUR CODE HERE ###\n",
        "\n",
        "# Standard operational package imports.\n",
        "import math\n",
        "import numpy as np\n",
        "import pandas as pd\n",
        "\n",
        "# Important imports for preprocessing, modeling, and evaluation.\n",
        "from sklearn.preprocessing import OneHotEncoder\n",
        "from sklearn.model_selection import train_test_split\n",
        "from sklearn.linear_model import LogisticRegression\n",
        "import sklearn.metrics as metrics\n",
        "\n",
        "# Visualization package imports.\n",
        "import matplotlib.pyplot as plt\n",
        "import seaborn as sns"
      ],
      "id": "aacf7b0d-d652-46c4-a9fc-f1ff377bdd0c"
    },
    {
      "cell_type": "markdown",
      "metadata": {
        "id": "6b7f8803-44ee-47cf-b97a-efaf5c0fdd59",
        "tags": []
      },
      "source": [
        "### Load the dataset"
      ],
      "id": "6b7f8803-44ee-47cf-b97a-efaf5c0fdd59"
    },
    {
      "cell_type": "markdown",
      "metadata": {
        "id": "a60990fd-4723-4a2b-a0db-9dfa6c7c881c"
      },
      "source": [
        "The dataset **Invistico_Airline.csv** is loaded. The resulting pandas DataFrame is saved as a variable named `df_original`. As shown in this cell, the dataset has been automatically loaded in for you. You do not need to download the .csv file, or provide more code, in order to access the dataset and proceed with this lab. Please continue with this activity by completing the following instructions."
      ],
      "id": "a60990fd-4723-4a2b-a0db-9dfa6c7c881c"
    },
    {
      "cell_type": "code",
      "execution_count": null,
      "metadata": {
        "id": "80535d2f-8b1a-4715-b07a-f3734d8cc4c5"
      },
      "outputs": [],
      "source": [
        "# RUN THIS CELL TO IMPORT YOUR DATA.\n",
        "\n",
        "### YOUR CODE HERE ###\n",
        "df = pd.read_csv(\"Invistico_Airline.csv\")"
      ],
      "id": "80535d2f-8b1a-4715-b07a-f3734d8cc4c5"
    },
    {
      "cell_type": "markdown",
      "metadata": {
        "id": "89bb17ce"
      },
      "source": [
        "<details>\n",
        "  <summary><h4><strong>Hint 1</strong></h4></summary>\n",
        "\n",
        "Use a function from the pandas library to read in the csv file.\n",
        "    \n",
        "</details>"
      ],
      "id": "89bb17ce"
    },
    {
      "cell_type": "markdown",
      "metadata": {
        "id": "cfa6d683"
      },
      "source": [
        "<details>\n",
        "  <summary><h4><strong>Hint 2</strong></h4></summary>\n",
        "\n",
        "Use the `read_csv` function and pass in the file name as a string.\n",
        "\n",
        "</details>"
      ],
      "id": "cfa6d683"
    },
    {
      "cell_type": "markdown",
      "metadata": {
        "id": "7388433e"
      },
      "source": [
        "<details>\n",
        "  <summary><h4><strong>Hint 3</strong></h4></summary>\n",
        "\n",
        "Use `pd.read_csv(\"insertfilenamehere\")`.\n",
        "\n",
        "</details>"
      ],
      "id": "7388433e"
    },
    {
      "cell_type": "markdown",
      "metadata": {
        "id": "46448192-f2f8-4f78-9f76-6e4bb699da7b"
      },
      "source": [
        "### Output the first 10 rows\n",
        "\n",
        "Output the first 10 rows of data."
      ],
      "id": "46448192-f2f8-4f78-9f76-6e4bb699da7b"
    },
    {
      "cell_type": "code",
      "execution_count": null,
      "metadata": {
        "id": "U8JZjN-zJwx6",
        "outputId": "149474cb-cb4f-4743-ea2e-7f3a57eb5b7b"
      },
      "outputs": [
        {
          "data": {
            "text/html": [
              "<div>\n",
              "<style scoped>\n",
              "    .dataframe tbody tr th:only-of-type {\n",
              "        vertical-align: middle;\n",
              "    }\n",
              "\n",
              "    .dataframe tbody tr th {\n",
              "        vertical-align: top;\n",
              "    }\n",
              "\n",
              "    .dataframe thead th {\n",
              "        text-align: right;\n",
              "    }\n",
              "</style>\n",
              "<table border=\"1\" class=\"dataframe\">\n",
              "  <thead>\n",
              "    <tr style=\"text-align: right;\">\n",
              "      <th></th>\n",
              "      <th>satisfaction</th>\n",
              "      <th>Customer Type</th>\n",
              "      <th>Age</th>\n",
              "      <th>Type of Travel</th>\n",
              "      <th>Class</th>\n",
              "      <th>Flight Distance</th>\n",
              "      <th>Seat comfort</th>\n",
              "      <th>Departure/Arrival time convenient</th>\n",
              "      <th>Food and drink</th>\n",
              "      <th>Gate location</th>\n",
              "      <th>...</th>\n",
              "      <th>Online support</th>\n",
              "      <th>Ease of Online booking</th>\n",
              "      <th>On-board service</th>\n",
              "      <th>Leg room service</th>\n",
              "      <th>Baggage handling</th>\n",
              "      <th>Checkin service</th>\n",
              "      <th>Cleanliness</th>\n",
              "      <th>Online boarding</th>\n",
              "      <th>Departure Delay in Minutes</th>\n",
              "      <th>Arrival Delay in Minutes</th>\n",
              "    </tr>\n",
              "  </thead>\n",
              "  <tbody>\n",
              "    <tr>\n",
              "      <th>0</th>\n",
              "      <td>satisfied</td>\n",
              "      <td>Loyal Customer</td>\n",
              "      <td>65</td>\n",
              "      <td>Personal Travel</td>\n",
              "      <td>Eco</td>\n",
              "      <td>265</td>\n",
              "      <td>0</td>\n",
              "      <td>0</td>\n",
              "      <td>0</td>\n",
              "      <td>2</td>\n",
              "      <td>...</td>\n",
              "      <td>2</td>\n",
              "      <td>3</td>\n",
              "      <td>3</td>\n",
              "      <td>0</td>\n",
              "      <td>3</td>\n",
              "      <td>5</td>\n",
              "      <td>3</td>\n",
              "      <td>2</td>\n",
              "      <td>0</td>\n",
              "      <td>0.0</td>\n",
              "    </tr>\n",
              "    <tr>\n",
              "      <th>1</th>\n",
              "      <td>satisfied</td>\n",
              "      <td>Loyal Customer</td>\n",
              "      <td>47</td>\n",
              "      <td>Personal Travel</td>\n",
              "      <td>Business</td>\n",
              "      <td>2464</td>\n",
              "      <td>0</td>\n",
              "      <td>0</td>\n",
              "      <td>0</td>\n",
              "      <td>3</td>\n",
              "      <td>...</td>\n",
              "      <td>2</td>\n",
              "      <td>3</td>\n",
              "      <td>4</td>\n",
              "      <td>4</td>\n",
              "      <td>4</td>\n",
              "      <td>2</td>\n",
              "      <td>3</td>\n",
              "      <td>2</td>\n",
              "      <td>310</td>\n",
              "      <td>305.0</td>\n",
              "    </tr>\n",
              "    <tr>\n",
              "      <th>2</th>\n",
              "      <td>satisfied</td>\n",
              "      <td>Loyal Customer</td>\n",
              "      <td>15</td>\n",
              "      <td>Personal Travel</td>\n",
              "      <td>Eco</td>\n",
              "      <td>2138</td>\n",
              "      <td>0</td>\n",
              "      <td>0</td>\n",
              "      <td>0</td>\n",
              "      <td>3</td>\n",
              "      <td>...</td>\n",
              "      <td>2</td>\n",
              "      <td>2</td>\n",
              "      <td>3</td>\n",
              "      <td>3</td>\n",
              "      <td>4</td>\n",
              "      <td>4</td>\n",
              "      <td>4</td>\n",
              "      <td>2</td>\n",
              "      <td>0</td>\n",
              "      <td>0.0</td>\n",
              "    </tr>\n",
              "    <tr>\n",
              "      <th>3</th>\n",
              "      <td>satisfied</td>\n",
              "      <td>Loyal Customer</td>\n",
              "      <td>60</td>\n",
              "      <td>Personal Travel</td>\n",
              "      <td>Eco</td>\n",
              "      <td>623</td>\n",
              "      <td>0</td>\n",
              "      <td>0</td>\n",
              "      <td>0</td>\n",
              "      <td>3</td>\n",
              "      <td>...</td>\n",
              "      <td>3</td>\n",
              "      <td>1</td>\n",
              "      <td>1</td>\n",
              "      <td>0</td>\n",
              "      <td>1</td>\n",
              "      <td>4</td>\n",
              "      <td>1</td>\n",
              "      <td>3</td>\n",
              "      <td>0</td>\n",
              "      <td>0.0</td>\n",
              "    </tr>\n",
              "    <tr>\n",
              "      <th>4</th>\n",
              "      <td>satisfied</td>\n",
              "      <td>Loyal Customer</td>\n",
              "      <td>70</td>\n",
              "      <td>Personal Travel</td>\n",
              "      <td>Eco</td>\n",
              "      <td>354</td>\n",
              "      <td>0</td>\n",
              "      <td>0</td>\n",
              "      <td>0</td>\n",
              "      <td>3</td>\n",
              "      <td>...</td>\n",
              "      <td>4</td>\n",
              "      <td>2</td>\n",
              "      <td>2</td>\n",
              "      <td>0</td>\n",
              "      <td>2</td>\n",
              "      <td>4</td>\n",
              "      <td>2</td>\n",
              "      <td>5</td>\n",
              "      <td>0</td>\n",
              "      <td>0.0</td>\n",
              "    </tr>\n",
              "    <tr>\n",
              "      <th>5</th>\n",
              "      <td>satisfied</td>\n",
              "      <td>Loyal Customer</td>\n",
              "      <td>30</td>\n",
              "      <td>Personal Travel</td>\n",
              "      <td>Eco</td>\n",
              "      <td>1894</td>\n",
              "      <td>0</td>\n",
              "      <td>0</td>\n",
              "      <td>0</td>\n",
              "      <td>3</td>\n",
              "      <td>...</td>\n",
              "      <td>2</td>\n",
              "      <td>2</td>\n",
              "      <td>5</td>\n",
              "      <td>4</td>\n",
              "      <td>5</td>\n",
              "      <td>5</td>\n",
              "      <td>4</td>\n",
              "      <td>2</td>\n",
              "      <td>0</td>\n",
              "      <td>0.0</td>\n",
              "    </tr>\n",
              "    <tr>\n",
              "      <th>6</th>\n",
              "      <td>satisfied</td>\n",
              "      <td>Loyal Customer</td>\n",
              "      <td>66</td>\n",
              "      <td>Personal Travel</td>\n",
              "      <td>Eco</td>\n",
              "      <td>227</td>\n",
              "      <td>0</td>\n",
              "      <td>0</td>\n",
              "      <td>0</td>\n",
              "      <td>3</td>\n",
              "      <td>...</td>\n",
              "      <td>5</td>\n",
              "      <td>5</td>\n",
              "      <td>5</td>\n",
              "      <td>0</td>\n",
              "      <td>5</td>\n",
              "      <td>5</td>\n",
              "      <td>5</td>\n",
              "      <td>3</td>\n",
              "      <td>17</td>\n",
              "      <td>15.0</td>\n",
              "    </tr>\n",
              "    <tr>\n",
              "      <th>7</th>\n",
              "      <td>satisfied</td>\n",
              "      <td>Loyal Customer</td>\n",
              "      <td>10</td>\n",
              "      <td>Personal Travel</td>\n",
              "      <td>Eco</td>\n",
              "      <td>1812</td>\n",
              "      <td>0</td>\n",
              "      <td>0</td>\n",
              "      <td>0</td>\n",
              "      <td>3</td>\n",
              "      <td>...</td>\n",
              "      <td>2</td>\n",
              "      <td>2</td>\n",
              "      <td>3</td>\n",
              "      <td>3</td>\n",
              "      <td>4</td>\n",
              "      <td>5</td>\n",
              "      <td>4</td>\n",
              "      <td>2</td>\n",
              "      <td>0</td>\n",
              "      <td>0.0</td>\n",
              "    </tr>\n",
              "    <tr>\n",
              "      <th>8</th>\n",
              "      <td>satisfied</td>\n",
              "      <td>Loyal Customer</td>\n",
              "      <td>56</td>\n",
              "      <td>Personal Travel</td>\n",
              "      <td>Business</td>\n",
              "      <td>73</td>\n",
              "      <td>0</td>\n",
              "      <td>0</td>\n",
              "      <td>0</td>\n",
              "      <td>3</td>\n",
              "      <td>...</td>\n",
              "      <td>5</td>\n",
              "      <td>4</td>\n",
              "      <td>4</td>\n",
              "      <td>0</td>\n",
              "      <td>1</td>\n",
              "      <td>5</td>\n",
              "      <td>4</td>\n",
              "      <td>4</td>\n",
              "      <td>0</td>\n",
              "      <td>0.0</td>\n",
              "    </tr>\n",
              "    <tr>\n",
              "      <th>9</th>\n",
              "      <td>satisfied</td>\n",
              "      <td>Loyal Customer</td>\n",
              "      <td>22</td>\n",
              "      <td>Personal Travel</td>\n",
              "      <td>Eco</td>\n",
              "      <td>1556</td>\n",
              "      <td>0</td>\n",
              "      <td>0</td>\n",
              "      <td>0</td>\n",
              "      <td>3</td>\n",
              "      <td>...</td>\n",
              "      <td>2</td>\n",
              "      <td>2</td>\n",
              "      <td>2</td>\n",
              "      <td>4</td>\n",
              "      <td>5</td>\n",
              "      <td>3</td>\n",
              "      <td>4</td>\n",
              "      <td>2</td>\n",
              "      <td>30</td>\n",
              "      <td>26.0</td>\n",
              "    </tr>\n",
              "  </tbody>\n",
              "</table>\n",
              "<p>10 rows × 22 columns</p>\n",
              "</div>"
            ],
            "text/plain": [
              "  satisfaction   Customer Type  Age   Type of Travel     Class  \\\n",
              "0    satisfied  Loyal Customer   65  Personal Travel       Eco   \n",
              "1    satisfied  Loyal Customer   47  Personal Travel  Business   \n",
              "2    satisfied  Loyal Customer   15  Personal Travel       Eco   \n",
              "3    satisfied  Loyal Customer   60  Personal Travel       Eco   \n",
              "4    satisfied  Loyal Customer   70  Personal Travel       Eco   \n",
              "5    satisfied  Loyal Customer   30  Personal Travel       Eco   \n",
              "6    satisfied  Loyal Customer   66  Personal Travel       Eco   \n",
              "7    satisfied  Loyal Customer   10  Personal Travel       Eco   \n",
              "8    satisfied  Loyal Customer   56  Personal Travel  Business   \n",
              "9    satisfied  Loyal Customer   22  Personal Travel       Eco   \n",
              "\n",
              "   Flight Distance  Seat comfort  Departure/Arrival time convenient  \\\n",
              "0              265             0                                  0   \n",
              "1             2464             0                                  0   \n",
              "2             2138             0                                  0   \n",
              "3              623             0                                  0   \n",
              "4              354             0                                  0   \n",
              "5             1894             0                                  0   \n",
              "6              227             0                                  0   \n",
              "7             1812             0                                  0   \n",
              "8               73             0                                  0   \n",
              "9             1556             0                                  0   \n",
              "\n",
              "   Food and drink  Gate location  ...  Online support  Ease of Online booking  \\\n",
              "0               0              2  ...               2                       3   \n",
              "1               0              3  ...               2                       3   \n",
              "2               0              3  ...               2                       2   \n",
              "3               0              3  ...               3                       1   \n",
              "4               0              3  ...               4                       2   \n",
              "5               0              3  ...               2                       2   \n",
              "6               0              3  ...               5                       5   \n",
              "7               0              3  ...               2                       2   \n",
              "8               0              3  ...               5                       4   \n",
              "9               0              3  ...               2                       2   \n",
              "\n",
              "   On-board service  Leg room service  Baggage handling  Checkin service  \\\n",
              "0                 3                 0                 3                5   \n",
              "1                 4                 4                 4                2   \n",
              "2                 3                 3                 4                4   \n",
              "3                 1                 0                 1                4   \n",
              "4                 2                 0                 2                4   \n",
              "5                 5                 4                 5                5   \n",
              "6                 5                 0                 5                5   \n",
              "7                 3                 3                 4                5   \n",
              "8                 4                 0                 1                5   \n",
              "9                 2                 4                 5                3   \n",
              "\n",
              "   Cleanliness  Online boarding  Departure Delay in Minutes  \\\n",
              "0            3                2                           0   \n",
              "1            3                2                         310   \n",
              "2            4                2                           0   \n",
              "3            1                3                           0   \n",
              "4            2                5                           0   \n",
              "5            4                2                           0   \n",
              "6            5                3                          17   \n",
              "7            4                2                           0   \n",
              "8            4                4                           0   \n",
              "9            4                2                          30   \n",
              "\n",
              "   Arrival Delay in Minutes  \n",
              "0                       0.0  \n",
              "1                     305.0  \n",
              "2                       0.0  \n",
              "3                       0.0  \n",
              "4                       0.0  \n",
              "5                       0.0  \n",
              "6                      15.0  \n",
              "7                       0.0  \n",
              "8                       0.0  \n",
              "9                      26.0  \n",
              "\n",
              "[10 rows x 22 columns]"
            ]
          },
          "execution_count": 28,
          "metadata": {},
          "output_type": "execute_result"
        }
      ],
      "source": [
        "### YOUR CODE HERE ###\n",
        "df.head(10)"
      ],
      "id": "U8JZjN-zJwx6"
    },
    {
      "cell_type": "markdown",
      "metadata": {
        "id": "tooWlpMBHqoi"
      },
      "source": [
        "<details>\n",
        "  <summary><h4><strong>Hint 1</strong></h4></summary>\n",
        "\n",
        "Use the `head()` function.\n",
        "\n",
        "</details>"
      ],
      "id": "tooWlpMBHqoi"
    },
    {
      "cell_type": "markdown",
      "metadata": {
        "id": "Fg0PhE51Kiz6"
      },
      "source": [
        "<details>\n",
        "  <summary><h4><strong>Hint 2</strong></h4></summary>\n",
        "\n",
        "If only five rows are output, it is because the function by default returns five rows. To change this, specify how many rows `(n = )` you want to output.\n",
        "\n",
        "</details>"
      ],
      "id": "Fg0PhE51Kiz6"
    },
    {
      "cell_type": "markdown",
      "metadata": {
        "id": "ec269f85-6622-4f82-bdcd-1874224a4052",
        "tags": []
      },
      "source": [
        "## Step 2: Data exploration, data cleaning, and model preparation\n",
        "\n",
        "### Prepare the data\n",
        "\n",
        "After loading the dataset, prepare the data to be suitable for a logistic regression model. This includes:\n",
        "\n",
        "*   Exploring the data\n",
        "*   Checking for missing values\n",
        "*   Encoding the data\n",
        "*   Renaming a column\n",
        "*   Creating the training and testing data"
      ],
      "id": "ec269f85-6622-4f82-bdcd-1874224a4052"
    },
    {
      "cell_type": "markdown",
      "metadata": {
        "id": "d7ccd368"
      },
      "source": [
        "### Explore the data\n",
        "\n",
        "Check the data type of each column. Note that logistic regression models expect numeric data."
      ],
      "id": "d7ccd368"
    },
    {
      "cell_type": "code",
      "execution_count": null,
      "metadata": {
        "id": "c84ecc35",
        "outputId": "98a2be9f-1b6b-4542-8dc9-4fdd50e9e4d3"
      },
      "outputs": [
        {
          "data": {
            "text/plain": [
              "Index(['satisfaction', 'Customer Type', 'Age', 'Type of Travel', 'Class',\n",
              "       'Flight Distance', 'Seat comfort', 'Departure/Arrival time convenient',\n",
              "       'Food and drink', 'Gate location', 'Inflight wifi service',\n",
              "       'Inflight entertainment', 'Online support', 'Ease of Online booking',\n",
              "       'On-board service', 'Leg room service', 'Baggage handling',\n",
              "       'Checkin service', 'Cleanliness', 'Online boarding',\n",
              "       'Departure Delay in Minutes', 'Arrival Delay in Minutes'],\n",
              "      dtype='object')"
            ]
          },
          "execution_count": 29,
          "metadata": {},
          "output_type": "execute_result"
        }
      ],
      "source": [
        "df.columns"
      ],
      "id": "c84ecc35"
    },
    {
      "cell_type": "markdown",
      "metadata": {
        "id": "338fa42f"
      },
      "source": [
        "<details>\n",
        "  <summary><h4><strong>Hint 1</strong></h4></summary>\n",
        "\n",
        "Use the `dtypes` attribute on the DataFrame.\n",
        "\n",
        "</details>"
      ],
      "id": "338fa42f"
    },
    {
      "cell_type": "markdown",
      "metadata": {
        "id": "381c04eb"
      },
      "source": [
        "### Check the number of satisfied customers in the dataset\n",
        "\n",
        "To predict customer satisfaction, check how many customers in the dataset are satisfied before modeling."
      ],
      "id": "381c04eb"
    },
    {
      "cell_type": "code",
      "execution_count": null,
      "metadata": {
        "id": "8098d8a3",
        "outputId": "5ff87241-2dfb-43b5-ab63-f29f7c42a7c8"
      },
      "outputs": [
        {
          "data": {
            "text/plain": [
              "satisfied       54.73283\n",
              "dissatisfied    45.26717\n",
              "Name: satisfaction, dtype: float64"
            ]
          },
          "execution_count": 30,
          "metadata": {},
          "output_type": "execute_result"
        }
      ],
      "source": [
        "df['satisfaction'].value_counts()/df.shape[0] * 100"
      ],
      "id": "8098d8a3"
    },
    {
      "cell_type": "code",
      "execution_count": null,
      "metadata": {
        "id": "JTKR9QVo9PTz",
        "outputId": "798145b7-3bb3-4dfd-dd72-e4fcae9533c3"
      },
      "outputs": [
        {
          "data": {
            "text/plain": [
              "satisfied       71087\n",
              "dissatisfied    58793\n",
              "Name: satisfaction, dtype: int64"
            ]
          },
          "execution_count": 31,
          "metadata": {},
          "output_type": "execute_result"
        }
      ],
      "source": [
        "df['satisfaction'].value_counts()"
      ],
      "id": "JTKR9QVo9PTz"
    },
    {
      "cell_type": "markdown",
      "metadata": {
        "id": "127b31ad"
      },
      "source": [
        "<details>\n",
        "  <summary><h4><strong>Hint 1</strong></h4></summary>\n",
        "\n",
        "Use a function from the pandas library that returns a pandas series containing counts of unique values.\n",
        "\n",
        "</details>"
      ],
      "id": "127b31ad"
    },
    {
      "cell_type": "markdown",
      "metadata": {
        "id": "9221f9a4"
      },
      "source": [
        "<details>\n",
        "  <summary><h4><strong>Hint 2</strong></h4></summary>\n",
        "\n",
        "Use the `value_counts()` function. To examine how many NaN values there are, set the `dropna` parameter passed in to this function to `False`.\n",
        "\n",
        "</details>"
      ],
      "id": "9221f9a4"
    },
    {
      "cell_type": "markdown",
      "metadata": {
        "id": "71398f5e"
      },
      "source": [
        "**Question:** How many satisfied and dissatisfied customers were there?"
      ],
      "id": "71398f5e"
    },
    {
      "cell_type": "markdown",
      "metadata": {
        "id": "sNa9UG-JGndx"
      },
      "source": [
        "There are 71,087 satisfied customers and 58,793 dissatisfied customers."
      ],
      "id": "sNa9UG-JGndx"
    },
    {
      "cell_type": "markdown",
      "metadata": {
        "id": "17c736c2"
      },
      "source": [
        "**Question:** What percentage of customers were satisfied?"
      ],
      "id": "17c736c2"
    },
    {
      "cell_type": "markdown",
      "metadata": {
        "id": "GAMrCF4yGpTv"
      },
      "source": [
        "The percentage of satisfied customers is 54,73%."
      ],
      "id": "GAMrCF4yGpTv"
    },
    {
      "cell_type": "markdown",
      "metadata": {
        "id": "4222ca54"
      },
      "source": [
        "### Check for missing values"
      ],
      "id": "4222ca54"
    },
    {
      "cell_type": "markdown",
      "metadata": {
        "id": "TgANHJBVxpbI"
      },
      "source": [
        "An assumption of logistic regression models is that there are no missing values. Check for missing values in the rows of the data."
      ],
      "id": "TgANHJBVxpbI"
    },
    {
      "cell_type": "code",
      "execution_count": null,
      "metadata": {
        "id": "3_SVlY1VpY4h",
        "outputId": "8a6fa553-a6f6-4ac2-d753-50e5c068c82a"
      },
      "outputs": [
        {
          "data": {
            "text/plain": [
              "satisfaction                           0\n",
              "Customer Type                          0\n",
              "Age                                    0\n",
              "Type of Travel                         0\n",
              "Class                                  0\n",
              "Flight Distance                        0\n",
              "Seat comfort                           0\n",
              "Departure/Arrival time convenient      0\n",
              "Food and drink                         0\n",
              "Gate location                          0\n",
              "Inflight wifi service                  0\n",
              "Inflight entertainment                 0\n",
              "Online support                         0\n",
              "Ease of Online booking                 0\n",
              "On-board service                       0\n",
              "Leg room service                       0\n",
              "Baggage handling                       0\n",
              "Checkin service                        0\n",
              "Cleanliness                            0\n",
              "Online boarding                        0\n",
              "Departure Delay in Minutes             0\n",
              "Arrival Delay in Minutes             393\n",
              "dtype: int64"
            ]
          },
          "execution_count": 32,
          "metadata": {},
          "output_type": "execute_result"
        }
      ],
      "source": [
        "df.isna().sum()"
      ],
      "id": "3_SVlY1VpY4h"
    },
    {
      "cell_type": "markdown",
      "metadata": {
        "id": "307f50c5"
      },
      "source": [
        "<details>\n",
        "  <summary><h4><strong>Hint 1</strong></h4></summary>\n",
        "\n",
        "To get the number of rows in the data with missing values, use the `isnull` function followed by the `sum` function.\n",
        "\n",
        "</details>"
      ],
      "id": "307f50c5"
    },
    {
      "cell_type": "markdown",
      "metadata": {
        "id": "5c11852b"
      },
      "source": [
        "**Question:** Should you remove rows where the `Arrival Delay in Minutes` column has missing values, even though the airline is more interested in the `inflight entertainment` column?"
      ],
      "id": "5c11852b"
    },
    {
      "cell_type": "markdown",
      "metadata": {
        "id": "WdESQ8SOGt70"
      },
      "source": [
        "The missing lines should be removed because the logistic regression doesn't support them."
      ],
      "id": "WdESQ8SOGt70"
    },
    {
      "cell_type": "markdown",
      "metadata": {
        "id": "eb005a73-4621-45b9-8114-30472ce20327"
      },
      "source": [
        "### Drop the rows with missing values\n",
        "\n",
        "Drop the rows with missing values and save the resulting pandas DataFrame in a variable named `df_subset`."
      ],
      "id": "eb005a73-4621-45b9-8114-30472ce20327"
    },
    {
      "cell_type": "code",
      "execution_count": null,
      "metadata": {
        "id": "1cee438e-8b1f-4855-855e-3723d1958b69"
      },
      "outputs": [],
      "source": [
        "df_copy = df.dropna(axis=0).reset_index(drop=True)"
      ],
      "id": "1cee438e-8b1f-4855-855e-3723d1958b69"
    },
    {
      "cell_type": "markdown",
      "metadata": {
        "id": "dec2a35e-ba31-4ec8-b8fc-1c0bdf075d19",
        "tags": []
      },
      "source": [
        "<details>\n",
        "  <summary><h4><strong>Hint 1</strong></h4></summary>\n",
        "\n",
        "Use the `dropna` function.\n",
        "\n",
        "</details>"
      ],
      "id": "dec2a35e-ba31-4ec8-b8fc-1c0bdf075d19"
    },
    {
      "cell_type": "markdown",
      "metadata": {
        "id": "374b2b21"
      },
      "source": [
        "<details>\n",
        "  <summary><h4><strong>Hint 2</strong></h4></summary>\n",
        "\n",
        "Set the axis parameter passed into the `dropna` function to `0` if you want to drop rows containing missing values, or `1` if you want to drop columns containing missing values. Optionally, use reset_index to avoid a SettingWithCopy warning later in the notebook.\n",
        "\n",
        "</details>"
      ],
      "id": "374b2b21"
    },
    {
      "cell_type": "markdown",
      "metadata": {
        "id": "4c0c5682"
      },
      "source": [
        "### Prepare the data\n",
        "\n",
        "If you want to create a plot (`sns.regplot`) of your model to visualize results later in the notebook, the independent variable `Inflight entertainment` cannot be \"of type int\" and the dependent variable `satisfaction` cannot be \"of type object.\"\n",
        "\n",
        "Make the `Inflight entertainment` column \"of type float.\""
      ],
      "id": "4c0c5682"
    },
    {
      "cell_type": "code",
      "execution_count": null,
      "metadata": {
        "id": "6f26700f"
      },
      "outputs": [],
      "source": [
        "df_copy = df_copy.astype({'Inflight entertainment': float})"
      ],
      "id": "6f26700f"
    },
    {
      "cell_type": "markdown",
      "metadata": {
        "id": "20e23466"
      },
      "source": [
        "<details>\n",
        "    \n",
        "  <summary><h4><strong>Hint 1</strong></h4></summary>\n",
        "Use the `.astype()` function with the dictionary `{\"Inflight entertainment\": float}` as an input.\n",
        "\n",
        "</details>"
      ],
      "id": "20e23466"
    },
    {
      "cell_type": "markdown",
      "metadata": {
        "id": "7M-hxJZ89PT8"
      },
      "source": [
        "### Convert the categorical column `satisfaction` into numeric\n",
        "\n",
        "Convert the categorical column `satisfaction` into numeric through one-hot encoding."
      ],
      "id": "7M-hxJZ89PT8"
    },
    {
      "cell_type": "code",
      "execution_count": null,
      "metadata": {
        "id": "HDGAGmkd9PT8"
      },
      "outputs": [],
      "source": [
        "df_copy['satisfaction'] = OneHotEncoder(drop='first', dtype=int).fit_transform(df_copy[['satisfaction']]).toarray()"
      ],
      "id": "HDGAGmkd9PT8"
    },
    {
      "cell_type": "markdown",
      "metadata": {
        "id": "B60iqepS9PT9"
      },
      "source": [
        "<details>\n",
        "  <summary><h4><strong>Hint 1</strong></h4></summary>\n",
        "\n",
        "Use `OneHotEncoder()` from `sklearn.preprocessing`.\n",
        "</details>"
      ],
      "id": "B60iqepS9PT9"
    },
    {
      "cell_type": "markdown",
      "metadata": {
        "id": "38S-Y-tT9PT9"
      },
      "source": [
        "<details>\n",
        "  <summary><h4><strong>Hint 2</strong></h4></summary>\n",
        "\n",
        "Call `OneHotEncoder()`, specifying the `drop` argument as `'first'` in order to remove redundant columns from the output.\n",
        "\n",
        "Call `.fit_transform()`, passing in the subset of the data that you want to encode (the subset consisting of `satisfaction`).\n",
        "\n",
        "Call `.toarray()` in order to convert the sparse matrix that `.fit_transform()` returns into an array.\n",
        "\n",
        "</details>"
      ],
      "id": "38S-Y-tT9PT9"
    },
    {
      "cell_type": "markdown",
      "metadata": {
        "id": "oscn-dBq9PT-"
      },
      "source": [
        "<details>\n",
        "  <summary><h4><strong>Hint 3</strong></h4></summary>\n",
        "\n",
        "Index `df_subset` with a double pair of square brackets to get a DataFrame that consists of just `satisfaction`.\n",
        "\n",
        "After getting the encoded values, update the `satisfaction` column (you can use reassignment).\n",
        "\n",
        "</details>"
      ],
      "id": "oscn-dBq9PT-"
    },
    {
      "cell_type": "markdown",
      "metadata": {
        "id": "81498491"
      },
      "source": [
        "### Output the first 10 rows of `df_subset`\n",
        "\n",
        "To examine what one-hot encoding did to the DataFrame, output the first 10 rows of `df_subset`."
      ],
      "id": "81498491"
    },
    {
      "cell_type": "code",
      "execution_count": null,
      "metadata": {
        "id": "de4aaca8",
        "scrolled": false,
        "outputId": "611ae214-5537-48f2-e9b6-108e7d2bfa66"
      },
      "outputs": [
        {
          "data": {
            "text/html": [
              "<div>\n",
              "<style scoped>\n",
              "    .dataframe tbody tr th:only-of-type {\n",
              "        vertical-align: middle;\n",
              "    }\n",
              "\n",
              "    .dataframe tbody tr th {\n",
              "        vertical-align: top;\n",
              "    }\n",
              "\n",
              "    .dataframe thead th {\n",
              "        text-align: right;\n",
              "    }\n",
              "</style>\n",
              "<table border=\"1\" class=\"dataframe\">\n",
              "  <thead>\n",
              "    <tr style=\"text-align: right;\">\n",
              "      <th></th>\n",
              "      <th>satisfaction</th>\n",
              "      <th>Customer Type</th>\n",
              "      <th>Age</th>\n",
              "      <th>Type of Travel</th>\n",
              "      <th>Class</th>\n",
              "      <th>Flight Distance</th>\n",
              "      <th>Seat comfort</th>\n",
              "      <th>Departure/Arrival time convenient</th>\n",
              "      <th>Food and drink</th>\n",
              "      <th>Gate location</th>\n",
              "      <th>...</th>\n",
              "      <th>Online support</th>\n",
              "      <th>Ease of Online booking</th>\n",
              "      <th>On-board service</th>\n",
              "      <th>Leg room service</th>\n",
              "      <th>Baggage handling</th>\n",
              "      <th>Checkin service</th>\n",
              "      <th>Cleanliness</th>\n",
              "      <th>Online boarding</th>\n",
              "      <th>Departure Delay in Minutes</th>\n",
              "      <th>Arrival Delay in Minutes</th>\n",
              "    </tr>\n",
              "  </thead>\n",
              "  <tbody>\n",
              "    <tr>\n",
              "      <th>0</th>\n",
              "      <td>1</td>\n",
              "      <td>Loyal Customer</td>\n",
              "      <td>65</td>\n",
              "      <td>Personal Travel</td>\n",
              "      <td>Eco</td>\n",
              "      <td>265</td>\n",
              "      <td>0</td>\n",
              "      <td>0</td>\n",
              "      <td>0</td>\n",
              "      <td>2</td>\n",
              "      <td>...</td>\n",
              "      <td>2</td>\n",
              "      <td>3</td>\n",
              "      <td>3</td>\n",
              "      <td>0</td>\n",
              "      <td>3</td>\n",
              "      <td>5</td>\n",
              "      <td>3</td>\n",
              "      <td>2</td>\n",
              "      <td>0</td>\n",
              "      <td>0.0</td>\n",
              "    </tr>\n",
              "    <tr>\n",
              "      <th>1</th>\n",
              "      <td>1</td>\n",
              "      <td>Loyal Customer</td>\n",
              "      <td>47</td>\n",
              "      <td>Personal Travel</td>\n",
              "      <td>Business</td>\n",
              "      <td>2464</td>\n",
              "      <td>0</td>\n",
              "      <td>0</td>\n",
              "      <td>0</td>\n",
              "      <td>3</td>\n",
              "      <td>...</td>\n",
              "      <td>2</td>\n",
              "      <td>3</td>\n",
              "      <td>4</td>\n",
              "      <td>4</td>\n",
              "      <td>4</td>\n",
              "      <td>2</td>\n",
              "      <td>3</td>\n",
              "      <td>2</td>\n",
              "      <td>310</td>\n",
              "      <td>305.0</td>\n",
              "    </tr>\n",
              "    <tr>\n",
              "      <th>2</th>\n",
              "      <td>1</td>\n",
              "      <td>Loyal Customer</td>\n",
              "      <td>15</td>\n",
              "      <td>Personal Travel</td>\n",
              "      <td>Eco</td>\n",
              "      <td>2138</td>\n",
              "      <td>0</td>\n",
              "      <td>0</td>\n",
              "      <td>0</td>\n",
              "      <td>3</td>\n",
              "      <td>...</td>\n",
              "      <td>2</td>\n",
              "      <td>2</td>\n",
              "      <td>3</td>\n",
              "      <td>3</td>\n",
              "      <td>4</td>\n",
              "      <td>4</td>\n",
              "      <td>4</td>\n",
              "      <td>2</td>\n",
              "      <td>0</td>\n",
              "      <td>0.0</td>\n",
              "    </tr>\n",
              "    <tr>\n",
              "      <th>3</th>\n",
              "      <td>1</td>\n",
              "      <td>Loyal Customer</td>\n",
              "      <td>60</td>\n",
              "      <td>Personal Travel</td>\n",
              "      <td>Eco</td>\n",
              "      <td>623</td>\n",
              "      <td>0</td>\n",
              "      <td>0</td>\n",
              "      <td>0</td>\n",
              "      <td>3</td>\n",
              "      <td>...</td>\n",
              "      <td>3</td>\n",
              "      <td>1</td>\n",
              "      <td>1</td>\n",
              "      <td>0</td>\n",
              "      <td>1</td>\n",
              "      <td>4</td>\n",
              "      <td>1</td>\n",
              "      <td>3</td>\n",
              "      <td>0</td>\n",
              "      <td>0.0</td>\n",
              "    </tr>\n",
              "    <tr>\n",
              "      <th>4</th>\n",
              "      <td>1</td>\n",
              "      <td>Loyal Customer</td>\n",
              "      <td>70</td>\n",
              "      <td>Personal Travel</td>\n",
              "      <td>Eco</td>\n",
              "      <td>354</td>\n",
              "      <td>0</td>\n",
              "      <td>0</td>\n",
              "      <td>0</td>\n",
              "      <td>3</td>\n",
              "      <td>...</td>\n",
              "      <td>4</td>\n",
              "      <td>2</td>\n",
              "      <td>2</td>\n",
              "      <td>0</td>\n",
              "      <td>2</td>\n",
              "      <td>4</td>\n",
              "      <td>2</td>\n",
              "      <td>5</td>\n",
              "      <td>0</td>\n",
              "      <td>0.0</td>\n",
              "    </tr>\n",
              "    <tr>\n",
              "      <th>5</th>\n",
              "      <td>1</td>\n",
              "      <td>Loyal Customer</td>\n",
              "      <td>30</td>\n",
              "      <td>Personal Travel</td>\n",
              "      <td>Eco</td>\n",
              "      <td>1894</td>\n",
              "      <td>0</td>\n",
              "      <td>0</td>\n",
              "      <td>0</td>\n",
              "      <td>3</td>\n",
              "      <td>...</td>\n",
              "      <td>2</td>\n",
              "      <td>2</td>\n",
              "      <td>5</td>\n",
              "      <td>4</td>\n",
              "      <td>5</td>\n",
              "      <td>5</td>\n",
              "      <td>4</td>\n",
              "      <td>2</td>\n",
              "      <td>0</td>\n",
              "      <td>0.0</td>\n",
              "    </tr>\n",
              "    <tr>\n",
              "      <th>6</th>\n",
              "      <td>1</td>\n",
              "      <td>Loyal Customer</td>\n",
              "      <td>66</td>\n",
              "      <td>Personal Travel</td>\n",
              "      <td>Eco</td>\n",
              "      <td>227</td>\n",
              "      <td>0</td>\n",
              "      <td>0</td>\n",
              "      <td>0</td>\n",
              "      <td>3</td>\n",
              "      <td>...</td>\n",
              "      <td>5</td>\n",
              "      <td>5</td>\n",
              "      <td>5</td>\n",
              "      <td>0</td>\n",
              "      <td>5</td>\n",
              "      <td>5</td>\n",
              "      <td>5</td>\n",
              "      <td>3</td>\n",
              "      <td>17</td>\n",
              "      <td>15.0</td>\n",
              "    </tr>\n",
              "    <tr>\n",
              "      <th>7</th>\n",
              "      <td>1</td>\n",
              "      <td>Loyal Customer</td>\n",
              "      <td>10</td>\n",
              "      <td>Personal Travel</td>\n",
              "      <td>Eco</td>\n",
              "      <td>1812</td>\n",
              "      <td>0</td>\n",
              "      <td>0</td>\n",
              "      <td>0</td>\n",
              "      <td>3</td>\n",
              "      <td>...</td>\n",
              "      <td>2</td>\n",
              "      <td>2</td>\n",
              "      <td>3</td>\n",
              "      <td>3</td>\n",
              "      <td>4</td>\n",
              "      <td>5</td>\n",
              "      <td>4</td>\n",
              "      <td>2</td>\n",
              "      <td>0</td>\n",
              "      <td>0.0</td>\n",
              "    </tr>\n",
              "    <tr>\n",
              "      <th>8</th>\n",
              "      <td>1</td>\n",
              "      <td>Loyal Customer</td>\n",
              "      <td>56</td>\n",
              "      <td>Personal Travel</td>\n",
              "      <td>Business</td>\n",
              "      <td>73</td>\n",
              "      <td>0</td>\n",
              "      <td>0</td>\n",
              "      <td>0</td>\n",
              "      <td>3</td>\n",
              "      <td>...</td>\n",
              "      <td>5</td>\n",
              "      <td>4</td>\n",
              "      <td>4</td>\n",
              "      <td>0</td>\n",
              "      <td>1</td>\n",
              "      <td>5</td>\n",
              "      <td>4</td>\n",
              "      <td>4</td>\n",
              "      <td>0</td>\n",
              "      <td>0.0</td>\n",
              "    </tr>\n",
              "    <tr>\n",
              "      <th>9</th>\n",
              "      <td>1</td>\n",
              "      <td>Loyal Customer</td>\n",
              "      <td>22</td>\n",
              "      <td>Personal Travel</td>\n",
              "      <td>Eco</td>\n",
              "      <td>1556</td>\n",
              "      <td>0</td>\n",
              "      <td>0</td>\n",
              "      <td>0</td>\n",
              "      <td>3</td>\n",
              "      <td>...</td>\n",
              "      <td>2</td>\n",
              "      <td>2</td>\n",
              "      <td>2</td>\n",
              "      <td>4</td>\n",
              "      <td>5</td>\n",
              "      <td>3</td>\n",
              "      <td>4</td>\n",
              "      <td>2</td>\n",
              "      <td>30</td>\n",
              "      <td>26.0</td>\n",
              "    </tr>\n",
              "  </tbody>\n",
              "</table>\n",
              "<p>10 rows × 22 columns</p>\n",
              "</div>"
            ],
            "text/plain": [
              "   satisfaction   Customer Type  Age   Type of Travel     Class  \\\n",
              "0             1  Loyal Customer   65  Personal Travel       Eco   \n",
              "1             1  Loyal Customer   47  Personal Travel  Business   \n",
              "2             1  Loyal Customer   15  Personal Travel       Eco   \n",
              "3             1  Loyal Customer   60  Personal Travel       Eco   \n",
              "4             1  Loyal Customer   70  Personal Travel       Eco   \n",
              "5             1  Loyal Customer   30  Personal Travel       Eco   \n",
              "6             1  Loyal Customer   66  Personal Travel       Eco   \n",
              "7             1  Loyal Customer   10  Personal Travel       Eco   \n",
              "8             1  Loyal Customer   56  Personal Travel  Business   \n",
              "9             1  Loyal Customer   22  Personal Travel       Eco   \n",
              "\n",
              "   Flight Distance  Seat comfort  Departure/Arrival time convenient  \\\n",
              "0              265             0                                  0   \n",
              "1             2464             0                                  0   \n",
              "2             2138             0                                  0   \n",
              "3              623             0                                  0   \n",
              "4              354             0                                  0   \n",
              "5             1894             0                                  0   \n",
              "6              227             0                                  0   \n",
              "7             1812             0                                  0   \n",
              "8               73             0                                  0   \n",
              "9             1556             0                                  0   \n",
              "\n",
              "   Food and drink  Gate location  ...  Online support  Ease of Online booking  \\\n",
              "0               0              2  ...               2                       3   \n",
              "1               0              3  ...               2                       3   \n",
              "2               0              3  ...               2                       2   \n",
              "3               0              3  ...               3                       1   \n",
              "4               0              3  ...               4                       2   \n",
              "5               0              3  ...               2                       2   \n",
              "6               0              3  ...               5                       5   \n",
              "7               0              3  ...               2                       2   \n",
              "8               0              3  ...               5                       4   \n",
              "9               0              3  ...               2                       2   \n",
              "\n",
              "   On-board service  Leg room service  Baggage handling  Checkin service  \\\n",
              "0                 3                 0                 3                5   \n",
              "1                 4                 4                 4                2   \n",
              "2                 3                 3                 4                4   \n",
              "3                 1                 0                 1                4   \n",
              "4                 2                 0                 2                4   \n",
              "5                 5                 4                 5                5   \n",
              "6                 5                 0                 5                5   \n",
              "7                 3                 3                 4                5   \n",
              "8                 4                 0                 1                5   \n",
              "9                 2                 4                 5                3   \n",
              "\n",
              "   Cleanliness  Online boarding  Departure Delay in Minutes  \\\n",
              "0            3                2                           0   \n",
              "1            3                2                         310   \n",
              "2            4                2                           0   \n",
              "3            1                3                           0   \n",
              "4            2                5                           0   \n",
              "5            4                2                           0   \n",
              "6            5                3                          17   \n",
              "7            4                2                           0   \n",
              "8            4                4                           0   \n",
              "9            4                2                          30   \n",
              "\n",
              "   Arrival Delay in Minutes  \n",
              "0                       0.0  \n",
              "1                     305.0  \n",
              "2                       0.0  \n",
              "3                       0.0  \n",
              "4                       0.0  \n",
              "5                       0.0  \n",
              "6                      15.0  \n",
              "7                       0.0  \n",
              "8                       0.0  \n",
              "9                      26.0  \n",
              "\n",
              "[10 rows x 22 columns]"
            ]
          },
          "execution_count": 41,
          "metadata": {},
          "output_type": "execute_result"
        }
      ],
      "source": [
        "df_copy.head(10)"
      ],
      "id": "de4aaca8"
    },
    {
      "cell_type": "markdown",
      "metadata": {
        "id": "d667a924"
      },
      "source": [
        "<details>\n",
        "  <summary><h4><strong>Hint 1</strong></h4></summary>\n",
        "\n",
        "Use the `head()` function.\n",
        "\n",
        "</details>"
      ],
      "id": "d667a924"
    },
    {
      "cell_type": "markdown",
      "metadata": {
        "id": "82a66006"
      },
      "source": [
        "<details>\n",
        "  <summary><h4><strong>Hint 2</strong></h4></summary>\n",
        "\n",
        "If only five rows are outputted, it is because the function by default returns five rows. To change this, specify how many rows `(n = )` you want.\n",
        "\n",
        "</details>"
      ],
      "id": "82a66006"
    },
    {
      "cell_type": "markdown",
      "metadata": {
        "id": "0aaf5733"
      },
      "source": [
        "### Create the training and testing data\n",
        "\n",
        "Put 70% of the data into a training set and the remaining 30% into a testing set. Create an X and y DataFrame with only the necessary variables.\n"
      ],
      "id": "0aaf5733"
    },
    {
      "cell_type": "code",
      "execution_count": null,
      "metadata": {
        "id": "77bffb4e"
      },
      "outputs": [],
      "source": [
        "X = df_copy[['Inflight entertainment']]\n",
        "y = df_copy['satisfaction']\n",
        "\n",
        "X_train, X_test, y_train, y_test = train_test_split(X, y, test_size=0)"
      ],
      "id": "77bffb4e"
    },
    {
      "cell_type": "markdown",
      "metadata": {
        "id": "acae11f0"
      },
      "source": [
        "<details>\n",
        "  <summary><h4><strong>Hint 1</strong></h4></summary>\n",
        "\n",
        "Use `train_test_split`.\n",
        "\n",
        "</details>"
      ],
      "id": "acae11f0"
    },
    {
      "cell_type": "markdown",
      "metadata": {
        "id": "101f3580"
      },
      "source": [
        "<details>\n",
        "  <summary><h4><strong>Hint 2</strong></h4></summary>\n",
        "\n",
        "If you named your independent variable `X` and your dependent variable `y`, then it would be `train_test_split(X, y, test_size=0.30, random_state=42)`.\n",
        "\n",
        "</details>"
      ],
      "id": "101f3580"
    },
    {
      "cell_type": "markdown",
      "metadata": {
        "id": "hroEPXGBK5j5"
      },
      "source": [
        "<details>\n",
        "  <summary><h4><strong>Hint 3</strong></h4></summary>\n",
        "\n",
        "When you use `train_test_split`, pass in `42` to `random_state`. `random_state` is used so that if other data professionals run this code, they can get the same exact train test split. If you use a different random state, your results will differ. </details>"
      ],
      "id": "hroEPXGBK5j5"
    },
    {
      "cell_type": "markdown",
      "metadata": {
        "id": "e5c9ad09"
      },
      "source": [
        "**Question:** If you want to consider customer satisfaction with your model, should you train your model to use `inflight entertainment` as your sole independent variable?"
      ],
      "id": "e5c9ad09"
    },
    {
      "cell_type": "markdown",
      "metadata": {
        "id": "wfatukyOCTpK"
      },
      "source": [
        "Yes, because it's the target independent variable for this study, based on the best interest of the stakeholders, who are interested in knowing if better in-flight entertainment is influencing customer satisfaction.\n",
        "\n"
      ],
      "id": "wfatukyOCTpK"
    },
    {
      "cell_type": "markdown",
      "metadata": {
        "id": "58bb9bf2"
      },
      "source": [
        "## Step 3: Model building"
      ],
      "id": "58bb9bf2"
    },
    {
      "cell_type": "markdown",
      "metadata": {
        "id": "a81f66ae"
      },
      "source": [
        "### Fit a LogisticRegression model to the data\n",
        "\n",
        "Build a logistic regression model and fit the model to the training data."
      ],
      "id": "a81f66ae"
    },
    {
      "cell_type": "code",
      "execution_count": null,
      "metadata": {
        "id": "5a4211cb"
      },
      "outputs": [],
      "source": [
        "clf = LogisticRegression().fit(X_train, y_train)"
      ],
      "id": "5a4211cb"
    },
    {
      "cell_type": "markdown",
      "metadata": {
        "id": "f1186257"
      },
      "source": [
        "<details>\n",
        "  <summary><h4><strong>Hint 1</strong></h4></summary>\n",
        "\n",
        "Use `LogisticRegression()` and the `fit()` function on the training set. `LogisticRegression().fit(X_train,y_train)`.\n",
        "\n",
        "</details>"
      ],
      "id": "f1186257"
    },
    {
      "cell_type": "markdown",
      "metadata": {
        "id": "fa3c8a25"
      },
      "source": [
        "### Obtain parameter estimates\n",
        "Make sure you output the two parameters from your model."
      ],
      "id": "fa3c8a25"
    },
    {
      "cell_type": "code",
      "execution_count": null,
      "metadata": {
        "id": "7bb05cd1",
        "outputId": "ea2fdf0a-894a-4d8d-eae7-2ed54bedcd7e"
      },
      "outputs": [
        {
          "data": {
            "text/plain": [
              "array([[0.99751462]])"
            ]
          },
          "execution_count": 44,
          "metadata": {},
          "output_type": "execute_result"
        }
      ],
      "source": [
        "clf.coef_"
      ],
      "id": "7bb05cd1"
    },
    {
      "cell_type": "code",
      "execution_count": null,
      "metadata": {
        "id": "56211a07",
        "outputId": "f922b7f1-e68e-491d-d1aa-564377cc4259"
      },
      "outputs": [
        {
          "data": {
            "text/plain": [
              "array([-3.19355406])"
            ]
          },
          "execution_count": 46,
          "metadata": {},
          "output_type": "execute_result"
        }
      ],
      "source": [
        "clf.intercept_"
      ],
      "id": "56211a07"
    },
    {
      "cell_type": "markdown",
      "metadata": {
        "id": "1abcc570"
      },
      "source": [
        "<details>\n",
        "  <summary><h4><strong>Hint 1</strong></h4></summary>\n",
        "\n",
        "Refer to the content on [obtaining the parameter estimates](https://www.coursera.org/learn/regression-analysis-simplify-complex-data-relationships/lecture/XCLzq/construct-a-logistic-regression-model-with-python) from a logistic regression model.\n",
        "\n",
        "</details>"
      ],
      "id": "1abcc570"
    },
    {
      "cell_type": "markdown",
      "metadata": {
        "id": "dw2igNMoFkjs"
      },
      "source": [
        "<details>\n",
        "  <summary><h4><strong>Hint 2</strong></h4></summary>\n",
        "\n",
        "Call attributes to obtain the coefficient and intercept estimates.\n",
        "\n",
        "</details>"
      ],
      "id": "dw2igNMoFkjs"
    },
    {
      "cell_type": "markdown",
      "metadata": {
        "id": "G__-1G-UN-uP"
      },
      "source": [
        "<details>\n",
        "  <summary><h4><strong>Hint 3</strong></h4></summary>\n",
        "\n",
        "Use `.coef_` and `.intercept_`\n",
        "\n",
        "</details>"
      ],
      "id": "G__-1G-UN-uP"
    },
    {
      "cell_type": "markdown",
      "metadata": {
        "id": "9e04ad0d"
      },
      "source": [
        "### Create a plot of your model\n",
        "\n",
        "Create a plot of your model to visualize results using the seaborn package."
      ],
      "id": "9e04ad0d"
    },
    {
      "cell_type": "code",
      "execution_count": null,
      "metadata": {
        "id": "c420c85c",
        "scrolled": false,
        "outputId": "df1d2693-3237-4dcf-9707-0211a9dd7f97"
      },
      "outputs": [
        {
          "data": {
            "text/plain": [
              "<matplotlib.axes._subplots.AxesSubplot at 0x7372450740d0>"
            ]
          },
          "execution_count": 48,
          "metadata": {},
          "output_type": "execute_result"
        },
        {
          "data": {
            "image/png": "[encoded data removed]",
            "text/plain": [
              "<Figure size 432x288 with 1 Axes>"
            ]
          },
          "metadata": {
            "needs_background": "light"
          },
          "output_type": "display_data"
        }
      ],
      "source": [
        "sns.regplot(x='Inflight entertainment', y='satisfaction', data=df_copy, logistic=True,  ci=None)"
      ],
      "id": "c420c85c"
    },
    {
      "cell_type": "markdown",
      "metadata": {
        "id": "46537166"
      },
      "source": [
        "<details>\n",
        "  <summary><h4><strong>Hint 1</strong></h4></summary>\n",
        "\n",
        "Use a function from the seaborn library that can plot data and a logistic regression model fit.\n",
        "    \n",
        "</details>"
      ],
      "id": "46537166"
    },
    {
      "cell_type": "markdown",
      "metadata": {
        "id": "b301e47c"
      },
      "source": [
        "<details>\n",
        "  <summary><h4><strong>Hint 2</strong></h4></summary>\n",
        "\n",
        "Use the `regplot` function.\n",
        "\n",
        "</details>"
      ],
      "id": "b301e47c"
    },
    {
      "cell_type": "markdown",
      "metadata": {
        "id": "bb679398"
      },
      "source": [
        "<details>\n",
        "  <summary><h4><strong>Hint 3</strong></h4></summary>\n",
        "\n",
        "Set the `logistic` parameter passed in to this function to `True` to estimate a logistic regression model.\n",
        "\n",
        "</details>"
      ],
      "id": "bb679398"
    },
    {
      "cell_type": "markdown",
      "metadata": {
        "id": "9e148aed"
      },
      "source": [
        "**Question:** What can you tell from the graph?"
      ],
      "id": "9e148aed"
    },
    {
      "cell_type": "markdown",
      "metadata": {
        "id": "fZpuUyJhG_jZ"
      },
      "source": [
        "Although there is not so much information about the data points, it's notable that the higher the inflight entertainment, the better the customer satisfaction."
      ],
      "id": "fZpuUyJhG_jZ"
    },
    {
      "cell_type": "markdown",
      "metadata": {
        "id": "i5GEho9s9PUH"
      },
      "source": [
        "As seen before, the model has an intercept or $\\beta_0$ of -3.19 and a $\\beta_1$ of 0.99.\n",
        "\n",
        "$$\n",
        "e^{\\beta_1} = e^{0.99} \\approx 2.691\n",
        "$$\n",
        "\n"
      ],
      "id": "i5GEho9s9PUH"
    },
    {
      "cell_type": "code",
      "execution_count": null,
      "metadata": {
        "id": "fS8Xa5d59PUH",
        "outputId": "337b35eb-535e-4fe1-da00-8ec4665db8fc"
      },
      "outputs": [
        {
          "name": "stdout",
          "output_type": "stream",
          "text": [
            "169.1234472349262\n"
          ]
        }
      ],
      "source": [
        "result = math.exp(0.99)\n",
        "percent_variation = ((result - 1) / 1) * 100\n",
        "\n",
        "print(percent_variation)"
      ],
      "id": "fS8Xa5d59PUH"
    },
    {
      "cell_type": "markdown",
      "metadata": {
        "id": "0W_sVmHm9PUI"
      },
      "source": [
        "Therefore, it can be concluded that for every one-unit increase in Inflight entertainment, an increase of 169.12% in the odds in which the customer is satisfied can be expected."
      ],
      "id": "0W_sVmHm9PUI"
    },
    {
      "cell_type": "markdown",
      "metadata": {
        "id": "ez_akxj1FuUF"
      },
      "source": [
        "## Step 4. Results and evaluation\n"
      ],
      "id": "ez_akxj1FuUF"
    },
    {
      "cell_type": "markdown",
      "metadata": {
        "id": "80a02386"
      },
      "source": [
        "### Predict the outcome for the test dataset\n",
        "\n",
        "Now that you've completed your regression, review and analyze your results. First, input the holdout dataset into the `predict` function to get the predicted labels from the model. Save these predictions as a variable called `y_pred`."
      ],
      "id": "80a02386"
    },
    {
      "cell_type": "code",
      "execution_count": null,
      "metadata": {
        "id": "2c983bcd"
      },
      "outputs": [],
      "source": [
        "### YOUR CODE HERE ###\n",
        "\n",
        "y_pred = clf.predict(X_test)"
      ],
      "id": "2c983bcd"
    },
    {
      "cell_type": "markdown",
      "metadata": {
        "id": "7d7eb725"
      },
      "source": [
        "### Print out `y_pred`\n",
        "\n",
        "In order to examine the predictions, print out `y_pred`."
      ],
      "id": "7d7eb725"
    },
    {
      "cell_type": "code",
      "execution_count": null,
      "metadata": {
        "id": "d0ac9552",
        "outputId": "ec5735f2-2e7a-4b36-c00a-f7dc6622fb3f"
      },
      "outputs": [
        {
          "data": {
            "text/plain": [
              "array([1, 0, 0, ..., 0, 0, 0])"
            ]
          },
          "execution_count": 56,
          "metadata": {},
          "output_type": "execute_result"
        }
      ],
      "source": [
        "y_pred"
      ],
      "id": "d0ac9552"
    },
    {
      "cell_type": "markdown",
      "metadata": {
        "id": "0948e464"
      },
      "source": [
        "### Use the `predict_proba` and `predict` functions on `X_test`"
      ],
      "id": "0948e464"
    },
    {
      "cell_type": "code",
      "execution_count": null,
      "metadata": {
        "id": "b51c0796",
        "outputId": "43eea382-1e5f-4639-cf72-840e439d7acb"
      },
      "outputs": [
        {
          "data": {
            "text/plain": [
              "array([0.85741932, 0.44991598, 0.10010671, ..., 0.10010671, 0.23173775,\n",
              "       0.44991598])"
            ]
          },
          "execution_count": 55,
          "metadata": {},
          "output_type": "execute_result"
        }
      ],
      "source": [
        "# Use predict_proba to output a probability.\n",
        "\n",
        "clf.predict_proba(X_test)[::,-1]"
      ],
      "id": "b51c0796"
    },
    {
      "cell_type": "markdown",
      "metadata": {
        "id": "2b8e9533"
      },
      "source": [
        "<details>\n",
        "  <summary><h4><strong>Hint 1</strong></h4></summary>\n",
        "\n",
        "Using the `predict_proba` function on `X_test` will produce the probability that each observation is a 0 or 1.\n",
        "\n",
        "</details>"
      ],
      "id": "2b8e9533"
    },
    {
      "cell_type": "code",
      "execution_count": null,
      "metadata": {
        "id": "Lr_z1ntu9PUM",
        "outputId": "e8cadad5-a586-4b8f-ed8f-6a4e49a4758b"
      },
      "outputs": [
        {
          "data": {
            "text/plain": [
              "array([1, 0, 0, ..., 0, 0, 0])"
            ]
          },
          "execution_count": 57,
          "metadata": {},
          "output_type": "execute_result"
        }
      ],
      "source": [
        "# Use predict to output 0's and 1's.\n",
        "\n",
        "clf.predict(X_test)"
      ],
      "id": "Lr_z1ntu9PUM"
    },
    {
      "cell_type": "markdown",
      "metadata": {
        "id": "9Ug9SIoMHS0V"
      },
      "source": [
        "<details>\n",
        "  <summary><h4><strong>Hint 2</strong></h4></summary>\n",
        "\n",
        "`clf.predict` outputs an array of 0's and 1's, where 0's are unsatisfied and 1's are satisfied.\n",
        "\n",
        "</details>"
      ],
      "id": "9Ug9SIoMHS0V"
    },
    {
      "cell_type": "markdown",
      "metadata": {
        "id": "d638b5bb"
      },
      "source": [
        "### Analyze the results\n",
        "\n",
        "Print out the model's accuracy, precision, recall, and F1 score."
      ],
      "id": "d638b5bb"
    },
    {
      "cell_type": "code",
      "execution_count": null,
      "metadata": {
        "id": "6de9be28",
        "outputId": "91e828b8-b064-448a-a338-bcbd03d76999"
      },
      "outputs": [
        {
          "name": "stdout",
          "output_type": "stream",
          "text": [
            "Accuracy: 0.801529\n",
            "Precision: 0.816142\n",
            "Recall: 0.821530\n",
            "F1 Score: 0.818827\n"
          ]
        }
      ],
      "source": [
        "### YOUR CODE HERE ###\n",
        "print(\"Accuracy:\", \"%.6f\" % metrics.accuracy_score(y_test, y_pred))\n",
        "print(\"Precision:\", \"%.6f\" % metrics.precision_score(y_test, y_pred))\n",
        "print(\"Recall:\", \"%.6f\" % metrics.recall_score(y_test, y_pred))\n",
        "print(\"F1 Score:\", \"%.6f\" % metrics.f1_score(y_test, y_pred))"
      ],
      "id": "6de9be28"
    },
    {
      "cell_type": "markdown",
      "metadata": {
        "id": "3c6c01ff"
      },
      "source": [
        "<details>\n",
        "  <summary><h4><strong>Hint 1</strong></h4></summary>\n",
        "\n",
        "Use four different functions from `metrics` to get the accuracy, precision, recall, and F1 score.\n",
        "    \n",
        "</details>  "
      ],
      "id": "3c6c01ff"
    },
    {
      "cell_type": "markdown",
      "metadata": {
        "id": "a1727d3a"
      },
      "source": [
        "<details>\n",
        "  <summary><h4><strong>Hint 2</strong></h4></summary>\n",
        "\n",
        "Input `y_test` and `y_pred` into the `metrics.accuracy_score`, `metrics.precision_score`, `metrics.recall_score`, and `metrics.f1_score` functions.\n",
        "    \n",
        "</details>"
      ],
      "id": "a1727d3a"
    },
    {
      "cell_type": "markdown",
      "metadata": {
        "id": "2d63fb90"
      },
      "source": [
        "### Produce a confusion matrix"
      ],
      "id": "2d63fb90"
    },
    {
      "cell_type": "markdown",
      "metadata": {
        "id": "0524c798"
      },
      "source": [
        "Data professionals often like to know the types of errors made by an algorithm. To obtain this information, produce a confusion matrix."
      ],
      "id": "0524c798"
    },
    {
      "cell_type": "code",
      "execution_count": null,
      "metadata": {
        "id": "df15d57b",
        "outputId": "c815fd77-0364-4e5e-9627-42cd357c6fd8"
      },
      "outputs": [
        {
          "data": {
            "image/png": "[encoded data removed]",
            "text/plain": [
              "<Figure size 432x288 with 2 Axes>"
            ]
          },
          "metadata": {
            "needs_background": "light"
          },
          "output_type": "display_data"
        }
      ],
      "source": [
        "def conf_matrix_plot_percentage(model, x_data, y_data):\n",
        "    '''\n",
        "    Accepts a model object, X data (test or validate), and y data (test or validate).\n",
        "    Returns a plot of the confusion matrix with percentages for predictions on y data, including the % symbol.\n",
        "    '''\n",
        "    # Predict the labels\n",
        "    model_pred = model.predict(x_data)\n",
        "\n",
        "    # Compute the confusion matrix\n",
        "    cm = metrics.confusion_matrix(y_data, model_pred, labels=model.classes_)\n",
        "\n",
        "    # Normalize the confusion matrix by row (to show percentages per class)\n",
        "    cm_percentage = cm.astype('float') / cm.sum(axis=1)[:, np.newaxis] * 100\n",
        "\n",
        "    # Create a confusion matrix display\n",
        "    disp = metrics.ConfusionMatrixDisplay(confusion_matrix=cm_percentage,\n",
        "                                  display_labels=model.classes_)\n",
        "\n",
        "    # Plot the confusion matrix\n",
        "    disp.plot()\n",
        "\n",
        "    # Customize text to add the '%' symbol\n",
        "    for i, text in enumerate(disp.text_.ravel()):\n",
        "        value = float(text.get_text())\n",
        "        text.set_text(f\"{value:.2f}%\")  # Format with percentage symbol\n",
        "\n",
        "    plt.title(\"Confusion Matrix\")\n",
        "    plt.xlabel(\"Predicted Label\")\n",
        "    plt.ylabel(\"True Label\")\n",
        "    plt.show()\n",
        "\n",
        "\n",
        "# Create the display for your confusion matrix.\n",
        "\n",
        "conf_matrix_plot_percentage(clf, X_test, y_test)\n",
        "\n",
        "\n",
        "# Plot the visual in-line.\n",
        "\n",
        "plt.show()"
      ],
      "id": "df15d57b"
    },
    {
      "cell_type": "markdown",
      "metadata": {
        "id": "8xxXOVM8JV9o"
      },
      "source": [
        "**Question:** What stands out to you about the confusion matrix?\n",
        "\n",
        "The model performs well overall, with a good number of true positives (82%) and true negatives (78%). This means that the model is good at predicting both satisfied and dissatisfied customers. The number of false negatives and false positives is relatively low."
      ],
      "id": "8xxXOVM8JV9o"
    },
    {
      "cell_type": "markdown",
      "metadata": {
        "id": "13e29875"
      },
      "source": [
        "<details>\n",
        "  <summary><h4><strong>Hint 1</strong></h4></summary>\n",
        "\n",
        "Refer to [the content about plotting a confusion matrix](https://www.coursera.org/learn/regression-analysis-simplify-complex-data-relationships/lecture/SpRqe/evaluate-a-binomial-logistic-regression-model).\n",
        "\n",
        "</details>"
      ],
      "id": "13e29875"
    },
    {
      "cell_type": "markdown",
      "metadata": {
        "id": "fd4b3546"
      },
      "source": [
        "**Question:** Did you notice any difference in the number of false positives or false negatives that the model produced?"
      ],
      "id": "fd4b3546"
    },
    {
      "cell_type": "markdown",
      "metadata": {
        "id": "uqhHr9g4HQdZ"
      },
      "source": [
        "There isn't a large difference between the false positives and false negatives (only a 4% difference)."
      ],
      "id": "uqhHr9g4HQdZ"
    },
    {
      "cell_type": "markdown",
      "metadata": {
        "id": "287993f0"
      },
      "source": [
        "**Question:** What do you think could be done to improve model performance?"
      ],
      "id": "287993f0"
    },
    {
      "cell_type": "markdown",
      "metadata": {
        "id": "f8bQmT9EHTij"
      },
      "source": [
        "The addition of more independent variables could improve the model and tell more about other facts that influence customer satisfaction, such as `Ease of online booking`, `Seat comfort`, `Class`, and `Type of travel`."
      ],
      "id": "f8bQmT9EHTij"
    },
    {
      "cell_type": "markdown",
      "metadata": {
        "id": "e3075324"
      },
      "source": [
        "## Considerations\n",
        "\n",
        "**What findings would you share with others?**\n",
        "\n",
        "The model:\n",
        "\n",
        "* Presented an accuracy of 80,2%, which means that it predicted satisfaction 80,2% of the time.\n",
        "* Presented a precision of 81,61%, a recall of 82,15%, and an F1-score of 81,88, showcasing the good performance of the model at predicting both satisfied and dissatisfied customers.\n",
        "* Had a good performance in general, with a good amount of true positives (82%) and true negatives (78%), which means that the model is good at predicting both satisfied and dissatisfied customers. The amount of false negatives and false positives is relatively low.\n",
        "\n",
        "**What would you recommend to stakeholders?**\n",
        "\n",
        "* The model presented an 80,2% accuracy and a good performance at predicting both satisfied and dissatisfied customers. Thus, the model can be used to better understand and improve customer satisfaction strategies through in-flight entertainment improvement.\n",
        "\n",
        "* It's recommended to invest more in the model improvement, by examining other variables that can led to customer satisfaction, such as seat comfort, ease of online booking, class, and type of travel.\n",
        "\n",
        "* The results of the logistic regression highlight that in-flight entertainment (IFE) is a significant factor influencing customer satisfaction with airline services. Specifically, the analysis shows that for every one-unit increase in the in-flight entertainment rating, the odds of a customer being satisfied increase by 169.12%. This substantial impact underscores the importance of prioritizing investments in this area to enhance the overall passenger experience. Therefore, it's recommended to:\n",
        "\n",
        "     * **Expand IFE Content:** Offer a broader, regularly updated selection of movies, shows, and multilingual options.\n",
        "     * **Upgrade Technology:** Invest in reliable, user-friendly systems with high-resolution displays.\n",
        "     * **Personalize Experience:** Tailor content recommendations based on passenger profiles.\n",
        "     * **Promote IFE Features:** Highlight the enhanced offerings in marketing campaigns.\n",
        "     * **Collect Feedback:** Use surveys and real-time tools to monitor satisfaction.\n",
        "\n",
        " Improving IFE can boost customer loyalty, enhance the airline's reputation, and give the company a competitive edge in the market."
      ],
      "id": "e3075324"
    },
    {
      "cell_type": "markdown",
      "metadata": {
        "id": "xe6xTNt79PUR"
      },
      "source": [
        "**Congratulations!** You've completed this lab. However, you may not notice a green check mark next to this item on Coursera's platform. Please continue your progress regardless of the check mark. Just click on the \"save\" icon at the top of this notebook to ensure your work has been logged."
      ],
      "id": "xe6xTNt79PUR"
    }
  ],
  "metadata": {
    "colab": {
      "provenance": [],
      "include_colab_link": true
    },
    "gpuClass": "standard",
    "kernelspec": {
      "display_name": "Python 3",
      "language": "python",
      "name": "python3"
    },
    "language_info": {
      "codemirror_mode": {
        "name": "ipython",
        "version": 3
      },
      "file_extension": ".py",
      "mimetype": "text/x-python",
      "name": "python",
      "nbconvert_exporter": "python",
      "pygments_lexer": "ipython3",
      "version": "3.7.6"
    }
  },
  "nbformat": 4,
  "nbformat_minor": 5
}
