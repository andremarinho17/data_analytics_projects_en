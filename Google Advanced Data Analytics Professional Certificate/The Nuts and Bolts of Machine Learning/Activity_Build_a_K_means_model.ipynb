{
  "cells": [
    {
      "cell_type": "markdown",
      "metadata": {
        "id": "view-in-github",
        "colab_type": "text"
      },
      "source": [
        "<a href=\"https://colab.research.google.com/github/andremarinho17/data_analytics_projects_en/blob/main/Activity_Build_a_K_means_model.ipynb\" target=\"_parent\"><img src=\"https://colab.research.google.com/assets/colab-badge.svg\" alt=\"Open In Colab\"/></a>"
      ]
    },
    {
      "cell_type": "markdown",
      "metadata": {
        "id": "700acefd-8120-42a9-a650-c610467e2a4c"
      },
      "source": [
        "# Activity: Build a K-means model for a scientific organization\n",
        "\n",
        "<p align=\"center\"><img src=\"https://img.freepik.com/premium-photo/three-penguins-dressed-as-scientists-work-laboratory_14117-855700.jpg\" >\n",
        "\n",
        "Art: freepik\n",
        "\n",
        "\n",
        "### **Author:** André Marinho\n",
        "\n",
        "## **Introduction**\n",
        "\n",
        "K-means clustering is very effective when segmenting data and attempting to find patterns. Because clustering is used in a broad array of industries, becoming proficient in this process will help you expand your skillset in a widely applicable way.   \n",
        "\n",
        "In this activity, you are a consultant for a scientific organization that works to support and sustain penguin colonies. You are tasked with helping other staff members learn more about penguins in order to achieve this mission.\n",
        "\n",
        "The data for this activity is in a spreadsheet that includes datapoints across a sample size of 345 penguins, such as species, island, and sex. Your will use a K-means clustering model to group this data and identify patterns that provide important insights about penguins.\n",
        "\n",
        "**Note:** Because this lab uses a real dataset, this notebook will first require basic EDA, data cleaning, and other manipulations to prepare the data for modeling."
      ],
      "id": "700acefd-8120-42a9-a650-c610467e2a4c"
    },
    {
      "cell_type": "markdown",
      "metadata": {
        "id": "b42252b9-b980-4ee0-8cfd-82f4239b6d1a"
      },
      "source": [
        "## **Step 1: Imports**\n"
      ],
      "id": "b42252b9-b980-4ee0-8cfd-82f4239b6d1a"
    },
    {
      "cell_type": "markdown",
      "metadata": {
        "id": "oz38PANKW0ys"
      },
      "source": [
        "Import statements including `K-means`, `silhouette_score`, and `StandardScaler`."
      ],
      "id": "oz38PANKW0ys"
    },
    {
      "cell_type": "code",
      "execution_count": null,
      "metadata": {
        "id": "aacf7b0d-d652-46c4-a9fc-f1ff377bdd0c"
      },
      "outputs": [],
      "source": [
        "# Standard operational package imports\n",
        "import numpy as np\n",
        "import pandas as pd\n",
        "\n",
        "##################################################\n",
        "###  Important imports for modeling and evaluation\n",
        "from sklearn.cluster import KMeans\n",
        "from sklearn.metrics import silhouette_score\n",
        "from sklearn.preprocessing import StandardScaler\n",
        "##################################################\n",
        "\n",
        "# Visualization package import\n",
        "import seaborn as sns"
      ],
      "id": "aacf7b0d-d652-46c4-a9fc-f1ff377bdd0c"
    },
    {
      "cell_type": "markdown",
      "metadata": {
        "id": "a60990fd-4723-4a2b-a0db-9dfa6c7c881c"
      },
      "source": [
        "`Pandas` is used to load the penguins dataset, which is built into the `seaborn` library. The resulting `pandas` DataFrame is saved in a variable named `penguins`. As shown in this cell, the dataset has been automatically loaded in for you. You do not need to download the .csv file, or provide more code, in order to access the dataset and proceed with this lab. Please continue with this activity by completing the following instructions."
      ],
      "id": "a60990fd-4723-4a2b-a0db-9dfa6c7c881c"
    },
    {
      "cell_type": "code",
      "execution_count": null,
      "metadata": {
        "id": "80535d2f-8b1a-4715-b07a-f3734d8cc4c5"
      },
      "outputs": [],
      "source": [
        "# RUN THIS CELL TO IMPORT YOUR DATA.\n",
        "\n",
        "# Save the `pandas` DataFrame in variable `df`.\n",
        "\n",
        "### YOUR CODE HERE ###\n",
        "\n",
        "df = pd.read_csv(\"penguins.csv\")"
      ],
      "id": "80535d2f-8b1a-4715-b07a-f3734d8cc4c5"
    },
    {
      "cell_type": "markdown",
      "metadata": {
        "id": "9Jj6cvmyIreA"
      },
      "source": [
        "<details>\n",
        "  <summary><h4><strong>Hint 1</strong></h4></summary>\n",
        "\n",
        "Use the `load_dataset` function.\n",
        "\n",
        "</details>"
      ],
      "id": "9Jj6cvmyIreA"
    },
    {
      "cell_type": "markdown",
      "metadata": {
        "id": "0irW2qcaah5S"
      },
      "source": [
        "<details>\n",
        "  <summary><h4><strong>Hint 2</strong></h4></summary>\n",
        "\n",
        "The function is from seaborn (`sns`). It should be passed in the dataset name `'penguins'` as a string.\n",
        "\n",
        "</details>"
      ],
      "id": "0irW2qcaah5S"
    },
    {
      "cell_type": "markdown",
      "metadata": {
        "id": "46448192-f2f8-4f78-9f76-6e4bb699da7b"
      },
      "source": [
        "Now, review the first 10 rows of data.\n"
      ],
      "id": "46448192-f2f8-4f78-9f76-6e4bb699da7b"
    },
    {
      "cell_type": "code",
      "execution_count": null,
      "metadata": {
        "id": "U8JZjN-zJwx6",
        "outputId": "e357d57b-44f7-4858-d0d6-a208c0489bc9"
      },
      "outputs": [
        {
          "data": {
            "text/html": [
              "<div>\n",
              "<style scoped>\n",
              "    .dataframe tbody tr th:only-of-type {\n",
              "        vertical-align: middle;\n",
              "    }\n",
              "\n",
              "    .dataframe tbody tr th {\n",
              "        vertical-align: top;\n",
              "    }\n",
              "\n",
              "    .dataframe thead th {\n",
              "        text-align: right;\n",
              "    }\n",
              "</style>\n",
              "<table border=\"1\" class=\"dataframe\">\n",
              "  <thead>\n",
              "    <tr style=\"text-align: right;\">\n",
              "      <th></th>\n",
              "      <th>species</th>\n",
              "      <th>island</th>\n",
              "      <th>bill_length_mm</th>\n",
              "      <th>bill_depth_mm</th>\n",
              "      <th>flipper_length_mm</th>\n",
              "      <th>body_mass_g</th>\n",
              "      <th>sex</th>\n",
              "    </tr>\n",
              "  </thead>\n",
              "  <tbody>\n",
              "    <tr>\n",
              "      <th>0</th>\n",
              "      <td>Adelie</td>\n",
              "      <td>Torgersen</td>\n",
              "      <td>39.1</td>\n",
              "      <td>18.7</td>\n",
              "      <td>181.0</td>\n",
              "      <td>3750.0</td>\n",
              "      <td>male</td>\n",
              "    </tr>\n",
              "    <tr>\n",
              "      <th>1</th>\n",
              "      <td>Adelie</td>\n",
              "      <td>Torgersen</td>\n",
              "      <td>39.5</td>\n",
              "      <td>17.4</td>\n",
              "      <td>186.0</td>\n",
              "      <td>3800.0</td>\n",
              "      <td>female</td>\n",
              "    </tr>\n",
              "    <tr>\n",
              "      <th>2</th>\n",
              "      <td>Adelie</td>\n",
              "      <td>Torgersen</td>\n",
              "      <td>40.3</td>\n",
              "      <td>18.0</td>\n",
              "      <td>195.0</td>\n",
              "      <td>3250.0</td>\n",
              "      <td>female</td>\n",
              "    </tr>\n",
              "    <tr>\n",
              "      <th>3</th>\n",
              "      <td>Adelie</td>\n",
              "      <td>Torgersen</td>\n",
              "      <td>NaN</td>\n",
              "      <td>NaN</td>\n",
              "      <td>NaN</td>\n",
              "      <td>NaN</td>\n",
              "      <td>NaN</td>\n",
              "    </tr>\n",
              "    <tr>\n",
              "      <th>4</th>\n",
              "      <td>Adelie</td>\n",
              "      <td>Torgersen</td>\n",
              "      <td>36.7</td>\n",
              "      <td>19.3</td>\n",
              "      <td>193.0</td>\n",
              "      <td>3450.0</td>\n",
              "      <td>female</td>\n",
              "    </tr>\n",
              "    <tr>\n",
              "      <th>5</th>\n",
              "      <td>Adelie</td>\n",
              "      <td>Torgersen</td>\n",
              "      <td>39.3</td>\n",
              "      <td>20.6</td>\n",
              "      <td>190.0</td>\n",
              "      <td>3650.0</td>\n",
              "      <td>male</td>\n",
              "    </tr>\n",
              "    <tr>\n",
              "      <th>6</th>\n",
              "      <td>Adelie</td>\n",
              "      <td>Torgersen</td>\n",
              "      <td>38.9</td>\n",
              "      <td>17.8</td>\n",
              "      <td>181.0</td>\n",
              "      <td>3625.0</td>\n",
              "      <td>female</td>\n",
              "    </tr>\n",
              "    <tr>\n",
              "      <th>7</th>\n",
              "      <td>Adelie</td>\n",
              "      <td>Torgersen</td>\n",
              "      <td>39.2</td>\n",
              "      <td>19.6</td>\n",
              "      <td>195.0</td>\n",
              "      <td>4675.0</td>\n",
              "      <td>male</td>\n",
              "    </tr>\n",
              "    <tr>\n",
              "      <th>8</th>\n",
              "      <td>Adelie</td>\n",
              "      <td>Torgersen</td>\n",
              "      <td>34.1</td>\n",
              "      <td>18.1</td>\n",
              "      <td>193.0</td>\n",
              "      <td>3475.0</td>\n",
              "      <td>NaN</td>\n",
              "    </tr>\n",
              "    <tr>\n",
              "      <th>9</th>\n",
              "      <td>Adelie</td>\n",
              "      <td>Torgersen</td>\n",
              "      <td>42.0</td>\n",
              "      <td>20.2</td>\n",
              "      <td>190.0</td>\n",
              "      <td>4250.0</td>\n",
              "      <td>NaN</td>\n",
              "    </tr>\n",
              "  </tbody>\n",
              "</table>\n",
              "</div>"
            ],
            "text/plain": [
              "  species     island  bill_length_mm  bill_depth_mm  flipper_length_mm  \\\n",
              "0  Adelie  Torgersen            39.1           18.7              181.0   \n",
              "1  Adelie  Torgersen            39.5           17.4              186.0   \n",
              "2  Adelie  Torgersen            40.3           18.0              195.0   \n",
              "3  Adelie  Torgersen             NaN            NaN                NaN   \n",
              "4  Adelie  Torgersen            36.7           19.3              193.0   \n",
              "5  Adelie  Torgersen            39.3           20.6              190.0   \n",
              "6  Adelie  Torgersen            38.9           17.8              181.0   \n",
              "7  Adelie  Torgersen            39.2           19.6              195.0   \n",
              "8  Adelie  Torgersen            34.1           18.1              193.0   \n",
              "9  Adelie  Torgersen            42.0           20.2              190.0   \n",
              "\n",
              "   body_mass_g     sex  \n",
              "0       3750.0    male  \n",
              "1       3800.0  female  \n",
              "2       3250.0  female  \n",
              "3          NaN     NaN  \n",
              "4       3450.0  female  \n",
              "5       3650.0    male  \n",
              "6       3625.0  female  \n",
              "7       4675.0    male  \n",
              "8       3475.0     NaN  \n",
              "9       4250.0     NaN  "
            ]
          },
          "execution_count": 3,
          "metadata": {},
          "output_type": "execute_result"
        }
      ],
      "source": [
        "# Review the first 10 rows.\n",
        "\n",
        "df.head(10)"
      ],
      "id": "U8JZjN-zJwx6"
    },
    {
      "cell_type": "markdown",
      "metadata": {
        "id": "tooWlpMBHqoi"
      },
      "source": [
        "<details>\n",
        "  <summary><h4><strong>Hint 1</strong></h4></summary>\n",
        "\n",
        "Use the `head()` method.\n",
        "\n",
        "</details>"
      ],
      "id": "tooWlpMBHqoi"
    },
    {
      "cell_type": "markdown",
      "metadata": {
        "id": "Fg0PhE51Kiz6"
      },
      "source": [
        "<details>\n",
        "  <summary><h4><strong>Hint 2</strong></h4></summary>\n",
        "\n",
        "By default, the method only returns five rows. To change this, specify how many rows `(n = )` you want.\n",
        "\n",
        "</details>"
      ],
      "id": "Fg0PhE51Kiz6"
    },
    {
      "cell_type": "markdown",
      "metadata": {
        "id": "ec269f85-6622-4f82-bdcd-1874224a4052",
        "tags": []
      },
      "source": [
        "## **Step 2: Data exploration**\n",
        "\n",
        "After loading the dataset, the next step is to prepare the data to be suitable for clustering. This includes:\n",
        "\n",
        "*   Exploring data\n",
        "*   Checking for missing values\n",
        "*   Encoding data\n",
        "*   Dropping a column\n",
        "*   Scaling the features using `StandardScaler`"
      ],
      "id": "ec269f85-6622-4f82-bdcd-1874224a4052"
    },
    {
      "cell_type": "markdown",
      "metadata": {
        "id": "d7ccd368"
      },
      "source": [
        "### Explore data\n",
        "\n",
        "To cluster penguins of multiple different species, determine how many different types of penguin species are in the dataset."
      ],
      "id": "d7ccd368"
    },
    {
      "cell_type": "code",
      "execution_count": null,
      "metadata": {
        "id": "8098d8a3",
        "outputId": "d2d82158-12f2-4cf7-c85d-27c5d2d3faf9"
      },
      "outputs": [
        {
          "data": {
            "text/plain": [
              "array(['Adelie', 'Chinstrap', 'Gentoo'], dtype=object)"
            ]
          },
          "execution_count": 6,
          "metadata": {},
          "output_type": "execute_result"
        }
      ],
      "source": [
        "# Find out how many penguin types there are.\n",
        "\n",
        "df['species'].unique()"
      ],
      "id": "8098d8a3"
    },
    {
      "cell_type": "markdown",
      "metadata": {
        "id": "9221f9a4"
      },
      "source": [
        "<details>\n",
        "  <summary><h4><strong>Hint 1</strong></h4></summary>\n",
        "\n",
        "Use the `unique()` method.\n",
        "\n",
        "</details>"
      ],
      "id": "9221f9a4"
    },
    {
      "cell_type": "markdown",
      "metadata": {
        "id": "62d8c90f"
      },
      "source": [
        "<details>\n",
        "  <summary><h4><strong>Hint 2</strong></h4></summary>\n",
        "\n",
        "Use the `unique()` method on the column `'species'`.\n",
        "\n",
        "</details>"
      ],
      "id": "62d8c90f"
    },
    {
      "cell_type": "code",
      "execution_count": null,
      "metadata": {
        "id": "1730341a",
        "outputId": "63cc6a9d-ddba-44a1-926f-2ad185bf2522"
      },
      "outputs": [
        {
          "data": {
            "text/plain": [
              "Adelie       152\n",
              "Gentoo       124\n",
              "Chinstrap     68\n",
              "Name: species, dtype: int64"
            ]
          },
          "execution_count": 7,
          "metadata": {},
          "output_type": "execute_result"
        }
      ],
      "source": [
        "# Find the count of each species type.\n",
        "\n",
        "df['species'].value_counts()"
      ],
      "id": "1730341a"
    },
    {
      "cell_type": "markdown",
      "metadata": {
        "id": "74fe9495"
      },
      "source": [
        "<details>\n",
        "  <summary><h4><strong>Hint 1</strong></h4></summary>\n",
        "\n",
        "Use the `value_counts()` method.\n",
        "\n",
        "</details>"
      ],
      "id": "74fe9495"
    },
    {
      "cell_type": "markdown",
      "metadata": {
        "id": "a65b62e6"
      },
      "source": [
        "<details>\n",
        "  <summary><h4><strong>Hint 2</strong></h4></summary>\n",
        "\n",
        "Use the `value_counts()` method on the column `'species'`.\n",
        "\n",
        "</details>"
      ],
      "id": "a65b62e6"
    },
    {
      "cell_type": "markdown",
      "metadata": {
        "id": "a2ae00e8"
      },
      "source": [
        "**Question:** How many types of species are present in the dataset?"
      ],
      "id": "a2ae00e8"
    },
    {
      "cell_type": "markdown",
      "metadata": {
        "id": "yP0PPSd9dwIy"
      },
      "source": [
        "There are three types of species in the dataset: Adelie, Gentoo, and Chinstrap.\n",
        "\n",
        "The **Adélie** penguin is one of the most well-known and widely studied species, found along the entire Antarctic coastline. Recognizable by the white ring around its eyes and its distinct black and white plumage, this small penguin is well-adapted to the extreme cold of the Antarctic region. Adélie penguins are highly social birds, often forming large colonies during breeding seasons. They primarily feed on krill, fish, and other marine life, diving to great depths to catch their prey. Their resilient nature and strong swimming abilities make them an important species in studying the effects of climate change on Antarctic ecosystems.\n",
        "\n",
        "The **Gentoo** penguin is the third-largest species of penguin and is known for its distinctive white patch above the eyes and orange-red bill. Found in the sub-Antarctic islands and along the Antarctic Peninsula, the Gentoo penguin prefers ice-free land to breed. It is a highly active and fast swimmer, capable of reaching speeds of up to 36 kilometers per hour in the water. Gentoo penguins are opportunistic feeders, primarily eating krill, small fish, and squid, and are known for their strong territorial behavior during the breeding season. Their populations are generally stable, although they face threats from habitat changes and predation by seals and birds.\n",
        "\n",
        "The **Chinstrap** penguin, named for the narrow black band under its chin, is one of the most abundant penguin species found on islands in the Southern Ocean, especially in the Antarctic Peninsula. These medium-sized penguins are known for their energetic and aggressive behavior, often seen in large, noisy colonies. Chinstrap penguins feed mostly on krill, fish, and other small marine organisms. Their breeding sites are typically located on rocky, high-altitude islands to avoid predators. While their populations are substantial, they are vulnerable to environmental disruptions such as changes in sea ice and food availability, which can impact their survival and breeding success."
      ],
      "id": "yP0PPSd9dwIy"
    },
    {
      "cell_type": "markdown",
      "metadata": {
        "id": "1f175bc9"
      },
      "source": [
        "**Question:** Why is it helpful to determine the perfect number of clusters using K-means when you already know how many penguin species the dataset contains?"
      ],
      "id": "1f175bc9"
    },
    {
      "cell_type": "markdown",
      "metadata": {
        "id": "cStvumg8IreD"
      },
      "source": [
        "Even if the number of penguin species is known, using K-means to determine the optimal number of clusters helps validate the assumptions and ensure the dataset naturally groups into those species. It can also reveal hidden patterns, identify noisy or incomplete data, and improve the accuracy of further analysis."
      ],
      "id": "cStvumg8IreD"
    },
    {
      "cell_type": "markdown",
      "metadata": {
        "id": "4222ca54"
      },
      "source": [
        "### Check for missing values"
      ],
      "id": "4222ca54"
    },
    {
      "cell_type": "markdown",
      "metadata": {
        "id": "TgANHJBVxpbI"
      },
      "source": [
        "An assumption of K-means is that there are no missing values. Check for missing values in the rows of the data."
      ],
      "id": "TgANHJBVxpbI"
    },
    {
      "cell_type": "code",
      "execution_count": null,
      "metadata": {
        "id": "3_SVlY1VpY4h",
        "outputId": "2123d453-1ae4-428d-f353-82ba5ce89209"
      },
      "outputs": [
        {
          "data": {
            "text/plain": [
              "species               0\n",
              "island                0\n",
              "bill_length_mm        2\n",
              "bill_depth_mm         2\n",
              "flipper_length_mm     2\n",
              "body_mass_g           2\n",
              "sex                  11\n",
              "dtype: int64"
            ]
          },
          "execution_count": 9,
          "metadata": {},
          "output_type": "execute_result"
        }
      ],
      "source": [
        "# Check for missing values.\n",
        "\n",
        "df.isnull().sum()"
      ],
      "id": "3_SVlY1VpY4h"
    },
    {
      "cell_type": "markdown",
      "metadata": {
        "id": "ptn9xlIjJOAL"
      },
      "source": [
        "<details>\n",
        "  <summary><h4><strong>Hint 1</strong></h4></summary>\n",
        "\n",
        "Use the `isnull` and `sum` methods.\n",
        "\n",
        "</details>"
      ],
      "id": "ptn9xlIjJOAL"
    },
    {
      "cell_type": "markdown",
      "metadata": {
        "id": "eb005a73-4621-45b9-8114-30472ce20327"
      },
      "source": [
        "Now, drop the rows with missing values and save the resulting pandas DataFrame in a variable named `df_subset`."
      ],
      "id": "eb005a73-4621-45b9-8114-30472ce20327"
    },
    {
      "cell_type": "code",
      "execution_count": null,
      "metadata": {
        "id": "1cee438e-8b1f-4855-855e-3723d1958b69"
      },
      "outputs": [],
      "source": [
        "# Drop rows with missing values.\n",
        "# Save DataFrame in variable `df_subset`.\n",
        "\n",
        "df_subset = df.dropna(axis=0).reset_index(drop = True)"
      ],
      "id": "1cee438e-8b1f-4855-855e-3723d1958b69"
    },
    {
      "cell_type": "markdown",
      "metadata": {
        "id": "374b2b21"
      },
      "source": [
        "<details>\n",
        "  <summary><h4><strong>Hint 1</strong></h4></summary>\n",
        "\n",
        "Use `dropna`. Note that an axis parameter passed in to this function should be set to 0 if you want to drop rows containing missing values or 1 if you want to drop columns containing missing values. Optionally, `reset_index` may also be used to avoid a SettingWithCopy warning later in the notebook.\n",
        "</details>"
      ],
      "id": "374b2b21"
    },
    {
      "cell_type": "markdown",
      "metadata": {
        "id": "ymfmX-WvW31z"
      },
      "source": [
        "Next, check to make sure that `df_subset` does not contain any missing values."
      ],
      "id": "ymfmX-WvW31z"
    },
    {
      "cell_type": "code",
      "execution_count": null,
      "metadata": {
        "id": "n36d4yztW4BA",
        "outputId": "582a91fd-8fa5-4b4d-ef9e-1f33bacafb73"
      },
      "outputs": [
        {
          "data": {
            "text/plain": [
              "species              0\n",
              "island               0\n",
              "bill_length_mm       0\n",
              "bill_depth_mm        0\n",
              "flipper_length_mm    0\n",
              "body_mass_g          0\n",
              "sex                  0\n",
              "dtype: int64"
            ]
          },
          "execution_count": 11,
          "metadata": {},
          "output_type": "execute_result"
        }
      ],
      "source": [
        "# Check for missing values.\n",
        "\n",
        "df_subset.isnull().sum()"
      ],
      "id": "n36d4yztW4BA"
    },
    {
      "cell_type": "markdown",
      "metadata": {
        "id": "0021b18e-4c93-4628-8d0d-2c55a98cc691"
      },
      "source": [
        "Now, review the first 10 rows of the subset."
      ],
      "id": "0021b18e-4c93-4628-8d0d-2c55a98cc691"
    },
    {
      "cell_type": "code",
      "execution_count": null,
      "metadata": {
        "id": "a58b4d77-6023-428d-89aa-4d2ac52003dc",
        "outputId": "7f4d9815-8a51-40d7-9acb-3e9744c846d1"
      },
      "outputs": [
        {
          "data": {
            "text/html": [
              "<div>\n",
              "<style scoped>\n",
              "    .dataframe tbody tr th:only-of-type {\n",
              "        vertical-align: middle;\n",
              "    }\n",
              "\n",
              "    .dataframe tbody tr th {\n",
              "        vertical-align: top;\n",
              "    }\n",
              "\n",
              "    .dataframe thead th {\n",
              "        text-align: right;\n",
              "    }\n",
              "</style>\n",
              "<table border=\"1\" class=\"dataframe\">\n",
              "  <thead>\n",
              "    <tr style=\"text-align: right;\">\n",
              "      <th></th>\n",
              "      <th>species</th>\n",
              "      <th>island</th>\n",
              "      <th>bill_length_mm</th>\n",
              "      <th>bill_depth_mm</th>\n",
              "      <th>flipper_length_mm</th>\n",
              "      <th>body_mass_g</th>\n",
              "      <th>sex</th>\n",
              "    </tr>\n",
              "  </thead>\n",
              "  <tbody>\n",
              "    <tr>\n",
              "      <th>0</th>\n",
              "      <td>Adelie</td>\n",
              "      <td>Torgersen</td>\n",
              "      <td>39.1</td>\n",
              "      <td>18.7</td>\n",
              "      <td>181.0</td>\n",
              "      <td>3750.0</td>\n",
              "      <td>male</td>\n",
              "    </tr>\n",
              "    <tr>\n",
              "      <th>1</th>\n",
              "      <td>Adelie</td>\n",
              "      <td>Torgersen</td>\n",
              "      <td>39.5</td>\n",
              "      <td>17.4</td>\n",
              "      <td>186.0</td>\n",
              "      <td>3800.0</td>\n",
              "      <td>female</td>\n",
              "    </tr>\n",
              "    <tr>\n",
              "      <th>2</th>\n",
              "      <td>Adelie</td>\n",
              "      <td>Torgersen</td>\n",
              "      <td>40.3</td>\n",
              "      <td>18.0</td>\n",
              "      <td>195.0</td>\n",
              "      <td>3250.0</td>\n",
              "      <td>female</td>\n",
              "    </tr>\n",
              "    <tr>\n",
              "      <th>3</th>\n",
              "      <td>Adelie</td>\n",
              "      <td>Torgersen</td>\n",
              "      <td>36.7</td>\n",
              "      <td>19.3</td>\n",
              "      <td>193.0</td>\n",
              "      <td>3450.0</td>\n",
              "      <td>female</td>\n",
              "    </tr>\n",
              "    <tr>\n",
              "      <th>4</th>\n",
              "      <td>Adelie</td>\n",
              "      <td>Torgersen</td>\n",
              "      <td>39.3</td>\n",
              "      <td>20.6</td>\n",
              "      <td>190.0</td>\n",
              "      <td>3650.0</td>\n",
              "      <td>male</td>\n",
              "    </tr>\n",
              "  </tbody>\n",
              "</table>\n",
              "</div>"
            ],
            "text/plain": [
              "  species     island  bill_length_mm  bill_depth_mm  flipper_length_mm  \\\n",
              "0  Adelie  Torgersen            39.1           18.7              181.0   \n",
              "1  Adelie  Torgersen            39.5           17.4              186.0   \n",
              "2  Adelie  Torgersen            40.3           18.0              195.0   \n",
              "3  Adelie  Torgersen            36.7           19.3              193.0   \n",
              "4  Adelie  Torgersen            39.3           20.6              190.0   \n",
              "\n",
              "   body_mass_g     sex  \n",
              "0       3750.0    male  \n",
              "1       3800.0  female  \n",
              "2       3250.0  female  \n",
              "3       3450.0  female  \n",
              "4       3650.0    male  "
            ]
          },
          "execution_count": 12,
          "metadata": {},
          "output_type": "execute_result"
        }
      ],
      "source": [
        "# View first 10 rows.\n",
        "\n",
        "df_subset.head()"
      ],
      "id": "a58b4d77-6023-428d-89aa-4d2ac52003dc"
    },
    {
      "cell_type": "markdown",
      "metadata": {
        "id": "d491a508"
      },
      "source": [
        "### Encode data\n",
        "\n",
        "Some versions of the penguins dataset have values encoded in the sex column as 'Male' and 'Female' instead of 'MALE' and 'FEMALE'. The code below will make sure all values are ALL CAPS.\n"
      ],
      "id": "d491a508"
    },
    {
      "cell_type": "code",
      "execution_count": null,
      "metadata": {
        "id": "ofs1fqq9HQ-2"
      },
      "outputs": [],
      "source": [
        "df_subset['sex'] = df_subset['sex'].str.upper()"
      ],
      "id": "ofs1fqq9HQ-2"
    },
    {
      "cell_type": "markdown",
      "metadata": {
        "id": "EO5fqIwUHOmi"
      },
      "source": [
        "K-means needs numeric columns for clustering. Convert the categorical column `'sex'` into numeric. There is no need to convert the `'species'` column because it isn't being used as a feature in the clustering algorithm."
      ],
      "id": "EO5fqIwUHOmi"
    },
    {
      "cell_type": "code",
      "execution_count": null,
      "metadata": {
        "id": "U833roOu1Qf9"
      },
      "outputs": [],
      "source": [
        "# Convert `sex` column from categorical to numeric.\n",
        "\n",
        "df_subset = pd.get_dummies(df_subset, drop_first = True, columns=['sex'])"
      ],
      "id": "U833roOu1Qf9"
    },
    {
      "cell_type": "markdown",
      "metadata": {
        "id": "d10c6d43"
      },
      "source": [
        "<details>\n",
        "  <summary><h4><strong>Hint 1</strong></h4></summary>\n",
        "\n",
        "Use the `get_dummies` function.\n",
        "\n",
        "</details>"
      ],
      "id": "d10c6d43"
    },
    {
      "cell_type": "markdown",
      "metadata": {
        "id": "4ef2e46a"
      },
      "source": [
        "<details>\n",
        "  <summary><h4><strong>Hint 2</strong></h4></summary>\n",
        "\n",
        "The `drop_first` parameter should be set to `True`. This removes redundant data. The `columns` parameter can **optionally** be set to `['sex']` to specify that only the `'sex'` column gets this operation performed on it.\n",
        "\n",
        "</details>"
      ],
      "id": "4ef2e46a"
    },
    {
      "cell_type": "markdown",
      "metadata": {
        "id": "725cc2b0"
      },
      "source": [
        "### Drop a column\n",
        "\n",
        "Drop the categorical column `island` from the dataset. While it has value, this notebook is trying to confirm if penguins of the same species exhibit different physical characteristics based on sex. This doesn't include location.\n",
        "\n",
        "Note that the `'species'` column is not numeric. Don't drop the `'species'` column for now. It could potentially be used to help understand the clusters later."
      ],
      "id": "725cc2b0"
    },
    {
      "cell_type": "code",
      "execution_count": null,
      "metadata": {
        "id": "pjuzLZUhIreE",
        "outputId": "950bbf34-9d42-42e8-9117-788e0a53dfd7"
      },
      "outputs": [
        {
          "data": {
            "text/plain": [
              "Index(['species', 'island', 'bill_length_mm', 'bill_depth_mm',\n",
              "       'flipper_length_mm', 'body_mass_g', 'sex'],\n",
              "      dtype='object')"
            ]
          },
          "execution_count": 16,
          "metadata": {},
          "output_type": "execute_result"
        }
      ],
      "source": [
        "df.columns"
      ],
      "id": "pjuzLZUhIreE"
    },
    {
      "cell_type": "code",
      "execution_count": null,
      "metadata": {
        "id": "841986cc"
      },
      "outputs": [],
      "source": [
        "# Drop the island column.\n",
        "\n",
        "df_subset = df_subset.drop(['island'], axis=1)"
      ],
      "id": "841986cc"
    },
    {
      "cell_type": "markdown",
      "metadata": {
        "id": "Gqs356GLi-OX"
      },
      "source": [
        "### Scale the features\n",
        "\n",
        "Because K-means uses distance between observations as its measure of similarity, it's important to scale the data before modeling. Use a third-party tool, such as scikit-learn's `StandardScaler` function. `StandardScaler` scales each point xᵢ by subtracting the mean observed value for that feature and dividing by the standard deviation:\n",
        "\n",
        "x-scaled = (xᵢ – mean(X)) / σ\n",
        "\n",
        "This ensures that all variables have a mean of 0 and variance/standard deviation of 1.\n",
        "\n",
        "**Note:** Because the species column isn't a feature, it doesn't need to be scaled.\n",
        "\n",
        "First, copy all the features except the `'species'` column to a DataFrame `X`."
      ],
      "id": "Gqs356GLi-OX"
    },
    {
      "cell_type": "code",
      "execution_count": null,
      "metadata": {
        "id": "37a93839",
        "outputId": "c2ca36aa-a603-4ed4-8ed0-2c0d833131f8"
      },
      "outputs": [
        {
          "data": {
            "text/html": [
              "<div>\n",
              "<style scoped>\n",
              "    .dataframe tbody tr th:only-of-type {\n",
              "        vertical-align: middle;\n",
              "    }\n",
              "\n",
              "    .dataframe tbody tr th {\n",
              "        vertical-align: top;\n",
              "    }\n",
              "\n",
              "    .dataframe thead th {\n",
              "        text-align: right;\n",
              "    }\n",
              "</style>\n",
              "<table border=\"1\" class=\"dataframe\">\n",
              "  <thead>\n",
              "    <tr style=\"text-align: right;\">\n",
              "      <th></th>\n",
              "      <th>bill_length_mm</th>\n",
              "      <th>bill_depth_mm</th>\n",
              "      <th>flipper_length_mm</th>\n",
              "      <th>body_mass_g</th>\n",
              "      <th>sex_MALE</th>\n",
              "    </tr>\n",
              "  </thead>\n",
              "  <tbody>\n",
              "    <tr>\n",
              "      <th>0</th>\n",
              "      <td>39.1</td>\n",
              "      <td>18.7</td>\n",
              "      <td>181.0</td>\n",
              "      <td>3750.0</td>\n",
              "      <td>1</td>\n",
              "    </tr>\n",
              "    <tr>\n",
              "      <th>1</th>\n",
              "      <td>39.5</td>\n",
              "      <td>17.4</td>\n",
              "      <td>186.0</td>\n",
              "      <td>3800.0</td>\n",
              "      <td>0</td>\n",
              "    </tr>\n",
              "    <tr>\n",
              "      <th>2</th>\n",
              "      <td>40.3</td>\n",
              "      <td>18.0</td>\n",
              "      <td>195.0</td>\n",
              "      <td>3250.0</td>\n",
              "      <td>0</td>\n",
              "    </tr>\n",
              "    <tr>\n",
              "      <th>3</th>\n",
              "      <td>36.7</td>\n",
              "      <td>19.3</td>\n",
              "      <td>193.0</td>\n",
              "      <td>3450.0</td>\n",
              "      <td>0</td>\n",
              "    </tr>\n",
              "    <tr>\n",
              "      <th>4</th>\n",
              "      <td>39.3</td>\n",
              "      <td>20.6</td>\n",
              "      <td>190.0</td>\n",
              "      <td>3650.0</td>\n",
              "      <td>1</td>\n",
              "    </tr>\n",
              "  </tbody>\n",
              "</table>\n",
              "</div>"
            ],
            "text/plain": [
              "   bill_length_mm  bill_depth_mm  flipper_length_mm  body_mass_g  sex_MALE\n",
              "0            39.1           18.7              181.0       3750.0         1\n",
              "1            39.5           17.4              186.0       3800.0         0\n",
              "2            40.3           18.0              195.0       3250.0         0\n",
              "3            36.7           19.3              193.0       3450.0         0\n",
              "4            39.3           20.6              190.0       3650.0         1"
            ]
          },
          "execution_count": 24,
          "metadata": {},
          "output_type": "execute_result"
        }
      ],
      "source": [
        "# Exclude `species` variable from X\n",
        "\n",
        "X = df_subset.drop(['species'], axis=1)\n",
        "X.head()"
      ],
      "id": "37a93839"
    },
    {
      "cell_type": "markdown",
      "metadata": {
        "id": "bc057c97"
      },
      "source": [
        "<details>\n",
        "  <summary><h4><strong>Hint 1</strong></h4></summary>\n",
        "\n",
        "Use`drop()`.\n",
        "</details>"
      ],
      "id": "bc057c97"
    },
    {
      "cell_type": "markdown",
      "metadata": {
        "id": "059194c4"
      },
      "source": [
        "<details>\n",
        "  <summary><h4><strong>Hint 2</strong></h4></summary>\n",
        "\n",
        "Select all columns except `'species'.`The `axis` parameter passed in to this method should be set to `1` if you want to drop columns.\n",
        "</details>"
      ],
      "id": "059194c4"
    },
    {
      "cell_type": "markdown",
      "metadata": {
        "id": "da3acdc9"
      },
      "source": [
        "Scale the features in `X` using `StandardScaler`, and assign the scaled data to a new variable `X_scaled`."
      ],
      "id": "da3acdc9"
    },
    {
      "cell_type": "code",
      "execution_count": null,
      "metadata": {
        "id": "gJRWMdtgkT4g",
        "outputId": "457c5e07-fa02-4faa-f544-fdbdc385984c"
      },
      "outputs": [
        {
          "data": {
            "text/plain": [
              "array([[-0.89604189,  0.7807321 , -1.42675157, -0.56847478,  0.99103121],\n",
              "       [-0.82278787,  0.11958397, -1.06947358, -0.50628618, -1.00904996]])"
            ]
          },
          "execution_count": 26,
          "metadata": {},
          "output_type": "execute_result"
        }
      ],
      "source": [
        "#Scale the features.\n",
        "#Assign the scaled data to variable `X_scaled`.\n",
        "\n",
        "X_scaled = StandardScaler().fit_transform(X)\n",
        "X_scaled[:2,:]"
      ],
      "id": "gJRWMdtgkT4g"
    },
    {
      "cell_type": "markdown",
      "metadata": {
        "id": "08a688d3"
      },
      "source": [
        "<details>\n",
        "  <summary><h4><strong>Hint 1</strong></h4></summary>\n",
        "\n",
        "Instantiate StandardScaler to transform the data in a single step.\n",
        "</details>"
      ],
      "id": "08a688d3"
    },
    {
      "cell_type": "markdown",
      "metadata": {
        "id": "05445583"
      },
      "source": [
        "<details>\n",
        "  <summary><h4><strong>Hint 2</strong></h4></summary>\n",
        "\n",
        "Use the `.fit_transform()` method and pass in the data as an argument.\n",
        "</details>"
      ],
      "id": "05445583"
    },
    {
      "cell_type": "markdown",
      "metadata": {
        "id": "beKyGofii-tO"
      },
      "source": [
        "## **Step 3: Data modeling**"
      ],
      "id": "beKyGofii-tO"
    },
    {
      "cell_type": "markdown",
      "metadata": {
        "id": "15120a7e"
      },
      "source": [
        "Now, fit K-means and evaluate inertia for different values of k. Because you may not know how many clusters exist in the data, start by fitting K-means and examining the inertia values for different values of k. To do this, write a function called `kmeans_inertia` that takes in `num_clusters` and `x_vals` (`X_scaled`) and returns a list of each k-value's inertia.\n",
        "\n",
        "When using K-means inside the function, set the `random_state` to `42`. This way, others can reproduce your results."
      ],
      "id": "15120a7e"
    },
    {
      "cell_type": "code",
      "execution_count": null,
      "metadata": {
        "id": "hCq5xkM0hw7n"
      },
      "outputs": [],
      "source": [
        "# Fit K-means and evaluate inertia for different values of k.\n",
        "\n",
        "num_clusters = [i for i in range(2, 11)]\n",
        "\n",
        "def kmeans_inertia(num_clusters, x_vals):\n",
        "    \"\"\"\n",
        "    Accepts as arguments list of ints and data array.\n",
        "    Fits a KMeans model where k = each value in the list of ints.\n",
        "    Returns each k-value's inertia appended to a list.\n",
        "    \"\"\"\n",
        "    inertia = []\n",
        "    for num in num_clusters:\n",
        "        kms = KMeans(n_clusters=num, random_state=42)\n",
        "        kms.fit(x_vals)\n",
        "        inertia.append(kms.inertia_)\n",
        "\n",
        "    return inertia"
      ],
      "id": "hCq5xkM0hw7n"
    },
    {
      "cell_type": "markdown",
      "metadata": {
        "id": "21c96ecc"
      },
      "source": [
        "Use the `kmeans_inertia` function to return a list of inertia for k=2 to 10."
      ],
      "id": "21c96ecc"
    },
    {
      "cell_type": "code",
      "execution_count": null,
      "metadata": {
        "id": "p7dWwBQih0dd",
        "outputId": "a250a509-c0c0-4d8e-f8b5-3e93fbb7105f"
      },
      "outputs": [
        {
          "data": {
            "text/plain": [
              "[885.6224143652249,\n",
              " 578.8284278107235,\n",
              " 386.14534424773285,\n",
              " 284.5464837898288,\n",
              " 217.92858573807678,\n",
              " 201.39287843423264,\n",
              " 186.82270634899209,\n",
              " 173.47283154242746,\n",
              " 164.55854201979943]"
            ]
          },
          "execution_count": 28,
          "metadata": {},
          "output_type": "execute_result"
        }
      ],
      "source": [
        "# Return a list of inertia for k=2 to 10.\n",
        "\n",
        "inertia = kmeans_inertia(num_clusters, X_scaled)\n",
        "inertia"
      ],
      "id": "p7dWwBQih0dd"
    },
    {
      "cell_type": "markdown",
      "metadata": {
        "id": "7e574f05"
      },
      "source": [
        "<details>\n",
        "  <summary><h4><strong>Hint 1</strong></h4></summary>\n",
        "\n",
        "Review the material about the `kmeans_inertia` function.\n",
        "</details>"
      ],
      "id": "7e574f05"
    },
    {
      "cell_type": "markdown",
      "metadata": {
        "id": "fa331d9a"
      },
      "source": [
        "Next, create a line plot that shows the relationship between `num_clusters` and `inertia`.\n",
        "Use either seaborn or matplotlib to visualize this relationship."
      ],
      "id": "fa331d9a"
    },
    {
      "cell_type": "code",
      "execution_count": null,
      "metadata": {
        "id": "46yOZCg4h9a4",
        "outputId": "54cef419-9503-4e98-c1a9-ebaefd2aab7b"
      },
      "outputs": [
        {
          "data": {
            "image/png": "[encoded data removed]",
            "text/plain": [
              "<Figure size 432x288 with 1 Axes>"
            ]
          },
          "metadata": {
            "needs_background": "light"
          },
          "output_type": "display_data"
        }
      ],
      "source": [
        "# Create a line plot.\n",
        "\n",
        "# Create an elbow plot\n",
        "plot = sns.lineplot(x=num_clusters, y=inertia)\n",
        "plot.set_xlabel(\"Number of clusters\");\n",
        "plot.set_ylabel(\"Inertia\");"
      ],
      "id": "46yOZCg4h9a4"
    },
    {
      "cell_type": "markdown",
      "metadata": {
        "id": "011ff9cf"
      },
      "source": [
        "<details>\n",
        "  <summary><h4><strong>Hint 1</strong></h4></summary>\n",
        "\n",
        "Use `sns.lineplot`.\n",
        "</details>"
      ],
      "id": "011ff9cf"
    },
    {
      "cell_type": "markdown",
      "metadata": {
        "id": "19bfddca"
      },
      "source": [
        "<details>\n",
        "  <summary><h4><strong>Hint 2</strong></h4></summary>\n",
        "\n",
        "Include `x=num_clusters` and `y=inertia`.\n",
        "</details>"
      ],
      "id": "19bfddca"
    },
    {
      "cell_type": "markdown",
      "metadata": {
        "id": "g-nPzhMPi_oQ"
      },
      "source": [
        "**Question:** Where is the elbow in the plot?"
      ],
      "id": "g-nPzhMPi_oQ"
    },
    {
      "cell_type": "markdown",
      "metadata": {
        "id": "RPLSlsyKdtDL"
      },
      "source": [
        "The elbow plot starts to shape after the number of 6 clusters. Next, the silhouette score will be used to check if the model with six clusters is optimal."
      ],
      "id": "RPLSlsyKdtDL"
    },
    {
      "cell_type": "markdown",
      "metadata": {
        "id": "fc33c6a3-8610-4b70-b0e9-9b99c345c0ac"
      },
      "source": [
        "## **Step 4: Results and evaluation**"
      ],
      "id": "fc33c6a3-8610-4b70-b0e9-9b99c345c0ac"
    },
    {
      "cell_type": "markdown",
      "metadata": {
        "id": "L0Jmyi8Hi__T"
      },
      "source": [
        "Now, evaluate the silhouette score using the `silhouette_score()` function. Silhouette scores are used to study the distance between clusters."
      ],
      "id": "L0Jmyi8Hi__T"
    },
    {
      "cell_type": "markdown",
      "metadata": {
        "id": "64e51814"
      },
      "source": [
        "Then, compare the silhouette score of each value of k, from 2 through 10. To do this, write a function called `kmeans_sil` that takes in `num_clusters` and `x_vals` (`X_scaled`) and returns a list of each k-value's silhouette score."
      ],
      "id": "64e51814"
    },
    {
      "cell_type": "code",
      "execution_count": null,
      "metadata": {
        "id": "nV9ul68GpUhK"
      },
      "outputs": [],
      "source": [
        "# Evaluate silhouette score.\n",
        "# Write a function to return a list of each k-value's score.\n",
        "\n",
        "def kmeans_sil(num_clusters, x_vals):\n",
        "    '''\n",
        "    Fits a KMeans model for different values of k.\n",
        "    Calculates a silhouette score for each k value\n",
        "\n",
        "    Args:\n",
        "        num_clusters: (list of ints)  - The different k values to try\n",
        "        x_vals:       (array)         - The training data\n",
        "\n",
        "    Returns:\n",
        "        sil_score:    (list)          - A list of silhouette scores, one for each \\\n",
        "                                      value of k\n",
        "    '''\n",
        "\n",
        "    sil_score = []\n",
        "    for num in num_clusters:\n",
        "        kms = KMeans(n_clusters=num, random_state=42)\n",
        "        kms.fit(x_vals)\n",
        "        sil_score.append(silhouette_score(x_vals, kms.labels_))\n",
        "\n",
        "    return sil_score"
      ],
      "id": "nV9ul68GpUhK"
    },
    {
      "cell_type": "code",
      "execution_count": null,
      "metadata": {
        "id": "weKOQy9GIreG",
        "outputId": "091e5627-a98d-47aa-a11b-9257e1a512e1"
      },
      "outputs": [
        {
          "data": {
            "text/plain": [
              "[0.44398088353055243,\n",
              " 0.45101024097188364,\n",
              " 0.5080140996630784,\n",
              " 0.519998574860868,\n",
              " 0.5263224884981607,\n",
              " 0.47774022332151733,\n",
              " 0.42680523270292947,\n",
              " 0.35977478703657334,\n",
              " 0.3589883410610364]"
            ]
          },
          "execution_count": 31,
          "metadata": {},
          "output_type": "execute_result"
        }
      ],
      "source": [
        "# Calculate silhouette scores for k=2-10\n",
        "sil_score = kmeans_sil(num_clusters, X_scaled)\n",
        "sil_score"
      ],
      "id": "weKOQy9GIreG"
    },
    {
      "cell_type": "markdown",
      "metadata": {
        "id": "ed27ba6f"
      },
      "source": [
        "<details>\n",
        "  <summary><h4><strong>Hint 1</strong></h4></summary>\n",
        "\n",
        "Review the `kmeans_sil` function video.\n",
        "</details>"
      ],
      "id": "ed27ba6f"
    },
    {
      "cell_type": "markdown",
      "metadata": {
        "id": "e3d3c989"
      },
      "source": [
        "Next, create a line plot that shows the relationship between `num_clusters` and `sil_score`.\n",
        "Use either seaborn or matplotlib to visualize this relationship."
      ],
      "id": "e3d3c989"
    },
    {
      "cell_type": "code",
      "execution_count": null,
      "metadata": {
        "id": "IyhBJ8qXpbxz",
        "outputId": "f0817b9c-a176-4b25-e704-d63ad79d67e5"
      },
      "outputs": [
        {
          "data": {
            "image/png": "[encoded data removed]",
            "text/plain": [
              "<Figure size 1152x360 with 1 Axes>"
            ]
          },
          "metadata": {
            "needs_background": "light"
          },
          "output_type": "display_data"
        }
      ],
      "source": [
        "plot = sns.lineplot(x=num_clusters, y=sil_score, marker = 'o')\n",
        "plot.set_xlabel(\"# of clusters\");\n",
        "plot.set_ylabel(\"Silhouette Score\");"
      ],
      "id": "IyhBJ8qXpbxz"
    },
    {
      "cell_type": "markdown",
      "metadata": {
        "id": "045d2a44"
      },
      "source": [
        "<details>\n",
        "  <summary><h4><strong>Hint 1</strong></h4></summary>\n",
        "\n",
        "Use `sns.lineplot`.\n",
        "</details>"
      ],
      "id": "045d2a44"
    },
    {
      "cell_type": "markdown",
      "metadata": {
        "id": "9e48cb4c"
      },
      "source": [
        "<details>\n",
        "  <summary><h4><strong>Hint 2</strong></h4></summary>\n",
        "\n",
        "Include `x=num_clusters` and `y=sil_score`.\n",
        "</details>"
      ],
      "id": "9e48cb4c"
    },
    {
      "cell_type": "markdown",
      "metadata": {
        "id": "5262b500"
      },
      "source": [
        "**Question:** What does the graph show?"
      ],
      "id": "5262b500"
    },
    {
      "cell_type": "markdown",
      "metadata": {
        "id": "k6XQNuWkdp9t"
      },
      "source": [
        "The graph shows that the optimal value of clusters is 6, with the highest silhouette score of about 0.525."
      ],
      "id": "k6XQNuWkdp9t"
    },
    {
      "cell_type": "markdown",
      "metadata": {
        "id": "otSauwzpMXnP"
      },
      "source": [
        "### Optimal k-value"
      ],
      "id": "otSauwzpMXnP"
    },
    {
      "cell_type": "markdown",
      "metadata": {
        "id": "7vQnmULGE69B"
      },
      "source": [
        "To decide on an optimal k-value, fit a six-cluster model to the dataset."
      ],
      "id": "7vQnmULGE69B"
    },
    {
      "cell_type": "code",
      "execution_count": null,
      "metadata": {
        "id": "tZhr41e6MXxo",
        "outputId": "12f8c5b7-64d3-4381-b53a-244681ba2d59"
      },
      "outputs": [
        {
          "data": {
            "text/plain": [
              "KMeans(algorithm='auto', copy_x=True, init='k-means++', max_iter=300,\n",
              "       n_clusters=6, n_init=10, n_jobs=None, precompute_distances='auto',\n",
              "       random_state=42, tol=0.0001, verbose=0)"
            ]
          },
          "execution_count": 37,
          "metadata": {},
          "output_type": "execute_result"
        }
      ],
      "source": [
        "# Fit a 6-cluster model.\n",
        "\n",
        "kmeans6 = KMeans(n_clusters=6, random_state=42)\n",
        "kmeans6.fit(X_scaled)"
      ],
      "id": "tZhr41e6MXxo"
    },
    {
      "cell_type": "markdown",
      "metadata": {
        "id": "3f705fde"
      },
      "source": [
        "<details>\n",
        "  <summary><h4><strong>Hint 1</strong></h4></summary>\n",
        "\n",
        "Make an instance of the model with `num_clusters = 6` and use the `fit` function on `X_scaled`.\n",
        "</details>\n",
        "\n",
        "\n"
      ],
      "id": "3f705fde"
    },
    {
      "cell_type": "markdown",
      "metadata": {
        "id": "49f834ec"
      },
      "source": [
        "Print out the unique labels of the fit model."
      ],
      "id": "49f834ec"
    },
    {
      "cell_type": "code",
      "execution_count": null,
      "metadata": {
        "id": "mLB6AyhWMX54",
        "outputId": "175877ad-40be-455a-fa16-dbb444cfb211"
      },
      "outputs": [
        {
          "name": "stdout",
          "output_type": "stream",
          "text": [
            "[0 2 2 2 0 2]\n",
            "Unique labels: [0 1 2 3 4 5]\n"
          ]
        }
      ],
      "source": [
        "# Print unique labels.\n",
        "\n",
        "print(kmeans6.labels_[:6])\n",
        "print('Unique labels:', np.unique(kmeans6.labels_))"
      ],
      "id": "mLB6AyhWMX54"
    },
    {
      "cell_type": "markdown",
      "metadata": {
        "id": "080d87e3"
      },
      "source": [
        "Now, create a new column `cluster` that indicates cluster assignment in the DataFrame `df_subset`. It's important to understand the meaning of each cluster's labels, then decide whether the clustering makes sense.\n",
        "\n",
        "**Note:** This task is done using `df_subset` because it is often easier to interpret unscaled data."
      ],
      "id": "080d87e3"
    },
    {
      "cell_type": "code",
      "execution_count": null,
      "metadata": {
        "id": "oxS6EJvZM1Ab",
        "outputId": "5a5907ee-8806-4964-ac77-19e484e98f70"
      },
      "outputs": [
        {
          "data": {
            "text/html": [
              "<div>\n",
              "<style scoped>\n",
              "    .dataframe tbody tr th:only-of-type {\n",
              "        vertical-align: middle;\n",
              "    }\n",
              "\n",
              "    .dataframe tbody tr th {\n",
              "        vertical-align: top;\n",
              "    }\n",
              "\n",
              "    .dataframe thead th {\n",
              "        text-align: right;\n",
              "    }\n",
              "</style>\n",
              "<table border=\"1\" class=\"dataframe\">\n",
              "  <thead>\n",
              "    <tr style=\"text-align: right;\">\n",
              "      <th></th>\n",
              "      <th>species</th>\n",
              "      <th>bill_length_mm</th>\n",
              "      <th>bill_depth_mm</th>\n",
              "      <th>flipper_length_mm</th>\n",
              "      <th>body_mass_g</th>\n",
              "      <th>sex_MALE</th>\n",
              "      <th>cluster</th>\n",
              "    </tr>\n",
              "  </thead>\n",
              "  <tbody>\n",
              "    <tr>\n",
              "      <th>0</th>\n",
              "      <td>Adelie</td>\n",
              "      <td>39.1</td>\n",
              "      <td>18.7</td>\n",
              "      <td>181.0</td>\n",
              "      <td>3750.0</td>\n",
              "      <td>1</td>\n",
              "      <td>0</td>\n",
              "    </tr>\n",
              "    <tr>\n",
              "      <th>1</th>\n",
              "      <td>Adelie</td>\n",
              "      <td>39.5</td>\n",
              "      <td>17.4</td>\n",
              "      <td>186.0</td>\n",
              "      <td>3800.0</td>\n",
              "      <td>0</td>\n",
              "      <td>2</td>\n",
              "    </tr>\n",
              "    <tr>\n",
              "      <th>2</th>\n",
              "      <td>Adelie</td>\n",
              "      <td>40.3</td>\n",
              "      <td>18.0</td>\n",
              "      <td>195.0</td>\n",
              "      <td>3250.0</td>\n",
              "      <td>0</td>\n",
              "      <td>2</td>\n",
              "    </tr>\n",
              "    <tr>\n",
              "      <th>3</th>\n",
              "      <td>Adelie</td>\n",
              "      <td>36.7</td>\n",
              "      <td>19.3</td>\n",
              "      <td>193.0</td>\n",
              "      <td>3450.0</td>\n",
              "      <td>0</td>\n",
              "      <td>2</td>\n",
              "    </tr>\n",
              "    <tr>\n",
              "      <th>4</th>\n",
              "      <td>Adelie</td>\n",
              "      <td>39.3</td>\n",
              "      <td>20.6</td>\n",
              "      <td>190.0</td>\n",
              "      <td>3650.0</td>\n",
              "      <td>1</td>\n",
              "      <td>0</td>\n",
              "    </tr>\n",
              "  </tbody>\n",
              "</table>\n",
              "</div>"
            ],
            "text/plain": [
              "  species  bill_length_mm  bill_depth_mm  flipper_length_mm  body_mass_g  \\\n",
              "0  Adelie            39.1           18.7              181.0       3750.0   \n",
              "1  Adelie            39.5           17.4              186.0       3800.0   \n",
              "2  Adelie            40.3           18.0              195.0       3250.0   \n",
              "3  Adelie            36.7           19.3              193.0       3450.0   \n",
              "4  Adelie            39.3           20.6              190.0       3650.0   \n",
              "\n",
              "   sex_MALE  cluster  \n",
              "0         1        0  \n",
              "1         0        2  \n",
              "2         0        2  \n",
              "3         0        2  \n",
              "4         1        0  "
            ]
          },
          "execution_count": 41,
          "metadata": {},
          "output_type": "execute_result"
        }
      ],
      "source": [
        "# Create a new column `cluster`.\n",
        "\n",
        "df_subset['cluster'] = kmeans6.labels_\n",
        "df_subset.head()"
      ],
      "id": "oxS6EJvZM1Ab"
    },
    {
      "cell_type": "markdown",
      "metadata": {
        "id": "0c3fe6a3"
      },
      "source": [
        "Use `groupby` to verify if any `'cluster'` can be differentiated by `'species'`."
      ],
      "id": "0c3fe6a3"
    },
    {
      "cell_type": "code",
      "execution_count": null,
      "metadata": {
        "id": "051b144d",
        "outputId": "52c10774-3e29-42ed-81ca-2e6ef5e83497"
      },
      "outputs": [
        {
          "data": {
            "text/plain": [
              "cluster  species  \n",
              "0        Adelie       71\n",
              "1        Gentoo       58\n",
              "2        Adelie       73\n",
              "         Chinstrap     5\n",
              "3        Gentoo       61\n",
              "4        Adelie        2\n",
              "         Chinstrap    34\n",
              "5        Chinstrap    29\n",
              "dtype: int64"
            ]
          },
          "execution_count": 42,
          "metadata": {},
          "output_type": "execute_result"
        }
      ],
      "source": [
        "# Verify if any `cluster` can be differentiated by `species`.\n",
        "\n",
        "df_subset.groupby(by=['cluster', 'species']).size()"
      ],
      "id": "051b144d"
    },
    {
      "cell_type": "markdown",
      "metadata": {
        "id": "6cb2c53e"
      },
      "source": [
        "<details>\n",
        "  <summary><h4><strong>Hint 1</strong></h4></summary>\n",
        "\n",
        "Use `groupby(by=['cluster', 'species'])`.\n",
        "\n",
        "</details>\n"
      ],
      "id": "6cb2c53e"
    },
    {
      "cell_type": "markdown",
      "metadata": {
        "id": "f42d5be4"
      },
      "source": [
        "<details>\n",
        "  <summary><h4><strong>Hint 2</strong></h4></summary>\n",
        "\n",
        "\n",
        "Use an aggregation function such as `size`.\n",
        "\n",
        "</details>"
      ],
      "id": "f42d5be4"
    },
    {
      "cell_type": "markdown",
      "metadata": {
        "id": "QACZiuWYM59u"
      },
      "source": [
        "Next, interpret the groupby outputs. Although the results of the groupby show that each `'cluster'` can be differentiated by `'species'`, it is useful to visualize these results. The graph shows that each `'cluster'` can be differentiated by `'species'`.\n",
        "\n",
        "**Note:** The code for the graph below is outside the scope of this lab."
      ],
      "id": "QACZiuWYM59u"
    },
    {
      "cell_type": "code",
      "execution_count": null,
      "metadata": {
        "colab": {
          "base_uri": "https://localhost:8080/",
          "height": 408
        },
        "id": "ScRX4uWfNqo6",
        "outputId": "ea55e742-e819-49b4-da79-ddb9adf0a398"
      },
      "outputs": [
        {
          "data": {
            "image/png": "[encoded data removed]",
            "text/plain": [
              "<Figure size 432x360 with 1 Axes>"
            ]
          },
          "metadata": {
            "needs_background": "light"
          },
          "output_type": "display_data"
        }
      ],
      "source": [
        "df_subset.groupby(by=['cluster', 'species']).size().plot.bar(title='Clusters differentiated by species',\n",
        "                                                                   figsize=(6, 5),\n",
        "                                                                   ylabel='Size',\n",
        "                                                                   xlabel='(Cluster, Species)');"
      ],
      "id": "ScRX4uWfNqo6"
    },
    {
      "cell_type": "markdown",
      "metadata": {
        "id": "f1b82368"
      },
      "source": [
        "Use `groupby` to verify if each `'cluster'` can be differentiated by `'species'` AND `'sex_MALE'`."
      ],
      "id": "f1b82368"
    },
    {
      "cell_type": "code",
      "execution_count": null,
      "metadata": {
        "id": "2cf5adc2",
        "outputId": "8dccf831-4bd9-4b39-dfc2-94076a24c28d"
      },
      "outputs": [
        {
          "data": {
            "text/plain": [
              "cluster  species    sex_MALE\n",
              "2        Adelie     0           73\n",
              "0        Adelie     1           71\n",
              "3        Gentoo     1           61\n",
              "1        Gentoo     0           58\n",
              "4        Chinstrap  1           34\n",
              "5        Chinstrap  0           29\n",
              "2        Chinstrap  0            5\n",
              "4        Adelie     1            2\n",
              "dtype: int64"
            ]
          },
          "execution_count": 47,
          "metadata": {},
          "output_type": "execute_result"
        }
      ],
      "source": [
        "# Verify if each `cluster` can be differentiated by `species' AND `sex_MALE`.\n",
        "\n",
        "df_subset.groupby(by=['cluster', 'species', 'sex_MALE']).size().sort_values(ascending = False)"
      ],
      "id": "2cf5adc2"
    },
    {
      "cell_type": "markdown",
      "metadata": {
        "id": "f0ad7c32"
      },
      "source": [
        "<details>\n",
        "  <summary><h4><strong>Hint 1</strong></h4></summary>\n",
        "\n",
        "Use `groupby(by=['cluster','species', 'sex_MALE'])`.\n",
        "</details>\n"
      ],
      "id": "f0ad7c32"
    },
    {
      "cell_type": "markdown",
      "metadata": {
        "id": "d667d4ce"
      },
      "source": [
        "<details>\n",
        "  <summary><h4><strong>Hint 2</strong></h4></summary>\n",
        "\n",
        "Use an aggregation function such as `size`.\n",
        "</details>"
      ],
      "id": "d667d4ce"
    },
    {
      "cell_type": "markdown",
      "metadata": {
        "id": "ae471434"
      },
      "source": [
        "**Question:** Are the clusters differentiated by `'species'` and `'sex_MALE'`?"
      ],
      "id": "ae471434"
    },
    {
      "cell_type": "markdown",
      "metadata": {
        "id": "CRMvvPaKdlRP"
      },
      "source": [
        "It's evident that the algorithm created clusters that are primarily distinguished by species and sex."
      ],
      "id": "CRMvvPaKdlRP"
    },
    {
      "cell_type": "markdown",
      "metadata": {
        "id": "c9dSiWNNcdZH"
      },
      "source": [
        "Finally, interpret the groupby outputs and visualize these results. The graph shows that each `'cluster'` can be differentiated by `'species'` and `'sex_MALE'`. Furthermore, each cluster is mostly comprised of one sex and one species.\n",
        "\n",
        "**Note:** The code for the graph below is outside the scope of this lab."
      ],
      "id": "c9dSiWNNcdZH"
    },
    {
      "cell_type": "code",
      "execution_count": null,
      "metadata": {
        "colab": {
          "base_uri": "https://localhost:8080/",
          "height": 383
        },
        "id": "Xw-g03su8_4Z",
        "outputId": "10c8fe4e-8cfd-4963-f535-7d6029e4d4af"
      },
      "outputs": [
        {
          "data": {
            "text/plain": [
              "<matplotlib.legend.Legend at 0x6ffdd89a4cd0>"
            ]
          },
          "execution_count": 49,
          "metadata": {},
          "output_type": "execute_result"
        },
        {
          "data": {
            "image/png": "[encoded data removed]",
            "text/plain": [
              "<Figure size 432x360 with 1 Axes>"
            ]
          },
          "metadata": {
            "needs_background": "light"
          },
          "output_type": "display_data"
        }
      ],
      "source": [
        "df_subset.groupby(by=['cluster','species','sex_MALE']).size().unstack(level = 'species', fill_value=0).plot.bar(title='Clusters differentiated by species and sex',\n",
        "                                                                                                                      figsize=(6, 5),\n",
        "                                                                                                                      ylabel='Size',\n",
        "                                                                                                                      xlabel='(Cluster, Sex)')\n",
        "plt.legend(bbox_to_anchor=(1.3, 1.0))"
      ],
      "id": "Xw-g03su8_4Z"
    },
    {
      "cell_type": "markdown",
      "metadata": {
        "id": "4DRcgiMgM1HP"
      },
      "source": [
        "## **Considerations**\n",
        "\n",
        "\n",
        "**What summary would you provide to stakeholders?**\n",
        "\n",
        "Based on the k-means clustering analysis, 6 distinct clusters were identified, with clear differentiation by species (Adelie, Gentoo, Chinstrap) and sex. The results indicate that the clusters are predominantly characterized by the sex (male vs. female) and species of the penguins, as shown in the table. For instance, the Adelie species is most prominent in clusters 0 and 2, with a higher concentration of males in cluster 0 (71 males) and females in cluster 2 (73 females). Similarly, Gentoo penguins are primarily found in clusters 1 and 3, with males more frequent in cluster 1 (61 males) and females in cluster 3 (58 females). Chinstrap penguins are spread across clusters 4 and 5, with males being more prevalent in cluster 4 (34 males) and females in cluster 5 (29 females), with a smaller group of females (5) in cluster 2.\n",
        "\n",
        "These insights empower the decision-making by tailoring conservation strategies more effectively. By recognizing that specific species and sex groups form distinct clusters, the organizatin should prioritize efforts based on these segments. For example, it's recommended to implement gender-specific monitoring and conservation actions for each species, addressing the unique needs of each group. This detailed segmentation enables the organization to manage and sustain the penguin colonies more efficiently, optimizing resource allocation and guiding more targeted intervention strategies."
      ],
      "id": "4DRcgiMgM1HP"
    },
    {
      "cell_type": "markdown",
      "metadata": {
        "id": "79d85ff6-30a4-469b-8861-5b9b517c89f5"
      },
      "source": [
        "### References\n",
        "\n",
        "[Gorman, Kristen B., et al. “Ecological Sexual Dimorphism and Environmental Variability within a Community of Antarctic Penguins (Genus Pygoscelis).” PLOS ONE, vol. 9, no. 3, Mar. 2014, p. e90081. PLoS Journals](https://doi.org/10.1371/journal.pone.0090081)\n",
        "\n",
        "[Sklearn Preprocessing StandardScaler scikit-learn](https://scikit-learn.org/stable/modules/generated/sklearn.preprocessing.StandardScaler.html)"
      ],
      "id": "79d85ff6-30a4-469b-8861-5b9b517c89f5"
    },
    {
      "cell_type": "markdown",
      "metadata": {
        "id": "aprA9A29IreL"
      },
      "source": [
        "**Congratulations!** You've completed this lab. However, you may not notice a green check mark next to this item on Coursera's platform. Please continue your progress regardless of the check mark. Just click on the \"save\" icon at the top of this notebook to ensure your work has been logged"
      ],
      "id": "aprA9A29IreL"
    }
  ],
  "metadata": {
    "colab": {
      "provenance": [],
      "toc_visible": true,
      "include_colab_link": true
    },
    "gpuClass": "standard",
    "kernelspec": {
      "display_name": "Python 3",
      "language": "python",
      "name": "python3"
    },
    "language_info": {
      "codemirror_mode": {
        "name": "ipython",
        "version": 3
      },
      "file_extension": ".py",
      "mimetype": "text/x-python",
      "name": "python",
      "nbconvert_exporter": "python",
      "pygments_lexer": "ipython3",
      "version": "3.7.6"
    }
  },
  "nbformat": 4,
  "nbformat_minor": 5
}
