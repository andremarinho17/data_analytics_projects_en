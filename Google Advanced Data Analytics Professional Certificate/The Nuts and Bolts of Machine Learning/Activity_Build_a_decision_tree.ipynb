{
  "cells": [
    {
      "cell_type": "markdown",
      "metadata": {
        "id": "view-in-github",
        "colab_type": "text"
      },
      "source": [
        "<a href=\"https://colab.research.google.com/github/andremarinho17/data_analytics_projects_en/blob/main/Activity_Build_a_decision_tree.ipynb\" target=\"_parent\"><img src=\"https://colab.research.google.com/assets/colab-badge.svg\" alt=\"Open In Colab\"/></a>"
      ]
    },
    {
      "cell_type": "markdown",
      "metadata": {
        "id": "700acefd-8120-42a9-a650-c610467e2a4c"
      },
      "source": [
        "# Activity: Build a decision tree to predict customer satisfaction for an airline company\n",
        "\n",
        "<p align=\"center\"><img src=\"https://cdn.shopify.com/s/files/1/0657/3100/2634/files/Papier_peint_avion_Decollage_en_style_pop_art_et_colore.jpg?v=1712910949\" >\n",
        "\n",
        "\n",
        "**Author**: André Marinho\n",
        "\n",
        "## Introduction\n",
        "\n",
        "A decision tree model can makes predictions for a target based on multiple features. Because decision trees are used across a wide array of industries, becoming proficient in the process of building one will help you expand your skill set in a widely-applicable way.   \n",
        "\n",
        "For this activity, you work as a consultant for an airline. The airline is interested in predicting whether a future customer would be satisfied with their services given previous customer feedback about their flight experience. The airline would like you to construct and evaluate a model that can accomplish this goal. Specifically, they are interested in knowing which features are most important to customer satisfaction.\n",
        "\n",
        "The data for this activity includes survey responses from 129,880 customers. It includes data points such as class, flight distance, and in-flight entertainment, among others. In a previous activity, you utilized a binomial logistic regression model to help the airline better understand this data. In this activity, your goal will be to utilize a decision tree model to predict whether or not a customer will be satisfied with their flight experience.\n",
        "\n",
        "Because this activity uses a dataset from the industry, you will need to conduct basic EDA, data cleaning, and other manipulations to prepare the data for modeling.\n",
        "\n",
        "In this activity, you’ll practice the following skills:\n",
        "\n",
        "* Importing packages and loading data\n",
        "* Exploring the data and completing the cleaning process\n",
        "* Building a decision tree model\n",
        "* Tuning hyperparameters using `GridSearchCV`\n",
        "* Evaluating a decision tree model using a confusion matrix and various other plots"
      ],
      "id": "700acefd-8120-42a9-a650-c610467e2a4c"
    },
    {
      "cell_type": "markdown",
      "metadata": {
        "id": "b42252b9-b980-4ee0-8cfd-82f4239b6d1a"
      },
      "source": [
        "## Step 1: Imports\n",
        "\n",
        "Import relevant Python packages. Use `DecisionTreeClassifier`,` plot_tree`, and various imports from `sklearn.metrics` to build, visualize, and evaluate the model."
      ],
      "id": "b42252b9-b980-4ee0-8cfd-82f4239b6d1a"
    },
    {
      "cell_type": "markdown",
      "metadata": {
        "id": "d871f2b3"
      },
      "source": [
        "### Import packages"
      ],
      "id": "d871f2b3"
    },
    {
      "cell_type": "code",
      "execution_count": null,
      "metadata": {
        "id": "aacf7b0d-d652-46c4-a9fc-f1ff377bdd0c"
      },
      "outputs": [],
      "source": [
        "### YOUR CODE HERE ###\n",
        "\n",
        "# Standard operational package imports\n",
        "import numpy as np\n",
        "import pandas as pd\n",
        "\n",
        "# Important imports for modeling and evaluation\n",
        "from sklearn.model_selection import train_test_split\n",
        "from sklearn.model_selection import GridSearchCV\n",
        "from sklearn.tree import DecisionTreeClassifier\n",
        "from sklearn.tree import plot_tree\n",
        "import sklearn.metrics as metrics\n",
        "\n",
        "# Visualization package imports\n",
        "import matplotlib.pyplot as plt\n",
        "import seaborn as sns"
      ],
      "id": "aacf7b0d-d652-46c4-a9fc-f1ff377bdd0c"
    },
    {
      "cell_type": "markdown",
      "metadata": {
        "id": "6b7f8803-44ee-47cf-b97a-efaf5c0fdd59",
        "tags": []
      },
      "source": [
        "### Load the dataset"
      ],
      "id": "6b7f8803-44ee-47cf-b97a-efaf5c0fdd59"
    },
    {
      "cell_type": "markdown",
      "metadata": {
        "id": "a60990fd-4723-4a2b-a0db-9dfa6c7c881c"
      },
      "source": [
        "`Pandas` is used to load the **Invistico_Airline.csv** dataset. The resulting pandas DataFrame is saved in a variable named `df_original`. As shown in this cell, the dataset has been automatically loaded in for you. You do not need to download the .csv file, or provide more code, in order to access the dataset and proceed with this lab. Please continue with this activity by completing the following instructions."
      ],
      "id": "a60990fd-4723-4a2b-a0db-9dfa6c7c881c"
    },
    {
      "cell_type": "code",
      "execution_count": null,
      "metadata": {
        "id": "80535d2f-8b1a-4715-b07a-f3734d8cc4c5"
      },
      "outputs": [],
      "source": [
        "# RUN THIS CELL TO IMPORT YOUR DATA.\n",
        "\n",
        "### YOUR CODE HERE ###\n",
        "\n",
        "df = pd.read_csv(\"Invistico_Airline.csv\")"
      ],
      "id": "80535d2f-8b1a-4715-b07a-f3734d8cc4c5"
    },
    {
      "cell_type": "markdown",
      "metadata": {
        "id": "46448192-f2f8-4f78-9f76-6e4bb699da7b"
      },
      "source": [
        "### Output the first 10 rows of data"
      ],
      "id": "46448192-f2f8-4f78-9f76-6e4bb699da7b"
    },
    {
      "cell_type": "code",
      "execution_count": null,
      "metadata": {
        "id": "U8JZjN-zJwx6",
        "outputId": "e7f29267-dae2-4711-8f5f-803b1ff33922"
      },
      "outputs": [
        {
          "data": {
            "text/html": [
              "<div>\n",
              "<style scoped>\n",
              "    .dataframe tbody tr th:only-of-type {\n",
              "        vertical-align: middle;\n",
              "    }\n",
              "\n",
              "    .dataframe tbody tr th {\n",
              "        vertical-align: top;\n",
              "    }\n",
              "\n",
              "    .dataframe thead th {\n",
              "        text-align: right;\n",
              "    }\n",
              "</style>\n",
              "<table border=\"1\" class=\"dataframe\">\n",
              "  <thead>\n",
              "    <tr style=\"text-align: right;\">\n",
              "      <th></th>\n",
              "      <th>satisfaction</th>\n",
              "      <th>Customer Type</th>\n",
              "      <th>Age</th>\n",
              "      <th>Type of Travel</th>\n",
              "      <th>Class</th>\n",
              "      <th>Flight Distance</th>\n",
              "      <th>Seat comfort</th>\n",
              "      <th>Departure/Arrival time convenient</th>\n",
              "      <th>Food and drink</th>\n",
              "      <th>Gate location</th>\n",
              "      <th>...</th>\n",
              "      <th>Online support</th>\n",
              "      <th>Ease of Online booking</th>\n",
              "      <th>On-board service</th>\n",
              "      <th>Leg room service</th>\n",
              "      <th>Baggage handling</th>\n",
              "      <th>Checkin service</th>\n",
              "      <th>Cleanliness</th>\n",
              "      <th>Online boarding</th>\n",
              "      <th>Departure Delay in Minutes</th>\n",
              "      <th>Arrival Delay in Minutes</th>\n",
              "    </tr>\n",
              "  </thead>\n",
              "  <tbody>\n",
              "    <tr>\n",
              "      <th>0</th>\n",
              "      <td>satisfied</td>\n",
              "      <td>Loyal Customer</td>\n",
              "      <td>65</td>\n",
              "      <td>Personal Travel</td>\n",
              "      <td>Eco</td>\n",
              "      <td>265</td>\n",
              "      <td>0</td>\n",
              "      <td>0</td>\n",
              "      <td>0</td>\n",
              "      <td>2</td>\n",
              "      <td>...</td>\n",
              "      <td>2</td>\n",
              "      <td>3</td>\n",
              "      <td>3</td>\n",
              "      <td>0</td>\n",
              "      <td>3</td>\n",
              "      <td>5</td>\n",
              "      <td>3</td>\n",
              "      <td>2</td>\n",
              "      <td>0</td>\n",
              "      <td>0.0</td>\n",
              "    </tr>\n",
              "    <tr>\n",
              "      <th>1</th>\n",
              "      <td>satisfied</td>\n",
              "      <td>Loyal Customer</td>\n",
              "      <td>47</td>\n",
              "      <td>Personal Travel</td>\n",
              "      <td>Business</td>\n",
              "      <td>2464</td>\n",
              "      <td>0</td>\n",
              "      <td>0</td>\n",
              "      <td>0</td>\n",
              "      <td>3</td>\n",
              "      <td>...</td>\n",
              "      <td>2</td>\n",
              "      <td>3</td>\n",
              "      <td>4</td>\n",
              "      <td>4</td>\n",
              "      <td>4</td>\n",
              "      <td>2</td>\n",
              "      <td>3</td>\n",
              "      <td>2</td>\n",
              "      <td>310</td>\n",
              "      <td>305.0</td>\n",
              "    </tr>\n",
              "    <tr>\n",
              "      <th>2</th>\n",
              "      <td>satisfied</td>\n",
              "      <td>Loyal Customer</td>\n",
              "      <td>15</td>\n",
              "      <td>Personal Travel</td>\n",
              "      <td>Eco</td>\n",
              "      <td>2138</td>\n",
              "      <td>0</td>\n",
              "      <td>0</td>\n",
              "      <td>0</td>\n",
              "      <td>3</td>\n",
              "      <td>...</td>\n",
              "      <td>2</td>\n",
              "      <td>2</td>\n",
              "      <td>3</td>\n",
              "      <td>3</td>\n",
              "      <td>4</td>\n",
              "      <td>4</td>\n",
              "      <td>4</td>\n",
              "      <td>2</td>\n",
              "      <td>0</td>\n",
              "      <td>0.0</td>\n",
              "    </tr>\n",
              "    <tr>\n",
              "      <th>3</th>\n",
              "      <td>satisfied</td>\n",
              "      <td>Loyal Customer</td>\n",
              "      <td>60</td>\n",
              "      <td>Personal Travel</td>\n",
              "      <td>Eco</td>\n",
              "      <td>623</td>\n",
              "      <td>0</td>\n",
              "      <td>0</td>\n",
              "      <td>0</td>\n",
              "      <td>3</td>\n",
              "      <td>...</td>\n",
              "      <td>3</td>\n",
              "      <td>1</td>\n",
              "      <td>1</td>\n",
              "      <td>0</td>\n",
              "      <td>1</td>\n",
              "      <td>4</td>\n",
              "      <td>1</td>\n",
              "      <td>3</td>\n",
              "      <td>0</td>\n",
              "      <td>0.0</td>\n",
              "    </tr>\n",
              "    <tr>\n",
              "      <th>4</th>\n",
              "      <td>satisfied</td>\n",
              "      <td>Loyal Customer</td>\n",
              "      <td>70</td>\n",
              "      <td>Personal Travel</td>\n",
              "      <td>Eco</td>\n",
              "      <td>354</td>\n",
              "      <td>0</td>\n",
              "      <td>0</td>\n",
              "      <td>0</td>\n",
              "      <td>3</td>\n",
              "      <td>...</td>\n",
              "      <td>4</td>\n",
              "      <td>2</td>\n",
              "      <td>2</td>\n",
              "      <td>0</td>\n",
              "      <td>2</td>\n",
              "      <td>4</td>\n",
              "      <td>2</td>\n",
              "      <td>5</td>\n",
              "      <td>0</td>\n",
              "      <td>0.0</td>\n",
              "    </tr>\n",
              "    <tr>\n",
              "      <th>5</th>\n",
              "      <td>satisfied</td>\n",
              "      <td>Loyal Customer</td>\n",
              "      <td>30</td>\n",
              "      <td>Personal Travel</td>\n",
              "      <td>Eco</td>\n",
              "      <td>1894</td>\n",
              "      <td>0</td>\n",
              "      <td>0</td>\n",
              "      <td>0</td>\n",
              "      <td>3</td>\n",
              "      <td>...</td>\n",
              "      <td>2</td>\n",
              "      <td>2</td>\n",
              "      <td>5</td>\n",
              "      <td>4</td>\n",
              "      <td>5</td>\n",
              "      <td>5</td>\n",
              "      <td>4</td>\n",
              "      <td>2</td>\n",
              "      <td>0</td>\n",
              "      <td>0.0</td>\n",
              "    </tr>\n",
              "    <tr>\n",
              "      <th>6</th>\n",
              "      <td>satisfied</td>\n",
              "      <td>Loyal Customer</td>\n",
              "      <td>66</td>\n",
              "      <td>Personal Travel</td>\n",
              "      <td>Eco</td>\n",
              "      <td>227</td>\n",
              "      <td>0</td>\n",
              "      <td>0</td>\n",
              "      <td>0</td>\n",
              "      <td>3</td>\n",
              "      <td>...</td>\n",
              "      <td>5</td>\n",
              "      <td>5</td>\n",
              "      <td>5</td>\n",
              "      <td>0</td>\n",
              "      <td>5</td>\n",
              "      <td>5</td>\n",
              "      <td>5</td>\n",
              "      <td>3</td>\n",
              "      <td>17</td>\n",
              "      <td>15.0</td>\n",
              "    </tr>\n",
              "    <tr>\n",
              "      <th>7</th>\n",
              "      <td>satisfied</td>\n",
              "      <td>Loyal Customer</td>\n",
              "      <td>10</td>\n",
              "      <td>Personal Travel</td>\n",
              "      <td>Eco</td>\n",
              "      <td>1812</td>\n",
              "      <td>0</td>\n",
              "      <td>0</td>\n",
              "      <td>0</td>\n",
              "      <td>3</td>\n",
              "      <td>...</td>\n",
              "      <td>2</td>\n",
              "      <td>2</td>\n",
              "      <td>3</td>\n",
              "      <td>3</td>\n",
              "      <td>4</td>\n",
              "      <td>5</td>\n",
              "      <td>4</td>\n",
              "      <td>2</td>\n",
              "      <td>0</td>\n",
              "      <td>0.0</td>\n",
              "    </tr>\n",
              "    <tr>\n",
              "      <th>8</th>\n",
              "      <td>satisfied</td>\n",
              "      <td>Loyal Customer</td>\n",
              "      <td>56</td>\n",
              "      <td>Personal Travel</td>\n",
              "      <td>Business</td>\n",
              "      <td>73</td>\n",
              "      <td>0</td>\n",
              "      <td>0</td>\n",
              "      <td>0</td>\n",
              "      <td>3</td>\n",
              "      <td>...</td>\n",
              "      <td>5</td>\n",
              "      <td>4</td>\n",
              "      <td>4</td>\n",
              "      <td>0</td>\n",
              "      <td>1</td>\n",
              "      <td>5</td>\n",
              "      <td>4</td>\n",
              "      <td>4</td>\n",
              "      <td>0</td>\n",
              "      <td>0.0</td>\n",
              "    </tr>\n",
              "    <tr>\n",
              "      <th>9</th>\n",
              "      <td>satisfied</td>\n",
              "      <td>Loyal Customer</td>\n",
              "      <td>22</td>\n",
              "      <td>Personal Travel</td>\n",
              "      <td>Eco</td>\n",
              "      <td>1556</td>\n",
              "      <td>0</td>\n",
              "      <td>0</td>\n",
              "      <td>0</td>\n",
              "      <td>3</td>\n",
              "      <td>...</td>\n",
              "      <td>2</td>\n",
              "      <td>2</td>\n",
              "      <td>2</td>\n",
              "      <td>4</td>\n",
              "      <td>5</td>\n",
              "      <td>3</td>\n",
              "      <td>4</td>\n",
              "      <td>2</td>\n",
              "      <td>30</td>\n",
              "      <td>26.0</td>\n",
              "    </tr>\n",
              "  </tbody>\n",
              "</table>\n",
              "<p>10 rows × 22 columns</p>\n",
              "</div>"
            ],
            "text/plain": [
              "  satisfaction   Customer Type  Age   Type of Travel     Class  \\\n",
              "0    satisfied  Loyal Customer   65  Personal Travel       Eco   \n",
              "1    satisfied  Loyal Customer   47  Personal Travel  Business   \n",
              "2    satisfied  Loyal Customer   15  Personal Travel       Eco   \n",
              "3    satisfied  Loyal Customer   60  Personal Travel       Eco   \n",
              "4    satisfied  Loyal Customer   70  Personal Travel       Eco   \n",
              "5    satisfied  Loyal Customer   30  Personal Travel       Eco   \n",
              "6    satisfied  Loyal Customer   66  Personal Travel       Eco   \n",
              "7    satisfied  Loyal Customer   10  Personal Travel       Eco   \n",
              "8    satisfied  Loyal Customer   56  Personal Travel  Business   \n",
              "9    satisfied  Loyal Customer   22  Personal Travel       Eco   \n",
              "\n",
              "   Flight Distance  Seat comfort  Departure/Arrival time convenient  \\\n",
              "0              265             0                                  0   \n",
              "1             2464             0                                  0   \n",
              "2             2138             0                                  0   \n",
              "3              623             0                                  0   \n",
              "4              354             0                                  0   \n",
              "5             1894             0                                  0   \n",
              "6              227             0                                  0   \n",
              "7             1812             0                                  0   \n",
              "8               73             0                                  0   \n",
              "9             1556             0                                  0   \n",
              "\n",
              "   Food and drink  Gate location  ...  Online support  Ease of Online booking  \\\n",
              "0               0              2  ...               2                       3   \n",
              "1               0              3  ...               2                       3   \n",
              "2               0              3  ...               2                       2   \n",
              "3               0              3  ...               3                       1   \n",
              "4               0              3  ...               4                       2   \n",
              "5               0              3  ...               2                       2   \n",
              "6               0              3  ...               5                       5   \n",
              "7               0              3  ...               2                       2   \n",
              "8               0              3  ...               5                       4   \n",
              "9               0              3  ...               2                       2   \n",
              "\n",
              "   On-board service  Leg room service  Baggage handling  Checkin service  \\\n",
              "0                 3                 0                 3                5   \n",
              "1                 4                 4                 4                2   \n",
              "2                 3                 3                 4                4   \n",
              "3                 1                 0                 1                4   \n",
              "4                 2                 0                 2                4   \n",
              "5                 5                 4                 5                5   \n",
              "6                 5                 0                 5                5   \n",
              "7                 3                 3                 4                5   \n",
              "8                 4                 0                 1                5   \n",
              "9                 2                 4                 5                3   \n",
              "\n",
              "   Cleanliness  Online boarding  Departure Delay in Minutes  \\\n",
              "0            3                2                           0   \n",
              "1            3                2                         310   \n",
              "2            4                2                           0   \n",
              "3            1                3                           0   \n",
              "4            2                5                           0   \n",
              "5            4                2                           0   \n",
              "6            5                3                          17   \n",
              "7            4                2                           0   \n",
              "8            4                4                           0   \n",
              "9            4                2                          30   \n",
              "\n",
              "   Arrival Delay in Minutes  \n",
              "0                       0.0  \n",
              "1                     305.0  \n",
              "2                       0.0  \n",
              "3                       0.0  \n",
              "4                       0.0  \n",
              "5                       0.0  \n",
              "6                      15.0  \n",
              "7                       0.0  \n",
              "8                       0.0  \n",
              "9                      26.0  \n",
              "\n",
              "[10 rows x 22 columns]"
            ]
          },
          "execution_count": 4,
          "metadata": {},
          "output_type": "execute_result"
        }
      ],
      "source": [
        "df.head(10)"
      ],
      "id": "U8JZjN-zJwx6"
    },
    {
      "cell_type": "markdown",
      "metadata": {
        "id": "ec269f85-6622-4f82-bdcd-1874224a4052",
        "tags": []
      },
      "source": [
        "## Step 2: Data exploration, data cleaning, and model preparation\n",
        "\n",
        "### Prepare the data\n",
        "\n",
        "After loading the dataset, prepare the data to be suitable for decision tree classifiers. This includes:\n",
        "\n",
        "*   Exploring the data\n",
        "*   Checking for missing values\n",
        "*   Encoding the data\n",
        "*   Renaming a column\n",
        "*   Creating the training and testing data"
      ],
      "id": "ec269f85-6622-4f82-bdcd-1874224a4052"
    },
    {
      "cell_type": "markdown",
      "metadata": {
        "id": "d7ccd368"
      },
      "source": [
        "### Explore the data\n",
        "\n",
        "Check the data type of each column. Note that decision trees expect numeric data."
      ],
      "id": "d7ccd368"
    },
    {
      "cell_type": "code",
      "execution_count": null,
      "metadata": {
        "id": "c84ecc35",
        "outputId": "f824b7f8-c2ad-4f9e-e7e9-70b357654470"
      },
      "outputs": [
        {
          "data": {
            "text/plain": [
              "satisfaction                          object\n",
              "Customer Type                         object\n",
              "Age                                    int64\n",
              "Type of Travel                        object\n",
              "Class                                 object\n",
              "Flight Distance                        int64\n",
              "Seat comfort                           int64\n",
              "Departure/Arrival time convenient      int64\n",
              "Food and drink                         int64\n",
              "Gate location                          int64\n",
              "Inflight wifi service                  int64\n",
              "Inflight entertainment                 int64\n",
              "Online support                         int64\n",
              "Ease of Online booking                 int64\n",
              "On-board service                       int64\n",
              "Leg room service                       int64\n",
              "Baggage handling                       int64\n",
              "Checkin service                        int64\n",
              "Cleanliness                            int64\n",
              "Online boarding                        int64\n",
              "Departure Delay in Minutes             int64\n",
              "Arrival Delay in Minutes             float64\n",
              "dtype: object"
            ]
          },
          "execution_count": 5,
          "metadata": {},
          "output_type": "execute_result"
        }
      ],
      "source": [
        "df.dtypes"
      ],
      "id": "c84ecc35"
    },
    {
      "cell_type": "markdown",
      "metadata": {
        "id": "768367ea"
      },
      "source": [
        "### Output unique values\n",
        "\n",
        "The `Class` column is ordinal (meaning there is an inherent order that is significant). For example, airlines typically charge more for 'Business' than 'Eco Plus' and 'Eco'. Output the unique values in the `Class` column."
      ],
      "id": "768367ea"
    },
    {
      "cell_type": "code",
      "execution_count": null,
      "metadata": {
        "id": "52205295",
        "outputId": "36ababe0-9796-49d5-f1da-fa21830d40ff"
      },
      "outputs": [
        {
          "data": {
            "text/plain": [
              "array(['Eco', 'Business', 'Eco Plus'], dtype=object)"
            ]
          },
          "execution_count": 6,
          "metadata": {},
          "output_type": "execute_result"
        }
      ],
      "source": [
        "df['Class'].unique()"
      ],
      "id": "52205295"
    },
    {
      "cell_type": "markdown",
      "metadata": {
        "id": "381c04eb"
      },
      "source": [
        "### Check the counts of the predicted labels\n",
        "\n",
        "In order to predict customer satisfaction, verify if the dataset is imbalanced. To do this, check the counts of each of the predicted labels."
      ],
      "id": "381c04eb"
    },
    {
      "cell_type": "code",
      "execution_count": null,
      "metadata": {
        "id": "8098d8a3",
        "outputId": "f7a72380-00ee-4d1b-cba2-18a6be00907c"
      },
      "outputs": [
        {
          "data": {
            "text/plain": [
              "satisfied       71087\n",
              "dissatisfied    58793\n",
              "Name: satisfaction, dtype: int64"
            ]
          },
          "execution_count": 8,
          "metadata": {},
          "output_type": "execute_result"
        }
      ],
      "source": [
        "df['satisfaction'].value_counts()"
      ],
      "id": "8098d8a3"
    },
    {
      "cell_type": "code",
      "execution_count": null,
      "metadata": {
        "id": "R9edMeYaKAWl",
        "outputId": "c3453927-9ed6-409b-ce01-199eac7d94b9"
      },
      "outputs": [
        {
          "data": {
            "text/plain": [
              "satisfied       54.73283\n",
              "dissatisfied    45.26717\n",
              "Name: satisfaction, dtype: float64"
            ]
          },
          "execution_count": 10,
          "metadata": {},
          "output_type": "execute_result"
        }
      ],
      "source": [
        "(df['satisfaction'].value_counts()/df.shape[0] * 100)"
      ],
      "id": "R9edMeYaKAWl"
    },
    {
      "cell_type": "markdown",
      "metadata": {
        "id": "868c4ea3"
      },
      "source": [
        "**Question:** How many satisfied and dissatisfied customers were there?"
      ],
      "id": "868c4ea3"
    },
    {
      "cell_type": "markdown",
      "metadata": {
        "id": "M8nBc7uC6Gkw"
      },
      "source": [
        "As can be seen, the customers are more satisfied than dissatisfied with the services of the airline company. Furthermore, the dataset is balanced, as there is only a 10% difference between the classes."
      ],
      "id": "M8nBc7uC6Gkw"
    },
    {
      "cell_type": "markdown",
      "metadata": {
        "id": "b6bd7c91"
      },
      "source": [
        "**Question:** What percentage of customers were satisfied?"
      ],
      "id": "b6bd7c91"
    },
    {
      "cell_type": "markdown",
      "metadata": {
        "id": "pgSK9GlM6J15"
      },
      "source": [
        "The satisfied customers represent almost 55% of the dataset."
      ],
      "id": "pgSK9GlM6J15"
    },
    {
      "cell_type": "markdown",
      "metadata": {
        "id": "4222ca54"
      },
      "source": [
        "### Check for missing values"
      ],
      "id": "4222ca54"
    },
    {
      "cell_type": "markdown",
      "metadata": {
        "id": "TgANHJBVxpbI"
      },
      "source": [
        "The sklearn decision tree implementation does not support missing values. Check for missing values in the rows of the data."
      ],
      "id": "TgANHJBVxpbI"
    },
    {
      "cell_type": "code",
      "execution_count": null,
      "metadata": {
        "id": "842031fb",
        "outputId": "7340e267-02fb-47f2-f5f8-e6d5c20fd95a"
      },
      "outputs": [
        {
          "data": {
            "text/plain": [
              "satisfaction                           0\n",
              "Customer Type                          0\n",
              "Age                                    0\n",
              "Type of Travel                         0\n",
              "Class                                  0\n",
              "Flight Distance                        0\n",
              "Seat comfort                           0\n",
              "Departure/Arrival time convenient      0\n",
              "Food and drink                         0\n",
              "Gate location                          0\n",
              "Inflight wifi service                  0\n",
              "Inflight entertainment                 0\n",
              "Online support                         0\n",
              "Ease of Online booking                 0\n",
              "On-board service                       0\n",
              "Leg room service                       0\n",
              "Baggage handling                       0\n",
              "Checkin service                        0\n",
              "Cleanliness                            0\n",
              "Online boarding                        0\n",
              "Departure Delay in Minutes             0\n",
              "Arrival Delay in Minutes             393\n",
              "dtype: int64"
            ]
          },
          "execution_count": 13,
          "metadata": {},
          "output_type": "execute_result"
        }
      ],
      "source": [
        "df.isnull().sum()"
      ],
      "id": "842031fb"
    },
    {
      "cell_type": "markdown",
      "metadata": {
        "id": "5c11852b"
      },
      "source": [
        "**Question:** Why is it important to check how many rows and columns there are in the dataset?"
      ],
      "id": "5c11852b"
    },
    {
      "cell_type": "markdown",
      "metadata": {
        "id": "NvxvgDSfKAWn"
      },
      "source": [
        "It's important to be aware of the size of the data and how much effort it will require to make the transformations and build an effective model."
      ],
      "id": "NvxvgDSfKAWn"
    },
    {
      "cell_type": "markdown",
      "metadata": {
        "id": "Y3LCGzpBKAWn"
      },
      "source": [
        "### Check the number of rows and columns in the dataset"
      ],
      "id": "Y3LCGzpBKAWn"
    },
    {
      "cell_type": "code",
      "execution_count": null,
      "metadata": {
        "id": "a5e89463",
        "outputId": "c077028a-8878-4cd7-f0fe-f665ebe7e359"
      },
      "outputs": [
        {
          "data": {
            "text/plain": [
              "(129880, 22)"
            ]
          },
          "execution_count": 14,
          "metadata": {},
          "output_type": "execute_result"
        }
      ],
      "source": [
        "df.shape"
      ],
      "id": "a5e89463"
    },
    {
      "cell_type": "markdown",
      "metadata": {
        "id": "eb005a73-4621-45b9-8114-30472ce20327"
      },
      "source": [
        "### Drop the rows with missing values\n",
        "\n",
        "Drop the rows with missing values and save the resulting pandas DataFrame in a variable named `df_subset`."
      ],
      "id": "eb005a73-4621-45b9-8114-30472ce20327"
    },
    {
      "cell_type": "code",
      "execution_count": null,
      "metadata": {
        "id": "1cee438e-8b1f-4855-855e-3723d1958b69"
      },
      "outputs": [],
      "source": [
        "df_subset = df.dropna(axis=0).reset_index(drop = True)"
      ],
      "id": "1cee438e-8b1f-4855-855e-3723d1958b69"
    },
    {
      "cell_type": "markdown",
      "metadata": {
        "id": "ymfmX-WvW31z"
      },
      "source": [
        "### Check for missing values\n",
        "\n",
        "Check that `df_subset` does not contain any missing values."
      ],
      "id": "ymfmX-WvW31z"
    },
    {
      "cell_type": "code",
      "execution_count": null,
      "metadata": {
        "id": "n36d4yztW4BA",
        "outputId": "0faba1bd-6b22-4e90-b370-16d8ec08292a"
      },
      "outputs": [
        {
          "data": {
            "text/plain": [
              "satisfaction                         0\n",
              "Customer Type                        0\n",
              "Age                                  0\n",
              "Type of Travel                       0\n",
              "Class                                0\n",
              "Flight Distance                      0\n",
              "Seat comfort                         0\n",
              "Departure/Arrival time convenient    0\n",
              "Food and drink                       0\n",
              "Gate location                        0\n",
              "Inflight wifi service                0\n",
              "Inflight entertainment               0\n",
              "Online support                       0\n",
              "Ease of Online booking               0\n",
              "On-board service                     0\n",
              "Leg room service                     0\n",
              "Baggage handling                     0\n",
              "Checkin service                      0\n",
              "Cleanliness                          0\n",
              "Online boarding                      0\n",
              "Departure Delay in Minutes           0\n",
              "Arrival Delay in Minutes             0\n",
              "dtype: int64"
            ]
          },
          "execution_count": 21,
          "metadata": {},
          "output_type": "execute_result"
        }
      ],
      "source": [
        "df_subset.isnull().sum()"
      ],
      "id": "n36d4yztW4BA"
    },
    {
      "cell_type": "markdown",
      "metadata": {
        "id": "18c6650e"
      },
      "source": [
        "### Check the number of rows and columns in the dataset again\n",
        "\n",
        "Check how many rows and columns are remaining in the dataset. You should now have 393 fewer rows of data."
      ],
      "id": "18c6650e"
    },
    {
      "cell_type": "code",
      "execution_count": null,
      "metadata": {
        "id": "fa951c92",
        "outputId": "51ac8d1e-d10a-4413-ef7d-3940b26167ab"
      },
      "outputs": [
        {
          "data": {
            "text/plain": [
              "(129487, 22)"
            ]
          },
          "execution_count": 22,
          "metadata": {},
          "output_type": "execute_result"
        }
      ],
      "source": [
        "df_subset.shape"
      ],
      "id": "fa951c92"
    },
    {
      "cell_type": "markdown",
      "metadata": {
        "id": "d491a508"
      },
      "source": [
        "### Encode the data\n",
        "\n",
        "Four columns (`satisfaction`, `Customer Type`, `Type of Travel`, `Class`) are the pandas dtype object. Decision trees need numeric columns. Start by converting the ordinal `Class` column into numeric."
      ],
      "id": "d491a508"
    },
    {
      "cell_type": "code",
      "execution_count": null,
      "metadata": {
        "id": "4d580627"
      },
      "outputs": [],
      "source": [
        "df_subset['Class'] = df_subset['Class'].map({'Eco': 1, 'Eco Plus': 2, 'Business': 3})"
      ],
      "id": "4d580627"
    },
    {
      "cell_type": "markdown",
      "metadata": {
        "id": "LOy2vjgVyMw-"
      },
      "source": [
        "### Represent the data in the target variable numerically\n",
        "\n",
        "To represent the data in the target variable numerically, assign `\"satisfied\"` to the label `1` and `\"dissatisfied\"` to the label `0` in the `satisfaction` column."
      ],
      "id": "LOy2vjgVyMw-"
    },
    {
      "cell_type": "code",
      "execution_count": null,
      "metadata": {
        "id": "q1o64I02zay7"
      },
      "outputs": [],
      "source": [
        "### YOUR CODE HERE ###\n",
        "df_subset['satisfaction'] = df_subset['satisfaction'].map({'satisfied': 1, 'dissatisfied': 0})"
      ],
      "id": "q1o64I02zay7"
    },
    {
      "cell_type": "markdown",
      "metadata": {
        "id": "WzdzBLmB2j-e"
      },
      "source": [
        "### Convert categorical columns into numeric\n",
        "\n",
        "There are other columns in the dataset that are still categorical. Be sure to convert categorical columns in the dataset into numeric."
      ],
      "id": "WzdzBLmB2j-e"
    },
    {
      "cell_type": "code",
      "execution_count": null,
      "metadata": {
        "id": "pKog_5f22j-g"
      },
      "outputs": [],
      "source": [
        "### YOUR CODE HERE ###\n",
        "\n",
        "df_subset = pd.get_dummies(df_subset, drop_first = True)"
      ],
      "id": "pKog_5f22j-g"
    },
    {
      "cell_type": "markdown",
      "metadata": {
        "id": "06bbe8dd"
      },
      "source": [
        "### Check column data types\n",
        "\n",
        "Now that you have converted categorical columns into numeric, check your column data types."
      ],
      "id": "06bbe8dd"
    },
    {
      "cell_type": "code",
      "execution_count": null,
      "metadata": {
        "id": "d39eecf9",
        "scrolled": false,
        "outputId": "2fcf1a3f-374e-4bd6-9ebc-90d51f2fd2db"
      },
      "outputs": [
        {
          "data": {
            "text/plain": [
              "satisfaction                           int64\n",
              "Age                                    int64\n",
              "Class                                  int64\n",
              "Flight Distance                        int64\n",
              "Seat comfort                           int64\n",
              "Departure/Arrival time convenient      int64\n",
              "Food and drink                         int64\n",
              "Gate location                          int64\n",
              "Inflight wifi service                  int64\n",
              "Inflight entertainment                 int64\n",
              "Online support                         int64\n",
              "Ease of Online booking                 int64\n",
              "On-board service                       int64\n",
              "Leg room service                       int64\n",
              "Baggage handling                       int64\n",
              "Checkin service                        int64\n",
              "Cleanliness                            int64\n",
              "Online boarding                        int64\n",
              "Departure Delay in Minutes             int64\n",
              "Arrival Delay in Minutes             float64\n",
              "Customer Type_disloyal Customer        uint8\n",
              "Type of Travel_Personal Travel         uint8\n",
              "dtype: object"
            ]
          },
          "execution_count": 27,
          "metadata": {},
          "output_type": "execute_result"
        }
      ],
      "source": [
        "df_subset.dtypes"
      ],
      "id": "d39eecf9"
    },
    {
      "cell_type": "code",
      "execution_count": null,
      "metadata": {
        "id": "6nDY03asKAWp",
        "outputId": "a0a888e9-d39a-4d38-d7a6-6b0c683d2f5b"
      },
      "outputs": [
        {
          "data": {
            "text/html": [
              "<div>\n",
              "<style scoped>\n",
              "    .dataframe tbody tr th:only-of-type {\n",
              "        vertical-align: middle;\n",
              "    }\n",
              "\n",
              "    .dataframe tbody tr th {\n",
              "        vertical-align: top;\n",
              "    }\n",
              "\n",
              "    .dataframe thead th {\n",
              "        text-align: right;\n",
              "    }\n",
              "</style>\n",
              "<table border=\"1\" class=\"dataframe\">\n",
              "  <thead>\n",
              "    <tr style=\"text-align: right;\">\n",
              "      <th></th>\n",
              "      <th>satisfaction</th>\n",
              "      <th>Age</th>\n",
              "      <th>Class</th>\n",
              "      <th>Flight Distance</th>\n",
              "      <th>Seat comfort</th>\n",
              "      <th>Departure/Arrival time convenient</th>\n",
              "      <th>Food and drink</th>\n",
              "      <th>Gate location</th>\n",
              "      <th>Inflight wifi service</th>\n",
              "      <th>Inflight entertainment</th>\n",
              "      <th>...</th>\n",
              "      <th>On-board service</th>\n",
              "      <th>Leg room service</th>\n",
              "      <th>Baggage handling</th>\n",
              "      <th>Checkin service</th>\n",
              "      <th>Cleanliness</th>\n",
              "      <th>Online boarding</th>\n",
              "      <th>Departure Delay in Minutes</th>\n",
              "      <th>Arrival Delay in Minutes</th>\n",
              "      <th>Customer Type_disloyal Customer</th>\n",
              "      <th>Type of Travel_Personal Travel</th>\n",
              "    </tr>\n",
              "  </thead>\n",
              "  <tbody>\n",
              "    <tr>\n",
              "      <th>0</th>\n",
              "      <td>1</td>\n",
              "      <td>65</td>\n",
              "      <td>1</td>\n",
              "      <td>265</td>\n",
              "      <td>0</td>\n",
              "      <td>0</td>\n",
              "      <td>0</td>\n",
              "      <td>2</td>\n",
              "      <td>2</td>\n",
              "      <td>4</td>\n",
              "      <td>...</td>\n",
              "      <td>3</td>\n",
              "      <td>0</td>\n",
              "      <td>3</td>\n",
              "      <td>5</td>\n",
              "      <td>3</td>\n",
              "      <td>2</td>\n",
              "      <td>0</td>\n",
              "      <td>0.0</td>\n",
              "      <td>0</td>\n",
              "      <td>1</td>\n",
              "    </tr>\n",
              "    <tr>\n",
              "      <th>1</th>\n",
              "      <td>1</td>\n",
              "      <td>47</td>\n",
              "      <td>3</td>\n",
              "      <td>2464</td>\n",
              "      <td>0</td>\n",
              "      <td>0</td>\n",
              "      <td>0</td>\n",
              "      <td>3</td>\n",
              "      <td>0</td>\n",
              "      <td>2</td>\n",
              "      <td>...</td>\n",
              "      <td>4</td>\n",
              "      <td>4</td>\n",
              "      <td>4</td>\n",
              "      <td>2</td>\n",
              "      <td>3</td>\n",
              "      <td>2</td>\n",
              "      <td>310</td>\n",
              "      <td>305.0</td>\n",
              "      <td>0</td>\n",
              "      <td>1</td>\n",
              "    </tr>\n",
              "    <tr>\n",
              "      <th>2</th>\n",
              "      <td>1</td>\n",
              "      <td>15</td>\n",
              "      <td>1</td>\n",
              "      <td>2138</td>\n",
              "      <td>0</td>\n",
              "      <td>0</td>\n",
              "      <td>0</td>\n",
              "      <td>3</td>\n",
              "      <td>2</td>\n",
              "      <td>0</td>\n",
              "      <td>...</td>\n",
              "      <td>3</td>\n",
              "      <td>3</td>\n",
              "      <td>4</td>\n",
              "      <td>4</td>\n",
              "      <td>4</td>\n",
              "      <td>2</td>\n",
              "      <td>0</td>\n",
              "      <td>0.0</td>\n",
              "      <td>0</td>\n",
              "      <td>1</td>\n",
              "    </tr>\n",
              "    <tr>\n",
              "      <th>3</th>\n",
              "      <td>1</td>\n",
              "      <td>60</td>\n",
              "      <td>1</td>\n",
              "      <td>623</td>\n",
              "      <td>0</td>\n",
              "      <td>0</td>\n",
              "      <td>0</td>\n",
              "      <td>3</td>\n",
              "      <td>3</td>\n",
              "      <td>4</td>\n",
              "      <td>...</td>\n",
              "      <td>1</td>\n",
              "      <td>0</td>\n",
              "      <td>1</td>\n",
              "      <td>4</td>\n",
              "      <td>1</td>\n",
              "      <td>3</td>\n",
              "      <td>0</td>\n",
              "      <td>0.0</td>\n",
              "      <td>0</td>\n",
              "      <td>1</td>\n",
              "    </tr>\n",
              "    <tr>\n",
              "      <th>4</th>\n",
              "      <td>1</td>\n",
              "      <td>70</td>\n",
              "      <td>1</td>\n",
              "      <td>354</td>\n",
              "      <td>0</td>\n",
              "      <td>0</td>\n",
              "      <td>0</td>\n",
              "      <td>3</td>\n",
              "      <td>4</td>\n",
              "      <td>3</td>\n",
              "      <td>...</td>\n",
              "      <td>2</td>\n",
              "      <td>0</td>\n",
              "      <td>2</td>\n",
              "      <td>4</td>\n",
              "      <td>2</td>\n",
              "      <td>5</td>\n",
              "      <td>0</td>\n",
              "      <td>0.0</td>\n",
              "      <td>0</td>\n",
              "      <td>1</td>\n",
              "    </tr>\n",
              "  </tbody>\n",
              "</table>\n",
              "<p>5 rows × 22 columns</p>\n",
              "</div>"
            ],
            "text/plain": [
              "   satisfaction  Age  Class  Flight Distance  Seat comfort  \\\n",
              "0             1   65      1              265             0   \n",
              "1             1   47      3             2464             0   \n",
              "2             1   15      1             2138             0   \n",
              "3             1   60      1              623             0   \n",
              "4             1   70      1              354             0   \n",
              "\n",
              "   Departure/Arrival time convenient  Food and drink  Gate location  \\\n",
              "0                                  0               0              2   \n",
              "1                                  0               0              3   \n",
              "2                                  0               0              3   \n",
              "3                                  0               0              3   \n",
              "4                                  0               0              3   \n",
              "\n",
              "   Inflight wifi service  Inflight entertainment  ...  On-board service  \\\n",
              "0                      2                       4  ...                 3   \n",
              "1                      0                       2  ...                 4   \n",
              "2                      2                       0  ...                 3   \n",
              "3                      3                       4  ...                 1   \n",
              "4                      4                       3  ...                 2   \n",
              "\n",
              "   Leg room service  Baggage handling  Checkin service  Cleanliness  \\\n",
              "0                 0                 3                5            3   \n",
              "1                 4                 4                2            3   \n",
              "2                 3                 4                4            4   \n",
              "3                 0                 1                4            1   \n",
              "4                 0                 2                4            2   \n",
              "\n",
              "   Online boarding  Departure Delay in Minutes  Arrival Delay in Minutes  \\\n",
              "0                2                           0                       0.0   \n",
              "1                2                         310                     305.0   \n",
              "2                2                           0                       0.0   \n",
              "3                3                           0                       0.0   \n",
              "4                5                           0                       0.0   \n",
              "\n",
              "   Customer Type_disloyal Customer  Type of Travel_Personal Travel  \n",
              "0                                0                               1  \n",
              "1                                0                               1  \n",
              "2                                0                               1  \n",
              "3                                0                               1  \n",
              "4                                0                               1  \n",
              "\n",
              "[5 rows x 22 columns]"
            ]
          },
          "execution_count": 28,
          "metadata": {},
          "output_type": "execute_result"
        }
      ],
      "source": [
        "df_subset.head()"
      ],
      "id": "6nDY03asKAWp"
    },
    {
      "cell_type": "markdown",
      "metadata": {
        "id": "0aaf5733"
      },
      "source": [
        "### Create the training and testing data\n",
        "\n",
        "Put 75% of the data into a training set and the remaining 25% into a testing set."
      ],
      "id": "0aaf5733"
    },
    {
      "cell_type": "code",
      "execution_count": null,
      "metadata": {
        "id": "77bffb4e"
      },
      "outputs": [],
      "source": [
        "y = df_subset['satisfaction']\n",
        "\n",
        "X = df_subset.copy()\n",
        "X = X.drop('satisfaction', axis=1)\n",
        "\n",
        "X_train, X_test, y_train, y_test = train_test_split(X, y,\n",
        "                                                   test_size=0.25, stratify = y,\n",
        "                                                   random_state = 42)"
      ],
      "id": "77bffb4e"
    },
    {
      "cell_type": "markdown",
      "metadata": {
        "id": "58bb9bf2"
      },
      "source": [
        "## Step 3: Model building"
      ],
      "id": "58bb9bf2"
    },
    {
      "cell_type": "markdown",
      "metadata": {
        "id": "a81f66ae"
      },
      "source": [
        "### Fit a decision tree classifier model to the data\n",
        "\n",
        "Make a decision tree instance called `decision_tree` and pass in `0` to the `random_state` parameter. This is only so that if other data professionals run this code, they get the same results. Fit the model on the training set, use the `predict()` function on the testing set, and assign those predictions to the variable `dt_pred`."
      ],
      "id": "a81f66ae"
    },
    {
      "cell_type": "code",
      "execution_count": null,
      "metadata": {
        "id": "5a4211cb"
      },
      "outputs": [],
      "source": [
        "decision_tree = DecisionTreeClassifier(random_state=0)\n",
        "\n",
        "decision_tree.fit(X_train, y_train)\n",
        "\n",
        "df_pred = decision_tree.predict(X_test)"
      ],
      "id": "5a4211cb"
    },
    {
      "cell_type": "markdown",
      "metadata": {
        "id": "dac3da82"
      },
      "source": [
        "**Question:** What are some advantages of using decision trees versus other models you have learned about?"
      ],
      "id": "dac3da82"
    },
    {
      "cell_type": "markdown",
      "metadata": {
        "id": "RaOxZ4_66j4D"
      },
      "source": [
        "Unlike the other models, decision trees require relatively few pre-processing steps. Furthermore, they do not require normalization or scaling, and the decisions are transparent."
      ],
      "id": "RaOxZ4_66j4D"
    },
    {
      "cell_type": "markdown",
      "metadata": {
        "id": "d638b5bb"
      },
      "source": [
        "## Step 4: Results and evaluation\n",
        "\n",
        "Print out the decision tree model's accuracy, precision, recall, and F1 score."
      ],
      "id": "d638b5bb"
    },
    {
      "cell_type": "code",
      "execution_count": null,
      "metadata": {
        "id": "6de9be28",
        "outputId": "7be2f0fb-d8bc-4d3b-ed68-110f96dad96f"
      },
      "outputs": [
        {
          "name": "stdout",
          "output_type": "stream",
          "text": [
            "Accuracy: 0.933\n",
            "Precision: 0.937\n",
            "Recall: 0.941\n",
            "F1 Score: 0.939\n"
          ]
        }
      ],
      "source": [
        "print(\"Accuracy:\", \"%.3f\" % metrics.accuracy_score(y_test, df_pred))\n",
        "print(\"Precision:\", \"%.3f\" % metrics.precision_score(y_test, df_pred))\n",
        "print(\"Recall:\", \"%.3f\" % metrics.recall_score(y_test, df_pred))\n",
        "print(\"F1 Score:\", \"%.3f\" % metrics.f1_score(y_test, df_pred))"
      ],
      "id": "6de9be28"
    },
    {
      "cell_type": "markdown",
      "metadata": {
        "id": "14c49f02"
      },
      "source": [
        "**Question:** Are there any additional steps you could take to improve the performance or function of your decision tree?"
      ],
      "id": "14c49f02"
    },
    {
      "cell_type": "markdown",
      "metadata": {
        "id": "YTIryEN26nqo"
      },
      "source": [
        "An interesting additional step is to tune the decision tree, by tuning the hyperparameters and conducting cross-validation. It is important to control how a decision tree grows and make more efficient use of the training data."
      ],
      "id": "YTIryEN26nqo"
    },
    {
      "cell_type": "markdown",
      "metadata": {
        "id": "2d63fb90"
      },
      "source": [
        "### Produce a confusion matrix"
      ],
      "id": "2d63fb90"
    },
    {
      "cell_type": "markdown",
      "metadata": {
        "id": "0524c798"
      },
      "source": [
        "Data professionals often like to know the types of errors made by an algorithm. To obtain this information, produce a confusion matrix."
      ],
      "id": "0524c798"
    },
    {
      "cell_type": "code",
      "execution_count": null,
      "metadata": {
        "id": "df15d57b",
        "outputId": "2e6ee748-749e-40ab-a454-f8540a710317"
      },
      "outputs": [
        {
          "data": {
            "image/png": "[encoded data removed]",
            "text/plain": [
              "<Figure size 432x288 with 2 Axes>"
            ]
          },
          "metadata": {
            "needs_background": "light"
          },
          "output_type": "display_data"
        }
      ],
      "source": [
        "def conf_matrix_plot_percentage(model, x_data, y_data):\n",
        "    '''\n",
        "    Accepts a model object, X data (test or validate), and y data (test or validate).\n",
        "    Returns a plot of the confusion matrix with percentages for predictions on y data, including the % symbol.\n",
        "    '''\n",
        "    # Predict the labels\n",
        "    model_pred = model.predict(x_data)\n",
        "\n",
        "    # Compute the confusion matrix\n",
        "    cm = metrics.confusion_matrix(y_data, model_pred, labels=model.classes_)\n",
        "\n",
        "    # Normalize the confusion matrix by row (to show percentages per class)\n",
        "    cm_percentage = cm.astype('float') / cm.sum(axis=1)[:, np.newaxis] * 100\n",
        "\n",
        "    # Create a confusion matrix display\n",
        "    disp = metrics.ConfusionMatrixDisplay(confusion_matrix=cm_percentage,\n",
        "                                  display_labels=model.classes_)\n",
        "\n",
        "    # Plot the confusion matrix\n",
        "    disp.plot()\n",
        "\n",
        "    # Customize text to add the '%' symbol\n",
        "    for i, text in enumerate(disp.text_.ravel()):\n",
        "        value = float(text.get_text())\n",
        "        text.set_text(f\"{value:.2f}%\")  # Format with percentage symbol\n",
        "\n",
        "    plt.title(\"Confusion Matrix\")\n",
        "    plt.xlabel(\"Predicted Label\")\n",
        "    plt.ylabel(\"True Label\")\n",
        "    plt.show()\n",
        "\n",
        "\n",
        "# Create the display for your confusion matrix.\n",
        "\n",
        "conf_matrix_plot_percentage(decision_tree, X_test, y_test)\n",
        "\n",
        "\n",
        "# Plot the visual in-line.\n",
        "\n",
        "plt.show()"
      ],
      "id": "df15d57b"
    },
    {
      "cell_type": "markdown",
      "metadata": {
        "id": "90154f0f"
      },
      "source": [
        "**Question:** What patterns can you identify between true positives and true negatives, as well as false positives and false negatives?"
      ],
      "id": "90154f0f"
    },
    {
      "cell_type": "markdown",
      "metadata": {
        "id": "2NVELuWM6sPT"
      },
      "source": [
        "The model demonstrates strong performance in predicting customer satisfaction. It accurately predicted 92% of satisfied customers (true positives) and 94% of dissatisfied customers (true negatives), reflecting its reliability in distinguishing between the two categories. Furthermore, the model maintained low error rates, with only 7.7% of dissatisfied customers being misclassified as satisfied (false positives) and 5.9% of satisfied customers being misclassified as dissatisfied (false negatives).\n",
        "\n",
        "The results indicate that the model is effective at minimizing both types of errors while maintaining high precision and recall."
      ],
      "id": "2NVELuWM6sPT"
    },
    {
      "cell_type": "markdown",
      "metadata": {
        "id": "3e2c1c7d"
      },
      "source": [
        "### Plot the decision tree\n",
        "\n",
        "Examine the decision tree. Use `plot_tree` function to produce a visual representation of the tree to pinpoint where the splits in the data are occurring."
      ],
      "id": "3e2c1c7d"
    },
    {
      "cell_type": "code",
      "execution_count": null,
      "metadata": {
        "id": "9ef5e9c3",
        "outputId": "6c02d9c0-c3ba-4dda-8e0e-e80012c472f4"
      },
      "outputs": [
        {
          "data": {
            "image/png": "[encoded data removed]",
            "text/plain": [
              "<Figure size 1440x1080 with 1 Axes>"
            ]
          },
          "metadata": {
            "needs_background": "light"
          },
          "output_type": "display_data"
        }
      ],
      "source": [
        "plt.figure(figsize=(20,15))\n",
        "plot_tree(decision_tree, max_depth = 2, fontsize=14, feature_names = X.columns,\n",
        "         class_names = {0: 'dissatisfied', 1: 'satisfied'}, filled=True)\n",
        "\n",
        "plt.show()"
      ],
      "id": "9ef5e9c3"
    },
    {
      "cell_type": "markdown",
      "metadata": {
        "id": "9a84e65a"
      },
      "source": [
        "### Hyperparameter tuning\n",
        "\n",
        "Knowing how and when to adjust or tune a model can help a data professional significantly increase performance. In this section, you will find the best values for the hyperparameters `max_depth` and `min_samples_leaf` using grid search and cross validation. Below are some values for the hyperparameters `max_depth` and `min_samples_leaf`.   "
      ],
      "id": "9a84e65a"
    },
    {
      "cell_type": "code",
      "execution_count": null,
      "metadata": {
        "id": "7b47fcab"
      },
      "outputs": [],
      "source": [
        "tree_para = {'max_depth':[1,2,3,4,5,6,7,8,9,10,11,12,13,14,15,16,17,18,19,20,30,40,50],\n",
        "             'min_samples_leaf': [2,3,4,5,6,7,8,9, 10, 15, 20, 50]}\n",
        "\n",
        "scoring = {'accuracy', 'precision', 'recall', 'f1'}"
      ],
      "id": "7b47fcab"
    },
    {
      "cell_type": "markdown",
      "metadata": {
        "id": "22672b1f"
      },
      "source": [
        "### Check combinations of values\n",
        "\n",
        "Check every combination of values to examine which pair has the best evaluation metrics. Make a decision tree instance called `tuned_decision_tree` with `random_state=0`, make a `GridSearchCV` instance called `clf`, make sure to refit the estimator using `\"f1\"`, and fit the model on the training set.\n",
        "\n",
        "**Note:** This cell may take up to 15 minutes to run."
      ],
      "id": "22672b1f"
    },
    {
      "cell_type": "code",
      "execution_count": null,
      "metadata": {
        "id": "ca41e241",
        "outputId": "26695781-e41b-432d-d6b4-55f909231738"
      },
      "outputs": [
        {
          "data": {
            "text/plain": [
              "GridSearchCV(cv=5, error_score=nan,\n",
              "             estimator=DecisionTreeClassifier(ccp_alpha=0.0, class_weight=None,\n",
              "                                              criterion='gini', max_depth=None,\n",
              "                                              max_features=None,\n",
              "                                              max_leaf_nodes=None,\n",
              "                                              min_impurity_decrease=0.0,\n",
              "                                              min_impurity_split=None,\n",
              "                                              min_samples_leaf=1,\n",
              "                                              min_samples_split=2,\n",
              "                                              min_weight_fraction_leaf=0.0,\n",
              "                                              presort='deprecated',\n",
              "                                              random_state=42,\n",
              "                                              splitter='best'),\n",
              "             iid='deprecated', n_jobs=None,\n",
              "             param_grid={'max_depth': [1, 2, 3, 4, 5, 6, 7, 8, 9, 10, 11, 12,\n",
              "                                       13, 14, 15, 16, 17, 18, 19, 20, 30, 40,\n",
              "                                       50],\n",
              "                         'min_samples_leaf': [2, 3, 4, 5, 6, 7, 8, 9, 10, 15,\n",
              "                                              20, 50]},\n",
              "             pre_dispatch='2*n_jobs', refit='f1', return_train_score=False,\n",
              "             scoring={'recall', 'accuracy', 'precision', 'f1'}, verbose=0)"
            ]
          },
          "execution_count": 61,
          "metadata": {},
          "output_type": "execute_result"
        }
      ],
      "source": [
        "tuned_decision_tree = DecisionTreeClassifier(random_state = 42)\n",
        "\n",
        "clf = GridSearchCV(tuned_decision_tree,\n",
        "                  tree_para,\n",
        "                  scoring = scoring,\n",
        "                  cv = 5,\n",
        "                  refit = 'f1')\n",
        "\n",
        "clf.fit(X_train, y_train)"
      ],
      "id": "ca41e241"
    },
    {
      "cell_type": "markdown",
      "metadata": {
        "id": "59b8a1db"
      },
      "source": [
        "**Question:** How can you determine the best combination of values for the hyperparameters?"
      ],
      "id": "59b8a1db"
    },
    {
      "cell_type": "markdown",
      "metadata": {
        "id": "iDv7mPllKAWr"
      },
      "source": [
        "By using the best estimator in order to discover the best pair combination."
      ],
      "id": "iDv7mPllKAWr"
    },
    {
      "cell_type": "markdown",
      "metadata": {
        "id": "ccZfPI34KAWr"
      },
      "source": [
        "### Compute the best combination of values for the hyperparameters"
      ],
      "id": "ccZfPI34KAWr"
    },
    {
      "cell_type": "code",
      "execution_count": null,
      "metadata": {
        "id": "213279f3",
        "scrolled": true,
        "outputId": "6a80bafb-9968-4e7e-b560-88b89e1707c7"
      },
      "outputs": [
        {
          "data": {
            "text/plain": [
              "DecisionTreeClassifier(ccp_alpha=0.0, class_weight=None, criterion='gini',\n",
              "                       max_depth=16, max_features=None, max_leaf_nodes=None,\n",
              "                       min_impurity_decrease=0.0, min_impurity_split=None,\n",
              "                       min_samples_leaf=8, min_samples_split=2,\n",
              "                       min_weight_fraction_leaf=0.0, presort='deprecated',\n",
              "                       random_state=42, splitter='best')"
            ]
          },
          "execution_count": 62,
          "metadata": {},
          "output_type": "execute_result"
        }
      ],
      "source": [
        "clf.best_estimator_"
      ],
      "id": "213279f3"
    },
    {
      "cell_type": "markdown",
      "metadata": {
        "id": "vEir7TWpKAWs"
      },
      "source": [
        "**Question:** What is the best combination of values for the hyperparameters?"
      ],
      "id": "vEir7TWpKAWs"
    },
    {
      "cell_type": "markdown",
      "metadata": {
        "id": "Wp5wgHK-KAWs"
      },
      "source": [
        "The best combination of values for the hyperparameters shows a max depth of 16, a min samples leaf of 8 and a min samples split of 2."
      ],
      "id": "Wp5wgHK-KAWs"
    },
    {
      "cell_type": "markdown",
      "metadata": {
        "id": "6b001fad"
      },
      "source": [
        "<strong> Question: What was the best average validation score? </strong>"
      ],
      "id": "6b001fad"
    },
    {
      "cell_type": "code",
      "execution_count": null,
      "metadata": {
        "id": "e615523c",
        "outputId": "af0b98a0-fa7a-41d5-f6f8-53f68111f890"
      },
      "outputs": [
        {
          "name": "stdout",
          "output_type": "stream",
          "text": [
            "Best Avg. Validation Score:  0.9437\n"
          ]
        }
      ],
      "source": [
        "print(\"Best Avg. Validation Score: \", \"%.4f\" % clf.best_score_)"
      ],
      "id": "e615523c"
    },
    {
      "cell_type": "markdown",
      "metadata": {
        "id": "kOBEhD6Z65oM"
      },
      "source": [
        "The F1-score is slightly better than the baseline model's F1 score (0.939)."
      ],
      "id": "kOBEhD6Z65oM"
    },
    {
      "cell_type": "markdown",
      "metadata": {
        "id": "dfad3e62"
      },
      "source": [
        "### Determine the \"best\" decision tree model's accuracy, precision, recall, and F1 score\n",
        "\n",
        "Print out the decision tree model's accuracy, precision, recall, and F1 score. This task can be done in a number of ways."
      ],
      "id": "dfad3e62"
    },
    {
      "cell_type": "code",
      "execution_count": null,
      "metadata": {
        "id": "e8b96047"
      },
      "outputs": [],
      "source": [
        "### YOUR CODE HERE\n",
        "\n",
        "results = pd.DataFrame(columns=[])\n",
        "\n",
        "def make_results(model_name, model_object):\n",
        "\n",
        "    '''\n",
        "    Accepts as arguments a model name (your choice - string) and\n",
        "    a fit GridSearchCV model object.\n",
        "\n",
        "    Returns a pandas df with the F1, recall, precision, and accuracy scores\n",
        "    for the model with the best mean F1 score across all validation folds.\n",
        "    '''\n",
        "\n",
        "    # Get all the results from the CV and put them in a df\n",
        "    cv_results = pd.DataFrame(model_object.cv_results_)\n",
        "\n",
        "    # Isolate the row of the df with the max(mean f1 score)\n",
        "    best_estimator_results = cv_results.iloc[cv_results['mean_test_f1'].idxmax(), :]\n",
        "\n",
        "    # Extract accuracy, precision, recall, and f1 score from that row\n",
        "    f1 = best_estimator_results.mean_test_f1\n",
        "    recall = best_estimator_results.mean_test_recall\n",
        "    precision = best_estimator_results.mean_test_precision\n",
        "    accuracy = best_estimator_results.mean_test_accuracy\n",
        "\n",
        "    # Create table of results\n",
        "    table = pd.DataFrame()\n",
        "    # Create table of results\n",
        "    table = pd.DataFrame({'Model': [model_name],\n",
        "                          'F1': [f1],\n",
        "                          'Recall': [recall],\n",
        "                          'Precision': [precision],\n",
        "                          'Accuracy': [accuracy]\n",
        "                         }\n",
        "                        )\n",
        "\n",
        "    return table"
      ],
      "id": "e8b96047"
    },
    {
      "cell_type": "code",
      "execution_count": null,
      "metadata": {
        "id": "fuA2OaUCKAWs"
      },
      "outputs": [],
      "source": [
        "result_table = make_results(\"Tuned Decision Tree\", clf)"
      ],
      "id": "fuA2OaUCKAWs"
    },
    {
      "cell_type": "code",
      "execution_count": null,
      "metadata": {
        "id": "OHNdehCcKAWs",
        "outputId": "77dd1e68-c8bd-41f4-cb3b-f2c089cc6a2b"
      },
      "outputs": [
        {
          "data": {
            "text/html": [
              "<div>\n",
              "<style scoped>\n",
              "    .dataframe tbody tr th:only-of-type {\n",
              "        vertical-align: middle;\n",
              "    }\n",
              "\n",
              "    .dataframe tbody tr th {\n",
              "        vertical-align: top;\n",
              "    }\n",
              "\n",
              "    .dataframe thead th {\n",
              "        text-align: right;\n",
              "    }\n",
              "</style>\n",
              "<table border=\"1\" class=\"dataframe\">\n",
              "  <thead>\n",
              "    <tr style=\"text-align: right;\">\n",
              "      <th></th>\n",
              "      <th>Model</th>\n",
              "      <th>F1</th>\n",
              "      <th>Recall</th>\n",
              "      <th>Precision</th>\n",
              "      <th>Accuracy</th>\n",
              "    </tr>\n",
              "  </thead>\n",
              "  <tbody>\n",
              "    <tr>\n",
              "      <th>0</th>\n",
              "      <td>Tuned Decision Tree</td>\n",
              "      <td>0.943673</td>\n",
              "      <td>0.935216</td>\n",
              "      <td>0.952305</td>\n",
              "      <td>0.938887</td>\n",
              "    </tr>\n",
              "  </tbody>\n",
              "</table>\n",
              "</div>"
            ],
            "text/plain": [
              "                 Model        F1    Recall  Precision  Accuracy\n",
              "0  Tuned Decision Tree  0.943673  0.935216   0.952305  0.938887"
            ]
          },
          "execution_count": 66,
          "metadata": {},
          "output_type": "execute_result"
        }
      ],
      "source": [
        "result_table"
      ],
      "id": "OHNdehCcKAWs"
    },
    {
      "cell_type": "markdown",
      "metadata": {
        "id": "ac4e8ee6"
      },
      "source": [
        "**Question:** Was the additional performance improvement from hyperparameter tuning worth the computational cost? Why or why not?"
      ],
      "id": "ac4e8ee6"
    },
    {
      "cell_type": "markdown",
      "metadata": {
        "id": "DGJjCpVt7T6w"
      },
      "source": [
        "As the F1-score for this new model (0.943) is not significantly better than the baseline model's F1-score (0.939), the additional performance improvement from hyperparameter tuning didn't make a meaningful difference."
      ],
      "id": "DGJjCpVt7T6w"
    },
    {
      "cell_type": "markdown",
      "metadata": {
        "id": "46b88d61"
      },
      "source": [
        "### Plot the \"best\" decision tree\n",
        "\n",
        "Use the `plot_tree` function to produce a representation of the tree to pinpoint where the splits in the data are occurring. This will allow you to review the \"best\" decision tree."
      ],
      "id": "46b88d61"
    },
    {
      "cell_type": "code",
      "execution_count": null,
      "metadata": {
        "id": "e5ab9b48",
        "scrolled": false,
        "outputId": "589e8c42-bf1a-43c9-ee3f-3ae35a34ddcd"
      },
      "outputs": [
        {
          "data": {
            "image/png": "[encoded data removed]",
            "text/plain": [
              "<Figure size 1440x1080 with 1 Axes>"
            ]
          },
          "metadata": {
            "needs_background": "light"
          },
          "output_type": "display_data"
        }
      ],
      "source": [
        "plt.figure(figsize=(20,15))\n",
        "plot_tree(clf.best_estimator_, max_depth = 2, fontsize=14, feature_names = X.columns,\n",
        "         class_names = {0: 'dissatisfied', 1: 'satisfied'}, filled=True)\n",
        "\n",
        "plt.show()"
      ],
      "id": "e5ab9b48"
    },
    {
      "cell_type": "markdown",
      "metadata": {
        "id": "65d32f07"
      },
      "source": [
        "The decision tree model identifies key factors influencing customer satisfaction with an airline. The root node highlights `Inflight entertainment` as the most critical feature, with a threshold value of 3.5 separating satisfied and dissatisfied customers. This indicates that passengers who rate inflight entertainment higher than 3.5 are more likely to be satisfied. Following this, `Seat comfort` emerges as another pivotal factor for dissatisfied customers, as passengers who rate it below 3.5 are predominantly dissatisfied. On the satisfied side, `Ease of online booking` is an essential criterion, emphasizing that a positive booking experience contributes significantly to satisfaction levels.\n",
        "\n",
        "The tree also demonstrates nuanced interactions between features. For instance, among dissatisfied passengers, those rating `Seat comfort` extremely low (below 0.5) are the largest subgroup of dissatisfaction. Similarly, for satisfied passengers, a high score in `Customer Type_disloyal Customer` (indicating loyalty) is strongly correlated with satisfaction, signifying the importance of customer retention and loyalty programs. Overall, the tree effectively prioritizes features that airlines can target to enhance satisfaction, such as improving inflight entertainment, seat comfort, and online booking experiences while fostering customer loyalty.\n",
        "\n",
        "Next, in order to improve the recommendations, the most important features will be identified."
      ],
      "id": "65d32f07"
    },
    {
      "cell_type": "code",
      "execution_count": null,
      "metadata": {
        "scrolled": true,
        "id": "HHI8SWnSKAWt"
      },
      "outputs": [],
      "source": [
        "importances = clf.best_estimator_.feature_importances_\n",
        "\n",
        "forest_importances = pd.Series(importances, index=X.columns).sort_values(ascending=False)\n",
        "\n",
        "forest_importances\n",
        "\n",
        "forest_importances_df = forest_importances.reset_index()\n",
        "\n",
        "forest_importances_df.columns = ['feature', 'score']"
      ],
      "id": "HHI8SWnSKAWt"
    },
    {
      "cell_type": "code",
      "execution_count": null,
      "metadata": {
        "scrolled": false,
        "id": "UVeB-7ZMKAWt",
        "outputId": "f7aec4ac-b5b9-47fe-af46-32566a3ec3d4"
      },
      "outputs": [
        {
          "data": {
            "image/png": "[encoded data removed]",
            "text/plain": [
              "<Figure size 1080x648 with 1 Axes>"
            ]
          },
          "metadata": {
            "needs_background": "light"
          },
          "output_type": "display_data"
        }
      ],
      "source": [
        "# defining some colors\n",
        "GREY1, GREY2, GREY3= \"#CFCDCE\", \"#A2A1A3\", \"#787878\"\n",
        "\n",
        "# plotting the bar chart\n",
        "fig, ax = plt.subplots(figsize= (15,9))\n",
        "n_plots = 21\n",
        "palette = sns.color_palette(\"Blues_d\", n_colors=n_plots)\n",
        "palette.reverse()\n",
        "with palette:\n",
        "  ax = sns.barplot(y='feature' ,x='score', data=forest_importances_df)\n",
        "  # plotar título\n",
        "  plt.text(0, -3.2, 'Decision tree feature importance',\n",
        "          fontsize=20,\n",
        "          color=GREY3,\n",
        "          weight='bold')\n",
        "\n",
        "  # plotar subtitulo\n",
        "  plt.text(0, -2.8,\n",
        "          \"The most important features of the \\n\"\n",
        "          \"decision tree model.\",\n",
        "          verticalalignment=\"top\",\n",
        "          fontsize=18,\n",
        "          color=GREY2)\n",
        "\n",
        "  initialx=0\n",
        "\n",
        "  #remover grid\n",
        "  ax.spines['right'].set_visible(False)\n",
        "  ax.spines['left'].set_visible(False)\n",
        "  ax.spines['top'].set_visible(False)\n",
        "  ax.spines['bottom'].set_visible(False)\n",
        "\n",
        "  #remover titulos\n",
        "  ax.set_ylabel('')\n",
        "  ax.set_xlabel('')\n",
        "\n",
        "  plt.tick_params(\n",
        "    axis='both',\n",
        "    which='both',\n",
        "    bottom=False,\n",
        "    top=False,\n",
        "    labelbottom=False)\n",
        "\n",
        "  #adicionar labels\n",
        "  for p in ax.patches:\n",
        "    ax.text(p.get_width(),initialx+p.get_height()/8,'{:.2f}'.format(p.get_width()))\n",
        "    initialx+=1\n",
        "  plt.show()"
      ],
      "id": "UVeB-7ZMKAWt"
    },
    {
      "cell_type": "markdown",
      "metadata": {
        "id": "WO-Aa4W_KAWt"
      },
      "source": [
        "The feature importance plot emphasizes key drivers of customer satisfaction for the airline. `Inflight entertainment` is the most influential factor, reflecting its substantial impact on passenger experiences. `Seat comfort` ranks second, highlighting the significance of physical comfort during flights. `Ease of online booking` and `Customer Type_disloyal Customer` also play noteworthy roles, suggesting that convenience and customer loyalty influence satisfaction. Other features have minimal or no importance, indicating that focusing on entertainment, comfort, and seamless booking experiences is essential for improving overall satisfaction."
      ],
      "id": "WO-Aa4W_KAWt"
    },
    {
      "cell_type": "markdown",
      "metadata": {
        "id": "090f4bd3"
      },
      "source": [
        "## Conclusion\n",
        "\n",
        "**What findings would you share with others?**\n",
        "\n",
        "The results of the decision tree indicate that the model is effective at minimizing both types of errors while maintaining high precision and recall, accuratelly 92% of satisfied customers and 94% of dissatisfied ones. It maintains low error rates with 7.7% false positives and 5.9% false negatives.\n",
        "\n",
        "In addition, the following findings regarding feature importance stood out:\n",
        "* **Inflight Entertainment:** The most critical factor influencing customer satisfaction. A threshold rating of 3.5 separates satisfied and dissatisfied passengers, with higher ratings leading to satisfaction.\n",
        "\n",
        "* **Seat Comfort:** A pivotal factor for dissatisfaction. Ratings below 3.5 indicate dissatisfaction, with extremely low ratings (below 0.5) forming the largest subgroup of dissatisfied customers.\n",
        "\n",
        "* **Ease of Online Booking:** An essential criterion for satisfaction. A positive booking experience significantly enhances satisfaction levels.\n",
        "\n",
        "* **Customer Loyalty:** High loyalty scores strongly correlate with satisfaction, highlighting the importance of customer retention programs.\n",
        "\n",
        "* **Feature Importance Insights:** The most impactful features are inflight entertainment, seat comfort, ease of online booking, and customer loyalty, while other features have minimal influence.\n",
        "\n",
        "**What would you recommend to stakeholders?**\n",
        "\n",
        "* **Prioritize Inflight Entertainment:** As the most critical factor influencing satisfaction, the company should focus on improving the inflight entertainment experience, ensuring it meets or exceeds a rating of 3.5 to enhance passenger satisfaction.\n",
        "\n",
        "* **Enhance Seat Comfort:** Improving seat comfort is crucial, especially for dissatisfied customers. Addressing low seat comfort ratings (below 0.5) could significantly reduce dissatisfaction.\n",
        "\n",
        "* **Improve Online Booking Experience:** A smooth and easy online booking process is a key factor in ensuring customer satisfaction. Optimizing this experience will likely increase positive ratings from satisfied passengers.\n",
        "\n",
        "* **Foster Customer Loyalty:** Loyalty programs are essential, as customers who identify as loyal (even if disloyal) show higher satisfaction. Focusing on customer retention through targeted loyalty initiatives can boost overall satisfaction.\n",
        "\n",
        "* **Focus on Key Features:** Based on the feature importance plot, resources should be focused on inflight entertainment, seat comfort, and online booking, as these have the most significant impact on passenger satisfaction. Features with minimal importance can be deprioritized.\n",
        "\n",
        "* **Focus on Enhancing Predictive Models:** Given the strong performance of the model in predicting customer satisfaction, the company should prioritize further development and optimization of similar models to improve overall understanding of customer experiences."
      ],
      "id": "090f4bd3"
    },
    {
      "cell_type": "markdown",
      "metadata": {
        "id": "r2ZqoMDTKAWt"
      },
      "source": [
        "**Congratulations!** You've completed this lab. However, you may not notice a green check mark next to this item on Coursera's platform. Please continue your progress regardless of the check mark. Just click on the \"save\" icon at the top of this notebook to ensure your work has been logged"
      ],
      "id": "r2ZqoMDTKAWt"
    }
  ],
  "metadata": {
    "colab": {
      "provenance": [],
      "include_colab_link": true
    },
    "gpuClass": "standard",
    "kernelspec": {
      "display_name": "Python 3",
      "language": "python",
      "name": "python3"
    },
    "language_info": {
      "codemirror_mode": {
        "name": "ipython",
        "version": 3
      },
      "file_extension": ".py",
      "mimetype": "text/x-python",
      "name": "python",
      "nbconvert_exporter": "python",
      "pygments_lexer": "ipython3",
      "version": "3.7.6"
    }
  },
  "nbformat": 4,
  "nbformat_minor": 5
}
