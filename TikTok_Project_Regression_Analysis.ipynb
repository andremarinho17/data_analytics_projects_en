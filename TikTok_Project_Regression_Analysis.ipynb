{
  "cells": [
    {
      "cell_type": "markdown",
      "metadata": {
        "id": "view-in-github",
        "colab_type": "text"
      },
      "source": [
        "<a href=\"https://colab.research.google.com/github/andremarinho17/data_analytics_projects_en/blob/main/TikTok_Project_Regression_Analysis.ipynb\" target=\"_parent\"><img src=\"https://colab.research.google.com/assets/colab-badge.svg\" alt=\"Open In Colab\"/></a>"
      ]
    },
    {
      "cell_type": "markdown",
      "metadata": {
        "id": "DtNBZFHO3M7n"
      },
      "source": [
        "# **TikTok Project: Regression Analysis**\n",
        "\n",
        "\n",
        "<p align=\"center\"><img src=\"https://logodownload.org/wp-content/uploads/2019/08/tiktok-logo-9.png\" height=\"150px\">\n",
        "\n",
        "\n",
        "**Course 5 - Regression Analysis: Simplify complex data relationships**\n",
        "\n",
        "Author: André Marinho"
      ]
    },
    {
      "cell_type": "code",
      "execution_count": null,
      "metadata": {
        "id": "Wl9Rn41kBFdu",
        "outputId": "d0d53a2b-3804-4613-8780-9062427bd689"
      },
      "outputs": [
        {
          "name": "stdout",
          "output_type": "stream",
          "text": [
            "Python version:  3.11.4\n",
            "numpy version:  1.24.4\n",
            "pandas version:  2.0.3\n",
            "statsmodels version:  0.14.0\n"
          ]
        }
      ],
      "source": [
        "import numpy as np\n",
        "import pandas as pd\n",
        "import platform\n",
        "import statsmodels\n",
        "print('Python version: ', platform.python_version())\n",
        "print('numpy version: ', np.__version__)\n",
        "print('pandas version: ', pd.__version__)\n",
        "print('statsmodels version: ', statsmodels.__version__)"
      ]
    },
    {
      "cell_type": "markdown",
      "metadata": {
        "id": "Gd59VyT2NhgK"
      },
      "source": [
        "You are a data professional at TikTok. The data team is working towards building a machine learning model that can be used to determine whether a video contains a claim or whether it offers an opinion. With a successful prediction model, TikTok can reduce the backlog of user reports and prioritize them more efficiently.\n",
        "\n",
        "The team is getting closer to completing the project, having completed an initial plan of action, initial Python coding work, EDA, and hypothesis testing.\n",
        "\n",
        "The TikTok team has reviewed the results of the hypothesis testing. TikTok’s Operations Lead, Maika Abadi, is interested in how different variables are associated with whether a user is verified. Earlier, the data team observed that if a user is verified, they are much more likely to post opinions. Now, the data team has decided to explore how to predict verified status to help them understand how video characteristics relate to verified users. Therefore, you have been asked to conduct a logistic regression using verified status as the outcome variable. The results may be used to inform the final model related to predicting whether a video is a claim vs an opinion.\n",
        "\n",
        "A notebook was structured and prepared to help you in this project. Please complete the following questions."
      ]
    },
    {
      "cell_type": "markdown",
      "metadata": {
        "id": "rgSbVJvomcVa"
      },
      "source": [
        "# **Course 5 End-of-course project: Regression modeling**\n",
        "\n",
        "\n",
        "In this activity, you will build a logistic regression model in Python. As you have learned, logistic regression helps you estimate the probability of an outcome. For data science professionals, this is a useful skill because it allows you to consider more than one variable against the variable you're measuring against. This opens the door for much more thorough and flexible analysis to be completed.\n",
        "\n",
        "<br/>\n",
        "\n",
        "**The purpose** of this project is to demostrate knowledge of EDA and regression models.\n",
        "\n",
        "**The goal** is to build a logistic regression model and evaluate the model.\n",
        "<br/>\n",
        "*This activity has three parts:*\n",
        "\n",
        "**Part 1:** EDA & Checking Model Assumptions\n",
        "* What are some purposes of EDA before constructing a logistic regression model?\n",
        "\n",
        "**Part 2:** Model Building and Evaluation\n",
        "* What resources do you find yourself using as you complete this stage?\n",
        "\n",
        "**Part 3:** Interpreting Model Results\n",
        "\n",
        "* What key insights emerged from your model(s)?\n",
        "\n",
        "* What business recommendations do you propose based on the models built?\n",
        "\n",
        "Follow the instructions and answer the question below to complete the activity. Then, you will complete an executive summary using the questions listed on the PACE Strategy Document.\n",
        "\n",
        "Be sure to complete this activity before moving on. The next course item will provide you with a completed exemplar to compare to your own work.\n"
      ]
    },
    {
      "cell_type": "markdown",
      "metadata": {
        "id": "7KFOyc3JPSiN"
      },
      "source": [
        "# **Build a regression model**"
      ]
    },
    {
      "cell_type": "markdown",
      "metadata": {
        "id": "3UCHQclzQDUL"
      },
      "source": [
        "# **PACE stages**"
      ]
    },
    {
      "cell_type": "markdown",
      "metadata": {
        "id": "VJfAWkcilRVx"
      },
      "source": [
        "Throughout these project notebooks, you'll see references to the problem-solving framework PACE. The following notebook components are labeled with the respective PACE stage: Plan, Analyze, Construct, and Execute."
      ]
    },
    {
      "cell_type": "markdown",
      "metadata": {
        "id": "F5O5cx_qQJmX"
      },
      "source": [
        "\n",
        "\n",
        "## **PACE: Plan**\n",
        "Consider the questions in your PACE Strategy Document to reflect on the Plan stage."
      ]
    },
    {
      "cell_type": "markdown",
      "metadata": {
        "id": "D8qYlvkLQsf2"
      },
      "source": [
        "### **Task 1. Imports and loading**\n",
        "Import the data and packages that you've learned are needed for building regression models."
      ]
    },
    {
      "cell_type": "code",
      "execution_count": null,
      "metadata": {
        "id": "tCni9wAGphb0"
      },
      "outputs": [],
      "source": [
        "# Import packages for data manipulation\n",
        "import math\n",
        "import numpy as np\n",
        "import pandas as pd\n",
        "\n",
        "# Import packages for data visualization\n",
        "import matplotlib.pyplot as plt\n",
        "import seaborn as sns\n",
        "\n",
        "# Import packages for data preprocessing and data modeling\n",
        "from sklearn.preprocessing import OneHotEncoder\n",
        "from sklearn.model_selection import train_test_split\n",
        "from sklearn.linear_model import LogisticRegression\n",
        "import sklearn.metrics as metrics\n",
        "from sklearn.metrics import confusion_matrix, ConfusionMatrixDisplay\n",
        "from sklearn.metrics import classification_report\n",
        "from sklearn.utils import resample\n",
        "from sklearn.model_selection import GridSearchCV"
      ]
    },
    {
      "cell_type": "markdown",
      "metadata": {
        "id": "LjljvyG32kqe"
      },
      "source": [
        "Load the TikTok dataset.\n",
        "\n",
        "**Note:** As shown in this cell, the dataset has been automatically loaded in for you. You do not need to download the .csv file, or provide more code, in order to access the dataset and proceed with this lab. Please continue with this activity by completing the following instructions."
      ]
    },
    {
      "cell_type": "code",
      "execution_count": null,
      "metadata": {
        "id": "C9ODhaOppqlw"
      },
      "outputs": [],
      "source": [
        "# Load dataset into dataframe\n",
        "df = pd.read_csv(\"tiktok_dataset.csv\")"
      ]
    },
    {
      "cell_type": "markdown",
      "metadata": {
        "id": "OnrvCSfHUWPv"
      },
      "source": [
        "\n",
        "## **PACE: Analyze**\n",
        "\n",
        "Consider the questions in your PACE Strategy Document to reflect on the Analyze stage.\n",
        "\n",
        "In this stage, consider the following question where applicable to complete your code response:\n",
        "\n",
        "* What are some purposes of EDA before constructing a logistic regression model?\n"
      ]
    },
    {
      "cell_type": "markdown",
      "metadata": {
        "id": "FZA0zpCSpYIL"
      },
      "source": [
        "Conducting EDA before constructing a logistic regression models allows us to make the data prepared and structured to run the model effectively."
      ]
    },
    {
      "cell_type": "markdown",
      "metadata": {
        "id": "rIcDG2e66wt9"
      },
      "source": [
        "### **Task 2a. Explore data with EDA**\n",
        "\n",
        "Analyze the data and check for and handle missing values and duplicates."
      ]
    },
    {
      "cell_type": "markdown",
      "metadata": {
        "id": "JBHl90JIRuXk"
      },
      "source": [
        "Inspect the first five rows of the dataframe."
      ]
    },
    {
      "cell_type": "code",
      "execution_count": null,
      "metadata": {
        "id": "2rfk95MLp4a_",
        "outputId": "15c7dbee-be87-457d-a3ab-a9fc949f4b74"
      },
      "outputs": [
        {
          "data": {
            "text/html": [
              "<div>\n",
              "<style scoped>\n",
              "    .dataframe tbody tr th:only-of-type {\n",
              "        vertical-align: middle;\n",
              "    }\n",
              "\n",
              "    .dataframe tbody tr th {\n",
              "        vertical-align: top;\n",
              "    }\n",
              "\n",
              "    .dataframe thead th {\n",
              "        text-align: right;\n",
              "    }\n",
              "</style>\n",
              "<table border=\"1\" class=\"dataframe\">\n",
              "  <thead>\n",
              "    <tr style=\"text-align: right;\">\n",
              "      <th></th>\n",
              "      <th>#</th>\n",
              "      <th>claim_status</th>\n",
              "      <th>video_id</th>\n",
              "      <th>video_duration_sec</th>\n",
              "      <th>video_transcription_text</th>\n",
              "      <th>verified_status</th>\n",
              "      <th>author_ban_status</th>\n",
              "      <th>video_view_count</th>\n",
              "      <th>video_like_count</th>\n",
              "      <th>video_share_count</th>\n",
              "      <th>video_download_count</th>\n",
              "      <th>video_comment_count</th>\n",
              "    </tr>\n",
              "  </thead>\n",
              "  <tbody>\n",
              "    <tr>\n",
              "      <th>0</th>\n",
              "      <td>1</td>\n",
              "      <td>claim</td>\n",
              "      <td>7017666017</td>\n",
              "      <td>59</td>\n",
              "      <td>someone shared with me that drone deliveries a...</td>\n",
              "      <td>not verified</td>\n",
              "      <td>under review</td>\n",
              "      <td>343296.0</td>\n",
              "      <td>19425.0</td>\n",
              "      <td>241.0</td>\n",
              "      <td>1.0</td>\n",
              "      <td>0.0</td>\n",
              "    </tr>\n",
              "    <tr>\n",
              "      <th>1</th>\n",
              "      <td>2</td>\n",
              "      <td>claim</td>\n",
              "      <td>4014381136</td>\n",
              "      <td>32</td>\n",
              "      <td>someone shared with me that there are more mic...</td>\n",
              "      <td>not verified</td>\n",
              "      <td>active</td>\n",
              "      <td>140877.0</td>\n",
              "      <td>77355.0</td>\n",
              "      <td>19034.0</td>\n",
              "      <td>1161.0</td>\n",
              "      <td>684.0</td>\n",
              "    </tr>\n",
              "    <tr>\n",
              "      <th>2</th>\n",
              "      <td>3</td>\n",
              "      <td>claim</td>\n",
              "      <td>9859838091</td>\n",
              "      <td>31</td>\n",
              "      <td>someone shared with me that american industria...</td>\n",
              "      <td>not verified</td>\n",
              "      <td>active</td>\n",
              "      <td>902185.0</td>\n",
              "      <td>97690.0</td>\n",
              "      <td>2858.0</td>\n",
              "      <td>833.0</td>\n",
              "      <td>329.0</td>\n",
              "    </tr>\n",
              "    <tr>\n",
              "      <th>3</th>\n",
              "      <td>4</td>\n",
              "      <td>claim</td>\n",
              "      <td>1866847991</td>\n",
              "      <td>25</td>\n",
              "      <td>someone shared with me that the metro of st. p...</td>\n",
              "      <td>not verified</td>\n",
              "      <td>active</td>\n",
              "      <td>437506.0</td>\n",
              "      <td>239954.0</td>\n",
              "      <td>34812.0</td>\n",
              "      <td>1234.0</td>\n",
              "      <td>584.0</td>\n",
              "    </tr>\n",
              "    <tr>\n",
              "      <th>4</th>\n",
              "      <td>5</td>\n",
              "      <td>claim</td>\n",
              "      <td>7105231098</td>\n",
              "      <td>19</td>\n",
              "      <td>someone shared with me that the number of busi...</td>\n",
              "      <td>not verified</td>\n",
              "      <td>active</td>\n",
              "      <td>56167.0</td>\n",
              "      <td>34987.0</td>\n",
              "      <td>4110.0</td>\n",
              "      <td>547.0</td>\n",
              "      <td>152.0</td>\n",
              "    </tr>\n",
              "  </tbody>\n",
              "</table>\n",
              "</div>"
            ],
            "text/plain": [
              "   # claim_status    video_id  video_duration_sec  \\\n",
              "0  1        claim  7017666017                  59   \n",
              "1  2        claim  4014381136                  32   \n",
              "2  3        claim  9859838091                  31   \n",
              "3  4        claim  1866847991                  25   \n",
              "4  5        claim  7105231098                  19   \n",
              "\n",
              "                            video_transcription_text verified_status  \\\n",
              "0  someone shared with me that drone deliveries a...    not verified   \n",
              "1  someone shared with me that there are more mic...    not verified   \n",
              "2  someone shared with me that american industria...    not verified   \n",
              "3  someone shared with me that the metro of st. p...    not verified   \n",
              "4  someone shared with me that the number of busi...    not verified   \n",
              "\n",
              "  author_ban_status  video_view_count  video_like_count  video_share_count  \\\n",
              "0      under review          343296.0           19425.0              241.0   \n",
              "1            active          140877.0           77355.0            19034.0   \n",
              "2            active          902185.0           97690.0             2858.0   \n",
              "3            active          437506.0          239954.0            34812.0   \n",
              "4            active           56167.0           34987.0             4110.0   \n",
              "\n",
              "   video_download_count  video_comment_count  \n",
              "0                   1.0                  0.0  \n",
              "1                1161.0                684.0  \n",
              "2                 833.0                329.0  \n",
              "3                1234.0                584.0  \n",
              "4                 547.0                152.0  "
            ]
          },
          "execution_count": 3,
          "metadata": {},
          "output_type": "execute_result"
        }
      ],
      "source": [
        "# Display first few rows\n",
        "df.head()"
      ]
    },
    {
      "cell_type": "markdown",
      "metadata": {
        "id": "66KOxKCx977b"
      },
      "source": [
        "Get the number of rows and columns in the dataset."
      ]
    },
    {
      "cell_type": "code",
      "execution_count": null,
      "metadata": {
        "id": "kYwW-G1WqX3R",
        "outputId": "5df38b1b-c6a0-4d4d-cecb-d996e9ca748e"
      },
      "outputs": [
        {
          "data": {
            "text/plain": [
              "(19382, 12)"
            ]
          },
          "execution_count": 4,
          "metadata": {},
          "output_type": "execute_result"
        }
      ],
      "source": [
        "# Get number of rows and columns\n",
        "df.shape"
      ]
    },
    {
      "cell_type": "markdown",
      "metadata": {
        "id": "aP-NbEGdEio8"
      },
      "source": [
        "Get the data types of the columns."
      ]
    },
    {
      "cell_type": "code",
      "execution_count": null,
      "metadata": {
        "id": "rbpDgrXfEoVj",
        "outputId": "cca3d9f7-f3f3-4c56-9f3c-ee9a30aeb68d"
      },
      "outputs": [
        {
          "data": {
            "text/plain": [
              "#                             int64\n",
              "claim_status                 object\n",
              "video_id                      int64\n",
              "video_duration_sec            int64\n",
              "video_transcription_text     object\n",
              "verified_status              object\n",
              "author_ban_status            object\n",
              "video_view_count            float64\n",
              "video_like_count            float64\n",
              "video_share_count           float64\n",
              "video_download_count        float64\n",
              "video_comment_count         float64\n",
              "dtype: object"
            ]
          },
          "execution_count": 5,
          "metadata": {},
          "output_type": "execute_result"
        }
      ],
      "source": [
        "# Get data types of columns\n",
        "df.dtypes"
      ]
    },
    {
      "cell_type": "markdown",
      "metadata": {
        "id": "URuRVjUZ_Axg"
      },
      "source": [
        "Get basic information about the dataset."
      ]
    },
    {
      "cell_type": "code",
      "execution_count": null,
      "metadata": {
        "id": "zyyKCGzCp7SS",
        "outputId": "8e413b6c-2581-4348-c889-32802c9f3f63"
      },
      "outputs": [
        {
          "name": "stdout",
          "output_type": "stream",
          "text": [
            "<class 'pandas.core.frame.DataFrame'>\n",
            "RangeIndex: 19382 entries, 0 to 19381\n",
            "Data columns (total 12 columns):\n",
            " #   Column                    Non-Null Count  Dtype  \n",
            "---  ------                    --------------  -----  \n",
            " 0   #                         19382 non-null  int64  \n",
            " 1   claim_status              19084 non-null  object \n",
            " 2   video_id                  19382 non-null  int64  \n",
            " 3   video_duration_sec        19382 non-null  int64  \n",
            " 4   video_transcription_text  19084 non-null  object \n",
            " 5   verified_status           19382 non-null  object \n",
            " 6   author_ban_status         19382 non-null  object \n",
            " 7   video_view_count          19084 non-null  float64\n",
            " 8   video_like_count          19084 non-null  float64\n",
            " 9   video_share_count         19084 non-null  float64\n",
            " 10  video_download_count      19084 non-null  float64\n",
            " 11  video_comment_count       19084 non-null  float64\n",
            "dtypes: float64(5), int64(3), object(4)\n",
            "memory usage: 1.8+ MB\n"
          ]
        }
      ],
      "source": [
        "# Get basic information\n",
        "df.info()"
      ]
    },
    {
      "cell_type": "markdown",
      "metadata": {
        "id": "0T5Ieb6WB61Q"
      },
      "source": [
        "Generate basic descriptive statistics about the dataset."
      ]
    },
    {
      "cell_type": "code",
      "execution_count": null,
      "metadata": {
        "id": "HbpuAS2UqY01",
        "outputId": "56950068-6184-4f51-c4f3-c440271cf8f4"
      },
      "outputs": [
        {
          "data": {
            "text/html": [
              "<div>\n",
              "<style scoped>\n",
              "    .dataframe tbody tr th:only-of-type {\n",
              "        vertical-align: middle;\n",
              "    }\n",
              "\n",
              "    .dataframe tbody tr th {\n",
              "        vertical-align: top;\n",
              "    }\n",
              "\n",
              "    .dataframe thead th {\n",
              "        text-align: right;\n",
              "    }\n",
              "</style>\n",
              "<table border=\"1\" class=\"dataframe\">\n",
              "  <thead>\n",
              "    <tr style=\"text-align: right;\">\n",
              "      <th></th>\n",
              "      <th>#</th>\n",
              "      <th>video_id</th>\n",
              "      <th>video_duration_sec</th>\n",
              "      <th>video_view_count</th>\n",
              "      <th>video_like_count</th>\n",
              "      <th>video_share_count</th>\n",
              "      <th>video_download_count</th>\n",
              "      <th>video_comment_count</th>\n",
              "    </tr>\n",
              "  </thead>\n",
              "  <tbody>\n",
              "    <tr>\n",
              "      <th>count</th>\n",
              "      <td>19382.000000</td>\n",
              "      <td>1.938200e+04</td>\n",
              "      <td>19382.000000</td>\n",
              "      <td>19084.000000</td>\n",
              "      <td>19084.000000</td>\n",
              "      <td>19084.000000</td>\n",
              "      <td>19084.000000</td>\n",
              "      <td>19084.000000</td>\n",
              "    </tr>\n",
              "    <tr>\n",
              "      <th>mean</th>\n",
              "      <td>9691.500000</td>\n",
              "      <td>5.627454e+09</td>\n",
              "      <td>32.421732</td>\n",
              "      <td>254708.558688</td>\n",
              "      <td>84304.636030</td>\n",
              "      <td>16735.248323</td>\n",
              "      <td>1049.429627</td>\n",
              "      <td>349.312146</td>\n",
              "    </tr>\n",
              "    <tr>\n",
              "      <th>std</th>\n",
              "      <td>5595.245794</td>\n",
              "      <td>2.536440e+09</td>\n",
              "      <td>16.229967</td>\n",
              "      <td>322893.280814</td>\n",
              "      <td>133420.546814</td>\n",
              "      <td>32036.174350</td>\n",
              "      <td>2004.299894</td>\n",
              "      <td>799.638865</td>\n",
              "    </tr>\n",
              "    <tr>\n",
              "      <th>min</th>\n",
              "      <td>1.000000</td>\n",
              "      <td>1.234959e+09</td>\n",
              "      <td>5.000000</td>\n",
              "      <td>20.000000</td>\n",
              "      <td>0.000000</td>\n",
              "      <td>0.000000</td>\n",
              "      <td>0.000000</td>\n",
              "      <td>0.000000</td>\n",
              "    </tr>\n",
              "    <tr>\n",
              "      <th>25%</th>\n",
              "      <td>4846.250000</td>\n",
              "      <td>3.430417e+09</td>\n",
              "      <td>18.000000</td>\n",
              "      <td>4942.500000</td>\n",
              "      <td>810.750000</td>\n",
              "      <td>115.000000</td>\n",
              "      <td>7.000000</td>\n",
              "      <td>1.000000</td>\n",
              "    </tr>\n",
              "    <tr>\n",
              "      <th>50%</th>\n",
              "      <td>9691.500000</td>\n",
              "      <td>5.618664e+09</td>\n",
              "      <td>32.000000</td>\n",
              "      <td>9954.500000</td>\n",
              "      <td>3403.500000</td>\n",
              "      <td>717.000000</td>\n",
              "      <td>46.000000</td>\n",
              "      <td>9.000000</td>\n",
              "    </tr>\n",
              "    <tr>\n",
              "      <th>75%</th>\n",
              "      <td>14536.750000</td>\n",
              "      <td>7.843960e+09</td>\n",
              "      <td>47.000000</td>\n",
              "      <td>504327.000000</td>\n",
              "      <td>125020.000000</td>\n",
              "      <td>18222.000000</td>\n",
              "      <td>1156.250000</td>\n",
              "      <td>292.000000</td>\n",
              "    </tr>\n",
              "    <tr>\n",
              "      <th>max</th>\n",
              "      <td>19382.000000</td>\n",
              "      <td>9.999873e+09</td>\n",
              "      <td>60.000000</td>\n",
              "      <td>999817.000000</td>\n",
              "      <td>657830.000000</td>\n",
              "      <td>256130.000000</td>\n",
              "      <td>14994.000000</td>\n",
              "      <td>9599.000000</td>\n",
              "    </tr>\n",
              "  </tbody>\n",
              "</table>\n",
              "</div>"
            ],
            "text/plain": [
              "                  #      video_id  video_duration_sec  video_view_count  \\\n",
              "count  19382.000000  1.938200e+04        19382.000000      19084.000000   \n",
              "mean    9691.500000  5.627454e+09           32.421732     254708.558688   \n",
              "std     5595.245794  2.536440e+09           16.229967     322893.280814   \n",
              "min        1.000000  1.234959e+09            5.000000         20.000000   \n",
              "25%     4846.250000  3.430417e+09           18.000000       4942.500000   \n",
              "50%     9691.500000  5.618664e+09           32.000000       9954.500000   \n",
              "75%    14536.750000  7.843960e+09           47.000000     504327.000000   \n",
              "max    19382.000000  9.999873e+09           60.000000     999817.000000   \n",
              "\n",
              "       video_like_count  video_share_count  video_download_count  \\\n",
              "count      19084.000000       19084.000000          19084.000000   \n",
              "mean       84304.636030       16735.248323           1049.429627   \n",
              "std       133420.546814       32036.174350           2004.299894   \n",
              "min            0.000000           0.000000              0.000000   \n",
              "25%          810.750000         115.000000              7.000000   \n",
              "50%         3403.500000         717.000000             46.000000   \n",
              "75%       125020.000000       18222.000000           1156.250000   \n",
              "max       657830.000000      256130.000000          14994.000000   \n",
              "\n",
              "       video_comment_count  \n",
              "count         19084.000000  \n",
              "mean            349.312146  \n",
              "std             799.638865  \n",
              "min               0.000000  \n",
              "25%               1.000000  \n",
              "50%               9.000000  \n",
              "75%             292.000000  \n",
              "max            9599.000000  "
            ]
          },
          "execution_count": 7,
          "metadata": {},
          "output_type": "execute_result"
        }
      ],
      "source": [
        "# Generate basic descriptive stats\n",
        "df.describe()"
      ]
    },
    {
      "cell_type": "markdown",
      "metadata": {
        "id": "9OpeNQDdyIT6"
      },
      "source": [
        "Check for and handle missing values."
      ]
    },
    {
      "cell_type": "code",
      "execution_count": null,
      "metadata": {
        "id": "BrunHcfa7xnT",
        "outputId": "b90bf06d-f01e-4993-ba9a-ab07b6521035"
      },
      "outputs": [
        {
          "data": {
            "text/plain": [
              "#                             0\n",
              "claim_status                298\n",
              "video_id                      0\n",
              "video_duration_sec            0\n",
              "video_transcription_text    298\n",
              "verified_status               0\n",
              "author_ban_status             0\n",
              "video_view_count            298\n",
              "video_like_count            298\n",
              "video_share_count           298\n",
              "video_download_count        298\n",
              "video_comment_count         298\n",
              "dtype: int64"
            ]
          },
          "execution_count": 8,
          "metadata": {},
          "output_type": "execute_result"
        }
      ],
      "source": [
        "# Check for missing values\n",
        "df.isna().sum()"
      ]
    },
    {
      "cell_type": "code",
      "execution_count": null,
      "metadata": {
        "id": "SHSj1Hma914I"
      },
      "outputs": [],
      "source": [
        "# Drop rows with missing values\n",
        "df = df.dropna(axis=0)"
      ]
    },
    {
      "cell_type": "code",
      "execution_count": null,
      "metadata": {
        "id": "ZYUF3xap9_Fa",
        "outputId": "5433cd3f-df74-4f81-c242-2318f5cef368"
      },
      "outputs": [
        {
          "data": {
            "text/html": [
              "<div>\n",
              "<style scoped>\n",
              "    .dataframe tbody tr th:only-of-type {\n",
              "        vertical-align: middle;\n",
              "    }\n",
              "\n",
              "    .dataframe tbody tr th {\n",
              "        vertical-align: top;\n",
              "    }\n",
              "\n",
              "    .dataframe thead th {\n",
              "        text-align: right;\n",
              "    }\n",
              "</style>\n",
              "<table border=\"1\" class=\"dataframe\">\n",
              "  <thead>\n",
              "    <tr style=\"text-align: right;\">\n",
              "      <th></th>\n",
              "      <th>#</th>\n",
              "      <th>claim_status</th>\n",
              "      <th>video_id</th>\n",
              "      <th>video_duration_sec</th>\n",
              "      <th>video_transcription_text</th>\n",
              "      <th>verified_status</th>\n",
              "      <th>author_ban_status</th>\n",
              "      <th>video_view_count</th>\n",
              "      <th>video_like_count</th>\n",
              "      <th>video_share_count</th>\n",
              "      <th>video_download_count</th>\n",
              "      <th>video_comment_count</th>\n",
              "    </tr>\n",
              "  </thead>\n",
              "  <tbody>\n",
              "    <tr>\n",
              "      <th>0</th>\n",
              "      <td>1</td>\n",
              "      <td>claim</td>\n",
              "      <td>7017666017</td>\n",
              "      <td>59</td>\n",
              "      <td>someone shared with me that drone deliveries a...</td>\n",
              "      <td>not verified</td>\n",
              "      <td>under review</td>\n",
              "      <td>343296.0</td>\n",
              "      <td>19425.0</td>\n",
              "      <td>241.0</td>\n",
              "      <td>1.0</td>\n",
              "      <td>0.0</td>\n",
              "    </tr>\n",
              "    <tr>\n",
              "      <th>1</th>\n",
              "      <td>2</td>\n",
              "      <td>claim</td>\n",
              "      <td>4014381136</td>\n",
              "      <td>32</td>\n",
              "      <td>someone shared with me that there are more mic...</td>\n",
              "      <td>not verified</td>\n",
              "      <td>active</td>\n",
              "      <td>140877.0</td>\n",
              "      <td>77355.0</td>\n",
              "      <td>19034.0</td>\n",
              "      <td>1161.0</td>\n",
              "      <td>684.0</td>\n",
              "    </tr>\n",
              "    <tr>\n",
              "      <th>2</th>\n",
              "      <td>3</td>\n",
              "      <td>claim</td>\n",
              "      <td>9859838091</td>\n",
              "      <td>31</td>\n",
              "      <td>someone shared with me that american industria...</td>\n",
              "      <td>not verified</td>\n",
              "      <td>active</td>\n",
              "      <td>902185.0</td>\n",
              "      <td>97690.0</td>\n",
              "      <td>2858.0</td>\n",
              "      <td>833.0</td>\n",
              "      <td>329.0</td>\n",
              "    </tr>\n",
              "    <tr>\n",
              "      <th>3</th>\n",
              "      <td>4</td>\n",
              "      <td>claim</td>\n",
              "      <td>1866847991</td>\n",
              "      <td>25</td>\n",
              "      <td>someone shared with me that the metro of st. p...</td>\n",
              "      <td>not verified</td>\n",
              "      <td>active</td>\n",
              "      <td>437506.0</td>\n",
              "      <td>239954.0</td>\n",
              "      <td>34812.0</td>\n",
              "      <td>1234.0</td>\n",
              "      <td>584.0</td>\n",
              "    </tr>\n",
              "    <tr>\n",
              "      <th>4</th>\n",
              "      <td>5</td>\n",
              "      <td>claim</td>\n",
              "      <td>7105231098</td>\n",
              "      <td>19</td>\n",
              "      <td>someone shared with me that the number of busi...</td>\n",
              "      <td>not verified</td>\n",
              "      <td>active</td>\n",
              "      <td>56167.0</td>\n",
              "      <td>34987.0</td>\n",
              "      <td>4110.0</td>\n",
              "      <td>547.0</td>\n",
              "      <td>152.0</td>\n",
              "    </tr>\n",
              "  </tbody>\n",
              "</table>\n",
              "</div>"
            ],
            "text/plain": [
              "   # claim_status    video_id  video_duration_sec  \\\n",
              "0  1        claim  7017666017                  59   \n",
              "1  2        claim  4014381136                  32   \n",
              "2  3        claim  9859838091                  31   \n",
              "3  4        claim  1866847991                  25   \n",
              "4  5        claim  7105231098                  19   \n",
              "\n",
              "                            video_transcription_text verified_status  \\\n",
              "0  someone shared with me that drone deliveries a...    not verified   \n",
              "1  someone shared with me that there are more mic...    not verified   \n",
              "2  someone shared with me that american industria...    not verified   \n",
              "3  someone shared with me that the metro of st. p...    not verified   \n",
              "4  someone shared with me that the number of busi...    not verified   \n",
              "\n",
              "  author_ban_status  video_view_count  video_like_count  video_share_count  \\\n",
              "0      under review          343296.0           19425.0              241.0   \n",
              "1            active          140877.0           77355.0            19034.0   \n",
              "2            active          902185.0           97690.0             2858.0   \n",
              "3            active          437506.0          239954.0            34812.0   \n",
              "4            active           56167.0           34987.0             4110.0   \n",
              "\n",
              "   video_download_count  video_comment_count  \n",
              "0                   1.0                  0.0  \n",
              "1                1161.0                684.0  \n",
              "2                 833.0                329.0  \n",
              "3                1234.0                584.0  \n",
              "4                 547.0                152.0  "
            ]
          },
          "execution_count": 10,
          "metadata": {},
          "output_type": "execute_result"
        }
      ],
      "source": [
        "# Display first few rows after handling missing values\n",
        "df.head()"
      ]
    },
    {
      "cell_type": "markdown",
      "metadata": {
        "id": "XcfffpANyNiu"
      },
      "source": [
        "Check for and handle duplicates."
      ]
    },
    {
      "cell_type": "code",
      "execution_count": null,
      "metadata": {
        "id": "IKaGnWIsiHpH",
        "outputId": "9ffa7577-3ceb-42ed-be24-fa05f82d3acd"
      },
      "outputs": [
        {
          "data": {
            "text/plain": [
              "0"
            ]
          },
          "execution_count": 11,
          "metadata": {},
          "output_type": "execute_result"
        }
      ],
      "source": [
        "# Check for duplicates\n",
        "df.duplicated().sum()"
      ]
    },
    {
      "cell_type": "code",
      "execution_count": null,
      "metadata": {
        "id": "Ts_lcV6qUQHq",
        "outputId": "ea9529b7-fc91-4256-e830-5b334f7f6b12"
      },
      "outputs": [
        {
          "data": {
            "image/png": "[encoded data removed]",
            "text/plain": [
              "<Figure size 800x300 with 1 Axes>"
            ]
          },
          "metadata": {},
          "output_type": "display_data"
        }
      ],
      "source": [
        "# Create a boxplot to visualize distribution of `video_duration_sec`\n",
        "plt.figure(figsize=(8,3))\n",
        "sns.boxplot(x=df['video_duration_sec'])\n",
        "plt.show()"
      ]
    },
    {
      "cell_type": "code",
      "execution_count": null,
      "metadata": {
        "id": "qlUccI91a4NH",
        "outputId": "f887c53f-a670-4841-824f-fb8dc51f2c3c"
      },
      "outputs": [
        {
          "data": {
            "image/png": "[encoded data removed]",
            "text/plain": [
              "<Figure size 500x300 with 1 Axes>"
            ]
          },
          "metadata": {},
          "output_type": "display_data"
        }
      ],
      "source": [
        "# Create a boxplot to visualize distribution of `video_view_count`\n",
        "plt.figure(figsize=(5,3))\n",
        "sns.boxplot(x=df['video_view_count'])\n",
        "plt.show()"
      ]
    },
    {
      "cell_type": "code",
      "execution_count": null,
      "metadata": {
        "id": "N0UVdeRUzEEF",
        "outputId": "e059736d-5b8d-4cca-ccdd-153b6ea53e24"
      },
      "outputs": [
        {
          "data": {
            "image/png": "[encoded data removed]",
            "text/plain": [
              "<Figure size 500x300 with 1 Axes>"
            ]
          },
          "metadata": {},
          "output_type": "display_data"
        }
      ],
      "source": [
        "# Create a boxplot to visualize distribution of `video_like_count`\n",
        "plt.figure(figsize=(5,3))\n",
        "sns.boxplot(x=df['video_like_count'])\n",
        "plt.show()"
      ]
    },
    {
      "cell_type": "code",
      "execution_count": null,
      "metadata": {
        "id": "-gE1fkGo0eG9",
        "outputId": "b4334df6-21b4-4811-8cbd-ed8f2118ea52"
      },
      "outputs": [
        {
          "data": {
            "image/png": "[encoded data removed]",
            "text/plain": [
              "<Figure size 500x300 with 1 Axes>"
            ]
          },
          "metadata": {},
          "output_type": "display_data"
        }
      ],
      "source": [
        "# Create a boxplot to visualize distribution of `video_comment_count`\n",
        "plt.figure(figsize=(5,3))\n",
        "sns.boxplot(x=df['video_comment_count'])\n",
        "plt.show()"
      ]
    },
    {
      "cell_type": "markdown",
      "metadata": {
        "id": "D1-Rd5MhBFea"
      },
      "source": [
        "As can be noted, there are outliers present in the `video_like_count` and the `video_comment_count` variables. They will be handled in the next steps."
      ]
    },
    {
      "cell_type": "code",
      "execution_count": null,
      "metadata": {
        "id": "85JfQprd5Kn9",
        "outputId": "6b4dac99-12d6-49db-f017-20e513a94ac4"
      },
      "outputs": [
        {
          "name": "stdout",
          "output_type": "stream",
          "text": [
            "Video like count IQR:  124209.25\n",
            "Upper limit:  311333.875\n",
            "Lower limit:  -185503.125\n",
            "Video comment count IQR:  291.0\n",
            "Upper limit:  728.5\n",
            "Lower limit:  -435.5\n"
          ]
        }
      ],
      "source": [
        "# Check for and handle outliers for video_like_count\n",
        "q1_vlc = df.video_like_count.quantile(.25)\n",
        "q3_vlc = df.video_like_count.quantile(.75)\n",
        "IQR_vlc = q3_vlc - q1_vlc\n",
        "print('Video like count IQR: ', IQR_vlc)\n",
        "\n",
        "# definindo os limites\n",
        "upper_vlc = q3_vlc + 1.5 * IQR_vlc\n",
        "lower_vlc = q1_vlc - 1.5 * IQR_vlc\n",
        "\n",
        "print('Upper limit: ', upper_vlc)\n",
        "print('Lower limit: ', lower_vlc)\n",
        "\n",
        "# Check for and handle outliers for video_comment_count\n",
        "q1_vcc = df.video_comment_count.quantile(.25)\n",
        "q3_vcc = df.video_comment_count.quantile(.75)\n",
        "IQR_vcc = q3_vcc - q1_vcc\n",
        "print('Video comment count IQR: ', IQR_vcc)\n",
        "\n",
        "# definindo os limites\n",
        "upper_vcc = q3_vcc + 1.5 * IQR_vcc\n",
        "lower_vcc = q1_vcc - 1.5 * IQR_vcc\n",
        "\n",
        "print('Upper limit: ', upper_vcc)\n",
        "print('Lower limit: ', lower_vcc)"
      ]
    },
    {
      "cell_type": "code",
      "execution_count": null,
      "metadata": {
        "id": "Xbjr4xKcBFeb",
        "outputId": "3818475f-c6fa-40a6-c247-9d08f1a51a56"
      },
      "outputs": [
        {
          "data": {
            "text/plain": [
              "(15694, 12)"
            ]
          },
          "execution_count": 17,
          "metadata": {},
          "output_type": "execute_result"
        }
      ],
      "source": [
        "df.drop(df[df.video_like_count > upper_vlc].index, axis=0, inplace=True)\n",
        "df.drop(df[df.video_comment_count > upper_vcc].index, axis=0, inplace=True)\n",
        "\n",
        "df.shape"
      ]
    },
    {
      "cell_type": "markdown",
      "metadata": {
        "id": "eDcY0ZaEJgDl"
      },
      "source": [
        "Check class balance of the target variable. Remember, the goal is to predict whether the user of a given post is verified or unverified."
      ]
    },
    {
      "cell_type": "code",
      "execution_count": null,
      "metadata": {
        "id": "e3klRqlsJhtp",
        "outputId": "9551e0df-b0ef-4264-bb54-95bdd6d4c105"
      },
      "outputs": [
        {
          "data": {
            "text/plain": [
              "verified_status\n",
              "not verified    92.825284\n",
              "verified         7.174716\n",
              "Name: count, dtype: float64"
            ]
          },
          "execution_count": 18,
          "metadata": {},
          "output_type": "execute_result"
        }
      ],
      "source": [
        "# Check class balance\n",
        "df['verified_status'].value_counts() / df.shape[0] * 100"
      ]
    },
    {
      "cell_type": "markdown",
      "metadata": {
        "id": "ePYWt2p5LqlW"
      },
      "source": [
        "Approximately 94.2% of the dataset represents videos posted by unverified accounts and 5.8% represents videos posted by verified accounts, so the outcome variable is not very balanced."
      ]
    },
    {
      "cell_type": "markdown",
      "metadata": {
        "id": "zRDMuXjbA9KQ"
      },
      "source": [
        "Use resampling to create class balance in the outcome variable, if needed."
      ]
    },
    {
      "cell_type": "code",
      "execution_count": null,
      "metadata": {
        "id": "AWhetFT3Ggyp",
        "outputId": "64f06bb8-3f53-4136-de58-d450ad57b2f7"
      },
      "outputs": [
        {
          "data": {
            "text/plain": [
              "verified_status\n",
              "not verified    50.0\n",
              "verified        50.0\n",
              "Name: count, dtype: float64"
            ]
          },
          "execution_count": 19,
          "metadata": {},
          "output_type": "execute_result"
        }
      ],
      "source": [
        "# Use resampling to create class balance in the outcome variable, if needed\n",
        "\n",
        "# Identify data points from majority and minority classes\n",
        "minority = df[df['verified_status'] == \"verified\"]\n",
        "majority = df[df['verified_status'] == \"not verified\"]\n",
        "\n",
        "# Upsample the minority class (which is \"verified\")\n",
        "minority_upsampled = resample(minority, replace = True, n_samples=len(majority), random_state=0)\n",
        "\n",
        "# Combine majority class with upsampled minority class\n",
        "df_balanced = pd.concat([majority, minority_upsampled]).reset_index(drop=True)\n",
        "\n",
        "# Display new class counts\n",
        "df_balanced['verified_status'].value_counts() / df_balanced.shape[0] * 100"
      ]
    },
    {
      "cell_type": "code",
      "execution_count": null,
      "metadata": {
        "id": "erLC-1DbBFee",
        "outputId": "a1afe690-4e61-4426-b282-5ca0e4e0d68b"
      },
      "outputs": [
        {
          "data": {
            "text/plain": [
              "verified_status\n",
              "not verified    14568\n",
              "verified        14568\n",
              "Name: count, dtype: int64"
            ]
          },
          "execution_count": 20,
          "metadata": {},
          "output_type": "execute_result"
        }
      ],
      "source": [
        "df_balanced['verified_status'].value_counts()"
      ]
    },
    {
      "cell_type": "markdown",
      "metadata": {
        "id": "QjMsPChVBFee"
      },
      "source": [
        "Now, the data is perfectly balanced."
      ]
    },
    {
      "cell_type": "markdown",
      "metadata": {
        "id": "K2RHONw6D3R6"
      },
      "source": [
        "Get the average `video_transcription_text` length for videos posted by verified accounts and the average `video_transcription_text` length for videos posted by unverified accounts.\n",
        "\n"
      ]
    },
    {
      "cell_type": "code",
      "execution_count": null,
      "metadata": {
        "id": "-OseHtTRBFef",
        "outputId": "ab185379-7fe1-46cf-d319-bc190d5b688a"
      },
      "outputs": [
        {
          "data": {
            "text/html": [
              "<div>\n",
              "<style scoped>\n",
              "    .dataframe tbody tr th:only-of-type {\n",
              "        vertical-align: middle;\n",
              "    }\n",
              "\n",
              "    .dataframe tbody tr th {\n",
              "        vertical-align: top;\n",
              "    }\n",
              "\n",
              "    .dataframe thead th {\n",
              "        text-align: right;\n",
              "    }\n",
              "</style>\n",
              "<table border=\"1\" class=\"dataframe\">\n",
              "  <thead>\n",
              "    <tr style=\"text-align: right;\">\n",
              "      <th></th>\n",
              "      <th>#</th>\n",
              "      <th>claim_status</th>\n",
              "      <th>video_id</th>\n",
              "      <th>video_duration_sec</th>\n",
              "      <th>video_transcription_text</th>\n",
              "      <th>verified_status</th>\n",
              "      <th>author_ban_status</th>\n",
              "      <th>video_view_count</th>\n",
              "      <th>video_like_count</th>\n",
              "      <th>video_share_count</th>\n",
              "      <th>video_download_count</th>\n",
              "      <th>video_comment_count</th>\n",
              "    </tr>\n",
              "  </thead>\n",
              "  <tbody>\n",
              "    <tr>\n",
              "      <th>0</th>\n",
              "      <td>1</td>\n",
              "      <td>claim</td>\n",
              "      <td>7017666017</td>\n",
              "      <td>59</td>\n",
              "      <td>someone shared with me that drone deliveries a...</td>\n",
              "      <td>not verified</td>\n",
              "      <td>under review</td>\n",
              "      <td>343296.0</td>\n",
              "      <td>19425.0</td>\n",
              "      <td>241.0</td>\n",
              "      <td>1.0</td>\n",
              "      <td>0.0</td>\n",
              "    </tr>\n",
              "    <tr>\n",
              "      <th>1</th>\n",
              "      <td>2</td>\n",
              "      <td>claim</td>\n",
              "      <td>4014381136</td>\n",
              "      <td>32</td>\n",
              "      <td>someone shared with me that there are more mic...</td>\n",
              "      <td>not verified</td>\n",
              "      <td>active</td>\n",
              "      <td>140877.0</td>\n",
              "      <td>77355.0</td>\n",
              "      <td>19034.0</td>\n",
              "      <td>1161.0</td>\n",
              "      <td>684.0</td>\n",
              "    </tr>\n",
              "    <tr>\n",
              "      <th>2</th>\n",
              "      <td>3</td>\n",
              "      <td>claim</td>\n",
              "      <td>9859838091</td>\n",
              "      <td>31</td>\n",
              "      <td>someone shared with me that american industria...</td>\n",
              "      <td>not verified</td>\n",
              "      <td>active</td>\n",
              "      <td>902185.0</td>\n",
              "      <td>97690.0</td>\n",
              "      <td>2858.0</td>\n",
              "      <td>833.0</td>\n",
              "      <td>329.0</td>\n",
              "    </tr>\n",
              "    <tr>\n",
              "      <th>3</th>\n",
              "      <td>4</td>\n",
              "      <td>claim</td>\n",
              "      <td>1866847991</td>\n",
              "      <td>25</td>\n",
              "      <td>someone shared with me that the metro of st. p...</td>\n",
              "      <td>not verified</td>\n",
              "      <td>active</td>\n",
              "      <td>437506.0</td>\n",
              "      <td>239954.0</td>\n",
              "      <td>34812.0</td>\n",
              "      <td>1234.0</td>\n",
              "      <td>584.0</td>\n",
              "    </tr>\n",
              "    <tr>\n",
              "      <th>4</th>\n",
              "      <td>5</td>\n",
              "      <td>claim</td>\n",
              "      <td>7105231098</td>\n",
              "      <td>19</td>\n",
              "      <td>someone shared with me that the number of busi...</td>\n",
              "      <td>not verified</td>\n",
              "      <td>active</td>\n",
              "      <td>56167.0</td>\n",
              "      <td>34987.0</td>\n",
              "      <td>4110.0</td>\n",
              "      <td>547.0</td>\n",
              "      <td>152.0</td>\n",
              "    </tr>\n",
              "  </tbody>\n",
              "</table>\n",
              "</div>"
            ],
            "text/plain": [
              "   # claim_status    video_id  video_duration_sec  \\\n",
              "0  1        claim  7017666017                  59   \n",
              "1  2        claim  4014381136                  32   \n",
              "2  3        claim  9859838091                  31   \n",
              "3  4        claim  1866847991                  25   \n",
              "4  5        claim  7105231098                  19   \n",
              "\n",
              "                            video_transcription_text verified_status  \\\n",
              "0  someone shared with me that drone deliveries a...    not verified   \n",
              "1  someone shared with me that there are more mic...    not verified   \n",
              "2  someone shared with me that american industria...    not verified   \n",
              "3  someone shared with me that the metro of st. p...    not verified   \n",
              "4  someone shared with me that the number of busi...    not verified   \n",
              "\n",
              "  author_ban_status  video_view_count  video_like_count  video_share_count  \\\n",
              "0      under review          343296.0           19425.0              241.0   \n",
              "1            active          140877.0           77355.0            19034.0   \n",
              "2            active          902185.0           97690.0             2858.0   \n",
              "3            active          437506.0          239954.0            34812.0   \n",
              "4            active           56167.0           34987.0             4110.0   \n",
              "\n",
              "   video_download_count  video_comment_count  \n",
              "0                   1.0                  0.0  \n",
              "1                1161.0                684.0  \n",
              "2                 833.0                329.0  \n",
              "3                1234.0                584.0  \n",
              "4                 547.0                152.0  "
            ]
          },
          "execution_count": 21,
          "metadata": {},
          "output_type": "execute_result"
        }
      ],
      "source": [
        "df_balanced.head()"
      ]
    },
    {
      "cell_type": "code",
      "execution_count": null,
      "metadata": {
        "id": "w-aaFCPCD88e",
        "outputId": "1ba463df-945a-45e6-f77e-dc82e562c84b"
      },
      "outputs": [
        {
          "data": {
            "text/html": [
              "<div>\n",
              "<style scoped>\n",
              "    .dataframe tbody tr th:only-of-type {\n",
              "        vertical-align: middle;\n",
              "    }\n",
              "\n",
              "    .dataframe tbody tr th {\n",
              "        vertical-align: top;\n",
              "    }\n",
              "\n",
              "    .dataframe thead th {\n",
              "        text-align: right;\n",
              "    }\n",
              "</style>\n",
              "<table border=\"1\" class=\"dataframe\">\n",
              "  <thead>\n",
              "    <tr style=\"text-align: right;\">\n",
              "      <th></th>\n",
              "      <th>video_transcription_text</th>\n",
              "    </tr>\n",
              "    <tr>\n",
              "      <th>verified_status</th>\n",
              "      <th></th>\n",
              "    </tr>\n",
              "  </thead>\n",
              "  <tbody>\n",
              "    <tr>\n",
              "      <th>not verified</th>\n",
              "      <td>88.118342</td>\n",
              "    </tr>\n",
              "    <tr>\n",
              "      <th>verified</th>\n",
              "      <td>83.715404</td>\n",
              "    </tr>\n",
              "  </tbody>\n",
              "</table>\n",
              "</div>"
            ],
            "text/plain": [
              "                 video_transcription_text\n",
              "verified_status                          \n",
              "not verified                    88.118342\n",
              "verified                        83.715404"
            ]
          },
          "execution_count": 22,
          "metadata": {},
          "output_type": "execute_result"
        }
      ],
      "source": [
        "# Get the average `video_transcription_text` length for claims and the average `video_transcription_text` length for opinions\n",
        "df_balanced[[\"verified_status\", \"video_transcription_text\"]].groupby(by=\"verified_status\")[[\"video_transcription_text\"]].agg(func=lambda array: np.mean([len(text) for text in array]))"
      ]
    },
    {
      "cell_type": "markdown",
      "metadata": {
        "id": "hb_u1c6_T1i-"
      },
      "source": [
        "Extract the length of each `video_transcription_text` and add this as a column to the dataframe, so that it can be used as a potential feature in the model."
      ]
    },
    {
      "cell_type": "code",
      "execution_count": null,
      "metadata": {
        "id": "8Yr9hhhVHeYY"
      },
      "outputs": [],
      "source": [
        "# Extract the length of each `video_transcription_text` and add this as a column to the dataframe\n",
        "df_balanced[\"transcription_length\"] = df_balanced[\"video_transcription_text\"].apply(func=lambda text: len(text))"
      ]
    },
    {
      "cell_type": "code",
      "execution_count": null,
      "metadata": {
        "id": "Vzg0J8UEJ1wx",
        "outputId": "454bf964-1c70-4fc1-a85e-ab8c0b27de84"
      },
      "outputs": [
        {
          "data": {
            "text/html": [
              "<div>\n",
              "<style scoped>\n",
              "    .dataframe tbody tr th:only-of-type {\n",
              "        vertical-align: middle;\n",
              "    }\n",
              "\n",
              "    .dataframe tbody tr th {\n",
              "        vertical-align: top;\n",
              "    }\n",
              "\n",
              "    .dataframe thead th {\n",
              "        text-align: right;\n",
              "    }\n",
              "</style>\n",
              "<table border=\"1\" class=\"dataframe\">\n",
              "  <thead>\n",
              "    <tr style=\"text-align: right;\">\n",
              "      <th></th>\n",
              "      <th>#</th>\n",
              "      <th>claim_status</th>\n",
              "      <th>video_id</th>\n",
              "      <th>video_duration_sec</th>\n",
              "      <th>video_transcription_text</th>\n",
              "      <th>verified_status</th>\n",
              "      <th>author_ban_status</th>\n",
              "      <th>video_view_count</th>\n",
              "      <th>video_like_count</th>\n",
              "      <th>video_share_count</th>\n",
              "      <th>video_download_count</th>\n",
              "      <th>video_comment_count</th>\n",
              "      <th>transcription_length</th>\n",
              "    </tr>\n",
              "  </thead>\n",
              "  <tbody>\n",
              "    <tr>\n",
              "      <th>0</th>\n",
              "      <td>1</td>\n",
              "      <td>claim</td>\n",
              "      <td>7017666017</td>\n",
              "      <td>59</td>\n",
              "      <td>someone shared with me that drone deliveries a...</td>\n",
              "      <td>not verified</td>\n",
              "      <td>under review</td>\n",
              "      <td>343296.0</td>\n",
              "      <td>19425.0</td>\n",
              "      <td>241.0</td>\n",
              "      <td>1.0</td>\n",
              "      <td>0.0</td>\n",
              "      <td>97</td>\n",
              "    </tr>\n",
              "    <tr>\n",
              "      <th>1</th>\n",
              "      <td>2</td>\n",
              "      <td>claim</td>\n",
              "      <td>4014381136</td>\n",
              "      <td>32</td>\n",
              "      <td>someone shared with me that there are more mic...</td>\n",
              "      <td>not verified</td>\n",
              "      <td>active</td>\n",
              "      <td>140877.0</td>\n",
              "      <td>77355.0</td>\n",
              "      <td>19034.0</td>\n",
              "      <td>1161.0</td>\n",
              "      <td>684.0</td>\n",
              "      <td>107</td>\n",
              "    </tr>\n",
              "    <tr>\n",
              "      <th>2</th>\n",
              "      <td>3</td>\n",
              "      <td>claim</td>\n",
              "      <td>9859838091</td>\n",
              "      <td>31</td>\n",
              "      <td>someone shared with me that american industria...</td>\n",
              "      <td>not verified</td>\n",
              "      <td>active</td>\n",
              "      <td>902185.0</td>\n",
              "      <td>97690.0</td>\n",
              "      <td>2858.0</td>\n",
              "      <td>833.0</td>\n",
              "      <td>329.0</td>\n",
              "      <td>137</td>\n",
              "    </tr>\n",
              "    <tr>\n",
              "      <th>3</th>\n",
              "      <td>4</td>\n",
              "      <td>claim</td>\n",
              "      <td>1866847991</td>\n",
              "      <td>25</td>\n",
              "      <td>someone shared with me that the metro of st. p...</td>\n",
              "      <td>not verified</td>\n",
              "      <td>active</td>\n",
              "      <td>437506.0</td>\n",
              "      <td>239954.0</td>\n",
              "      <td>34812.0</td>\n",
              "      <td>1234.0</td>\n",
              "      <td>584.0</td>\n",
              "      <td>131</td>\n",
              "    </tr>\n",
              "    <tr>\n",
              "      <th>4</th>\n",
              "      <td>5</td>\n",
              "      <td>claim</td>\n",
              "      <td>7105231098</td>\n",
              "      <td>19</td>\n",
              "      <td>someone shared with me that the number of busi...</td>\n",
              "      <td>not verified</td>\n",
              "      <td>active</td>\n",
              "      <td>56167.0</td>\n",
              "      <td>34987.0</td>\n",
              "      <td>4110.0</td>\n",
              "      <td>547.0</td>\n",
              "      <td>152.0</td>\n",
              "      <td>128</td>\n",
              "    </tr>\n",
              "  </tbody>\n",
              "</table>\n",
              "</div>"
            ],
            "text/plain": [
              "   # claim_status    video_id  video_duration_sec  \\\n",
              "0  1        claim  7017666017                  59   \n",
              "1  2        claim  4014381136                  32   \n",
              "2  3        claim  9859838091                  31   \n",
              "3  4        claim  1866847991                  25   \n",
              "4  5        claim  7105231098                  19   \n",
              "\n",
              "                            video_transcription_text verified_status  \\\n",
              "0  someone shared with me that drone deliveries a...    not verified   \n",
              "1  someone shared with me that there are more mic...    not verified   \n",
              "2  someone shared with me that american industria...    not verified   \n",
              "3  someone shared with me that the metro of st. p...    not verified   \n",
              "4  someone shared with me that the number of busi...    not verified   \n",
              "\n",
              "  author_ban_status  video_view_count  video_like_count  video_share_count  \\\n",
              "0      under review          343296.0           19425.0              241.0   \n",
              "1            active          140877.0           77355.0            19034.0   \n",
              "2            active          902185.0           97690.0             2858.0   \n",
              "3            active          437506.0          239954.0            34812.0   \n",
              "4            active           56167.0           34987.0             4110.0   \n",
              "\n",
              "   video_download_count  video_comment_count  transcription_length  \n",
              "0                   1.0                  0.0                    97  \n",
              "1                1161.0                684.0                   107  \n",
              "2                 833.0                329.0                   137  \n",
              "3                1234.0                584.0                   131  \n",
              "4                 547.0                152.0                   128  "
            ]
          },
          "execution_count": 24,
          "metadata": {},
          "output_type": "execute_result"
        }
      ],
      "source": [
        "# Display first few rows of dataframe after adding new column\n",
        "df_balanced.head()"
      ]
    },
    {
      "cell_type": "markdown",
      "metadata": {
        "id": "LGu7ipi4AJmP"
      },
      "source": [
        "Visualize the distribution of `video_transcription_text` length for videos posted by verified accounts and videos posted by unverified accounts."
      ]
    },
    {
      "cell_type": "code",
      "execution_count": null,
      "metadata": {
        "id": "MSq136S3TIYe",
        "outputId": "fca74eeb-c886-4c48-f745-fc945f05edfe"
      },
      "outputs": [
        {
          "data": {
            "image/png": "[encoded data removed]",
            "text/plain": [
              "<Figure size 640x480 with 1 Axes>"
            ]
          },
          "metadata": {},
          "output_type": "display_data"
        }
      ],
      "source": [
        "# Visualize the distribution of `video_transcription_text` length for videos posted by verified accounts and videos posted by unverified accounts\n",
        "# Create two histograms in one plot\n",
        "sns.histplot(data=df_balanced, stat=\"count\", multiple=\"stack\", x=\"transcription_length\", kde=False,\n",
        "             palette=\"ch:s=.25,rot=-.25\", hue=\"verified_status\", element=\"bars\", legend=True)\n",
        "\n",
        "plt.xlabel(\"Video transcription length\")\n",
        "plt.ylabel(\"Count\")\n",
        "plt.title(\"Transcription length distribution for videos posted by verified accounts and videos posted by unverified accounts\")\n",
        "plt.show()"
      ]
    },
    {
      "cell_type": "markdown",
      "metadata": {
        "id": "ebFtWCdXBFem"
      },
      "source": [
        "The histogram shows that both groups exhibit a similar pattern, with transcription lengths predominantly ranging between 60 and 100 words, peaking around 80 words. Verified accounts tend to have slightly fewer videos with longer transcription lengths compared to unverified accounts, as seen in the diminishing tails of the distribution. This suggests that while both verified and unverified users adhere to comparable content transcription practices, verified accounts might lean toward more concise or standardized video descriptions."
      ]
    },
    {
      "cell_type": "markdown",
      "metadata": {
        "id": "KlF7ZNSyW0yV"
      },
      "source": [
        "### **Task 2b. Examine correlations**"
      ]
    },
    {
      "cell_type": "markdown",
      "metadata": {
        "id": "pKkx6FvS4OpI"
      },
      "source": [
        "Next, code a correlation matrix to help determine most correlated variables."
      ]
    },
    {
      "cell_type": "code",
      "execution_count": null,
      "metadata": {
        "id": "KCEzE-gwL5gq",
        "outputId": "12914a91-12a7-4030-db5e-c2ab433dfb17"
      },
      "outputs": [
        {
          "data": {
            "text/html": [
              "<div>\n",
              "<style scoped>\n",
              "    .dataframe tbody tr th:only-of-type {\n",
              "        vertical-align: middle;\n",
              "    }\n",
              "\n",
              "    .dataframe tbody tr th {\n",
              "        vertical-align: top;\n",
              "    }\n",
              "\n",
              "    .dataframe thead th {\n",
              "        text-align: right;\n",
              "    }\n",
              "</style>\n",
              "<table border=\"1\" class=\"dataframe\">\n",
              "  <thead>\n",
              "    <tr style=\"text-align: right;\">\n",
              "      <th></th>\n",
              "      <th>#</th>\n",
              "      <th>video_id</th>\n",
              "      <th>video_duration_sec</th>\n",
              "      <th>video_view_count</th>\n",
              "      <th>video_like_count</th>\n",
              "      <th>video_share_count</th>\n",
              "      <th>video_download_count</th>\n",
              "      <th>video_comment_count</th>\n",
              "      <th>transcription_length</th>\n",
              "    </tr>\n",
              "  </thead>\n",
              "  <tbody>\n",
              "    <tr>\n",
              "      <th>#</th>\n",
              "      <td>1.000000</td>\n",
              "      <td>0.000510</td>\n",
              "      <td>-0.014651</td>\n",
              "      <td>-0.652918</td>\n",
              "      <td>-0.579387</td>\n",
              "      <td>-0.494681</td>\n",
              "      <td>-0.502852</td>\n",
              "      <td>-0.552135</td>\n",
              "      <td>-0.171038</td>\n",
              "    </tr>\n",
              "    <tr>\n",
              "      <th>video_id</th>\n",
              "      <td>0.000510</td>\n",
              "      <td>1.000000</td>\n",
              "      <td>0.012614</td>\n",
              "      <td>0.001845</td>\n",
              "      <td>-0.001581</td>\n",
              "      <td>-0.003811</td>\n",
              "      <td>-0.004251</td>\n",
              "      <td>-0.005672</td>\n",
              "      <td>-0.001773</td>\n",
              "    </tr>\n",
              "    <tr>\n",
              "      <th>video_duration_sec</th>\n",
              "      <td>-0.014651</td>\n",
              "      <td>0.012614</td>\n",
              "      <td>1.000000</td>\n",
              "      <td>0.007014</td>\n",
              "      <td>0.002066</td>\n",
              "      <td>0.014504</td>\n",
              "      <td>0.008033</td>\n",
              "      <td>-0.006547</td>\n",
              "      <td>-0.012682</td>\n",
              "    </tr>\n",
              "    <tr>\n",
              "      <th>video_view_count</th>\n",
              "      <td>-0.652918</td>\n",
              "      <td>0.001845</td>\n",
              "      <td>0.007014</td>\n",
              "      <td>1.000000</td>\n",
              "      <td>0.767183</td>\n",
              "      <td>0.658922</td>\n",
              "      <td>0.635805</td>\n",
              "      <td>0.625267</td>\n",
              "      <td>0.228593</td>\n",
              "    </tr>\n",
              "    <tr>\n",
              "      <th>video_like_count</th>\n",
              "      <td>-0.579387</td>\n",
              "      <td>-0.001581</td>\n",
              "      <td>0.002066</td>\n",
              "      <td>0.767183</td>\n",
              "      <td>1.000000</td>\n",
              "      <td>0.857647</td>\n",
              "      <td>0.772664</td>\n",
              "      <td>0.682803</td>\n",
              "      <td>0.197698</td>\n",
              "    </tr>\n",
              "    <tr>\n",
              "      <th>video_share_count</th>\n",
              "      <td>-0.494681</td>\n",
              "      <td>-0.003811</td>\n",
              "      <td>0.014504</td>\n",
              "      <td>0.658922</td>\n",
              "      <td>0.857647</td>\n",
              "      <td>1.000000</td>\n",
              "      <td>0.639001</td>\n",
              "      <td>0.584335</td>\n",
              "      <td>0.167956</td>\n",
              "    </tr>\n",
              "    <tr>\n",
              "      <th>video_download_count</th>\n",
              "      <td>-0.502852</td>\n",
              "      <td>-0.004251</td>\n",
              "      <td>0.008033</td>\n",
              "      <td>0.635805</td>\n",
              "      <td>0.772664</td>\n",
              "      <td>0.639001</td>\n",
              "      <td>1.000000</td>\n",
              "      <td>0.729825</td>\n",
              "      <td>0.175910</td>\n",
              "    </tr>\n",
              "    <tr>\n",
              "      <th>video_comment_count</th>\n",
              "      <td>-0.552135</td>\n",
              "      <td>-0.005672</td>\n",
              "      <td>-0.006547</td>\n",
              "      <td>0.625267</td>\n",
              "      <td>0.682803</td>\n",
              "      <td>0.584335</td>\n",
              "      <td>0.729825</td>\n",
              "      <td>1.000000</td>\n",
              "      <td>0.197066</td>\n",
              "    </tr>\n",
              "    <tr>\n",
              "      <th>transcription_length</th>\n",
              "      <td>-0.171038</td>\n",
              "      <td>-0.001773</td>\n",
              "      <td>-0.012682</td>\n",
              "      <td>0.228593</td>\n",
              "      <td>0.197698</td>\n",
              "      <td>0.167956</td>\n",
              "      <td>0.175910</td>\n",
              "      <td>0.197066</td>\n",
              "      <td>1.000000</td>\n",
              "    </tr>\n",
              "  </tbody>\n",
              "</table>\n",
              "</div>"
            ],
            "text/plain": [
              "                             #  video_id  video_duration_sec  \\\n",
              "#                     1.000000  0.000510           -0.014651   \n",
              "video_id              0.000510  1.000000            0.012614   \n",
              "video_duration_sec   -0.014651  0.012614            1.000000   \n",
              "video_view_count     -0.652918  0.001845            0.007014   \n",
              "video_like_count     -0.579387 -0.001581            0.002066   \n",
              "video_share_count    -0.494681 -0.003811            0.014504   \n",
              "video_download_count -0.502852 -0.004251            0.008033   \n",
              "video_comment_count  -0.552135 -0.005672           -0.006547   \n",
              "transcription_length -0.171038 -0.001773           -0.012682   \n",
              "\n",
              "                      video_view_count  video_like_count  video_share_count  \\\n",
              "#                            -0.652918         -0.579387          -0.494681   \n",
              "video_id                      0.001845         -0.001581          -0.003811   \n",
              "video_duration_sec            0.007014          0.002066           0.014504   \n",
              "video_view_count              1.000000          0.767183           0.658922   \n",
              "video_like_count              0.767183          1.000000           0.857647   \n",
              "video_share_count             0.658922          0.857647           1.000000   \n",
              "video_download_count          0.635805          0.772664           0.639001   \n",
              "video_comment_count           0.625267          0.682803           0.584335   \n",
              "transcription_length          0.228593          0.197698           0.167956   \n",
              "\n",
              "                      video_download_count  video_comment_count  \\\n",
              "#                                -0.502852            -0.552135   \n",
              "video_id                         -0.004251            -0.005672   \n",
              "video_duration_sec                0.008033            -0.006547   \n",
              "video_view_count                  0.635805             0.625267   \n",
              "video_like_count                  0.772664             0.682803   \n",
              "video_share_count                 0.639001             0.584335   \n",
              "video_download_count              1.000000             0.729825   \n",
              "video_comment_count               0.729825             1.000000   \n",
              "transcription_length              0.175910             0.197066   \n",
              "\n",
              "                      transcription_length  \n",
              "#                                -0.171038  \n",
              "video_id                         -0.001773  \n",
              "video_duration_sec               -0.012682  \n",
              "video_view_count                  0.228593  \n",
              "video_like_count                  0.197698  \n",
              "video_share_count                 0.167956  \n",
              "video_download_count              0.175910  \n",
              "video_comment_count               0.197066  \n",
              "transcription_length              1.000000  "
            ]
          },
          "execution_count": 26,
          "metadata": {},
          "output_type": "execute_result"
        }
      ],
      "source": [
        "# Code a correlation matrix to help determine most correlated variables\n",
        "df_balanced.corr(numeric_only=True)"
      ]
    },
    {
      "cell_type": "markdown",
      "metadata": {
        "id": "6Ldmks6g4ZzE"
      },
      "source": [
        "Visualize a correlation heatmap of the data."
      ]
    },
    {
      "cell_type": "code",
      "execution_count": null,
      "metadata": {
        "id": "8Ti_MFF7tekR",
        "outputId": "5c86abe0-0cd3-4a53-d225-365be18d9512"
      },
      "outputs": [
        {
          "data": {
            "image/png": "[encoded data removed]",
            "text/plain": [
              "<Figure size 800x600 with 2 Axes>"
            ]
          },
          "metadata": {},
          "output_type": "display_data"
        }
      ],
      "source": [
        "# Create a heatmap to visualize how correlated variables are\n",
        "plt.figure(figsize=(8, 6))\n",
        "sns.heatmap(\n",
        "    df_balanced[[\"video_duration_sec\", \"claim_status\", \"author_ban_status\", \"video_view_count\", \"video_like_count\",\n",
        "                 \"video_share_count\", \"video_download_count\", \"video_comment_count\", \"transcription_length\"]]\n",
        "    .corr(numeric_only=True),\n",
        "    annot=True,\n",
        "    cmap=\"vlag\")\n",
        "plt.title(\"TikTok Dataset Heatmap\")\n",
        "plt.show()"
      ]
    },
    {
      "cell_type": "markdown",
      "metadata": {
        "id": "zyQgcrDI00bT"
      },
      "source": [
        "One of the model assumptions for logistic regression is no severe multicollinearity among the features. Take this into consideration as you examine the heatmap and choose which features to proceed with.\n",
        "\n",
        "**Question:** What variables are shown to be correlated in the heatmap?\n",
        "\n",
        "As can be seen, the `video_like_count` variable is strongly correlated with `video_share_count` (83%), as well as with `video_view_count` (78%) and `video_download_count` (76%). With that said, the `video_like_count` will be removed and the other ones (`video_share_count`, `video_view_count`, `video_download_count`, and `video_comment_count`) will be kept as features."
      ]
    },
    {
      "cell_type": "markdown",
      "metadata": {
        "id": "lgPul2DiY6T4"
      },
      "source": [
        "## **PACE: Construct**\n",
        "\n",
        "After analysis and deriving variables with close relationships, it is time to begin constructing the model. Consider the questions in your PACE Strategy Document to reflect on the Construct stage."
      ]
    },
    {
      "cell_type": "markdown",
      "metadata": {
        "id": "07UJJm41ajgf"
      },
      "source": [
        "### **Task 3a. Select variables**"
      ]
    },
    {
      "cell_type": "markdown",
      "metadata": {
        "id": "DxCW0RH_4m3Q"
      },
      "source": [
        "Set your Y and X variables."
      ]
    },
    {
      "cell_type": "markdown",
      "metadata": {
        "id": "WhocrccZBcwx"
      },
      "source": [
        "Select the outcome variable."
      ]
    },
    {
      "cell_type": "code",
      "execution_count": null,
      "metadata": {
        "id": "uH6jiQECBgFn"
      },
      "outputs": [],
      "source": [
        "# Select outcome variable\n",
        "y = df_balanced['verified_status']"
      ]
    },
    {
      "cell_type": "markdown",
      "metadata": {
        "id": "WPxEovpUBZfk"
      },
      "source": [
        "Select the features."
      ]
    },
    {
      "cell_type": "code",
      "execution_count": null,
      "metadata": {
        "id": "iJ5C6M5zCP3k",
        "outputId": "df706bfb-597f-475d-c6dd-2cca726a5726"
      },
      "outputs": [
        {
          "data": {
            "text/html": [
              "<div>\n",
              "<style scoped>\n",
              "    .dataframe tbody tr th:only-of-type {\n",
              "        vertical-align: middle;\n",
              "    }\n",
              "\n",
              "    .dataframe tbody tr th {\n",
              "        vertical-align: top;\n",
              "    }\n",
              "\n",
              "    .dataframe thead th {\n",
              "        text-align: right;\n",
              "    }\n",
              "</style>\n",
              "<table border=\"1\" class=\"dataframe\">\n",
              "  <thead>\n",
              "    <tr style=\"text-align: right;\">\n",
              "      <th></th>\n",
              "      <th>video_duration_sec</th>\n",
              "      <th>claim_status</th>\n",
              "      <th>author_ban_status</th>\n",
              "      <th>video_view_count</th>\n",
              "      <th>video_share_count</th>\n",
              "      <th>video_download_count</th>\n",
              "      <th>video_comment_count</th>\n",
              "    </tr>\n",
              "  </thead>\n",
              "  <tbody>\n",
              "    <tr>\n",
              "      <th>0</th>\n",
              "      <td>59</td>\n",
              "      <td>claim</td>\n",
              "      <td>under review</td>\n",
              "      <td>343296.0</td>\n",
              "      <td>241.0</td>\n",
              "      <td>1.0</td>\n",
              "      <td>0.0</td>\n",
              "    </tr>\n",
              "    <tr>\n",
              "      <th>1</th>\n",
              "      <td>32</td>\n",
              "      <td>claim</td>\n",
              "      <td>active</td>\n",
              "      <td>140877.0</td>\n",
              "      <td>19034.0</td>\n",
              "      <td>1161.0</td>\n",
              "      <td>684.0</td>\n",
              "    </tr>\n",
              "    <tr>\n",
              "      <th>2</th>\n",
              "      <td>31</td>\n",
              "      <td>claim</td>\n",
              "      <td>active</td>\n",
              "      <td>902185.0</td>\n",
              "      <td>2858.0</td>\n",
              "      <td>833.0</td>\n",
              "      <td>329.0</td>\n",
              "    </tr>\n",
              "    <tr>\n",
              "      <th>3</th>\n",
              "      <td>25</td>\n",
              "      <td>claim</td>\n",
              "      <td>active</td>\n",
              "      <td>437506.0</td>\n",
              "      <td>34812.0</td>\n",
              "      <td>1234.0</td>\n",
              "      <td>584.0</td>\n",
              "    </tr>\n",
              "    <tr>\n",
              "      <th>4</th>\n",
              "      <td>19</td>\n",
              "      <td>claim</td>\n",
              "      <td>active</td>\n",
              "      <td>56167.0</td>\n",
              "      <td>4110.0</td>\n",
              "      <td>547.0</td>\n",
              "      <td>152.0</td>\n",
              "    </tr>\n",
              "  </tbody>\n",
              "</table>\n",
              "</div>"
            ],
            "text/plain": [
              "   video_duration_sec claim_status author_ban_status  video_view_count  \\\n",
              "0                  59        claim      under review          343296.0   \n",
              "1                  32        claim            active          140877.0   \n",
              "2                  31        claim            active          902185.0   \n",
              "3                  25        claim            active          437506.0   \n",
              "4                  19        claim            active           56167.0   \n",
              "\n",
              "   video_share_count  video_download_count  video_comment_count  \n",
              "0              241.0                   1.0                  0.0  \n",
              "1            19034.0                1161.0                684.0  \n",
              "2             2858.0                 833.0                329.0  \n",
              "3            34812.0                1234.0                584.0  \n",
              "4             4110.0                 547.0                152.0  "
            ]
          },
          "execution_count": 29,
          "metadata": {},
          "output_type": "execute_result"
        }
      ],
      "source": [
        "# Select features\n",
        "X = df_balanced[[\"video_duration_sec\", \"claim_status\", \"author_ban_status\", \"video_view_count\", \"video_share_count\", \"video_download_count\", \"video_comment_count\"]]\n",
        "\n",
        "# Display the first few rows of features dataframe\n",
        "X.head()"
      ]
    },
    {
      "cell_type": "markdown",
      "metadata": {
        "id": "gPIBz0-HDEqd"
      },
      "source": [
        "### **Task 3b. Train-test split**"
      ]
    },
    {
      "cell_type": "markdown",
      "metadata": {
        "id": "5tNw9_y9jmY1"
      },
      "source": [
        "Split the data into training and testing sets."
      ]
    },
    {
      "cell_type": "code",
      "execution_count": null,
      "metadata": {
        "id": "jKgrew0V6o_3"
      },
      "outputs": [],
      "source": [
        "# Split the data into training and testing sets\n",
        "X_train, X_test, y_train, y_test = train_test_split(X, y, test_size = 0.25, random_state=0)"
      ]
    },
    {
      "cell_type": "markdown",
      "metadata": {
        "id": "5VlklzoujrAR"
      },
      "source": [
        "Confirm that the dimensions of the training and testing sets are in alignment."
      ]
    },
    {
      "cell_type": "code",
      "execution_count": null,
      "metadata": {
        "id": "xgbB1NCtfxcc",
        "outputId": "d7715363-b762-4eb4-dba7-85c77ffad646"
      },
      "outputs": [
        {
          "data": {
            "text/plain": [
              "((21852, 7), (7284, 7), (21852,), (7284,))"
            ]
          },
          "execution_count": 31,
          "metadata": {},
          "output_type": "execute_result"
        }
      ],
      "source": [
        "# Get shape of each training and testing set\n",
        "X_train.shape, X_test.shape, y_train.shape, y_test.shape"
      ]
    },
    {
      "cell_type": "markdown",
      "metadata": {
        "id": "V7PjlXFuDRp_"
      },
      "source": [
        "### **Task 3c. Encode variables**"
      ]
    },
    {
      "cell_type": "markdown",
      "metadata": {
        "id": "rbpnEjop82zL"
      },
      "source": [
        "Check the data types of the features."
      ]
    },
    {
      "cell_type": "code",
      "execution_count": null,
      "metadata": {
        "id": "TefBRXUu8zWR",
        "outputId": "db2c0557-4dcf-4681-8295-52cf7552e0bc"
      },
      "outputs": [
        {
          "data": {
            "text/plain": [
              "video_duration_sec        int64\n",
              "claim_status             object\n",
              "author_ban_status        object\n",
              "video_view_count        float64\n",
              "video_share_count       float64\n",
              "video_download_count    float64\n",
              "video_comment_count     float64\n",
              "dtype: object"
            ]
          },
          "execution_count": 32,
          "metadata": {},
          "output_type": "execute_result"
        }
      ],
      "source": [
        "# Check data types\n",
        "X_train.dtypes"
      ]
    },
    {
      "cell_type": "code",
      "execution_count": null,
      "metadata": {
        "id": "gT1YqFZc-uBF",
        "outputId": "fd901a64-7f6b-4b44-b5e7-1d3b316c4558"
      },
      "outputs": [
        {
          "data": {
            "text/plain": [
              "array(['opinion', 'claim'], dtype=object)"
            ]
          },
          "execution_count": 33,
          "metadata": {},
          "output_type": "execute_result"
        }
      ],
      "source": [
        "# Get unique values in `claim_status`\n",
        "X_train['claim_status'].unique()"
      ]
    },
    {
      "cell_type": "code",
      "execution_count": null,
      "metadata": {
        "id": "uSnObsvy-wpz",
        "outputId": "48650e2c-0296-4508-d664-ebc311c7f021"
      },
      "outputs": [
        {
          "data": {
            "text/plain": [
              "array(['active', 'under review', 'banned'], dtype=object)"
            ]
          },
          "execution_count": 34,
          "metadata": {},
          "output_type": "execute_result"
        }
      ],
      "source": [
        "# Get unique values in `author_ban_status`\n",
        "X_train['author_ban_status'].unique()"
      ]
    },
    {
      "cell_type": "markdown",
      "metadata": {
        "id": "PKSSWs39xYWH"
      },
      "source": [
        "As shown above, the `claim_status` and `author_ban_status` features are each of the data type `object` currently. In order to work with the implementations of models through `sklearn`, these categorical features will need to be made numeric. One way to do this is through one-hot encoding.\n",
        "\n",
        "Encode categorical features in the training set using an appropriate method."
      ]
    },
    {
      "cell_type": "code",
      "execution_count": null,
      "metadata": {
        "id": "mlMTSyaTcBct",
        "outputId": "547edb67-d7e6-4792-ec1c-9c85ca0458ed"
      },
      "outputs": [
        {
          "data": {
            "text/html": [
              "<div>\n",
              "<style scoped>\n",
              "    .dataframe tbody tr th:only-of-type {\n",
              "        vertical-align: middle;\n",
              "    }\n",
              "\n",
              "    .dataframe tbody tr th {\n",
              "        vertical-align: top;\n",
              "    }\n",
              "\n",
              "    .dataframe thead th {\n",
              "        text-align: right;\n",
              "    }\n",
              "</style>\n",
              "<table border=\"1\" class=\"dataframe\">\n",
              "  <thead>\n",
              "    <tr style=\"text-align: right;\">\n",
              "      <th></th>\n",
              "      <th>claim_status</th>\n",
              "      <th>author_ban_status</th>\n",
              "    </tr>\n",
              "  </thead>\n",
              "  <tbody>\n",
              "    <tr>\n",
              "      <th>15967</th>\n",
              "      <td>opinion</td>\n",
              "      <td>active</td>\n",
              "    </tr>\n",
              "    <tr>\n",
              "      <th>20556</th>\n",
              "      <td>opinion</td>\n",
              "      <td>active</td>\n",
              "    </tr>\n",
              "    <tr>\n",
              "      <th>25263</th>\n",
              "      <td>opinion</td>\n",
              "      <td>active</td>\n",
              "    </tr>\n",
              "    <tr>\n",
              "      <th>5063</th>\n",
              "      <td>claim</td>\n",
              "      <td>active</td>\n",
              "    </tr>\n",
              "    <tr>\n",
              "      <th>24237</th>\n",
              "      <td>opinion</td>\n",
              "      <td>active</td>\n",
              "    </tr>\n",
              "  </tbody>\n",
              "</table>\n",
              "</div>"
            ],
            "text/plain": [
              "      claim_status author_ban_status\n",
              "15967      opinion            active\n",
              "20556      opinion            active\n",
              "25263      opinion            active\n",
              "5063         claim            active\n",
              "24237      opinion            active"
            ]
          },
          "execution_count": 35,
          "metadata": {},
          "output_type": "execute_result"
        }
      ],
      "source": [
        "# Select the training features that needs to be encoded\n",
        "encoded_candidates = X_train[['claim_status', 'author_ban_status']]\n",
        "\n",
        "# Display first few rows\n",
        "encoded_candidates.head()"
      ]
    },
    {
      "cell_type": "code",
      "execution_count": null,
      "metadata": {
        "id": "lSM5lQioAjex"
      },
      "outputs": [],
      "source": [
        "# Set up an encoder for one-hot encoding the categorical features\n",
        "X_encoder = OneHotEncoder(drop='first', sparse_output=False)"
      ]
    },
    {
      "cell_type": "code",
      "execution_count": null,
      "metadata": {
        "id": "PH_KGRJApBM_"
      },
      "outputs": [],
      "source": [
        "# Fit and transform the training features using the encoder\n",
        "encoded_variables = X_encoder.fit_transform(encoded_candidates)"
      ]
    },
    {
      "cell_type": "code",
      "execution_count": null,
      "metadata": {
        "id": "j57gJjIFpyO_",
        "outputId": "8a233934-f86e-4dc7-e5c7-3d612fc95215"
      },
      "outputs": [
        {
          "data": {
            "text/plain": [
              "array(['claim_status_opinion', 'author_ban_status_banned',\n",
              "       'author_ban_status_under review'], dtype=object)"
            ]
          },
          "execution_count": 38,
          "metadata": {},
          "output_type": "execute_result"
        }
      ],
      "source": [
        "# Get feature names from encoder\n",
        "X_encoder.get_feature_names_out()"
      ]
    },
    {
      "cell_type": "code",
      "execution_count": null,
      "metadata": {
        "id": "2vSYk7n7phDI",
        "outputId": "6422e83c-a432-4916-8ae4-7472452c082e"
      },
      "outputs": [
        {
          "data": {
            "text/plain": [
              "array([[1., 0., 0.],\n",
              "       [1., 0., 0.],\n",
              "       [1., 0., 0.],\n",
              "       ...,\n",
              "       [1., 0., 0.],\n",
              "       [1., 0., 0.],\n",
              "       [0., 0., 0.]])"
            ]
          },
          "execution_count": 39,
          "metadata": {},
          "output_type": "execute_result"
        }
      ],
      "source": [
        "# Display first few rows of encoded training features\n",
        "encoded_variables"
      ]
    },
    {
      "cell_type": "code",
      "execution_count": null,
      "metadata": {
        "id": "jAn10kA9qcUa",
        "outputId": "7c7653f1-869d-4bfc-b35f-c4a81bf6639f"
      },
      "outputs": [
        {
          "data": {
            "text/html": [
              "<div>\n",
              "<style scoped>\n",
              "    .dataframe tbody tr th:only-of-type {\n",
              "        vertical-align: middle;\n",
              "    }\n",
              "\n",
              "    .dataframe tbody tr th {\n",
              "        vertical-align: top;\n",
              "    }\n",
              "\n",
              "    .dataframe thead th {\n",
              "        text-align: right;\n",
              "    }\n",
              "</style>\n",
              "<table border=\"1\" class=\"dataframe\">\n",
              "  <thead>\n",
              "    <tr style=\"text-align: right;\">\n",
              "      <th></th>\n",
              "      <th>claim_status_opinion</th>\n",
              "      <th>author_ban_status_banned</th>\n",
              "      <th>author_ban_status_under review</th>\n",
              "    </tr>\n",
              "  </thead>\n",
              "  <tbody>\n",
              "    <tr>\n",
              "      <th>0</th>\n",
              "      <td>1.0</td>\n",
              "      <td>0.0</td>\n",
              "      <td>0.0</td>\n",
              "    </tr>\n",
              "    <tr>\n",
              "      <th>1</th>\n",
              "      <td>1.0</td>\n",
              "      <td>0.0</td>\n",
              "      <td>0.0</td>\n",
              "    </tr>\n",
              "    <tr>\n",
              "      <th>2</th>\n",
              "      <td>1.0</td>\n",
              "      <td>0.0</td>\n",
              "      <td>0.0</td>\n",
              "    </tr>\n",
              "    <tr>\n",
              "      <th>3</th>\n",
              "      <td>0.0</td>\n",
              "      <td>0.0</td>\n",
              "      <td>0.0</td>\n",
              "    </tr>\n",
              "    <tr>\n",
              "      <th>4</th>\n",
              "      <td>1.0</td>\n",
              "      <td>0.0</td>\n",
              "      <td>0.0</td>\n",
              "    </tr>\n",
              "  </tbody>\n",
              "</table>\n",
              "</div>"
            ],
            "text/plain": [
              "   claim_status_opinion  author_ban_status_banned  \\\n",
              "0                   1.0                       0.0   \n",
              "1                   1.0                       0.0   \n",
              "2                   1.0                       0.0   \n",
              "3                   0.0                       0.0   \n",
              "4                   1.0                       0.0   \n",
              "\n",
              "   author_ban_status_under review  \n",
              "0                             0.0  \n",
              "1                             0.0  \n",
              "2                             0.0  \n",
              "3                             0.0  \n",
              "4                             0.0  "
            ]
          },
          "execution_count": 40,
          "metadata": {},
          "output_type": "execute_result"
        }
      ],
      "source": [
        "# Place encoded training features (which is currently an array) into a dataframe\n",
        "X_train_encoded = pd.DataFrame(data=encoded_variables, columns=X_encoder.get_feature_names_out())\n",
        "\n",
        "# Display first few rows\n",
        "X_train_encoded.head()"
      ]
    },
    {
      "cell_type": "code",
      "execution_count": null,
      "metadata": {
        "id": "7pdBRVwnuwc0",
        "outputId": "baf8bffb-eb91-4069-f56d-199e0fb226a7"
      },
      "outputs": [
        {
          "data": {
            "text/html": [
              "<div>\n",
              "<style scoped>\n",
              "    .dataframe tbody tr th:only-of-type {\n",
              "        vertical-align: middle;\n",
              "    }\n",
              "\n",
              "    .dataframe tbody tr th {\n",
              "        vertical-align: top;\n",
              "    }\n",
              "\n",
              "    .dataframe thead th {\n",
              "        text-align: right;\n",
              "    }\n",
              "</style>\n",
              "<table border=\"1\" class=\"dataframe\">\n",
              "  <thead>\n",
              "    <tr style=\"text-align: right;\">\n",
              "      <th></th>\n",
              "      <th>video_duration_sec</th>\n",
              "      <th>video_view_count</th>\n",
              "      <th>video_share_count</th>\n",
              "      <th>video_download_count</th>\n",
              "      <th>video_comment_count</th>\n",
              "    </tr>\n",
              "  </thead>\n",
              "  <tbody>\n",
              "    <tr>\n",
              "      <th>15967</th>\n",
              "      <td>49</td>\n",
              "      <td>172.0</td>\n",
              "      <td>3.0</td>\n",
              "      <td>1.0</td>\n",
              "      <td>0.0</td>\n",
              "    </tr>\n",
              "    <tr>\n",
              "      <th>20556</th>\n",
              "      <td>12</td>\n",
              "      <td>6531.0</td>\n",
              "      <td>55.0</td>\n",
              "      <td>14.0</td>\n",
              "      <td>1.0</td>\n",
              "    </tr>\n",
              "    <tr>\n",
              "      <th>25263</th>\n",
              "      <td>49</td>\n",
              "      <td>3947.0</td>\n",
              "      <td>70.0</td>\n",
              "      <td>10.0</td>\n",
              "      <td>1.0</td>\n",
              "    </tr>\n",
              "    <tr>\n",
              "      <th>5063</th>\n",
              "      <td>13</td>\n",
              "      <td>729474.0</td>\n",
              "      <td>55866.0</td>\n",
              "      <td>1031.0</td>\n",
              "      <td>680.0</td>\n",
              "    </tr>\n",
              "    <tr>\n",
              "      <th>24237</th>\n",
              "      <td>48</td>\n",
              "      <td>5425.0</td>\n",
              "      <td>131.0</td>\n",
              "      <td>9.0</td>\n",
              "      <td>1.0</td>\n",
              "    </tr>\n",
              "  </tbody>\n",
              "</table>\n",
              "</div>"
            ],
            "text/plain": [
              "       video_duration_sec  video_view_count  video_share_count  \\\n",
              "15967                  49             172.0                3.0   \n",
              "20556                  12            6531.0               55.0   \n",
              "25263                  49            3947.0               70.0   \n",
              "5063                   13          729474.0            55866.0   \n",
              "24237                  48            5425.0              131.0   \n",
              "\n",
              "       video_download_count  video_comment_count  \n",
              "15967                   1.0                  0.0  \n",
              "20556                  14.0                  1.0  \n",
              "25263                  10.0                  1.0  \n",
              "5063                 1031.0                680.0  \n",
              "24237                   9.0                  1.0  "
            ]
          },
          "execution_count": 41,
          "metadata": {},
          "output_type": "execute_result"
        }
      ],
      "source": [
        "# Display first few rows of `X_train` with `claim_status` and `author_ban_status` columns dropped (since these features are being transformed to numeric)\n",
        "X_train.drop(columns=['claim_status', 'author_ban_status']).head()"
      ]
    },
    {
      "cell_type": "code",
      "execution_count": null,
      "metadata": {
        "id": "qKG1TK-KEfuB",
        "outputId": "d2646ea8-adf3-49aa-f5aa-709bff33352a"
      },
      "outputs": [
        {
          "data": {
            "text/html": [
              "<div>\n",
              "<style scoped>\n",
              "    .dataframe tbody tr th:only-of-type {\n",
              "        vertical-align: middle;\n",
              "    }\n",
              "\n",
              "    .dataframe tbody tr th {\n",
              "        vertical-align: top;\n",
              "    }\n",
              "\n",
              "    .dataframe thead th {\n",
              "        text-align: right;\n",
              "    }\n",
              "</style>\n",
              "<table border=\"1\" class=\"dataframe\">\n",
              "  <thead>\n",
              "    <tr style=\"text-align: right;\">\n",
              "      <th></th>\n",
              "      <th>video_duration_sec</th>\n",
              "      <th>video_view_count</th>\n",
              "      <th>video_share_count</th>\n",
              "      <th>video_download_count</th>\n",
              "      <th>video_comment_count</th>\n",
              "      <th>claim_status_opinion</th>\n",
              "      <th>author_ban_status_banned</th>\n",
              "      <th>author_ban_status_under review</th>\n",
              "    </tr>\n",
              "  </thead>\n",
              "  <tbody>\n",
              "    <tr>\n",
              "      <th>0</th>\n",
              "      <td>49</td>\n",
              "      <td>172.0</td>\n",
              "      <td>3.0</td>\n",
              "      <td>1.0</td>\n",
              "      <td>0.0</td>\n",
              "      <td>1.0</td>\n",
              "      <td>0.0</td>\n",
              "      <td>0.0</td>\n",
              "    </tr>\n",
              "    <tr>\n",
              "      <th>1</th>\n",
              "      <td>12</td>\n",
              "      <td>6531.0</td>\n",
              "      <td>55.0</td>\n",
              "      <td>14.0</td>\n",
              "      <td>1.0</td>\n",
              "      <td>1.0</td>\n",
              "      <td>0.0</td>\n",
              "      <td>0.0</td>\n",
              "    </tr>\n",
              "    <tr>\n",
              "      <th>2</th>\n",
              "      <td>49</td>\n",
              "      <td>3947.0</td>\n",
              "      <td>70.0</td>\n",
              "      <td>10.0</td>\n",
              "      <td>1.0</td>\n",
              "      <td>1.0</td>\n",
              "      <td>0.0</td>\n",
              "      <td>0.0</td>\n",
              "    </tr>\n",
              "    <tr>\n",
              "      <th>3</th>\n",
              "      <td>13</td>\n",
              "      <td>729474.0</td>\n",
              "      <td>55866.0</td>\n",
              "      <td>1031.0</td>\n",
              "      <td>680.0</td>\n",
              "      <td>0.0</td>\n",
              "      <td>0.0</td>\n",
              "      <td>0.0</td>\n",
              "    </tr>\n",
              "    <tr>\n",
              "      <th>4</th>\n",
              "      <td>48</td>\n",
              "      <td>5425.0</td>\n",
              "      <td>131.0</td>\n",
              "      <td>9.0</td>\n",
              "      <td>1.0</td>\n",
              "      <td>1.0</td>\n",
              "      <td>0.0</td>\n",
              "      <td>0.0</td>\n",
              "    </tr>\n",
              "  </tbody>\n",
              "</table>\n",
              "</div>"
            ],
            "text/plain": [
              "   video_duration_sec  video_view_count  video_share_count  \\\n",
              "0                  49             172.0                3.0   \n",
              "1                  12            6531.0               55.0   \n",
              "2                  49            3947.0               70.0   \n",
              "3                  13          729474.0            55866.0   \n",
              "4                  48            5425.0              131.0   \n",
              "\n",
              "   video_download_count  video_comment_count  claim_status_opinion  \\\n",
              "0                   1.0                  0.0                   1.0   \n",
              "1                  14.0                  1.0                   1.0   \n",
              "2                  10.0                  1.0                   1.0   \n",
              "3                1031.0                680.0                   0.0   \n",
              "4                   9.0                  1.0                   1.0   \n",
              "\n",
              "   author_ban_status_banned  author_ban_status_under review  \n",
              "0                       0.0                             0.0  \n",
              "1                       0.0                             0.0  \n",
              "2                       0.0                             0.0  \n",
              "3                       0.0                             0.0  \n",
              "4                       0.0                             0.0  "
            ]
          },
          "execution_count": 42,
          "metadata": {},
          "output_type": "execute_result"
        }
      ],
      "source": [
        "# Concatenate `X_train` and `X_train_encoded_df` to form the final dataframe for training data (`X_train_final`)\n",
        "# Note: Using `.reset_index(drop=True)` to reset the index in X_train after dropping `claim_status` and `author_ban_status`,\n",
        "# so that the indices align with those in `X_train_encoded_df` and `count_df`\n",
        "X_train_final = pd.concat([X_train.drop(columns=['claim_status', 'author_ban_status']).reset_index(drop=True), X_train_encoded], axis = 1)\n",
        "\n",
        "# Display first few rows\n",
        "X_train_final.head()"
      ]
    },
    {
      "cell_type": "markdown",
      "metadata": {
        "id": "9ZHZcDR_fY-D"
      },
      "source": [
        "Check the data type of the outcome variable."
      ]
    },
    {
      "cell_type": "code",
      "execution_count": null,
      "metadata": {
        "id": "QNu4ndvufeP2",
        "outputId": "30b81a54-cfb5-4282-993c-c4f949a7f776"
      },
      "outputs": [
        {
          "data": {
            "text/plain": [
              "dtype('O')"
            ]
          },
          "execution_count": 43,
          "metadata": {},
          "output_type": "execute_result"
        }
      ],
      "source": [
        "# Check data type of outcome variable\n",
        "y_train.dtypes"
      ]
    },
    {
      "cell_type": "code",
      "execution_count": null,
      "metadata": {
        "id": "23VVtIeD9fet",
        "outputId": "812ce7d5-8e49-498a-bf27-db85f6646e91"
      },
      "outputs": [
        {
          "data": {
            "text/plain": [
              "array(['verified', 'not verified'], dtype=object)"
            ]
          },
          "execution_count": 44,
          "metadata": {},
          "output_type": "execute_result"
        }
      ],
      "source": [
        "# Get unique values of outcome variable\n",
        "y_train.unique()"
      ]
    },
    {
      "cell_type": "markdown",
      "metadata": {
        "id": "YBUb24WDyAiA"
      },
      "source": [
        "A shown above, the outcome variable is of data type `object` currently. One-hot encoding can be used to make this variable numeric.\n",
        "\n",
        "Encode categorical values of the outcome variable the training set using an appropriate method."
      ]
    },
    {
      "cell_type": "code",
      "execution_count": null,
      "metadata": {
        "id": "xGeLvAbgIBGh"
      },
      "outputs": [],
      "source": [
        "# Set up an encoder for one-hot encoding the categorical outcome variable\n",
        "y_encoder = OneHotEncoder(drop='first', sparse_output=False)"
      ]
    },
    {
      "cell_type": "code",
      "execution_count": null,
      "metadata": {
        "id": "qJKcy7sqGeSC",
        "outputId": "3b47233f-abb7-4b98-e9f1-26b832f4d299"
      },
      "outputs": [
        {
          "data": {
            "text/plain": [
              "array([1., 1., 1., ..., 0., 0., 0.])"
            ]
          },
          "execution_count": 46,
          "metadata": {},
          "output_type": "execute_result"
        }
      ],
      "source": [
        "# Encode the training outcome variable\n",
        "# Notes:\n",
        "#   - Adjusting the shape of `y_train` before passing into `.fit_transform()`, since it takes in 2D array\n",
        "#   - Using `.ravel()` to flatten the array returned by `.fit_transform()`, so that it can be used later to train the model\n",
        "y_train_final = y_encoder.fit_transform(y_train.values.reshape(-1,1)).ravel()\n",
        "\n",
        "# Display the encoded training outcome variable\n",
        "y_train_final"
      ]
    },
    {
      "cell_type": "markdown",
      "metadata": {
        "id": "0vfFuA8UBFfB"
      },
      "source": [
        "Now that the categorical variables of the training data are encoded, the model can be built."
      ]
    },
    {
      "cell_type": "markdown",
      "metadata": {
        "id": "iDYyjWssbnBG"
      },
      "source": [
        "### **Task 3d. Model building**"
      ]
    },
    {
      "cell_type": "markdown",
      "metadata": {
        "id": "ty8ieBkDBH4g"
      },
      "source": [
        "Construct a model and fit it to the training set."
      ]
    },
    {
      "cell_type": "code",
      "execution_count": null,
      "metadata": {
        "id": "sNcke2SNvZrN"
      },
      "outputs": [],
      "source": [
        "# Construct a logistic regression model and fit it to the training set\n",
        "log_clf = LogisticRegression(random_state=0, max_iter=800).fit(X_train_final, y_train_final)"
      ]
    },
    {
      "cell_type": "markdown",
      "metadata": {
        "id": "cp7ojoBldEYy"
      },
      "source": [
        "\n",
        "## **PACE: Execute**\n",
        "\n",
        "Consider the questions in your PACE Strategy Document to reflect on the Execute stage."
      ]
    },
    {
      "cell_type": "markdown",
      "metadata": {
        "id": "F_l3bkxQdJ3a"
      },
      "source": [
        "### **Taks 4a. Results and evaluation**\n",
        "\n",
        "Evaluate your model."
      ]
    },
    {
      "cell_type": "markdown",
      "metadata": {
        "id": "bxnKPq6dIUOB"
      },
      "source": [
        "Encode categorical features in the testing set using an appropriate method."
      ]
    },
    {
      "cell_type": "code",
      "execution_count": null,
      "metadata": {
        "id": "x-bNI_2_Lp_2",
        "outputId": "73406715-3077-442f-ece8-613948c6cca1"
      },
      "outputs": [
        {
          "data": {
            "text/html": [
              "<div>\n",
              "<style scoped>\n",
              "    .dataframe tbody tr th:only-of-type {\n",
              "        vertical-align: middle;\n",
              "    }\n",
              "\n",
              "    .dataframe tbody tr th {\n",
              "        vertical-align: top;\n",
              "    }\n",
              "\n",
              "    .dataframe thead th {\n",
              "        text-align: right;\n",
              "    }\n",
              "</style>\n",
              "<table border=\"1\" class=\"dataframe\">\n",
              "  <thead>\n",
              "    <tr style=\"text-align: right;\">\n",
              "      <th></th>\n",
              "      <th>claim_status</th>\n",
              "      <th>author_ban_status</th>\n",
              "    </tr>\n",
              "  </thead>\n",
              "  <tbody>\n",
              "    <tr>\n",
              "      <th>1533</th>\n",
              "      <td>claim</td>\n",
              "      <td>active</td>\n",
              "    </tr>\n",
              "    <tr>\n",
              "      <th>12691</th>\n",
              "      <td>opinion</td>\n",
              "      <td>active</td>\n",
              "    </tr>\n",
              "    <tr>\n",
              "      <th>2164</th>\n",
              "      <td>claim</td>\n",
              "      <td>active</td>\n",
              "    </tr>\n",
              "    <tr>\n",
              "      <th>4129</th>\n",
              "      <td>claim</td>\n",
              "      <td>active</td>\n",
              "    </tr>\n",
              "    <tr>\n",
              "      <th>4615</th>\n",
              "      <td>claim</td>\n",
              "      <td>active</td>\n",
              "    </tr>\n",
              "  </tbody>\n",
              "</table>\n",
              "</div>"
            ],
            "text/plain": [
              "      claim_status author_ban_status\n",
              "1533         claim            active\n",
              "12691      opinion            active\n",
              "2164         claim            active\n",
              "4129         claim            active\n",
              "4615         claim            active"
            ]
          },
          "execution_count": 48,
          "metadata": {},
          "output_type": "execute_result"
        }
      ],
      "source": [
        "# Select the testing features that needs to be encoded\n",
        "test_encoded_candidates = X_test[['claim_status', 'author_ban_status']]\n",
        "\n",
        "\n",
        "# Display first few rows\n",
        "test_encoded_candidates.head()"
      ]
    },
    {
      "cell_type": "code",
      "execution_count": null,
      "metadata": {
        "id": "OWa-7XD-Lp_3",
        "outputId": "1f0bc9ff-72b1-4c56-cf53-f61b30065efb"
      },
      "outputs": [
        {
          "data": {
            "text/plain": [
              "array([[0., 0., 0.],\n",
              "       [1., 0., 0.],\n",
              "       [0., 0., 0.],\n",
              "       ...,\n",
              "       [1., 0., 0.],\n",
              "       [0., 0., 0.],\n",
              "       [0., 1., 0.]])"
            ]
          },
          "execution_count": 49,
          "metadata": {},
          "output_type": "execute_result"
        }
      ],
      "source": [
        "# Transform the testing features using the encoder\n",
        "test_encoded = X_encoder.transform(test_encoded_candidates)\n",
        "\n",
        "# Display first few rows of encoded testing features\n",
        "test_encoded"
      ]
    },
    {
      "cell_type": "code",
      "execution_count": null,
      "metadata": {
        "id": "Nmuk2nAELp_3",
        "outputId": "2ac811db-966f-40c6-f53c-da04b349fa45"
      },
      "outputs": [
        {
          "data": {
            "text/html": [
              "<div>\n",
              "<style scoped>\n",
              "    .dataframe tbody tr th:only-of-type {\n",
              "        vertical-align: middle;\n",
              "    }\n",
              "\n",
              "    .dataframe tbody tr th {\n",
              "        vertical-align: top;\n",
              "    }\n",
              "\n",
              "    .dataframe thead th {\n",
              "        text-align: right;\n",
              "    }\n",
              "</style>\n",
              "<table border=\"1\" class=\"dataframe\">\n",
              "  <thead>\n",
              "    <tr style=\"text-align: right;\">\n",
              "      <th></th>\n",
              "      <th>claim_status_opinion</th>\n",
              "      <th>author_ban_status_banned</th>\n",
              "      <th>author_ban_status_under review</th>\n",
              "    </tr>\n",
              "  </thead>\n",
              "  <tbody>\n",
              "    <tr>\n",
              "      <th>0</th>\n",
              "      <td>0.0</td>\n",
              "      <td>0.0</td>\n",
              "      <td>0.0</td>\n",
              "    </tr>\n",
              "    <tr>\n",
              "      <th>1</th>\n",
              "      <td>1.0</td>\n",
              "      <td>0.0</td>\n",
              "      <td>0.0</td>\n",
              "    </tr>\n",
              "    <tr>\n",
              "      <th>2</th>\n",
              "      <td>0.0</td>\n",
              "      <td>0.0</td>\n",
              "      <td>0.0</td>\n",
              "    </tr>\n",
              "    <tr>\n",
              "      <th>3</th>\n",
              "      <td>0.0</td>\n",
              "      <td>0.0</td>\n",
              "      <td>0.0</td>\n",
              "    </tr>\n",
              "    <tr>\n",
              "      <th>4</th>\n",
              "      <td>0.0</td>\n",
              "      <td>0.0</td>\n",
              "      <td>0.0</td>\n",
              "    </tr>\n",
              "  </tbody>\n",
              "</table>\n",
              "</div>"
            ],
            "text/plain": [
              "   claim_status_opinion  author_ban_status_banned  \\\n",
              "0                   0.0                       0.0   \n",
              "1                   1.0                       0.0   \n",
              "2                   0.0                       0.0   \n",
              "3                   0.0                       0.0   \n",
              "4                   0.0                       0.0   \n",
              "\n",
              "   author_ban_status_under review  \n",
              "0                             0.0  \n",
              "1                             0.0  \n",
              "2                             0.0  \n",
              "3                             0.0  \n",
              "4                             0.0  "
            ]
          },
          "execution_count": 50,
          "metadata": {},
          "output_type": "execute_result"
        }
      ],
      "source": [
        "# Place encoded testing features (which is currently an array) into a dataframe\n",
        "X_test_encoded = pd.DataFrame(data=test_encoded, columns=X_encoder.get_feature_names_out())\n",
        "\n",
        "# Display first few rows\n",
        "X_test_encoded.head()"
      ]
    },
    {
      "cell_type": "code",
      "execution_count": null,
      "metadata": {
        "id": "uPkMT-n17pV5",
        "outputId": "a3db30f7-75f5-4b56-c36f-64debb29a113"
      },
      "outputs": [
        {
          "data": {
            "text/html": [
              "<div>\n",
              "<style scoped>\n",
              "    .dataframe tbody tr th:only-of-type {\n",
              "        vertical-align: middle;\n",
              "    }\n",
              "\n",
              "    .dataframe tbody tr th {\n",
              "        vertical-align: top;\n",
              "    }\n",
              "\n",
              "    .dataframe thead th {\n",
              "        text-align: right;\n",
              "    }\n",
              "</style>\n",
              "<table border=\"1\" class=\"dataframe\">\n",
              "  <thead>\n",
              "    <tr style=\"text-align: right;\">\n",
              "      <th></th>\n",
              "      <th>video_duration_sec</th>\n",
              "      <th>video_view_count</th>\n",
              "      <th>video_share_count</th>\n",
              "      <th>video_download_count</th>\n",
              "      <th>video_comment_count</th>\n",
              "    </tr>\n",
              "  </thead>\n",
              "  <tbody>\n",
              "    <tr>\n",
              "      <th>1533</th>\n",
              "      <td>29</td>\n",
              "      <td>264227.0</td>\n",
              "      <td>10191.0</td>\n",
              "      <td>495.0</td>\n",
              "      <td>12.0</td>\n",
              "    </tr>\n",
              "    <tr>\n",
              "      <th>12691</th>\n",
              "      <td>45</td>\n",
              "      <td>7980.0</td>\n",
              "      <td>130.0</td>\n",
              "      <td>26.0</td>\n",
              "      <td>4.0</td>\n",
              "    </tr>\n",
              "    <tr>\n",
              "      <th>2164</th>\n",
              "      <td>59</td>\n",
              "      <td>75840.0</td>\n",
              "      <td>2154.0</td>\n",
              "      <td>31.0</td>\n",
              "      <td>17.0</td>\n",
              "    </tr>\n",
              "    <tr>\n",
              "      <th>4129</th>\n",
              "      <td>10</td>\n",
              "      <td>257846.0</td>\n",
              "      <td>27457.0</td>\n",
              "      <td>266.0</td>\n",
              "      <td>154.0</td>\n",
              "    </tr>\n",
              "    <tr>\n",
              "      <th>4615</th>\n",
              "      <td>49</td>\n",
              "      <td>949207.0</td>\n",
              "      <td>21274.0</td>\n",
              "      <td>1342.0</td>\n",
              "      <td>124.0</td>\n",
              "    </tr>\n",
              "  </tbody>\n",
              "</table>\n",
              "</div>"
            ],
            "text/plain": [
              "       video_duration_sec  video_view_count  video_share_count  \\\n",
              "1533                   29          264227.0            10191.0   \n",
              "12691                  45            7980.0              130.0   \n",
              "2164                   59           75840.0             2154.0   \n",
              "4129                   10          257846.0            27457.0   \n",
              "4615                   49          949207.0            21274.0   \n",
              "\n",
              "       video_download_count  video_comment_count  \n",
              "1533                  495.0                 12.0  \n",
              "12691                  26.0                  4.0  \n",
              "2164                   31.0                 17.0  \n",
              "4129                  266.0                154.0  \n",
              "4615                 1342.0                124.0  "
            ]
          },
          "execution_count": 51,
          "metadata": {},
          "output_type": "execute_result"
        }
      ],
      "source": [
        "# Display first few rows of `X_test` with `claim_status` and `author_ban_status` columns dropped (since these features are being transformed to numeric)\n",
        "X_test.drop(columns=[\"claim_status\", \"author_ban_status\"]).head()"
      ]
    },
    {
      "cell_type": "code",
      "execution_count": null,
      "metadata": {
        "id": "uLRVCl2yLp_4",
        "outputId": "250a3be7-17cb-4157-d097-68a35ff4be2f"
      },
      "outputs": [
        {
          "data": {
            "text/html": [
              "<div>\n",
              "<style scoped>\n",
              "    .dataframe tbody tr th:only-of-type {\n",
              "        vertical-align: middle;\n",
              "    }\n",
              "\n",
              "    .dataframe tbody tr th {\n",
              "        vertical-align: top;\n",
              "    }\n",
              "\n",
              "    .dataframe thead th {\n",
              "        text-align: right;\n",
              "    }\n",
              "</style>\n",
              "<table border=\"1\" class=\"dataframe\">\n",
              "  <thead>\n",
              "    <tr style=\"text-align: right;\">\n",
              "      <th></th>\n",
              "      <th>video_duration_sec</th>\n",
              "      <th>video_view_count</th>\n",
              "      <th>video_share_count</th>\n",
              "      <th>video_download_count</th>\n",
              "      <th>video_comment_count</th>\n",
              "      <th>claim_status_opinion</th>\n",
              "      <th>author_ban_status_banned</th>\n",
              "      <th>author_ban_status_under review</th>\n",
              "    </tr>\n",
              "  </thead>\n",
              "  <tbody>\n",
              "    <tr>\n",
              "      <th>0</th>\n",
              "      <td>29</td>\n",
              "      <td>264227.0</td>\n",
              "      <td>10191.0</td>\n",
              "      <td>495.0</td>\n",
              "      <td>12.0</td>\n",
              "      <td>0.0</td>\n",
              "      <td>0.0</td>\n",
              "      <td>0.0</td>\n",
              "    </tr>\n",
              "    <tr>\n",
              "      <th>1</th>\n",
              "      <td>45</td>\n",
              "      <td>7980.0</td>\n",
              "      <td>130.0</td>\n",
              "      <td>26.0</td>\n",
              "      <td>4.0</td>\n",
              "      <td>1.0</td>\n",
              "      <td>0.0</td>\n",
              "      <td>0.0</td>\n",
              "    </tr>\n",
              "    <tr>\n",
              "      <th>2</th>\n",
              "      <td>59</td>\n",
              "      <td>75840.0</td>\n",
              "      <td>2154.0</td>\n",
              "      <td>31.0</td>\n",
              "      <td>17.0</td>\n",
              "      <td>0.0</td>\n",
              "      <td>0.0</td>\n",
              "      <td>0.0</td>\n",
              "    </tr>\n",
              "    <tr>\n",
              "      <th>3</th>\n",
              "      <td>10</td>\n",
              "      <td>257846.0</td>\n",
              "      <td>27457.0</td>\n",
              "      <td>266.0</td>\n",
              "      <td>154.0</td>\n",
              "      <td>0.0</td>\n",
              "      <td>0.0</td>\n",
              "      <td>0.0</td>\n",
              "    </tr>\n",
              "    <tr>\n",
              "      <th>4</th>\n",
              "      <td>49</td>\n",
              "      <td>949207.0</td>\n",
              "      <td>21274.0</td>\n",
              "      <td>1342.0</td>\n",
              "      <td>124.0</td>\n",
              "      <td>0.0</td>\n",
              "      <td>0.0</td>\n",
              "      <td>0.0</td>\n",
              "    </tr>\n",
              "  </tbody>\n",
              "</table>\n",
              "</div>"
            ],
            "text/plain": [
              "   video_duration_sec  video_view_count  video_share_count  \\\n",
              "0                  29          264227.0            10191.0   \n",
              "1                  45            7980.0              130.0   \n",
              "2                  59           75840.0             2154.0   \n",
              "3                  10          257846.0            27457.0   \n",
              "4                  49          949207.0            21274.0   \n",
              "\n",
              "   video_download_count  video_comment_count  claim_status_opinion  \\\n",
              "0                 495.0                 12.0                   0.0   \n",
              "1                  26.0                  4.0                   1.0   \n",
              "2                  31.0                 17.0                   0.0   \n",
              "3                 266.0                154.0                   0.0   \n",
              "4                1342.0                124.0                   0.0   \n",
              "\n",
              "   author_ban_status_banned  author_ban_status_under review  \n",
              "0                       0.0                             0.0  \n",
              "1                       0.0                             0.0  \n",
              "2                       0.0                             0.0  \n",
              "3                       0.0                             0.0  \n",
              "4                       0.0                             0.0  "
            ]
          },
          "execution_count": 52,
          "metadata": {},
          "output_type": "execute_result"
        }
      ],
      "source": [
        "# Concatenate `X_test` and `X_test_encoded_df` to form the final dataframe for training data (`X_test_final`)\n",
        "# Note: Using `.reset_index(drop=True)` to reset the index in X_test after dropping `claim_status`, and `author_ban_status`,\n",
        "# so that the indices align with those in `X_test_encoded_df` and `test_count_df`\n",
        "X_test_final = pd.concat([X_test.drop(columns=[\"claim_status\", \"author_ban_status\"]).reset_index(drop=True), X_test_encoded], axis=1)\n",
        "\n",
        "\n",
        "# Display first few rows\n",
        "X_test_final.head()"
      ]
    },
    {
      "cell_type": "markdown",
      "metadata": {
        "id": "gM9egturW1eX"
      },
      "source": [
        "Test the logistic regression model. Use the model to make predictions on the encoded testing set."
      ]
    },
    {
      "cell_type": "code",
      "execution_count": null,
      "metadata": {
        "id": "NZQbthy93bWM"
      },
      "outputs": [],
      "source": [
        "# Use the logistic regression model to get predictions on the encoded testing set\n",
        "y_pred = log_clf.predict(X_test_final)"
      ]
    },
    {
      "cell_type": "markdown",
      "metadata": {
        "id": "HNjDzuqmYU0G"
      },
      "source": [
        "Display the predictions on the encoded testing set."
      ]
    },
    {
      "cell_type": "code",
      "execution_count": null,
      "metadata": {
        "id": "tyKjLA_gYUYZ",
        "outputId": "2c18b349-f901-4956-f91f-e6d72af7632b"
      },
      "outputs": [
        {
          "data": {
            "text/plain": [
              "array([0., 1., 1., ..., 1., 0., 0.])"
            ]
          },
          "execution_count": 54,
          "metadata": {},
          "output_type": "execute_result"
        }
      ],
      "source": [
        "# Display the predictions on the encoded testing set\n",
        "y_pred"
      ]
    },
    {
      "cell_type": "markdown",
      "metadata": {
        "id": "iXDp4m9dYlN3"
      },
      "source": [
        "Display the true labels of the testing set."
      ]
    },
    {
      "cell_type": "code",
      "execution_count": null,
      "metadata": {
        "id": "JymZrHVDYdvu",
        "outputId": "da5a9ca9-bb9b-4fd9-c4d9-1d54ec4af037"
      },
      "outputs": [
        {
          "data": {
            "text/plain": [
              "1533     not verified\n",
              "12691    not verified\n",
              "2164     not verified\n",
              "4129     not verified\n",
              "4615     not verified\n",
              "             ...     \n",
              "8789     not verified\n",
              "10113    not verified\n",
              "6204     not verified\n",
              "121      not verified\n",
              "2092     not verified\n",
              "Name: verified_status, Length: 7284, dtype: object"
            ]
          },
          "execution_count": 55,
          "metadata": {},
          "output_type": "execute_result"
        }
      ],
      "source": [
        "# Display the true labels of the testing set\n",
        "y_test"
      ]
    },
    {
      "cell_type": "markdown",
      "metadata": {
        "id": "WM-HHIInem3Z"
      },
      "source": [
        "Encode the true labels of the testing set so it can be compared to the predictions."
      ]
    },
    {
      "cell_type": "code",
      "execution_count": null,
      "metadata": {
        "id": "KNnYVZnjfJfz",
        "outputId": "4ef0dbf5-c0fc-4e11-e039-902ebe732310"
      },
      "outputs": [
        {
          "data": {
            "text/plain": [
              "array([0., 0., 0., ..., 0., 0., 0.])"
            ]
          },
          "execution_count": 56,
          "metadata": {},
          "output_type": "execute_result"
        }
      ],
      "source": [
        "# Encode the testing outcome variable\n",
        "# Notes:\n",
        "#   - Adjusting the shape of `y_test` before passing into `.transform()`, since it takes in 2D array\n",
        "#   - Using `.ravel()` to flatten the array returned by `.transform()`, so that it can be used later to compare with predictions\n",
        "### YOUR CODE HERE ###\n",
        "y_test_final = y_encoder.transform(y_test.values.reshape(-1,1)).ravel()\n",
        "\n",
        "# Display the encoded testing outcome variable\n",
        "y_test_final"
      ]
    },
    {
      "cell_type": "markdown",
      "metadata": {
        "id": "IzdbI4A4mmHA"
      },
      "source": [
        "Confirm again that the dimensions of the training and testing sets are in alignment since additional features were added."
      ]
    },
    {
      "cell_type": "code",
      "execution_count": null,
      "metadata": {
        "id": "WbbI5cSfmmHA",
        "outputId": "eae161e9-c4f8-4cd2-8016-9dd4bdefbd3e"
      },
      "outputs": [
        {
          "data": {
            "text/plain": [
              "((21852, 8), (21852,), (7284, 8), (7284,))"
            ]
          },
          "execution_count": 57,
          "metadata": {},
          "output_type": "execute_result"
        }
      ],
      "source": [
        "# Get shape of each training and testing set\n",
        "X_train_final.shape, y_train_final.shape, X_test_final.shape, y_test_final.shape"
      ]
    },
    {
      "cell_type": "markdown",
      "metadata": {
        "id": "EvGDTnFwBFfN"
      },
      "source": [
        "It's notable that the number of rows and features aligns between the training and test sets."
      ]
    },
    {
      "cell_type": "markdown",
      "metadata": {
        "id": "IMQltTaQFnwv"
      },
      "source": [
        "### **Task 4b. Visualize model results**"
      ]
    },
    {
      "cell_type": "markdown",
      "metadata": {
        "id": "VVMG0ubSXQvS"
      },
      "source": [
        "Create a confusion matrix to visualize the results of the logistic regression model."
      ]
    },
    {
      "cell_type": "code",
      "execution_count": null,
      "metadata": {
        "id": "Ex7R4W73BFfP",
        "outputId": "a22813bf-e3c7-4c1b-fad5-8fdae29e841e"
      },
      "outputs": [
        {
          "data": {
            "image/png": "[encoded data removed]",
            "text/plain": [
              "<Figure size 640x480 with 2 Axes>"
            ]
          },
          "metadata": {},
          "output_type": "display_data"
        }
      ],
      "source": [
        "# Compute values for confusion matrix\n",
        "log_cm = confusion_matrix(y_test_final, y_pred, labels=log_clf.classes_)\n",
        "\n",
        "# Create display of confusion matrix\n",
        "log_disp = ConfusionMatrixDisplay(confusion_matrix=log_cm, display_labels=log_clf.classes_)\n",
        "\n",
        "# Plot confusion matrix\n",
        "log_disp.plot()\n",
        "\n",
        "# Display plot\n",
        "plt.show()"
      ]
    },
    {
      "cell_type": "markdown",
      "metadata": {
        "id": "I6OmnATfbtNd"
      },
      "source": [
        "Create a classification report that includes precision, recall, f1-score, and accuracy metrics to evaluate the performance of the logistic regression model."
      ]
    },
    {
      "cell_type": "code",
      "execution_count": null,
      "metadata": {
        "id": "AMxCzRa-bnUe",
        "outputId": "e691ba5a-d03c-43f9-b275-422dd90ae05a"
      },
      "outputs": [
        {
          "name": "stdout",
          "output_type": "stream",
          "text": [
            "              precision    recall  f1-score   support\n",
            "\n",
            "    verified       0.77      0.37      0.50      3651\n",
            "not verified       0.58      0.89      0.70      3633\n",
            "\n",
            "    accuracy                           0.63      7284\n",
            "   macro avg       0.68      0.63      0.60      7284\n",
            "weighted avg       0.68      0.63      0.60      7284\n",
            "\n"
          ]
        }
      ],
      "source": [
        "# Create a classification report\n",
        "target_labels = [\"verified\", \"not verified\"]\n",
        "print(classification_report(y_test_final, y_pred, target_names=target_labels))"
      ]
    },
    {
      "cell_type": "markdown",
      "metadata": {
        "id": "Yyp6AGtvBFfT"
      },
      "source": [
        "The classification report shows that the model performs well in identifying \"not verified\" users, which is the target class, with a high recall of 89%, meaning it successfully detects most of the actual \"not verified\" videos. However, its precision is lower at 58%, indicating a significant number of verified videos are incorrectly classified as \"not verified.\" The F1-score of 0.70 reflects a decent balance between precision and recall."
      ]
    },
    {
      "cell_type": "markdown",
      "metadata": {
        "id": "IFY_y19EKQoO"
      },
      "source": [
        "### **Task 4c. Interpret model coefficients**"
      ]
    },
    {
      "cell_type": "code",
      "execution_count": null,
      "metadata": {
        "id": "6TmRk8tz4JpG",
        "outputId": "e21b0b43-e414-4852-bbb5-646f592d8f10"
      },
      "outputs": [
        {
          "data": {
            "text/html": [
              "<div>\n",
              "<style scoped>\n",
              "    .dataframe tbody tr th:only-of-type {\n",
              "        vertical-align: middle;\n",
              "    }\n",
              "\n",
              "    .dataframe tbody tr th {\n",
              "        vertical-align: top;\n",
              "    }\n",
              "\n",
              "    .dataframe thead th {\n",
              "        text-align: right;\n",
              "    }\n",
              "</style>\n",
              "<table border=\"1\" class=\"dataframe\">\n",
              "  <thead>\n",
              "    <tr style=\"text-align: right;\">\n",
              "      <th></th>\n",
              "      <th>Feature Name</th>\n",
              "      <th>Model Coefficient</th>\n",
              "    </tr>\n",
              "  </thead>\n",
              "  <tbody>\n",
              "    <tr>\n",
              "      <th>0</th>\n",
              "      <td>video_duration_sec</td>\n",
              "      <td>5.958657e-03</td>\n",
              "    </tr>\n",
              "    <tr>\n",
              "      <th>1</th>\n",
              "      <td>video_view_count</td>\n",
              "      <td>-2.298147e-06</td>\n",
              "    </tr>\n",
              "    <tr>\n",
              "      <th>2</th>\n",
              "      <td>video_share_count</td>\n",
              "      <td>5.335541e-07</td>\n",
              "    </tr>\n",
              "    <tr>\n",
              "      <th>3</th>\n",
              "      <td>video_download_count</td>\n",
              "      <td>-2.234889e-04</td>\n",
              "    </tr>\n",
              "    <tr>\n",
              "      <th>4</th>\n",
              "      <td>video_comment_count</td>\n",
              "      <td>2.663169e-04</td>\n",
              "    </tr>\n",
              "    <tr>\n",
              "      <th>5</th>\n",
              "      <td>claim_status_opinion</td>\n",
              "      <td>2.854965e-04</td>\n",
              "    </tr>\n",
              "    <tr>\n",
              "      <th>6</th>\n",
              "      <td>author_ban_status_banned</td>\n",
              "      <td>-1.250666e-05</td>\n",
              "    </tr>\n",
              "    <tr>\n",
              "      <th>7</th>\n",
              "      <td>author_ban_status_under review</td>\n",
              "      <td>-4.896539e-06</td>\n",
              "    </tr>\n",
              "  </tbody>\n",
              "</table>\n",
              "</div>"
            ],
            "text/plain": [
              "                     Feature Name  Model Coefficient\n",
              "0              video_duration_sec       5.958657e-03\n",
              "1                video_view_count      -2.298147e-06\n",
              "2               video_share_count       5.335541e-07\n",
              "3            video_download_count      -2.234889e-04\n",
              "4             video_comment_count       2.663169e-04\n",
              "5            claim_status_opinion       2.854965e-04\n",
              "6        author_ban_status_banned      -1.250666e-05\n",
              "7  author_ban_status_under review      -4.896539e-06"
            ]
          },
          "execution_count": 63,
          "metadata": {},
          "output_type": "execute_result"
        }
      ],
      "source": [
        "# Get the feature names from the model and the model coefficients (which represent log-odds ratios)\n",
        "# Place into a DataFrame for readability\n",
        "pd.DataFrame(data={\"Feature Name\":log_clf.feature_names_in_, \"Model Coefficient\":log_clf.coef_[0]})"
      ]
    },
    {
      "cell_type": "markdown",
      "metadata": {
        "id": "AwM6K_yJBFfU"
      },
      "source": [
        "According to the model coefficients, each additional second, comment, and share of video is associated with a slight increase in the log-odds of the user having a verified status."
      ]
    },
    {
      "cell_type": "markdown",
      "metadata": {
        "id": "P6AlDDyhdzmG"
      },
      "source": [
        "### **Task 4d. Conclusion**\n",
        "\n",
        "What results can be presented from this project?"
      ]
    },
    {
      "cell_type": "markdown",
      "metadata": {
        "id": "BzqJ13WAnt4R"
      },
      "source": [
        "The analysis of the model designed to predict whether a TikTok video originates from a verified user reveals compelling strengths, particularly in identifying unverified users. The model achieved an impressive recall of 89% for unverified users, indicating that it correctly identifies the majority of unverified content. This high performance is further supported by a precision of 58%, suggesting that when the model predicts a video is from an unverified user, it is accurate nearly 60% of the time. Overall, the F1-score for unverified users stands at 70%, reflecting a solid balance between precision and recall, which is crucial for effectively filtering non-verified content.\n",
        "\n",
        "In addition to these results, it was found that each additional second of video duration, as well as every comment and share, is associated with a slight increase in the log-odds of the user having a verified status. This insight underscores the importance of engagement metrics in predicting user verification, suggesting that more interactive and longer videos are likely to come from verified users. By integrating this information into the strategy, the company can further enhance the model's accuracy and reliability. As the approach is refined, TikTok will continue to leverage these strengths in unverified user detection while also considering engagement metrics to improve the overall effectiveness of our verification process, ensuring that the model remains a valuable asset in maintaining the integrity of the platform."
      ]
    },
    {
      "cell_type": "markdown",
      "metadata": {
        "id": "xrUsG3oPBFfY"
      },
      "source": [
        "**Congratulations!** You've completed this lab. However, you may not notice a green check mark next to this item on Coursera's platform. Please continue your progress regardless of the check mark. Just click on the \"save\" icon at the top of this notebook to ensure your work has been logged."
      ]
    }
  ],
  "metadata": {
    "colab": {
      "provenance": [],
      "include_colab_link": true
    },
    "kernelspec": {
      "display_name": "Python 3 (ipykernel)",
      "language": "python",
      "name": "python3"
    },
    "language_info": {
      "codemirror_mode": {
        "name": "ipython",
        "version": 3
      },
      "file_extension": ".py",
      "mimetype": "text/x-python",
      "name": "python",
      "nbconvert_exporter": "python",
      "pygments_lexer": "ipython3",
      "version": "3.11.4"
    }
  },
  "nbformat": 4,
  "nbformat_minor": 0
}