{
  "cells": [
    {
      "cell_type": "markdown",
      "metadata": {
        "id": "view-in-github",
        "colab_type": "text"
      },
      "source": [
        "<a href=\"https://colab.research.google.com/github/andremarinho17/data_analytics_projects_en/blob/main/Activity_Structure_your_data_Andr%C3%A9_Marinho.ipynb\" target=\"_parent\"><img src=\"https://colab.research.google.com/assets/colab-badge.svg\" alt=\"Open In Colab\"/></a>"
      ]
    },
    {
      "cell_type": "markdown",
      "metadata": {
        "id": "1WD1hC5MTRMS"
      },
      "source": [
        "# Activity: Structure your data - André Marinho\n",
        "\n",
        "## Unicorn Companies EDA - Part 2\n",
        "\n",
        "**Author**: André Marinho"
      ],
      "id": "1WD1hC5MTRMS"
    },
    {
      "cell_type": "markdown",
      "metadata": {
        "id": "ee31943b-274e-4c28-bce6-155cb6f4c334"
      },
      "source": [
        "## Introduction\n",
        "\n",
        "In this activity, you will practice structuring, an **exploratory data analysis (EDA)** step that helps data science projects move forward. During EDA, when working with data that contains aspects of date and time, \"datetime\" transformations are integral to better understanding the data. As a data professional, you will encounter datetime transformations quite often as you determine how to format your data to suit the problems you want to solve or the questions you want to answer. This activity gives you an opportunity to apply these skills and prepare you for future EDA, where you will need to determine how best to structure your data.\n",
        "\n",
        "In this activity, you are a member of an analytics team that provides insights to an investing firm. To help them decide which companies to invest in next, the firm wants insights into **unicorn companies**–companies that are valued at over one billion dollars.  \n",
        "\n",
        "You will work with a dataset about unicorn companies, discovering characteristics of the data, structuring the data in ways that will help you draw meaningful insights, and using visualizations to analyze the data. Ultimately, you will draw conclusions about what significant trends or patterns you find in the dataset. This will develop your skills in EDA and your knowledge of functions that allow you to structure data.\n",
        "\n",
        "\n",
        "\n"
      ],
      "id": "ee31943b-274e-4c28-bce6-155cb6f4c334"
    },
    {
      "cell_type": "markdown",
      "metadata": {
        "id": "4bb9630e-b940-4835-a389-d39def1fa848"
      },
      "source": [
        "## Step 1: Imports"
      ],
      "id": "4bb9630e-b940-4835-a389-d39def1fa848"
    },
    {
      "cell_type": "markdown",
      "metadata": {
        "id": "bc180686-4ae2-47ea-a292-3588ac60a820"
      },
      "source": [
        "### Import relevant libraries and modules\n",
        "\n",
        "Import the relevant Python libraries and modules that you will need to use. In this activity, you will use `pandas`, `numpy`, `seaborn`, and `matplotlib.pyplot`."
      ],
      "id": "bc180686-4ae2-47ea-a292-3588ac60a820"
    },
    {
      "cell_type": "code",
      "execution_count": null,
      "metadata": {
        "id": "8e7f1f2c-bbcc-4f3c-b927-b090ee8334c4"
      },
      "outputs": [],
      "source": [
        "import pandas as pd\n",
        "import numpy as np\n",
        "import seaborn as sns\n",
        "import datetime\n",
        "from matplotlib import pyplot as plt"
      ],
      "id": "8e7f1f2c-bbcc-4f3c-b927-b090ee8334c4"
    },
    {
      "cell_type": "markdown",
      "metadata": {
        "id": "7d29c6bd-f194-46bb-b794-56dc20130473"
      },
      "source": [
        "### Load the dataset into a DataFrame\n",
        "\n",
        "The dataset provided is in the form of a csv file named `Unicorn_Companies.csv` and contains a subset of data on unicorn companies. As shown in this cell, the dataset has been automatically loaded in for you. You do not need to download the .csv file, or provide more code, in order to access the dataset and proceed with this lab. Please continue with this activity by completing the following instructions."
      ],
      "id": "7d29c6bd-f194-46bb-b794-56dc20130473"
    },
    {
      "cell_type": "code",
      "execution_count": null,
      "metadata": {
        "id": "3bd40d44-080f-4e49-b0c2-160dedc3c4df"
      },
      "outputs": [],
      "source": [
        "df = pd.read_csv(\"Unicorn_Companies.csv\")"
      ],
      "id": "3bd40d44-080f-4e49-b0c2-160dedc3c4df"
    },
    {
      "cell_type": "markdown",
      "metadata": {
        "id": "95bf39c9-d05c-4324-a40b-bc692607b61b"
      },
      "source": [
        "## Step 2: Data exploration\n"
      ],
      "id": "95bf39c9-d05c-4324-a40b-bc692607b61b"
    },
    {
      "cell_type": "markdown",
      "metadata": {
        "id": "pEeiG2M76OLH"
      },
      "source": [
        "### Display the first 10 rows of the data\n",
        "\n",
        "In this section, you will discover what the dataset entails and answer questions to guide your exploration and analysis of the data. This is an important step in EDA.\n",
        "\n",
        "To begin, display the first 10 rows of the data to get an understanding of how the dataset is structured."
      ],
      "id": "pEeiG2M76OLH"
    },
    {
      "cell_type": "code",
      "execution_count": null,
      "metadata": {
        "id": "ad5210a5-7a64-4991-b004-de818cfaf506",
        "outputId": "9cfb834f-34be-44da-8a3d-acac137b226f"
      },
      "outputs": [
        {
          "data": {
            "text/html": [
              "<div>\n",
              "<style scoped>\n",
              "    .dataframe tbody tr th:only-of-type {\n",
              "        vertical-align: middle;\n",
              "    }\n",
              "\n",
              "    .dataframe tbody tr th {\n",
              "        vertical-align: top;\n",
              "    }\n",
              "\n",
              "    .dataframe thead th {\n",
              "        text-align: right;\n",
              "    }\n",
              "</style>\n",
              "<table border=\"1\" class=\"dataframe\">\n",
              "  <thead>\n",
              "    <tr style=\"text-align: right;\">\n",
              "      <th></th>\n",
              "      <th>Company</th>\n",
              "      <th>Valuation</th>\n",
              "      <th>Date Joined</th>\n",
              "      <th>Industry</th>\n",
              "      <th>City</th>\n",
              "      <th>Country/Region</th>\n",
              "      <th>Continent</th>\n",
              "      <th>Year Founded</th>\n",
              "      <th>Funding</th>\n",
              "      <th>Select Investors</th>\n",
              "    </tr>\n",
              "  </thead>\n",
              "  <tbody>\n",
              "    <tr>\n",
              "      <th>0</th>\n",
              "      <td>Bytedance</td>\n",
              "      <td>$180B</td>\n",
              "      <td>4/7/17</td>\n",
              "      <td>Artificial intelligence</td>\n",
              "      <td>Beijing</td>\n",
              "      <td>China</td>\n",
              "      <td>Asia</td>\n",
              "      <td>2012</td>\n",
              "      <td>$8B</td>\n",
              "      <td>Sequoia Capital China, SIG Asia Investments, S...</td>\n",
              "    </tr>\n",
              "    <tr>\n",
              "      <th>1</th>\n",
              "      <td>SpaceX</td>\n",
              "      <td>$100B</td>\n",
              "      <td>12/1/12</td>\n",
              "      <td>Other</td>\n",
              "      <td>Hawthorne</td>\n",
              "      <td>United States</td>\n",
              "      <td>North America</td>\n",
              "      <td>2002</td>\n",
              "      <td>$7B</td>\n",
              "      <td>Founders Fund, Draper Fisher Jurvetson, Rothen...</td>\n",
              "    </tr>\n",
              "    <tr>\n",
              "      <th>2</th>\n",
              "      <td>SHEIN</td>\n",
              "      <td>$100B</td>\n",
              "      <td>7/3/18</td>\n",
              "      <td>E-commerce &amp; direct-to-consumer</td>\n",
              "      <td>Shenzhen</td>\n",
              "      <td>China</td>\n",
              "      <td>Asia</td>\n",
              "      <td>2008</td>\n",
              "      <td>$2B</td>\n",
              "      <td>Tiger Global Management, Sequoia Capital China...</td>\n",
              "    </tr>\n",
              "    <tr>\n",
              "      <th>3</th>\n",
              "      <td>Stripe</td>\n",
              "      <td>$95B</td>\n",
              "      <td>1/23/14</td>\n",
              "      <td>Fintech</td>\n",
              "      <td>San Francisco</td>\n",
              "      <td>United States</td>\n",
              "      <td>North America</td>\n",
              "      <td>2010</td>\n",
              "      <td>$2B</td>\n",
              "      <td>Khosla Ventures, LowercaseCapital, capitalG</td>\n",
              "    </tr>\n",
              "    <tr>\n",
              "      <th>4</th>\n",
              "      <td>Klarna</td>\n",
              "      <td>$46B</td>\n",
              "      <td>12/12/11</td>\n",
              "      <td>Fintech</td>\n",
              "      <td>Stockholm</td>\n",
              "      <td>Sweden</td>\n",
              "      <td>Europe</td>\n",
              "      <td>2005</td>\n",
              "      <td>$4B</td>\n",
              "      <td>Institutional Venture Partners, Sequoia Capita...</td>\n",
              "    </tr>\n",
              "    <tr>\n",
              "      <th>5</th>\n",
              "      <td>Canva</td>\n",
              "      <td>$40B</td>\n",
              "      <td>1/8/18</td>\n",
              "      <td>Internet software &amp; services</td>\n",
              "      <td>Surry Hills</td>\n",
              "      <td>Australia</td>\n",
              "      <td>Oceania</td>\n",
              "      <td>2012</td>\n",
              "      <td>$572M</td>\n",
              "      <td>Sequoia Capital China, Blackbird Ventures, Mat...</td>\n",
              "    </tr>\n",
              "    <tr>\n",
              "      <th>6</th>\n",
              "      <td>Checkout.com</td>\n",
              "      <td>$40B</td>\n",
              "      <td>5/2/19</td>\n",
              "      <td>Fintech</td>\n",
              "      <td>London</td>\n",
              "      <td>United Kingdom</td>\n",
              "      <td>Europe</td>\n",
              "      <td>2012</td>\n",
              "      <td>$2B</td>\n",
              "      <td>Tiger Global Management, Insight Partners, DST...</td>\n",
              "    </tr>\n",
              "    <tr>\n",
              "      <th>7</th>\n",
              "      <td>Instacart</td>\n",
              "      <td>$39B</td>\n",
              "      <td>12/30/14</td>\n",
              "      <td>Supply chain, logistics, &amp; delivery</td>\n",
              "      <td>San Francisco</td>\n",
              "      <td>United States</td>\n",
              "      <td>North America</td>\n",
              "      <td>2012</td>\n",
              "      <td>$3B</td>\n",
              "      <td>Khosla Ventures, Kleiner Perkins Caufield &amp; By...</td>\n",
              "    </tr>\n",
              "    <tr>\n",
              "      <th>8</th>\n",
              "      <td>JUUL Labs</td>\n",
              "      <td>$38B</td>\n",
              "      <td>12/20/17</td>\n",
              "      <td>Consumer &amp; retail</td>\n",
              "      <td>San Francisco</td>\n",
              "      <td>United States</td>\n",
              "      <td>North America</td>\n",
              "      <td>2015</td>\n",
              "      <td>$14B</td>\n",
              "      <td>Tiger Global Management</td>\n",
              "    </tr>\n",
              "    <tr>\n",
              "      <th>9</th>\n",
              "      <td>Databricks</td>\n",
              "      <td>$38B</td>\n",
              "      <td>2/5/19</td>\n",
              "      <td>Data management &amp; analytics</td>\n",
              "      <td>San Francisco</td>\n",
              "      <td>United States</td>\n",
              "      <td>North America</td>\n",
              "      <td>2013</td>\n",
              "      <td>$3B</td>\n",
              "      <td>Andreessen Horowitz, New Enterprise Associates...</td>\n",
              "    </tr>\n",
              "  </tbody>\n",
              "</table>\n",
              "</div>"
            ],
            "text/plain": [
              "        Company Valuation Date Joined                             Industry  \\\n",
              "0     Bytedance     $180B      4/7/17              Artificial intelligence   \n",
              "1        SpaceX     $100B     12/1/12                                Other   \n",
              "2         SHEIN     $100B      7/3/18      E-commerce & direct-to-consumer   \n",
              "3        Stripe      $95B     1/23/14                              Fintech   \n",
              "4        Klarna      $46B    12/12/11                              Fintech   \n",
              "5         Canva      $40B      1/8/18         Internet software & services   \n",
              "6  Checkout.com      $40B      5/2/19                              Fintech   \n",
              "7     Instacart      $39B    12/30/14  Supply chain, logistics, & delivery   \n",
              "8     JUUL Labs      $38B    12/20/17                    Consumer & retail   \n",
              "9    Databricks      $38B      2/5/19          Data management & analytics   \n",
              "\n",
              "            City  Country/Region      Continent  Year Founded Funding  \\\n",
              "0        Beijing           China           Asia          2012     $8B   \n",
              "1      Hawthorne   United States  North America          2002     $7B   \n",
              "2       Shenzhen           China           Asia          2008     $2B   \n",
              "3  San Francisco   United States  North America          2010     $2B   \n",
              "4      Stockholm          Sweden         Europe          2005     $4B   \n",
              "5    Surry Hills       Australia        Oceania          2012   $572M   \n",
              "6         London  United Kingdom         Europe          2012     $2B   \n",
              "7  San Francisco   United States  North America          2012     $3B   \n",
              "8  San Francisco   United States  North America          2015    $14B   \n",
              "9  San Francisco   United States  North America          2013     $3B   \n",
              "\n",
              "                                    Select Investors  \n",
              "0  Sequoia Capital China, SIG Asia Investments, S...  \n",
              "1  Founders Fund, Draper Fisher Jurvetson, Rothen...  \n",
              "2  Tiger Global Management, Sequoia Capital China...  \n",
              "3        Khosla Ventures, LowercaseCapital, capitalG  \n",
              "4  Institutional Venture Partners, Sequoia Capita...  \n",
              "5  Sequoia Capital China, Blackbird Ventures, Mat...  \n",
              "6  Tiger Global Management, Insight Partners, DST...  \n",
              "7  Khosla Ventures, Kleiner Perkins Caufield & By...  \n",
              "8                            Tiger Global Management  \n",
              "9  Andreessen Horowitz, New Enterprise Associates...  "
            ]
          },
          "execution_count": 3,
          "metadata": {},
          "output_type": "execute_result"
        }
      ],
      "source": [
        "# Display the first 10 rows of the data.\n",
        "\n",
        "df.head(10)"
      ],
      "id": "ad5210a5-7a64-4991-b004-de818cfaf506"
    },
    {
      "cell_type": "markdown",
      "metadata": {
        "id": "49881dfd-4532-424f-9729-f5378d984df0",
        "jp-MarkdownHeadingCollapsed": true,
        "tags": []
      },
      "source": [
        "<details>\n",
        "  <summary><h4><strong>Hint 1</strong></h4></summary>\n",
        "\n",
        "Refer to [the content about exploratory data analysis in Python](https://www.coursera.org/learn/go-beyond-the-numbers-translate-data-into-insight/lecture/kfl9b/find-stories-using-the-six-exploratory-data-analysis-practices).\n",
        "\n",
        "</details>"
      ],
      "id": "49881dfd-4532-424f-9729-f5378d984df0"
    },
    {
      "cell_type": "markdown",
      "metadata": {
        "id": "k2QxFOi9HW1Q",
        "jp-MarkdownHeadingCollapsed": true,
        "tags": []
      },
      "source": [
        "<details>\n",
        "  <summary><h4><strong>Hint 2</strong></h4></summary>\n",
        "\n",
        "Use the function in the `pandas` library that allows you to get a specific number of rows from the top of a DataFrame.\n",
        "\n",
        "\n",
        "</details>"
      ],
      "id": "k2QxFOi9HW1Q"
    },
    {
      "cell_type": "markdown",
      "metadata": {
        "id": "ptkclWFzHjHv",
        "jp-MarkdownHeadingCollapsed": true,
        "tags": []
      },
      "source": [
        "<details>\n",
        "  <summary><h4><strong>Hint 3</strong></h4></summary>\n",
        "\n",
        "  Call the `head()` function from the `pandas` library and pass in the number of rows you want from the top of the DataFrame.\n",
        "\n",
        "</details>"
      ],
      "id": "ptkclWFzHjHv"
    },
    {
      "cell_type": "markdown",
      "metadata": {
        "id": "e31095a6-5526-42d3-b1c0-b77c1f8b3852"
      },
      "source": [
        "### Identify the number of rows and columns\n",
        "\n",
        "Identify the number of rows and columns in the dataset. This will help you get a sense of how much data you are working with."
      ],
      "id": "e31095a6-5526-42d3-b1c0-b77c1f8b3852"
    },
    {
      "cell_type": "code",
      "execution_count": null,
      "metadata": {
        "id": "df3c71a1-2519-4c50-86c2-63902a534d27",
        "outputId": "95b55a4a-4bee-4daa-fc21-b9bd2c4d1827"
      },
      "outputs": [
        {
          "data": {
            "text/plain": [
              "(1074, 10)"
            ]
          },
          "execution_count": 4,
          "metadata": {},
          "output_type": "execute_result"
        }
      ],
      "source": [
        "# Identify the number of rows and columns in the dataset.\n",
        "\n",
        "df.shape"
      ],
      "id": "df3c71a1-2519-4c50-86c2-63902a534d27"
    },
    {
      "cell_type": "markdown",
      "metadata": {
        "id": "-BS8MzFiu2hD",
        "jp-MarkdownHeadingCollapsed": true,
        "tags": []
      },
      "source": [
        "<details>\n",
        "  <summary><h4><strong>Hint 1</strong></h4></summary>\n",
        "\n",
        "Refer to [the content about exploratory data analysis in Python](https://www.coursera.org/learn/go-beyond-the-numbers-translate-data-into-insight/lecture/kfl9b/find-stories-using-the-six-exploratory-data-analysis-practices).\n",
        "\n",
        "</details>"
      ],
      "id": "-BS8MzFiu2hD"
    },
    {
      "cell_type": "markdown",
      "metadata": {
        "id": "WtQIWoeMu2hE",
        "jp-MarkdownHeadingCollapsed": true,
        "tags": []
      },
      "source": [
        "<details>\n",
        "  <summary><h4><strong>Hint 2</strong></h4></summary>\n",
        "\n",
        "Use the property that DataFrames in `pandas` have to display the number of rows and the number of columns as a tuple.\n",
        "\n",
        "\n",
        "</details>"
      ],
      "id": "WtQIWoeMu2hE"
    },
    {
      "cell_type": "markdown",
      "metadata": {
        "id": "f0cMU_Mqu2hF",
        "jp-MarkdownHeadingCollapsed": true,
        "tags": []
      },
      "source": [
        "<details>\n",
        "  <summary><h4><strong>Hint 3</strong></h4></summary>\n",
        "\n",
        "The `shape` property that DataFrames have can help.\n",
        "\n",
        "</details>"
      ],
      "id": "f0cMU_Mqu2hF"
    },
    {
      "cell_type": "markdown",
      "metadata": {
        "id": "4c2998a8-f864-43eb-a2d5-64845ebc805c"
      },
      "source": [
        "**Question:** How many rows and columns are in the dataset? How many unicorn companies are there? How many aspects are shown for each company?\n"
      ],
      "id": "4c2998a8-f864-43eb-a2d5-64845ebc805c"
    },
    {
      "cell_type": "markdown",
      "metadata": {
        "id": "I814R8oVz0f8"
      },
      "source": [
        "We have 1074 rows and 10 columns in the dataset. We may have 1074 unicorn companies, but we haven't checked if there are any duplicated rows yet. In the dataset, we have information such as the valuation, the date that the company joined the unicorn list, the industry, the localization, the year that the company was founded, the funding, and the selected investors."
      ],
      "id": "I814R8oVz0f8"
    },
    {
      "cell_type": "markdown",
      "metadata": {
        "id": "H_ot-KEQ_YAH"
      },
      "source": [
        "### Check for duplicates in the data"
      ],
      "id": "H_ot-KEQ_YAH"
    },
    {
      "cell_type": "code",
      "execution_count": null,
      "metadata": {
        "id": "3eT0fgc__MY9",
        "outputId": "e1163280-ad02-436f-f855-260e557c21b2"
      },
      "outputs": [
        {
          "data": {
            "text/plain": [
              "(1074, 10)"
            ]
          },
          "execution_count": 5,
          "metadata": {},
          "output_type": "execute_result"
        }
      ],
      "source": [
        "# Check for duplicates.\n",
        "\n",
        "df.drop_duplicates().shape"
      ],
      "id": "3eT0fgc__MY9"
    },
    {
      "cell_type": "markdown",
      "metadata": {
        "id": "5XLziTHPAZkn",
        "jp-MarkdownHeadingCollapsed": true,
        "tags": []
      },
      "source": [
        "<details>\n",
        "  <summary><h4><strong>Hint 1</strong></h4></summary>\n",
        "\n",
        "Refer to [the content about exploratory data analysis in Python](https://www.coursera.org/learn/go-beyond-the-numbers-translate-data-into-insight/lecture/kfl9b/find-stories-using-the-six-exploratory-data-analysis-practices).\n",
        "\n",
        "</details>"
      ],
      "id": "5XLziTHPAZkn"
    },
    {
      "cell_type": "markdown",
      "metadata": {
        "id": "zYuUTbHgAZkp",
        "jp-MarkdownHeadingCollapsed": true,
        "tags": []
      },
      "source": [
        "<details>\n",
        "  <summary><h4><strong>Hint 2</strong></h4></summary>\n",
        "\n",
        "Use the function in `pandas` that can be called on a DataFrame to return the same DataFrame but with duplicates removed.\n",
        "\n",
        "Use property that DataFrames in `pandas` have that to display the number of rows and columns as a tuple.\n",
        "\n",
        "</details>"
      ],
      "id": "zYuUTbHgAZkp"
    },
    {
      "cell_type": "markdown",
      "metadata": {
        "id": "oi-zzNBGAZkp",
        "jp-MarkdownHeadingCollapsed": true,
        "tags": []
      },
      "source": [
        "<details>\n",
        "  <summary><h4><strong>Hint 3</strong></h4></summary>\n",
        "\n",
        "Call the `drop_duplicates()` function on `companies`, followed by calling the `shape` property.\n",
        "\n",
        "Compare the shape that is returned from this to the original shape of `companies`, which you identified previously.\n",
        "\n",
        "</details>"
      ],
      "id": "oi-zzNBGAZkp"
    },
    {
      "cell_type": "markdown",
      "metadata": {
        "id": "-6S3zT-l_ydL"
      },
      "source": [
        "**Question:** Based on the preceding output, are there any duplicates in the dataset?\n"
      ],
      "id": "-6S3zT-l_ydL"
    },
    {
      "cell_type": "markdown",
      "metadata": {
        "id": "QqXNXWRQz1mh"
      },
      "source": [
        "We don't have duplicate inputs in our dataset, which indicates that we have exactly 1074 unicorn companies."
      ],
      "id": "QqXNXWRQz1mh"
    },
    {
      "cell_type": "markdown",
      "metadata": {
        "id": "fgD6IfeBsNW8"
      },
      "source": [
        "### Display the data types of the columns\n",
        "\n",
        "Knowing the data types of the columns is helpful because it indicates what types of analysis and aggregation can be done, how a column can be transformed to suit specific tasks, and so on. Display the data types of the columns."
      ],
      "id": "fgD6IfeBsNW8"
    },
    {
      "cell_type": "code",
      "execution_count": null,
      "metadata": {
        "id": "PjO2hGK2r8vN",
        "outputId": "309c911d-ed5d-4b6d-df64-2996001f78a3"
      },
      "outputs": [
        {
          "data": {
            "text/plain": [
              "Company             object\n",
              "Valuation           object\n",
              "Date Joined         object\n",
              "Industry            object\n",
              "City                object\n",
              "Country/Region      object\n",
              "Continent           object\n",
              "Year Founded         int64\n",
              "Funding             object\n",
              "Select Investors    object\n",
              "dtype: object"
            ]
          },
          "execution_count": 6,
          "metadata": {},
          "output_type": "execute_result"
        }
      ],
      "source": [
        "# Display the data types of the columns.\n",
        "\n",
        "df.dtypes"
      ],
      "id": "PjO2hGK2r8vN"
    },
    {
      "cell_type": "markdown",
      "metadata": {
        "id": "rDrbzQlhkB5F",
        "jp-MarkdownHeadingCollapsed": true,
        "tags": []
      },
      "source": [
        "<details>\n",
        "  <summary><h4><strong>Hint 1</strong></h4></summary>\n",
        "\n",
        "Refer to [the content about exploratory data analysis in Python](https://www.coursera.org/learn/go-beyond-the-numbers-translate-data-into-insight/lecture/kfl9b/find-stories-using-the-six-exploratory-data-analysis-practices).\n",
        "\n",
        "</details>"
      ],
      "id": "rDrbzQlhkB5F"
    },
    {
      "cell_type": "markdown",
      "metadata": {
        "id": "iBciSHO2kB5H",
        "jp-MarkdownHeadingCollapsed": true,
        "tags": []
      },
      "source": [
        "<details>\n",
        "  <summary><h4><strong>Hint 2</strong></h4></summary>\n",
        "\n",
        "Use the property that DataFrames in `pandas` have to display the data types of the columns in the specified DataFrame.\n",
        "\n",
        "\n",
        "</details>"
      ],
      "id": "iBciSHO2kB5H"
    },
    {
      "cell_type": "markdown",
      "metadata": {
        "id": "kyq_H95zkB5I",
        "jp-MarkdownHeadingCollapsed": true,
        "tags": []
      },
      "source": [
        "<details>\n",
        "  <summary><h4><strong>Hint 3</strong></h4></summary>\n",
        "\n",
        "The `dtypes` property that DataFrames have can help.\n",
        "\n",
        "</details>"
      ],
      "id": "kyq_H95zkB5I"
    },
    {
      "cell_type": "markdown",
      "metadata": {
        "id": "bd6573bc-2adb-410e-a85c-d6d5886d51bf"
      },
      "source": [
        "**Question:** What do you notice about the data types of the columns in the dataset?\n"
      ],
      "id": "bd6573bc-2adb-410e-a85c-d6d5886d51bf"
    },
    {
      "cell_type": "markdown",
      "metadata": {
        "id": "NmHY4cWIz2n5"
      },
      "source": [
        "We can notice that most of the columns of our dataset are object types. Year Founded is the only integer column."
      ],
      "id": "NmHY4cWIz2n5"
    },
    {
      "cell_type": "markdown",
      "metadata": {
        "id": "cAfmH6tjHYiq"
      },
      "source": [
        "**Question:** How would you sort this dataset in order to get insights about when the companies were founded? Then, how would you arrange the data from companies that were founded the earliest to companies that were founded the latest?\n"
      ],
      "id": "cAfmH6tjHYiq"
    },
    {
      "cell_type": "markdown",
      "metadata": {
        "id": "8DtM8u4Iz3TA"
      },
      "source": [
        "First of all, I would sort the dataset by the Year Founded column, and then analyze trends and patterns over this years to get insights related to this."
      ],
      "id": "8DtM8u4Iz3TA"
    },
    {
      "cell_type": "markdown",
      "metadata": {
        "id": "1ZqTQXEN9WbW"
      },
      "source": [
        "### Sort the data\n",
        "\n",
        "In this section, you will continue your exploratory data analysis by structuring the data. This is an important step in EDA, as it allows you to glean valuable and interesting insights about the data afterwards.\n",
        "\n",
        "To begin, sort the data so that you can get insights about when the companies were founded. Consider whether it would make sense to sort in ascending or descending order based on what you would like to find."
      ],
      "id": "1ZqTQXEN9WbW"
    },
    {
      "cell_type": "code",
      "execution_count": null,
      "metadata": {
        "id": "sjWPuI-xKDat",
        "outputId": "13fc32f9-9409-446c-c5d8-9d8627b1fd60"
      },
      "outputs": [
        {
          "data": {
            "text/html": [
              "<div>\n",
              "<style scoped>\n",
              "    .dataframe tbody tr th:only-of-type {\n",
              "        vertical-align: middle;\n",
              "    }\n",
              "\n",
              "    .dataframe tbody tr th {\n",
              "        vertical-align: top;\n",
              "    }\n",
              "\n",
              "    .dataframe thead th {\n",
              "        text-align: right;\n",
              "    }\n",
              "</style>\n",
              "<table border=\"1\" class=\"dataframe\">\n",
              "  <thead>\n",
              "    <tr style=\"text-align: right;\">\n",
              "      <th></th>\n",
              "      <th>Company</th>\n",
              "      <th>Valuation</th>\n",
              "      <th>Date Joined</th>\n",
              "      <th>Industry</th>\n",
              "      <th>City</th>\n",
              "      <th>Country/Region</th>\n",
              "      <th>Continent</th>\n",
              "      <th>Year Founded</th>\n",
              "      <th>Funding</th>\n",
              "      <th>Select Investors</th>\n",
              "    </tr>\n",
              "  </thead>\n",
              "  <tbody>\n",
              "    <tr>\n",
              "      <th>782</th>\n",
              "      <td>Phantom</td>\n",
              "      <td>$1B</td>\n",
              "      <td>1/31/22</td>\n",
              "      <td>Fintech</td>\n",
              "      <td>San Francisco</td>\n",
              "      <td>United States</td>\n",
              "      <td>North America</td>\n",
              "      <td>2021</td>\n",
              "      <td>$118M</td>\n",
              "      <td>Paradigm, Andreessen Horowitz, Jump Capital</td>\n",
              "    </tr>\n",
              "    <tr>\n",
              "      <th>714</th>\n",
              "      <td>Yidian Zixun</td>\n",
              "      <td>$1B</td>\n",
              "      <td>10/17/17</td>\n",
              "      <td>Mobile &amp; telecommunications</td>\n",
              "      <td>Beijing</td>\n",
              "      <td>China</td>\n",
              "      <td>Asia</td>\n",
              "      <td>2021</td>\n",
              "      <td>$151M</td>\n",
              "      <td>Phoenix New Media, Tianjin Haihe Industry Fund</td>\n",
              "    </tr>\n",
              "    <tr>\n",
              "      <th>822</th>\n",
              "      <td>GlobalBees</td>\n",
              "      <td>$1B</td>\n",
              "      <td>12/28/21</td>\n",
              "      <td>E-commerce &amp; direct-to-consumer</td>\n",
              "      <td>New Delhi</td>\n",
              "      <td>India</td>\n",
              "      <td>Asia</td>\n",
              "      <td>2021</td>\n",
              "      <td>$185M</td>\n",
              "      <td>Chiratae Ventures, SoftBank Group, Trifecta Ca...</td>\n",
              "    </tr>\n",
              "    <tr>\n",
              "      <th>554</th>\n",
              "      <td>ClickHouse</td>\n",
              "      <td>$2B</td>\n",
              "      <td>10/28/21</td>\n",
              "      <td>Data management &amp; analytics</td>\n",
              "      <td>Portola Valley</td>\n",
              "      <td>United States</td>\n",
              "      <td>North America</td>\n",
              "      <td>2021</td>\n",
              "      <td>$300M</td>\n",
              "      <td>Lightspeed Venture Partners, Almaz Capital Par...</td>\n",
              "    </tr>\n",
              "    <tr>\n",
              "      <th>952</th>\n",
              "      <td>LayerZero Labs</td>\n",
              "      <td>$1B</td>\n",
              "      <td>3/30/22</td>\n",
              "      <td>Internet software &amp; services</td>\n",
              "      <td>New York</td>\n",
              "      <td>United States</td>\n",
              "      <td>North America</td>\n",
              "      <td>2021</td>\n",
              "      <td>$143M</td>\n",
              "      <td>Andreessen Horowitz, FTX Ventures, Tiger Globa...</td>\n",
              "    </tr>\n",
              "    <tr>\n",
              "      <th>314</th>\n",
              "      <td>Flink Food</td>\n",
              "      <td>$3B</td>\n",
              "      <td>12/1/21</td>\n",
              "      <td>E-commerce &amp; direct-to-consumer</td>\n",
              "      <td>Berlin</td>\n",
              "      <td>Germany</td>\n",
              "      <td>Europe</td>\n",
              "      <td>2021</td>\n",
              "      <td>$1B</td>\n",
              "      <td>Mubadala Capital, Bond, Prosus Ventures</td>\n",
              "    </tr>\n",
              "    <tr>\n",
              "      <th>864</th>\n",
              "      <td>Aptos</td>\n",
              "      <td>$1B</td>\n",
              "      <td>3/15/22</td>\n",
              "      <td>Internet software &amp; services</td>\n",
              "      <td>Palo Alto</td>\n",
              "      <td>United States</td>\n",
              "      <td>North America</td>\n",
              "      <td>2021</td>\n",
              "      <td>$200M</td>\n",
              "      <td>Andreessen Horowitz, Coinbase Ventures, Tiger ...</td>\n",
              "    </tr>\n",
              "    <tr>\n",
              "      <th>238</th>\n",
              "      <td>Yuga Labs</td>\n",
              "      <td>$4B</td>\n",
              "      <td>3/22/22</td>\n",
              "      <td>Fintech</td>\n",
              "      <td>Miami</td>\n",
              "      <td>United States</td>\n",
              "      <td>North America</td>\n",
              "      <td>2021</td>\n",
              "      <td>$450M</td>\n",
              "      <td>Andreessen Horowitz, Thrive Capital, Sound Ven...</td>\n",
              "    </tr>\n",
              "    <tr>\n",
              "      <th>775</th>\n",
              "      <td>Jokr</td>\n",
              "      <td>$1B</td>\n",
              "      <td>12/2/21</td>\n",
              "      <td>E-commerce &amp; direct-to-consumer</td>\n",
              "      <td>New York</td>\n",
              "      <td>United States</td>\n",
              "      <td>North America</td>\n",
              "      <td>2021</td>\n",
              "      <td>$430M</td>\n",
              "      <td>GGV Capital, Tiger Global Management, Greycroft</td>\n",
              "    </tr>\n",
              "    <tr>\n",
              "      <th>967</th>\n",
              "      <td>Mensa Brands</td>\n",
              "      <td>$1B</td>\n",
              "      <td>11/16/21</td>\n",
              "      <td>Other</td>\n",
              "      <td>Bengaluru</td>\n",
              "      <td>India</td>\n",
              "      <td>Asia</td>\n",
              "      <td>2021</td>\n",
              "      <td>$218M</td>\n",
              "      <td>Accel, Falcon Edge Capital, Norwest Venture Pa...</td>\n",
              "    </tr>\n",
              "  </tbody>\n",
              "</table>\n",
              "</div>"
            ],
            "text/plain": [
              "            Company Valuation Date Joined                         Industry  \\\n",
              "782         Phantom       $1B     1/31/22                          Fintech   \n",
              "714    Yidian Zixun       $1B    10/17/17      Mobile & telecommunications   \n",
              "822      GlobalBees       $1B    12/28/21  E-commerce & direct-to-consumer   \n",
              "554      ClickHouse       $2B    10/28/21      Data management & analytics   \n",
              "952  LayerZero Labs       $1B     3/30/22     Internet software & services   \n",
              "314      Flink Food       $3B     12/1/21  E-commerce & direct-to-consumer   \n",
              "864           Aptos       $1B     3/15/22     Internet software & services   \n",
              "238       Yuga Labs       $4B     3/22/22                          Fintech   \n",
              "775            Jokr       $1B     12/2/21  E-commerce & direct-to-consumer   \n",
              "967    Mensa Brands       $1B    11/16/21                            Other   \n",
              "\n",
              "               City Country/Region      Continent  Year Founded Funding  \\\n",
              "782   San Francisco  United States  North America          2021   $118M   \n",
              "714         Beijing          China           Asia          2021   $151M   \n",
              "822       New Delhi          India           Asia          2021   $185M   \n",
              "554  Portola Valley  United States  North America          2021   $300M   \n",
              "952        New York  United States  North America          2021   $143M   \n",
              "314          Berlin        Germany         Europe          2021     $1B   \n",
              "864       Palo Alto  United States  North America          2021   $200M   \n",
              "238           Miami  United States  North America          2021   $450M   \n",
              "775        New York  United States  North America          2021   $430M   \n",
              "967       Bengaluru          India           Asia          2021   $218M   \n",
              "\n",
              "                                      Select Investors  \n",
              "782        Paradigm, Andreessen Horowitz, Jump Capital  \n",
              "714     Phoenix New Media, Tianjin Haihe Industry Fund  \n",
              "822  Chiratae Ventures, SoftBank Group, Trifecta Ca...  \n",
              "554  Lightspeed Venture Partners, Almaz Capital Par...  \n",
              "952  Andreessen Horowitz, FTX Ventures, Tiger Globa...  \n",
              "314            Mubadala Capital, Bond, Prosus Ventures  \n",
              "864  Andreessen Horowitz, Coinbase Ventures, Tiger ...  \n",
              "238  Andreessen Horowitz, Thrive Capital, Sound Ven...  \n",
              "775    GGV Capital, Tiger Global Management, Greycroft  \n",
              "967  Accel, Falcon Edge Capital, Norwest Venture Pa...  "
            ]
          },
          "execution_count": 7,
          "metadata": {},
          "output_type": "execute_result"
        }
      ],
      "source": [
        "# Sort `companies` and display the first 10 rows of the resulting DataFrame.\n",
        "\n",
        "df = df.sort_values(by='Year Founded', ascending = False)\n",
        "df.head(10)"
      ],
      "id": "sjWPuI-xKDat"
    },
    {
      "cell_type": "markdown",
      "metadata": {
        "id": "STL5Rkc9AbZE",
        "jp-MarkdownHeadingCollapsed": true,
        "tags": []
      },
      "source": [
        "<details>\n",
        "  <summary><h4><strong>Hint 1</strong></h4></summary>\n",
        "\n",
        "Refer to [the content about exploratory data analysis in Python](https://www.coursera.org/learn/go-beyond-the-numbers-translate-data-into-insight/lecture/kfl9b/find-stories-using-the-six-exploratory-data-analysis-practices).\n",
        "\n",
        "</details>"
      ],
      "id": "STL5Rkc9AbZE"
    },
    {
      "cell_type": "markdown",
      "metadata": {
        "id": "_n2d45jEAbZF",
        "jp-MarkdownHeadingCollapsed": true,
        "tags": []
      },
      "source": [
        "<details>\n",
        "  <summary><h4><strong>Hint 2</strong></h4></summary>\n",
        "\n",
        "Use the function in `pandas` that allows you to sort a DataFrame along a specific column.\n",
        "\n",
        "</details>"
      ],
      "id": "_n2d45jEAbZF"
    },
    {
      "cell_type": "markdown",
      "metadata": {
        "id": "0glE3KHwAbZG",
        "jp-MarkdownHeadingCollapsed": true,
        "tags": []
      },
      "source": [
        "<details>\n",
        "  <summary><h4><strong>Hint 3</strong></h4></summary>\n",
        "\n",
        "Use the `sort_values()` function, specifying the `by` parameter as the name of the column that you want to sort by and the `ascending` parameter as needed. Note that by default, `ascending` is set to `True`. If you want to sort in descending order, specify the `ascending` parameter as `False`.\n",
        "\n",
        "</details>"
      ],
      "id": "0glE3KHwAbZG"
    },
    {
      "cell_type": "markdown",
      "metadata": {
        "id": "quCKIWjC_PZr"
      },
      "source": [
        "**Question:** What do you observe from the sorting that you performed?\n"
      ],
      "id": "quCKIWjC_PZr"
    },
    {
      "cell_type": "markdown",
      "metadata": {
        "id": "fU240OPVzFt4"
      },
      "source": [
        "I can observe that from the first ten newest companies of our dataset, many of them are related to the tech industry (E-commerce & direct-to-consumer, Fintech, Internet software & services, and Data management & analytics). I'll also see how the dataset would be if it were ascending sorted."
      ],
      "id": "fU240OPVzFt4"
    },
    {
      "cell_type": "code",
      "execution_count": null,
      "metadata": {
        "id": "Oo0p_jlnzFt5",
        "outputId": "ac2f1152-c63a-4254-e457-2a55923c7ca0"
      },
      "outputs": [
        {
          "data": {
            "text/html": [
              "<div>\n",
              "<style scoped>\n",
              "    .dataframe tbody tr th:only-of-type {\n",
              "        vertical-align: middle;\n",
              "    }\n",
              "\n",
              "    .dataframe tbody tr th {\n",
              "        vertical-align: top;\n",
              "    }\n",
              "\n",
              "    .dataframe thead th {\n",
              "        text-align: right;\n",
              "    }\n",
              "</style>\n",
              "<table border=\"1\" class=\"dataframe\">\n",
              "  <thead>\n",
              "    <tr style=\"text-align: right;\">\n",
              "      <th></th>\n",
              "      <th>Company</th>\n",
              "      <th>Valuation</th>\n",
              "      <th>Date Joined</th>\n",
              "      <th>Industry</th>\n",
              "      <th>City</th>\n",
              "      <th>Country/Region</th>\n",
              "      <th>Continent</th>\n",
              "      <th>Year Founded</th>\n",
              "      <th>Funding</th>\n",
              "      <th>Select Investors</th>\n",
              "    </tr>\n",
              "  </thead>\n",
              "  <tbody>\n",
              "    <tr>\n",
              "      <th>189</th>\n",
              "      <td>Otto Bock HealthCare</td>\n",
              "      <td>$4B</td>\n",
              "      <td>6/24/17</td>\n",
              "      <td>Health</td>\n",
              "      <td>Duderstadt</td>\n",
              "      <td>Germany</td>\n",
              "      <td>Europe</td>\n",
              "      <td>1919</td>\n",
              "      <td>$0M</td>\n",
              "      <td>EQT Partners</td>\n",
              "    </tr>\n",
              "    <tr>\n",
              "      <th>373</th>\n",
              "      <td>Promasidor Holdings</td>\n",
              "      <td>$2B</td>\n",
              "      <td>11/8/16</td>\n",
              "      <td>Consumer &amp; retail</td>\n",
              "      <td>Bryanston</td>\n",
              "      <td>South Africa</td>\n",
              "      <td>Asia</td>\n",
              "      <td>1979</td>\n",
              "      <td>$556M</td>\n",
              "      <td>IFC, Ajinomoto</td>\n",
              "    </tr>\n",
              "    <tr>\n",
              "      <th>699</th>\n",
              "      <td>Five Star Business Finance</td>\n",
              "      <td>$1B</td>\n",
              "      <td>3/26/21</td>\n",
              "      <td>Other</td>\n",
              "      <td>Chennai</td>\n",
              "      <td>India</td>\n",
              "      <td>Asia</td>\n",
              "      <td>1984</td>\n",
              "      <td>$456M</td>\n",
              "      <td>Sequoia Capital India, Tiger Global Management...</td>\n",
              "    </tr>\n",
              "    <tr>\n",
              "      <th>840</th>\n",
              "      <td>Radius Payment Solutions</td>\n",
              "      <td>$1B</td>\n",
              "      <td>11/27/17</td>\n",
              "      <td>Fintech</td>\n",
              "      <td>Crewe</td>\n",
              "      <td>United Kingdom</td>\n",
              "      <td>Europe</td>\n",
              "      <td>1990</td>\n",
              "      <td>$200M</td>\n",
              "      <td>Inflexion Private Equity</td>\n",
              "    </tr>\n",
              "    <tr>\n",
              "      <th>11</th>\n",
              "      <td>Epic Games</td>\n",
              "      <td>$32B</td>\n",
              "      <td>10/26/18</td>\n",
              "      <td>Other</td>\n",
              "      <td>Cary</td>\n",
              "      <td>United States</td>\n",
              "      <td>North America</td>\n",
              "      <td>1991</td>\n",
              "      <td>$7B</td>\n",
              "      <td>Tencent Holdings, KKR, Smash Ventures</td>\n",
              "    </tr>\n",
              "    <tr>\n",
              "      <th>...</th>\n",
              "      <td>...</td>\n",
              "      <td>...</td>\n",
              "      <td>...</td>\n",
              "      <td>...</td>\n",
              "      <td>...</td>\n",
              "      <td>...</td>\n",
              "      <td>...</td>\n",
              "      <td>...</td>\n",
              "      <td>...</td>\n",
              "      <td>...</td>\n",
              "    </tr>\n",
              "    <tr>\n",
              "      <th>238</th>\n",
              "      <td>Yuga Labs</td>\n",
              "      <td>$4B</td>\n",
              "      <td>3/22/22</td>\n",
              "      <td>Fintech</td>\n",
              "      <td>Miami</td>\n",
              "      <td>United States</td>\n",
              "      <td>North America</td>\n",
              "      <td>2021</td>\n",
              "      <td>$450M</td>\n",
              "      <td>Andreessen Horowitz, Thrive Capital, Sound Ven...</td>\n",
              "    </tr>\n",
              "    <tr>\n",
              "      <th>775</th>\n",
              "      <td>Jokr</td>\n",
              "      <td>$1B</td>\n",
              "      <td>12/2/21</td>\n",
              "      <td>E-commerce &amp; direct-to-consumer</td>\n",
              "      <td>New York</td>\n",
              "      <td>United States</td>\n",
              "      <td>North America</td>\n",
              "      <td>2021</td>\n",
              "      <td>$430M</td>\n",
              "      <td>GGV Capital, Tiger Global Management, Greycroft</td>\n",
              "    </tr>\n",
              "    <tr>\n",
              "      <th>967</th>\n",
              "      <td>Mensa Brands</td>\n",
              "      <td>$1B</td>\n",
              "      <td>11/16/21</td>\n",
              "      <td>Other</td>\n",
              "      <td>Bengaluru</td>\n",
              "      <td>India</td>\n",
              "      <td>Asia</td>\n",
              "      <td>2021</td>\n",
              "      <td>$218M</td>\n",
              "      <td>Accel, Falcon Edge Capital, Norwest Venture Pa...</td>\n",
              "    </tr>\n",
              "    <tr>\n",
              "      <th>314</th>\n",
              "      <td>Flink Food</td>\n",
              "      <td>$3B</td>\n",
              "      <td>12/1/21</td>\n",
              "      <td>E-commerce &amp; direct-to-consumer</td>\n",
              "      <td>Berlin</td>\n",
              "      <td>Germany</td>\n",
              "      <td>Europe</td>\n",
              "      <td>2021</td>\n",
              "      <td>$1B</td>\n",
              "      <td>Mubadala Capital, Bond, Prosus Ventures</td>\n",
              "    </tr>\n",
              "    <tr>\n",
              "      <th>782</th>\n",
              "      <td>Phantom</td>\n",
              "      <td>$1B</td>\n",
              "      <td>1/31/22</td>\n",
              "      <td>Fintech</td>\n",
              "      <td>San Francisco</td>\n",
              "      <td>United States</td>\n",
              "      <td>North America</td>\n",
              "      <td>2021</td>\n",
              "      <td>$118M</td>\n",
              "      <td>Paradigm, Andreessen Horowitz, Jump Capital</td>\n",
              "    </tr>\n",
              "  </tbody>\n",
              "</table>\n",
              "<p>1074 rows × 10 columns</p>\n",
              "</div>"
            ],
            "text/plain": [
              "                        Company Valuation Date Joined  \\\n",
              "189        Otto Bock HealthCare       $4B     6/24/17   \n",
              "373         Promasidor Holdings       $2B     11/8/16   \n",
              "699  Five Star Business Finance       $1B     3/26/21   \n",
              "840    Radius Payment Solutions       $1B    11/27/17   \n",
              "11                   Epic Games      $32B    10/26/18   \n",
              "..                          ...       ...         ...   \n",
              "238                   Yuga Labs       $4B     3/22/22   \n",
              "775                        Jokr       $1B     12/2/21   \n",
              "967                Mensa Brands       $1B    11/16/21   \n",
              "314                  Flink Food       $3B     12/1/21   \n",
              "782                     Phantom       $1B     1/31/22   \n",
              "\n",
              "                            Industry           City  Country/Region  \\\n",
              "189                           Health     Duderstadt         Germany   \n",
              "373                Consumer & retail      Bryanston    South Africa   \n",
              "699                            Other        Chennai           India   \n",
              "840                          Fintech          Crewe  United Kingdom   \n",
              "11                             Other           Cary   United States   \n",
              "..                               ...            ...             ...   \n",
              "238                          Fintech          Miami   United States   \n",
              "775  E-commerce & direct-to-consumer       New York   United States   \n",
              "967                            Other      Bengaluru           India   \n",
              "314  E-commerce & direct-to-consumer         Berlin         Germany   \n",
              "782                          Fintech  San Francisco   United States   \n",
              "\n",
              "         Continent  Year Founded Funding  \\\n",
              "189         Europe          1919     $0M   \n",
              "373           Asia          1979   $556M   \n",
              "699           Asia          1984   $456M   \n",
              "840         Europe          1990   $200M   \n",
              "11   North America          1991     $7B   \n",
              "..             ...           ...     ...   \n",
              "238  North America          2021   $450M   \n",
              "775  North America          2021   $430M   \n",
              "967           Asia          2021   $218M   \n",
              "314         Europe          2021     $1B   \n",
              "782  North America          2021   $118M   \n",
              "\n",
              "                                      Select Investors  \n",
              "189                                       EQT Partners  \n",
              "373                                     IFC, Ajinomoto  \n",
              "699  Sequoia Capital India, Tiger Global Management...  \n",
              "840                           Inflexion Private Equity  \n",
              "11               Tencent Holdings, KKR, Smash Ventures  \n",
              "..                                                 ...  \n",
              "238  Andreessen Horowitz, Thrive Capital, Sound Ven...  \n",
              "775    GGV Capital, Tiger Global Management, Greycroft  \n",
              "967  Accel, Falcon Edge Capital, Norwest Venture Pa...  \n",
              "314            Mubadala Capital, Bond, Prosus Ventures  \n",
              "782        Paradigm, Andreessen Horowitz, Jump Capital  \n",
              "\n",
              "[1074 rows x 10 columns]"
            ]
          },
          "execution_count": 8,
          "metadata": {},
          "output_type": "execute_result"
        }
      ],
      "source": [
        "df.sort_values(by='Year Founded', ascending = True)"
      ],
      "id": "Oo0p_jlnzFt5"
    },
    {
      "cell_type": "markdown",
      "metadata": {
        "id": "xyvJZK9Bz4M0"
      },
      "source": [
        "I can notice that from the first five oldest companies of our dataset, the first was founded in 1919, and the others were founded between the 70's and 90's."
      ],
      "id": "xyvJZK9Bz4M0"
    },
    {
      "cell_type": "markdown",
      "metadata": {
        "id": "k9_pE69KFqUR"
      },
      "source": [
        "**Question:** Which library would you use to get the count of each distinct value in the `Year Founded` column?\n"
      ],
      "id": "k9_pE69KFqUR"
    },
    {
      "cell_type": "markdown",
      "metadata": {
        "id": "Cn0rtLX_z5BN"
      },
      "source": [
        "I would use the pandas library to get the count of each distinct value in the Year Founded column."
      ],
      "id": "Cn0rtLX_z5BN"
    },
    {
      "cell_type": "markdown",
      "metadata": {
        "id": "95ICE9dXHWZY"
      },
      "source": [
        "### Determine the number of companies founded each year\n",
        "\n",
        "Find out how many companies in this dataset were founded each year. Make sure to display each unique `Year Founded` that occurs in the dataset, and for each year, a number that represents how many companies were founded then."
      ],
      "id": "95ICE9dXHWZY"
    },
    {
      "cell_type": "code",
      "execution_count": null,
      "metadata": {
        "id": "_ZzafpsJ_VQ_",
        "outputId": "3583513e-584b-45f1-deb6-e8faf67567b7"
      },
      "outputs": [
        {
          "data": {
            "text/plain": [
              "2015    155\n",
              "2016    110\n",
              "2014    109\n",
              "2012     95\n",
              "2013     87\n",
              "2011     82\n",
              "2017     74\n",
              "2018     61\n",
              "2019     45\n",
              "2010     40\n",
              "2009     34\n",
              "2008     27\n",
              "2020     25\n",
              "2007     24\n",
              "2006     15\n",
              "2005     14\n",
              "2021     11\n",
              "2000     11\n",
              "2001      9\n",
              "1999      8\n",
              "2004      8\n",
              "2003      8\n",
              "1998      5\n",
              "2002      4\n",
              "1995      2\n",
              "1994      2\n",
              "1997      1\n",
              "1996      1\n",
              "1993      1\n",
              "1992      1\n",
              "1991      1\n",
              "1990      1\n",
              "1984      1\n",
              "1979      1\n",
              "1919      1\n",
              "Name: Year Founded, dtype: int64"
            ]
          },
          "execution_count": 9,
          "metadata": {},
          "output_type": "execute_result"
        }
      ],
      "source": [
        "# Display each unique year that occurs in the dataset\n",
        "# along with the number of companies that were founded in each unique year.\n",
        "\n",
        "df['Year Founded'].value_counts()"
      ],
      "id": "_ZzafpsJ_VQ_"
    },
    {
      "cell_type": "markdown",
      "metadata": {
        "id": "nBZVJaWxJsKm",
        "jp-MarkdownHeadingCollapsed": true,
        "tags": []
      },
      "source": [
        "<details>\n",
        "  <summary><h4><strong>Hint 1</strong></h4></summary>\n",
        "\n",
        "Refer to [the content about exploratory data analysis in Python](https://www.coursera.org/learn/go-beyond-the-numbers-translate-data-into-insight/lecture/kfl9b/find-stories-using-the-six-exploratory-data-analysis-practices).\n",
        "\n",
        "</details>"
      ],
      "id": "nBZVJaWxJsKm"
    },
    {
      "cell_type": "markdown",
      "metadata": {
        "id": "eGDXI8HcJsKo",
        "jp-MarkdownHeadingCollapsed": true,
        "tags": []
      },
      "source": [
        "<details>\n",
        "  <summary><h4><strong>Hint 2</strong></h4></summary>\n",
        "\n",
        "Use the function in `pandas` that allows you to get the count for each distinct value in a specific column.\n",
        "\n",
        "</details>"
      ],
      "id": "eGDXI8HcJsKo"
    },
    {
      "cell_type": "markdown",
      "metadata": {
        "id": "cDwQaEkwJsKo",
        "jp-MarkdownHeadingCollapsed": true,
        "tags": []
      },
      "source": [
        "<details>\n",
        "  <summary><h4><strong>Hint 3</strong></h4></summary>\n",
        "\n",
        "Use the `value_counts()` function on the `Year Founded` column.\n",
        "\n",
        "</details>"
      ],
      "id": "cDwQaEkwJsKo"
    },
    {
      "cell_type": "markdown",
      "metadata": {
        "id": "rpMFZQqpJYW6"
      },
      "source": [
        "**Question:** What do you observe from the counts of the unique `Year Founded` values in the dataset?\n"
      ],
      "id": "rpMFZQqpJYW6"
    },
    {
      "cell_type": "markdown",
      "metadata": {
        "id": "i8luOA1Oz6DJ"
      },
      "source": [
        "I did observe that most of the unicorn companies were founded between 2014-16."
      ],
      "id": "i8luOA1Oz6DJ"
    },
    {
      "cell_type": "markdown",
      "metadata": {
        "id": "uJjt0dgvzFt5"
      },
      "source": [
        "**Question:** What kind of graph represents the counts of samples based on a particular feature?\n"
      ],
      "id": "uJjt0dgvzFt5"
    },
    {
      "cell_type": "markdown",
      "metadata": {
        "id": "B2KnYv5ozFt5"
      },
      "source": [
        "The histogram chart is a good option for this."
      ],
      "id": "B2KnYv5ozFt5"
    },
    {
      "cell_type": "markdown",
      "metadata": {
        "id": "2wNfq3N0zFt5"
      },
      "source": [
        "Plot a histogram of the `Year Founded` feature."
      ],
      "id": "2wNfq3N0zFt5"
    },
    {
      "cell_type": "code",
      "execution_count": null,
      "metadata": {
        "scrolled": true,
        "id": "mX3Lz6wGzFt5",
        "outputId": "47918e74-4383-42f4-b314-139e97e64bc6"
      },
      "outputs": [
        {
          "data": {
            "image/png": "[encoded data removed]",
            "text/plain": [
              "<Figure size 432x288 with 1 Axes>"
            ]
          },
          "metadata": {
            "needs_background": "light"
          },
          "output_type": "display_data"
        }
      ],
      "source": [
        "# Plot a histogram of the Year Founded feature.\n",
        "sns.histplot(data=df, x='Year Founded')\n",
        "plt.title('Year Founded');"
      ],
      "id": "mX3Lz6wGzFt5"
    },
    {
      "cell_type": "markdown",
      "metadata": {
        "id": "XzKBLKpOMerv"
      },
      "source": [
        "**Question:** If you want to compare when one company joined unicorn status to when another company joined, how would you transform the `Date Joined` column to gain that insight? To answer this question, notice the data types.\n"
      ],
      "id": "XzKBLKpOMerv"
    },
    {
      "cell_type": "markdown",
      "metadata": {
        "id": "RqFif2yaz6pU"
      },
      "source": [
        "I would need to transform the Date Joined column into a date column because the current column type is object."
      ],
      "id": "RqFif2yaz6pU"
    },
    {
      "cell_type": "markdown",
      "metadata": {
        "id": "94b53c7f-54d8-4d1a-ae07-7c28c2ab8f5b",
        "tags": []
      },
      "source": [
        "### Convert the `Date Joined` column to datetime\n",
        "\n",
        "Convert the `Date Joined` column to datetime. This will split each value into year, month, and date components, allowing you to later gain insights about when a company gained unicorn status with respect to each component."
      ],
      "id": "94b53c7f-54d8-4d1a-ae07-7c28c2ab8f5b"
    },
    {
      "cell_type": "code",
      "execution_count": null,
      "metadata": {
        "id": "afe607c8-9dd7-47c3-9fc8-88772f015e2b",
        "outputId": "a8eb1e96-0ac6-479a-826c-48aed0cbe1fb"
      },
      "outputs": [
        {
          "data": {
            "text/plain": [
              "Company                     object\n",
              "Valuation                   object\n",
              "Date Joined         datetime64[ns]\n",
              "Industry                    object\n",
              "City                        object\n",
              "Country/Region              object\n",
              "Continent                   object\n",
              "Year Founded                 int64\n",
              "Funding                     object\n",
              "Select Investors            object\n",
              "dtype: object"
            ]
          },
          "execution_count": 11,
          "metadata": {},
          "output_type": "execute_result"
        }
      ],
      "source": [
        "# Convert the `Date Joined` column to datetime.\n",
        "# Update the column with the converted values.\n",
        "\n",
        "df['Date Joined'] = pd.to_datetime(df['Date Joined'])\n",
        "\n",
        "# Display the data types of the columns in `companies`\n",
        "# to confirm that the update actually took place.\n",
        "\n",
        "df.dtypes"
      ],
      "id": "afe607c8-9dd7-47c3-9fc8-88772f015e2b"
    },
    {
      "cell_type": "markdown",
      "metadata": {
        "id": "ouhV8x_wP5uJ",
        "jp-MarkdownHeadingCollapsed": true,
        "tags": []
      },
      "source": [
        "<details>\n",
        "  <summary><h4><strong>Hint 1</strong></h4></summary>\n",
        "\n",
        "Refer to [the content about datetime transformations in Python](https://www.coursera.org/learn/go-beyond-the-numbers-translate-data-into-insight/supplement/ZcM4z/reference-guide-datetime-manipulation).\n",
        "\n",
        "</details>"
      ],
      "id": "ouhV8x_wP5uJ"
    },
    {
      "cell_type": "markdown",
      "metadata": {
        "id": "mhYA5bwIP5uL",
        "jp-MarkdownHeadingCollapsed": true,
        "tags": []
      },
      "source": [
        "<details>\n",
        "  <summary><h4><strong>Hint 2</strong></h4></summary>\n",
        "\n",
        "Use the function in `pandas` that allows you to convert an object to datetime format.\n",
        "\n",
        "Use the property that DataFrames have that can be used to display the data types of the columns.\n",
        "\n",
        "</details>"
      ],
      "id": "mhYA5bwIP5uL"
    },
    {
      "cell_type": "markdown",
      "metadata": {
        "id": "Y9ipjYInP5uM",
        "jp-MarkdownHeadingCollapsed": true,
        "tags": []
      },
      "source": [
        "<details>\n",
        "  <summary><h4><strong>Hint 3</strong></h4></summary>\n",
        "\n",
        "Use the `to_datetime()` function on the `Date Joined` column.\n",
        "\n",
        "Make sure to update the column by reassigning to the result of the function call mentioned previously.\n",
        "\n",
        "Use the `dtypes` property to get the data types of the columns in `companies`.\n",
        "\n",
        "</details>"
      ],
      "id": "Y9ipjYInP5uM"
    },
    {
      "cell_type": "markdown",
      "metadata": {
        "id": "8Gl70TvPVDsO"
      },
      "source": [
        "**Question:** How would you obtain the names of the months when companies gained unicorn status?\n"
      ],
      "id": "8Gl70TvPVDsO"
    },
    {
      "cell_type": "markdown",
      "metadata": {
        "id": "C3Dp7ePXz8Cz"
      },
      "source": [
        "I can obtain the names of the months when companies gained unicorn status by using the dt.month to extract the month of the Data Joined column."
      ],
      "id": "C3Dp7ePXz8Cz"
    },
    {
      "cell_type": "markdown",
      "metadata": {
        "id": "ae351a97-926e-40af-91e2-4bd12a5bf888",
        "tags": []
      },
      "source": [
        "### Create a `Month Joined` column\n",
        "\n",
        "Obtain the names of the months when companies gained unicorn status, and use the result to create a `Month Joined` column."
      ],
      "id": "ae351a97-926e-40af-91e2-4bd12a5bf888"
    },
    {
      "cell_type": "code",
      "execution_count": null,
      "metadata": {
        "id": "PFBo2wdQU6U1",
        "outputId": "fd6d5eee-0d39-42e7-d46e-2bd05cc89f3b"
      },
      "outputs": [
        {
          "data": {
            "text/html": [
              "<div>\n",
              "<style scoped>\n",
              "    .dataframe tbody tr th:only-of-type {\n",
              "        vertical-align: middle;\n",
              "    }\n",
              "\n",
              "    .dataframe tbody tr th {\n",
              "        vertical-align: top;\n",
              "    }\n",
              "\n",
              "    .dataframe thead th {\n",
              "        text-align: right;\n",
              "    }\n",
              "</style>\n",
              "<table border=\"1\" class=\"dataframe\">\n",
              "  <thead>\n",
              "    <tr style=\"text-align: right;\">\n",
              "      <th></th>\n",
              "      <th>Company</th>\n",
              "      <th>Valuation</th>\n",
              "      <th>Date Joined</th>\n",
              "      <th>Industry</th>\n",
              "      <th>City</th>\n",
              "      <th>Country/Region</th>\n",
              "      <th>Continent</th>\n",
              "      <th>Year Founded</th>\n",
              "      <th>Funding</th>\n",
              "      <th>Select Investors</th>\n",
              "      <th>Month Joined</th>\n",
              "    </tr>\n",
              "  </thead>\n",
              "  <tbody>\n",
              "    <tr>\n",
              "      <th>782</th>\n",
              "      <td>Phantom</td>\n",
              "      <td>$1B</td>\n",
              "      <td>2022-01-31</td>\n",
              "      <td>Fintech</td>\n",
              "      <td>San Francisco</td>\n",
              "      <td>United States</td>\n",
              "      <td>North America</td>\n",
              "      <td>2021</td>\n",
              "      <td>$118M</td>\n",
              "      <td>Paradigm, Andreessen Horowitz, Jump Capital</td>\n",
              "      <td>January</td>\n",
              "    </tr>\n",
              "    <tr>\n",
              "      <th>714</th>\n",
              "      <td>Yidian Zixun</td>\n",
              "      <td>$1B</td>\n",
              "      <td>2017-10-17</td>\n",
              "      <td>Mobile &amp; telecommunications</td>\n",
              "      <td>Beijing</td>\n",
              "      <td>China</td>\n",
              "      <td>Asia</td>\n",
              "      <td>2021</td>\n",
              "      <td>$151M</td>\n",
              "      <td>Phoenix New Media, Tianjin Haihe Industry Fund</td>\n",
              "      <td>October</td>\n",
              "    </tr>\n",
              "    <tr>\n",
              "      <th>822</th>\n",
              "      <td>GlobalBees</td>\n",
              "      <td>$1B</td>\n",
              "      <td>2021-12-28</td>\n",
              "      <td>E-commerce &amp; direct-to-consumer</td>\n",
              "      <td>New Delhi</td>\n",
              "      <td>India</td>\n",
              "      <td>Asia</td>\n",
              "      <td>2021</td>\n",
              "      <td>$185M</td>\n",
              "      <td>Chiratae Ventures, SoftBank Group, Trifecta Ca...</td>\n",
              "      <td>December</td>\n",
              "    </tr>\n",
              "    <tr>\n",
              "      <th>554</th>\n",
              "      <td>ClickHouse</td>\n",
              "      <td>$2B</td>\n",
              "      <td>2021-10-28</td>\n",
              "      <td>Data management &amp; analytics</td>\n",
              "      <td>Portola Valley</td>\n",
              "      <td>United States</td>\n",
              "      <td>North America</td>\n",
              "      <td>2021</td>\n",
              "      <td>$300M</td>\n",
              "      <td>Lightspeed Venture Partners, Almaz Capital Par...</td>\n",
              "      <td>October</td>\n",
              "    </tr>\n",
              "    <tr>\n",
              "      <th>952</th>\n",
              "      <td>LayerZero Labs</td>\n",
              "      <td>$1B</td>\n",
              "      <td>2022-03-30</td>\n",
              "      <td>Internet software &amp; services</td>\n",
              "      <td>New York</td>\n",
              "      <td>United States</td>\n",
              "      <td>North America</td>\n",
              "      <td>2021</td>\n",
              "      <td>$143M</td>\n",
              "      <td>Andreessen Horowitz, FTX Ventures, Tiger Globa...</td>\n",
              "      <td>March</td>\n",
              "    </tr>\n",
              "  </tbody>\n",
              "</table>\n",
              "</div>"
            ],
            "text/plain": [
              "            Company Valuation Date Joined                         Industry  \\\n",
              "782         Phantom       $1B  2022-01-31                          Fintech   \n",
              "714    Yidian Zixun       $1B  2017-10-17      Mobile & telecommunications   \n",
              "822      GlobalBees       $1B  2021-12-28  E-commerce & direct-to-consumer   \n",
              "554      ClickHouse       $2B  2021-10-28      Data management & analytics   \n",
              "952  LayerZero Labs       $1B  2022-03-30     Internet software & services   \n",
              "\n",
              "               City Country/Region      Continent  Year Founded Funding  \\\n",
              "782   San Francisco  United States  North America          2021   $118M   \n",
              "714         Beijing          China           Asia          2021   $151M   \n",
              "822       New Delhi          India           Asia          2021   $185M   \n",
              "554  Portola Valley  United States  North America          2021   $300M   \n",
              "952        New York  United States  North America          2021   $143M   \n",
              "\n",
              "                                      Select Investors Month Joined  \n",
              "782        Paradigm, Andreessen Horowitz, Jump Capital      January  \n",
              "714     Phoenix New Media, Tianjin Haihe Industry Fund      October  \n",
              "822  Chiratae Ventures, SoftBank Group, Trifecta Ca...     December  \n",
              "554  Lightspeed Venture Partners, Almaz Capital Par...      October  \n",
              "952  Andreessen Horowitz, FTX Ventures, Tiger Globa...        March  "
            ]
          },
          "execution_count": 12,
          "metadata": {},
          "output_type": "execute_result"
        }
      ],
      "source": [
        "# Obtain the names of the months when companies gained unicorn status.\n",
        "# Use the result to create a `Month Joined` column.\n",
        "\n",
        "df['Month Joined'] = df['Date Joined'].dt.month_name()\n",
        "\n",
        "\n",
        "# Display the first few rows of `companies`\n",
        "# to confirm that the new column did get added.\n",
        "\n",
        "df.head()"
      ],
      "id": "PFBo2wdQU6U1"
    },
    {
      "cell_type": "markdown",
      "metadata": {
        "id": "uqVlpsSDYeR1",
        "jp-MarkdownHeadingCollapsed": true,
        "tags": []
      },
      "source": [
        "<details>\n",
        "  <summary><h4><strong>Hint 1</strong></h4></summary>\n",
        "\n",
        "Refer to [the content about extracting components from datetime objects in Python](https://www.coursera.org/learn/go-beyond-the-numbers-translate-data-into-insight/lecture/Vh13u/use-structuring-methods-to-establish-order-in-your-dataset).\n",
        "\n",
        "</details>"
      ],
      "id": "uqVlpsSDYeR1"
    },
    {
      "cell_type": "markdown",
      "metadata": {
        "id": "VB0tiRB9YeR3",
        "jp-MarkdownHeadingCollapsed": true,
        "tags": []
      },
      "source": [
        "<details>\n",
        "  <summary><h4><strong>Hint 2</strong></h4></summary>\n",
        "\n",
        "Use the function in the `pandas` library that contains datetime strings in order to extract the month names.\n",
        "\n",
        "Use the function in the `pandas` library that allows you to display the first few rows of a DataFrame.\n",
        "\n",
        "</details>"
      ],
      "id": "VB0tiRB9YeR3"
    },
    {
      "cell_type": "markdown",
      "metadata": {
        "id": "B3o5tPHPYeR5",
        "jp-MarkdownHeadingCollapsed": true,
        "tags": []
      },
      "source": [
        "<details>\n",
        "  <summary><h4><strong>Hint 3</strong></h4></summary>\n",
        "\n",
        "Use the `dt.month_name()` function on the `Date Joined` column.\n",
        "\n",
        "Use a pair of square brackets to create a new column. Make sure to specify the name of the new column inside the brackets and assign the column to the result of calling the function mentioned previously.\n",
        "\n",
        "Use the `head()` function to display the first few rows of a DataFrame.\n",
        "\n",
        "</details>"
      ],
      "id": "B3o5tPHPYeR5"
    },
    {
      "cell_type": "markdown",
      "metadata": {
        "id": "W81zWrCE8_Ye"
      },
      "source": [
        "**Question:** Using the 'Date Joined' column, how would you determine how many years it took for companies to reach unicorn status?\n"
      ],
      "id": "W81zWrCE8_Ye"
    },
    {
      "cell_type": "markdown",
      "metadata": {
        "id": "uNbv1cAnz9NA"
      },
      "source": [
        "I first would need to extract the year of the Date Joined to a specific column, then I would create a new column by subtracting the Year Founded from the Year Joined to reach the number that indicates how many years a company took to reach unicorn status."
      ],
      "id": "uNbv1cAnz9NA"
    },
    {
      "cell_type": "markdown",
      "metadata": {
        "id": "6xTyzHiM8_Yf",
        "tags": []
      },
      "source": [
        "### Create a `Years To Join` column\n",
        "\n",
        "Determine how many years it took for companies to reach unicorn status, and use the result to create a `Years To Join` column. Adding this to the dataset can help you answer questions you may have about this aspect of the companies."
      ],
      "id": "6xTyzHiM8_Yf"
    },
    {
      "cell_type": "code",
      "execution_count": null,
      "metadata": {
        "id": "9zK8Q7-v-Bx1",
        "outputId": "27248d45-7bab-453e-bf23-677d9321687d"
      },
      "outputs": [
        {
          "data": {
            "text/html": [
              "<div>\n",
              "<style scoped>\n",
              "    .dataframe tbody tr th:only-of-type {\n",
              "        vertical-align: middle;\n",
              "    }\n",
              "\n",
              "    .dataframe tbody tr th {\n",
              "        vertical-align: top;\n",
              "    }\n",
              "\n",
              "    .dataframe thead th {\n",
              "        text-align: right;\n",
              "    }\n",
              "</style>\n",
              "<table border=\"1\" class=\"dataframe\">\n",
              "  <thead>\n",
              "    <tr style=\"text-align: right;\">\n",
              "      <th></th>\n",
              "      <th>Company</th>\n",
              "      <th>Valuation</th>\n",
              "      <th>Date Joined</th>\n",
              "      <th>Industry</th>\n",
              "      <th>City</th>\n",
              "      <th>Country/Region</th>\n",
              "      <th>Continent</th>\n",
              "      <th>Year Founded</th>\n",
              "      <th>Funding</th>\n",
              "      <th>Select Investors</th>\n",
              "      <th>Month Joined</th>\n",
              "      <th>Year Joined</th>\n",
              "      <th>Years to Join</th>\n",
              "    </tr>\n",
              "  </thead>\n",
              "  <tbody>\n",
              "    <tr>\n",
              "      <th>782</th>\n",
              "      <td>Phantom</td>\n",
              "      <td>$1B</td>\n",
              "      <td>2022-01-31</td>\n",
              "      <td>Fintech</td>\n",
              "      <td>San Francisco</td>\n",
              "      <td>United States</td>\n",
              "      <td>North America</td>\n",
              "      <td>2021</td>\n",
              "      <td>$118M</td>\n",
              "      <td>Paradigm, Andreessen Horowitz, Jump Capital</td>\n",
              "      <td>January</td>\n",
              "      <td>2022</td>\n",
              "      <td>1</td>\n",
              "    </tr>\n",
              "    <tr>\n",
              "      <th>714</th>\n",
              "      <td>Yidian Zixun</td>\n",
              "      <td>$1B</td>\n",
              "      <td>2017-10-17</td>\n",
              "      <td>Mobile &amp; telecommunications</td>\n",
              "      <td>Beijing</td>\n",
              "      <td>China</td>\n",
              "      <td>Asia</td>\n",
              "      <td>2021</td>\n",
              "      <td>$151M</td>\n",
              "      <td>Phoenix New Media, Tianjin Haihe Industry Fund</td>\n",
              "      <td>October</td>\n",
              "      <td>2017</td>\n",
              "      <td>-4</td>\n",
              "    </tr>\n",
              "    <tr>\n",
              "      <th>822</th>\n",
              "      <td>GlobalBees</td>\n",
              "      <td>$1B</td>\n",
              "      <td>2021-12-28</td>\n",
              "      <td>E-commerce &amp; direct-to-consumer</td>\n",
              "      <td>New Delhi</td>\n",
              "      <td>India</td>\n",
              "      <td>Asia</td>\n",
              "      <td>2021</td>\n",
              "      <td>$185M</td>\n",
              "      <td>Chiratae Ventures, SoftBank Group, Trifecta Ca...</td>\n",
              "      <td>December</td>\n",
              "      <td>2021</td>\n",
              "      <td>0</td>\n",
              "    </tr>\n",
              "    <tr>\n",
              "      <th>554</th>\n",
              "      <td>ClickHouse</td>\n",
              "      <td>$2B</td>\n",
              "      <td>2021-10-28</td>\n",
              "      <td>Data management &amp; analytics</td>\n",
              "      <td>Portola Valley</td>\n",
              "      <td>United States</td>\n",
              "      <td>North America</td>\n",
              "      <td>2021</td>\n",
              "      <td>$300M</td>\n",
              "      <td>Lightspeed Venture Partners, Almaz Capital Par...</td>\n",
              "      <td>October</td>\n",
              "      <td>2021</td>\n",
              "      <td>0</td>\n",
              "    </tr>\n",
              "    <tr>\n",
              "      <th>952</th>\n",
              "      <td>LayerZero Labs</td>\n",
              "      <td>$1B</td>\n",
              "      <td>2022-03-30</td>\n",
              "      <td>Internet software &amp; services</td>\n",
              "      <td>New York</td>\n",
              "      <td>United States</td>\n",
              "      <td>North America</td>\n",
              "      <td>2021</td>\n",
              "      <td>$143M</td>\n",
              "      <td>Andreessen Horowitz, FTX Ventures, Tiger Globa...</td>\n",
              "      <td>March</td>\n",
              "      <td>2022</td>\n",
              "      <td>1</td>\n",
              "    </tr>\n",
              "    <tr>\n",
              "      <th>314</th>\n",
              "      <td>Flink Food</td>\n",
              "      <td>$3B</td>\n",
              "      <td>2021-12-01</td>\n",
              "      <td>E-commerce &amp; direct-to-consumer</td>\n",
              "      <td>Berlin</td>\n",
              "      <td>Germany</td>\n",
              "      <td>Europe</td>\n",
              "      <td>2021</td>\n",
              "      <td>$1B</td>\n",
              "      <td>Mubadala Capital, Bond, Prosus Ventures</td>\n",
              "      <td>December</td>\n",
              "      <td>2021</td>\n",
              "      <td>0</td>\n",
              "    </tr>\n",
              "    <tr>\n",
              "      <th>864</th>\n",
              "      <td>Aptos</td>\n",
              "      <td>$1B</td>\n",
              "      <td>2022-03-15</td>\n",
              "      <td>Internet software &amp; services</td>\n",
              "      <td>Palo Alto</td>\n",
              "      <td>United States</td>\n",
              "      <td>North America</td>\n",
              "      <td>2021</td>\n",
              "      <td>$200M</td>\n",
              "      <td>Andreessen Horowitz, Coinbase Ventures, Tiger ...</td>\n",
              "      <td>March</td>\n",
              "      <td>2022</td>\n",
              "      <td>1</td>\n",
              "    </tr>\n",
              "    <tr>\n",
              "      <th>238</th>\n",
              "      <td>Yuga Labs</td>\n",
              "      <td>$4B</td>\n",
              "      <td>2022-03-22</td>\n",
              "      <td>Fintech</td>\n",
              "      <td>Miami</td>\n",
              "      <td>United States</td>\n",
              "      <td>North America</td>\n",
              "      <td>2021</td>\n",
              "      <td>$450M</td>\n",
              "      <td>Andreessen Horowitz, Thrive Capital, Sound Ven...</td>\n",
              "      <td>March</td>\n",
              "      <td>2022</td>\n",
              "      <td>1</td>\n",
              "    </tr>\n",
              "    <tr>\n",
              "      <th>775</th>\n",
              "      <td>Jokr</td>\n",
              "      <td>$1B</td>\n",
              "      <td>2021-12-02</td>\n",
              "      <td>E-commerce &amp; direct-to-consumer</td>\n",
              "      <td>New York</td>\n",
              "      <td>United States</td>\n",
              "      <td>North America</td>\n",
              "      <td>2021</td>\n",
              "      <td>$430M</td>\n",
              "      <td>GGV Capital, Tiger Global Management, Greycroft</td>\n",
              "      <td>December</td>\n",
              "      <td>2021</td>\n",
              "      <td>0</td>\n",
              "    </tr>\n",
              "    <tr>\n",
              "      <th>967</th>\n",
              "      <td>Mensa Brands</td>\n",
              "      <td>$1B</td>\n",
              "      <td>2021-11-16</td>\n",
              "      <td>Other</td>\n",
              "      <td>Bengaluru</td>\n",
              "      <td>India</td>\n",
              "      <td>Asia</td>\n",
              "      <td>2021</td>\n",
              "      <td>$218M</td>\n",
              "      <td>Accel, Falcon Edge Capital, Norwest Venture Pa...</td>\n",
              "      <td>November</td>\n",
              "      <td>2021</td>\n",
              "      <td>0</td>\n",
              "    </tr>\n",
              "  </tbody>\n",
              "</table>\n",
              "</div>"
            ],
            "text/plain": [
              "            Company Valuation Date Joined                         Industry  \\\n",
              "782         Phantom       $1B  2022-01-31                          Fintech   \n",
              "714    Yidian Zixun       $1B  2017-10-17      Mobile & telecommunications   \n",
              "822      GlobalBees       $1B  2021-12-28  E-commerce & direct-to-consumer   \n",
              "554      ClickHouse       $2B  2021-10-28      Data management & analytics   \n",
              "952  LayerZero Labs       $1B  2022-03-30     Internet software & services   \n",
              "314      Flink Food       $3B  2021-12-01  E-commerce & direct-to-consumer   \n",
              "864           Aptos       $1B  2022-03-15     Internet software & services   \n",
              "238       Yuga Labs       $4B  2022-03-22                          Fintech   \n",
              "775            Jokr       $1B  2021-12-02  E-commerce & direct-to-consumer   \n",
              "967    Mensa Brands       $1B  2021-11-16                            Other   \n",
              "\n",
              "               City Country/Region      Continent  Year Founded Funding  \\\n",
              "782   San Francisco  United States  North America          2021   $118M   \n",
              "714         Beijing          China           Asia          2021   $151M   \n",
              "822       New Delhi          India           Asia          2021   $185M   \n",
              "554  Portola Valley  United States  North America          2021   $300M   \n",
              "952        New York  United States  North America          2021   $143M   \n",
              "314          Berlin        Germany         Europe          2021     $1B   \n",
              "864       Palo Alto  United States  North America          2021   $200M   \n",
              "238           Miami  United States  North America          2021   $450M   \n",
              "775        New York  United States  North America          2021   $430M   \n",
              "967       Bengaluru          India           Asia          2021   $218M   \n",
              "\n",
              "                                      Select Investors Month Joined  \\\n",
              "782        Paradigm, Andreessen Horowitz, Jump Capital      January   \n",
              "714     Phoenix New Media, Tianjin Haihe Industry Fund      October   \n",
              "822  Chiratae Ventures, SoftBank Group, Trifecta Ca...     December   \n",
              "554  Lightspeed Venture Partners, Almaz Capital Par...      October   \n",
              "952  Andreessen Horowitz, FTX Ventures, Tiger Globa...        March   \n",
              "314            Mubadala Capital, Bond, Prosus Ventures     December   \n",
              "864  Andreessen Horowitz, Coinbase Ventures, Tiger ...        March   \n",
              "238  Andreessen Horowitz, Thrive Capital, Sound Ven...        March   \n",
              "775    GGV Capital, Tiger Global Management, Greycroft     December   \n",
              "967  Accel, Falcon Edge Capital, Norwest Venture Pa...     November   \n",
              "\n",
              "     Year Joined  Years to Join  \n",
              "782         2022              1  \n",
              "714         2017             -4  \n",
              "822         2021              0  \n",
              "554         2021              0  \n",
              "952         2022              1  \n",
              "314         2021              0  \n",
              "864         2022              1  \n",
              "238         2022              1  \n",
              "775         2021              0  \n",
              "967         2021              0  "
            ]
          },
          "execution_count": 13,
          "metadata": {},
          "output_type": "execute_result"
        }
      ],
      "source": [
        "# Determine how many years it took for companies to reach unicorn status.\n",
        "# Use the result to create a `Years To Join` column.\n",
        "\n",
        "df['Year Joined'] = df['Date Joined'].dt.year\n",
        "df['Years to Join'] = df['Year Joined'] - df['Year Founded']\n",
        "\n",
        "# Display the first few rows of `companies`\n",
        "# to confirm that the new column did get added.\n",
        "\n",
        "df.head(10)"
      ],
      "id": "9zK8Q7-v-Bx1"
    },
    {
      "cell_type": "markdown",
      "metadata": {
        "id": "ruKtgVdWCPxU",
        "jp-MarkdownHeadingCollapsed": true,
        "tags": []
      },
      "source": [
        "<details>\n",
        "  <summary><h4><strong>Hint 1</strong></h4></summary>\n",
        "\n",
        "Refer to [the content about extracting components from datetime objects in Python](https://www.coursera.org/learn/go-beyond-the-numbers-translate-data-into-insight/lecture/Vh13u/use-structuring-methods-to-establish-order-in-your-dataset).\n",
        "\n",
        "</details>"
      ],
      "id": "ruKtgVdWCPxU"
    },
    {
      "cell_type": "markdown",
      "metadata": {
        "id": "1BuXj5ClCPxW",
        "jp-MarkdownHeadingCollapsed": true,
        "tags": []
      },
      "source": [
        "<details>\n",
        "  <summary><h4><strong>Hint 2</strong></h4></summary>\n",
        "\n",
        "Use the property in the `pandas` library that contains datetime strings in order to extract the year components.\n",
        "\n",
        "Use the function in the `pandas` library that allows you to display the first few rows of a DataFrame.\n",
        "\n",
        "</details>"
      ],
      "id": "1BuXj5ClCPxW"
    },
    {
      "cell_type": "markdown",
      "metadata": {
        "id": "QOTFxOzDCPxY",
        "jp-MarkdownHeadingCollapsed": true,
        "tags": []
      },
      "source": [
        "<details>\n",
        "  <summary><h4><strong>Hint 3</strong></h4></summary>\n",
        "\n",
        "Use the `dt.year` property on the `Date Joined` column to obtain the years that companies became unicorns.\n",
        "\n",
        "Obtain the arithmetic difference elementwise between two series in `pandas` by using the subtraction operator.  \n",
        "\n",
        "Use a pair of square brackets to create a new column. Make sure to specify the name of the new column inside the brackets and assign the column to the result of calling the function mentioned previously.\n",
        "\n",
        "Use the `head()` function can to display the first few rows of a DataFrame.\n",
        "\n",
        "</details>"
      ],
      "id": "QOTFxOzDCPxY"
    },
    {
      "cell_type": "markdown",
      "metadata": {
        "id": "98YFM1o4-VQ_"
      },
      "source": [
        "**Question:** Which year would you like to gain more insight on with respect when companies attained unicorn status, and why?\n"
      ],
      "id": "98YFM1o4-VQ_"
    },
    {
      "cell_type": "code",
      "execution_count": null,
      "metadata": {
        "id": "2JJwqe9XzFt-",
        "outputId": "b3c76c32-26a9-4bff-dbf2-424b12f42013"
      },
      "outputs": [
        {
          "data": {
            "text/plain": [
              "2021    520\n",
              "2022    116\n",
              "2020    108\n",
              "2019    104\n",
              "2018    103\n",
              "2017     44\n",
              "2015     35\n",
              "2016     21\n",
              "2014     13\n",
              "2012      4\n",
              "2013      3\n",
              "2011      2\n",
              "2007      1\n",
              "Name: Year Joined, dtype: int64"
            ]
          },
          "execution_count": 14,
          "metadata": {},
          "output_type": "execute_result"
        }
      ],
      "source": [
        "df['Year Joined'].value_counts()"
      ],
      "id": "2JJwqe9XzFt-"
    },
    {
      "cell_type": "markdown",
      "metadata": {
        "id": "hRT_vGZhz-Ij"
      },
      "source": [
        "The year I would like to gain more insight into concerning when companies attained unicorn status is 2021, because is the year that most companies joined the list."
      ],
      "id": "hRT_vGZhz-Ij"
    },
    {
      "cell_type": "markdown",
      "metadata": {
        "id": "nx-WbHfLCdTd"
      },
      "source": [
        "### Gain more insight on a specific year\n",
        "\n",
        "To gain more insight on the year of that interests you, filter the dataset by that year and save the resulting subset into a new variable."
      ],
      "id": "nx-WbHfLCdTd"
    },
    {
      "cell_type": "code",
      "execution_count": null,
      "metadata": {
        "id": "5FnSS5fBEUY-",
        "outputId": "690b1f8d-9b9f-4368-bff9-5ed5924693a9"
      },
      "outputs": [
        {
          "data": {
            "text/html": [
              "<div>\n",
              "<style scoped>\n",
              "    .dataframe tbody tr th:only-of-type {\n",
              "        vertical-align: middle;\n",
              "    }\n",
              "\n",
              "    .dataframe tbody tr th {\n",
              "        vertical-align: top;\n",
              "    }\n",
              "\n",
              "    .dataframe thead th {\n",
              "        text-align: right;\n",
              "    }\n",
              "</style>\n",
              "<table border=\"1\" class=\"dataframe\">\n",
              "  <thead>\n",
              "    <tr style=\"text-align: right;\">\n",
              "      <th></th>\n",
              "      <th>Company</th>\n",
              "      <th>Valuation</th>\n",
              "      <th>Date Joined</th>\n",
              "      <th>Industry</th>\n",
              "      <th>City</th>\n",
              "      <th>Country/Region</th>\n",
              "      <th>Continent</th>\n",
              "      <th>Year Founded</th>\n",
              "      <th>Funding</th>\n",
              "      <th>Select Investors</th>\n",
              "      <th>Month Joined</th>\n",
              "      <th>Year Joined</th>\n",
              "      <th>Years to Join</th>\n",
              "    </tr>\n",
              "  </thead>\n",
              "  <tbody>\n",
              "    <tr>\n",
              "      <th>822</th>\n",
              "      <td>GlobalBees</td>\n",
              "      <td>$1B</td>\n",
              "      <td>2021-12-28</td>\n",
              "      <td>E-commerce &amp; direct-to-consumer</td>\n",
              "      <td>New Delhi</td>\n",
              "      <td>India</td>\n",
              "      <td>Asia</td>\n",
              "      <td>2021</td>\n",
              "      <td>$185M</td>\n",
              "      <td>Chiratae Ventures, SoftBank Group, Trifecta Ca...</td>\n",
              "      <td>December</td>\n",
              "      <td>2021</td>\n",
              "      <td>0</td>\n",
              "    </tr>\n",
              "    <tr>\n",
              "      <th>554</th>\n",
              "      <td>ClickHouse</td>\n",
              "      <td>$2B</td>\n",
              "      <td>2021-10-28</td>\n",
              "      <td>Data management &amp; analytics</td>\n",
              "      <td>Portola Valley</td>\n",
              "      <td>United States</td>\n",
              "      <td>North America</td>\n",
              "      <td>2021</td>\n",
              "      <td>$300M</td>\n",
              "      <td>Lightspeed Venture Partners, Almaz Capital Par...</td>\n",
              "      <td>October</td>\n",
              "      <td>2021</td>\n",
              "      <td>0</td>\n",
              "    </tr>\n",
              "    <tr>\n",
              "      <th>314</th>\n",
              "      <td>Flink Food</td>\n",
              "      <td>$3B</td>\n",
              "      <td>2021-12-01</td>\n",
              "      <td>E-commerce &amp; direct-to-consumer</td>\n",
              "      <td>Berlin</td>\n",
              "      <td>Germany</td>\n",
              "      <td>Europe</td>\n",
              "      <td>2021</td>\n",
              "      <td>$1B</td>\n",
              "      <td>Mubadala Capital, Bond, Prosus Ventures</td>\n",
              "      <td>December</td>\n",
              "      <td>2021</td>\n",
              "      <td>0</td>\n",
              "    </tr>\n",
              "    <tr>\n",
              "      <th>775</th>\n",
              "      <td>Jokr</td>\n",
              "      <td>$1B</td>\n",
              "      <td>2021-12-02</td>\n",
              "      <td>E-commerce &amp; direct-to-consumer</td>\n",
              "      <td>New York</td>\n",
              "      <td>United States</td>\n",
              "      <td>North America</td>\n",
              "      <td>2021</td>\n",
              "      <td>$430M</td>\n",
              "      <td>GGV Capital, Tiger Global Management, Greycroft</td>\n",
              "      <td>December</td>\n",
              "      <td>2021</td>\n",
              "      <td>0</td>\n",
              "    </tr>\n",
              "    <tr>\n",
              "      <th>967</th>\n",
              "      <td>Mensa Brands</td>\n",
              "      <td>$1B</td>\n",
              "      <td>2021-11-16</td>\n",
              "      <td>Other</td>\n",
              "      <td>Bengaluru</td>\n",
              "      <td>India</td>\n",
              "      <td>Asia</td>\n",
              "      <td>2021</td>\n",
              "      <td>$218M</td>\n",
              "      <td>Accel, Falcon Edge Capital, Norwest Venture Pa...</td>\n",
              "      <td>November</td>\n",
              "      <td>2021</td>\n",
              "      <td>0</td>\n",
              "    </tr>\n",
              "  </tbody>\n",
              "</table>\n",
              "</div>"
            ],
            "text/plain": [
              "          Company Valuation Date Joined                         Industry  \\\n",
              "822    GlobalBees       $1B  2021-12-28  E-commerce & direct-to-consumer   \n",
              "554    ClickHouse       $2B  2021-10-28      Data management & analytics   \n",
              "314    Flink Food       $3B  2021-12-01  E-commerce & direct-to-consumer   \n",
              "775          Jokr       $1B  2021-12-02  E-commerce & direct-to-consumer   \n",
              "967  Mensa Brands       $1B  2021-11-16                            Other   \n",
              "\n",
              "               City Country/Region      Continent  Year Founded Funding  \\\n",
              "822       New Delhi          India           Asia          2021   $185M   \n",
              "554  Portola Valley  United States  North America          2021   $300M   \n",
              "314          Berlin        Germany         Europe          2021     $1B   \n",
              "775        New York  United States  North America          2021   $430M   \n",
              "967       Bengaluru          India           Asia          2021   $218M   \n",
              "\n",
              "                                      Select Investors Month Joined  \\\n",
              "822  Chiratae Ventures, SoftBank Group, Trifecta Ca...     December   \n",
              "554  Lightspeed Venture Partners, Almaz Capital Par...      October   \n",
              "314            Mubadala Capital, Bond, Prosus Ventures     December   \n",
              "775    GGV Capital, Tiger Global Management, Greycroft     December   \n",
              "967  Accel, Falcon Edge Capital, Norwest Venture Pa...     November   \n",
              "\n",
              "     Year Joined  Years to Join  \n",
              "822         2021              0  \n",
              "554         2021              0  \n",
              "314         2021              0  \n",
              "775         2021              0  \n",
              "967         2021              0  "
            ]
          },
          "execution_count": 15,
          "metadata": {},
          "output_type": "execute_result"
        }
      ],
      "source": [
        "# Filter dataset by a year of your interest (in terms of when companies reached unicorn status).\n",
        "# Save the resulting subset in a new variable.\n",
        "\n",
        "df_2021 = df[df['Year Joined'] == 2021]\n",
        "\n",
        "\n",
        "# Display the first few rows of the subset to confirm that it was created.\n",
        "\n",
        "df_2021.head()"
      ],
      "id": "5FnSS5fBEUY-"
    },
    {
      "cell_type": "markdown",
      "metadata": {
        "id": "9SSCM6ZLHcKA",
        "jp-MarkdownHeadingCollapsed": true,
        "tags": []
      },
      "source": [
        "<details>\n",
        "  <summary><h4><strong>Hint 1</strong></h4></summary>\n",
        "\n",
        "Refer to [the content about structuring data in Python](https://www.coursera.org/learn/go-beyond-the-numbers-translate-data-into-insight/lecture/Vh13u/use-structuring-methods-to-establish-order-in-your-dataset).\n",
        "\n",
        "</details>"
      ],
      "id": "9SSCM6ZLHcKA"
    },
    {
      "cell_type": "markdown",
      "metadata": {
        "id": "UmyyfKj3HcKC",
        "jp-MarkdownHeadingCollapsed": true,
        "tags": []
      },
      "source": [
        "<details>\n",
        "  <summary><h4><strong>Hint 2</strong></h4></summary>\n",
        "\n",
        "Use the property in the `pandas` library that contains datetime strings in order to extract the year components.\n",
        "\n",
        "Use square brackets to filter a DataFrame in order get a subset of the data. Make sure to specify an appropriate condition inside those brackets. The condition should convey which year you want to filter by. The rows that meet the condition are the rows that will be selected.\n",
        "\n",
        "Use the function in the `pandas` library that allows you to display the first few rows of a DataFrame.\n",
        "\n",
        "</details>"
      ],
      "id": "UmyyfKj3HcKC"
    },
    {
      "cell_type": "markdown",
      "metadata": {
        "id": "3NylFsIDHcKD",
        "jp-MarkdownHeadingCollapsed": true,
        "tags": []
      },
      "source": [
        "<details>\n",
        "  <summary><h4><strong>Hint 3</strong></h4></summary>\n",
        "\n",
        "Use the `dt.year` property on the `Date Joined` column to obtain the years that companies became unicorns.\n",
        "\n",
        "Make sure to create a new variable and assign it to the subset.\n",
        "\n",
        "Use the `head()` function to display the first few rows of a DataFrame.\n",
        "\n",
        "</details>"
      ],
      "id": "3NylFsIDHcKD"
    },
    {
      "cell_type": "markdown",
      "metadata": {
        "id": "xP7aPBulLnRA"
      },
      "source": [
        "**Question:** Using a time interval, how could you observe trends in the companies that became unicorns in one year?\n"
      ],
      "id": "xP7aPBulLnRA"
    },
    {
      "cell_type": "markdown",
      "metadata": {
        "id": "1LDyIGmtz_Tc"
      },
      "source": [
        "I would analyze the trend by the week number of the year because it is a good level of granularity to gain insights related to the exact date that a company became unicorn."
      ],
      "id": "1LDyIGmtz_Tc"
    },
    {
      "cell_type": "markdown",
      "metadata": {
        "id": "xMeC4PjILkAP"
      },
      "source": [
        "### Observe trends over time\n",
        "\n",
        "Implement the structuring approach that you have identified to observe trends over time in the companies that became unicorns for the year that interests you."
      ],
      "id": "xMeC4PjILkAP"
    },
    {
      "cell_type": "code",
      "execution_count": null,
      "metadata": {
        "id": "RTPw3cRqPUI3",
        "outputId": "274d20c1-e2fb-4503-abb8-8043d3aa8cf2"
      },
      "outputs": [
        {
          "data": {
            "text/html": [
              "<div>\n",
              "<style scoped>\n",
              "    .dataframe tbody tr th:only-of-type {\n",
              "        vertical-align: middle;\n",
              "    }\n",
              "\n",
              "    .dataframe tbody tr th {\n",
              "        vertical-align: top;\n",
              "    }\n",
              "\n",
              "    .dataframe thead th {\n",
              "        text-align: right;\n",
              "    }\n",
              "</style>\n",
              "<table border=\"1\" class=\"dataframe\">\n",
              "  <thead>\n",
              "    <tr style=\"text-align: right;\">\n",
              "      <th></th>\n",
              "      <th>Week Joined</th>\n",
              "      <th>Company</th>\n",
              "    </tr>\n",
              "  </thead>\n",
              "  <tbody>\n",
              "    <tr>\n",
              "      <th>0</th>\n",
              "      <td>2021-W01</td>\n",
              "      <td>12</td>\n",
              "    </tr>\n",
              "    <tr>\n",
              "      <th>1</th>\n",
              "      <td>2021-W02</td>\n",
              "      <td>9</td>\n",
              "    </tr>\n",
              "    <tr>\n",
              "      <th>2</th>\n",
              "      <td>2021-W03</td>\n",
              "      <td>5</td>\n",
              "    </tr>\n",
              "    <tr>\n",
              "      <th>3</th>\n",
              "      <td>2021-W04</td>\n",
              "      <td>8</td>\n",
              "    </tr>\n",
              "    <tr>\n",
              "      <th>4</th>\n",
              "      <td>2021-W05</td>\n",
              "      <td>4</td>\n",
              "    </tr>\n",
              "  </tbody>\n",
              "</table>\n",
              "</div>"
            ],
            "text/plain": [
              "  Week Joined  Company\n",
              "0    2021-W01       12\n",
              "1    2021-W02        9\n",
              "2    2021-W03        5\n",
              "3    2021-W04        8\n",
              "4    2021-W05        4"
            ]
          },
          "execution_count": 16,
          "metadata": {},
          "output_type": "execute_result"
        }
      ],
      "source": [
        "# After identifying the time interval that interests you, proceed with the following:\n",
        "# Step 1. Take the subset that you defined for the year of interest.\n",
        "#         Insert a column that contains the time interval that each data point belongs to, as needed.\n",
        "# Step 2. Group by the time interval.\n",
        "#         Aggregate by counting companies that joined per interval of that year.\n",
        "#         Save the resulting DataFrame in a new variable.\n",
        "\n",
        "df_2021['Week Joined'] = df_2021['Date Joined'].dt.strftime('%Y-W%V')\n",
        "df_2021_grouped = df_2021.groupby(by='Week Joined')['Company'].count().reset_index()\n",
        "\n",
        "# Display the first few rows of the new DataFrame to confirm that it was created\n",
        "\n",
        "df_2021_grouped.head()"
      ],
      "id": "RTPw3cRqPUI3"
    },
    {
      "cell_type": "markdown",
      "metadata": {
        "id": "y4o-jE96cL5r",
        "jp-MarkdownHeadingCollapsed": true,
        "tags": []
      },
      "source": [
        "<details>\n",
        "  <summary><h4><strong>Hint 1</strong></h4></summary>\n",
        "\n",
        "Refer to [the content about structuring data in Python](https://www.coursera.org/learn/go-beyond-the-numbers-translate-data-into-insight/lecture/Vh13u/use-structuring-methods-to-establish-order-in-your-dataset).\n",
        "\n",
        "</details>"
      ],
      "id": "y4o-jE96cL5r"
    },
    {
      "cell_type": "markdown",
      "metadata": {
        "id": "KpYfJ_etcL5t",
        "jp-MarkdownHeadingCollapsed": true,
        "tags": []
      },
      "source": [
        "<details>\n",
        "  <summary><h4><strong>Hint 2</strong></h4></summary>\n",
        "\n",
        "To obtain the data in a specific periodic datetime format, call a function in the `pandas` library on a series that contains datetime strings.   \n",
        "\n",
        "Keep in mind that currently, the `Valuation` column is of data type `object` and contains `$` and `B` to indicate that each amount is in billions of dollars.\n",
        "\n",
        "Call functions in the `pandas` library to achieve the following tasks:\n",
        "  - Apply a function to each value in the series.\n",
        "  - Cast each value in the series to a specified data type.\n",
        "\n",
        "Use a pair of square brackets to access a particular column from the result of grouping a DataFrame.\n",
        "\n",
        "Use these functions in the `pandas` library to achieve the following tasks:\n",
        "- Concatenate two DataFrames together\n",
        "- Drop columns that you do not need from a DataFrame\n",
        "- Group a DataFrame by a specific column\n",
        "- Compute the average value for each group\n",
        "- Reset the index so that the column that you grouped on also appears as a column after the grouping (instead of remaining an index)\n",
        "- Rename columns in a DataFrame\n",
        "- Display the first few rows of a DataFrame\n",
        "\n",
        "</details>"
      ],
      "id": "KpYfJ_etcL5t"
    },
    {
      "cell_type": "markdown",
      "metadata": {
        "id": "fO62guTzcL5v",
        "jp-MarkdownHeadingCollapsed": true,
        "tags": []
      },
      "source": [
        "<details>\n",
        "  <summary><h4><strong>Hint 3</strong></h4></summary>\n",
        "\n",
        "Use `dt.strftime('%Y-W%V')` on the `Date Joined` column to obtain the weeks that companies became unicorns.\n",
        "\n",
        "Use these functions in `pandas` to acheive the following tasks:\n",
        "- `groupby()` to group a DataFrame by a specific column\n",
        "- `count()` to count the number of rows that belong to each group\n",
        "- `reset_index()` to reset the index so that the column that you grouped on also appears as a column after the grouping (instead of remaining an index)\n",
        "- `rename()` to rename the columns in a DataFrame\n",
        "- `head()` to display the first few rows of a DataFrame\n",
        "\n",
        "</details>"
      ],
      "id": "fO62guTzcL5v"
    },
    {
      "cell_type": "markdown",
      "metadata": {
        "id": "vAPjV24TA7lA"
      },
      "source": [
        "**Question:** How would you structure the data to observe trends in the average valuation of companies from 2020 to 2021?  "
      ],
      "id": "vAPjV24TA7lA"
    },
    {
      "cell_type": "markdown",
      "metadata": {
        "id": "T5-Kc-zr0AzU"
      },
      "source": [
        "I would use the same approach that I used before, but add a new column with the average valuation of those counted companies by week, and concatenate 2020 with 2021 in one dataset."
      ],
      "id": "T5-Kc-zr0AzU"
    },
    {
      "cell_type": "markdown",
      "metadata": {
        "id": "5vGITCLaA7lC"
      },
      "source": [
        "### Compare trends over time\n",
        "\n",
        "Implement the structuring approach that you have identified in order to compare trends over time in the average valuation of companies that became unicorns in the year you selected above and in another year of your choice. Keep in mind the data type of the `Valuation` column and what the values in that column contain currently."
      ],
      "id": "5vGITCLaA7lC"
    },
    {
      "cell_type": "code",
      "execution_count": null,
      "metadata": {
        "id": "BHwNFkz7zFt_",
        "outputId": "97df9538-0245-4cbc-a656-72c7ea961b7d"
      },
      "outputs": [
        {
          "data": {
            "text/html": [
              "<div>\n",
              "<style scoped>\n",
              "    .dataframe tbody tr th:only-of-type {\n",
              "        vertical-align: middle;\n",
              "    }\n",
              "\n",
              "    .dataframe tbody tr th {\n",
              "        vertical-align: top;\n",
              "    }\n",
              "\n",
              "    .dataframe thead th {\n",
              "        text-align: right;\n",
              "    }\n",
              "</style>\n",
              "<table border=\"1\" class=\"dataframe\">\n",
              "  <thead>\n",
              "    <tr style=\"text-align: right;\">\n",
              "      <th></th>\n",
              "      <th>Company</th>\n",
              "      <th>Valuation</th>\n",
              "      <th>Date Joined</th>\n",
              "      <th>Industry</th>\n",
              "      <th>City</th>\n",
              "      <th>Country/Region</th>\n",
              "      <th>Continent</th>\n",
              "      <th>Year Founded</th>\n",
              "      <th>Funding</th>\n",
              "      <th>Select Investors</th>\n",
              "      <th>Month Joined</th>\n",
              "      <th>Year Joined</th>\n",
              "      <th>Years to Join</th>\n",
              "    </tr>\n",
              "  </thead>\n",
              "  <tbody>\n",
              "    <tr>\n",
              "      <th>1001</th>\n",
              "      <td>Playco</td>\n",
              "      <td>$1B</td>\n",
              "      <td>2020-09-21</td>\n",
              "      <td>Other</td>\n",
              "      <td>Tokyo</td>\n",
              "      <td>Japan</td>\n",
              "      <td>Asia</td>\n",
              "      <td>2020</td>\n",
              "      <td>$140M</td>\n",
              "      <td>Sozo Ventures, Caffeinated Capital, Sequoia Ca...</td>\n",
              "      <td>September</td>\n",
              "      <td>2020</td>\n",
              "      <td>0</td>\n",
              "    </tr>\n",
              "    <tr>\n",
              "      <th>78</th>\n",
              "      <td>Hopin</td>\n",
              "      <td>$8B</td>\n",
              "      <td>2020-11-10</td>\n",
              "      <td>Internet software &amp; services</td>\n",
              "      <td>London</td>\n",
              "      <td>United Kingdom</td>\n",
              "      <td>Europe</td>\n",
              "      <td>2019</td>\n",
              "      <td>$1B</td>\n",
              "      <td>Accel, Northzone Ventures, Institutional Ventu...</td>\n",
              "      <td>November</td>\n",
              "      <td>2020</td>\n",
              "      <td>1</td>\n",
              "    </tr>\n",
              "    <tr>\n",
              "      <th>468</th>\n",
              "      <td>Biren Technology</td>\n",
              "      <td>$2B</td>\n",
              "      <td>2020-08-18</td>\n",
              "      <td>Hardware</td>\n",
              "      <td>Shanghai</td>\n",
              "      <td>China</td>\n",
              "      <td>Asia</td>\n",
              "      <td>2019</td>\n",
              "      <td>$285M</td>\n",
              "      <td>V FUND, IDG Capital, Green Pine Capital Partners</td>\n",
              "      <td>August</td>\n",
              "      <td>2020</td>\n",
              "      <td>1</td>\n",
              "    </tr>\n",
              "    <tr>\n",
              "      <th>105</th>\n",
              "      <td>SVOLT</td>\n",
              "      <td>$6B</td>\n",
              "      <td>2020-06-08</td>\n",
              "      <td>Auto &amp; transportation</td>\n",
              "      <td>Changzhou</td>\n",
              "      <td>China</td>\n",
              "      <td>Asia</td>\n",
              "      <td>2018</td>\n",
              "      <td>$3B</td>\n",
              "      <td>IDG Capital, Bank Of China Group Investment,, ...</td>\n",
              "      <td>June</td>\n",
              "      <td>2020</td>\n",
              "      <td>2</td>\n",
              "    </tr>\n",
              "    <tr>\n",
              "      <th>125</th>\n",
              "      <td>Better.com</td>\n",
              "      <td>$6B</td>\n",
              "      <td>2020-11-10</td>\n",
              "      <td>Fintech</td>\n",
              "      <td>New York</td>\n",
              "      <td>United States</td>\n",
              "      <td>North America</td>\n",
              "      <td>2018</td>\n",
              "      <td>$405M</td>\n",
              "      <td>Pine Brook, American Express Ventures, Kleiner...</td>\n",
              "      <td>November</td>\n",
              "      <td>2020</td>\n",
              "      <td>2</td>\n",
              "    </tr>\n",
              "  </tbody>\n",
              "</table>\n",
              "</div>"
            ],
            "text/plain": [
              "               Company Valuation Date Joined                      Industry  \\\n",
              "1001            Playco       $1B  2020-09-21                         Other   \n",
              "78               Hopin       $8B  2020-11-10  Internet software & services   \n",
              "468   Biren Technology       $2B  2020-08-18                      Hardware   \n",
              "105              SVOLT       $6B  2020-06-08         Auto & transportation   \n",
              "125         Better.com       $6B  2020-11-10                       Fintech   \n",
              "\n",
              "           City  Country/Region      Continent  Year Founded Funding  \\\n",
              "1001      Tokyo           Japan           Asia          2020   $140M   \n",
              "78       London  United Kingdom         Europe          2019     $1B   \n",
              "468    Shanghai           China           Asia          2019   $285M   \n",
              "105   Changzhou           China           Asia          2018     $3B   \n",
              "125    New York   United States  North America          2018   $405M   \n",
              "\n",
              "                                       Select Investors Month Joined  \\\n",
              "1001  Sozo Ventures, Caffeinated Capital, Sequoia Ca...    September   \n",
              "78    Accel, Northzone Ventures, Institutional Ventu...     November   \n",
              "468    V FUND, IDG Capital, Green Pine Capital Partners       August   \n",
              "105   IDG Capital, Bank Of China Group Investment,, ...         June   \n",
              "125   Pine Brook, American Express Ventures, Kleiner...     November   \n",
              "\n",
              "      Year Joined  Years to Join  \n",
              "1001         2020              0  \n",
              "78           2020              1  \n",
              "468          2020              1  \n",
              "105          2020              2  \n",
              "125          2020              2  "
            ]
          },
          "execution_count": 17,
          "metadata": {},
          "output_type": "execute_result"
        }
      ],
      "source": [
        "# Step 1. Filter by the additional year to create a subset that consists of companies that joined in that year.\n",
        "df_2020 = df[df['Year Joined'] == 2020]\n",
        "df_2021 = df[df['Year Joined'] == 2021]\n",
        "\n",
        "# Step 2. Concatenate that new subset with the subset that you defined previously.\n",
        "df_2020_21 = pd.concat([df_2020, df_2021])\n",
        "df_2020_21.head()"
      ],
      "id": "BHwNFkz7zFt_"
    },
    {
      "cell_type": "code",
      "execution_count": null,
      "metadata": {
        "id": "pQ3sXSbaA7lD",
        "outputId": "e8744abc-bda5-4666-af2f-8c7f6abf30d2"
      },
      "outputs": [
        {
          "data": {
            "text/html": [
              "<div>\n",
              "<style scoped>\n",
              "    .dataframe tbody tr th:only-of-type {\n",
              "        vertical-align: middle;\n",
              "    }\n",
              "\n",
              "    .dataframe tbody tr th {\n",
              "        vertical-align: top;\n",
              "    }\n",
              "\n",
              "    .dataframe thead th {\n",
              "        text-align: right;\n",
              "    }\n",
              "</style>\n",
              "<table border=\"1\" class=\"dataframe\">\n",
              "  <thead>\n",
              "    <tr style=\"text-align: right;\">\n",
              "      <th></th>\n",
              "      <th>Week Joined</th>\n",
              "      <th>Companies</th>\n",
              "      <th>Average Valuation in Billions</th>\n",
              "    </tr>\n",
              "  </thead>\n",
              "  <tbody>\n",
              "    <tr>\n",
              "      <th>0</th>\n",
              "      <td>2020-W01</td>\n",
              "      <td>1</td>\n",
              "      <td>3.000000</td>\n",
              "    </tr>\n",
              "    <tr>\n",
              "      <th>1</th>\n",
              "      <td>2020-W02</td>\n",
              "      <td>2</td>\n",
              "      <td>2.000000</td>\n",
              "    </tr>\n",
              "    <tr>\n",
              "      <th>2</th>\n",
              "      <td>2020-W04</td>\n",
              "      <td>4</td>\n",
              "      <td>5.250000</td>\n",
              "    </tr>\n",
              "    <tr>\n",
              "      <th>3</th>\n",
              "      <td>2020-W05</td>\n",
              "      <td>3</td>\n",
              "      <td>1.333333</td>\n",
              "    </tr>\n",
              "    <tr>\n",
              "      <th>4</th>\n",
              "      <td>2020-W06</td>\n",
              "      <td>1</td>\n",
              "      <td>2.000000</td>\n",
              "    </tr>\n",
              "  </tbody>\n",
              "</table>\n",
              "</div>"
            ],
            "text/plain": [
              "  Week Joined  Companies  Average Valuation in Billions\n",
              "0    2020-W01          1                       3.000000\n",
              "1    2020-W02          2                       2.000000\n",
              "2    2020-W04          4                       5.250000\n",
              "3    2020-W05          3                       1.333333\n",
              "4    2020-W06          1                       2.000000"
            ]
          },
          "execution_count": 18,
          "metadata": {},
          "output_type": "execute_result"
        }
      ],
      "source": [
        "# After identifying the additional year and time interval of interest, proceed with the following:\n",
        "# Step 1. Filter by the additional year to create a subset that consists of companies that joined in that year.\n",
        "# Step 2. Concatenate that new subset with the subset that you defined previously.\n",
        "# Step 3. As needed, add a column that contains the time interval that each data point belongs to,\n",
        "#         in the concatenated DataFrame.\n",
        "# Step 4. Transform the `Valuation` column as needed.\n",
        "# Step 5. Group by the time interval.\n",
        "#         Aggregate by computing average valuation of companies that joined per interval of the corresponding year.\n",
        "#         Save the resulting DataFrame in a new variable.\n",
        "\n",
        "# Step 1. Filter by the additional year to create a subset that consists of companies that joined in that year.\n",
        "df_2020 = df[df['Year Joined'] == 2020]\n",
        "df_2021 = df[df['Year Joined'] == 2021]\n",
        "\n",
        "# Step 2. Concatenate that new subset with the subset that you defined previously.\n",
        "df_2020_21 = pd.concat([df_2020, df_2021])\n",
        "df_2020_21.head()\n",
        "\n",
        "# Step 3. As needed, add a column that contains the time interval that each data point belongs to,\n",
        "#         in the concatenated DataFrame.\n",
        "df_2020_21['Week Joined'] = df_2020_21['Date Joined'].dt.strftime('%Y-W%V')\n",
        "\n",
        "# Step 4. Transform the `Valuation` column as needed.\n",
        "df_2020_21['Valuation Dollar'] = df_2020_21['Valuation'].str.replace(\"$\", \" \")\n",
        "df_2020_21['Valuation Dollar'] = df_2020_21['Valuation Dollar'].str.replace(\"B\", \" \")\n",
        "df_2020_21['Valuation Dollar'] = df_2020_21['Valuation Dollar'].astype('int')\n",
        "\n",
        "# Step 5. Group by the time interval.\n",
        "#         Aggregate by computing average valuation of companies that joined per interval of the corresponding year.\n",
        "#         Save the resulting DataFrame in a new variable.\n",
        "df_2020_21_grouped = df_2020_21.groupby(by='Week Joined').agg({'Company': 'count', 'Valuation Dollar': 'mean'}).reset_index()\n",
        "df_2020_21_grouped  = df_2020_21_grouped.rename(columns={'Company': 'Companies', 'Valuation Dollar': 'Average Valuation in Billions'})\n",
        "df_2020_21_grouped.head()"
      ],
      "id": "pQ3sXSbaA7lD"
    },
    {
      "cell_type": "markdown",
      "metadata": {
        "id": "CJoxASljNvH6",
        "jp-MarkdownHeadingCollapsed": true,
        "tags": []
      },
      "source": [
        "\n",
        "<details>\n",
        "  <summary><h4><strong>Hint 1</strong></h4></summary>\n",
        "\n",
        "Refer to [the content about manipulating data in Python](https://www.coursera.org/learn/go-beyond-the-numbers-translate-data-into-insight/lecture/0GjvK/date-string-manipulations-with-python).\n",
        "\n",
        "</details>\n"
      ],
      "id": "CJoxASljNvH6"
    },
    {
      "cell_type": "markdown",
      "metadata": {
        "id": "qoXGc_naNvH8",
        "jp-MarkdownHeadingCollapsed": true,
        "tags": []
      },
      "source": [
        "<details>\n",
        "  <summary><h4><strong>Hint 2</strong></h4></summary>\n",
        "\n",
        "To obtain the data in a specific periodic datetime format, call a function in the `pandas` library on a series that contains datetime strings.   \n",
        "\n",
        "Keep in mind that currently, the `Valuation` column is of data type `object` and contains `$` and `B` to indicate that each amount is in billions of dollars.\n",
        "\n",
        "Call functions in the `pandas` library on a series to acheive the following tasks:\n",
        "  - Apply a function to each value in the series.\n",
        "  - Cast each value in the series to a specified data type.\n",
        "\n",
        "Use a pair of square brackets to access a particular column from the result of grouping a DataFrame.\n",
        "\n",
        "These functions in the `pandas` library can help achieve the following tasks:\n",
        "- Concatenate two DataFrames together\n",
        "- Drop columns that you do not need from a DataFrame\n",
        "- Group a DataFrame by a specific column\n",
        "- Compute the average value for each group\n",
        "- Reset the index so that the column that you grouped on also appears as a column after the grouping (instead of remaining an index)\n",
        "- Rename columns in a DataFrame\n",
        "- Display the first few rows of a DataFrame\n",
        "\n",
        "</details>"
      ],
      "id": "qoXGc_naNvH8"
    },
    {
      "cell_type": "markdown",
      "metadata": {
        "id": "jRVnh5ZFNvH-",
        "jp-MarkdownHeadingCollapsed": true,
        "tags": []
      },
      "source": [
        "<details>\n",
        "  <summary><h4><strong>Hint 3</strong></h4></summary>\n",
        "\n",
        "Use `.dt.to_period('Q').dt.strftime('%Y-Q%q')` on the `Date Joined` column to obtain the quarters during which companies became unicorns.\n",
        "\n",
        "Convert the `Valuation` column to numeric by removing `$` and `B` and casting each value to data type `float`.\n",
        "\n",
        "Use the following functions in `pandas` to acheive the following tasks:\n",
        "- `concat` to concatenate two DataFrames together (note: this function takes in a list of DataFrames and returns a DataFrame that contains all rows from both inputs)\n",
        "- `drop()` to drop columns that you do not need from a DataFrame\n",
        "- `groupby()` to group a DataFrame by a specific column\n",
        "- `mean()` to compute the average value for each group\n",
        "- `reset_index()` to reset the index so that the column that you grouped on also appears as a column after the grouping (instead of remaining an index)\n",
        "- `rename()` to rename the columns in a DataFrame\n",
        "- `head()` to display the first few rows of a DataFrame\n",
        "\n",
        "</details>"
      ],
      "id": "jRVnh5ZFNvH-"
    },
    {
      "cell_type": "markdown",
      "metadata": {
        "id": "w_HtFyHrXVAc"
      },
      "source": [
        "## Step 3: Time-to-unicorn visualization\n",
        "\n",
        "### Visualize the time it took companies to become unicorns\n",
        "\n",
        "Using the `companies` dataset, create a box plot to visualize the distribution of how long it took companies to become unicorns, with respect to the month they joined."
      ],
      "id": "w_HtFyHrXVAc"
    },
    {
      "cell_type": "code",
      "execution_count": null,
      "metadata": {
        "id": "4GT0qtPUIlzD",
        "scrolled": true,
        "outputId": "22150c82-17cd-487a-f4c0-a34696f16d4b"
      },
      "outputs": [
        {
          "name": "stdout",
          "output_type": "stream",
          "text": [
            "['January', 'February', 'March', 'April', 'May', 'June', 'July', 'August', 'September', 'October', 'November', 'December']\n"
          ]
        }
      ],
      "source": [
        "# Define a list that contains months in chronological order.\n",
        "\n",
        "months_order = ['January', 'February', 'March', 'April', 'May', 'June', 'July', 'August', 'September', 'October', 'November', 'December']\n",
        "\n",
        "# Print out the list to confirm it is correct.\n",
        "\n",
        "print(months_order)"
      ],
      "id": "4GT0qtPUIlzD"
    },
    {
      "cell_type": "code",
      "execution_count": null,
      "metadata": {
        "id": "h8qFCYSqzFuA",
        "outputId": "5a23b96b-2a77-4b2a-d162-c0c809e39a1e"
      },
      "outputs": [
        {
          "data": {
            "text/html": [
              "<div>\n",
              "<style scoped>\n",
              "    .dataframe tbody tr th:only-of-type {\n",
              "        vertical-align: middle;\n",
              "    }\n",
              "\n",
              "    .dataframe tbody tr th {\n",
              "        vertical-align: top;\n",
              "    }\n",
              "\n",
              "    .dataframe thead th {\n",
              "        text-align: right;\n",
              "    }\n",
              "</style>\n",
              "<table border=\"1\" class=\"dataframe\">\n",
              "  <thead>\n",
              "    <tr style=\"text-align: right;\">\n",
              "      <th></th>\n",
              "      <th>Company</th>\n",
              "      <th>Valuation</th>\n",
              "      <th>Date Joined</th>\n",
              "      <th>Industry</th>\n",
              "      <th>City</th>\n",
              "      <th>Country/Region</th>\n",
              "      <th>Continent</th>\n",
              "      <th>Year Founded</th>\n",
              "      <th>Funding</th>\n",
              "      <th>Select Investors</th>\n",
              "      <th>Month Joined</th>\n",
              "      <th>Year Joined</th>\n",
              "      <th>Years to Join</th>\n",
              "    </tr>\n",
              "  </thead>\n",
              "  <tbody>\n",
              "    <tr>\n",
              "      <th>782</th>\n",
              "      <td>Phantom</td>\n",
              "      <td>$1B</td>\n",
              "      <td>2022-01-31</td>\n",
              "      <td>Fintech</td>\n",
              "      <td>San Francisco</td>\n",
              "      <td>United States</td>\n",
              "      <td>North America</td>\n",
              "      <td>2021</td>\n",
              "      <td>$118M</td>\n",
              "      <td>Paradigm, Andreessen Horowitz, Jump Capital</td>\n",
              "      <td>January</td>\n",
              "      <td>2022</td>\n",
              "      <td>1</td>\n",
              "    </tr>\n",
              "    <tr>\n",
              "      <th>714</th>\n",
              "      <td>Yidian Zixun</td>\n",
              "      <td>$1B</td>\n",
              "      <td>2017-10-17</td>\n",
              "      <td>Mobile &amp; telecommunications</td>\n",
              "      <td>Beijing</td>\n",
              "      <td>China</td>\n",
              "      <td>Asia</td>\n",
              "      <td>2021</td>\n",
              "      <td>$151M</td>\n",
              "      <td>Phoenix New Media, Tianjin Haihe Industry Fund</td>\n",
              "      <td>October</td>\n",
              "      <td>2017</td>\n",
              "      <td>-4</td>\n",
              "    </tr>\n",
              "    <tr>\n",
              "      <th>822</th>\n",
              "      <td>GlobalBees</td>\n",
              "      <td>$1B</td>\n",
              "      <td>2021-12-28</td>\n",
              "      <td>E-commerce &amp; direct-to-consumer</td>\n",
              "      <td>New Delhi</td>\n",
              "      <td>India</td>\n",
              "      <td>Asia</td>\n",
              "      <td>2021</td>\n",
              "      <td>$185M</td>\n",
              "      <td>Chiratae Ventures, SoftBank Group, Trifecta Ca...</td>\n",
              "      <td>December</td>\n",
              "      <td>2021</td>\n",
              "      <td>0</td>\n",
              "    </tr>\n",
              "    <tr>\n",
              "      <th>554</th>\n",
              "      <td>ClickHouse</td>\n",
              "      <td>$2B</td>\n",
              "      <td>2021-10-28</td>\n",
              "      <td>Data management &amp; analytics</td>\n",
              "      <td>Portola Valley</td>\n",
              "      <td>United States</td>\n",
              "      <td>North America</td>\n",
              "      <td>2021</td>\n",
              "      <td>$300M</td>\n",
              "      <td>Lightspeed Venture Partners, Almaz Capital Par...</td>\n",
              "      <td>October</td>\n",
              "      <td>2021</td>\n",
              "      <td>0</td>\n",
              "    </tr>\n",
              "    <tr>\n",
              "      <th>952</th>\n",
              "      <td>LayerZero Labs</td>\n",
              "      <td>$1B</td>\n",
              "      <td>2022-03-30</td>\n",
              "      <td>Internet software &amp; services</td>\n",
              "      <td>New York</td>\n",
              "      <td>United States</td>\n",
              "      <td>North America</td>\n",
              "      <td>2021</td>\n",
              "      <td>$143M</td>\n",
              "      <td>Andreessen Horowitz, FTX Ventures, Tiger Globa...</td>\n",
              "      <td>March</td>\n",
              "      <td>2022</td>\n",
              "      <td>1</td>\n",
              "    </tr>\n",
              "  </tbody>\n",
              "</table>\n",
              "</div>"
            ],
            "text/plain": [
              "            Company Valuation Date Joined                         Industry  \\\n",
              "782         Phantom       $1B  2022-01-31                          Fintech   \n",
              "714    Yidian Zixun       $1B  2017-10-17      Mobile & telecommunications   \n",
              "822      GlobalBees       $1B  2021-12-28  E-commerce & direct-to-consumer   \n",
              "554      ClickHouse       $2B  2021-10-28      Data management & analytics   \n",
              "952  LayerZero Labs       $1B  2022-03-30     Internet software & services   \n",
              "\n",
              "               City Country/Region      Continent  Year Founded Funding  \\\n",
              "782   San Francisco  United States  North America          2021   $118M   \n",
              "714         Beijing          China           Asia          2021   $151M   \n",
              "822       New Delhi          India           Asia          2021   $185M   \n",
              "554  Portola Valley  United States  North America          2021   $300M   \n",
              "952        New York  United States  North America          2021   $143M   \n",
              "\n",
              "                                      Select Investors Month Joined  \\\n",
              "782        Paradigm, Andreessen Horowitz, Jump Capital      January   \n",
              "714     Phoenix New Media, Tianjin Haihe Industry Fund      October   \n",
              "822  Chiratae Ventures, SoftBank Group, Trifecta Ca...     December   \n",
              "554  Lightspeed Venture Partners, Almaz Capital Par...      October   \n",
              "952  Andreessen Horowitz, FTX Ventures, Tiger Globa...        March   \n",
              "\n",
              "     Year Joined  Years to Join  \n",
              "782         2022              1  \n",
              "714         2017             -4  \n",
              "822         2021              0  \n",
              "554         2021              0  \n",
              "952         2022              1  "
            ]
          },
          "execution_count": 20,
          "metadata": {},
          "output_type": "execute_result"
        }
      ],
      "source": [
        "df.head()"
      ],
      "id": "h8qFCYSqzFuA"
    },
    {
      "cell_type": "code",
      "execution_count": null,
      "metadata": {
        "id": "7V-NPXUCIhCT",
        "outputId": "10903510-d70e-410e-fbe5-a71c25392c9b"
      },
      "outputs": [
        {
          "data": {
            "image/png": "[encoded data removed]",
            "text/plain": [
              "<Figure size 432x288 with 1 Axes>"
            ]
          },
          "metadata": {
            "needs_background": "light"
          },
          "output_type": "display_data"
        }
      ],
      "source": [
        "# Create the box plot to visualize the distribution of how long it took companies to become unicorns, with respect to the month they joined.\n",
        "# Make sure the x-axis goes in chronological order by month, using the list you defined previously.\n",
        "# Plot the data from the `companies` DataFrame.\n",
        "g = sns.boxplot(data=df,\n",
        "            x='Month Joined',\n",
        "            y='Years to Join',\n",
        "            order=months_order,\n",
        "            showfliers=False\n",
        "            );\n",
        "\n",
        "# Set the title of the plot.\n",
        "g.set_title('Years to became Unicorn per Month');\n",
        "\n",
        "\n",
        "# Rotate labels on the x-axis as a way to avoid overlap in the positions of the text.\n",
        "\n",
        "plt.xticks(rotation=45)\n",
        "\n",
        "\n",
        "# Display the plot.\n",
        "\n",
        "plt.show()"
      ],
      "id": "7V-NPXUCIhCT"
    },
    {
      "cell_type": "markdown",
      "metadata": {
        "id": "h87KDAzQNhJH",
        "jp-MarkdownHeadingCollapsed": true,
        "tags": []
      },
      "source": [
        "<details>\n",
        "  <summary><h4><strong>Hint 1</strong></h4></summary>\n",
        "\n",
        "Refer to [the content about creating a box plot](https://www.coursera.org/learn/go-beyond-the-numbers-translate-data-into-insight/lecture/Pf6KW/eda-structuring-with-python).\n",
        "\n",
        "</details>"
      ],
      "id": "h87KDAzQNhJH"
    },
    {
      "cell_type": "markdown",
      "metadata": {
        "id": "aZBJ8VOrNhJI",
        "jp-MarkdownHeadingCollapsed": true,
        "tags": []
      },
      "source": [
        "<details>\n",
        "  <summary><h4><strong>Hint 2</strong></h4></summary>\n",
        "\n",
        "Use the function in the `seaborn` library that allows you to create a box plot.\n",
        "\n",
        "Use the functions in the `matplotlib.pyplot` module that allow you to acheive the following tasks:\n",
        "- set the title of a plot\n",
        "- rotate labels on the x-axis of a plot\n",
        "- display a plot\n",
        "\n",
        "</details>"
      ],
      "id": "aZBJ8VOrNhJI"
    },
    {
      "cell_type": "markdown",
      "metadata": {
        "id": "GPdd3MfDNhJK",
        "jp-MarkdownHeadingCollapsed": true,
        "tags": []
      },
      "source": [
        "<details>\n",
        "  <summary><h4><strong>Hint 3</strong></h4></summary>\n",
        "\n",
        "Use the `boxplot()` function from `seaborn` to create a box plot, passing in the parameters `x`, `y`, `order`, and `showfliers`. To keep outliers from appearing on the box plot, set `showfliers` to `False`.\n",
        "\n",
        "Use following functions to achieve the following tasks:\n",
        "- `plt.title()` to set the title of a plot\n",
        "- `plt.xticks()` to rotate labels on the x-axis of a plot\n",
        "- pass in the parameters `rotation=45, horizontalalignment='right'`to rotate the labels by 45 degrees and align the labels to the right\n",
        "- `plt.show()` to display a plot\n",
        "\n",
        "</details>"
      ],
      "id": "GPdd3MfDNhJK"
    },
    {
      "cell_type": "markdown",
      "metadata": {
        "id": "hJhdI_Y7LK8e"
      },
      "source": [
        "**Question:** In the preceding box plot, what do you observe about the median value for `Years To Join` for each month?\n"
      ],
      "id": "hJhdI_Y7LK8e"
    },
    {
      "cell_type": "markdown",
      "metadata": {
        "id": "rLUHSsZl0Cmt"
      },
      "source": [
        "I did observe that most companies usually took between 5-10 years to become unicorns. The companies that took many years to join, joined in February."
      ],
      "id": "rLUHSsZl0Cmt"
    },
    {
      "cell_type": "markdown",
      "metadata": {
        "id": "gq9Syq-Cq1zb"
      },
      "source": [
        "## Step 4: Results and evaluation\n"
      ],
      "id": "gq9Syq-Cq1zb"
    },
    {
      "cell_type": "markdown",
      "metadata": {
        "id": "10beff64-16e0-464d-93f0-03ab61f7069b",
        "tags": []
      },
      "source": [
        "### Visualize the time it took companies to reach unicorn status\n",
        "\n",
        "In this section, you will evaluate the result of structuring the data, making observations, and gaining further insights about the data.\n",
        "\n",
        "Using the `companies` dataset, create a bar plot to visualize the average number of years it took companies to reach unicorn status with respect to when they were founded."
      ],
      "id": "10beff64-16e0-464d-93f0-03ab61f7069b"
    },
    {
      "cell_type": "code",
      "execution_count": null,
      "metadata": {
        "scrolled": true,
        "id": "nUvisVQIzFuA",
        "outputId": "30961a56-bd64-404d-9902-9f34db7211f0"
      },
      "outputs": [
        {
          "data": {
            "text/plain": [
              "Index(['Company', 'Valuation', 'Date Joined', 'Industry', 'City',\n",
              "       'Country/Region', 'Continent', 'Year Founded', 'Funding',\n",
              "       'Select Investors', 'Month Joined', 'Year Joined', 'Years to Join'],\n",
              "      dtype='object')"
            ]
          },
          "execution_count": 22,
          "metadata": {},
          "output_type": "execute_result"
        }
      ],
      "source": [
        "df.columns"
      ],
      "id": "nUvisVQIzFuA"
    },
    {
      "cell_type": "code",
      "execution_count": null,
      "metadata": {
        "id": "6i_DcD7RzFuA",
        "outputId": "db38d409-9825-4960-b6c4-e29b5ae9ee59"
      },
      "outputs": [
        {
          "data": {
            "text/plain": [
              "35"
            ]
          },
          "execution_count": 29,
          "metadata": {},
          "output_type": "execute_result"
        }
      ],
      "source": [
        "len(df['Year Founded'].unique())"
      ],
      "id": "6i_DcD7RzFuA"
    },
    {
      "cell_type": "code",
      "execution_count": null,
      "metadata": {
        "id": "1153ca76-f1e3-4fea-a2db-a5de23614abd",
        "outputId": "e68d2e6c-2c8b-4b1f-afa6-c7cf1cf80510"
      },
      "outputs": [
        {
          "data": {
            "image/png": "[encoded data removed]",
            "text/plain": [
              "<Figure size 1800x1008 with 1 Axes>"
            ]
          },
          "metadata": {
            "needs_background": "light"
          },
          "output_type": "display_data"
        }
      ],
      "source": [
        "GRAY1, GRAY2, GRAY3= \"#CFCDCE\", \"#A2A1A3\", \"#787878\"\n",
        "\n",
        "# plotting the graph\n",
        "fig, ax = plt.subplots(figsize= (25,14))\n",
        "n_plots = 35\n",
        "palette = sns.color_palette(\"Blues_d\", n_colors=n_plots)\n",
        "palette.reverse()\n",
        "with palette:\n",
        "  ax = sns.barplot(x=df[\"Year Founded\"], y=df[\"Years to Join\"], ci=False)\n",
        "  # plotting the title\n",
        "  plt.text(-0.35, 112, 'Time to Reach Unicorn Status',\n",
        "          fontsize=24,\n",
        "          color=GRAY3,\n",
        "          weight='bold')\n",
        "\n",
        "  # plotting the subtitle\n",
        "  plt.text(-0.35, 110,\n",
        "          \"The average number of years it took companies to reach unicorn status\\n\"\n",
        "          \"with respect to when they were founded.\",\n",
        "          verticalalignment=\"top\",\n",
        "          fontsize=20,\n",
        "          color=GRAY2)\n",
        "\n",
        "  initialx=0\n",
        "\n",
        "  #removing grid\n",
        "  ax.spines['right'].set_visible(False)\n",
        "  ax.spines['left'].set_visible(False)\n",
        "  ax.spines['top'].set_visible(False)\n",
        "  ax.spines['bottom'].set_visible(False)\n",
        "\n",
        "  #removing grid titles\n",
        "  ax.set_ylabel('')\n",
        "  ax.set_xlabel('')\n",
        "\n",
        "  plt.tick_params(\n",
        "    axis='both',\n",
        "    which='both',\n",
        "    bottom=False,\n",
        "    top=False,\n",
        "    labelbottom=True,\n",
        "    labelleft=False)\n",
        "\n",
        "  # Adding labels to the bars\n",
        "  for p in ax.patches:\n",
        "    ax.annotate(f'{p.get_height():.1f}', (p.get_x() + p.get_width() / 2., p.get_height()),\n",
        "                    ha='center', va='bottom', fontsize=14, color='black', xytext=(0, 5),\n",
        "                    textcoords='offset points')\n",
        "\n",
        "  plt.show()"
      ],
      "id": "1153ca76-f1e3-4fea-a2db-a5de23614abd"
    },
    {
      "cell_type": "markdown",
      "metadata": {
        "id": "MWYLsImtOmaU",
        "jp-MarkdownHeadingCollapsed": true,
        "tags": []
      },
      "source": [
        "<details>\n",
        "  <summary><h4><strong>Hint 1</strong></h4></summary>\n",
        "\n",
        "Refer to [the content about creating a bar plot](https://www.coursera.org/learn/go-beyond-the-numbers-translate-data-into-insight/lecture/0GjvK/date-string-manipulations-with-python).\n",
        "\n",
        "</details>"
      ],
      "id": "MWYLsImtOmaU"
    },
    {
      "cell_type": "markdown",
      "metadata": {
        "id": "Na6eMkR8OmaW",
        "jp-MarkdownHeadingCollapsed": true,
        "tags": []
      },
      "source": [
        "<details>\n",
        "  <summary><h4><strong>Hint 2</strong></h4></summary>\n",
        "\n",
        "Use the function in the `seaborn` library that allows you to create a bar plot where the height of each bar is the average value for the corresponding category, by default.\n",
        "\n",
        "Use the functions in the `matplotlib.pyplot` module that allow you to set the size, title, x-axis label, and y-axis label of plots. In that module, there are also functions for rotating the labels on the x-axis and displaying the plot.\n",
        "\n",
        "</details>"
      ],
      "id": "Na6eMkR8OmaW"
    },
    {
      "cell_type": "markdown",
      "metadata": {
        "id": "0x0AkrQ_OmaX",
        "jp-MarkdownHeadingCollapsed": true,
        "tags": []
      },
      "source": [
        "<details>\n",
        "  <summary><h4><strong>Hint 3</strong></h4></summary>\n",
        "\n",
        "Use the `barplot()` function from `seaborn`, passing in the parameters `x`, `y`, and `ci`. To keep confidence interval lines from appearing on the bar plot,  set `ci` to `False`.\n",
        "\n",
        "Use `plt.figure()`, passing in the `figsize` parameter to set the size of a plot.\n",
        "\n",
        "Use `plt.title()`, `plt.xlabel()`, `plt.ylabel()` to set the title, x-axis label, and y-axis label, respectively.\n",
        "\n",
        "Use `plt.xticks()` to rotate labels on the x-axis of a plot. Paass in the parameters `rotation=45, horizontalalignment='right'` to rotate the labels by 45 degrees and align the labels to the right.\n",
        "\n",
        "Use `plt.show()` to display a plot.\n",
        "\n",
        "</details>"
      ],
      "id": "0x0AkrQ_OmaX"
    },
    {
      "cell_type": "markdown",
      "metadata": {
        "id": "xDwKa-UDOmaX"
      },
      "source": [
        "**Question:** What trends do you notice in the data? Specifically, consider companies that were founded later on. How long did it take those companies to reach unicorn status?\n"
      ],
      "id": "xDwKa-UDOmaX"
    },
    {
      "cell_type": "markdown",
      "metadata": {
        "id": "EapccSkH0Don"
      },
      "source": [
        "It's notable that the companies founded before 2000 spent more years to reach unicorn status than the companies founded in the XXI century. Another observation that stands out is the fall of the years to join the unicorn status as the year of foundation becomes more recent, which could lead us to a correlation between these two variables: newer companies in the market tend to reach the unicorn status faster than oldest companies."
      ],
      "id": "EapccSkH0Don"
    },
    {
      "cell_type": "markdown",
      "metadata": {
        "id": "M9iBEnnStJPJ"
      },
      "source": [
        "### Visualize the number of companies that joined per interval\n",
        "\n",
        "Using the subset of companies joined in the year of interest, grouped by the time interval of your choice, create a bar plot to visualize the number of companies that joined per interval for that year."
      ],
      "id": "M9iBEnnStJPJ"
    },
    {
      "cell_type": "code",
      "execution_count": null,
      "metadata": {
        "id": "vK9mB3t2zFuB",
        "outputId": "a18b19a7-e7e3-49e8-b463-7b9fe99c970d"
      },
      "outputs": [
        {
          "data": {
            "text/plain": [
              "52"
            ]
          },
          "execution_count": 77,
          "metadata": {},
          "output_type": "execute_result"
        }
      ],
      "source": [
        "len(df_2021_grouped['Week Joined'].unique())"
      ],
      "id": "vK9mB3t2zFuB"
    },
    {
      "cell_type": "code",
      "execution_count": null,
      "metadata": {
        "id": "BTdJdubxplHc",
        "outputId": "7639a49d-f242-4f54-a63e-f395bb9d25eb"
      },
      "outputs": [
        {
          "data": {
            "image/png": "[encoded data removed]",
            "text/plain": [
              "<Figure size 1800x1080 with 1 Axes>"
            ]
          },
          "metadata": {
            "needs_background": "light"
          },
          "output_type": "display_data"
        }
      ],
      "source": [
        "# plotting the graph\n",
        "fig, ax = plt.subplots(figsize= (25,15))\n",
        "n_plots = 52\n",
        "palette = sns.color_palette(\"Blues_d\", n_colors=n_plots)\n",
        "palette.reverse()\n",
        "with palette:\n",
        "  ax = sns.barplot(x=df_2021_grouped[\"Week Joined\"], y=df_2021_grouped[\"Company\"], ci=False)\n",
        "  # plotting the title\n",
        "  plt.text(-0.35, 22, 'Companies that joined per week',\n",
        "          fontsize=30,\n",
        "          color=GRAY3,\n",
        "          weight='bold')\n",
        "\n",
        "  # plotting the subtitle\n",
        "  plt.text(-0.35, 21.5,\n",
        "          \"The number of years that companies took to reach\\n\"\n",
        "          \"unicorn status over the weeks of 2021.\",\n",
        "          verticalalignment=\"top\",\n",
        "          fontsize=28,\n",
        "          color=GRAY2)\n",
        "\n",
        "  initialx=0\n",
        "\n",
        "  #removing grid\n",
        "  ax.spines['right'].set_visible(False)\n",
        "  ax.spines['left'].set_visible(False)\n",
        "  ax.spines['top'].set_visible(False)\n",
        "\n",
        "  #removing grid titles\n",
        "  ax.set_ylabel('')\n",
        "  ax.set_xlabel('')\n",
        "\n",
        "  plt.tick_params(\n",
        "    axis='both',\n",
        "    which='both',\n",
        "    bottom=True,\n",
        "    top=False,\n",
        "    labelbottom=True,\n",
        "    labelleft=False)\n",
        "\n",
        "  plt.xticks(rotation=45, horizontalalignment='right', fontsize=14)\n",
        "\n",
        "    # Adding labels to the bars\n",
        "  for p in ax.patches:\n",
        "    ax.annotate(f'{int(p.get_height()):d}', (p.get_x() + p.get_width() / 2., p.get_height()),\n",
        "                    ha='center', va='bottom', fontsize=14, color='black', xytext=(0, 5),\n",
        "                    textcoords='offset points')\n",
        "\n",
        "  plt.show()"
      ],
      "id": "BTdJdubxplHc"
    },
    {
      "cell_type": "markdown",
      "metadata": {
        "id": "BtgkB4fVudvo",
        "jp-MarkdownHeadingCollapsed": true,
        "tags": []
      },
      "source": [
        "<details>\n",
        "  <summary><h4><strong>Hint 1</strong></h4></summary>\n",
        "\n",
        "Refer to [the content about creating a bar plot](https://www.coursera.org/learn/go-beyond-the-numbers-translate-data-into-insight/lecture/0GjvK/date-string-manipulations-with-python).\n",
        "\n",
        "</details>"
      ],
      "id": "BtgkB4fVudvo"
    },
    {
      "cell_type": "markdown",
      "metadata": {
        "id": "bHCMc83Nudvq",
        "jp-MarkdownHeadingCollapsed": true,
        "tags": []
      },
      "source": [
        "<details>\n",
        "  <summary><h4><strong>Hint 2</strong></h4></summary>\n",
        "\n",
        "Use the function in the `seaborn` library that allows you to create a bar plot where the height of each bar is the average value for the corresponding category, by default.\n",
        "\n",
        "Use the functions in the `matplotlib.pyplot` module that allow you to set the size, title, x-axis label, and y-axis label of plots. In that module, there are also functions for rotating the labels on the x-axis and displaying the plot.\n",
        "\n",
        "</details>"
      ],
      "id": "bHCMc83Nudvq"
    },
    {
      "cell_type": "markdown",
      "metadata": {
        "id": "ttH8ynAyudvr",
        "jp-MarkdownHeadingCollapsed": true,
        "tags": []
      },
      "source": [
        "<details>\n",
        "  <summary><h4><strong>Hint 3</strong></h4></summary>\n",
        "\n",
        "Use the `barplot()` function from `seaborn`, passing in the parameters `x`, `y`, and `ci`. To keep confidence interval lines from appearing on the bar plot,  set `ci` to `False`.\n",
        "\n",
        "Use `plt.figure()`, passing in the `figsize` parameter to set the size of a plot.\n",
        "\n",
        "Use `plt.title()`, `plt.xlabel()`, `plt.ylabel()` to set the title, x-axis label, and y-axis label, respectively.\n",
        "\n",
        "Use `plt.xticks()` to rotate labels on the x-axis of a plot. Paass in the parameters `rotation=45, horizontalalignment='right'` to rotate the labels by 45 degrees and align the labels to the right.\n",
        "\n",
        "Use `plt.show()` to display a plot.\n",
        "\n",
        "</details>"
      ],
      "id": "ttH8ynAyudvr"
    },
    {
      "cell_type": "markdown",
      "metadata": {
        "id": "NEsKdFw8sdMJ"
      },
      "source": [
        "**Question:** What do you observe from the bar plot of the number of companies that joined per interval for the year of 2021? When did the highest number of companies reach $1 billion valuation?\n",
        "\n",
        "  "
      ],
      "id": "NEsKdFw8sdMJ"
    },
    {
      "cell_type": "markdown",
      "metadata": {
        "id": "bLmFY7jR0Ewi"
      },
      "source": [
        "The number of years to join unicorn status in 2021 fluctuated over the year. In the first ten weeks, the number is lower than 10 give or take, except for the first week, then the number tends to increase after Week 11 (middle of March).\n",
        "\n",
        "The highest number of companies to reach a $1 billion valuation comes in Week 37, which corresponds to the third week of September. Other weeks that highlight are Week 12 (fourth week of March), and Week 28 (third week of July), with 15 companies each."
      ],
      "id": "bLmFY7jR0Ewi"
    },
    {
      "cell_type": "markdown",
      "metadata": {
        "id": "izcgBCbZhC4w"
      },
      "source": [
        "### Visualize the average valuation over the quarters\n",
        "\n",
        "Using the subset of companies that joined in the years of interest, create a grouped bar plot to visualize the average valuation over the quarters, with two bars for each time interval. There will be two bars for each time interval. This allows you to compare quarterly values between the two years."
      ],
      "id": "izcgBCbZhC4w"
    },
    {
      "cell_type": "code",
      "execution_count": null,
      "metadata": {
        "scrolled": true,
        "id": "HigWMgrizFuB",
        "outputId": "0a7bca68-6e42-4934-8c9b-4afcdfef9608"
      },
      "outputs": [
        {
          "data": {
            "text/html": [
              "<div>\n",
              "<style scoped>\n",
              "    .dataframe tbody tr th:only-of-type {\n",
              "        vertical-align: middle;\n",
              "    }\n",
              "\n",
              "    .dataframe tbody tr th {\n",
              "        vertical-align: top;\n",
              "    }\n",
              "\n",
              "    .dataframe thead th {\n",
              "        text-align: right;\n",
              "    }\n",
              "</style>\n",
              "<table border=\"1\" class=\"dataframe\">\n",
              "  <thead>\n",
              "    <tr style=\"text-align: right;\">\n",
              "      <th></th>\n",
              "      <th>Quarter Joined</th>\n",
              "      <th>Companies</th>\n",
              "      <th>Average Valuation in Billions</th>\n",
              "      <th>Quarter Number</th>\n",
              "      <th>Year Number</th>\n",
              "    </tr>\n",
              "  </thead>\n",
              "  <tbody>\n",
              "    <tr>\n",
              "      <th>0</th>\n",
              "      <td>2020-Q1</td>\n",
              "      <td>18</td>\n",
              "      <td>3.444444</td>\n",
              "      <td>Q1</td>\n",
              "      <td>2020</td>\n",
              "    </tr>\n",
              "    <tr>\n",
              "      <th>1</th>\n",
              "      <td>2020-Q2</td>\n",
              "      <td>18</td>\n",
              "      <td>3.777778</td>\n",
              "      <td>Q2</td>\n",
              "      <td>2020</td>\n",
              "    </tr>\n",
              "    <tr>\n",
              "      <th>2</th>\n",
              "      <td>2020-Q3</td>\n",
              "      <td>29</td>\n",
              "      <td>3.896552</td>\n",
              "      <td>Q3</td>\n",
              "      <td>2020</td>\n",
              "    </tr>\n",
              "    <tr>\n",
              "      <th>3</th>\n",
              "      <td>2020-Q4</td>\n",
              "      <td>43</td>\n",
              "      <td>3.697674</td>\n",
              "      <td>Q4</td>\n",
              "      <td>2020</td>\n",
              "    </tr>\n",
              "    <tr>\n",
              "      <th>4</th>\n",
              "      <td>2021-Q1</td>\n",
              "      <td>108</td>\n",
              "      <td>2.750000</td>\n",
              "      <td>Q1</td>\n",
              "      <td>2021</td>\n",
              "    </tr>\n",
              "    <tr>\n",
              "      <th>5</th>\n",
              "      <td>2021-Q2</td>\n",
              "      <td>144</td>\n",
              "      <td>2.340278</td>\n",
              "      <td>Q2</td>\n",
              "      <td>2021</td>\n",
              "    </tr>\n",
              "    <tr>\n",
              "      <th>6</th>\n",
              "      <td>2021-Q3</td>\n",
              "      <td>134</td>\n",
              "      <td>2.291045</td>\n",
              "      <td>Q3</td>\n",
              "      <td>2021</td>\n",
              "    </tr>\n",
              "    <tr>\n",
              "      <th>7</th>\n",
              "      <td>2021-Q4</td>\n",
              "      <td>134</td>\n",
              "      <td>1.850746</td>\n",
              "      <td>Q4</td>\n",
              "      <td>2021</td>\n",
              "    </tr>\n",
              "  </tbody>\n",
              "</table>\n",
              "</div>"
            ],
            "text/plain": [
              "  Quarter Joined  Companies  Average Valuation in Billions Quarter Number  \\\n",
              "0        2020-Q1         18                       3.444444             Q1   \n",
              "1        2020-Q2         18                       3.777778             Q2   \n",
              "2        2020-Q3         29                       3.896552             Q3   \n",
              "3        2020-Q4         43                       3.697674             Q4   \n",
              "4        2021-Q1        108                       2.750000             Q1   \n",
              "5        2021-Q2        144                       2.340278             Q2   \n",
              "6        2021-Q3        134                       2.291045             Q3   \n",
              "7        2021-Q4        134                       1.850746             Q4   \n",
              "\n",
              "  Year Number  \n",
              "0        2020  \n",
              "1        2020  \n",
              "2        2020  \n",
              "3        2020  \n",
              "4        2021  \n",
              "5        2021  \n",
              "6        2021  \n",
              "7        2021  "
            ]
          },
          "execution_count": 112,
          "metadata": {},
          "output_type": "execute_result"
        }
      ],
      "source": [
        "df_2020_21_grouped_by_quarter"
      ],
      "id": "HigWMgrizFuB"
    },
    {
      "cell_type": "code",
      "execution_count": null,
      "metadata": {
        "id": "HxI55lCQzFuB"
      },
      "outputs": [],
      "source": [
        "# Using slicing, extract the year component and the time interval that you specified,\n",
        "# and save them by adding two new columns into the subset.\n",
        "\n",
        "df_2020_21['Quarter Joined'] = df_2020_21[\"Date Joined\"].dt.to_period('Q').dt.strftime('%Y-Q%q')\n",
        "\n",
        "df_2020_21_grouped_by_quarter = df_2020_21.groupby(by='Quarter Joined').agg({'Company': 'count', 'Valuation Dollar': 'mean'}).reset_index()\n",
        "df_2020_21_grouped_by_quarter  = df_2020_21_grouped_by_quarter.rename(columns={'Company': 'Companies', 'Valuation Dollar': 'Average Valuation in Billions'})\n",
        "df_2020_21_grouped_by_quarter.head()\n",
        "\n",
        "df_2020_21_grouped_by_quarter['Quarter Number'] = df_2020_21_grouped_by_quarter['Quarter Joined'].str[-2:]\n",
        "df_2020_21_grouped_by_quarter['Year Number'] = df_2020_21_grouped_by_quarter['Quarter Joined'].str[:4]"
      ],
      "id": "HxI55lCQzFuB"
    },
    {
      "cell_type": "code",
      "execution_count": null,
      "metadata": {
        "id": "tin6Z250zFuB"
      },
      "outputs": [],
      "source": [
        "df_2020_21_grouped_by_quarter['Average Valuation in Billions'] = df_2020_21_grouped_by_quarter['Average Valuation in Billions'].round(1)"
      ],
      "id": "tin6Z250zFuB"
    },
    {
      "cell_type": "code",
      "execution_count": null,
      "metadata": {
        "id": "R_GBPGhHzFuC",
        "outputId": "7d3ae2d1-e0bc-4d66-b8d9-05ba7a7cfaef"
      },
      "outputs": [
        {
          "data": {
            "text/html": [
              "<div>\n",
              "<style scoped>\n",
              "    .dataframe tbody tr th:only-of-type {\n",
              "        vertical-align: middle;\n",
              "    }\n",
              "\n",
              "    .dataframe tbody tr th {\n",
              "        vertical-align: top;\n",
              "    }\n",
              "\n",
              "    .dataframe thead th {\n",
              "        text-align: right;\n",
              "    }\n",
              "</style>\n",
              "<table border=\"1\" class=\"dataframe\">\n",
              "  <thead>\n",
              "    <tr style=\"text-align: right;\">\n",
              "      <th></th>\n",
              "      <th>Quarter Joined</th>\n",
              "      <th>Companies</th>\n",
              "      <th>Average Valuation in Billions</th>\n",
              "      <th>Quarter Number</th>\n",
              "      <th>Year Number</th>\n",
              "    </tr>\n",
              "  </thead>\n",
              "  <tbody>\n",
              "    <tr>\n",
              "      <th>0</th>\n",
              "      <td>2020-Q1</td>\n",
              "      <td>18</td>\n",
              "      <td>3.4</td>\n",
              "      <td>Q1</td>\n",
              "      <td>2020</td>\n",
              "    </tr>\n",
              "    <tr>\n",
              "      <th>1</th>\n",
              "      <td>2020-Q2</td>\n",
              "      <td>18</td>\n",
              "      <td>3.8</td>\n",
              "      <td>Q2</td>\n",
              "      <td>2020</td>\n",
              "    </tr>\n",
              "    <tr>\n",
              "      <th>2</th>\n",
              "      <td>2020-Q3</td>\n",
              "      <td>29</td>\n",
              "      <td>3.9</td>\n",
              "      <td>Q3</td>\n",
              "      <td>2020</td>\n",
              "    </tr>\n",
              "    <tr>\n",
              "      <th>3</th>\n",
              "      <td>2020-Q4</td>\n",
              "      <td>43</td>\n",
              "      <td>3.7</td>\n",
              "      <td>Q4</td>\n",
              "      <td>2020</td>\n",
              "    </tr>\n",
              "    <tr>\n",
              "      <th>4</th>\n",
              "      <td>2021-Q1</td>\n",
              "      <td>108</td>\n",
              "      <td>2.8</td>\n",
              "      <td>Q1</td>\n",
              "      <td>2021</td>\n",
              "    </tr>\n",
              "    <tr>\n",
              "      <th>5</th>\n",
              "      <td>2021-Q2</td>\n",
              "      <td>144</td>\n",
              "      <td>2.3</td>\n",
              "      <td>Q2</td>\n",
              "      <td>2021</td>\n",
              "    </tr>\n",
              "    <tr>\n",
              "      <th>6</th>\n",
              "      <td>2021-Q3</td>\n",
              "      <td>134</td>\n",
              "      <td>2.3</td>\n",
              "      <td>Q3</td>\n",
              "      <td>2021</td>\n",
              "    </tr>\n",
              "    <tr>\n",
              "      <th>7</th>\n",
              "      <td>2021-Q4</td>\n",
              "      <td>134</td>\n",
              "      <td>1.9</td>\n",
              "      <td>Q4</td>\n",
              "      <td>2021</td>\n",
              "    </tr>\n",
              "  </tbody>\n",
              "</table>\n",
              "</div>"
            ],
            "text/plain": [
              "  Quarter Joined  Companies  Average Valuation in Billions Quarter Number  \\\n",
              "0        2020-Q1         18                            3.4             Q1   \n",
              "1        2020-Q2         18                            3.8             Q2   \n",
              "2        2020-Q3         29                            3.9             Q3   \n",
              "3        2020-Q4         43                            3.7             Q4   \n",
              "4        2021-Q1        108                            2.8             Q1   \n",
              "5        2021-Q2        144                            2.3             Q2   \n",
              "6        2021-Q3        134                            2.3             Q3   \n",
              "7        2021-Q4        134                            1.9             Q4   \n",
              "\n",
              "  Year Number  \n",
              "0        2020  \n",
              "1        2020  \n",
              "2        2020  \n",
              "3        2020  \n",
              "4        2021  \n",
              "5        2021  \n",
              "6        2021  \n",
              "7        2021  "
            ]
          },
          "execution_count": 157,
          "metadata": {},
          "output_type": "execute_result"
        }
      ],
      "source": [
        "df_2020_21_grouped_by_quarter"
      ],
      "id": "R_GBPGhHzFuC"
    },
    {
      "cell_type": "code",
      "execution_count": null,
      "metadata": {
        "id": "OrLrcZQIzFuC"
      },
      "outputs": [],
      "source": [
        "list_2020 = df_2020_21_grouped_by_quarter[df_2020_21_grouped_by_quarter['Year Number'] == '2020']['Average Valuation in Billions'].values.tolist()\n",
        "list_2021 = df_2020_21_grouped_by_quarter[df_2020_21_grouped_by_quarter['Year Number'] == '2021']['Average Valuation in Billions'].values.tolist()"
      ],
      "id": "OrLrcZQIzFuC"
    },
    {
      "cell_type": "code",
      "execution_count": null,
      "metadata": {
        "id": "dCMWE7ELzFuC"
      },
      "outputs": [],
      "source": [
        "labels = df_2020_21_grouped_by_quarter['Quarter Number'].unique()\n",
        "\n",
        "x = np.arange(len(labels))\n",
        "width_bar = 0.35"
      ],
      "id": "dCMWE7ELzFuC"
    },
    {
      "cell_type": "code",
      "execution_count": null,
      "metadata": {
        "id": "IC1cFf2ci6Q6",
        "outputId": "901f4e79-f9f4-4e8b-c6aa-703eabc77e8c"
      },
      "outputs": [
        {
          "data": {
            "image/png": "[encoded data removed]",
            "text/plain": [
              "<Figure size 1080x576 with 1 Axes>"
            ]
          },
          "metadata": {
            "needs_background": "light"
          },
          "output_type": "display_data"
        }
      ],
      "source": [
        "### Visualization Plot\n",
        "# configuring the fonts\n",
        "plt.rcParams['font.family'] = 'sans-serif'\n",
        "\n",
        "# creating Fig and Axis\n",
        "fig, ax = plt.subplots(figsize=(15,8))\n",
        "\n",
        "# plotting bars\n",
        "rects1 = ax.bar(x - width_bar/2, list_2020, width_bar, label=\"2020\", color=\"#253760\")\n",
        "rects2 = ax.bar(x + width_bar/2, list_2021, width_bar, label=\"2021\", color=\"#cc7000\")\n",
        "\n",
        "# x axis labels\n",
        "ax.set_xticks(x)\n",
        "ax.set_xticklabels(labels)\n",
        "# ax.set_ylabel(\"Porcentagem\")\n",
        "# ax.set_title(\"Apoio popular à operação XYZ\")\n",
        "# ax.legend()\n",
        "\n",
        "\n",
        "# remover bordas\n",
        "ax.spines['right'].set_visible(False)\n",
        "ax.spines['bottom'].set_visible(False)\n",
        "ax.spines['top'].set_visible(False)\n",
        "ax.spines['left'].set_visible(False)\n",
        "\n",
        "# remover labels do eixo y\n",
        "plt.gca().axes.get_yaxis().set_visible(False)\n",
        "\n",
        "# remover xticks do eixo x\n",
        "plt.tick_params(\n",
        "    axis='both',\n",
        "    which='both',\n",
        "    bottom=False,\n",
        "    top=False,\n",
        "    labelbottom=True\n",
        "    )\n",
        "\n",
        "# criar uma função para dar labels\n",
        "def autolabel(rects):\n",
        "  for rect in rects:\n",
        "    height = rect.get_height()\n",
        "    ax.annotate(\n",
        "        '{}'.format(height),\n",
        "        xy=(rect.get_x() + rect.get_width()/2, height),\n",
        "        xytext=(0, -16), #offset\n",
        "        textcoords='offset points',\n",
        "        ha='center',\n",
        "        va='bottom',\n",
        "        fontsize=10,\n",
        "        color=\"white\",\n",
        "    )\n",
        "\n",
        "# plotar labels\n",
        "autolabel(rects1)\n",
        "autolabel(rects2)\n",
        "\n",
        "# titulo\n",
        "plt.text(-0.35, 5,\n",
        "         \"The average valuation over the quarters\",\n",
        "         fontsize=20,\n",
        "         color=\"#787878\",\n",
        "         weight=\"bold\"\n",
        "         )\n",
        "\n",
        "# subtitulo\n",
        "plt.text(-0.35, 4.85,\n",
        "         \"The average valuation in billions of the companies that joined\\n\"\n",
        "         \"the unicorn status over quarters of 2020 versus 2021.\",\n",
        "         fontsize=16,\n",
        "         color=\"#A2A1A3\",\n",
        "         va=\"top\"\n",
        "         )\n",
        "\n",
        "# Create legend patches\n",
        "legend_patches = [\n",
        "    plt.Rectangle((0, 0), 1, 1, fc=\"#253760\", edgecolor='none'),\n",
        "    plt.Rectangle((0, 0), 1, 1, fc=\"#cc7000\", edgecolor='none')\n",
        "]\n",
        "\n",
        "# Create legend labels\n",
        "legend_labels = [\"2020\", \"2021\"]\n",
        "\n",
        "# Add legend\n",
        "ax.legend(legend_patches, legend_labels, loc='upper right', fontsize=12)\n",
        "\n",
        "# plotar gráfico\n",
        "plt.tight_layout()\n",
        "plt.plot()\n",
        "plt.show()"
      ],
      "id": "IC1cFf2ci6Q6"
    },
    {
      "cell_type": "markdown",
      "metadata": {
        "id": "w0EZVbYQp34N",
        "jp-MarkdownHeadingCollapsed": true,
        "tags": []
      },
      "source": [
        "<details>\n",
        "  <summary><h4><strong>Hint 1</strong></h4></summary>\n",
        "\n",
        "Refer to [the content about creating a grouped bar plot](https://www.coursera.org/learn/go-beyond-the-numbers-translate-data-into-insight/lecture/Pf6KW/eda-structuring-with-python).\n",
        "\n",
        "</details>"
      ],
      "id": "w0EZVbYQp34N"
    },
    {
      "cell_type": "markdown",
      "metadata": {
        "id": "IhQ1sDxUp34O",
        "jp-MarkdownHeadingCollapsed": true,
        "tags": []
      },
      "source": [
        "<details>\n",
        "  <summary><h4><strong>Hint 2</strong></h4></summary>\n",
        "\n",
        "Use the function in the `seaborn` library that allows you to create a grouped bar plot, specifying the category and height for each bar, as well as the hue.\n",
        "\n",
        "Use the functions in the `matplotlib.pyplot` module that allow you to set the size, title, x-axis label, and y-axis label of plots. In that module, there is also a function for displaying the plot.\n",
        "\n",
        "</details>"
      ],
      "id": "IhQ1sDxUp34O"
    },
    {
      "cell_type": "markdown",
      "metadata": {
        "id": "tH8in0r5p34P",
        "jp-MarkdownHeadingCollapsed": true,
        "tags": []
      },
      "source": [
        "<details>\n",
        "  <summary><h4><strong>Hint 3</strong></h4></summary>\n",
        "\n",
        "Use the `plt.bar()` to create the bar plot, passing in the parameters `x`, `y`, and `hue`. For the task at hand, set `hue` to the column that contains year joined.\n",
        "\n",
        "Use `plt.figure()`, passing in the `figsize` parameter to set the size of a plot.\n",
        "\n",
        "Use `plt.title()`, `plt.xlabel()`, `plt.ylabel()` to set the title, x-axis label, and y-axis label, respectively.\n",
        "\n",
        "Use `plt.show()` to display a plot.\n",
        "\n",
        "</details>"
      ],
      "id": "tH8in0r5p34P"
    },
    {
      "cell_type": "markdown",
      "metadata": {
        "id": "-JSttrHR4v77"
      },
      "source": [
        "**Question:** What do you observe from the preceding grouped bar plot?\n",
        "\n",
        "  "
      ],
      "id": "-JSttrHR4v77"
    },
    {
      "cell_type": "markdown",
      "metadata": {
        "id": "tJjbpUeD0GMH"
      },
      "source": [
        "I could observe that companies that joined the unicorn status in 2020 are more valuable than those who joined in 2021.\n",
        "\n",
        "In 2020, we had a trend of increase across the quarters until Q3, then the average valuation fell a little in Q4, from 3.9 billion in Q4 to 3.7 in Q.3. In 2021, on the other hand, we had a trend of decrease across the quarter, with Q1 being the quantile with the highest average valuation.\n",
        "\n"
      ],
      "id": "tJjbpUeD0GMH"
    },
    {
      "cell_type": "markdown",
      "metadata": {
        "id": "9EsEVdiGF9XP"
      },
      "source": [
        "**Question:** What potential next steps could you take with your EDA?"
      ],
      "id": "9EsEVdiGF9XP"
    },
    {
      "cell_type": "markdown",
      "metadata": {
        "id": "nHi73JCn0HrT"
      },
      "source": [
        "Potential next steps:\n",
        "* Go more deeper inside the correlation between the year of foundation and the years to join, and analyze why more recent companies took a few years to reach the unicorn status.\n",
        "* Analyze the data taking into consideration the cities or countries of the companies.\n",
        "* Clean the data."
      ],
      "id": "nHi73JCn0HrT"
    },
    {
      "cell_type": "markdown",
      "metadata": {
        "id": "9qPL2qMpIF6g"
      },
      "source": [
        "**Question:** Are there any unanswered questions you have about the data? If yes, what are they?\n"
      ],
      "id": "9qPL2qMpIF6g"
    },
    {
      "cell_type": "markdown",
      "metadata": {
        "id": "ZQ4jXw1s0H_5"
      },
      "source": [
        "Why newest companies spent a few years to reach the unicorn status? Did they acquire other companies? If so, when and which companies they acquired?"
      ],
      "id": "ZQ4jXw1s0H_5"
    },
    {
      "cell_type": "markdown",
      "metadata": {
        "id": "c77e7f0f-d2b9-4464-8a7c-9575d1e1ef9f"
      },
      "source": [
        "## Considerations"
      ],
      "id": "c77e7f0f-d2b9-4464-8a7c-9575d1e1ef9f"
    },
    {
      "cell_type": "markdown",
      "metadata": {
        "id": "bgpSxNeqL_gK"
      },
      "source": [
        "**What are some key takeaways that you learned from this lab?**"
      ],
      "id": "bgpSxNeqL_gK"
    },
    {
      "cell_type": "markdown",
      "metadata": {
        "id": "nh_Uk361MCUM"
      },
      "source": [
        "* Pandas is an incredible tool that can be used to transform and analyze data.\n",
        "* Matplotlib and Seaborn are amazing tools that can be used to visualize data.\n",
        "* Dividing a whole date in month, year, quarter, and week in separated columns is very useful for some analyses.\n",
        "* Structuring the data in different ways is very useful to make various kinds of analysis."
      ],
      "id": "nh_Uk361MCUM"
    },
    {
      "cell_type": "markdown",
      "metadata": {
        "id": "7KjAJnO4MDTS"
      },
      "source": [
        "**What findings and recommendations would you share with others?**"
      ],
      "id": "7KjAJnO4MDTS"
    },
    {
      "cell_type": "markdown",
      "metadata": {
        "id": "q4bQAfHzMECg"
      },
      "source": [
        "* There are 1074 unicorn companies represented in this dataset.\n",
        "* Most unicorn companies were founded between 2014-16, with the peak in 2015, with 155 companies founded.\n",
        "* The box plot created showed that most companies usually took between 5-10 years to become unicorns. The companies that took many years to join, joined in February.\n",
        "* The companies founded before 2000 spent more years to reach unicorn status than the companies founded in the XXI century.\n",
        "* The number of years to join the unicorn status falls as the year of foundation becomes more recent, which could lead us to a correlation between these two variables: newer companies in the market tend to reach the unicorn status faster than oldest companies.\n",
        "* The number of years to join unicorn status in 2021 fluctuated over the year. In the first ten weeks, the number is lower than 10 give or take, except for the first week, then the number tends to increase after Week 11 (middle of March).\n",
        "* The highest number of companies to reach a 1 billion dollar valuation comes in Week 37, which corresponds to the third week of September. Other weeks that highlight are Week 12 (fourth week of March), and Week 28 (third week of July), with 15 companies each.\n",
        "* Companies that joined the unicorn status in 2020 are more valuable than those who joined in 2021.\n",
        "* In 2020, we had a trend of an increase in the average valuation across the quarters, while we had a decrease in 2021."
      ],
      "id": "q4bQAfHzMECg"
    },
    {
      "cell_type": "markdown",
      "metadata": {
        "id": "R9sAADZgr-YI"
      },
      "source": [
        "**References**\n",
        "\n",
        "Bhat, M.A. (2022, March).[*Unicorn Companies*](https://www.kaggle.com/datasets/mysarahmadbhat/unicorn-companies).\n",
        "\n"
      ],
      "id": "R9sAADZgr-YI"
    },
    {
      "cell_type": "markdown",
      "metadata": {
        "id": "muKXjf-xzFuD"
      },
      "source": [
        "**Congratulations!** You've completed this lab. However, you may not notice a green check mark next to this item on Coursera's platform. Please continue your progress regardless of the check mark. Just click on the \"save\" icon at the top of this notebook to ensure your work has been logged."
      ],
      "id": "muKXjf-xzFuD"
    }
  ],
  "metadata": {
    "colab": {
      "provenance": [],
      "include_colab_link": true
    },
    "kernelspec": {
      "display_name": "Python 3",
      "language": "python",
      "name": "python3"
    },
    "language_info": {
      "codemirror_mode": {
        "name": "ipython",
        "version": 3
      },
      "file_extension": ".py",
      "mimetype": "text/x-python",
      "name": "python",
      "nbconvert_exporter": "python",
      "pygments_lexer": "ipython3",
      "version": "3.7.6"
    },
    "toc-autonumbering": false,
    "toc-showtags": false
  },
  "nbformat": 4,
  "nbformat_minor": 5
}