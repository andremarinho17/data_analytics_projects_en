{
  "cells": [
    {
      "cell_type": "markdown",
      "metadata": {
        "id": "view-in-github",
        "colab_type": "text"
      },
      "source": [
        "<a href=\"https://colab.research.google.com/github/andremarinho17/data_analytics_projects_en/blob/main/Activity_Explore_descriptive_statistics.ipynb\" target=\"_parent\"><img src=\"https://colab.research.google.com/assets/colab-badge.svg\" alt=\"Open In Colab\"/></a>"
      ]
    },
    {
      "cell_type": "markdown",
      "metadata": {
        "id": "9HYKQFUbTX8V"
      },
      "source": [
        "# Activity: Explore descriptive statistics - André Marinho\n",
        "\n",
        "## Applying descriptive statistics for the EPA to investigate the air quality\n",
        "\n",
        "**Author**: André Marinho\n",
        "\n",
        "<p align=\"center\"><img src=\"https://weadapt.org/wp-content/uploads/2023/05/screenshot_2022-10-19_at_16.35.53.png\" height=\"150px\">\n",
        "\n"
      ],
      "id": "9HYKQFUbTX8V"
    },
    {
      "cell_type": "markdown",
      "metadata": {
        "id": "ee31943b-274e-4c28-bce6-155cb6f4c334"
      },
      "source": [
        "## **Introduction**\n",
        "\n",
        "Data professionals often use descriptive statistics to understand the data they are working with and provide collaborators with a summary of the relative location of values in the data, as well an information about its spread.\n",
        "\n",
        "For this activity, you are a member of an analytics team for the United States Environmental Protection Agency (EPA). You are assigned to analyze data on air quality with respect to carbon monoxide, a major air pollutant. The data includes information from more than 200 sites, identified by state, county, city, and local site names. You will use Python functions to gather statistics about air quality, then share insights with stakeholders."
      ],
      "id": "ee31943b-274e-4c28-bce6-155cb6f4c334"
    },
    {
      "cell_type": "markdown",
      "metadata": {
        "id": "4bb9630e-b940-4835-a389-d39def1fa848"
      },
      "source": [
        "## **Step 1: Imports**\n"
      ],
      "id": "4bb9630e-b940-4835-a389-d39def1fa848"
    },
    {
      "cell_type": "markdown",
      "metadata": {
        "id": "bc180686-4ae2-47ea-a292-3588ac60a820"
      },
      "source": [
        "Import the relevant Python libraries `pandas` and `numpy`."
      ],
      "id": "bc180686-4ae2-47ea-a292-3588ac60a820"
    },
    {
      "cell_type": "code",
      "execution_count": null,
      "metadata": {
        "id": "8e7f1f2c-bbcc-4f3c-b927-b090ee8334c4"
      },
      "outputs": [],
      "source": [
        "# Import relevant Python libraries.\n",
        "\n",
        "import pandas as pd\n",
        "import numpy as np"
      ],
      "id": "8e7f1f2c-bbcc-4f3c-b927-b090ee8334c4"
    },
    {
      "cell_type": "markdown",
      "metadata": {
        "id": "7d29c6bd-f194-46bb-b794-56dc20130473"
      },
      "source": [
        "The dataset provided is in the form of a .csv file named `c4_epa_air_quality.csv`. It contains a subset of data from the U.S. EPA. As shown in this cell, the dataset has been automatically loaded in for you. You do not need to download the .csv file, or provide more code, in order to access the dataset and proceed with this lab. Please continue with this activity by completing the following instructions."
      ],
      "id": "7d29c6bd-f194-46bb-b794-56dc20130473"
    },
    {
      "cell_type": "code",
      "execution_count": null,
      "metadata": {
        "id": "3bd40d44-080f-4e49-b0c2-160dedc3c4df"
      },
      "outputs": [],
      "source": [
        "# RUN THIS CELL TO IMPORT YOUR DATA.\n",
        "\n",
        "df = pd.read_csv(\"c4_epa_air_quality.csv\", index_col = 0)"
      ],
      "id": "3bd40d44-080f-4e49-b0c2-160dedc3c4df"
    },
    {
      "cell_type": "markdown",
      "metadata": {
        "id": "49881dfd-4532-424f-9729-f5378d984df0",
        "jp-MarkdownHeadingCollapsed": true,
        "tags": []
      },
      "source": [
        "<details>\n",
        "  <summary><h4><strong>Hint 1</strong></h4></summary>\n",
        "\n",
        "Refer to the video about loading data in Python.\n",
        "\n",
        "</details>"
      ],
      "id": "49881dfd-4532-424f-9729-f5378d984df0"
    },
    {
      "cell_type": "markdown",
      "metadata": {
        "id": "k2QxFOi9HW1Q",
        "jp-MarkdownHeadingCollapsed": true,
        "tags": []
      },
      "source": [
        "<details>\n",
        "  <summary><h4><strong>Hint 2</strong></h4></summary>\n",
        "\n",
        "  There is a function in the `pandas` library that allows you to read in data from a .csv file and load it into a DataFrame.\n",
        "\n",
        "</details>"
      ],
      "id": "k2QxFOi9HW1Q"
    },
    {
      "cell_type": "markdown",
      "metadata": {
        "id": "ptkclWFzHjHv",
        "jp-MarkdownHeadingCollapsed": true,
        "tags": []
      },
      "source": [
        "<details>\n",
        "  <summary><h4><strong>Hint 3</strong></h4></summary>\n",
        "\n",
        "  Use the `read_csv` function from the pandas `library`. The `index_col` parameter can be set to `0` to read in the first column as an index (and to avoid `\"Unnamed: 0\"` appearing as a column in the resulting DataFrame).\n",
        "\n",
        "</details>"
      ],
      "id": "ptkclWFzHjHv"
    },
    {
      "cell_type": "markdown",
      "metadata": {
        "id": "95bf39c9-d05c-4324-a40b-bc692607b61b"
      },
      "source": [
        "## **Step 2: Data exploration**"
      ],
      "id": "95bf39c9-d05c-4324-a40b-bc692607b61b"
    },
    {
      "cell_type": "markdown",
      "metadata": {
        "id": "26561614-8e9b-4840-8dbf-b50131ae5314",
        "tags": []
      },
      "source": [
        "To understand how the dataset is structured, display the first 10 rows of the data."
      ],
      "id": "26561614-8e9b-4840-8dbf-b50131ae5314"
    },
    {
      "cell_type": "code",
      "execution_count": null,
      "metadata": {
        "id": "ad5210a5-7a64-4991-b004-de818cfaf506",
        "outputId": "f4df9544-c165-4dac-9d0d-8100fb487070"
      },
      "outputs": [
        {
          "data": {
            "text/html": [
              "<div>\n",
              "<style scoped>\n",
              "    .dataframe tbody tr th:only-of-type {\n",
              "        vertical-align: middle;\n",
              "    }\n",
              "\n",
              "    .dataframe tbody tr th {\n",
              "        vertical-align: top;\n",
              "    }\n",
              "\n",
              "    .dataframe thead th {\n",
              "        text-align: right;\n",
              "    }\n",
              "</style>\n",
              "<table border=\"1\" class=\"dataframe\">\n",
              "  <thead>\n",
              "    <tr style=\"text-align: right;\">\n",
              "      <th></th>\n",
              "      <th>date_local</th>\n",
              "      <th>state_name</th>\n",
              "      <th>county_name</th>\n",
              "      <th>city_name</th>\n",
              "      <th>local_site_name</th>\n",
              "      <th>parameter_name</th>\n",
              "      <th>units_of_measure</th>\n",
              "      <th>arithmetic_mean</th>\n",
              "      <th>aqi</th>\n",
              "    </tr>\n",
              "  </thead>\n",
              "  <tbody>\n",
              "    <tr>\n",
              "      <th>0</th>\n",
              "      <td>2018-01-01</td>\n",
              "      <td>Arizona</td>\n",
              "      <td>Maricopa</td>\n",
              "      <td>Buckeye</td>\n",
              "      <td>BUCKEYE</td>\n",
              "      <td>Carbon monoxide</td>\n",
              "      <td>Parts per million</td>\n",
              "      <td>0.473684</td>\n",
              "      <td>7</td>\n",
              "    </tr>\n",
              "    <tr>\n",
              "      <th>1</th>\n",
              "      <td>2018-01-01</td>\n",
              "      <td>Ohio</td>\n",
              "      <td>Belmont</td>\n",
              "      <td>Shadyside</td>\n",
              "      <td>Shadyside</td>\n",
              "      <td>Carbon monoxide</td>\n",
              "      <td>Parts per million</td>\n",
              "      <td>0.263158</td>\n",
              "      <td>5</td>\n",
              "    </tr>\n",
              "    <tr>\n",
              "      <th>2</th>\n",
              "      <td>2018-01-01</td>\n",
              "      <td>Wyoming</td>\n",
              "      <td>Teton</td>\n",
              "      <td>Not in a city</td>\n",
              "      <td>Yellowstone National Park - Old Faithful Snow ...</td>\n",
              "      <td>Carbon monoxide</td>\n",
              "      <td>Parts per million</td>\n",
              "      <td>0.111111</td>\n",
              "      <td>2</td>\n",
              "    </tr>\n",
              "    <tr>\n",
              "      <th>3</th>\n",
              "      <td>2018-01-01</td>\n",
              "      <td>Pennsylvania</td>\n",
              "      <td>Philadelphia</td>\n",
              "      <td>Philadelphia</td>\n",
              "      <td>North East Waste (NEW)</td>\n",
              "      <td>Carbon monoxide</td>\n",
              "      <td>Parts per million</td>\n",
              "      <td>0.300000</td>\n",
              "      <td>3</td>\n",
              "    </tr>\n",
              "    <tr>\n",
              "      <th>4</th>\n",
              "      <td>2018-01-01</td>\n",
              "      <td>Iowa</td>\n",
              "      <td>Polk</td>\n",
              "      <td>Des Moines</td>\n",
              "      <td>CARPENTER</td>\n",
              "      <td>Carbon monoxide</td>\n",
              "      <td>Parts per million</td>\n",
              "      <td>0.215789</td>\n",
              "      <td>3</td>\n",
              "    </tr>\n",
              "  </tbody>\n",
              "</table>\n",
              "</div>"
            ],
            "text/plain": [
              "   date_local    state_name   county_name      city_name  \\\n",
              "0  2018-01-01       Arizona      Maricopa        Buckeye   \n",
              "1  2018-01-01          Ohio       Belmont      Shadyside   \n",
              "2  2018-01-01       Wyoming         Teton  Not in a city   \n",
              "3  2018-01-01  Pennsylvania  Philadelphia   Philadelphia   \n",
              "4  2018-01-01          Iowa          Polk     Des Moines   \n",
              "\n",
              "                                     local_site_name   parameter_name  \\\n",
              "0                                            BUCKEYE  Carbon monoxide   \n",
              "1                                          Shadyside  Carbon monoxide   \n",
              "2  Yellowstone National Park - Old Faithful Snow ...  Carbon monoxide   \n",
              "3                             North East Waste (NEW)  Carbon monoxide   \n",
              "4                                          CARPENTER  Carbon monoxide   \n",
              "\n",
              "    units_of_measure  arithmetic_mean  aqi  \n",
              "0  Parts per million         0.473684    7  \n",
              "1  Parts per million         0.263158    5  \n",
              "2  Parts per million         0.111111    2  \n",
              "3  Parts per million         0.300000    3  \n",
              "4  Parts per million         0.215789    3  "
            ]
          },
          "execution_count": 4,
          "metadata": {},
          "output_type": "execute_result"
        }
      ],
      "source": [
        "# Display first 10 rows of the data.\n",
        "\n",
        "df.head()"
      ],
      "id": "ad5210a5-7a64-4991-b004-de818cfaf506"
    },
    {
      "cell_type": "markdown",
      "metadata": {
        "id": "2UikTeK7IA-i",
        "jp-MarkdownHeadingCollapsed": true,
        "tags": []
      },
      "source": [
        "<details>\n",
        "  <summary><h4><strong>Hint 1</strong></h4></summary>\n",
        "\n",
        "Refer to the video about exploratory data analysis in Python.\n",
        "\n",
        "</details>"
      ],
      "id": "2UikTeK7IA-i"
    },
    {
      "cell_type": "markdown",
      "metadata": {
        "id": "9WUbcPx6IA-k",
        "jp-MarkdownHeadingCollapsed": true,
        "tags": []
      },
      "source": [
        "<details>\n",
        "  <summary><h4><strong>Hint 2</strong></h4></summary>\n",
        "\n",
        "  There is a function in the `pandas` library that allows you to get a specific number of rows from the top of a DataFrame.\n",
        "\n",
        "</details>"
      ],
      "id": "9WUbcPx6IA-k"
    },
    {
      "cell_type": "markdown",
      "metadata": {
        "id": "rUiFGOUDIA-m",
        "jp-MarkdownHeadingCollapsed": true,
        "tags": []
      },
      "source": [
        "<details>\n",
        "  <summary><h4><strong>Hint 3</strong></h4></summary>\n",
        "\n",
        "  Use the `head()` function from the `pandas` library.\n",
        "\n",
        "</details>"
      ],
      "id": "rUiFGOUDIA-m"
    },
    {
      "cell_type": "markdown",
      "metadata": {
        "id": "fb45ed17-5e22-4d48-9750-130a8586bbf9",
        "tags": []
      },
      "source": [
        "**Question:** What does the `aqi` column represent?"
      ],
      "id": "fb45ed17-5e22-4d48-9750-130a8586bbf9"
    },
    {
      "cell_type": "markdown",
      "metadata": {
        "id": "MlpXJ36xpBFP"
      },
      "source": [
        "It does represent the level of air quality."
      ],
      "id": "MlpXJ36xpBFP"
    },
    {
      "cell_type": "markdown",
      "metadata": {
        "id": "7dac147e-19e1-49e7-bd80-e122390c3a70",
        "tags": []
      },
      "source": [
        "Now, get a table that contains some descriptive statistics about the data."
      ],
      "id": "7dac147e-19e1-49e7-bd80-e122390c3a70"
    },
    {
      "cell_type": "code",
      "execution_count": null,
      "metadata": {
        "id": "13f1c1dd-5637-4726-8fa0-2fbd838e4afa",
        "outputId": "cf63b837-e097-4bd5-cc1d-a36b88f59ec3"
      },
      "outputs": [
        {
          "data": {
            "text/html": [
              "<div>\n",
              "<style scoped>\n",
              "    .dataframe tbody tr th:only-of-type {\n",
              "        vertical-align: middle;\n",
              "    }\n",
              "\n",
              "    .dataframe tbody tr th {\n",
              "        vertical-align: top;\n",
              "    }\n",
              "\n",
              "    .dataframe thead th {\n",
              "        text-align: right;\n",
              "    }\n",
              "</style>\n",
              "<table border=\"1\" class=\"dataframe\">\n",
              "  <thead>\n",
              "    <tr style=\"text-align: right;\">\n",
              "      <th></th>\n",
              "      <th>arithmetic_mean</th>\n",
              "      <th>aqi</th>\n",
              "    </tr>\n",
              "  </thead>\n",
              "  <tbody>\n",
              "    <tr>\n",
              "      <th>count</th>\n",
              "      <td>260.000000</td>\n",
              "      <td>260.000000</td>\n",
              "    </tr>\n",
              "    <tr>\n",
              "      <th>mean</th>\n",
              "      <td>0.403169</td>\n",
              "      <td>6.757692</td>\n",
              "    </tr>\n",
              "    <tr>\n",
              "      <th>std</th>\n",
              "      <td>0.317902</td>\n",
              "      <td>7.061707</td>\n",
              "    </tr>\n",
              "    <tr>\n",
              "      <th>min</th>\n",
              "      <td>0.000000</td>\n",
              "      <td>0.000000</td>\n",
              "    </tr>\n",
              "    <tr>\n",
              "      <th>25%</th>\n",
              "      <td>0.200000</td>\n",
              "      <td>2.000000</td>\n",
              "    </tr>\n",
              "    <tr>\n",
              "      <th>50%</th>\n",
              "      <td>0.276315</td>\n",
              "      <td>5.000000</td>\n",
              "    </tr>\n",
              "    <tr>\n",
              "      <th>75%</th>\n",
              "      <td>0.516009</td>\n",
              "      <td>9.000000</td>\n",
              "    </tr>\n",
              "    <tr>\n",
              "      <th>max</th>\n",
              "      <td>1.921053</td>\n",
              "      <td>50.000000</td>\n",
              "    </tr>\n",
              "  </tbody>\n",
              "</table>\n",
              "</div>"
            ],
            "text/plain": [
              "       arithmetic_mean         aqi\n",
              "count       260.000000  260.000000\n",
              "mean          0.403169    6.757692\n",
              "std           0.317902    7.061707\n",
              "min           0.000000    0.000000\n",
              "25%           0.200000    2.000000\n",
              "50%           0.276315    5.000000\n",
              "75%           0.516009    9.000000\n",
              "max           1.921053   50.000000"
            ]
          },
          "execution_count": 5,
          "metadata": {},
          "output_type": "execute_result"
        }
      ],
      "source": [
        "df.describe()"
      ],
      "id": "13f1c1dd-5637-4726-8fa0-2fbd838e4afa"
    },
    {
      "cell_type": "markdown",
      "metadata": {
        "id": "c25c3da0-e242-4f46-9620-6d7f04911aea",
        "jp-MarkdownHeadingCollapsed": true,
        "tags": []
      },
      "source": [
        "<details>\n",
        "  <summary><h4><strong>Hint 1</strong></h4></summary>\n",
        "\n",
        "Refer to the video about descriptive statistics in Python.\n",
        "\n",
        "</details>"
      ],
      "id": "c25c3da0-e242-4f46-9620-6d7f04911aea"
    },
    {
      "cell_type": "markdown",
      "metadata": {
        "id": "BM8x5LToI-Kn",
        "jp-MarkdownHeadingCollapsed": true,
        "tags": []
      },
      "source": [
        "<details>\n",
        "  <summary><h4><strong>Hint 2</strong></h4></summary>\n",
        "\n",
        "  There is a function in the `pandas` library that allows you to generate a table of basic descriptive statistics about the numeric columns in a DataFrame.\n",
        "\n",
        "</details>"
      ],
      "id": "BM8x5LToI-Kn"
    },
    {
      "cell_type": "markdown",
      "metadata": {
        "id": "TVhhKA-6I-Ko",
        "jp-MarkdownHeadingCollapsed": true,
        "tags": []
      },
      "source": [
        "<details>\n",
        "  <summary><h4><strong>Hint 3</strong></h4></summary>\n",
        "\n",
        "  Use the `describe()` function from the `pandas` library.\n",
        "\n",
        "</details>"
      ],
      "id": "TVhhKA-6I-Ko"
    },
    {
      "cell_type": "markdown",
      "metadata": {
        "id": "a70475eb-d3a6-42e4-8b71-a49b5a1aa0db"
      },
      "source": [
        "**Question:** Based on the table of descriptive statistics, what do you notice about the count value for the `aqi` column?"
      ],
      "id": "a70475eb-d3a6-42e4-8b71-a49b5a1aa0db"
    },
    {
      "cell_type": "markdown",
      "metadata": {
        "id": "ZJddhXIUpCwz"
      },
      "source": [
        "The aqi column contains 260 entries and has an average of 6.7."
      ],
      "id": "ZJddhXIUpCwz"
    },
    {
      "cell_type": "markdown",
      "metadata": {
        "id": "c7a59d04-61f1-45e5-946f-eaed074988cf"
      },
      "source": [
        "**Question:** What do you notice about the 25th percentile for the `aqi` column?\n",
        "\n",
        "This is an important measure for understanding where the aqi values lie."
      ],
      "id": "c7a59d04-61f1-45e5-946f-eaed074988cf"
    },
    {
      "cell_type": "markdown",
      "metadata": {
        "id": "xhL4Qk7TpDrZ"
      },
      "source": [
        "The 25th percentile value is 2, which means that 25% of the values in this dataset are below 2."
      ],
      "id": "xhL4Qk7TpDrZ"
    },
    {
      "cell_type": "markdown",
      "metadata": {
        "id": "245a9299-23ea-4def-b968-b26be1da3a74"
      },
      "source": [
        "**Question:** What do you notice about the 75th percentile for the `aqi` column?\n",
        "\n",
        "This is another important measure for understanding where the aqi values lie."
      ],
      "id": "245a9299-23ea-4def-b968-b26be1da3a74"
    },
    {
      "cell_type": "markdown",
      "metadata": {
        "id": "W2SLJkeCpEOj"
      },
      "source": [
        "The value of the 25th percentile is 9, which means that 25% of the values of this dataset are below 9."
      ],
      "id": "W2SLJkeCpEOj"
    },
    {
      "cell_type": "markdown",
      "metadata": {
        "id": "ZfvOKy7F7SOA"
      },
      "source": [
        "## **Step 3: Statistical tests**"
      ],
      "id": "ZfvOKy7F7SOA"
    },
    {
      "cell_type": "markdown",
      "metadata": {
        "id": "5464fa18-f969-4e1e-8539-9b2d9a11766d",
        "tags": []
      },
      "source": [
        "Next, get some descriptive statistics about the states in the data."
      ],
      "id": "5464fa18-f969-4e1e-8539-9b2d9a11766d"
    },
    {
      "cell_type": "code",
      "execution_count": null,
      "metadata": {
        "id": "678346a1-bc1a-40be-850a-c03488970604",
        "outputId": "fc6eec4e-992a-4a69-ecbb-5af4acda52f7"
      },
      "outputs": [
        {
          "data": {
            "text/plain": [
              "count            260\n",
              "unique            52\n",
              "top       California\n",
              "freq              66\n",
              "Name: state_name, dtype: object"
            ]
          },
          "execution_count": 7,
          "metadata": {},
          "output_type": "execute_result"
        }
      ],
      "source": [
        "# Get descriptive stats about the states in the data.\n",
        "\n",
        "df['state_name'].describe()"
      ],
      "id": "678346a1-bc1a-40be-850a-c03488970604"
    },
    {
      "cell_type": "markdown",
      "metadata": {
        "id": "mXN8yn5hKneJ",
        "jp-MarkdownHeadingCollapsed": true,
        "tags": []
      },
      "source": [
        "<details>\n",
        "  <summary><h4><strong>Hint 1</strong></h4></summary>\n",
        "\n",
        "Refer to the video about descriptive statistics in Python.\n",
        "\n",
        "</details>"
      ],
      "id": "mXN8yn5hKneJ"
    },
    {
      "cell_type": "markdown",
      "metadata": {
        "id": "NrCBFqf6KneL",
        "jp-MarkdownHeadingCollapsed": true,
        "tags": []
      },
      "source": [
        "<details>\n",
        "  <summary><h4><strong>Hint 2</strong></h4></summary>\n",
        "\n",
        "  There is a function in the `pandas` library that allows you to generate basic descriptive statistics about a DataFrame or a column you are interested in.\n",
        "\n",
        "</details>"
      ],
      "id": "NrCBFqf6KneL"
    },
    {
      "cell_type": "markdown",
      "metadata": {
        "id": "ELA3AlzhKneN",
        "jp-MarkdownHeadingCollapsed": true,
        "tags": []
      },
      "source": [
        "<details>\n",
        "  <summary><h4><strong>Hint 3</strong></h4></summary>\n",
        "\n",
        " Use the `describe()` function from the `pandas` library. Note that this function can be used:\n",
        "- \"on a DataFrame (to find descriptive statistics about the numeric columns)\"\n",
        "- \"directly on a column containing categorical data (to find pertinent descriptive statistics)\"\n",
        "\n",
        "</details>"
      ],
      "id": "ELA3AlzhKneN"
    },
    {
      "cell_type": "markdown",
      "metadata": {
        "id": "d6f10268-bf06-471f-8e6e-41c30a8e3e2a",
        "tags": []
      },
      "source": [
        "**Question:** What do you notice while reviewing the descriptive statistics about the states in the data?\n",
        "\n",
        "Note: Sometimes you have to individually calculate statistics. To review to that approach, use the `numpy` library to calculate each of the main statistics in the preceding table for the `aqi` column."
      ],
      "id": "d6f10268-bf06-471f-8e6e-41c30a8e3e2a"
    },
    {
      "cell_type": "markdown",
      "metadata": {
        "id": "Vbu9rG78pGY1"
      },
      "source": [
        "There are 52 unique states and California is the most frequent state in the data, with a frequency of 66."
      ],
      "id": "Vbu9rG78pGY1"
    },
    {
      "cell_type": "markdown",
      "metadata": {
        "id": "ArTZls9y8amg"
      },
      "source": [
        "## **Step 4. Results and evaluation**"
      ],
      "id": "ArTZls9y8amg"
    },
    {
      "cell_type": "markdown",
      "metadata": {
        "id": "8c37014f-2751-4f65-b145-c63aa3a82e9a",
        "tags": []
      },
      "source": [
        "Now, compute the mean value from the `aqi` column."
      ],
      "id": "8c37014f-2751-4f65-b145-c63aa3a82e9a"
    },
    {
      "cell_type": "code",
      "execution_count": null,
      "metadata": {
        "id": "df5f18bc-9d4b-4625-9b6f-01a6323b8b89",
        "outputId": "be9ac1e4-0b73-4b2e-fc9f-3f57a63efb86"
      },
      "outputs": [
        {
          "data": {
            "text/plain": [
              "6.757692307692308"
            ]
          },
          "execution_count": 9,
          "metadata": {},
          "output_type": "execute_result"
        }
      ],
      "source": [
        "# Compute the mean value from the aqi column.\n",
        "\n",
        "df['aqi'].mean()"
      ],
      "id": "df5f18bc-9d4b-4625-9b6f-01a6323b8b89"
    },
    {
      "cell_type": "markdown",
      "metadata": {
        "id": "a2E3VhSkL4QR",
        "jp-MarkdownHeadingCollapsed": true,
        "tags": []
      },
      "source": [
        "<details>\n",
        "  <summary><h4><strong>Hint 1</strong></h4></summary>\n",
        "\n",
        "Refer to the video about descriptive statistics in Python.\n",
        "\n",
        "</details>"
      ],
      "id": "a2E3VhSkL4QR"
    },
    {
      "cell_type": "markdown",
      "metadata": {
        "id": "Cs9IQSfYL4QT",
        "jp-MarkdownHeadingCollapsed": true,
        "tags": []
      },
      "source": [
        "<details>\n",
        "  <summary><h4><strong>Hint 2</strong></h4></summary>\n",
        "\n",
        "  There is a function in the `numpy` library that allows you to get the mean value from an array or a Series of values.\n",
        "\n",
        "</details>"
      ],
      "id": "Cs9IQSfYL4QT"
    },
    {
      "cell_type": "markdown",
      "metadata": {
        "id": "aqewdWRoL4QU",
        "jp-MarkdownHeadingCollapsed": true,
        "tags": []
      },
      "source": [
        "<details>\n",
        "  <summary><h4><strong>Hint 3</strong></h4></summary>\n",
        "\n",
        "  Use the `mean()` function from the `numpy` library.\n",
        "\n",
        "</details>"
      ],
      "id": "aqewdWRoL4QU"
    },
    {
      "cell_type": "markdown",
      "metadata": {
        "id": "4552de4a-70d5-4862-bff8-e08b8a812d98"
      },
      "source": [
        "**Question:** What do you notice about the mean value from the `aqi` column?\n",
        "\n",
        "This is an important measure, as it tells you what the average air quality is based on the data."
      ],
      "id": "4552de4a-70d5-4862-bff8-e08b8a812d98"
    },
    {
      "cell_type": "markdown",
      "metadata": {
        "id": "PV0GCfM9pJqw"
      },
      "source": [
        "The average value of the air quality is 6."
      ],
      "id": "PV0GCfM9pJqw"
    },
    {
      "cell_type": "markdown",
      "metadata": {
        "id": "573d29cd-0ea9-4c96-80ea-c02144a155e9",
        "tags": []
      },
      "source": [
        "Next, compute the median value from the aqi column."
      ],
      "id": "573d29cd-0ea9-4c96-80ea-c02144a155e9"
    },
    {
      "cell_type": "code",
      "execution_count": null,
      "metadata": {
        "id": "12da2095-441f-48f5-b8eb-1c7ae76edc9e",
        "outputId": "280b3b13-957d-4a26-b258-70a881ef46de"
      },
      "outputs": [
        {
          "data": {
            "text/plain": [
              "5.0"
            ]
          },
          "execution_count": 10,
          "metadata": {},
          "output_type": "execute_result"
        }
      ],
      "source": [
        "# Compute the median value from the aqi column.\n",
        "\n",
        "df['aqi'].median()"
      ],
      "id": "12da2095-441f-48f5-b8eb-1c7ae76edc9e"
    },
    {
      "cell_type": "markdown",
      "metadata": {
        "id": "ZTaoY4RpM3q7",
        "jp-MarkdownHeadingCollapsed": true,
        "tags": []
      },
      "source": [
        "<details>\n",
        "  <summary><h4><strong>Hint 1</strong></h4></summary>\n",
        "\n",
        "Refer to the video about descriptive statistics in Python.\n",
        "\n",
        "</details>"
      ],
      "id": "ZTaoY4RpM3q7"
    },
    {
      "cell_type": "markdown",
      "metadata": {
        "id": "AuZzoodzM3q9",
        "jp-MarkdownHeadingCollapsed": true,
        "tags": []
      },
      "source": [
        "<details>\n",
        "  <summary><h4><strong>Hint 2</strong></h4></summary>\n",
        "\n",
        "  There is a function in the `numpy` library that allows you to get the median value from an array or a series of values.\n",
        "\n",
        "</details>"
      ],
      "id": "AuZzoodzM3q9"
    },
    {
      "cell_type": "markdown",
      "metadata": {
        "id": "hdeDIF-tM3q_",
        "jp-MarkdownHeadingCollapsed": true,
        "tags": []
      },
      "source": [
        "<details>\n",
        "  <summary><h4><strong>Hint 3</strong></h4></summary>\n",
        "\n",
        "  Use the `median()` function from the `numpy` library.\n",
        "\n",
        "</details>"
      ],
      "id": "hdeDIF-tM3q_"
    },
    {
      "cell_type": "markdown",
      "metadata": {
        "id": "be75aa7d-a91c-4e3b-8eda-e2e3fe89c8d0"
      },
      "source": [
        "**Question:** What do you notice about the median value from the `aqi` column?\n",
        "\n",
        "This is an important measure for understanding the central location of the data."
      ],
      "id": "be75aa7d-a91c-4e3b-8eda-e2e3fe89c8d0"
    },
    {
      "cell_type": "markdown",
      "metadata": {
        "id": "LCW6pR6fpKdR"
      },
      "source": [
        "The middle value of the air quality is 5."
      ],
      "id": "LCW6pR6fpKdR"
    },
    {
      "cell_type": "markdown",
      "metadata": {
        "id": "4f8cdeda-be0c-4a18-9a33-0a16c91f08fc",
        "tags": []
      },
      "source": [
        "Next, identify the minimum value from the `aqi` column."
      ],
      "id": "4f8cdeda-be0c-4a18-9a33-0a16c91f08fc"
    },
    {
      "cell_type": "code",
      "execution_count": null,
      "metadata": {
        "id": "bb3f1739-89aa-442a-8ddb-6c2d381243f3",
        "outputId": "7fd4ea7f-f636-425d-ef1d-2562afb9ed61"
      },
      "outputs": [
        {
          "data": {
            "text/plain": [
              "0"
            ]
          },
          "execution_count": 11,
          "metadata": {},
          "output_type": "execute_result"
        }
      ],
      "source": [
        "# Identify the minimum value from the aqi column.\n",
        "\n",
        "df['aqi'].min()"
      ],
      "id": "bb3f1739-89aa-442a-8ddb-6c2d381243f3"
    },
    {
      "cell_type": "markdown",
      "metadata": {
        "id": "qx6thFRiR7Ed",
        "jp-MarkdownHeadingCollapsed": true,
        "tags": []
      },
      "source": [
        "<details>\n",
        "  <summary><h4><strong>Hint 1</strong></h4></summary>\n",
        "\n",
        "Refer to the video about descriptive statistics in Python.\n",
        "\n",
        "</details>"
      ],
      "id": "qx6thFRiR7Ed"
    },
    {
      "cell_type": "markdown",
      "metadata": {
        "id": "vZeWnVMDR7Ee",
        "jp-MarkdownHeadingCollapsed": true,
        "tags": []
      },
      "source": [
        "<details>\n",
        "  <summary><h4><strong>Hint 2</strong></h4></summary>\n",
        "\n",
        "  There is a function in the `numpy` library that allows you to get the minimum value from an array or a Series of values.\n",
        "\n",
        "</details>"
      ],
      "id": "vZeWnVMDR7Ee"
    },
    {
      "cell_type": "markdown",
      "metadata": {
        "id": "RILxi-fPR7Ef",
        "jp-MarkdownHeadingCollapsed": true,
        "tags": []
      },
      "source": [
        "<details>\n",
        "  <summary><h4><strong>Hint 3</strong></h4></summary>\n",
        "\n",
        "  Use the `min()` function from the `numpy` library.\n",
        "\n",
        "</details>"
      ],
      "id": "RILxi-fPR7Ef"
    },
    {
      "cell_type": "markdown",
      "metadata": {
        "id": "59335267-2025-4013-92de-fec720576263"
      },
      "source": [
        "**Question:** What do you notice about the minimum value from the `aqi` column?\n",
        "\n",
        "This is an important measure, as it tell you the best air quality observed in the data."
      ],
      "id": "59335267-2025-4013-92de-fec720576263"
    },
    {
      "cell_type": "markdown",
      "metadata": {
        "id": "0IbKLA8gpLVR"
      },
      "source": [
        "The minimum value of the air quality is 0."
      ],
      "id": "0IbKLA8gpLVR"
    },
    {
      "cell_type": "markdown",
      "metadata": {
        "id": "5864cf7b-af15-4cd9-8648-903c882e8e8f",
        "tags": []
      },
      "source": [
        "Now, identify the maximum value from the `aqi` column."
      ],
      "id": "5864cf7b-af15-4cd9-8648-903c882e8e8f"
    },
    {
      "cell_type": "code",
      "execution_count": null,
      "metadata": {
        "id": "ce9670ac-1fb3-48d1-ac92-f04f73ef0e37",
        "outputId": "b5a76045-abcd-434d-e5b5-079b25636f8b"
      },
      "outputs": [
        {
          "data": {
            "text/plain": [
              "50"
            ]
          },
          "execution_count": 12,
          "metadata": {},
          "output_type": "execute_result"
        }
      ],
      "source": [
        "# Identify the maximum value from the aqi column.\n",
        "\n",
        "df['aqi'].max()"
      ],
      "id": "ce9670ac-1fb3-48d1-ac92-f04f73ef0e37"
    },
    {
      "cell_type": "markdown",
      "metadata": {
        "id": "FUhO3yFeSFXZ",
        "jp-MarkdownHeadingCollapsed": true,
        "tags": []
      },
      "source": [
        "<details>\n",
        "  <summary><h4><strong>Hint 1</strong></h4></summary>\n",
        "\n",
        "Refer to the video about descriptive statistics in Python.\n",
        "\n",
        "</details>"
      ],
      "id": "FUhO3yFeSFXZ"
    },
    {
      "cell_type": "markdown",
      "metadata": {
        "id": "vR475DQfSFXc",
        "jp-MarkdownHeadingCollapsed": true,
        "tags": []
      },
      "source": [
        "<details>\n",
        "  <summary><h4><strong>Hint 2</strong></h4></summary>\n",
        "\n",
        "  There is a function in the `numpy` library that allows you to get the maximum value from an array or a Series of values.\n",
        "\n",
        "</details>"
      ],
      "id": "vR475DQfSFXc"
    },
    {
      "cell_type": "markdown",
      "metadata": {
        "id": "a7eDQB8_SFXe",
        "jp-MarkdownHeadingCollapsed": true,
        "tags": []
      },
      "source": [
        "<details>\n",
        "  <summary><h4><strong>Hint 3</strong></h4></summary>\n",
        "\n",
        "  Use the `max()` function from the `numpy` library.\n",
        "\n",
        "</details>"
      ],
      "id": "a7eDQB8_SFXe"
    },
    {
      "cell_type": "markdown",
      "metadata": {
        "id": "b66e1d7d-a90e-4aff-b8da-3725c4f15c26"
      },
      "source": [
        "**Question:** What do you notice about the maximum value from the `aqi` column?\n",
        "\n",
        "This is an important measure, as it tells you which value in the data corresponds to the worst air quality observed in the data."
      ],
      "id": "b66e1d7d-a90e-4aff-b8da-3725c4f15c26"
    },
    {
      "cell_type": "markdown",
      "metadata": {
        "id": "_BOdBpYupMNh"
      },
      "source": [
        "The maximum value of the air quality is 50."
      ],
      "id": "_BOdBpYupMNh"
    },
    {
      "cell_type": "markdown",
      "metadata": {
        "id": "0f2b502c-55bd-4567-b602-129d5b682ea4",
        "tags": []
      },
      "source": [
        "Now, compute the standard deviation for the `aqi` column.\n",
        "\n",
        "By default, the `numpy` library uses 0 as the Delta Degrees of Freedom, while `pandas` library uses 1. To get the same value for standard deviation using either library, specify the `ddof` parameter to 1 when calculating standard deviation."
      ],
      "id": "0f2b502c-55bd-4567-b602-129d5b682ea4"
    },
    {
      "cell_type": "code",
      "execution_count": null,
      "metadata": {
        "id": "4caba3ad-6e7c-416a-a062-39a6af9f1f00",
        "outputId": "0d97ef4a-8462-44af-9744-de3a169d3840"
      },
      "outputs": [
        {
          "data": {
            "text/plain": [
              "7.0617066788207215"
            ]
          },
          "execution_count": 13,
          "metadata": {},
          "output_type": "execute_result"
        }
      ],
      "source": [
        "# Compute the standard deviation for the aqi column.\n",
        "\n",
        "df['aqi'].std()"
      ],
      "id": "4caba3ad-6e7c-416a-a062-39a6af9f1f00"
    },
    {
      "cell_type": "markdown",
      "metadata": {
        "id": "dZTFWnOTSNbA",
        "jp-MarkdownHeadingCollapsed": true,
        "tags": []
      },
      "source": [
        "<details>\n",
        "  <summary><h4><strong>Hint 1</strong></h4></summary>\n",
        "\n",
        "Refer to the video section about descriptive statistics in Python.\n",
        "\n",
        "</details>"
      ],
      "id": "dZTFWnOTSNbA"
    },
    {
      "cell_type": "markdown",
      "metadata": {
        "id": "ps6bHHn_SNbC",
        "jp-MarkdownHeadingCollapsed": true,
        "tags": []
      },
      "source": [
        "<details>\n",
        "  <summary><h4><strong>Hint 2</strong></h4></summary>\n",
        "\n",
        "  There is a function in the `numpy` library that allows you to get the standard deviation from an array or a series of values.\n",
        "\n",
        "</details>"
      ],
      "id": "ps6bHHn_SNbC"
    },
    {
      "cell_type": "markdown",
      "metadata": {
        "id": "FI09MR1ZSNbD",
        "jp-MarkdownHeadingCollapsed": true,
        "tags": []
      },
      "source": [
        "<details>\n",
        "  <summary><h4><strong>Hint 3</strong></h4></summary>\n",
        "\n",
        "Use the `std()` function from the `numpy` library. Make sure to specify the `ddof` parameter as 1. To read more about this function,  refer to its documentation in the references section of this lab.\n",
        "\n",
        "</details>"
      ],
      "id": "FI09MR1ZSNbD"
    },
    {
      "cell_type": "markdown",
      "metadata": {
        "id": "890f18c1-97cc-4e92-8860-1e4ce3213e2e"
      },
      "source": [
        "**Question:** What do you notice about the standard deviation for the `aqi` column?\n",
        "\n",
        "This is an important measure of how spread out the aqi values are."
      ],
      "id": "890f18c1-97cc-4e92-8860-1e4ce3213e2e"
    },
    {
      "cell_type": "markdown",
      "metadata": {
        "id": "FWASCwOQZsgP"
      },
      "source": [
        "The standard deviation of the air quality is 7.06. Given that the average is 6.75, it's possible to infer that the values of the dataset are close to the average value."
      ],
      "id": "FWASCwOQZsgP"
    },
    {
      "cell_type": "markdown",
      "metadata": {
        "id": "c77e7f0f-d2b9-4464-8a7c-9575d1e1ef9f"
      },
      "source": [
        "## **Considerations**\n"
      ],
      "id": "c77e7f0f-d2b9-4464-8a7c-9575d1e1ef9f"
    },
    {
      "cell_type": "markdown",
      "metadata": {
        "id": "eptkD7BmYw0h"
      },
      "source": [
        "**What are some key takeaways that you learned during this lab?**"
      ],
      "id": "eptkD7BmYw0h"
    },
    {
      "cell_type": "markdown",
      "metadata": {
        "id": "LmFmOwT7Yzlw"
      },
      "source": [
        "Pandas and numpy libraries are very useful for calculating descriptive statistics in Python and generating insights. Functions such as describe, max, min, std, and median can be significantly important through this process."
      ],
      "id": "LmFmOwT7Yzlw"
    },
    {
      "cell_type": "markdown",
      "metadata": {
        "id": "P_B0fXmoYz_g"
      },
      "source": [
        "**How would you present your findings from this lab to others? Consider the following relevant points noted by AirNow.gov as you respond:**\n",
        "- AQI values at or below 100 are generally thought of as satisfactory. When AQI values are above 100, air quality is considered unhealthy—at first for certain sensitive groups of people, then for everyone as AQI values increase.\n",
        "- An AQI of 100 for carbon monoxide corresponds to a level of 9.4 parts per million."
      ],
      "id": "P_B0fXmoYz_g"
    },
    {
      "cell_type": "markdown",
      "metadata": {
        "id": "gfnZAHZ4Y7a_"
      },
      "source": [
        "The air quality in most states is safe and healthy, given that the AQI average is 6 and that 75% of the values are below 9. Furthermore, the largest value is 50, which is way below 100."
      ],
      "id": "gfnZAHZ4Y7a_"
    },
    {
      "cell_type": "markdown",
      "metadata": {
        "id": "B9NTCauFY7xU"
      },
      "source": [
        "**What summary would you provide to stakeholders? Use the same information provided previously from AirNow.gov as you respond.**"
      ],
      "id": "B9NTCauFY7xU"
    },
    {
      "cell_type": "markdown",
      "metadata": {
        "id": "BO_KrnISY9ts"
      },
      "source": [
        "* The air quality in most states is safe and healthy, given that the AQI average is 6 and that 75% of the values are below 9.\n",
        "* An investigation into the less unhealthy states should be conducted in order to improve the air quality."
      ],
      "id": "BO_KrnISY9ts"
    },
    {
      "cell_type": "markdown",
      "metadata": {
        "id": "OPcCpjDLuHaW"
      },
      "source": [
        "**References**\n",
        "\n",
        "[Air Quality Index - A Guide to Air Quality and Your Health](https://www.airnow.gov/sites/default/files/2018-04/aqi_brochure_02_14_0.pdf). (2014,February)\n",
        "\n",
        "[Numpy.Std — NumPy v1.23 Manual](https://numpy.org/doc/stable/reference/generated/numpy.std.html)\n",
        "\n",
        "US EPA, OAR. (2014, 8 July).[*Air Data: Air Quality Data Collected at Outdoor Monitors Across the US*](https://www.epa.gov/outdoor-air-quality-data)."
      ],
      "id": "OPcCpjDLuHaW"
    },
    {
      "cell_type": "markdown",
      "metadata": {
        "id": "t8n5RBn_t3fv"
      },
      "source": [
        "**Congratulations!** You've completed this lab. However, you may not notice a green check mark next to this item on Coursera's platform. Please continue your progress regardless of the check mark. Just click on the \"save\" icon at the top of this notebook to ensure your work has been logged."
      ],
      "id": "t8n5RBn_t3fv"
    }
  ],
  "metadata": {
    "colab": {
      "provenance": [],
      "include_colab_link": true
    },
    "kernelspec": {
      "display_name": "Python 3",
      "language": "python",
      "name": "python3"
    },
    "language_info": {
      "codemirror_mode": {
        "name": "ipython",
        "version": 3
      },
      "file_extension": ".py",
      "mimetype": "text/x-python",
      "name": "python",
      "nbconvert_exporter": "python",
      "pygments_lexer": "ipython3",
      "version": "3.7.6"
    },
    "toc-autonumbering": false,
    "toc-showtags": false
  },
  "nbformat": 4,
  "nbformat_minor": 5
}