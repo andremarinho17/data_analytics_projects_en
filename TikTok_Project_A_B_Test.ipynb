{
  "cells": [
    {
      "cell_type": "markdown",
      "metadata": {
        "id": "view-in-github",
        "colab_type": "text"
      },
      "source": [
        "<a href=\"https://colab.research.google.com/github/andremarinho17/data_analytics_projects_en/blob/main/TikTok_Project_A_B_Test.ipynb\" target=\"_parent\"><img src=\"https://colab.research.google.com/assets/colab-badge.svg\" alt=\"Open In Colab\"/></a>"
      ]
    },
    {
      "cell_type": "markdown",
      "metadata": {
        "id": "DtNBZFHO3M7n"
      },
      "source": [
        "# **TikTok Project - A/B Test**\n",
        "\n",
        "<p align=\"center\"><img src=\"https://logodownload.org/wp-content/uploads/2019/08/tiktok-logo-9.png\" height=\"150px\">\n",
        "\n",
        "**Course 4 - The Power of Statistics**\n",
        "\n",
        "Author: André Marinho Moreira"
      ]
    },
    {
      "cell_type": "markdown",
      "metadata": {
        "id": "j-u8hxWUk64w"
      },
      "source": [
        "You are a data professional at TikTok. The current project is reaching its midpoint; a project proposal, Python coding work, and exploratory data analysis have all been completed.\n",
        "\n",
        "The team has reviewed the results of the exploratory data analysis and the previous executive summary the team prepared. You received an email from Orion Rainier, Data Scientist at TikTok, with your next assignment: determine and conduct the necessary hypothesis tests and statistical analysis for the TikTok classification project.\n",
        "\n",
        "A notebook was structured and prepared to help you in this project. Please complete the following questions."
      ]
    },
    {
      "cell_type": "markdown",
      "metadata": {
        "id": "rgSbVJvomcVa"
      },
      "source": [
        "\n",
        "# **Course 4 End-of-course project: Data exploration and hypothesis testing**\n",
        "\n",
        "In this activity, you will explore the data provided and conduct hypothesis testing.\n",
        "<br/>\n",
        "\n",
        "**The purpose** of this project is to demostrate knowledge of how to prepare, create, and analyze hypothesis tests.\n",
        "\n",
        "**The goal** is to apply descriptive and inferential statistics, probability distributions, and hypothesis testing in Python.\n",
        "<br/>\n",
        "\n",
        "*This activity has three parts:*\n",
        "\n",
        "**Part 1:** Imports and data loading\n",
        "* What data packages will be necessary for hypothesis testing?\n",
        "\n",
        "**Part 2:** Conduct hypothesis testing\n",
        "* How will descriptive statistics help you analyze your data?\n",
        "\n",
        "* How will you formulate your null hypothesis and alternative hypothesis?\n",
        "\n",
        "**Part 3:** Communicate insights with stakeholders\n",
        "\n",
        "* What key business insight(s) emerge from your hypothesis test?\n",
        "\n",
        "* What business recommendations do you propose based on your results?\n",
        "\n",
        "<br/>\n",
        "\n",
        "Follow the instructions and answer the questions below to complete the activity. Then, complete an executive summary using the questions listed on the PACE Strategy Document.\n",
        "\n",
        "Be sure to complete this activity before moving on. The next course item will provide you with a completed exemplar to compare to your own work.\n",
        "\n"
      ]
    },
    {
      "cell_type": "markdown",
      "metadata": {
        "id": "qwXf61KLibBj"
      },
      "source": [
        "# **Data exploration and hypothesis testing**"
      ]
    },
    {
      "cell_type": "markdown",
      "metadata": {
        "id": "N8qrn_UAzX6j"
      },
      "source": [
        "\n",
        "# **PACE stages**"
      ]
    },
    {
      "cell_type": "markdown",
      "metadata": {
        "id": "pGaoqOgZiiR_"
      },
      "source": [
        "Throughout these project notebooks, you'll see references to the problem-solving framework PACE. The following notebook components are labeled with the respective PACE stage: Plan, Analyze, Construct, and Execute."
      ]
    },
    {
      "cell_type": "markdown",
      "metadata": {
        "id": "Bb1HNu3FzX6k"
      },
      "source": [
        "\n",
        "\n",
        "## **PACE: Plan**\n",
        "\n",
        "Consider the questions in your PACE Strategy Document and those below to craft your response.\n",
        "\n",
        "1. What is your research question for this data project? Later on, you will need to formulate the null and alternative hypotheses as the first step of your hypothesis test. Consider your research question now, at the start of this task."
      ]
    },
    {
      "cell_type": "markdown",
      "metadata": {
        "id": "iHhO44UenHcC"
      },
      "source": [
        "Research question: Regarding the TikTok's user claim data, which hypothesis testing method best serves the data and the claims classification project?"
      ]
    },
    {
      "cell_type": "markdown",
      "metadata": {
        "id": "Kp3uDhhSg_qu"
      },
      "source": [
        "*Complete the following steps to perform statistical analysis of your data:*"
      ]
    },
    {
      "cell_type": "markdown",
      "metadata": {
        "id": "xgQEdIN7f1Jq"
      },
      "source": [
        "### **Task 1. Imports and Data Loading**"
      ]
    },
    {
      "cell_type": "markdown",
      "metadata": {
        "id": "ehehvUzFj0-e"
      },
      "source": [
        "Import packages and libraries needed to compute descriptive statistics and conduct a hypothesis test."
      ]
    },
    {
      "cell_type": "markdown",
      "metadata": {
        "id": "e6cryW4WgiIL"
      },
      "source": [
        "<details>\n",
        "  <summary><h4><strong>Hint:</strong></h4></summary>\n",
        "\n",
        "Be sure to import `pandas`, `numpy`, `matplotlib.pyplot`, `seaborn`, and `scipy`.\n",
        "\n",
        "</details>"
      ]
    },
    {
      "cell_type": "code",
      "execution_count": null,
      "metadata": {
        "id": "1Q-GL2UrgWWG"
      },
      "outputs": [],
      "source": [
        "# Import packages for data manipulation\n",
        "import pandas as pd\n",
        "import numpy as np\n",
        "\n",
        "# Import packages for data visualization\n",
        "import matplotlib.pyplot as plt\n",
        "import seaborn as sns\n",
        "\n",
        "# Import packages for statistical analysis/hypothesis testing\n",
        "from scipy import stats"
      ]
    },
    {
      "cell_type": "markdown",
      "metadata": {
        "id": "IHSa7TiTkg78"
      },
      "source": [
        "Load the dataset.\n",
        "\n",
        "**Note:** As shown in this cell, the dataset has been automatically loaded in for you. You do not need to download the .csv file, or provide more code, in order to access the dataset and proceed with this lab. Please continue with this activity by completing the following instructions."
      ]
    },
    {
      "cell_type": "code",
      "execution_count": null,
      "metadata": {
        "id": "HLhV9YACjlC4"
      },
      "outputs": [],
      "source": [
        "# Load dataset into dataframe\n",
        "df = pd.read_csv(\"tiktok_dataset.csv\")"
      ]
    },
    {
      "cell_type": "markdown",
      "metadata": {
        "id": "c8paWsdKzX6o"
      },
      "source": [
        "## **PACE: Analyze and Construct**\n",
        "\n",
        "Consider the questions in your PACE Strategy Document and those below to craft your response:\n",
        "1. Data professionals use descriptive statistics for Exploratory Data Analysis. How can computing descriptive statistics help you learn more about your data in this stage of your analysis?\n"
      ]
    },
    {
      "cell_type": "markdown",
      "metadata": {
        "id": "AKY3ms4LsEsU"
      },
      "source": [
        "Descriptive analysis (DA) helps data analysts to get to know better about the data that they are dealing with. With DA, it's possible to understand the distinct patterns of the data, as well as how it is structured, which variables are available for analysis, how they are distributed, and other important informations to conduct the analysis.\n",
        "\n",
        "Furthermore, DA provides essential insights into the characteristics of the dataset, such as central tendencies, variability, and relationships between variables, which are critical for guiding further analysis and decision-making."
      ]
    },
    {
      "cell_type": "markdown",
      "metadata": {
        "id": "UKhYTdVhf5B2"
      },
      "source": [
        "### **Task 2. Data exploration**\n",
        "\n",
        "Use descriptive statistics to conduct Exploratory Data Analysis (EDA).\n",
        "\n"
      ]
    },
    {
      "cell_type": "markdown",
      "metadata": {
        "id": "aBLu1iBMr6Bd"
      },
      "source": [
        "<details>\n",
        "  <summary><h4><strong>Hint:</strong></h4></summary>\n",
        "\n",
        "Refer back to *Self Review Descriptive Statistics* for this step-by-step proccess.\n",
        "\n",
        "</details>"
      ]
    },
    {
      "cell_type": "markdown",
      "metadata": {
        "id": "JBHl90JIRuXk"
      },
      "source": [
        "Inspect the first five rows of the dataframe."
      ]
    },
    {
      "cell_type": "code",
      "execution_count": null,
      "metadata": {
        "id": "2rfk95MLp4a_",
        "outputId": "93d42a2e-4d26-4379-fe7d-714441ba770a"
      },
      "outputs": [
        {
          "data": {
            "text/html": [
              "<div>\n",
              "<style scoped>\n",
              "    .dataframe tbody tr th:only-of-type {\n",
              "        vertical-align: middle;\n",
              "    }\n",
              "\n",
              "    .dataframe tbody tr th {\n",
              "        vertical-align: top;\n",
              "    }\n",
              "\n",
              "    .dataframe thead th {\n",
              "        text-align: right;\n",
              "    }\n",
              "</style>\n",
              "<table border=\"1\" class=\"dataframe\">\n",
              "  <thead>\n",
              "    <tr style=\"text-align: right;\">\n",
              "      <th></th>\n",
              "      <th>#</th>\n",
              "      <th>claim_status</th>\n",
              "      <th>video_id</th>\n",
              "      <th>video_duration_sec</th>\n",
              "      <th>video_transcription_text</th>\n",
              "      <th>verified_status</th>\n",
              "      <th>author_ban_status</th>\n",
              "      <th>video_view_count</th>\n",
              "      <th>video_like_count</th>\n",
              "      <th>video_share_count</th>\n",
              "      <th>video_download_count</th>\n",
              "      <th>video_comment_count</th>\n",
              "    </tr>\n",
              "  </thead>\n",
              "  <tbody>\n",
              "    <tr>\n",
              "      <th>0</th>\n",
              "      <td>1</td>\n",
              "      <td>claim</td>\n",
              "      <td>7017666017</td>\n",
              "      <td>59</td>\n",
              "      <td>someone shared with me that drone deliveries a...</td>\n",
              "      <td>not verified</td>\n",
              "      <td>under review</td>\n",
              "      <td>343296.0</td>\n",
              "      <td>19425.0</td>\n",
              "      <td>241.0</td>\n",
              "      <td>1.0</td>\n",
              "      <td>0.0</td>\n",
              "    </tr>\n",
              "    <tr>\n",
              "      <th>1</th>\n",
              "      <td>2</td>\n",
              "      <td>claim</td>\n",
              "      <td>4014381136</td>\n",
              "      <td>32</td>\n",
              "      <td>someone shared with me that there are more mic...</td>\n",
              "      <td>not verified</td>\n",
              "      <td>active</td>\n",
              "      <td>140877.0</td>\n",
              "      <td>77355.0</td>\n",
              "      <td>19034.0</td>\n",
              "      <td>1161.0</td>\n",
              "      <td>684.0</td>\n",
              "    </tr>\n",
              "    <tr>\n",
              "      <th>2</th>\n",
              "      <td>3</td>\n",
              "      <td>claim</td>\n",
              "      <td>9859838091</td>\n",
              "      <td>31</td>\n",
              "      <td>someone shared with me that american industria...</td>\n",
              "      <td>not verified</td>\n",
              "      <td>active</td>\n",
              "      <td>902185.0</td>\n",
              "      <td>97690.0</td>\n",
              "      <td>2858.0</td>\n",
              "      <td>833.0</td>\n",
              "      <td>329.0</td>\n",
              "    </tr>\n",
              "    <tr>\n",
              "      <th>3</th>\n",
              "      <td>4</td>\n",
              "      <td>claim</td>\n",
              "      <td>1866847991</td>\n",
              "      <td>25</td>\n",
              "      <td>someone shared with me that the metro of st. p...</td>\n",
              "      <td>not verified</td>\n",
              "      <td>active</td>\n",
              "      <td>437506.0</td>\n",
              "      <td>239954.0</td>\n",
              "      <td>34812.0</td>\n",
              "      <td>1234.0</td>\n",
              "      <td>584.0</td>\n",
              "    </tr>\n",
              "    <tr>\n",
              "      <th>4</th>\n",
              "      <td>5</td>\n",
              "      <td>claim</td>\n",
              "      <td>7105231098</td>\n",
              "      <td>19</td>\n",
              "      <td>someone shared with me that the number of busi...</td>\n",
              "      <td>not verified</td>\n",
              "      <td>active</td>\n",
              "      <td>56167.0</td>\n",
              "      <td>34987.0</td>\n",
              "      <td>4110.0</td>\n",
              "      <td>547.0</td>\n",
              "      <td>152.0</td>\n",
              "    </tr>\n",
              "  </tbody>\n",
              "</table>\n",
              "</div>"
            ],
            "text/plain": [
              "   # claim_status    video_id  video_duration_sec  \\\n",
              "0  1        claim  7017666017                  59   \n",
              "1  2        claim  4014381136                  32   \n",
              "2  3        claim  9859838091                  31   \n",
              "3  4        claim  1866847991                  25   \n",
              "4  5        claim  7105231098                  19   \n",
              "\n",
              "                            video_transcription_text verified_status  \\\n",
              "0  someone shared with me that drone deliveries a...    not verified   \n",
              "1  someone shared with me that there are more mic...    not verified   \n",
              "2  someone shared with me that american industria...    not verified   \n",
              "3  someone shared with me that the metro of st. p...    not verified   \n",
              "4  someone shared with me that the number of busi...    not verified   \n",
              "\n",
              "  author_ban_status  video_view_count  video_like_count  video_share_count  \\\n",
              "0      under review          343296.0           19425.0              241.0   \n",
              "1            active          140877.0           77355.0            19034.0   \n",
              "2            active          902185.0           97690.0             2858.0   \n",
              "3            active          437506.0          239954.0            34812.0   \n",
              "4            active           56167.0           34987.0             4110.0   \n",
              "\n",
              "   video_download_count  video_comment_count  \n",
              "0                   1.0                  0.0  \n",
              "1                1161.0                684.0  \n",
              "2                 833.0                329.0  \n",
              "3                1234.0                584.0  \n",
              "4                 547.0                152.0  "
            ]
          },
          "execution_count": 3,
          "metadata": {},
          "output_type": "execute_result"
        }
      ],
      "source": [
        "# Display first few rows\n",
        "df.head()"
      ]
    },
    {
      "cell_type": "code",
      "execution_count": null,
      "metadata": {
        "id": "70vpvcv1gArp",
        "scrolled": false,
        "outputId": "b35d69e7-1d61-41dc-a544-7e9307301eeb"
      },
      "outputs": [
        {
          "data": {
            "text/html": [
              "<div>\n",
              "<style scoped>\n",
              "    .dataframe tbody tr th:only-of-type {\n",
              "        vertical-align: middle;\n",
              "    }\n",
              "\n",
              "    .dataframe tbody tr th {\n",
              "        vertical-align: top;\n",
              "    }\n",
              "\n",
              "    .dataframe thead th {\n",
              "        text-align: right;\n",
              "    }\n",
              "</style>\n",
              "<table border=\"1\" class=\"dataframe\">\n",
              "  <thead>\n",
              "    <tr style=\"text-align: right;\">\n",
              "      <th></th>\n",
              "      <th>#</th>\n",
              "      <th>claim_status</th>\n",
              "      <th>video_id</th>\n",
              "      <th>video_duration_sec</th>\n",
              "      <th>video_transcription_text</th>\n",
              "      <th>verified_status</th>\n",
              "      <th>author_ban_status</th>\n",
              "      <th>video_view_count</th>\n",
              "      <th>video_like_count</th>\n",
              "      <th>video_share_count</th>\n",
              "      <th>video_download_count</th>\n",
              "      <th>video_comment_count</th>\n",
              "    </tr>\n",
              "  </thead>\n",
              "  <tbody>\n",
              "    <tr>\n",
              "      <th>count</th>\n",
              "      <td>19382.000000</td>\n",
              "      <td>19084</td>\n",
              "      <td>1.938200e+04</td>\n",
              "      <td>19382.000000</td>\n",
              "      <td>19084</td>\n",
              "      <td>19382</td>\n",
              "      <td>19382</td>\n",
              "      <td>19084.000000</td>\n",
              "      <td>19084.000000</td>\n",
              "      <td>19084.000000</td>\n",
              "      <td>19084.000000</td>\n",
              "      <td>19084.000000</td>\n",
              "    </tr>\n",
              "    <tr>\n",
              "      <th>unique</th>\n",
              "      <td>NaN</td>\n",
              "      <td>2</td>\n",
              "      <td>NaN</td>\n",
              "      <td>NaN</td>\n",
              "      <td>19012</td>\n",
              "      <td>2</td>\n",
              "      <td>3</td>\n",
              "      <td>NaN</td>\n",
              "      <td>NaN</td>\n",
              "      <td>NaN</td>\n",
              "      <td>NaN</td>\n",
              "      <td>NaN</td>\n",
              "    </tr>\n",
              "    <tr>\n",
              "      <th>top</th>\n",
              "      <td>NaN</td>\n",
              "      <td>claim</td>\n",
              "      <td>NaN</td>\n",
              "      <td>NaN</td>\n",
              "      <td>a friend read  in the media a claim that badmi...</td>\n",
              "      <td>not verified</td>\n",
              "      <td>active</td>\n",
              "      <td>NaN</td>\n",
              "      <td>NaN</td>\n",
              "      <td>NaN</td>\n",
              "      <td>NaN</td>\n",
              "      <td>NaN</td>\n",
              "    </tr>\n",
              "    <tr>\n",
              "      <th>freq</th>\n",
              "      <td>NaN</td>\n",
              "      <td>9608</td>\n",
              "      <td>NaN</td>\n",
              "      <td>NaN</td>\n",
              "      <td>2</td>\n",
              "      <td>18142</td>\n",
              "      <td>15663</td>\n",
              "      <td>NaN</td>\n",
              "      <td>NaN</td>\n",
              "      <td>NaN</td>\n",
              "      <td>NaN</td>\n",
              "      <td>NaN</td>\n",
              "    </tr>\n",
              "    <tr>\n",
              "      <th>mean</th>\n",
              "      <td>9691.500000</td>\n",
              "      <td>NaN</td>\n",
              "      <td>5.627454e+09</td>\n",
              "      <td>32.421732</td>\n",
              "      <td>NaN</td>\n",
              "      <td>NaN</td>\n",
              "      <td>NaN</td>\n",
              "      <td>254708.558688</td>\n",
              "      <td>84304.636030</td>\n",
              "      <td>16735.248323</td>\n",
              "      <td>1049.429627</td>\n",
              "      <td>349.312146</td>\n",
              "    </tr>\n",
              "    <tr>\n",
              "      <th>std</th>\n",
              "      <td>5595.245794</td>\n",
              "      <td>NaN</td>\n",
              "      <td>2.536440e+09</td>\n",
              "      <td>16.229967</td>\n",
              "      <td>NaN</td>\n",
              "      <td>NaN</td>\n",
              "      <td>NaN</td>\n",
              "      <td>322893.280814</td>\n",
              "      <td>133420.546814</td>\n",
              "      <td>32036.174350</td>\n",
              "      <td>2004.299894</td>\n",
              "      <td>799.638865</td>\n",
              "    </tr>\n",
              "    <tr>\n",
              "      <th>min</th>\n",
              "      <td>1.000000</td>\n",
              "      <td>NaN</td>\n",
              "      <td>1.234959e+09</td>\n",
              "      <td>5.000000</td>\n",
              "      <td>NaN</td>\n",
              "      <td>NaN</td>\n",
              "      <td>NaN</td>\n",
              "      <td>20.000000</td>\n",
              "      <td>0.000000</td>\n",
              "      <td>0.000000</td>\n",
              "      <td>0.000000</td>\n",
              "      <td>0.000000</td>\n",
              "    </tr>\n",
              "    <tr>\n",
              "      <th>25%</th>\n",
              "      <td>4846.250000</td>\n",
              "      <td>NaN</td>\n",
              "      <td>3.430417e+09</td>\n",
              "      <td>18.000000</td>\n",
              "      <td>NaN</td>\n",
              "      <td>NaN</td>\n",
              "      <td>NaN</td>\n",
              "      <td>4942.500000</td>\n",
              "      <td>810.750000</td>\n",
              "      <td>115.000000</td>\n",
              "      <td>7.000000</td>\n",
              "      <td>1.000000</td>\n",
              "    </tr>\n",
              "    <tr>\n",
              "      <th>50%</th>\n",
              "      <td>9691.500000</td>\n",
              "      <td>NaN</td>\n",
              "      <td>5.618664e+09</td>\n",
              "      <td>32.000000</td>\n",
              "      <td>NaN</td>\n",
              "      <td>NaN</td>\n",
              "      <td>NaN</td>\n",
              "      <td>9954.500000</td>\n",
              "      <td>3403.500000</td>\n",
              "      <td>717.000000</td>\n",
              "      <td>46.000000</td>\n",
              "      <td>9.000000</td>\n",
              "    </tr>\n",
              "    <tr>\n",
              "      <th>75%</th>\n",
              "      <td>14536.750000</td>\n",
              "      <td>NaN</td>\n",
              "      <td>7.843960e+09</td>\n",
              "      <td>47.000000</td>\n",
              "      <td>NaN</td>\n",
              "      <td>NaN</td>\n",
              "      <td>NaN</td>\n",
              "      <td>504327.000000</td>\n",
              "      <td>125020.000000</td>\n",
              "      <td>18222.000000</td>\n",
              "      <td>1156.250000</td>\n",
              "      <td>292.000000</td>\n",
              "    </tr>\n",
              "    <tr>\n",
              "      <th>max</th>\n",
              "      <td>19382.000000</td>\n",
              "      <td>NaN</td>\n",
              "      <td>9.999873e+09</td>\n",
              "      <td>60.000000</td>\n",
              "      <td>NaN</td>\n",
              "      <td>NaN</td>\n",
              "      <td>NaN</td>\n",
              "      <td>999817.000000</td>\n",
              "      <td>657830.000000</td>\n",
              "      <td>256130.000000</td>\n",
              "      <td>14994.000000</td>\n",
              "      <td>9599.000000</td>\n",
              "    </tr>\n",
              "  </tbody>\n",
              "</table>\n",
              "</div>"
            ],
            "text/plain": [
              "                   # claim_status      video_id  video_duration_sec  \\\n",
              "count   19382.000000        19084  1.938200e+04        19382.000000   \n",
              "unique           NaN            2           NaN                 NaN   \n",
              "top              NaN        claim           NaN                 NaN   \n",
              "freq             NaN         9608           NaN                 NaN   \n",
              "mean     9691.500000          NaN  5.627454e+09           32.421732   \n",
              "std      5595.245794          NaN  2.536440e+09           16.229967   \n",
              "min         1.000000          NaN  1.234959e+09            5.000000   \n",
              "25%      4846.250000          NaN  3.430417e+09           18.000000   \n",
              "50%      9691.500000          NaN  5.618664e+09           32.000000   \n",
              "75%     14536.750000          NaN  7.843960e+09           47.000000   \n",
              "max     19382.000000          NaN  9.999873e+09           60.000000   \n",
              "\n",
              "                                 video_transcription_text verified_status  \\\n",
              "count                                               19084           19382   \n",
              "unique                                              19012               2   \n",
              "top     a friend read  in the media a claim that badmi...    not verified   \n",
              "freq                                                    2           18142   \n",
              "mean                                                  NaN             NaN   \n",
              "std                                                   NaN             NaN   \n",
              "min                                                   NaN             NaN   \n",
              "25%                                                   NaN             NaN   \n",
              "50%                                                   NaN             NaN   \n",
              "75%                                                   NaN             NaN   \n",
              "max                                                   NaN             NaN   \n",
              "\n",
              "       author_ban_status  video_view_count  video_like_count  \\\n",
              "count              19382      19084.000000      19084.000000   \n",
              "unique                 3               NaN               NaN   \n",
              "top               active               NaN               NaN   \n",
              "freq               15663               NaN               NaN   \n",
              "mean                 NaN     254708.558688      84304.636030   \n",
              "std                  NaN     322893.280814     133420.546814   \n",
              "min                  NaN         20.000000          0.000000   \n",
              "25%                  NaN       4942.500000        810.750000   \n",
              "50%                  NaN       9954.500000       3403.500000   \n",
              "75%                  NaN     504327.000000     125020.000000   \n",
              "max                  NaN     999817.000000     657830.000000   \n",
              "\n",
              "        video_share_count  video_download_count  video_comment_count  \n",
              "count        19084.000000          19084.000000         19084.000000  \n",
              "unique                NaN                   NaN                  NaN  \n",
              "top                   NaN                   NaN                  NaN  \n",
              "freq                  NaN                   NaN                  NaN  \n",
              "mean         16735.248323           1049.429627           349.312146  \n",
              "std          32036.174350           2004.299894           799.638865  \n",
              "min              0.000000              0.000000             0.000000  \n",
              "25%            115.000000              7.000000             1.000000  \n",
              "50%            717.000000             46.000000             9.000000  \n",
              "75%          18222.000000           1156.250000           292.000000  \n",
              "max         256130.000000          14994.000000          9599.000000  "
            ]
          },
          "execution_count": 4,
          "metadata": {},
          "output_type": "execute_result"
        }
      ],
      "source": [
        "# Generate a table of descriptive statistics about the data\n",
        "df.describe(include=\"all\")"
      ]
    },
    {
      "cell_type": "markdown",
      "metadata": {
        "id": "67GIogRq3qAY"
      },
      "source": [
        "The dataset includes 19,382 records for different columns such as `video_duration_sec`, `video_view_count`, `video_like_count`, and others. There are some columns with missing values (NaN), notably `claim_status` and `video_transcription_text`, where not all entries are populated.\n",
        "\n",
        "When it comes to video performance, the average video duration is 32.4 seconds, with a maximum of 60 seconds. The video view count varies significantly, with an average of 254,708 views but a maximum reaching nearly 1 million. Additionally, videos generally receive a substantial amount of interaction: the average like count is 84,304, with some videos reaching over 657,000 likes. Share counts and downloads are lower, with a means of 16,735 shares and 1,049 downloads, respectively.\n",
        "\n",
        "It's important to draw attention to the disparity between interaction types. While videos gain significant likes, the number of shares and downloads is much lower. This suggests that while users are engaged enough to like the content, they are less inclined to share or download, possibly indicating passive consumption of the content."
      ]
    },
    {
      "cell_type": "markdown",
      "metadata": {
        "id": "9OpeNQDdyIT6"
      },
      "source": [
        "Check for and handle missing values."
      ]
    },
    {
      "cell_type": "code",
      "execution_count": null,
      "metadata": {
        "id": "BrunHcfa7xnT",
        "outputId": "2e5e6e5b-d799-406e-de6a-8bad02518828"
      },
      "outputs": [
        {
          "data": {
            "text/html": [
              "<div>\n",
              "<style scoped>\n",
              "    .dataframe tbody tr th:only-of-type {\n",
              "        vertical-align: middle;\n",
              "    }\n",
              "\n",
              "    .dataframe tbody tr th {\n",
              "        vertical-align: top;\n",
              "    }\n",
              "\n",
              "    .dataframe thead th {\n",
              "        text-align: right;\n",
              "    }\n",
              "</style>\n",
              "<table border=\"1\" class=\"dataframe\">\n",
              "  <thead>\n",
              "    <tr style=\"text-align: right;\">\n",
              "      <th></th>\n",
              "      <th>#</th>\n",
              "      <th>claim_status</th>\n",
              "      <th>video_id</th>\n",
              "      <th>video_duration_sec</th>\n",
              "      <th>video_transcription_text</th>\n",
              "      <th>verified_status</th>\n",
              "      <th>author_ban_status</th>\n",
              "      <th>video_view_count</th>\n",
              "      <th>video_like_count</th>\n",
              "      <th>video_share_count</th>\n",
              "      <th>video_download_count</th>\n",
              "      <th>video_comment_count</th>\n",
              "    </tr>\n",
              "  </thead>\n",
              "  <tbody>\n",
              "    <tr>\n",
              "      <th>0</th>\n",
              "      <td>False</td>\n",
              "      <td>False</td>\n",
              "      <td>False</td>\n",
              "      <td>False</td>\n",
              "      <td>False</td>\n",
              "      <td>False</td>\n",
              "      <td>False</td>\n",
              "      <td>False</td>\n",
              "      <td>False</td>\n",
              "      <td>False</td>\n",
              "      <td>False</td>\n",
              "      <td>False</td>\n",
              "    </tr>\n",
              "    <tr>\n",
              "      <th>1</th>\n",
              "      <td>False</td>\n",
              "      <td>False</td>\n",
              "      <td>False</td>\n",
              "      <td>False</td>\n",
              "      <td>False</td>\n",
              "      <td>False</td>\n",
              "      <td>False</td>\n",
              "      <td>False</td>\n",
              "      <td>False</td>\n",
              "      <td>False</td>\n",
              "      <td>False</td>\n",
              "      <td>False</td>\n",
              "    </tr>\n",
              "    <tr>\n",
              "      <th>2</th>\n",
              "      <td>False</td>\n",
              "      <td>False</td>\n",
              "      <td>False</td>\n",
              "      <td>False</td>\n",
              "      <td>False</td>\n",
              "      <td>False</td>\n",
              "      <td>False</td>\n",
              "      <td>False</td>\n",
              "      <td>False</td>\n",
              "      <td>False</td>\n",
              "      <td>False</td>\n",
              "      <td>False</td>\n",
              "    </tr>\n",
              "    <tr>\n",
              "      <th>3</th>\n",
              "      <td>False</td>\n",
              "      <td>False</td>\n",
              "      <td>False</td>\n",
              "      <td>False</td>\n",
              "      <td>False</td>\n",
              "      <td>False</td>\n",
              "      <td>False</td>\n",
              "      <td>False</td>\n",
              "      <td>False</td>\n",
              "      <td>False</td>\n",
              "      <td>False</td>\n",
              "      <td>False</td>\n",
              "    </tr>\n",
              "    <tr>\n",
              "      <th>4</th>\n",
              "      <td>False</td>\n",
              "      <td>False</td>\n",
              "      <td>False</td>\n",
              "      <td>False</td>\n",
              "      <td>False</td>\n",
              "      <td>False</td>\n",
              "      <td>False</td>\n",
              "      <td>False</td>\n",
              "      <td>False</td>\n",
              "      <td>False</td>\n",
              "      <td>False</td>\n",
              "      <td>False</td>\n",
              "    </tr>\n",
              "    <tr>\n",
              "      <th>...</th>\n",
              "      <td>...</td>\n",
              "      <td>...</td>\n",
              "      <td>...</td>\n",
              "      <td>...</td>\n",
              "      <td>...</td>\n",
              "      <td>...</td>\n",
              "      <td>...</td>\n",
              "      <td>...</td>\n",
              "      <td>...</td>\n",
              "      <td>...</td>\n",
              "      <td>...</td>\n",
              "      <td>...</td>\n",
              "    </tr>\n",
              "    <tr>\n",
              "      <th>19377</th>\n",
              "      <td>False</td>\n",
              "      <td>True</td>\n",
              "      <td>False</td>\n",
              "      <td>False</td>\n",
              "      <td>True</td>\n",
              "      <td>False</td>\n",
              "      <td>False</td>\n",
              "      <td>True</td>\n",
              "      <td>True</td>\n",
              "      <td>True</td>\n",
              "      <td>True</td>\n",
              "      <td>True</td>\n",
              "    </tr>\n",
              "    <tr>\n",
              "      <th>19378</th>\n",
              "      <td>False</td>\n",
              "      <td>True</td>\n",
              "      <td>False</td>\n",
              "      <td>False</td>\n",
              "      <td>True</td>\n",
              "      <td>False</td>\n",
              "      <td>False</td>\n",
              "      <td>True</td>\n",
              "      <td>True</td>\n",
              "      <td>True</td>\n",
              "      <td>True</td>\n",
              "      <td>True</td>\n",
              "    </tr>\n",
              "    <tr>\n",
              "      <th>19379</th>\n",
              "      <td>False</td>\n",
              "      <td>True</td>\n",
              "      <td>False</td>\n",
              "      <td>False</td>\n",
              "      <td>True</td>\n",
              "      <td>False</td>\n",
              "      <td>False</td>\n",
              "      <td>True</td>\n",
              "      <td>True</td>\n",
              "      <td>True</td>\n",
              "      <td>True</td>\n",
              "      <td>True</td>\n",
              "    </tr>\n",
              "    <tr>\n",
              "      <th>19380</th>\n",
              "      <td>False</td>\n",
              "      <td>True</td>\n",
              "      <td>False</td>\n",
              "      <td>False</td>\n",
              "      <td>True</td>\n",
              "      <td>False</td>\n",
              "      <td>False</td>\n",
              "      <td>True</td>\n",
              "      <td>True</td>\n",
              "      <td>True</td>\n",
              "      <td>True</td>\n",
              "      <td>True</td>\n",
              "    </tr>\n",
              "    <tr>\n",
              "      <th>19381</th>\n",
              "      <td>False</td>\n",
              "      <td>True</td>\n",
              "      <td>False</td>\n",
              "      <td>False</td>\n",
              "      <td>True</td>\n",
              "      <td>False</td>\n",
              "      <td>False</td>\n",
              "      <td>True</td>\n",
              "      <td>True</td>\n",
              "      <td>True</td>\n",
              "      <td>True</td>\n",
              "      <td>True</td>\n",
              "    </tr>\n",
              "  </tbody>\n",
              "</table>\n",
              "<p>19382 rows × 12 columns</p>\n",
              "</div>"
            ],
            "text/plain": [
              "           #  claim_status  video_id  video_duration_sec  \\\n",
              "0      False         False     False               False   \n",
              "1      False         False     False               False   \n",
              "2      False         False     False               False   \n",
              "3      False         False     False               False   \n",
              "4      False         False     False               False   \n",
              "...      ...           ...       ...                 ...   \n",
              "19377  False          True     False               False   \n",
              "19378  False          True     False               False   \n",
              "19379  False          True     False               False   \n",
              "19380  False          True     False               False   \n",
              "19381  False          True     False               False   \n",
              "\n",
              "       video_transcription_text  verified_status  author_ban_status  \\\n",
              "0                         False            False              False   \n",
              "1                         False            False              False   \n",
              "2                         False            False              False   \n",
              "3                         False            False              False   \n",
              "4                         False            False              False   \n",
              "...                         ...              ...                ...   \n",
              "19377                      True            False              False   \n",
              "19378                      True            False              False   \n",
              "19379                      True            False              False   \n",
              "19380                      True            False              False   \n",
              "19381                      True            False              False   \n",
              "\n",
              "       video_view_count  video_like_count  video_share_count  \\\n",
              "0                 False             False              False   \n",
              "1                 False             False              False   \n",
              "2                 False             False              False   \n",
              "3                 False             False              False   \n",
              "4                 False             False              False   \n",
              "...                 ...               ...                ...   \n",
              "19377              True              True               True   \n",
              "19378              True              True               True   \n",
              "19379              True              True               True   \n",
              "19380              True              True               True   \n",
              "19381              True              True               True   \n",
              "\n",
              "       video_download_count  video_comment_count  \n",
              "0                     False                False  \n",
              "1                     False                False  \n",
              "2                     False                False  \n",
              "3                     False                False  \n",
              "4                     False                False  \n",
              "...                     ...                  ...  \n",
              "19377                  True                 True  \n",
              "19378                  True                 True  \n",
              "19379                  True                 True  \n",
              "19380                  True                 True  \n",
              "19381                  True                 True  \n",
              "\n",
              "[19382 rows x 12 columns]"
            ]
          },
          "execution_count": 5,
          "metadata": {},
          "output_type": "execute_result"
        }
      ],
      "source": [
        "# Check for missing values\n",
        "df.isna()"
      ]
    },
    {
      "cell_type": "code",
      "execution_count": null,
      "metadata": {
        "id": "SHSj1Hma914I",
        "scrolled": false
      },
      "outputs": [],
      "source": [
        "# Drop rows with missing values\n",
        "\n",
        "df = df.dropna()"
      ]
    },
    {
      "cell_type": "code",
      "execution_count": null,
      "metadata": {
        "id": "ZYUF3xap9_Fa",
        "outputId": "72414581-0c08-4b8a-bb4b-049771d28e5a"
      },
      "outputs": [
        {
          "data": {
            "text/html": [
              "<div>\n",
              "<style scoped>\n",
              "    .dataframe tbody tr th:only-of-type {\n",
              "        vertical-align: middle;\n",
              "    }\n",
              "\n",
              "    .dataframe tbody tr th {\n",
              "        vertical-align: top;\n",
              "    }\n",
              "\n",
              "    .dataframe thead th {\n",
              "        text-align: right;\n",
              "    }\n",
              "</style>\n",
              "<table border=\"1\" class=\"dataframe\">\n",
              "  <thead>\n",
              "    <tr style=\"text-align: right;\">\n",
              "      <th></th>\n",
              "      <th>#</th>\n",
              "      <th>claim_status</th>\n",
              "      <th>video_id</th>\n",
              "      <th>video_duration_sec</th>\n",
              "      <th>video_transcription_text</th>\n",
              "      <th>verified_status</th>\n",
              "      <th>author_ban_status</th>\n",
              "      <th>video_view_count</th>\n",
              "      <th>video_like_count</th>\n",
              "      <th>video_share_count</th>\n",
              "      <th>video_download_count</th>\n",
              "      <th>video_comment_count</th>\n",
              "    </tr>\n",
              "  </thead>\n",
              "  <tbody>\n",
              "    <tr>\n",
              "      <th>0</th>\n",
              "      <td>1</td>\n",
              "      <td>claim</td>\n",
              "      <td>7017666017</td>\n",
              "      <td>59</td>\n",
              "      <td>someone shared with me that drone deliveries a...</td>\n",
              "      <td>not verified</td>\n",
              "      <td>under review</td>\n",
              "      <td>343296.0</td>\n",
              "      <td>19425.0</td>\n",
              "      <td>241.0</td>\n",
              "      <td>1.0</td>\n",
              "      <td>0.0</td>\n",
              "    </tr>\n",
              "    <tr>\n",
              "      <th>1</th>\n",
              "      <td>2</td>\n",
              "      <td>claim</td>\n",
              "      <td>4014381136</td>\n",
              "      <td>32</td>\n",
              "      <td>someone shared with me that there are more mic...</td>\n",
              "      <td>not verified</td>\n",
              "      <td>active</td>\n",
              "      <td>140877.0</td>\n",
              "      <td>77355.0</td>\n",
              "      <td>19034.0</td>\n",
              "      <td>1161.0</td>\n",
              "      <td>684.0</td>\n",
              "    </tr>\n",
              "    <tr>\n",
              "      <th>2</th>\n",
              "      <td>3</td>\n",
              "      <td>claim</td>\n",
              "      <td>9859838091</td>\n",
              "      <td>31</td>\n",
              "      <td>someone shared with me that american industria...</td>\n",
              "      <td>not verified</td>\n",
              "      <td>active</td>\n",
              "      <td>902185.0</td>\n",
              "      <td>97690.0</td>\n",
              "      <td>2858.0</td>\n",
              "      <td>833.0</td>\n",
              "      <td>329.0</td>\n",
              "    </tr>\n",
              "    <tr>\n",
              "      <th>3</th>\n",
              "      <td>4</td>\n",
              "      <td>claim</td>\n",
              "      <td>1866847991</td>\n",
              "      <td>25</td>\n",
              "      <td>someone shared with me that the metro of st. p...</td>\n",
              "      <td>not verified</td>\n",
              "      <td>active</td>\n",
              "      <td>437506.0</td>\n",
              "      <td>239954.0</td>\n",
              "      <td>34812.0</td>\n",
              "      <td>1234.0</td>\n",
              "      <td>584.0</td>\n",
              "    </tr>\n",
              "    <tr>\n",
              "      <th>4</th>\n",
              "      <td>5</td>\n",
              "      <td>claim</td>\n",
              "      <td>7105231098</td>\n",
              "      <td>19</td>\n",
              "      <td>someone shared with me that the number of busi...</td>\n",
              "      <td>not verified</td>\n",
              "      <td>active</td>\n",
              "      <td>56167.0</td>\n",
              "      <td>34987.0</td>\n",
              "      <td>4110.0</td>\n",
              "      <td>547.0</td>\n",
              "      <td>152.0</td>\n",
              "    </tr>\n",
              "  </tbody>\n",
              "</table>\n",
              "</div>"
            ],
            "text/plain": [
              "   # claim_status    video_id  video_duration_sec  \\\n",
              "0  1        claim  7017666017                  59   \n",
              "1  2        claim  4014381136                  32   \n",
              "2  3        claim  9859838091                  31   \n",
              "3  4        claim  1866847991                  25   \n",
              "4  5        claim  7105231098                  19   \n",
              "\n",
              "                            video_transcription_text verified_status  \\\n",
              "0  someone shared with me that drone deliveries a...    not verified   \n",
              "1  someone shared with me that there are more mic...    not verified   \n",
              "2  someone shared with me that american industria...    not verified   \n",
              "3  someone shared with me that the metro of st. p...    not verified   \n",
              "4  someone shared with me that the number of busi...    not verified   \n",
              "\n",
              "  author_ban_status  video_view_count  video_like_count  video_share_count  \\\n",
              "0      under review          343296.0           19425.0              241.0   \n",
              "1            active          140877.0           77355.0            19034.0   \n",
              "2            active          902185.0           97690.0             2858.0   \n",
              "3            active          437506.0          239954.0            34812.0   \n",
              "4            active           56167.0           34987.0             4110.0   \n",
              "\n",
              "   video_download_count  video_comment_count  \n",
              "0                   1.0                  0.0  \n",
              "1                1161.0                684.0  \n",
              "2                 833.0                329.0  \n",
              "3                1234.0                584.0  \n",
              "4                 547.0                152.0  "
            ]
          },
          "execution_count": 7,
          "metadata": {},
          "output_type": "execute_result"
        }
      ],
      "source": [
        "# Display first few rows after handling missing values\n",
        "\n",
        "df.head()"
      ]
    },
    {
      "cell_type": "markdown",
      "metadata": {
        "id": "-fFiNg4hdGBK"
      },
      "source": [
        "You are interested in the relationship between `verified_status` and `video_view_count`. One approach is to examine the mean value of `video_view_count` for each group of `verified_status` in the sample data."
      ]
    },
    {
      "cell_type": "code",
      "execution_count": null,
      "metadata": {
        "id": "2LGEWrdVXgI2",
        "scrolled": true,
        "outputId": "54b8c5f3-ec52-48f5-8544-d427e29c3850"
      },
      "outputs": [
        {
          "name": "stdout",
          "output_type": "stream",
          "text": [
            "Average video view count for verified users:  91439.16416666667\n",
            "Average video view count for non verified users:  265663.78533885034\n"
          ]
        }
      ],
      "source": [
        "# Compute the mean `video_view_count` for each group in `verified_status`\n",
        "print('Average video view count for verified users: ', df[df['verified_status'] == \"verified\"]['video_view_count'].mean())\n",
        "print('Average video view count for non verified users: ', df[df['verified_status'] == \"not verified\"]['video_view_count'].mean())"
      ]
    },
    {
      "cell_type": "markdown",
      "metadata": {
        "id": "QpFRQDaNzX6p"
      },
      "source": [
        "### **Task 3. Hypothesis testing**\n",
        "\n",
        "Before you conduct your hypothesis test, consider the following questions where applicable to complete your code response:\n",
        "\n",
        "1. Recall the difference between the null hypothesis and the alternative hypotheses. What are your hypotheses for this data project?"
      ]
    },
    {
      "cell_type": "markdown",
      "metadata": {
        "id": "ViBd7pL-tYHY"
      },
      "source": [
        "As it's possible to notice, the average view count for videos coming from non verified videos is likely significantly higher than those that came from verified users."
      ]
    },
    {
      "cell_type": "markdown",
      "metadata": {
        "id": "7Mn5GJ460HUS"
      },
      "source": [
        "\n",
        "\n",
        "Your goal in this step is to conduct a two-sample t-test. Recall the steps for conducting a hypothesis test:\n",
        "\n",
        "\n",
        "1.   State the null hypothesis and the alternative hypothesis\n",
        "2.   Choose a signficance level\n",
        "3.   Find the p-value\n",
        "4.   Reject or fail to reject the null hypothesis\n",
        "\n"
      ]
    },
    {
      "cell_type": "markdown",
      "metadata": {
        "id": "phXxr74vVPrs"
      },
      "source": [
        "* $H_0$: there's no difference between the number of views between the videos coming from verified users and those coming from unverified users.\n",
        "* $H_A$: there's a difference between the number of views between the videos coming from verified users and those coming from unverified users."
      ]
    },
    {
      "cell_type": "markdown",
      "metadata": {
        "id": "IVHpnfvNeTUA"
      },
      "source": [
        "You choose 5% as the significance level and proceed with a two-sample t-test."
      ]
    },
    {
      "cell_type": "code",
      "execution_count": null,
      "metadata": {
        "id": "rdlsXg7Dhbrd",
        "outputId": "687226f1-aff3-441c-ccef-4f50d77777db"
      },
      "outputs": [
        {
          "data": {
            "text/plain": [
              "Ttest_indResult(statistic=-25.499441780633777, pvalue=2.6088823687177823e-120)"
            ]
          },
          "execution_count": 9,
          "metadata": {},
          "output_type": "execute_result"
        }
      ],
      "source": [
        "# Conduct a two-sample t-test to compare means\n",
        "avg_verified_users = df[df['verified_status'] == \"verified\"]['video_view_count']\n",
        "avg_unverified_users = df[df['verified_status'] == \"not verified\"]['video_view_count']\n",
        "\n",
        "stats.ttest_ind(a=avg_verified_users, b=avg_unverified_users, equal_var=False)"
      ]
    },
    {
      "cell_type": "markdown",
      "metadata": {
        "id": "BmCJLuE2vwpI"
      },
      "source": [
        "**Question:** Based on the p-value you got above, do you reject or fail to reject the null hypothesis?\n"
      ]
    },
    {
      "cell_type": "markdown",
      "metadata": {
        "id": "64Wq_VSaVsNm"
      },
      "source": [
        "The p-value is about 2.60%.\n",
        "\n",
        "This means there is only a 2.60% probability that the absolute difference between the two average views for videos coming from verified and non-verified users would be 174.244 greater if the null hypothesis were true. In other words, it's highly unlikely that the difference in views between videos coming from verified and non-verified users is due to chance.\n",
        "\n",
        "Therefore, as the p-value is less than the significance level of 5%, there is a statistically significant difference between the views coming from verified users and those from unverified users."
      ]
    },
    {
      "cell_type": "markdown",
      "metadata": {
        "id": "Ab4e-W3mzX6r"
      },
      "source": [
        "## **PACE: Execute**\n",
        "\n",
        "Consider the questions in your PACE Strategy Documentto reflect on the Execute stage."
      ]
    },
    {
      "cell_type": "markdown",
      "metadata": {
        "id": "h1PRfiD3hcwE"
      },
      "source": [
        "## **Step 4: Communicate insights with stakeholders**"
      ]
    },
    {
      "cell_type": "markdown",
      "metadata": {
        "id": "ItreFaZKhvVw"
      },
      "source": [
        "*Ask yourself the following questions:*\n",
        "\n",
        "1. What business insight(s) can you draw from the result of your hypothesis test?"
      ]
    },
    {
      "cell_type": "markdown",
      "metadata": {
        "id": "lL__ZEvhtQIH"
      },
      "source": [
        "The statistically significant difference suggests that the nonverified users are receiving more views than the verified users. This difference challenges the assumption that verification automatically leads to higher visibility and suggests that content strategy, rather than verification status, plays a crucial role in driving engagement.\n",
        "\n",
        "With that said, it's important for TikTok to conduct a deeper study in order to understand the different behavior of these two groups in social media.\n",
        "\n",
        "Based on the findings, here are the recommended next steps:\n",
        "* Perform a deeper analysis in order to understand what types of content unverified users are posting that may be driving higher engagement. Look at factors such as video length, trends, hashtags, and audience demographics.\n",
        "* Encourage verified users to focus on creating more relatable, authentic content. This might involve engaging more with trends, being transparent with their audience, or posting more user-generated content.\n",
        "* Stay updated on potential changes in TikTok’s algorithm to see if they influence the visibility of verified vs. unverified content, adjusting strategy accordingly.\n",
        "* Set up regular monitoring and reporting on the viewership trends between verified and unverified users to track whether the pattern holds over time or shifts."
      ]
    },
    {
      "cell_type": "markdown",
      "metadata": {
        "id": "fdpJatmD3qAi"
      },
      "source": [
        "**Congratulations!** You've completed this lab. However, you may not notice a green check mark next to this item on Coursera's platform. Please continue your progress regardless of the check mark. Just click on the \"save\" icon at the top of this notebook to ensure your work has been logged."
      ]
    }
  ],
  "metadata": {
    "colab": {
      "provenance": [],
      "toc_visible": true,
      "include_colab_link": true
    },
    "kernelspec": {
      "display_name": "Python 3",
      "language": "python",
      "name": "python3"
    },
    "language_info": {
      "codemirror_mode": {
        "name": "ipython",
        "version": 3
      },
      "file_extension": ".py",
      "mimetype": "text/x-python",
      "name": "python",
      "nbconvert_exporter": "python",
      "pygments_lexer": "ipython3",
      "version": "3.7.6"
    }
  },
  "nbformat": 4,
  "nbformat_minor": 0
}