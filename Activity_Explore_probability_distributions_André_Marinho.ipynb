{
  "cells": [
    {
      "cell_type": "markdown",
      "metadata": {
        "id": "view-in-github",
        "colab_type": "text"
      },
      "source": [
        "<a href=\"https://colab.research.google.com/github/andremarinho17/data_analytics_projects_en/blob/main/Activity_Explore_probability_distributions_Andr%C3%A9_Marinho.ipynb\" target=\"_parent\"><img src=\"https://colab.research.google.com/assets/colab-badge.svg\" alt=\"Open In Colab\"/></a>"
      ]
    },
    {
      "cell_type": "markdown",
      "metadata": {
        "id": "ePeImos0HYMu"
      },
      "source": [
        "# Activity: Exploring probability distributions for the EPA to improve the air quality\n",
        "\n",
        "**Author:** André Marinho\n",
        "\n",
        "<p align=\"center\"><img src=\"https://weadapt.org/wp-content/uploads/2023/05/screenshot_2022-10-19_at_16.35.53.png\" height=\"150px\">\n"
      ]
    },
    {
      "cell_type": "markdown",
      "metadata": {
        "id": "IpCK6RfdHfW8"
      },
      "source": [
        "## **Introduction**\n",
        "\n",
        "The ability to determine which type of probability distribution best fits data, calculate z-score, and detect outliers are essential skills in data work. These capabilities enable data professionals to understand how their data is distributed and identify data points that need further examination.\n",
        "\n",
        "In this activity, you are a member of an analytics team for the United States Environmental Protection Agency (EPA). The data includes information about more than 200 sites, identified by state, county, city, and local site names. One of your main goals is to determine which regions need support to make air quality improvements. Given that carbon monoxide is a major air pollutant, you will investigate data from the Air Quality Index (AQI) with respect to carbon monoxide."
      ]
    },
    {
      "cell_type": "markdown",
      "metadata": {
        "id": "0HjDwXh3HkpB"
      },
      "source": [
        "## **Step 1: Imports**"
      ]
    },
    {
      "cell_type": "markdown",
      "metadata": {
        "id": "2bqq2KoNMb8q"
      },
      "source": [
        "Import relevant libraries, packages, and modules. For this lab, you will need `numpy`, `pandas`, `matplotlib.pyplot`, `statsmodels.api`, and `scipy`."
      ]
    },
    {
      "cell_type": "code",
      "execution_count": null,
      "metadata": {
        "id": "GsZlNee8MXP8"
      },
      "outputs": [],
      "source": [
        "# Import relevant libraries, packages, and modules.\n",
        "\n",
        "import numpy as np\n",
        "import pandas as pd\n",
        "import matplotlib.pyplot as plt\n",
        "import statsmodels.api as sm\n",
        "from scipy import stats"
      ]
    },
    {
      "cell_type": "markdown",
      "metadata": {
        "id": "jr7pHKQRMjoq"
      },
      "source": [
        "A subset of data was taken from the air quality data collected by the EPA, then transformed to suit the purposes of this lab. This subset is a .csv file named `modified_c4_epa_air_quality.csv`. As shown in this cell, the dataset has been automatically loaded in for you. You do not need to download the .csv file, or provide more code, in order to access the dataset and proceed with this lab. Please continue with this activity by completing the following instructions."
      ]
    },
    {
      "cell_type": "code",
      "execution_count": null,
      "metadata": {
        "id": "H5ugMTQzNs3K",
        "outputId": "8f459b21-3aba-4a76-aa4b-ed502f76faae"
      },
      "outputs": [
        {
          "data": {
            "text/html": [
              "<div>\n",
              "<style scoped>\n",
              "    .dataframe tbody tr th:only-of-type {\n",
              "        vertical-align: middle;\n",
              "    }\n",
              "\n",
              "    .dataframe tbody tr th {\n",
              "        vertical-align: top;\n",
              "    }\n",
              "\n",
              "    .dataframe thead th {\n",
              "        text-align: right;\n",
              "    }\n",
              "</style>\n",
              "<table border=\"1\" class=\"dataframe\">\n",
              "  <thead>\n",
              "    <tr style=\"text-align: right;\">\n",
              "      <th></th>\n",
              "      <th>date_local</th>\n",
              "      <th>state_name</th>\n",
              "      <th>county_name</th>\n",
              "      <th>city_name</th>\n",
              "      <th>local_site_name</th>\n",
              "      <th>parameter_name</th>\n",
              "      <th>units_of_measure</th>\n",
              "      <th>aqi_log</th>\n",
              "    </tr>\n",
              "  </thead>\n",
              "  <tbody>\n",
              "    <tr>\n",
              "      <th>0</th>\n",
              "      <td>2018-01-01</td>\n",
              "      <td>Arizona</td>\n",
              "      <td>Maricopa</td>\n",
              "      <td>Buckeye</td>\n",
              "      <td>BUCKEYE</td>\n",
              "      <td>Carbon monoxide</td>\n",
              "      <td>Parts per million</td>\n",
              "      <td>2.079442</td>\n",
              "    </tr>\n",
              "    <tr>\n",
              "      <th>1</th>\n",
              "      <td>2018-01-01</td>\n",
              "      <td>Ohio</td>\n",
              "      <td>Belmont</td>\n",
              "      <td>Shadyside</td>\n",
              "      <td>Shadyside</td>\n",
              "      <td>Carbon monoxide</td>\n",
              "      <td>Parts per million</td>\n",
              "      <td>1.791759</td>\n",
              "    </tr>\n",
              "    <tr>\n",
              "      <th>2</th>\n",
              "      <td>2018-01-01</td>\n",
              "      <td>Wyoming</td>\n",
              "      <td>Teton</td>\n",
              "      <td>Not in a city</td>\n",
              "      <td>Yellowstone National Park - Old Faithful Snow ...</td>\n",
              "      <td>Carbon monoxide</td>\n",
              "      <td>Parts per million</td>\n",
              "      <td>1.098612</td>\n",
              "    </tr>\n",
              "    <tr>\n",
              "      <th>3</th>\n",
              "      <td>2018-01-01</td>\n",
              "      <td>Pennsylvania</td>\n",
              "      <td>Philadelphia</td>\n",
              "      <td>Philadelphia</td>\n",
              "      <td>North East Waste (NEW)</td>\n",
              "      <td>Carbon monoxide</td>\n",
              "      <td>Parts per million</td>\n",
              "      <td>1.386294</td>\n",
              "    </tr>\n",
              "    <tr>\n",
              "      <th>4</th>\n",
              "      <td>2018-01-01</td>\n",
              "      <td>Iowa</td>\n",
              "      <td>Polk</td>\n",
              "      <td>Des Moines</td>\n",
              "      <td>CARPENTER</td>\n",
              "      <td>Carbon monoxide</td>\n",
              "      <td>Parts per million</td>\n",
              "      <td>1.386294</td>\n",
              "    </tr>\n",
              "  </tbody>\n",
              "</table>\n",
              "</div>"
            ],
            "text/plain": [
              "   date_local    state_name   county_name      city_name  \\\n",
              "0  2018-01-01       Arizona      Maricopa        Buckeye   \n",
              "1  2018-01-01          Ohio       Belmont      Shadyside   \n",
              "2  2018-01-01       Wyoming         Teton  Not in a city   \n",
              "3  2018-01-01  Pennsylvania  Philadelphia   Philadelphia   \n",
              "4  2018-01-01          Iowa          Polk     Des Moines   \n",
              "\n",
              "                                     local_site_name   parameter_name  \\\n",
              "0                                            BUCKEYE  Carbon monoxide   \n",
              "1                                          Shadyside  Carbon monoxide   \n",
              "2  Yellowstone National Park - Old Faithful Snow ...  Carbon monoxide   \n",
              "3                             North East Waste (NEW)  Carbon monoxide   \n",
              "4                                          CARPENTER  Carbon monoxide   \n",
              "\n",
              "    units_of_measure   aqi_log  \n",
              "0  Parts per million  2.079442  \n",
              "1  Parts per million  1.791759  \n",
              "2  Parts per million  1.098612  \n",
              "3  Parts per million  1.386294  \n",
              "4  Parts per million  1.386294  "
            ]
          },
          "execution_count": 3,
          "metadata": {},
          "output_type": "execute_result"
        }
      ],
      "source": [
        "# RUN THIS CELL TO IMPORT YOUR DATA.\n",
        "\n",
        "df = pd.read_csv(\"modified_c4_epa_air_quality.csv\")\n",
        "df.head()"
      ]
    },
    {
      "cell_type": "markdown",
      "metadata": {
        "id": "_CqNLb1Xzrjl"
      },
      "source": [
        "<details><summary><h4><strong>Hint 1</strong></h4></summary>\n",
        "\n",
        "Refer to what you learned about loading data in Python.\n",
        "    \n",
        "  \n",
        "</details>"
      ]
    },
    {
      "cell_type": "markdown",
      "metadata": {
        "id": "TKLR_AKezrjn"
      },
      "source": [
        "<details><summary><h4><strong>Hint 2</strong></h4></summary>\n",
        "\n",
        "There is a function in the `pandas` library that allows you to load data from a .csv file into a DataFrame.\n",
        "    \n",
        "  \n",
        "</details>"
      ]
    },
    {
      "cell_type": "markdown",
      "metadata": {
        "id": "L41MRy4Yzrjp"
      },
      "source": [
        "<details><summary><h4><strong>Hint 3</strong></h4></summary>\n",
        "\n",
        "Use the `read_csv()` function and pass in the name of the csv file as a string.\n",
        "    \n",
        "</details>"
      ]
    },
    {
      "cell_type": "markdown",
      "metadata": {
        "id": "4QfLAVCkHmeQ"
      },
      "source": [
        "## **Step 2: Data exploration**"
      ]
    },
    {
      "cell_type": "markdown",
      "metadata": {
        "id": "fuauZV55QESy"
      },
      "source": [
        "Display the first 10 rows of the data to get a sense of how the data is structured."
      ]
    },
    {
      "cell_type": "code",
      "execution_count": null,
      "metadata": {
        "id": "ngwYbaEwPjTb",
        "outputId": "c74878f9-2eaa-4790-cd36-af599018392f"
      },
      "outputs": [
        {
          "data": {
            "text/html": [
              "<div>\n",
              "<style scoped>\n",
              "    .dataframe tbody tr th:only-of-type {\n",
              "        vertical-align: middle;\n",
              "    }\n",
              "\n",
              "    .dataframe tbody tr th {\n",
              "        vertical-align: top;\n",
              "    }\n",
              "\n",
              "    .dataframe thead th {\n",
              "        text-align: right;\n",
              "    }\n",
              "</style>\n",
              "<table border=\"1\" class=\"dataframe\">\n",
              "  <thead>\n",
              "    <tr style=\"text-align: right;\">\n",
              "      <th></th>\n",
              "      <th>date_local</th>\n",
              "      <th>state_name</th>\n",
              "      <th>county_name</th>\n",
              "      <th>city_name</th>\n",
              "      <th>local_site_name</th>\n",
              "      <th>parameter_name</th>\n",
              "      <th>units_of_measure</th>\n",
              "      <th>aqi_log</th>\n",
              "    </tr>\n",
              "  </thead>\n",
              "  <tbody>\n",
              "    <tr>\n",
              "      <th>0</th>\n",
              "      <td>2018-01-01</td>\n",
              "      <td>Arizona</td>\n",
              "      <td>Maricopa</td>\n",
              "      <td>Buckeye</td>\n",
              "      <td>BUCKEYE</td>\n",
              "      <td>Carbon monoxide</td>\n",
              "      <td>Parts per million</td>\n",
              "      <td>2.079442</td>\n",
              "    </tr>\n",
              "    <tr>\n",
              "      <th>1</th>\n",
              "      <td>2018-01-01</td>\n",
              "      <td>Ohio</td>\n",
              "      <td>Belmont</td>\n",
              "      <td>Shadyside</td>\n",
              "      <td>Shadyside</td>\n",
              "      <td>Carbon monoxide</td>\n",
              "      <td>Parts per million</td>\n",
              "      <td>1.791759</td>\n",
              "    </tr>\n",
              "    <tr>\n",
              "      <th>2</th>\n",
              "      <td>2018-01-01</td>\n",
              "      <td>Wyoming</td>\n",
              "      <td>Teton</td>\n",
              "      <td>Not in a city</td>\n",
              "      <td>Yellowstone National Park - Old Faithful Snow ...</td>\n",
              "      <td>Carbon monoxide</td>\n",
              "      <td>Parts per million</td>\n",
              "      <td>1.098612</td>\n",
              "    </tr>\n",
              "    <tr>\n",
              "      <th>3</th>\n",
              "      <td>2018-01-01</td>\n",
              "      <td>Pennsylvania</td>\n",
              "      <td>Philadelphia</td>\n",
              "      <td>Philadelphia</td>\n",
              "      <td>North East Waste (NEW)</td>\n",
              "      <td>Carbon monoxide</td>\n",
              "      <td>Parts per million</td>\n",
              "      <td>1.386294</td>\n",
              "    </tr>\n",
              "    <tr>\n",
              "      <th>4</th>\n",
              "      <td>2018-01-01</td>\n",
              "      <td>Iowa</td>\n",
              "      <td>Polk</td>\n",
              "      <td>Des Moines</td>\n",
              "      <td>CARPENTER</td>\n",
              "      <td>Carbon monoxide</td>\n",
              "      <td>Parts per million</td>\n",
              "      <td>1.386294</td>\n",
              "    </tr>\n",
              "    <tr>\n",
              "      <th>5</th>\n",
              "      <td>2018-01-01</td>\n",
              "      <td>Hawaii</td>\n",
              "      <td>Honolulu</td>\n",
              "      <td>Not in a city</td>\n",
              "      <td>Kapolei</td>\n",
              "      <td>Carbon monoxide</td>\n",
              "      <td>Parts per million</td>\n",
              "      <td>2.708050</td>\n",
              "    </tr>\n",
              "    <tr>\n",
              "      <th>6</th>\n",
              "      <td>2018-01-01</td>\n",
              "      <td>Hawaii</td>\n",
              "      <td>Honolulu</td>\n",
              "      <td>Not in a city</td>\n",
              "      <td>Kapolei</td>\n",
              "      <td>Carbon monoxide</td>\n",
              "      <td>Parts per million</td>\n",
              "      <td>1.098612</td>\n",
              "    </tr>\n",
              "    <tr>\n",
              "      <th>7</th>\n",
              "      <td>2018-01-01</td>\n",
              "      <td>Pennsylvania</td>\n",
              "      <td>Erie</td>\n",
              "      <td>Erie</td>\n",
              "      <td>NaN</td>\n",
              "      <td>Carbon monoxide</td>\n",
              "      <td>Parts per million</td>\n",
              "      <td>1.098612</td>\n",
              "    </tr>\n",
              "    <tr>\n",
              "      <th>8</th>\n",
              "      <td>2018-01-01</td>\n",
              "      <td>Hawaii</td>\n",
              "      <td>Honolulu</td>\n",
              "      <td>Honolulu</td>\n",
              "      <td>Honolulu</td>\n",
              "      <td>Carbon monoxide</td>\n",
              "      <td>Parts per million</td>\n",
              "      <td>1.791759</td>\n",
              "    </tr>\n",
              "    <tr>\n",
              "      <th>9</th>\n",
              "      <td>2018-01-01</td>\n",
              "      <td>Colorado</td>\n",
              "      <td>Larimer</td>\n",
              "      <td>Fort Collins</td>\n",
              "      <td>Fort Collins - CSU - S. Mason</td>\n",
              "      <td>Carbon monoxide</td>\n",
              "      <td>Parts per million</td>\n",
              "      <td>1.945910</td>\n",
              "    </tr>\n",
              "  </tbody>\n",
              "</table>\n",
              "</div>"
            ],
            "text/plain": [
              "   date_local    state_name   county_name      city_name  \\\n",
              "0  2018-01-01       Arizona      Maricopa        Buckeye   \n",
              "1  2018-01-01          Ohio       Belmont      Shadyside   \n",
              "2  2018-01-01       Wyoming         Teton  Not in a city   \n",
              "3  2018-01-01  Pennsylvania  Philadelphia   Philadelphia   \n",
              "4  2018-01-01          Iowa          Polk     Des Moines   \n",
              "5  2018-01-01        Hawaii      Honolulu  Not in a city   \n",
              "6  2018-01-01        Hawaii      Honolulu  Not in a city   \n",
              "7  2018-01-01  Pennsylvania          Erie           Erie   \n",
              "8  2018-01-01        Hawaii      Honolulu       Honolulu   \n",
              "9  2018-01-01      Colorado       Larimer   Fort Collins   \n",
              "\n",
              "                                     local_site_name   parameter_name  \\\n",
              "0                                            BUCKEYE  Carbon monoxide   \n",
              "1                                          Shadyside  Carbon monoxide   \n",
              "2  Yellowstone National Park - Old Faithful Snow ...  Carbon monoxide   \n",
              "3                             North East Waste (NEW)  Carbon monoxide   \n",
              "4                                          CARPENTER  Carbon monoxide   \n",
              "5                                            Kapolei  Carbon monoxide   \n",
              "6                                            Kapolei  Carbon monoxide   \n",
              "7                                                NaN  Carbon monoxide   \n",
              "8                                           Honolulu  Carbon monoxide   \n",
              "9                      Fort Collins - CSU - S. Mason  Carbon monoxide   \n",
              "\n",
              "    units_of_measure   aqi_log  \n",
              "0  Parts per million  2.079442  \n",
              "1  Parts per million  1.791759  \n",
              "2  Parts per million  1.098612  \n",
              "3  Parts per million  1.386294  \n",
              "4  Parts per million  1.386294  \n",
              "5  Parts per million  2.708050  \n",
              "6  Parts per million  1.098612  \n",
              "7  Parts per million  1.098612  \n",
              "8  Parts per million  1.791759  \n",
              "9  Parts per million  1.945910  "
            ]
          },
          "execution_count": 4,
          "metadata": {},
          "output_type": "execute_result"
        }
      ],
      "source": [
        "# Display first 10 rows of the data.\n",
        "\n",
        "df.head(10)"
      ]
    },
    {
      "cell_type": "markdown",
      "metadata": {
        "id": "W3KyiRiUy9c1"
      },
      "source": [
        "<details><summary><h4><strong>Hint 1</strong></h4></summary>\n",
        "\n",
        "Refer to what you learned about exploring datasets in Python.\n",
        "    \n",
        "  \n",
        "</details>"
      ]
    },
    {
      "cell_type": "markdown",
      "metadata": {
        "id": "pTNSUHuuy9c3"
      },
      "source": [
        "<details><summary><h4><strong>Hint 2</strong></h4></summary>\n",
        "\n",
        "There is a function in the `pandas` library that allows you to display a specific number of rows from the top of a DataFrame.\n",
        "    \n",
        "  \n",
        "</details>"
      ]
    },
    {
      "cell_type": "markdown",
      "metadata": {
        "id": "T1bkcUbry9c5"
      },
      "source": [
        "<details><summary><h4><strong>Hint 3</strong></h4></summary>\n",
        "\n",
        "Use the `head()` function and pass in how many rows from the top of the DataFrame you want to display.\n",
        "    \n",
        "</details>"
      ]
    },
    {
      "cell_type": "markdown",
      "metadata": {
        "id": "nV2QIMFBqtOP"
      },
      "source": [
        "The `aqi_log` column represents AQI readings that were transformed logarithmically to suit the objectives of this lab. Taking a logarithm of the aqi to get a bell-shaped distribution is outside the scope of this course, but is helpful to see the normal distribution."
      ]
    },
    {
      "cell_type": "markdown",
      "metadata": {
        "id": "tBGSJbISFrS-"
      },
      "source": [
        "To better understand the quantity of data you are working with, display the number of rows and the number of columns."
      ]
    },
    {
      "cell_type": "code",
      "execution_count": null,
      "metadata": {
        "id": "GuODVFHZF1mu",
        "outputId": "a3c12e09-ec91-49b7-e413-841cd9755137"
      },
      "outputs": [
        {
          "name": "stdout",
          "output_type": "stream",
          "text": [
            "Number of rows: 260\n",
            "Number of columns: 8\n"
          ]
        }
      ],
      "source": [
        "# Display number of rows, number of columns.\n",
        "\n",
        "print('Number of rows:', df.shape[0])\n",
        "print('Number of columns:', df.shape[1])"
      ]
    },
    {
      "cell_type": "markdown",
      "metadata": {
        "id": "ffB-xBf9z9jr"
      },
      "source": [
        "<details><summary><h4><strong>Hint 1</strong></h4></summary>\n",
        "\n",
        "Refer to what you learned about exploring datasets in Python.\n",
        "    \n",
        "</details>"
      ]
    },
    {
      "cell_type": "markdown",
      "metadata": {
        "id": "w8qTKbogz9jt"
      },
      "source": [
        "<details><summary><h4><strong>Hint 2</strong></h4></summary>\n",
        "\n",
        "Every DataFrame in `pandas` has a property that gives you access to the number of rows and number of columns in that DataFrame.\n",
        "  \n",
        "</details>"
      ]
    },
    {
      "cell_type": "markdown",
      "metadata": {
        "id": "MT8owfOfz9ju"
      },
      "source": [
        "<details><summary><h4><strong>Hint 3</strong></h4></summary>\n",
        "\n",
        "Call the `shape` property of the DataFrame, which will display the number of rows and the number of columns as a tuple.\n",
        "    \n",
        "</details>"
      ]
    },
    {
      "cell_type": "markdown",
      "metadata": {
        "id": "1GOeL7M5_551"
      },
      "source": [
        "Now, you want to find out whether `aqi_log` fits a specific type of probability distribution. Create a histogram to visualize the distribution of `aqi_log`. Then, based on its shape, visually determine if it resembles a particular distribution."
      ]
    },
    {
      "cell_type": "code",
      "execution_count": null,
      "metadata": {
        "id": "c_5_FpSOC4A9",
        "outputId": "98a0665a-d374-4110-c007-3371faebabdc"
      },
      "outputs": [
        {
          "data": {
            "image/png": "[encoded data removed]",
            "text/plain": [
              "<Figure size 432x288 with 1 Axes>"
            ]
          },
          "metadata": {
            "needs_background": "light"
          },
          "output_type": "display_data"
        }
      ],
      "source": [
        "# Create a histogram to visualize distribution of aqi_log.\n",
        "\n",
        "df['aqi_log'].hist()\n",
        "plt.title('AQI Readings Histogram')\n",
        "plt.show()"
      ]
    },
    {
      "cell_type": "markdown",
      "metadata": {
        "id": "wJd4DVZEDL1W"
      },
      "source": [
        "<details><summary><h4><strong>Hint 1</strong></h4></summary>\n",
        "\n",
        "Refer to the video about creating a histogram to visualize the distribution of a particular variable in the data.\n",
        "    \n",
        "  \n",
        "</details>"
      ]
    },
    {
      "cell_type": "markdown",
      "metadata": {
        "id": "SlXo2T5_I_5s"
      },
      "source": [
        "<details><summary><h4><strong>Hint 2</strong></h4></summary>\n",
        "\n",
        "There is a function in the `matplotlib` library that can be called to create a histogram.\n",
        "    \n",
        "  \n",
        "</details>"
      ]
    },
    {
      "cell_type": "markdown",
      "metadata": {
        "id": "jVgw1RSpSF_0"
      },
      "source": [
        "<details><summary><h4><strong>Hint 3</strong></h4></summary>\n",
        "\n",
        "The `hist()` function can be called directly on the `aqi_log` column from the data.\n",
        "\n",
        "A semicolon can be used at the end as a quick way to make sure only the plot gets displayed (other text does not get displayed).\n",
        "    \n",
        "</details>"
      ]
    },
    {
      "cell_type": "markdown",
      "metadata": {
        "id": "sGlw_4gfuSbS"
      },
      "source": [
        "**Question:** What do you observe about the shape of the distribution from the histogram?"
      ]
    },
    {
      "cell_type": "markdown",
      "metadata": {
        "id": "7syfcROm10b0"
      },
      "source": [
        "We can observe that we probably have a right-skewed distribution here, not a normal distribution, as the tail is much longer to the right side and the AQI peaks are close to the left. In order to investigate this assumption, additional analysis will be made in the next steps."
      ]
    },
    {
      "cell_type": "markdown",
      "metadata": {
        "id": "79fCHMhDHqf5"
      },
      "source": [
        "## **Step 3: Statistical tests**\n",
        "\n",
        "Use the empirical rule to observe the data, then test and verify that it is normally distributed.\n"
      ]
    },
    {
      "cell_type": "markdown",
      "metadata": {
        "id": "Yn0a1mcrld2y"
      },
      "source": [
        " As you have learned, the empirical rule states that, for every normal distribution:\n",
        "- 68% of the data fall within 1 standard deviation of the mean\n",
        "- 95% of the data fall within 2 standard deviations of the mean\n",
        "- 99.7% of the data fall within 3 standard deviations of the mean\n"
      ]
    },
    {
      "cell_type": "markdown",
      "metadata": {
        "id": "Q6rEDaEJnFgU"
      },
      "source": [
        "First, define two variables to store the mean and standard deviation, respectively, for `aqi_log`. Creating these variables will help you easily access these measures as you continue with the calculations involved in applying the empirical rule."
      ]
    },
    {
      "cell_type": "code",
      "execution_count": null,
      "metadata": {
        "id": "Bl8hZPnrmevm",
        "outputId": "9fbc9bb2-7ff9-42dc-afe1-3ab9cf7e375f"
      },
      "outputs": [
        {
          "data": {
            "text/plain": [
              "1.7669210929985577"
            ]
          },
          "execution_count": 11,
          "metadata": {},
          "output_type": "execute_result"
        }
      ],
      "source": [
        "# Define variable for aqi_log mean.\n",
        "\n",
        "mean_overall_aqi = df['aqi_log'].mean()\n",
        "\n",
        "# Print out the mean.\n",
        "\n",
        "mean_overall_aqi"
      ]
    },
    {
      "cell_type": "code",
      "execution_count": null,
      "metadata": {
        "id": "tIzj5aGAoU_L",
        "outputId": "0ec0d3a2-403c-41e3-ce1a-36b439403bed"
      },
      "outputs": [
        {
          "data": {
            "text/plain": [
              "0.7147155520223721"
            ]
          },
          "execution_count": 15,
          "metadata": {},
          "output_type": "execute_result"
        }
      ],
      "source": [
        "# Define variable for aqi_log standard deviation.\n",
        "\n",
        "std_overall_aqi = df['aqi_log'].std()\n",
        "\n",
        "# Print out the standard deviation.\n",
        "\n",
        "std_overall_aqi"
      ]
    },
    {
      "cell_type": "markdown",
      "metadata": {
        "id": "4ZZsE_EmrYrt"
      },
      "source": [
        "<details><summary><h4><strong>Hint 1</strong></h4></summary>\n",
        "\n",
        "Refer to the lesson about calculating the mean and standard deviation for a particular variable in the data.\n",
        "    \n",
        "  \n",
        "</details>"
      ]
    },
    {
      "cell_type": "markdown",
      "metadata": {
        "id": "TlK7wxJlrYrv"
      },
      "source": [
        "<details><summary><h4><strong>Hint 2</strong></h4></summary>\n",
        "\n",
        "There are functions in the `numpy` library that can be called to calculate mean and standard deviation, respectively.\n",
        "    \n",
        "  \n",
        "</details>"
      ]
    },
    {
      "cell_type": "markdown",
      "metadata": {
        "id": "wsOOmZ8VrYrw"
      },
      "source": [
        "<details><summary><h4><strong>Hint 3</strong></h4></summary>\n",
        "\n",
        "The `mean()` function can be called directly on the `aqi_log` column from the data to compute the mean.\n",
        "\n",
        "The `std()` function can be called directly on the `aqi_log` column from the data to compute the standard deviation.\n",
        "    \n",
        "</details>"
      ]
    },
    {
      "cell_type": "markdown",
      "metadata": {
        "id": "Bajx-iIspBLq"
      },
      "source": [
        "Now, check the first part of the empirical rule: whether 68% of the `aqi_log` data falls within 1 standard deviation of the mean.\n",
        "\n",
        "To compute the actual percentage of the data that satisfies this criteria, define the lower limit (for example, 1 standard deviation below the mean) and the upper limit (for example, 1 standard deviation above the mean). This will enable you to create a range and confirm whether each value falls within it."
      ]
    },
    {
      "cell_type": "code",
      "execution_count": null,
      "metadata": {
        "id": "cyHe7ElJpwk7",
        "outputId": "46c573d6-5a79-4aa1-8f0d-ac4329f65554"
      },
      "outputs": [
        {
          "name": "stdout",
          "output_type": "stream",
          "text": [
            "The lower limit for the AQI readings when it comes to 1 standard deviation below the mean is: 1.0522055409761855\n",
            "The upper limit for the AQI readings when it comes to 1 standard deviation above the mean is: 2.48163664502093\n"
          ]
        }
      ],
      "source": [
        "# Define variable for lower limit, 1 standard deviation below the mean.\n",
        "\n",
        "lower_limit_1std = mean_overall_aqi - (1 * std_overall_aqi)\n",
        "\n",
        "# Define variable for upper limit, 1 standard deviation above the mean.\n",
        "\n",
        "upper_limit_1std = mean_overall_aqi + (1 * std_overall_aqi)\n",
        "\n",
        "# Display lower_limit, upper_limit.\n",
        "\n",
        "print('The lower limit for the AQI readings when it comes to 1 standard deviation below the mean is:', lower_limit_1std)\n",
        "print('The upper limit for the AQI readings when it comes to 1 standard deviation above the mean is:', upper_limit_1std)"
      ]
    },
    {
      "cell_type": "markdown",
      "metadata": {
        "id": "c9z9BjbrsRVd"
      },
      "source": [
        "<details><summary><h4><strong>Hint 1</strong></h4></summary>\n",
        "\n",
        "Refer to the video about using the empirical rule.\n",
        "    \n",
        "  \n",
        "</details>"
      ]
    },
    {
      "cell_type": "markdown",
      "metadata": {
        "id": "GCpWM5DVsRVf"
      },
      "source": [
        "<details><summary><h4><strong>Hint 2</strong></h4></summary>\n",
        "\n",
        "The lower limit here is $mean - 1 * std$.\n",
        "\n",
        "The upper limit here is $mean + 1 * std$.\n",
        "\n",
        "The `print` function can be called to display.\n",
        "    \n",
        "  \n",
        "</details>"
      ]
    },
    {
      "cell_type": "markdown",
      "metadata": {
        "id": "xR5rVWZlsRVg"
      },
      "source": [
        "<details><summary><h4><strong>Hint 3</strong></h4></summary>\n",
        "\n",
        "Use the variables that you defined for mean and standard deviation of `aqi_log`, ensuring the spelling is correct.\n",
        "\n",
        "Call the `print` function and pass in the values one after the other, with a comma between them.\n",
        "    \n",
        "</details>"
      ]
    },
    {
      "cell_type": "code",
      "execution_count": null,
      "metadata": {
        "id": "3nsfy9M2uYmJ",
        "outputId": "19d64ac3-dc6a-402d-fe94-b237250deb26"
      },
      "outputs": [
        {
          "name": "stdout",
          "output_type": "stream",
          "text": [
            "76.2% is the percentage of data that falls within 1 standard deviation of the mean.\n"
          ]
        }
      ],
      "source": [
        "# Display the actual percentage of data that falls within 1 standard deviation of the mean.\n",
        "one_std = ((df['aqi_log'] >= lower_limit_1std) & (df['aqi_log'] <= upper_limit_1std)).mean() * 100\n",
        "print('{}% is the percentage of data that falls within 1 standard deviation of the mean.'.format(round(one_std,1)))"
      ]
    },
    {
      "cell_type": "markdown",
      "metadata": {
        "id": "pwOc5HJBwRv4"
      },
      "source": [
        "<details><summary><h4><strong>Hint 1</strong></h4></summary>\n",
        "\n",
        "Refer to the video about using the empirical rule.\n",
        "    \n",
        "</details>"
      ]
    },
    {
      "cell_type": "markdown",
      "metadata": {
        "id": "1pBnufWBwRv6"
      },
      "source": [
        "<details><summary><h4><strong>Hint 2</strong></h4></summary>\n",
        "\n",
        "The `>=` operator can be used to confirm whether one value is greater than or equal to another value.\n",
        "\n",
        "The `<=` operator can be used to check whether one value is less than or equal to another value.\n",
        "\n",
        "The `&` operator can be used to check if one condition and another condition is met.\n",
        "    \n",
        "</details>"
      ]
    },
    {
      "cell_type": "markdown",
      "metadata": {
        "id": "Un2pdnEFwRv8"
      },
      "source": [
        "<details><summary><h4><strong>Hint 3</strong></h4></summary>\n",
        "\n",
        "The `mean()` function can be used to compute the proportion of the data that satisfies the specified conditions.\n",
        "\n",
        "Multiplying that proportion by $100$ can get you the percentage.\n",
        "    \n",
        "</details>"
      ]
    },
    {
      "cell_type": "markdown",
      "metadata": {
        "id": "ifuD1yuRx399"
      },
      "source": [
        "Now, consider the second part of the empirical rule: whether 95% of the `aqi_log` data falls within 2 standard deviations of the mean.\n",
        "\n",
        "To compute the actual percentage of the data that satisfies this criteria, define the lower limit (for example, 2 standard deviations below the mean) and the upper limit (for example, 2 standard deviations above the mean). This will enable you to create a range and confirm whether each value falls within it."
      ]
    },
    {
      "cell_type": "code",
      "execution_count": null,
      "metadata": {
        "id": "whe6r6J8x39_",
        "outputId": "04f2a87d-2aab-4a54-b27b-a9cba0b1e96c"
      },
      "outputs": [
        {
          "name": "stdout",
          "output_type": "stream",
          "text": [
            "The lower limit for the AQI readings when it comes to 2 standard deviations below the mean is: 0.33748998895381344\n",
            "The upper limit for the AQI readings when it comes to 2 standard deviations above the mean is: 3.1963521970433018\n"
          ]
        }
      ],
      "source": [
        "# Define variable for lower limit, 2 standard deviations below the mean.\n",
        "\n",
        "lower_limit_2std = mean_overall_aqi - (2 * std_overall_aqi)\n",
        "\n",
        "# Define variable for upper limit, 2 standard deviations below the mean.\n",
        "\n",
        "upper_limit_2std = mean_overall_aqi + (2 * std_overall_aqi)\n",
        "\n",
        "# Display lower_limit, upper_limit.\n",
        "\n",
        "print('The lower limit for the AQI readings when it comes to 2 standard deviations below the mean is:', lower_limit_2std)\n",
        "print('The upper limit for the AQI readings when it comes to 2 standard deviations above the mean is:', upper_limit_2std)"
      ]
    },
    {
      "cell_type": "markdown",
      "metadata": {
        "id": "BkF1KJcXx3-A"
      },
      "source": [
        "<details><summary><h4><strong>Hint 1</strong></h4></summary>\n",
        "\n",
        "Refer to the video about using the empirical rule.\n",
        "    \n",
        "  \n",
        "</details>"
      ]
    },
    {
      "cell_type": "markdown",
      "metadata": {
        "id": "vQMEF3RUx3-C"
      },
      "source": [
        "<details><summary><h4><strong>Hint 2</strong></h4></summary>\n",
        "\n",
        "The lower limit here is $mean - 2 * std$.\n",
        "\n",
        "The upper limit here is $mean + 2 * std$.\n",
        "\n",
        "The `print` function can be called to display.\n",
        "    \n",
        "  \n",
        "</details>"
      ]
    },
    {
      "cell_type": "markdown",
      "metadata": {
        "id": "UoZJxgxgx3-C"
      },
      "source": [
        "<details><summary><h4><strong>Hint 3</strong></h4></summary>\n",
        "\n",
        "Use the variables that you defined for mean and standard deviation of `aqi_log`, ensuring the spelling is correct.\n",
        "\n",
        "Call the `print` function and pass in the values one after the other, with a comma between them.\n",
        "    \n",
        "</details>"
      ]
    },
    {
      "cell_type": "code",
      "execution_count": null,
      "metadata": {
        "id": "7CbBgCm3x3-D",
        "outputId": "9a771e46-ab88-47da-d7be-e0e782fdb274"
      },
      "outputs": [
        {
          "name": "stdout",
          "output_type": "stream",
          "text": [
            "95.8% is the percentage of data that falls within 2 standard deviations of the mean.\n"
          ]
        }
      ],
      "source": [
        "# Display the actual percentage of data that falls within 2 standard deviations of the mean.\n",
        "\n",
        "two_std = ((df['aqi_log'] >= lower_limit_2std) & (df['aqi_log'] <= upper_limit_2std)).mean() * 100\n",
        "print('{}% is the percentage of data that falls within 2 standard deviations of the mean.'.format(round(two_std,1)))"
      ]
    },
    {
      "cell_type": "markdown",
      "metadata": {
        "id": "7nzu0vkox3-E"
      },
      "source": [
        "<details><summary><h4><strong>Hint 1</strong></h4></summary>\n",
        "\n",
        "Refer to the video section about using the empirical rule.\n",
        "    \n",
        "</details>"
      ]
    },
    {
      "cell_type": "markdown",
      "metadata": {
        "id": "RlPzPSGox3-F"
      },
      "source": [
        "<details><summary><h4><strong>Hint 2</strong></h4></summary>\n",
        "\n",
        "The `>=` operator can be used to confirm whether one value is greater than or equal to another value.\n",
        "\n",
        "The `<=` operator can be used to check whether one value is less than or equal to another value.\n",
        "\n",
        "The `&` operator can be used to check if one condition and another condition is met.\n",
        "    \n",
        "</details>"
      ]
    },
    {
      "cell_type": "markdown",
      "metadata": {
        "id": "DeUUteBqx3-F"
      },
      "source": [
        "<details><summary><h4><strong>Hint 3</strong></h4></summary>\n",
        "\n",
        "The `mean()` function can be used to compute the proportion of the data that satisfies the specified conditions.\n",
        "\n",
        "Multiplying that proportion by $100$ can get you the percentage.\n",
        "    \n",
        "</details>"
      ]
    },
    {
      "cell_type": "markdown",
      "metadata": {
        "id": "iDwqzZv7yRU2"
      },
      "source": [
        "Now, consider the third part of the empirical rule:whether 99.7% of the `aqi_log` data falls within 3 standard deviations of the mean.\n",
        "\n",
        "To compute the actual percentage of the data that satisfies this criteria, define the lower limit (for example, 3 standard deviations below the mean) and the upper limit (for example, 3 standard deviations above the mean). This will enable you to create a range and confirm whether each value falls within it."
      ]
    },
    {
      "cell_type": "code",
      "execution_count": null,
      "metadata": {
        "id": "LIgS7jmXyRU4",
        "outputId": "00e9df66-3cc9-4cdc-da88-b6776e06f7c7"
      },
      "outputs": [
        {
          "name": "stdout",
          "output_type": "stream",
          "text": [
            "The lower limit for the AQI readings when it comes to 3 standard deviations below the mean is: -0.3772255630685586\n",
            "The upper limit for the AQI readings when it comes to 3 standard deviations above the mean is: 3.911067749065674\n"
          ]
        }
      ],
      "source": [
        "# Define variable for lower limit, 3 standard deviations below the mean.\n",
        "\n",
        "lower_limit_3std = mean_overall_aqi - (3 * std_overall_aqi)\n",
        "\n",
        "# Define variable for upper limit, 3 standard deviations above the mean.\n",
        "\n",
        "upper_limit_3std = mean_overall_aqi + (3 * std_overall_aqi)\n",
        "\n",
        "# Display lower_limit, upper_limit.\n",
        "\n",
        "print('The lower limit for the AQI readings when it comes to 3 standard deviations below the mean is:', lower_limit_3std)\n",
        "print('The upper limit for the AQI readings when it comes to 3 standard deviations above the mean is:', upper_limit_3std)"
      ]
    },
    {
      "cell_type": "markdown",
      "metadata": {
        "id": "7cx24tSdyRU6"
      },
      "source": [
        "<details><summary><h4><strong>Hint 1</strong></h4></summary>\n",
        "\n",
        "Refer to the video about using the empirical rule.\n",
        "    \n",
        "  \n",
        "</details>"
      ]
    },
    {
      "cell_type": "markdown",
      "metadata": {
        "id": "-z7MazcxyRU7"
      },
      "source": [
        "<details><summary><h4><strong>Hint 2</strong></h4></summary>\n",
        "\n",
        "The lower limit here is $mean - 3 * std$.\n",
        "\n",
        "The upper limit here is $mean + 3 * std$.\n",
        "\n",
        "The `print` function can be called to display.\n",
        "    \n",
        "  \n",
        "</details>"
      ]
    },
    {
      "cell_type": "markdown",
      "metadata": {
        "id": "h0Yw666eyRU7"
      },
      "source": [
        "<details><summary><h4><strong>Hint 3</strong></h4></summary>\n",
        "\n",
        "Use the variables that you defined for mean and standard deviation of `aqi_log`, ensuring the spelling is correct.\n",
        "\n",
        "Call the `print` function and pass in the values one after the other, with a comma between them.\n",
        "    \n",
        "</details>"
      ]
    },
    {
      "cell_type": "code",
      "execution_count": null,
      "metadata": {
        "id": "2YNWONRKyRU9",
        "outputId": "562a2019-5d9c-4ffc-95d7-07192e32ddf7"
      },
      "outputs": [
        {
          "name": "stdout",
          "output_type": "stream",
          "text": [
            "99.6% is the percentage of data that falls within 3 standard deviations of the mean.\n"
          ]
        }
      ],
      "source": [
        "# Display the actual percentage of data that falls within 3 standard deviations of the mean.\n",
        "\n",
        "three_std = ((df['aqi_log'] >= lower_limit_3std) & (df['aqi_log'] <= upper_limit_3std)).mean() * 100\n",
        "print('{}% is the percentage of data that falls within 3 standard deviations of the mean.'.format(round(three_std,1)))"
      ]
    },
    {
      "cell_type": "markdown",
      "metadata": {
        "id": "6gQL-S4qyRU-"
      },
      "source": [
        "<details><summary><h4><strong>Hint 1</strong></h4></summary>\n",
        "\n",
        "Refer to the video about using the empirical rule.\n",
        "    \n",
        "</details>"
      ]
    },
    {
      "cell_type": "markdown",
      "metadata": {
        "id": "Msi9Bg4iyRU-"
      },
      "source": [
        "<details><summary><h4><strong>Hint 2</strong></h4></summary>\n",
        "\n",
        "The `>=` operator can be used to confirm whether one value is greater than or equal to another value.\n",
        "\n",
        "The `<=` operator can be used to check whether one value is less than or equal to another value.\n",
        "\n",
        "The `&` operator can be used to check if one condition and another condition is met.\n",
        "    \n",
        "</details>"
      ]
    },
    {
      "cell_type": "markdown",
      "metadata": {
        "id": "MYQsEPvUyRU-"
      },
      "source": [
        "<details><summary><h4><strong>Hint 3</strong></h4></summary>\n",
        "\n",
        "The `mean()` function can be used to compute the proportion of the data that satisfies the specified conditions.\n",
        "\n",
        "Multiplying that proportion by $100$ can get you the percentage.\n",
        "    \n",
        "</details>"
      ]
    },
    {
      "cell_type": "markdown",
      "metadata": {
        "id": "WMs52bG7Htuc"
      },
      "source": [
        "## **Step 4: Results and evaluation**"
      ]
    },
    {
      "cell_type": "markdown",
      "metadata": {
        "id": "33nFzX120u2z"
      },
      "source": [
        "**Question:** What results did you attain by applying the empirical rule?"
      ]
    },
    {
      "cell_type": "markdown",
      "metadata": {
        "id": "MDp6w9Yu11lm"
      },
      "source": [
        "The results obtained by applying the empirical rule were:\n",
        "* 76.2% of the AQI readings fall within +/- 1 standard deviation from the mean.\n",
        "* 95.8% of the AQI readings fall within +/- 2 standard deviations from the mean.\n",
        "* 99.6% of the AQI readings fall within +/- 3 standard deviations from the mean.\n",
        "\n",
        "Although the last two percentages do satisfy the empirical rule criteria, the first doesn't, as 76% is above 68%, which is the first criterion. With that said, the AQI readings column doesn't follow an exact normal distribution but is considerably normal."
      ]
    },
    {
      "cell_type": "markdown",
      "metadata": {
        "id": "yGVspw1N6Zom"
      },
      "source": [
        "**Question:** How would you use z-score to find outliers?"
      ]
    },
    {
      "cell_type": "markdown",
      "metadata": {
        "id": "1tFlqjv112BU"
      },
      "source": [
        "The use of z-score can help to identify outliers by standardizing the dataset and determining how far each data point is from the mean in terms of standard deviations. To determine the outliers, it is necessary to identify how many AQI readings are above or below 3 standard deviations from the mean."
      ]
    },
    {
      "cell_type": "markdown",
      "metadata": {
        "id": "OiBYE9FW8bSf"
      },
      "source": [
        "Compute the z-score for every `aqi_log` value. Then, add a column named `z_score` in the data to store those results."
      ]
    },
    {
      "cell_type": "code",
      "execution_count": null,
      "metadata": {
        "id": "EGh6jJ-a9bph",
        "outputId": "00b6bf0f-bc05-499b-ed85-ddb457eaf101"
      },
      "outputs": [
        {
          "data": {
            "text/html": [
              "<div>\n",
              "<style scoped>\n",
              "    .dataframe tbody tr th:only-of-type {\n",
              "        vertical-align: middle;\n",
              "    }\n",
              "\n",
              "    .dataframe tbody tr th {\n",
              "        vertical-align: top;\n",
              "    }\n",
              "\n",
              "    .dataframe thead th {\n",
              "        text-align: right;\n",
              "    }\n",
              "</style>\n",
              "<table border=\"1\" class=\"dataframe\">\n",
              "  <thead>\n",
              "    <tr style=\"text-align: right;\">\n",
              "      <th></th>\n",
              "      <th>date_local</th>\n",
              "      <th>state_name</th>\n",
              "      <th>county_name</th>\n",
              "      <th>city_name</th>\n",
              "      <th>local_site_name</th>\n",
              "      <th>parameter_name</th>\n",
              "      <th>units_of_measure</th>\n",
              "      <th>aqi_log</th>\n",
              "      <th>aqi_z_score</th>\n",
              "    </tr>\n",
              "  </thead>\n",
              "  <tbody>\n",
              "    <tr>\n",
              "      <th>0</th>\n",
              "      <td>2018-01-01</td>\n",
              "      <td>Arizona</td>\n",
              "      <td>Maricopa</td>\n",
              "      <td>Buckeye</td>\n",
              "      <td>BUCKEYE</td>\n",
              "      <td>Carbon monoxide</td>\n",
              "      <td>Parts per million</td>\n",
              "      <td>2.079442</td>\n",
              "      <td>0.438109</td>\n",
              "    </tr>\n",
              "    <tr>\n",
              "      <th>1</th>\n",
              "      <td>2018-01-01</td>\n",
              "      <td>Ohio</td>\n",
              "      <td>Belmont</td>\n",
              "      <td>Shadyside</td>\n",
              "      <td>Shadyside</td>\n",
              "      <td>Carbon monoxide</td>\n",
              "      <td>Parts per million</td>\n",
              "      <td>1.791759</td>\n",
              "      <td>0.034820</td>\n",
              "    </tr>\n",
              "    <tr>\n",
              "      <th>2</th>\n",
              "      <td>2018-01-01</td>\n",
              "      <td>Wyoming</td>\n",
              "      <td>Teton</td>\n",
              "      <td>Not in a city</td>\n",
              "      <td>Yellowstone National Park - Old Faithful Snow ...</td>\n",
              "      <td>Carbon monoxide</td>\n",
              "      <td>Parts per million</td>\n",
              "      <td>1.098612</td>\n",
              "      <td>-0.936873</td>\n",
              "    </tr>\n",
              "    <tr>\n",
              "      <th>3</th>\n",
              "      <td>2018-01-01</td>\n",
              "      <td>Pennsylvania</td>\n",
              "      <td>Philadelphia</td>\n",
              "      <td>Philadelphia</td>\n",
              "      <td>North East Waste (NEW)</td>\n",
              "      <td>Carbon monoxide</td>\n",
              "      <td>Parts per million</td>\n",
              "      <td>1.386294</td>\n",
              "      <td>-0.533584</td>\n",
              "    </tr>\n",
              "    <tr>\n",
              "      <th>4</th>\n",
              "      <td>2018-01-01</td>\n",
              "      <td>Iowa</td>\n",
              "      <td>Polk</td>\n",
              "      <td>Des Moines</td>\n",
              "      <td>CARPENTER</td>\n",
              "      <td>Carbon monoxide</td>\n",
              "      <td>Parts per million</td>\n",
              "      <td>1.386294</td>\n",
              "      <td>-0.533584</td>\n",
              "    </tr>\n",
              "  </tbody>\n",
              "</table>\n",
              "</div>"
            ],
            "text/plain": [
              "   date_local    state_name   county_name      city_name  \\\n",
              "0  2018-01-01       Arizona      Maricopa        Buckeye   \n",
              "1  2018-01-01          Ohio       Belmont      Shadyside   \n",
              "2  2018-01-01       Wyoming         Teton  Not in a city   \n",
              "3  2018-01-01  Pennsylvania  Philadelphia   Philadelphia   \n",
              "4  2018-01-01          Iowa          Polk     Des Moines   \n",
              "\n",
              "                                     local_site_name   parameter_name  \\\n",
              "0                                            BUCKEYE  Carbon monoxide   \n",
              "1                                          Shadyside  Carbon monoxide   \n",
              "2  Yellowstone National Park - Old Faithful Snow ...  Carbon monoxide   \n",
              "3                             North East Waste (NEW)  Carbon monoxide   \n",
              "4                                          CARPENTER  Carbon monoxide   \n",
              "\n",
              "    units_of_measure   aqi_log  aqi_z_score  \n",
              "0  Parts per million  2.079442     0.438109  \n",
              "1  Parts per million  1.791759     0.034820  \n",
              "2  Parts per million  1.098612    -0.936873  \n",
              "3  Parts per million  1.386294    -0.533584  \n",
              "4  Parts per million  1.386294    -0.533584  "
            ]
          },
          "execution_count": 37,
          "metadata": {},
          "output_type": "execute_result"
        }
      ],
      "source": [
        "# Compute the z-score for every aqi_log value, and add a column named z_score in the data to store those results.\n",
        "\n",
        "df['aqi_z_score'] = stats.zscore(df['aqi_log'])\n",
        "\n",
        "# Display the first 5 rows to ensure that the new column was added.\n",
        "\n",
        "df.head(5)"
      ]
    },
    {
      "cell_type": "markdown",
      "metadata": {
        "id": "INyNi88Q9oE0"
      },
      "source": [
        "<details><summary><h4><strong>Hint 1</strong></h4></summary>\n",
        "\n",
        "Refer to the video about calculating z-score.\n",
        "    \n",
        "</details>"
      ]
    },
    {
      "cell_type": "markdown",
      "metadata": {
        "id": "aDxFLj8X9oE1"
      },
      "source": [
        "<details><summary><h4><strong>Hint 2</strong></h4></summary>\n",
        "\n",
        "There is a function in the `stats` module of the `scipy` library that you can call to calculate z-score.\n",
        "    \n",
        "</details>"
      ]
    },
    {
      "cell_type": "markdown",
      "metadata": {
        "id": "lqtjeWf59oE1"
      },
      "source": [
        "<details><summary><h4><strong>Hint 3</strong></h4></summary>\n",
        "\n",
        "Call the `zscore()` function and pass in the `aqi` column from the data.\n",
        "    \n",
        "</details>"
      ]
    },
    {
      "cell_type": "markdown",
      "metadata": {
        "id": "0A4dXHJz-r4q"
      },
      "source": [
        "Identify the parts of the data where `aqi_log` is above or below 3 standard deviations of the mean."
      ]
    },
    {
      "cell_type": "code",
      "execution_count": null,
      "metadata": {
        "id": "uZKI5h2q-5TI",
        "outputId": "2ecd8348-ae3c-4088-c35b-0489c12d612b"
      },
      "outputs": [
        {
          "data": {
            "text/html": [
              "<div>\n",
              "<style scoped>\n",
              "    .dataframe tbody tr th:only-of-type {\n",
              "        vertical-align: middle;\n",
              "    }\n",
              "\n",
              "    .dataframe tbody tr th {\n",
              "        vertical-align: top;\n",
              "    }\n",
              "\n",
              "    .dataframe thead th {\n",
              "        text-align: right;\n",
              "    }\n",
              "</style>\n",
              "<table border=\"1\" class=\"dataframe\">\n",
              "  <thead>\n",
              "    <tr style=\"text-align: right;\">\n",
              "      <th></th>\n",
              "      <th>date_local</th>\n",
              "      <th>state_name</th>\n",
              "      <th>county_name</th>\n",
              "      <th>city_name</th>\n",
              "      <th>local_site_name</th>\n",
              "      <th>parameter_name</th>\n",
              "      <th>units_of_measure</th>\n",
              "      <th>aqi_log</th>\n",
              "      <th>aqi_z_score</th>\n",
              "    </tr>\n",
              "  </thead>\n",
              "  <tbody>\n",
              "    <tr>\n",
              "      <th>244</th>\n",
              "      <td>2018-01-01</td>\n",
              "      <td>Arizona</td>\n",
              "      <td>Maricopa</td>\n",
              "      <td>Phoenix</td>\n",
              "      <td>WEST PHOENIX</td>\n",
              "      <td>Carbon monoxide</td>\n",
              "      <td>Parts per million</td>\n",
              "      <td>3.931826</td>\n",
              "      <td>3.034886</td>\n",
              "    </tr>\n",
              "  </tbody>\n",
              "</table>\n",
              "</div>"
            ],
            "text/plain": [
              "     date_local state_name county_name city_name local_site_name  \\\n",
              "244  2018-01-01    Arizona    Maricopa   Phoenix    WEST PHOENIX   \n",
              "\n",
              "      parameter_name   units_of_measure   aqi_log  aqi_z_score  \n",
              "244  Carbon monoxide  Parts per million  3.931826     3.034886  "
            ]
          },
          "execution_count": 39,
          "metadata": {},
          "output_type": "execute_result"
        }
      ],
      "source": [
        "# Display data where `aqi_log` is above or below 3 standard deviations of the mean\n",
        "\n",
        "df[(df['aqi_z_score'] <= -3) | (df['aqi_z_score'] >= 3)]"
      ]
    },
    {
      "cell_type": "markdown",
      "metadata": {
        "id": "zL5i0J4KDLlg"
      },
      "source": [
        "<details><summary><h4><strong>Hint 1</strong></h4></summary>\n",
        "\n",
        "Refer to the video about outlier detection.\n",
        "    \n",
        "</details>"
      ]
    },
    {
      "cell_type": "markdown",
      "metadata": {
        "id": "5aY_4E5LDLli"
      },
      "source": [
        "<details><summary><h4><strong>Hint 2</strong></h4></summary>\n",
        "\n",
        "The `>` operator can be used to evaluate whether one value is greater than another value.\n",
        "\n",
        "The `<` operator can be used to evaluate whether one value is less than another value.\n",
        "\n",
        "The `|` operator can used to evaluate whether one condition or another condition is met.  \n",
        "    \n",
        "</details>"
      ]
    },
    {
      "cell_type": "markdown",
      "metadata": {
        "id": "g5K4uBV3DLlj"
      },
      "source": [
        "<details><summary><h4><strong>Hint 3</strong></h4></summary>\n",
        "\n",
        "To index the DataFrame, place a pair of parantheses around the evaluation of the two conditions and pass that into a pair of square brackets. This will allow you to get all rows in the data where the specified criteria is met.\n",
        "\n",
        "Make sure the spelling of the column matches the name you specified when creating that column.\n",
        "    \n",
        "</details>"
      ]
    },
    {
      "cell_type": "markdown",
      "metadata": {
        "id": "KKE1k3i4_gHK"
      },
      "source": [
        "**Question:** What do you observe about potential outliers based on the calculations?\n"
      ]
    },
    {
      "cell_type": "markdown",
      "metadata": {
        "id": "VUJidfrT12kv"
      },
      "source": [
        "It's possible to observe that Maricopa, a county from Phoenix (Arizona), has the worst air quality of all sites, as the AQI is a little above 3 standard deviations of the mean."
      ]
    },
    {
      "cell_type": "markdown",
      "metadata": {
        "id": "WkzrnFdy7nQL"
      },
      "source": [
        "**Question:** Why is outlier detection an important part of this project?"
      ]
    },
    {
      "cell_type": "markdown",
      "metadata": {
        "id": "zGDvFeUc13Aj"
      },
      "source": [
        "The detection of this outlier can help the government to direct funds and shape new policies in order to improve the air quality in West Phoenix (Arizona)."
      ]
    },
    {
      "cell_type": "markdown",
      "metadata": {
        "id": "W1bNKZYNHjDr"
      },
      "source": [
        "## **Considerations**"
      ]
    },
    {
      "cell_type": "markdown",
      "metadata": {
        "id": "kecJlWA815Ld"
      },
      "source": [
        "**What are some key takeaways that you learned during this lab?**"
      ]
    },
    {
      "cell_type": "markdown",
      "metadata": {
        "id": "WviSDGgi17BQ"
      },
      "source": [
        "Identifying the distribution and analyzing which type of distribution fits the data it's important in order to conduct additional analysis, including Machine Learning considering that the distribution is normal. In addition, the use of z-score helps a lot to standardize the data and identify outliers."
      ]
    },
    {
      "cell_type": "markdown",
      "metadata": {
        "id": "XQ5JZ-MP17YU"
      },
      "source": [
        "**What summary would you provide to stakeholders? Consider the distribution of the data and which sites would benefit from additional research.**"
      ]
    },
    {
      "cell_type": "markdown",
      "metadata": {
        "id": "5eJaCTo_19Y4"
      },
      "source": [
        "The following observations stood out:\n",
        "* We don't have an exact normal distribution for the AQI readings, but a considerably normal distribution, with most values falling above the mean, which means that most of the sites don't have good air quality.\n",
        "* West Phoenix has the most unfavorable AQI index. With that said, further investigations must be conducted and new policies are urgent in order to improve the air quality in that region."
      ]
    },
    {
      "cell_type": "markdown",
      "metadata": {
        "id": "K2AW3yb9QtIF"
      },
      "source": [
        "**Reference**\n",
        "\n",
        "US EPA, OAR. 2014, July 8. [Air Data: Air Quality Data Collected at Outdoor Monitors Across the US](https://www.epa.gov/outdoor-air-quality-data)."
      ]
    },
    {
      "cell_type": "markdown",
      "metadata": {
        "id": "fG9dFXt0wE8n"
      },
      "source": [
        "**Congratulations!** You've completed this lab. However, you may not notice a green check mark next to this item on Coursera's platform. Please continue your progress regardless of the check mark. Just click on the \"save\" icon at the top of this notebook to ensure your work has been logged."
      ]
    }
  ],
  "metadata": {
    "colab": {
      "provenance": [],
      "include_colab_link": true
    },
    "kernelspec": {
      "display_name": "Python 3",
      "language": "python",
      "name": "python3"
    },
    "language_info": {
      "codemirror_mode": {
        "name": "ipython",
        "version": 3
      },
      "file_extension": ".py",
      "mimetype": "text/x-python",
      "name": "python",
      "nbconvert_exporter": "python",
      "pygments_lexer": "ipython3",
      "version": "3.7.6"
    }
  },
  "nbformat": 4,
  "nbformat_minor": 0
}