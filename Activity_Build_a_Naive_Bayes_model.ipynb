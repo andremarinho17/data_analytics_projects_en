{
  "cells": [
    {
      "cell_type": "markdown",
      "metadata": {
        "id": "view-in-github",
        "colab_type": "text"
      },
      "source": [
        "<a href=\"https://colab.research.google.com/github/andremarinho17/data_analytics_projects_en/blob/main/Activity_Build_a_Naive_Bayes_model.ipynb\" target=\"_parent\"><img src=\"https://colab.research.google.com/assets/colab-badge.svg\" alt=\"Open In Colab\"/></a>"
      ]
    },
    {
      "cell_type": "markdown",
      "metadata": {
        "id": "yugMU9MjJtBl"
      },
      "source": [
        "# Activity: Build a Naive Bayes model to predict the NBA players career duration\n",
        "\n",
        "<p align=\"center\"><img src=\"https://wallpapercat.com/w/full/4/c/5/921784-1920x1200-desktop-hd-nba-wallpaper-image.jpg\" >\n",
        "\n",
        "Art: Wallpapercat.com\n",
        "\n",
        "### Author: André Marinho"
      ]
    },
    {
      "cell_type": "markdown",
      "metadata": {
        "id": "EzWqJunmJotv"
      },
      "source": [
        "## Introduction\n",
        "\n",
        "In this activity, you will build your own Naive Bayes model. Naive Bayes models can be valuable to use any time you are doing work with predictions because they give you a way to account for new information. In today's world, where data is constantly evolving, modeling with Naive Bayes can help you adapt quickly and make more accurate predictions about what could occur.\n",
        "\n",
        "For this activity, you work for a firm that provides insights for management and coaches in the National Basketball Association (NBA), a professional basketball league in North America. The league is interested in retaining players who can last in the high-pressure environment of professional basketball and help the team be successful over time. In the previous activity, you analyzed a subset of data that contained information about the NBA players and their performance records. You conducted feature engineering to determine which features would most effectively predict a player's career duration. You will now use those insights to build a model that predicts whether a player will have an NBA career lasting five years or more.\n",
        "\n",
        "The data for this activity consists of performance statistics from each player's rookie year. There are 1,341 observations, and each observation in the data represents a different player in the NBA. Your target variable is a Boolean value that indicates whether a given player will last in the league for five years. Since you previously performed feature engineering on this data, it is now ready for modeling.   "
      ]
    },
    {
      "cell_type": "markdown",
      "metadata": {
        "id": "yTVinL1hJqoy"
      },
      "source": [
        "## Step 1: Imports"
      ]
    },
    {
      "cell_type": "markdown",
      "metadata": {
        "id": "DDIRpqkZJ4S8"
      },
      "source": [
        "### Import packages\n",
        "\n",
        "Begin with your import statements. Of particular note here are `pandas` and from `sklearn`, `naive_bayes`, `model_selection`, and `metrics`."
      ]
    },
    {
      "cell_type": "code",
      "execution_count": null,
      "metadata": {
        "id": "1nDjAJPa4lVZ"
      },
      "outputs": [],
      "source": [
        "# Import relevant libraries and modules.\n",
        "\n",
        "import pandas as pd\n",
        "from sklearn import naive_bayes\n",
        "from sklearn import model_selection\n",
        "from sklearn import metrics"
      ]
    },
    {
      "cell_type": "markdown",
      "metadata": {
        "id": "hKylHziGzY3X"
      },
      "source": [
        "### Load the dataset\n",
        "\n",
        "Recall that in the lab about feature engineering, you outputted features for the NBA player dataset along with the target variable ``target_5yrs``. Data was imported as a DataFrame called `extracted_data`. As shown in this cell, the dataset has been automatically loaded in for you. You do not need to download the .csv file, or provide more code, in order to access the dataset and proceed with this lab. Please continue with this activity by completing the following instructions."
      ]
    },
    {
      "cell_type": "code",
      "execution_count": null,
      "metadata": {
        "id": "4ebqpNcm4BDH"
      },
      "outputs": [],
      "source": [
        "# RUN THIS CELL TO IMPORT YOUR DATA.\n",
        "# Load extracted_nba_players_data.csv into a DataFrame called extracted_data.\n",
        "\n",
        "df = pd.read_csv('extracted_nba_players_data.csv')"
      ]
    },
    {
      "cell_type": "markdown",
      "metadata": {
        "id": "yXvtnFn5oBIG"
      },
      "source": [
        "### Display the data\n",
        "\n",
        "Review the first 10 rows of data."
      ]
    },
    {
      "cell_type": "code",
      "execution_count": null,
      "metadata": {
        "id": "JWu8u19C2sn1",
        "outputId": "8b75fb97-94ef-46f6-ae39-defb18e1a286"
      },
      "outputs": [
        {
          "data": {
            "text/html": [
              "<div>\n",
              "<style scoped>\n",
              "    .dataframe tbody tr th:only-of-type {\n",
              "        vertical-align: middle;\n",
              "    }\n",
              "\n",
              "    .dataframe tbody tr th {\n",
              "        vertical-align: top;\n",
              "    }\n",
              "\n",
              "    .dataframe thead th {\n",
              "        text-align: right;\n",
              "    }\n",
              "</style>\n",
              "<table border=\"1\" class=\"dataframe\">\n",
              "  <thead>\n",
              "    <tr style=\"text-align: right;\">\n",
              "      <th></th>\n",
              "      <th>fg</th>\n",
              "      <th>3p</th>\n",
              "      <th>ft</th>\n",
              "      <th>reb</th>\n",
              "      <th>ast</th>\n",
              "      <th>stl</th>\n",
              "      <th>blk</th>\n",
              "      <th>tov</th>\n",
              "      <th>target_5yrs</th>\n",
              "      <th>total_points</th>\n",
              "      <th>efficiency</th>\n",
              "    </tr>\n",
              "  </thead>\n",
              "  <tbody>\n",
              "    <tr>\n",
              "      <th>0</th>\n",
              "      <td>34.7</td>\n",
              "      <td>25.0</td>\n",
              "      <td>69.9</td>\n",
              "      <td>4.1</td>\n",
              "      <td>1.9</td>\n",
              "      <td>0.4</td>\n",
              "      <td>0.4</td>\n",
              "      <td>1.3</td>\n",
              "      <td>0</td>\n",
              "      <td>266.4</td>\n",
              "      <td>0.270073</td>\n",
              "    </tr>\n",
              "    <tr>\n",
              "      <th>1</th>\n",
              "      <td>29.6</td>\n",
              "      <td>23.5</td>\n",
              "      <td>76.5</td>\n",
              "      <td>2.4</td>\n",
              "      <td>3.7</td>\n",
              "      <td>1.1</td>\n",
              "      <td>0.5</td>\n",
              "      <td>1.6</td>\n",
              "      <td>0</td>\n",
              "      <td>252.0</td>\n",
              "      <td>0.267658</td>\n",
              "    </tr>\n",
              "    <tr>\n",
              "      <th>2</th>\n",
              "      <td>42.2</td>\n",
              "      <td>24.4</td>\n",
              "      <td>67.0</td>\n",
              "      <td>2.2</td>\n",
              "      <td>1.0</td>\n",
              "      <td>0.5</td>\n",
              "      <td>0.3</td>\n",
              "      <td>1.0</td>\n",
              "      <td>0</td>\n",
              "      <td>384.8</td>\n",
              "      <td>0.339869</td>\n",
              "    </tr>\n",
              "    <tr>\n",
              "      <th>3</th>\n",
              "      <td>42.6</td>\n",
              "      <td>22.6</td>\n",
              "      <td>68.9</td>\n",
              "      <td>1.9</td>\n",
              "      <td>0.8</td>\n",
              "      <td>0.6</td>\n",
              "      <td>0.1</td>\n",
              "      <td>1.0</td>\n",
              "      <td>1</td>\n",
              "      <td>330.6</td>\n",
              "      <td>0.491379</td>\n",
              "    </tr>\n",
              "    <tr>\n",
              "      <th>4</th>\n",
              "      <td>52.4</td>\n",
              "      <td>0.0</td>\n",
              "      <td>67.4</td>\n",
              "      <td>2.5</td>\n",
              "      <td>0.3</td>\n",
              "      <td>0.3</td>\n",
              "      <td>0.4</td>\n",
              "      <td>0.8</td>\n",
              "      <td>1</td>\n",
              "      <td>216.0</td>\n",
              "      <td>0.391304</td>\n",
              "    </tr>\n",
              "  </tbody>\n",
              "</table>\n",
              "</div>"
            ],
            "text/plain": [
              "     fg    3p    ft  reb  ast  stl  blk  tov  target_5yrs  total_points  \\\n",
              "0  34.7  25.0  69.9  4.1  1.9  0.4  0.4  1.3            0         266.4   \n",
              "1  29.6  23.5  76.5  2.4  3.7  1.1  0.5  1.6            0         252.0   \n",
              "2  42.2  24.4  67.0  2.2  1.0  0.5  0.3  1.0            0         384.8   \n",
              "3  42.6  22.6  68.9  1.9  0.8  0.6  0.1  1.0            1         330.6   \n",
              "4  52.4   0.0  67.4  2.5  0.3  0.3  0.4  0.8            1         216.0   \n",
              "\n",
              "   efficiency  \n",
              "0    0.270073  \n",
              "1    0.267658  \n",
              "2    0.339869  \n",
              "3    0.491379  \n",
              "4    0.391304  "
            ]
          },
          "execution_count": 40,
          "metadata": {},
          "output_type": "execute_result"
        }
      ],
      "source": [
        "# Display the first 10 rows of data.\n",
        "\n",
        "df.head()"
      ]
    },
    {
      "cell_type": "markdown",
      "metadata": {
        "id": "4zz8claq0Swi"
      },
      "source": [
        "## Step 2: Model preparation"
      ]
    },
    {
      "cell_type": "markdown",
      "metadata": {
        "id": "8kgPx_MP0cuc"
      },
      "source": [
        "### Isolate your target and predictor variables\n",
        "Separately define the target variable (`target_5yrs`) and the features."
      ]
    },
    {
      "cell_type": "code",
      "execution_count": null,
      "metadata": {
        "id": "CNLNtXx-Cjzn",
        "outputId": "c43f1752-fcc9-4280-d3b8-63b169f34953"
      },
      "outputs": [
        {
          "data": {
            "text/plain": [
              "Index(['fg', '3p', 'ft', 'reb', 'ast', 'stl', 'blk', 'tov', 'target_5yrs',\n",
              "       'total_points', 'efficiency'],\n",
              "      dtype='object')"
            ]
          },
          "execution_count": 41,
          "metadata": {},
          "output_type": "execute_result"
        }
      ],
      "source": [
        "df.columns"
      ]
    },
    {
      "cell_type": "code",
      "execution_count": null,
      "metadata": {
        "id": "xO46EzS8oBIG"
      },
      "outputs": [],
      "source": [
        "# Define the y (target) variable.\n",
        "y = df['target_5yrs']\n",
        "\n",
        "# Define the X (predictor) variables.\n",
        "\n",
        "X = df[['fg', '3p', 'ft', 'reb', 'ast', 'stl', 'blk', 'tov', 'total_points', 'efficiency']]"
      ]
    },
    {
      "cell_type": "markdown",
      "metadata": {
        "id": "CzQNmlZ75e_Y"
      },
      "source": [
        "<details>\n",
        "<summary><h4><strong>Hint 1</strong></h4></summary>\n",
        "\n",
        "Refer to [the content about splitting your data into X and y](https://www.coursera.org/learn/the-nuts-and-bolts-of-machine-learning/lecture/VxbUT/construct-a-naive-bayes-model-with-python).\n",
        "</details>"
      ]
    },
    {
      "cell_type": "markdown",
      "metadata": {
        "id": "WWXkObsg5gzd"
      },
      "source": [
        "<details>\n",
        "<summary><h4><strong>Hint 2</strong></h4></summary>\n",
        "\n",
        "In `pandas`, subset your DataFrame by using square brackets `[]` to specify which column(s) to select.\n",
        "</details>"
      ]
    },
    {
      "cell_type": "markdown",
      "metadata": {
        "id": "JU9z6ufC5n58"
      },
      "source": [
        "<details>\n",
        "<summary><h4><strong>Hint 3</strong></h4></summary>\n",
        "\n",
        "Quickly subset a DataFrame to exclude a particular column by using the `drop()` function and specifying the column to drop.\n",
        "</details>"
      ]
    },
    {
      "cell_type": "markdown",
      "metadata": {
        "id": "xj8-Pb0N-rjW"
      },
      "source": [
        "### Display the first 10 rows of your target data\n",
        "\n",
        "Display the first 10 rows of your target and predictor variables. This will help you get a sense of how the data is structured."
      ]
    },
    {
      "cell_type": "code",
      "execution_count": null,
      "metadata": {
        "id": "pivKfaxQ5uHZ",
        "outputId": "92dec42b-ff47-4207-f0af-2f5a600f8bb0"
      },
      "outputs": [
        {
          "data": {
            "text/plain": [
              "0    0\n",
              "1    0\n",
              "2    0\n",
              "3    1\n",
              "4    1\n",
              "5    0\n",
              "6    1\n",
              "7    1\n",
              "8    0\n",
              "9    0\n",
              "Name: target_5yrs, dtype: int64"
            ]
          },
          "execution_count": 43,
          "metadata": {},
          "output_type": "execute_result"
        }
      ],
      "source": [
        "# Display the first 10 rows of your target data.\n",
        "\n",
        "y.head(10)"
      ]
    },
    {
      "cell_type": "markdown",
      "metadata": {
        "id": "oDls2RifZhu2"
      },
      "source": [
        "**Question:** What do you observe about the your target variable?\n"
      ]
    },
    {
      "cell_type": "markdown",
      "metadata": {
        "id": "sc4IshYKzENq"
      },
      "source": [
        "Related to the target variable, `1` indicates that the player has at least 5 years of career duration, and `0` that hasn't."
      ]
    },
    {
      "cell_type": "code",
      "execution_count": null,
      "metadata": {
        "id": "2kDZK5qe-4B0",
        "outputId": "c8c61e82-febf-4993-8fb3-8d3e3dbd4b79"
      },
      "outputs": [
        {
          "data": {
            "text/html": [
              "<div>\n",
              "<style scoped>\n",
              "    .dataframe tbody tr th:only-of-type {\n",
              "        vertical-align: middle;\n",
              "    }\n",
              "\n",
              "    .dataframe tbody tr th {\n",
              "        vertical-align: top;\n",
              "    }\n",
              "\n",
              "    .dataframe thead th {\n",
              "        text-align: right;\n",
              "    }\n",
              "</style>\n",
              "<table border=\"1\" class=\"dataframe\">\n",
              "  <thead>\n",
              "    <tr style=\"text-align: right;\">\n",
              "      <th></th>\n",
              "      <th>fg</th>\n",
              "      <th>3p</th>\n",
              "      <th>ft</th>\n",
              "      <th>reb</th>\n",
              "      <th>ast</th>\n",
              "      <th>stl</th>\n",
              "      <th>blk</th>\n",
              "      <th>tov</th>\n",
              "      <th>total_points</th>\n",
              "      <th>efficiency</th>\n",
              "    </tr>\n",
              "  </thead>\n",
              "  <tbody>\n",
              "    <tr>\n",
              "      <th>0</th>\n",
              "      <td>34.7</td>\n",
              "      <td>25.0</td>\n",
              "      <td>69.9</td>\n",
              "      <td>4.1</td>\n",
              "      <td>1.9</td>\n",
              "      <td>0.4</td>\n",
              "      <td>0.4</td>\n",
              "      <td>1.3</td>\n",
              "      <td>266.4</td>\n",
              "      <td>0.270073</td>\n",
              "    </tr>\n",
              "    <tr>\n",
              "      <th>1</th>\n",
              "      <td>29.6</td>\n",
              "      <td>23.5</td>\n",
              "      <td>76.5</td>\n",
              "      <td>2.4</td>\n",
              "      <td>3.7</td>\n",
              "      <td>1.1</td>\n",
              "      <td>0.5</td>\n",
              "      <td>1.6</td>\n",
              "      <td>252.0</td>\n",
              "      <td>0.267658</td>\n",
              "    </tr>\n",
              "    <tr>\n",
              "      <th>2</th>\n",
              "      <td>42.2</td>\n",
              "      <td>24.4</td>\n",
              "      <td>67.0</td>\n",
              "      <td>2.2</td>\n",
              "      <td>1.0</td>\n",
              "      <td>0.5</td>\n",
              "      <td>0.3</td>\n",
              "      <td>1.0</td>\n",
              "      <td>384.8</td>\n",
              "      <td>0.339869</td>\n",
              "    </tr>\n",
              "    <tr>\n",
              "      <th>3</th>\n",
              "      <td>42.6</td>\n",
              "      <td>22.6</td>\n",
              "      <td>68.9</td>\n",
              "      <td>1.9</td>\n",
              "      <td>0.8</td>\n",
              "      <td>0.6</td>\n",
              "      <td>0.1</td>\n",
              "      <td>1.0</td>\n",
              "      <td>330.6</td>\n",
              "      <td>0.491379</td>\n",
              "    </tr>\n",
              "    <tr>\n",
              "      <th>4</th>\n",
              "      <td>52.4</td>\n",
              "      <td>0.0</td>\n",
              "      <td>67.4</td>\n",
              "      <td>2.5</td>\n",
              "      <td>0.3</td>\n",
              "      <td>0.3</td>\n",
              "      <td>0.4</td>\n",
              "      <td>0.8</td>\n",
              "      <td>216.0</td>\n",
              "      <td>0.391304</td>\n",
              "    </tr>\n",
              "    <tr>\n",
              "      <th>5</th>\n",
              "      <td>42.3</td>\n",
              "      <td>32.5</td>\n",
              "      <td>73.2</td>\n",
              "      <td>0.8</td>\n",
              "      <td>1.8</td>\n",
              "      <td>0.4</td>\n",
              "      <td>0.0</td>\n",
              "      <td>0.7</td>\n",
              "      <td>277.5</td>\n",
              "      <td>0.324561</td>\n",
              "    </tr>\n",
              "    <tr>\n",
              "      <th>6</th>\n",
              "      <td>43.5</td>\n",
              "      <td>50.0</td>\n",
              "      <td>81.1</td>\n",
              "      <td>2.0</td>\n",
              "      <td>0.6</td>\n",
              "      <td>0.2</td>\n",
              "      <td>0.1</td>\n",
              "      <td>0.7</td>\n",
              "      <td>409.2</td>\n",
              "      <td>0.605505</td>\n",
              "    </tr>\n",
              "    <tr>\n",
              "      <th>7</th>\n",
              "      <td>41.5</td>\n",
              "      <td>30.0</td>\n",
              "      <td>87.5</td>\n",
              "      <td>1.7</td>\n",
              "      <td>0.2</td>\n",
              "      <td>0.2</td>\n",
              "      <td>0.1</td>\n",
              "      <td>0.7</td>\n",
              "      <td>273.6</td>\n",
              "      <td>0.553398</td>\n",
              "    </tr>\n",
              "    <tr>\n",
              "      <th>8</th>\n",
              "      <td>39.2</td>\n",
              "      <td>23.3</td>\n",
              "      <td>71.4</td>\n",
              "      <td>0.8</td>\n",
              "      <td>2.3</td>\n",
              "      <td>0.3</td>\n",
              "      <td>0.0</td>\n",
              "      <td>1.1</td>\n",
              "      <td>156.0</td>\n",
              "      <td>0.242424</td>\n",
              "    </tr>\n",
              "    <tr>\n",
              "      <th>9</th>\n",
              "      <td>38.3</td>\n",
              "      <td>21.4</td>\n",
              "      <td>67.8</td>\n",
              "      <td>1.1</td>\n",
              "      <td>0.3</td>\n",
              "      <td>0.2</td>\n",
              "      <td>0.0</td>\n",
              "      <td>0.7</td>\n",
              "      <td>155.4</td>\n",
              "      <td>0.435294</td>\n",
              "    </tr>\n",
              "  </tbody>\n",
              "</table>\n",
              "</div>"
            ],
            "text/plain": [
              "     fg    3p    ft  reb  ast  stl  blk  tov  total_points  efficiency\n",
              "0  34.7  25.0  69.9  4.1  1.9  0.4  0.4  1.3         266.4    0.270073\n",
              "1  29.6  23.5  76.5  2.4  3.7  1.1  0.5  1.6         252.0    0.267658\n",
              "2  42.2  24.4  67.0  2.2  1.0  0.5  0.3  1.0         384.8    0.339869\n",
              "3  42.6  22.6  68.9  1.9  0.8  0.6  0.1  1.0         330.6    0.491379\n",
              "4  52.4   0.0  67.4  2.5  0.3  0.3  0.4  0.8         216.0    0.391304\n",
              "5  42.3  32.5  73.2  0.8  1.8  0.4  0.0  0.7         277.5    0.324561\n",
              "6  43.5  50.0  81.1  2.0  0.6  0.2  0.1  0.7         409.2    0.605505\n",
              "7  41.5  30.0  87.5  1.7  0.2  0.2  0.1  0.7         273.6    0.553398\n",
              "8  39.2  23.3  71.4  0.8  2.3  0.3  0.0  1.1         156.0    0.242424\n",
              "9  38.3  21.4  67.8  1.1  0.3  0.2  0.0  0.7         155.4    0.435294"
            ]
          },
          "execution_count": 44,
          "metadata": {},
          "output_type": "execute_result"
        }
      ],
      "source": [
        "# Display the first 10 rows of your predictor variables.\n",
        "\n",
        "X.head(10)"
      ]
    },
    {
      "cell_type": "markdown",
      "metadata": {
        "id": "Albdy39HZwQT"
      },
      "source": [
        "**Question:** What do you observe about the your predictor variables?"
      ]
    },
    {
      "cell_type": "markdown",
      "metadata": {
        "id": "oD5l-FnazDYh"
      },
      "source": [
        "The following variables are used to predict the career duration of an NBA player: field goals, three-point field goals, free throws, overall rebounds, assists, steals, blocks, turnovers, total points, and points efficiency."
      ]
    },
    {
      "cell_type": "markdown",
      "metadata": {
        "id": "cQ-wo4UOoBII"
      },
      "source": [
        "### Perform a split operation on your data\n",
        "\n",
        "Divide your data into a training set (75% of data) and test set (25% of data). This is an important step in the process, as it allows you to reserve a part of the data that the model has not observed. This tests how well the model generalizes—or performs—on new data."
      ]
    },
    {
      "cell_type": "code",
      "execution_count": null,
      "metadata": {
        "id": "pO2AdPR7oBIJ"
      },
      "outputs": [],
      "source": [
        "# Perform the split operation on your data.\n",
        "# Assign the outputs as follows: X_train, X_test, y_train, y_test.\n",
        "\n",
        "X_train, X_test, y_train, y_test = model_selection.train_test_split(X, y, test_size=0.25, random_state=42)"
      ]
    },
    {
      "cell_type": "markdown",
      "metadata": {
        "id": "DgY9icEY2mKn"
      },
      "source": [
        "<details>\n",
        "<summary><h4><strong>Hint 1</strong></h4></summary>\n",
        "\n",
        "Refer to [the content about splitting your data between a training and test set](https://www.coursera.org/learn/the-nuts-and-bolts-of-machine-learning/lecture/VxbUT/construct-a-naive-bayes-model-with-python).\n",
        "</details>"
      ]
    },
    {
      "cell_type": "markdown",
      "metadata": {
        "id": "pUmzKZUU2mKp"
      },
      "source": [
        "<details>\n",
        "<summary><h4><strong>Hint 2</strong></h4></summary>\n",
        "\n",
        "Call the function in the `model_selection` module of `sklearn` on the features and target variable, in order to perform the splitting.\n",
        "</details>"
      ]
    },
    {
      "cell_type": "markdown",
      "metadata": {
        "id": "ORy1MNR62mKq"
      },
      "source": [
        "<details>\n",
        "<summary><h4><strong>Hint 3</strong></h4></summary>\n",
        "\n",
        "Call the `model_selection.train_test_split()` function, passing in both `features` and `target`, while configuring the appropriate `test_size`.\n",
        "\n",
        "Assign the output of this split as `X_train`, `X_test`, `y_train`, `y_test`.\n",
        "</details>"
      ]
    },
    {
      "cell_type": "markdown",
      "metadata": {
        "id": "Gjasizab0tSL"
      },
      "source": [
        "### Print the shape of each output\n",
        "\n",
        "Print the shape of each output from your train-test split. This will verify that the split operated as expected."
      ]
    },
    {
      "cell_type": "code",
      "execution_count": null,
      "metadata": {
        "id": "xtxpSjCm4jCa",
        "outputId": "e84d7ae5-89ff-4336-8279-0111bf43a8e2"
      },
      "outputs": [
        {
          "name": "stdout",
          "output_type": "stream",
          "text": [
            "X_train shape:  (1005, 10)\n",
            "X_test shape:  (335, 10)\n",
            "y_train shape:  (1005,)\n",
            "y_test shape:  (335,)\n"
          ]
        }
      ],
      "source": [
        "# Print the shape (rows, columns) of the output from the train-test split.\n",
        "\n",
        "# Print the shape of X_train.\n",
        "print('X_train shape: ', X_train.shape)\n",
        "\n",
        "\n",
        "# Print the shape of X_test.\n",
        "print('X_test shape: ', X_test.shape)\n",
        "\n",
        "\n",
        "# Print the shape of y_train.\n",
        "print('y_train shape: ', y_train.shape)\n",
        "\n",
        "\n",
        "# Print the shape of y_test.\n",
        "print('y_test shape: ', y_test.shape)"
      ]
    },
    {
      "cell_type": "markdown",
      "metadata": {
        "id": "dx8DO1Rw2ZBZ"
      },
      "source": [
        "<details>\n",
        "<summary><h4><strong>Hint 1</strong></h4></summary>\n",
        "\n",
        "Call the attribute that DataFrames in `pandas` have to get the number of rows and number of columns as a tuple.\n",
        "</details>"
      ]
    },
    {
      "cell_type": "markdown",
      "metadata": {
        "id": "G9pDSxlG2di1"
      },
      "source": [
        "<details>\n",
        "<summary><h4><strong>Hint 2</strong></h4></summary>\n",
        "\n",
        "Call the `shape` attribute.\n",
        "</details>"
      ]
    },
    {
      "cell_type": "markdown",
      "metadata": {
        "id": "zZndsnPq1UyL"
      },
      "source": [
        "**Question:** How many rows are in each of the outputs?\n"
      ]
    },
    {
      "cell_type": "markdown",
      "metadata": {
        "id": "74-KZfWUzBeV"
      },
      "source": [
        "The outputs for training are composed of 1005 rows, and the output testing are composed of 335 rows."
      ]
    },
    {
      "cell_type": "markdown",
      "metadata": {
        "id": "_G5xBrJAZwlE"
      },
      "source": [
        "**Question:** What was the effect of the train-test split?\n"
      ]
    },
    {
      "cell_type": "markdown",
      "metadata": {
        "id": "w6MlJiZNzA9A"
      },
      "source": [
        "The effect showed an approximately 75-25% split."
      ]
    },
    {
      "cell_type": "markdown",
      "metadata": {
        "id": "MY0rAjlZAheh"
      },
      "source": [
        "## Step 3: Model building"
      ]
    },
    {
      "cell_type": "markdown",
      "metadata": {
        "id": "YS06KhTSoBIM"
      },
      "source": [
        "**Question:** Which Naive Bayes algorithm should you use?"
      ]
    },
    {
      "cell_type": "code",
      "execution_count": null,
      "metadata": {
        "id": "x1CY-JrOCjzq",
        "outputId": "1997f2bb-d5a8-465d-f760-bbbd2e895321"
      },
      "outputs": [
        {
          "data": {
            "text/plain": [
              "array([[<matplotlib.axes._subplots.AxesSubplot object at 0x72f258c4bfd0>,\n",
              "        <matplotlib.axes._subplots.AxesSubplot object at 0x72f2582a8e10>,\n",
              "        <matplotlib.axes._subplots.AxesSubplot object at 0x72f25823a310>],\n",
              "       [<matplotlib.axes._subplots.AxesSubplot object at 0x72f25818c990>,\n",
              "        <matplotlib.axes._subplots.AxesSubplot object at 0x72f258141fd0>,\n",
              "        <matplotlib.axes._subplots.AxesSubplot object at 0x72f25817f6d0>],\n",
              "       [<matplotlib.axes._subplots.AxesSubplot object at 0x72f258137dd0>,\n",
              "        <matplotlib.axes._subplots.AxesSubplot object at 0x72f2580f93d0>,\n",
              "        <matplotlib.axes._subplots.AxesSubplot object at 0x72f2580f9410>],\n",
              "       [<matplotlib.axes._subplots.AxesSubplot object at 0x72f2580aeb90>,\n",
              "        <matplotlib.axes._subplots.AxesSubplot object at 0x72f2580277d0>,\n",
              "        <matplotlib.axes._subplots.AxesSubplot object at 0x72f257fdde50>]],\n",
              "      dtype=object)"
            ]
          },
          "execution_count": 48,
          "metadata": {},
          "output_type": "execute_result"
        },
        {
          "data": {
            "image/png": "[encoded data removed]",
            "text/plain": [
              "<Figure size 1080x720 with 12 Axes>"
            ]
          },
          "metadata": {
            "needs_background": "light"
          },
          "output_type": "display_data"
        }
      ],
      "source": [
        "X.hist(bins=30, figsize=(15, 10))"
      ]
    },
    {
      "cell_type": "markdown",
      "metadata": {
        "id": "ajt2BYgjzALD"
      },
      "source": [
        "As can be seen, most of the variables are continuous and normally distributed. Even though there are some that are skewed,  the Gaussian Naive Bayes is the most appropriate."
      ]
    },
    {
      "cell_type": "markdown",
      "metadata": {
        "id": "OOBvfCNeoBIM"
      },
      "source": [
        "<details>\n",
        "<summary><h4><strong>Hint 1</strong></h4></summary>\n",
        "\n",
        "Refer to [the content about different implementations of the Naive Bayes](https://www.coursera.org/learn/the-nuts-and-bolts-of-machine-learning/supplement/1zfDy/naive-bayes-classifiers) to determine which is appropriate in this situation.\n",
        "</details>"
      ]
    },
    {
      "cell_type": "markdown",
      "metadata": {
        "id": "gzT16WHjoBIM"
      },
      "source": [
        "<details>\n",
        "<summary><h4><strong>Hint 2</strong></h4></summary>\n",
        "\n",
        "Note that you are performing binary classification.\n",
        "</details>"
      ]
    },
    {
      "cell_type": "markdown",
      "metadata": {
        "id": "IILInxLYoBIN"
      },
      "source": [
        "<details>\n",
        "<summary><h4><strong>Hint 3</strong></h4></summary>\n",
        "\n",
        "You can identify the appropriate algorithm to use because you are performing a binary classification and assuming that the features of your model follow a normal distribution.\n",
        "</details>"
      ]
    },
    {
      "cell_type": "markdown",
      "metadata": {
        "id": "m5EFtZfXoBIN"
      },
      "source": [
        "### Fit your model to your training data and predict on your test data\n",
        "\n",
        "By creating your model, you will be drawing on your feature engineering work by training the classifier on the `X_train` DataFrame. You will use this to predict `target_5yrs` from `y_train`.\n",
        "\n",
        "Start by defining `nb` to be the relevant algorithm from `sklearn`.`naive_bayes`. Then fit your model to your training data. Use this fitted model to create predictions for your test data."
      ]
    },
    {
      "cell_type": "code",
      "execution_count": null,
      "metadata": {
        "id": "gUEgzQW_6oMV"
      },
      "outputs": [],
      "source": [
        "# Assign `nb` to be the appropriate implementation of Naive Bayes.\n",
        "\n",
        "nb = naive_bayes.GaussianNB()\n",
        "\n",
        "\n",
        "# Fit the model on your training data.\n",
        "\n",
        "nb.fit(X_train, y_train)\n",
        "\n",
        "\n",
        "# Apply your model to predict on your test data. Call this \"y_pred\".\n",
        "\n",
        "y_pred = nb.predict(X_test)"
      ]
    },
    {
      "cell_type": "markdown",
      "metadata": {
        "id": "l2vRT5XeoBIN"
      },
      "source": [
        "<details>\n",
        "<summary><h4><strong>Hint 1</strong></h4></summary>\n",
        "\n",
        "Refer to [the content about constructing a Naive Bayes](https://www.coursera.org/learn/the-nuts-and-bolts-of-machine-learning/lecture/VxbUT/construct-a-naive-bayes-model-with-python).\n",
        "</details>"
      ]
    },
    {
      "cell_type": "markdown",
      "metadata": {
        "id": "Vo1E7RjtoBIN"
      },
      "source": [
        "<details>\n",
        "<summary><h4><strong>Hint 2</strong></h4></summary>\n",
        "\n",
        "The appropriate implementation in this case is `naive_bayes`.`GaussianNB()`. Fit this model to your training data and predict on your test data.\n",
        "</details>"
      ]
    },
    {
      "cell_type": "markdown",
      "metadata": {
        "id": "azSq51xXoBIN"
      },
      "source": [
        "<details>\n",
        "<summary><h4><strong>Hint 3</strong></h4></summary>\n",
        "\n",
        "Call `fit()`and pass your training feature set and target variable. Then call `predict()` on your test feature set.\n",
        "</details>"
      ]
    },
    {
      "cell_type": "markdown",
      "metadata": {
        "id": "qgV_6xAQAvgg"
      },
      "source": [
        "## Step 4: Results and evaluation\n"
      ]
    },
    {
      "cell_type": "markdown",
      "metadata": {
        "id": "XPswDdr1oBIO"
      },
      "source": [
        "### Leverage metrics to evaluate your model's performance\n",
        "\n",
        "To evaluate the data yielded from your model, you can leverage a series of metrics and evaluation techniques from scikit-learn by examining the actual observed values in the test set relative to your model's prediction. Specifically, print the accuracy score, precision score, recall score, and f1 score associated with your test data and predicted values."
      ]
    },
    {
      "cell_type": "code",
      "execution_count": null,
      "metadata": {
        "id": "INf2Rd_MoBIP",
        "outputId": "1db74cb5-30b1-4855-c8f4-f874af93c713"
      },
      "outputs": [
        {
          "name": "stdout",
          "output_type": "stream",
          "text": [
            "Accuracy: 0.654\n",
            "Precision: 0.838\n",
            "Recall: 0.548\n",
            "F1 Score: 0.663\n"
          ]
        }
      ],
      "source": [
        "print('Accuracy:', '%.3f' % metrics.accuracy_score(y_test, y_pred))\n",
        "print('Precision:', '%.3f' % metrics.precision_score(y_test, y_pred))\n",
        "print('Recall:', '%.3f' % metrics.recall_score(y_test, y_pred))\n",
        "print('F1 Score:', '%.3f' % metrics.f1_score(y_test, y_pred))"
      ]
    },
    {
      "cell_type": "markdown",
      "metadata": {
        "id": "mEgb0a2YoBIP"
      },
      "source": [
        "<details>\n",
        "<summary><h4><strong>Hint 1</strong></h4></summary>\n",
        "\n",
        "Refer to [the content about model evaluation](https://www.coursera.org/learn/the-nuts-and-bolts-of-machine-learning/lecture/EITmV/key-evaluation-metrics-for-classification-models) for detail on these metrics.\n",
        "</details>"
      ]
    },
    {
      "cell_type": "markdown",
      "metadata": {
        "id": "oT143KsSoBIP"
      },
      "source": [
        "<details>\n",
        "<summary><h4><strong>Hint 2</strong></h4></summary>\n",
        "\n",
        "The `metrics` module in `sklearn` has a function for computing each of these metrics.\n",
        "</details>"
      ]
    },
    {
      "cell_type": "markdown",
      "metadata": {
        "id": "BECv4a2toBIP"
      },
      "source": [
        "<details>\n",
        "<summary><h4><strong>Hint 3</strong></h4></summary>\n",
        "\n",
        "Call `accuracy_score()`, `precision_score()`, `recall_score()`, and `f1_score()`, passing `y_test`, and `y_pred` into each function.\n",
        "</details>"
      ]
    },
    {
      "cell_type": "markdown",
      "metadata": {
        "id": "dDx7rrdNoBIP"
      },
      "source": [
        "**Question:** What is the accuracy score for your model, and what does this tell you about the success of the model's performance?\n",
        "\n"
      ]
    },
    {
      "cell_type": "markdown",
      "metadata": {
        "id": "oD9Wu2eEy-CC"
      },
      "source": [
        "The accuracy shows that 65%, which means that 65% of the data points were correctly classified."
      ]
    },
    {
      "cell_type": "markdown",
      "metadata": {
        "id": "x3O1G_TIaaGw"
      },
      "source": [
        "**Question:** Can you evaluate the success of your model by using the accuracy score exclusively?\n"
      ]
    },
    {
      "cell_type": "markdown",
      "metadata": {
        "id": "Fd9zpsZFy9cP"
      },
      "source": [
        "Accuracy can be a good metric of evaluation in such a case but sometimes is not that useful. For instance, in cases where the dataset is so imbalanced, the accuracy by itself doesn't tell the full story."
      ]
    },
    {
      "cell_type": "markdown",
      "metadata": {
        "id": "evpAa_4noBIP"
      },
      "source": [
        "**Question:** What are the precision and recall scores for your model, and what do they mean? Is one of these scores more accurate than the other?\n"
      ]
    },
    {
      "cell_type": "markdown",
      "metadata": {
        "id": "Di-uEPDTy8MW"
      },
      "source": [
        "The precision is about 83%, which means that the model is quite good at predicting if the player will play longer than five years. On the other hand, the recall is 55%, which means that the model doesn't have a good performance when predicting if the player will not play more than 5 years in the NBA."
      ]
    },
    {
      "cell_type": "markdown",
      "metadata": {
        "id": "7ghkTwSUoBIP"
      },
      "source": [
        "**Question:** What is the F1 score of your model, and what does this score mean?"
      ]
    },
    {
      "cell_type": "markdown",
      "metadata": {
        "id": "GEUUWvrmy7aE"
      },
      "source": [
        "The F1 score combines both precision and recall into a single expression, the harmonic mean. The F1 score is 66%, which suggests a pretty good predictive power of the model."
      ]
    },
    {
      "cell_type": "markdown",
      "metadata": {
        "id": "Hxox7nMfCjzz"
      },
      "source": [
        "### ROC Curve"
      ]
    },
    {
      "cell_type": "markdown",
      "metadata": {
        "id": "LOUj5mpFCjzz"
      },
      "source": [
        "The ROC curve shows how well a model separates classes by plotting true positive rate vs. false positive rate at different thresholds. It’s useful for understanding a model’s trade-off between sensitivity and false alarms. The area under the curve (AUC) summarizes this, with higher values meaning better performance."
      ]
    },
    {
      "cell_type": "code",
      "execution_count": null,
      "metadata": {
        "id": "cFVrSjWxCjzz"
      },
      "outputs": [],
      "source": [
        "from sklearn.metrics import roc_curve, auc\n",
        "import matplotlib.pyplot as plt"
      ]
    },
    {
      "cell_type": "code",
      "execution_count": null,
      "metadata": {
        "id": "eVPoUY68Cjzz",
        "outputId": "9da081f0-9a81-4af0-efa4-2e063c97ac08"
      },
      "outputs": [
        {
          "data": {
            "image/png": "[encoded data removed]",
            "text/plain": [
              "<Figure size 432x288 with 1 Axes>"
            ]
          },
          "metadata": {
            "needs_background": "light"
          },
          "output_type": "display_data"
        }
      ],
      "source": [
        "# Calculate ROC curve\n",
        "fpr, tpr, thresholds = roc_curve(y_test, y_pred)\n",
        "roc_auc = auc(fpr, tpr)\n",
        "# Plot the ROC curve\n",
        "plt.figure()\n",
        "plt.plot(fpr, tpr, label='ROC curve (area = %0.2f)' % roc_auc)\n",
        "plt.plot([0, 1], [0, 1], 'k--', label='No Skill')\n",
        "plt.xlim([0.0, 1.0])\n",
        "plt.ylim([0.0, 1.05])\n",
        "plt.xlabel('False Positive Rate')\n",
        "plt.ylabel('True Positive Rate')\n",
        "plt.title('ROC Curve for NBA player career duration')\n",
        "plt.legend()\n",
        "plt.show()"
      ]
    },
    {
      "cell_type": "markdown",
      "metadata": {
        "id": "SS0RAOE8Cjzz"
      },
      "source": [
        "As it can be seen, the model's TP/FP rate is reasonably close to the top-left corner of the plot, which suggests reasonable predictive power of the model at classifying whether an NBA player will have a career lasting at least 5 years or not."
      ]
    },
    {
      "cell_type": "markdown",
      "metadata": {
        "id": "mNzDfI3RoBIQ"
      },
      "source": [
        "### Gain clarity with the confusion matrix\n",
        "\n",
        "Recall that a confusion matrix is a graphic that shows your model's true and false positives and negatives. It helps to create a visual representation of the components feeding into the metrics.\n",
        "\n",
        "Create a confusion matrix based on your predicted values for the test set."
      ]
    },
    {
      "cell_type": "code",
      "execution_count": null,
      "metadata": {
        "id": "ntoJ-YG7oBIQ",
        "outputId": "138e62f2-10a9-4b07-9772-4ce017bb451b"
      },
      "outputs": [
        {
          "data": {
            "image/png": "[encoded data removed]",
            "text/plain": [
              "<Figure size 432x288 with 2 Axes>"
            ]
          },
          "metadata": {
            "needs_background": "light"
          },
          "output_type": "display_data"
        }
      ],
      "source": [
        "# Construct and display your confusion matrix.\n",
        "\n",
        "# Construct the confusion matrix for your predicted and test values.\n",
        "\n",
        "import numpy as np\n",
        "\n",
        "def conf_matrix_plot_percentage(model, x_data, y_data):\n",
        "    '''\n",
        "    Accepts a model object, X data (test or validate), and y data (test or validate).\n",
        "    Returns a plot of the confusion matrix with percentages for predictions on y data, including the % symbol.\n",
        "    '''\n",
        "    # Predict the labels\n",
        "    model_pred = model.predict(x_data)\n",
        "\n",
        "    # Compute the confusion matrix\n",
        "    cm = metrics.confusion_matrix(y_data, model_pred, labels=model.classes_)\n",
        "\n",
        "    # Normalize the confusion matrix by row (to show percentages per class)\n",
        "    cm_percentage = cm.astype('float') / cm.sum(axis=1)[:, np.newaxis] * 100\n",
        "\n",
        "    # Create a confusion matrix display\n",
        "    disp = metrics.ConfusionMatrixDisplay(confusion_matrix=cm_percentage,\n",
        "                                  display_labels=model.classes_)\n",
        "\n",
        "    # Plot the confusion matrix\n",
        "    disp.plot()\n",
        "\n",
        "    # Customize text to add the '%' symbol\n",
        "    for i, text in enumerate(disp.text_.ravel()):\n",
        "        value = float(text.get_text())\n",
        "        text.set_text(f\"{value:.2f}%\")  # Format with percentage symbol\n",
        "\n",
        "    plt.title(\"Confusion Matrix\")\n",
        "    plt.xlabel(\"Predicted Label\")\n",
        "    plt.ylabel(\"True Label\")\n",
        "    plt.show()\n",
        "\n",
        "\n",
        "# Create the display for your confusion matrix.\n",
        "\n",
        "conf_matrix_plot_percentage(nb, X_test, y_test)\n",
        "\n",
        "\n",
        "# Plot the visual in-line.\n",
        "\n",
        "plt.show()"
      ]
    },
    {
      "cell_type": "markdown",
      "metadata": {
        "id": "b2lqmzQ-oBIQ"
      },
      "source": [
        "<details>\n",
        "<summary><h4><strong>Hint 1</strong></h4></summary>\n",
        "\n",
        "The `metrics` module has functions to create a confusion matrix.\n",
        "</details>"
      ]
    },
    {
      "cell_type": "markdown",
      "metadata": {
        "id": "Wi_x2zTDoBIQ"
      },
      "source": [
        "<details>\n",
        "<summary><h4><strong>Hint 2</strong></h4></summary>\n",
        "\n",
        "Call `confusion_matrix`, passing in `y_test` and `y_pred`. Then, utilize `ConfusionMatrixDisplay()` to display your confusion matrix.\n",
        "</details>"
      ]
    },
    {
      "cell_type": "markdown",
      "metadata": {
        "id": "aLkF5znkNk7m"
      },
      "source": [
        "**Question:** What do you notice when observing your confusion matrix, and does this correlate to any of your other calculations?\n"
      ]
    },
    {
      "cell_type": "markdown",
      "metadata": {
        "id": "EA2eAI9Dy6OJ"
      },
      "source": [
        "The diagonal from the top left to the bottom right of the confusion matrix shows the correct predictions, and the ratio of these values indicates the model's accuracy. The true positives are notably higher than the false positives, which is why the precision score is strong at 0.8406. However, the true negatives and false negatives are fairly close, which explains the relatively lower recall score."
      ]
    },
    {
      "cell_type": "markdown",
      "metadata": {
        "id": "xur2FC5xAzp0"
      },
      "source": [
        "## Considerations\n",
        "\n",
        "**How would you present your results to your team?**\n",
        "\n",
        "Based on the results of the classification model, I would provide the following summary to the team:\n",
        "\n",
        "* Accuracy: The model achieved an accuracy of 65.4%, meaning it correctly predicted the outcome (whether a player will last longer than 5 years in the NBA) about two-thirds of the time.\n",
        "\n",
        "* Precision: With a precision of 83.8%, the model performs well in minimizing false positives. This means that when the model predicts a player will last more than 5 years, it is correct 83.8% of the time.\n",
        "\n",
        "* Recall: The recall is 54.8%, indicating that the model correctly identifies 54.8% of players who will last longer than 5 years. This suggests that the model misses almost half of the players who could potentially make it.\n",
        "\n",
        "* F1 Score: The F1 Score of 0.663 represents a balance between precision and recall. Given the context of this problem, this score shows that there is room for improvement in catching more true positives while maintaining a reasonable level of precision.\n",
        "\n",
        "The confusion matrix reveals:\n",
        "\n",
        "* True Negatives (83%): The model correctly predicts that 83% of players will not last more than 5 years.\n",
        "* False Positives (17%): 17% of players were predicted to last longer than 5 years when they actually didn't.\n",
        "* False Negatives (45%): The model incorrectly predicts that 45% of players who would last longer than 5 years won't, which shows that the model misses a significant portion of these players.\n",
        "* True Positives (55%): 55% of players who were predicted to last longer than 5 years are correctly classified.\n",
        "\n",
        "\n",
        "**How would you summarize your findings to stakeholders?**\n",
        "\n",
        "The model provides valuable insights into predicting an NBA player's likelihood of playing for five years or more. It performed better at identifying players who are likely to have long careers, correctly classifying a majority of those players as true positives. This suggests that the model is effective in spotting talent with a higher chance of sustained success in the league.\n",
        "\n",
        "However, the model was less accurate when predicting players who are unlikely to last beyond five years. It struggled more with identifying these players as true negatives, leading to some false positives. Despite this, the model still offers useful predictions for talent assessment, though there is a greater focus on recognizing long-term success."
      ]
    },
    {
      "cell_type": "markdown",
      "metadata": {
        "id": "pWc5WfsICjz0"
      },
      "source": [
        "**Congratulations!** You've completed this lab. However, you may not notice a green check mark next to this item on Coursera's platform. Please continue your progress regardless of the check mark. Just click on the \"save\" icon at the top of this notebook to ensure your work has been logged"
      ]
    }
  ],
  "metadata": {
    "colab": {
      "provenance": [],
      "include_colab_link": true
    },
    "kernelspec": {
      "display_name": "Python 3",
      "language": "python",
      "name": "python3"
    },
    "language_info": {
      "codemirror_mode": {
        "name": "ipython",
        "version": 3
      },
      "file_extension": ".py",
      "mimetype": "text/x-python",
      "name": "python",
      "nbconvert_exporter": "python",
      "pygments_lexer": "ipython3",
      "version": "3.7.6"
    }
  },
  "nbformat": 4,
  "nbformat_minor": 0
}