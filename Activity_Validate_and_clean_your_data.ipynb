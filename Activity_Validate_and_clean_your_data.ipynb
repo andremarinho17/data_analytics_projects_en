{
  "cells": [
    {
      "cell_type": "markdown",
      "metadata": {
        "id": "view-in-github",
        "colab_type": "text"
      },
      "source": [
        "<a href=\"https://colab.research.google.com/github/andremarinho17/data_analytics_projects_en/blob/main/Activity_Validate_and_clean_your_data.ipynb\" target=\"_parent\"><img src=\"https://colab.research.google.com/assets/colab-badge.svg\" alt=\"Open In Colab\"/></a>"
      ]
    },
    {
      "cell_type": "markdown",
      "metadata": {
        "id": "1WD1hC5MTRMS"
      },
      "source": [
        "# Activity: Validate and clean your data - André Marinho\n",
        "\n",
        "## Unicorn Companies - Data Validation and Cleaning\n",
        "\n",
        "**Author**: André Marinho Moreira"
      ],
      "id": "1WD1hC5MTRMS"
    },
    {
      "cell_type": "markdown",
      "metadata": {
        "id": "ee31943b-274e-4c28-bce6-155cb6f4c334"
      },
      "source": [
        "## Introduction\n",
        "\n",
        "In this activity, you will use input validation and label encoding to prepare a dataset for analysis. These are fundamental techniques used in all types of data analysis, from simple linear regression to complex neural networks.\n",
        "\n",
        "In this activity, you are a data professional an investment firm that is attempting to invest in private companies with a valuation of at least $1 billion. These are often known as \"unicorns.\" Your client wants to develop a better understanding of unicorns, with the hope they can be early investors in future highly successful companies. They are particularly interested in the investment strategies of the three top unicorn investors: Sequoia Capital, Tiger Global Management, and Accel."
      ],
      "id": "ee31943b-274e-4c28-bce6-155cb6f4c334"
    },
    {
      "cell_type": "markdown",
      "metadata": {
        "id": "4bb9630e-b940-4835-a389-d39def1fa848"
      },
      "source": [
        "## Step 1: Imports"
      ],
      "id": "4bb9630e-b940-4835-a389-d39def1fa848"
    },
    {
      "cell_type": "markdown",
      "metadata": {
        "id": "bc180686-4ae2-47ea-a292-3588ac60a820"
      },
      "source": [
        "Import relevant Python libraries and packages: `numpy`, `pandas`, `seaborn`, and `pyplot` from `matplotlib`."
      ],
      "id": "bc180686-4ae2-47ea-a292-3588ac60a820"
    },
    {
      "cell_type": "code",
      "execution_count": null,
      "metadata": {
        "id": "8e7f1f2c-bbcc-4f3c-b927-b090ee8334c4"
      },
      "outputs": [],
      "source": [
        "# Import libraries and packages.\n",
        "\n",
        "import numpy as np\n",
        "import pandas as pd\n",
        "import seaborn as sns\n",
        "from matplotlib import pyplot as plt"
      ],
      "id": "8e7f1f2c-bbcc-4f3c-b927-b090ee8334c4"
    },
    {
      "cell_type": "markdown",
      "metadata": {
        "id": "7d29c6bd-f194-46bb-b794-56dc20130473"
      },
      "source": [
        "### Load the dataset\n",
        "\n",
        "The data contains details about unicorn companies, such as when they were founded, when they achieved unicorn status, and their current valuation. The dataset `Modified_Unicorn_Companies.csv` is loaded as `df`, now display the first five rows. The variables in the dataset have been adjusted to suit the objectives of this lab, so they may be different from similar data used in prior labs. As shown in this cell, the dataset has been automatically loaded in for you. You do not need to download the .csv file, or provide more code, in order to access the dataset and proceed with this lab. Please continue with this activity by completing the following instructions."
      ],
      "id": "7d29c6bd-f194-46bb-b794-56dc20130473"
    },
    {
      "cell_type": "code",
      "execution_count": null,
      "metadata": {
        "id": "Jz__aYk91_rk"
      },
      "outputs": [],
      "source": [
        "# Run this cell so pandas displays all columns\n",
        "pd.set_option('display.max_columns', None)"
      ],
      "id": "Jz__aYk91_rk"
    },
    {
      "cell_type": "code",
      "execution_count": null,
      "metadata": {
        "id": "3bd40d44-080f-4e49-b0c2-160dedc3c4df",
        "outputId": "dab37a2a-9e0b-4732-f71c-16e4b9951845"
      },
      "outputs": [
        {
          "data": {
            "text/html": [
              "<div>\n",
              "<style scoped>\n",
              "    .dataframe tbody tr th:only-of-type {\n",
              "        vertical-align: middle;\n",
              "    }\n",
              "\n",
              "    .dataframe tbody tr th {\n",
              "        vertical-align: top;\n",
              "    }\n",
              "\n",
              "    .dataframe thead th {\n",
              "        text-align: right;\n",
              "    }\n",
              "</style>\n",
              "<table border=\"1\" class=\"dataframe\">\n",
              "  <thead>\n",
              "    <tr style=\"text-align: right;\">\n",
              "      <th></th>\n",
              "      <th>Company</th>\n",
              "      <th>Valuation</th>\n",
              "      <th>Date Joined</th>\n",
              "      <th>Industry</th>\n",
              "      <th>City</th>\n",
              "      <th>Country/Region</th>\n",
              "      <th>Continent</th>\n",
              "      <th>Year Founded</th>\n",
              "      <th>Funding</th>\n",
              "      <th>Select Investors</th>\n",
              "    </tr>\n",
              "  </thead>\n",
              "  <tbody>\n",
              "    <tr>\n",
              "      <th>0</th>\n",
              "      <td>Bytedance</td>\n",
              "      <td>180</td>\n",
              "      <td>2017-04-07</td>\n",
              "      <td>Artificial intelligence</td>\n",
              "      <td>Beijing</td>\n",
              "      <td>China</td>\n",
              "      <td>Asia</td>\n",
              "      <td>2012</td>\n",
              "      <td>$8B</td>\n",
              "      <td>Sequoia Capital China, SIG Asia Investments, S...</td>\n",
              "    </tr>\n",
              "    <tr>\n",
              "      <th>1</th>\n",
              "      <td>SpaceX</td>\n",
              "      <td>100</td>\n",
              "      <td>2012-12-01</td>\n",
              "      <td>Other</td>\n",
              "      <td>Hawthorne</td>\n",
              "      <td>United States</td>\n",
              "      <td>North America</td>\n",
              "      <td>2002</td>\n",
              "      <td>$7B</td>\n",
              "      <td>Founders Fund, Draper Fisher Jurvetson, Rothen...</td>\n",
              "    </tr>\n",
              "    <tr>\n",
              "      <th>2</th>\n",
              "      <td>SHEIN</td>\n",
              "      <td>100</td>\n",
              "      <td>2018-07-03</td>\n",
              "      <td>E-commerce &amp; direct-to-consumer</td>\n",
              "      <td>Shenzhen</td>\n",
              "      <td>China</td>\n",
              "      <td>Asia</td>\n",
              "      <td>2008</td>\n",
              "      <td>$2B</td>\n",
              "      <td>Tiger Global Management, Sequoia Capital China...</td>\n",
              "    </tr>\n",
              "    <tr>\n",
              "      <th>3</th>\n",
              "      <td>Stripe</td>\n",
              "      <td>95</td>\n",
              "      <td>2014-01-23</td>\n",
              "      <td>FinTech</td>\n",
              "      <td>San Francisco</td>\n",
              "      <td>United States</td>\n",
              "      <td>North America</td>\n",
              "      <td>2010</td>\n",
              "      <td>$2B</td>\n",
              "      <td>Khosla Ventures, LowercaseCapital, capitalG</td>\n",
              "    </tr>\n",
              "    <tr>\n",
              "      <th>4</th>\n",
              "      <td>Klarna</td>\n",
              "      <td>46</td>\n",
              "      <td>2011-12-12</td>\n",
              "      <td>Fintech</td>\n",
              "      <td>Stockholm</td>\n",
              "      <td>Sweden</td>\n",
              "      <td>Europe</td>\n",
              "      <td>2005</td>\n",
              "      <td>$4B</td>\n",
              "      <td>Institutional Venture Partners, Sequoia Capita...</td>\n",
              "    </tr>\n",
              "  </tbody>\n",
              "</table>\n",
              "</div>"
            ],
            "text/plain": [
              "     Company  Valuation Date Joined                         Industry  \\\n",
              "0  Bytedance        180  2017-04-07          Artificial intelligence   \n",
              "1     SpaceX        100  2012-12-01                            Other   \n",
              "2      SHEIN        100  2018-07-03  E-commerce & direct-to-consumer   \n",
              "3     Stripe         95  2014-01-23                          FinTech   \n",
              "4     Klarna         46  2011-12-12                          Fintech   \n",
              "\n",
              "            City Country/Region      Continent  Year Founded Funding  \\\n",
              "0        Beijing          China           Asia          2012     $8B   \n",
              "1      Hawthorne  United States  North America          2002     $7B   \n",
              "2       Shenzhen          China           Asia          2008     $2B   \n",
              "3  San Francisco  United States  North America          2010     $2B   \n",
              "4      Stockholm         Sweden         Europe          2005     $4B   \n",
              "\n",
              "                                    Select Investors  \n",
              "0  Sequoia Capital China, SIG Asia Investments, S...  \n",
              "1  Founders Fund, Draper Fisher Jurvetson, Rothen...  \n",
              "2  Tiger Global Management, Sequoia Capital China...  \n",
              "3        Khosla Ventures, LowercaseCapital, capitalG  \n",
              "4  Institutional Venture Partners, Sequoia Capita...  "
            ]
          },
          "execution_count": 3,
          "metadata": {},
          "output_type": "execute_result"
        }
      ],
      "source": [
        "# RUN THIS CELL TO IMPORT YOUR DATA.\n",
        "df = pd.read_csv('Modified_Unicorn_Companies.csv')\n",
        "\n",
        "# Display the first five rows.\n",
        "df.head()"
      ],
      "id": "3bd40d44-080f-4e49-b0c2-160dedc3c4df"
    },
    {
      "cell_type": "markdown",
      "metadata": {
        "id": "95bf39c9-d05c-4324-a40b-bc692607b61b"
      },
      "source": [
        "## Step 2: Data cleaning\n"
      ],
      "id": "95bf39c9-d05c-4324-a40b-bc692607b61b"
    },
    {
      "cell_type": "markdown",
      "metadata": {
        "id": "ad17d09c-c829-4e88-9089-83060d1adf91"
      },
      "source": [
        "Begin by displaying the data types of the columns in `companies`."
      ],
      "id": "ad17d09c-c829-4e88-9089-83060d1adf91"
    },
    {
      "cell_type": "code",
      "execution_count": null,
      "metadata": {
        "id": "5340b9fd-a9e1-4943-b546-eece0049dc3b",
        "outputId": "d26f76b8-f927-4c0c-ceb7-14bce0db905d"
      },
      "outputs": [
        {
          "data": {
            "text/plain": [
              "Company             object\n",
              "Valuation            int64\n",
              "Date Joined         object\n",
              "Industry            object\n",
              "City                object\n",
              "Country/Region      object\n",
              "Continent           object\n",
              "Year Founded         int64\n",
              "Funding             object\n",
              "Select Investors    object\n",
              "dtype: object"
            ]
          },
          "execution_count": 4,
          "metadata": {},
          "output_type": "execute_result"
        }
      ],
      "source": [
        "# Display the data types of the columns.\n",
        "\n",
        "df.dtypes"
      ],
      "id": "5340b9fd-a9e1-4943-b546-eece0049dc3b"
    },
    {
      "cell_type": "markdown",
      "metadata": {
        "id": "f155353c-d39d-436e-b0de-3cb0777c831e"
      },
      "source": [
        "<details>\n",
        "  <summary><h4><strong>Hint 1</strong></h4></summary>\n",
        "\n",
        "Review what you have learned about exploratory data analysis in Python.\n",
        "\n",
        "</details>"
      ],
      "id": "f155353c-d39d-436e-b0de-3cb0777c831e"
    },
    {
      "cell_type": "markdown",
      "metadata": {
        "id": "a0c1a503-ccec-44a9-baaf-a89eabf363cf"
      },
      "source": [
        "<details>\n",
        "  <summary><h4><strong>Hint 2</strong></h4></summary>\n",
        "\n",
        "There is a `pandas` DataFrame property that displays the data types of the columns in the specified DataFrame.\n",
        "\n",
        "\n",
        "</details>"
      ],
      "id": "a0c1a503-ccec-44a9-baaf-a89eabf363cf"
    },
    {
      "cell_type": "markdown",
      "metadata": {
        "id": "0566888c-aa4d-4dec-966b-d99959fc05f0"
      },
      "source": [
        "<details>\n",
        "  <summary><h4><strong>Hint 3</strong></h4></summary>\n",
        "\n",
        "  The `pandas` DataFrame `dtypes` property will be helpful.\n",
        "\n",
        "</details>"
      ],
      "id": "0566888c-aa4d-4dec-966b-d99959fc05f0"
    },
    {
      "cell_type": "markdown",
      "metadata": {
        "id": "0dbc048f-cd6d-4e52-93a9-21ec30ce055b"
      },
      "source": [
        "### Modify the data types"
      ],
      "id": "0dbc048f-cd6d-4e52-93a9-21ec30ce055b"
    },
    {
      "cell_type": "markdown",
      "metadata": {
        "id": "ad280560-d6db-4fcd-ba70-2c16389e12fd"
      },
      "source": [
        "Notice that the data type of the `Date Joined` column is an `object`&mdash;in this case, a string. Convert this column to `datetime` to make it more usable."
      ],
      "id": "ad280560-d6db-4fcd-ba70-2c16389e12fd"
    },
    {
      "cell_type": "code",
      "execution_count": null,
      "metadata": {
        "id": "1793ad8d-659a-4fc9-aa8a-570f063ca0d3"
      },
      "outputs": [],
      "source": [
        "# Apply necessary datatype conversions.\n",
        "\n",
        "df['Date Joined'] = pd.to_datetime(df['Date Joined'])"
      ],
      "id": "1793ad8d-659a-4fc9-aa8a-570f063ca0d3"
    },
    {
      "cell_type": "markdown",
      "metadata": {
        "id": "1ea7364c-a5be-4c3a-ae8d-24a0ac497973"
      },
      "source": [
        "### Create a new column"
      ],
      "id": "1ea7364c-a5be-4c3a-ae8d-24a0ac497973"
    },
    {
      "cell_type": "markdown",
      "metadata": {
        "id": "6ed05e76-0a66-4ea3-9796-39afb48eeb93"
      },
      "source": [
        "Add a column called `Years To Unicorn`, which is the number of years between when the company was founded and when it became a unicorn."
      ],
      "id": "6ed05e76-0a66-4ea3-9796-39afb48eeb93"
    },
    {
      "cell_type": "code",
      "execution_count": null,
      "metadata": {
        "id": "3d495d71-39af-4d3f-80fd-0d0a22b01532",
        "outputId": "6b2a66c3-ad11-4270-b020-76e9d020994a"
      },
      "outputs": [
        {
          "data": {
            "text/html": [
              "<div>\n",
              "<style scoped>\n",
              "    .dataframe tbody tr th:only-of-type {\n",
              "        vertical-align: middle;\n",
              "    }\n",
              "\n",
              "    .dataframe tbody tr th {\n",
              "        vertical-align: top;\n",
              "    }\n",
              "\n",
              "    .dataframe thead th {\n",
              "        text-align: right;\n",
              "    }\n",
              "</style>\n",
              "<table border=\"1\" class=\"dataframe\">\n",
              "  <thead>\n",
              "    <tr style=\"text-align: right;\">\n",
              "      <th></th>\n",
              "      <th>Company</th>\n",
              "      <th>Valuation</th>\n",
              "      <th>Date Joined</th>\n",
              "      <th>Industry</th>\n",
              "      <th>City</th>\n",
              "      <th>Country/Region</th>\n",
              "      <th>Continent</th>\n",
              "      <th>Year Founded</th>\n",
              "      <th>Funding</th>\n",
              "      <th>Select Investors</th>\n",
              "      <th>Year Joined</th>\n",
              "      <th>Years to Unicorn</th>\n",
              "    </tr>\n",
              "  </thead>\n",
              "  <tbody>\n",
              "    <tr>\n",
              "      <th>0</th>\n",
              "      <td>Bytedance</td>\n",
              "      <td>180</td>\n",
              "      <td>2017-04-07</td>\n",
              "      <td>Artificial intelligence</td>\n",
              "      <td>Beijing</td>\n",
              "      <td>China</td>\n",
              "      <td>Asia</td>\n",
              "      <td>2012</td>\n",
              "      <td>$8B</td>\n",
              "      <td>Sequoia Capital China, SIG Asia Investments, S...</td>\n",
              "      <td>2017</td>\n",
              "      <td>5</td>\n",
              "    </tr>\n",
              "    <tr>\n",
              "      <th>1</th>\n",
              "      <td>SpaceX</td>\n",
              "      <td>100</td>\n",
              "      <td>2012-12-01</td>\n",
              "      <td>Other</td>\n",
              "      <td>Hawthorne</td>\n",
              "      <td>United States</td>\n",
              "      <td>North America</td>\n",
              "      <td>2002</td>\n",
              "      <td>$7B</td>\n",
              "      <td>Founders Fund, Draper Fisher Jurvetson, Rothen...</td>\n",
              "      <td>2012</td>\n",
              "      <td>10</td>\n",
              "    </tr>\n",
              "    <tr>\n",
              "      <th>2</th>\n",
              "      <td>SHEIN</td>\n",
              "      <td>100</td>\n",
              "      <td>2018-07-03</td>\n",
              "      <td>E-commerce &amp; direct-to-consumer</td>\n",
              "      <td>Shenzhen</td>\n",
              "      <td>China</td>\n",
              "      <td>Asia</td>\n",
              "      <td>2008</td>\n",
              "      <td>$2B</td>\n",
              "      <td>Tiger Global Management, Sequoia Capital China...</td>\n",
              "      <td>2018</td>\n",
              "      <td>10</td>\n",
              "    </tr>\n",
              "    <tr>\n",
              "      <th>3</th>\n",
              "      <td>Stripe</td>\n",
              "      <td>95</td>\n",
              "      <td>2014-01-23</td>\n",
              "      <td>FinTech</td>\n",
              "      <td>San Francisco</td>\n",
              "      <td>United States</td>\n",
              "      <td>North America</td>\n",
              "      <td>2010</td>\n",
              "      <td>$2B</td>\n",
              "      <td>Khosla Ventures, LowercaseCapital, capitalG</td>\n",
              "      <td>2014</td>\n",
              "      <td>4</td>\n",
              "    </tr>\n",
              "    <tr>\n",
              "      <th>4</th>\n",
              "      <td>Klarna</td>\n",
              "      <td>46</td>\n",
              "      <td>2011-12-12</td>\n",
              "      <td>Fintech</td>\n",
              "      <td>Stockholm</td>\n",
              "      <td>Sweden</td>\n",
              "      <td>Europe</td>\n",
              "      <td>2005</td>\n",
              "      <td>$4B</td>\n",
              "      <td>Institutional Venture Partners, Sequoia Capita...</td>\n",
              "      <td>2011</td>\n",
              "      <td>6</td>\n",
              "    </tr>\n",
              "  </tbody>\n",
              "</table>\n",
              "</div>"
            ],
            "text/plain": [
              "     Company  Valuation Date Joined                         Industry  \\\n",
              "0  Bytedance        180  2017-04-07          Artificial intelligence   \n",
              "1     SpaceX        100  2012-12-01                            Other   \n",
              "2      SHEIN        100  2018-07-03  E-commerce & direct-to-consumer   \n",
              "3     Stripe         95  2014-01-23                          FinTech   \n",
              "4     Klarna         46  2011-12-12                          Fintech   \n",
              "\n",
              "            City Country/Region      Continent  Year Founded Funding  \\\n",
              "0        Beijing          China           Asia          2012     $8B   \n",
              "1      Hawthorne  United States  North America          2002     $7B   \n",
              "2       Shenzhen          China           Asia          2008     $2B   \n",
              "3  San Francisco  United States  North America          2010     $2B   \n",
              "4      Stockholm         Sweden         Europe          2005     $4B   \n",
              "\n",
              "                                    Select Investors  Year Joined  \\\n",
              "0  Sequoia Capital China, SIG Asia Investments, S...         2017   \n",
              "1  Founders Fund, Draper Fisher Jurvetson, Rothen...         2012   \n",
              "2  Tiger Global Management, Sequoia Capital China...         2018   \n",
              "3        Khosla Ventures, LowercaseCapital, capitalG         2014   \n",
              "4  Institutional Venture Partners, Sequoia Capita...         2011   \n",
              "\n",
              "   Years to Unicorn  \n",
              "0                 5  \n",
              "1                10  \n",
              "2                10  \n",
              "3                 4  \n",
              "4                 6  "
            ]
          },
          "execution_count": 6,
          "metadata": {},
          "output_type": "execute_result"
        }
      ],
      "source": [
        "# Create the column Years To Unicorn.\n",
        "\n",
        "df['Year Joined'] = df['Date Joined'].dt.year\n",
        "df['Years to Unicorn'] = df['Year Joined'] - df['Year Founded']\n",
        "df.head()"
      ],
      "id": "3d495d71-39af-4d3f-80fd-0d0a22b01532"
    },
    {
      "cell_type": "markdown",
      "metadata": {
        "id": "4a576b71-1047-48ab-abe9-c5e8d1b67d26"
      },
      "source": [
        "<details>\n",
        "  <summary><h4><strong>Hint 1</strong></h4></summary>\n",
        "\n",
        "Extract just the year from the `Date Joined` column.\n",
        "\n",
        "</details>"
      ],
      "id": "4a576b71-1047-48ab-abe9-c5e8d1b67d26"
    },
    {
      "cell_type": "markdown",
      "metadata": {
        "id": "21584921-1d6a-42ab-8f04-9793c7d5cee2"
      },
      "source": [
        "<details>\n",
        "  <summary><h4><strong>Hint 2</strong></h4></summary>\n",
        "\n",
        "  Use `dt.year` to access the year of a datetime object.\n",
        "\n",
        "</details>"
      ],
      "id": "21584921-1d6a-42ab-8f04-9793c7d5cee2"
    },
    {
      "cell_type": "markdown",
      "metadata": {
        "id": "aea4d087-51f5-4b0f-b4c4-18b1acfe0c0d"
      },
      "source": [
        "<details>\n",
        "  <summary><h4><strong>Hint 3</strong></h4></summary>\n",
        "\n",
        "Subtract the `Year Founded` from the `Date Joined`, and save it to a new column called `Years To Unicorn`.\n",
        "  \n",
        "Ensure you're properly extracting just the year (as an integer) from `Date Joined`.\n",
        "\n",
        "</details>"
      ],
      "id": "aea4d087-51f5-4b0f-b4c4-18b1acfe0c0d"
    },
    {
      "cell_type": "markdown",
      "metadata": {
        "id": "fb06c26b-70b7-4b05-9347-6675b8b329d3"
      },
      "source": [
        "**QUESTION: Why might your client be interested in how quickly a company achieved unicorn status?**"
      ],
      "id": "fb06c26b-70b7-4b05-9347-6675b8b329d3"
    },
    {
      "cell_type": "markdown",
      "metadata": {
        "id": "ac6a0172-611e-4a1c-9afd-a39b489cbdee"
      },
      "source": [
        "To understand patterns and trends in order to gain insights related to this, and decide in which company to invest in."
      ],
      "id": "ac6a0172-611e-4a1c-9afd-a39b489cbdee"
    },
    {
      "cell_type": "markdown",
      "metadata": {
        "id": "9fc9ddf1-ece0-40fb-9281-0808c193f5da",
        "tags": []
      },
      "source": [
        "### Input validation\n",
        "\n",
        "The data has some issues with bad data, duplicate rows, and inconsistent `Industry` labels.\n",
        "\n",
        "Identify and correct each of these issues."
      ],
      "id": "9fc9ddf1-ece0-40fb-9281-0808c193f5da"
    },
    {
      "cell_type": "markdown",
      "metadata": {
        "id": "db0651e7-36ef-4c10-a3ba-97373167da64",
        "tags": []
      },
      "source": [
        "#### Correcting bad data\n",
        "\n",
        "Get descriptive statistics for the `Years To Unicorn` column."
      ],
      "id": "db0651e7-36ef-4c10-a3ba-97373167da64"
    },
    {
      "cell_type": "code",
      "execution_count": null,
      "metadata": {
        "id": "8b1b2ad0-a668-4290-9404-5a2541955c0d",
        "outputId": "d3da504a-8348-432a-ef9b-b6c05f1fb2f6"
      },
      "outputs": [
        {
          "data": {
            "text/plain": [
              "count    1074.000000\n",
              "mean        7.013035\n",
              "std         5.331842\n",
              "min        -3.000000\n",
              "25%         4.000000\n",
              "50%         6.000000\n",
              "75%         9.000000\n",
              "max        98.000000\n",
              "Name: Years to Unicorn, dtype: float64"
            ]
          },
          "execution_count": 7,
          "metadata": {},
          "output_type": "execute_result"
        }
      ],
      "source": [
        "# Identify and correct the issue with Years To Unicorn.\n",
        "\n",
        "df['Years to Unicorn'].describe()"
      ],
      "id": "8b1b2ad0-a668-4290-9404-5a2541955c0d"
    },
    {
      "cell_type": "markdown",
      "metadata": {
        "id": "80974b46-b7f9-4181-a90d-a6fa927a710b"
      },
      "source": [
        "<details>\n",
        "  <summary><h4><strong>Hint 1</strong></h4></summary>\n",
        "\n",
        "Use the `describe()` method on the series. Considering the results, does anything seem problematic?\n",
        "\n",
        "</details>"
      ],
      "id": "80974b46-b7f9-4181-a90d-a6fa927a710b"
    },
    {
      "cell_type": "markdown",
      "metadata": {
        "id": "7d7e351d-368e-45ab-8e8a-5f1aded15655"
      },
      "source": [
        "<details>\n",
        "  <summary><h4><strong>Hint 2</strong></h4></summary>\n",
        "\n",
        "A company cannot reach unicorn status before it is founded. In other words, `Years to Unicorn` cannot be less than 0.\n",
        "\n",
        "</details>"
      ],
      "id": "7d7e351d-368e-45ab-8e8a-5f1aded15655"
    },
    {
      "cell_type": "markdown",
      "metadata": {
        "id": "QEweoIzX1_rm"
      },
      "source": [
        "<details>\n",
        "  <summary><h4><strong>Hint 3</strong></h4></summary>\n",
        "\n",
        "Using the `describe()` method on the `Years To Unicorn` series shows that the minimum value is `-3`. Since there cannot be negative time, this value and possibly others are problematic.\n",
        "\n",
        "</details>"
      ],
      "id": "QEweoIzX1_rm"
    },
    {
      "cell_type": "markdown",
      "metadata": {
        "id": "8b325a5a-67d2-4f92-8159-a9f4c21b1779"
      },
      "source": [
        "Isolate all rows where the `Years To Unicorn` column contains a negative value."
      ],
      "id": "8b325a5a-67d2-4f92-8159-a9f4c21b1779"
    },
    {
      "cell_type": "code",
      "execution_count": null,
      "metadata": {
        "scrolled": true,
        "id": "VuF7ExD61_rn",
        "outputId": "c619b3e3-533b-4e77-8117-437cc5ff2c01"
      },
      "outputs": [
        {
          "data": {
            "text/html": [
              "<div>\n",
              "<style scoped>\n",
              "    .dataframe tbody tr th:only-of-type {\n",
              "        vertical-align: middle;\n",
              "    }\n",
              "\n",
              "    .dataframe tbody tr th {\n",
              "        vertical-align: top;\n",
              "    }\n",
              "\n",
              "    .dataframe thead th {\n",
              "        text-align: right;\n",
              "    }\n",
              "</style>\n",
              "<table border=\"1\" class=\"dataframe\">\n",
              "  <thead>\n",
              "    <tr style=\"text-align: right;\">\n",
              "      <th></th>\n",
              "      <th>Company</th>\n",
              "      <th>Valuation</th>\n",
              "      <th>Date Joined</th>\n",
              "      <th>Industry</th>\n",
              "      <th>City</th>\n",
              "      <th>Country/Region</th>\n",
              "      <th>Continent</th>\n",
              "      <th>Year Founded</th>\n",
              "      <th>Funding</th>\n",
              "      <th>Select Investors</th>\n",
              "      <th>Year Joined</th>\n",
              "      <th>Years to Unicorn</th>\n",
              "    </tr>\n",
              "  </thead>\n",
              "  <tbody>\n",
              "    <tr>\n",
              "      <th>527</th>\n",
              "      <td>InVision</td>\n",
              "      <td>2</td>\n",
              "      <td>2017-11-01</td>\n",
              "      <td>Internet software &amp; services</td>\n",
              "      <td>New York</td>\n",
              "      <td>United States</td>\n",
              "      <td>North America</td>\n",
              "      <td>2020</td>\n",
              "      <td>$349M</td>\n",
              "      <td>FirstMark Capital, Tiger Global Management, IC...</td>\n",
              "      <td>2017</td>\n",
              "      <td>-3</td>\n",
              "    </tr>\n",
              "  </tbody>\n",
              "</table>\n",
              "</div>"
            ],
            "text/plain": [
              "      Company  Valuation Date Joined                      Industry      City  \\\n",
              "527  InVision          2  2017-11-01  Internet software & services  New York   \n",
              "\n",
              "    Country/Region      Continent  Year Founded Funding  \\\n",
              "527  United States  North America          2020   $349M   \n",
              "\n",
              "                                      Select Investors  Year Joined  \\\n",
              "527  FirstMark Capital, Tiger Global Management, IC...         2017   \n",
              "\n",
              "     Years to Unicorn  \n",
              "527                -3  "
            ]
          },
          "execution_count": 8,
          "metadata": {},
          "output_type": "execute_result"
        }
      ],
      "source": [
        "df[df['Years to Unicorn'] < 0]"
      ],
      "id": "VuF7ExD61_rn"
    },
    {
      "cell_type": "markdown",
      "metadata": {
        "id": "NAMXmpZq1_rn"
      },
      "source": [
        "**Question: How many rows have negative values in the `Years To Unicorn` column, and what companies are they for?**\n"
      ],
      "id": "NAMXmpZq1_rn"
    },
    {
      "cell_type": "markdown",
      "metadata": {
        "id": "aGopz-CZ1_rn"
      },
      "source": [
        "There was only one row with a negative value in the Years to Unicorn column, and this row was from inVision."
      ],
      "id": "aGopz-CZ1_rn"
    },
    {
      "cell_type": "markdown",
      "metadata": {
        "id": "739430f4-97ce-43d4-a982-3f75f3823702"
      },
      "source": [
        "An internet search reveals that InVision was founded in 2011. Replace the value at `Year Founded` with `2011` for InVision's row."
      ],
      "id": "739430f4-97ce-43d4-a982-3f75f3823702"
    },
    {
      "cell_type": "code",
      "execution_count": null,
      "metadata": {
        "id": "6b89463a-6426-4797-a62e-b7b26f0b2f3b",
        "outputId": "61969cdd-d586-406e-b96f-96eafe8b4d2f"
      },
      "outputs": [
        {
          "data": {
            "text/html": [
              "<div>\n",
              "<style scoped>\n",
              "    .dataframe tbody tr th:only-of-type {\n",
              "        vertical-align: middle;\n",
              "    }\n",
              "\n",
              "    .dataframe tbody tr th {\n",
              "        vertical-align: top;\n",
              "    }\n",
              "\n",
              "    .dataframe thead th {\n",
              "        text-align: right;\n",
              "    }\n",
              "</style>\n",
              "<table border=\"1\" class=\"dataframe\">\n",
              "  <thead>\n",
              "    <tr style=\"text-align: right;\">\n",
              "      <th></th>\n",
              "      <th>Company</th>\n",
              "      <th>Valuation</th>\n",
              "      <th>Date Joined</th>\n",
              "      <th>Industry</th>\n",
              "      <th>City</th>\n",
              "      <th>Country/Region</th>\n",
              "      <th>Continent</th>\n",
              "      <th>Year Founded</th>\n",
              "      <th>Funding</th>\n",
              "      <th>Select Investors</th>\n",
              "      <th>Year Joined</th>\n",
              "      <th>Years to Unicorn</th>\n",
              "    </tr>\n",
              "  </thead>\n",
              "  <tbody>\n",
              "    <tr>\n",
              "      <th>527</th>\n",
              "      <td>InVision</td>\n",
              "      <td>2</td>\n",
              "      <td>2017-11-01</td>\n",
              "      <td>Internet software &amp; services</td>\n",
              "      <td>New York</td>\n",
              "      <td>United States</td>\n",
              "      <td>North America</td>\n",
              "      <td>2011</td>\n",
              "      <td>$349M</td>\n",
              "      <td>FirstMark Capital, Tiger Global Management, IC...</td>\n",
              "      <td>2017</td>\n",
              "      <td>-3</td>\n",
              "    </tr>\n",
              "  </tbody>\n",
              "</table>\n",
              "</div>"
            ],
            "text/plain": [
              "      Company  Valuation Date Joined                      Industry      City  \\\n",
              "527  InVision          2  2017-11-01  Internet software & services  New York   \n",
              "\n",
              "    Country/Region      Continent  Year Founded Funding  \\\n",
              "527  United States  North America          2011   $349M   \n",
              "\n",
              "                                      Select Investors  Year Joined  \\\n",
              "527  FirstMark Capital, Tiger Global Management, IC...         2017   \n",
              "\n",
              "     Years to Unicorn  \n",
              "527                -3  "
            ]
          },
          "execution_count": 9,
          "metadata": {},
          "output_type": "execute_result"
        }
      ],
      "source": [
        "# Replace InVision's `Year Founded` value with 2011\n",
        "\n",
        "df.loc[df['Company'] == 'InVision', 'Year Founded'] = 2011\n",
        "\n",
        "# Verify the change was made properly\n",
        "\n",
        "### YOUR CODE HERE ###\n",
        "df[df['Company'] == 'InVision']"
      ],
      "id": "6b89463a-6426-4797-a62e-b7b26f0b2f3b"
    },
    {
      "cell_type": "markdown",
      "metadata": {
        "id": "65909471-2b17-4d8d-b734-6d895029dc7d"
      },
      "source": [
        "<details>\n",
        "  <summary><h4><strong>Hint 1</strong></h4></summary>\n",
        "\n",
        "To overwrite data in a dataframe in a situation like this, you should use `loc[]` or `iloc[]` selection statements. Otherwise, you might overwrite to a view of the dataframe, which means that you're not overwriting the data in the dataframe itself, and the change will not take permanent effect.\n",
        "\n",
        "</details>"
      ],
      "id": "65909471-2b17-4d8d-b734-6d895029dc7d"
    },
    {
      "cell_type": "markdown",
      "metadata": {
        "id": "c12d89ac-bcd3-4912-9faf-507b70b4b060"
      },
      "source": [
        "<details>\n",
        "  <summary><h4><strong>Hint 2</strong></h4></summary>\n",
        "\n",
        "The following code will **not** work:\n",
        "    \n",
        "    companies[companies['Company']=='InVision']['Year Founded'] = 2011\n",
        "    \n",
        "You must use either `loc[]` or `iloc[]`.\n",
        "\n",
        "</details>"
      ],
      "id": "c12d89ac-bcd3-4912-9faf-507b70b4b060"
    },
    {
      "cell_type": "markdown",
      "metadata": {
        "id": "121e1b7c-845f-4cee-a973-aebd41411dd2"
      },
      "source": [
        "Now, recalculate all the values in the `Years To Unicorn` column to remove the negative value for InVision. Verify that there are no more negative values afterwards."
      ],
      "id": "121e1b7c-845f-4cee-a973-aebd41411dd2"
    },
    {
      "cell_type": "code",
      "execution_count": null,
      "metadata": {
        "id": "0850371d-4cf8-4f06-9e41-b3baa842d86c",
        "outputId": "cc96874e-4480-483c-ede0-31706affc64f"
      },
      "outputs": [
        {
          "data": {
            "text/plain": [
              "count    1074.000000\n",
              "mean        7.021415\n",
              "std         5.323155\n",
              "min         0.000000\n",
              "25%         4.000000\n",
              "50%         6.000000\n",
              "75%         9.000000\n",
              "max        98.000000\n",
              "Name: Years to Unicorn, dtype: float64"
            ]
          },
          "execution_count": 10,
          "metadata": {},
          "output_type": "execute_result"
        }
      ],
      "source": [
        "# Recalculate all values in the `Years To Unicorn` column\n",
        "\n",
        "df['Years to Unicorn'] = df['Year Joined'] - df['Year Founded']\n",
        "\n",
        "# Verify that there are no more negative values in the column\n",
        "\n",
        "df['Years to Unicorn'].describe()"
      ],
      "id": "0850371d-4cf8-4f06-9e41-b3baa842d86c"
    },
    {
      "cell_type": "markdown",
      "metadata": {
        "id": "0b6edaeb-6561-4201-b2d8-2c11ed8837c1"
      },
      "source": [
        "#### Issues with `Industry` labels\n",
        "\n",
        "The company provided you with the following list of industry labels to identify in the data for `Industry`.\n",
        "\n",
        "**Note:** Any labels in the `Industry` column that are not in `industry_list` are misspellings."
      ],
      "id": "0b6edaeb-6561-4201-b2d8-2c11ed8837c1"
    },
    {
      "cell_type": "code",
      "execution_count": null,
      "metadata": {
        "id": "eXevDho41_ro"
      },
      "outputs": [],
      "source": [
        "# List provided by the company of the expected industry labels in the data\n",
        "industry_list = ['Artificial intelligence', 'Other','E-commerce & direct-to-consumer', 'Fintech',\\\n",
        "       'Internet software & services','Supply chain, logistics, & delivery', 'Consumer & retail',\\\n",
        "       'Data management & analytics', 'Edtech', 'Health', 'Hardware','Auto & transportation', \\\n",
        "        'Travel', 'Cybersecurity','Mobile & telecommunications']"
      ],
      "id": "eXevDho41_ro"
    },
    {
      "cell_type": "markdown",
      "metadata": {
        "id": "-n_59TmW1_ro"
      },
      "source": [
        "First, check if there are values in the `Industry` column that are not in `industry_list`. If so, what are they?"
      ],
      "id": "-n_59TmW1_ro"
    },
    {
      "cell_type": "code",
      "execution_count": null,
      "metadata": {
        "id": "-xVnudJk1_ro",
        "outputId": "3a999fd1-24f6-421d-f03a-de34caf11e38"
      },
      "outputs": [
        {
          "name": "stdout",
          "output_type": "stream",
          "text": [
            "['FinTech', 'Data management and analytics', 'Artificial Intelligence']\n"
          ]
        }
      ],
      "source": [
        "# Check which values are in `Industry` but not in `industry_list`\n",
        "\n",
        "industry_dataset = df['Industry'].to_list()\n",
        "\n",
        "diff_list = []\n",
        "for element in industry_dataset:\n",
        "    if element not in industry_list:\n",
        "        if element not in diff_list:\n",
        "            diff_list.append(element)\n",
        "\n",
        "print(diff_list)"
      ],
      "id": "-xVnudJk1_ro"
    },
    {
      "cell_type": "markdown",
      "metadata": {
        "id": "4pffMO-m1_ro"
      },
      "source": [
        "<details>\n",
        "  <summary><h4><strong>HINT 1</strong></h4></summary>\n",
        "\n",
        "There are many ways to do this. One approach is to consider what data type reduces iterable sequences to their unique elements and allows you to compare membership.\n",
        "\n",
        "</details>"
      ],
      "id": "4pffMO-m1_ro"
    },
    {
      "cell_type": "markdown",
      "metadata": {
        "id": "52V0r19u1_ro"
      },
      "source": [
        "<details>\n",
        "  <summary><h4><strong>HINT 2</strong></h4></summary>\n",
        "\n",
        "A set is a data type that consists of unique elements and supports membership testing with other sets.\n",
        "\n",
        "</details>"
      ],
      "id": "52V0r19u1_ro"
    },
    {
      "cell_type": "markdown",
      "metadata": {
        "id": "EP1zjqvg1_ro"
      },
      "source": [
        "<details>\n",
        "  <summary><h4><strong>HINT 3</strong></h4></summary>\n",
        "\n",
        "Set A &ndash; Set B will result in all the elements that are in Set A but not in Set B. Convert `industry_list` to a set and subtract it from the set of the values in the `Industry` series.\n",
        "\n",
        "</details>"
      ],
      "id": "EP1zjqvg1_ro"
    },
    {
      "cell_type": "markdown",
      "metadata": {
        "id": "V0Y03KX41_ro"
      },
      "source": [
        "**Question: Which values currently exist in the `Industry` column that are not in `industry_list`?**\n"
      ],
      "id": "V0Y03KX41_ro"
    },
    {
      "cell_type": "markdown",
      "metadata": {
        "id": "-C7m-V5p1_ro"
      },
      "source": [
        "The values that currently exist in the Industry column that are not in industry_list are Fintech, Data management and analytics, and Artificial Intelligence."
      ],
      "id": "-C7m-V5p1_ro"
    },
    {
      "cell_type": "markdown",
      "metadata": {
        "id": "An6roWNa1_ro"
      },
      "source": [
        "Now, correct the bad entries in the `Industry` column by replacing them with an approved string from `industry_list`. To do this, use the [`replace()`](https://pandas.pydata.org/docs/reference/api/pandas.Series.replace.html) `Series` method on the `Industry` series. When you pass a dictionary to the method, it will replace the data in the series where that data matches the dictionary's keys. The values that get imputed are the values of the dictionary. If a value is not specified in the dictionary, the series' original value is retained.\n",
        "</br></br>\n",
        "\n",
        "\n",
        "```\n",
        "Example:\n",
        "\n",
        " [IN]: column_a = pd.Series(['A', 'B', 'C', 'D'])\n",
        "       column_a\n",
        "\n",
        "[OUT]: 0    A\n",
        "       1    B\n",
        "       2    C\n",
        "       3    D\n",
        "       dtype: object\n",
        "\n",
        " [IN]: replacement_dict = {'A':'z', 'B':'y', 'C':'x'}\n",
        "       column_a = column_a.replace(replacement_dict)\n",
        "       column_a\n",
        "       \n",
        "[OUT]: 0    z\n",
        "       1    y\n",
        "       2    x\n",
        "       3    D\n",
        "       dtype: object\n",
        "\n",
        "```\n",
        "\n",
        "1. Create a dictionary called `replacement_dict` whose keys are the incorrect spellings in the `Industry` series and whose values are the correct spelling, as indicated in `industry_list`.\n",
        "\n",
        "2. Call the `replace()` method on the `Industry` series and pass to it `replacement_dict` as its argument. Reassign the result back to the `Industry` column.\n",
        "\n",
        "3. Verify that there are no longer any elements in `Industry` that are not in `industry_list`."
      ],
      "id": "An6roWNa1_ro"
    },
    {
      "cell_type": "code",
      "execution_count": null,
      "metadata": {
        "scrolled": false,
        "id": "EwBSablo1_rp",
        "outputId": "3eac3188-f686-4d67-b506-855c3e9cbf10"
      },
      "outputs": [
        {
          "data": {
            "text/plain": [
              "['Artificial intelligence',\n",
              " 'Other',\n",
              " 'E-commerce & direct-to-consumer',\n",
              " 'Fintech',\n",
              " 'Internet software & services',\n",
              " 'Supply chain, logistics, & delivery',\n",
              " 'Consumer & retail',\n",
              " 'Data management & analytics',\n",
              " 'Edtech',\n",
              " 'Health',\n",
              " 'Hardware',\n",
              " 'Auto & transportation',\n",
              " 'Travel',\n",
              " 'Cybersecurity',\n",
              " 'Mobile & telecommunications']"
            ]
          },
          "execution_count": 13,
          "metadata": {},
          "output_type": "execute_result"
        }
      ],
      "source": [
        "industry_list"
      ],
      "id": "EwBSablo1_rp"
    },
    {
      "cell_type": "code",
      "execution_count": null,
      "metadata": {
        "id": "y-bPgZEE1_rp",
        "outputId": "06fd6a8c-e59e-4179-e64a-5cc820e8ebd3"
      },
      "outputs": [
        {
          "data": {
            "text/plain": [
              "array(['FinTech', 'Data management and analytics',\n",
              "       'Artificial Intelligence'], dtype=object)"
            ]
          },
          "execution_count": 14,
          "metadata": {},
          "output_type": "execute_result"
        }
      ],
      "source": [
        "df[~df['Industry'].isin(industry_list)]['Industry'].unique()"
      ],
      "id": "y-bPgZEE1_rp"
    },
    {
      "cell_type": "code",
      "execution_count": null,
      "metadata": {
        "id": "pT2L9YrI1_rp",
        "outputId": "52a80834-8b7e-455c-db72-94f90b210ddc"
      },
      "outputs": [
        {
          "data": {
            "text/plain": [
              "array([], dtype=object)"
            ]
          },
          "execution_count": 15,
          "metadata": {},
          "output_type": "execute_result"
        }
      ],
      "source": [
        "# 1. Create `replacement_dict`\n",
        "\n",
        "replacement_dict = {\n",
        "    'Artificial Intelligence': \"Artificial intelligence\",\n",
        "    'Data management and analytics': 'Data management & analytics',\n",
        "    'FinTech': 'Fintech'\n",
        "}\n",
        "\n",
        "# 2. Replace the incorrect values in the `Industry` column\n",
        "\n",
        "df['Industry'] = df['Industry'].replace(replacement_dict)\n",
        "\n",
        "# 3. Verify that there are no longer any elements in `Industry` that are not in `industry_list`\n",
        "\n",
        "df[~df['Industry'].isin(industry_list)]['Industry'].unique()"
      ],
      "id": "pT2L9YrI1_rp"
    },
    {
      "cell_type": "markdown",
      "metadata": {
        "id": "NnXPsBcr1_rp"
      },
      "source": [
        "<details>\n",
        "  <summary><h4><strong>Hint 1</strong></h4></summary>\n",
        "\n",
        "Refer to the example provided for how to use the `replace()` `Series` method.\n",
        "    \n",
        "</details>"
      ],
      "id": "NnXPsBcr1_rp"
    },
    {
      "cell_type": "markdown",
      "metadata": {
        "id": "3PKeks0p1_rp"
      },
      "source": [
        "<details>\n",
        "  <summary><h4><strong>Hint 2</strong></h4></summary>\n",
        "\n",
        "When you define the `replacement_dict` dictionary, the misspellings should be the keys and the correct spellings should be the values.\n",
        "\n",
        "</details>"
      ],
      "id": "3PKeks0p1_rp"
    },
    {
      "cell_type": "markdown",
      "metadata": {
        "id": "a33O60m81_rp"
      },
      "source": [
        "<details>\n",
        "  <summary><h4><strong>Hint 3</strong></h4></summary>   \n",
        "\n",
        "When you call `replace()` on the `Industry` series and pass to it the `replacement_dict` dictionary as an argument, you must reassign the result back to `companies['Industry']` for the change to take effect.   \n",
        "    \n",
        "</details>"
      ],
      "id": "a33O60m81_rp"
    },
    {
      "cell_type": "markdown",
      "metadata": {
        "id": "Koo19Le61_rp"
      },
      "source": [
        "#### Handling duplicate rows\n",
        "\n",
        "The business mentioned that no company should appear in the data more than once.\n",
        "\n",
        "Verify that this is indeed the case, and if not, clean the data so each company appears only once.\n",
        "\n",
        "Begin by checking which, if any, companies are duplicated. Filter the data to return all occurrences of those duplicated companies."
      ],
      "id": "Koo19Le61_rp"
    },
    {
      "cell_type": "code",
      "execution_count": null,
      "metadata": {
        "id": "_A6w9QVU1_rp",
        "outputId": "8ef4cbd8-52a4-4f14-bf48-deca15072f21"
      },
      "outputs": [
        {
          "data": {
            "text/html": [
              "<div>\n",
              "<style scoped>\n",
              "    .dataframe tbody tr th:only-of-type {\n",
              "        vertical-align: middle;\n",
              "    }\n",
              "\n",
              "    .dataframe tbody tr th {\n",
              "        vertical-align: top;\n",
              "    }\n",
              "\n",
              "    .dataframe thead th {\n",
              "        text-align: right;\n",
              "    }\n",
              "</style>\n",
              "<table border=\"1\" class=\"dataframe\">\n",
              "  <thead>\n",
              "    <tr style=\"text-align: right;\">\n",
              "      <th></th>\n",
              "      <th>Company</th>\n",
              "      <th>Valuation</th>\n",
              "      <th>Date Joined</th>\n",
              "      <th>Industry</th>\n",
              "      <th>City</th>\n",
              "      <th>Country/Region</th>\n",
              "      <th>Continent</th>\n",
              "      <th>Year Founded</th>\n",
              "      <th>Funding</th>\n",
              "      <th>Select Investors</th>\n",
              "      <th>Year Joined</th>\n",
              "      <th>Years to Unicorn</th>\n",
              "    </tr>\n",
              "  </thead>\n",
              "  <tbody>\n",
              "    <tr>\n",
              "      <th>385</th>\n",
              "      <td>BrewDog</td>\n",
              "      <td>2</td>\n",
              "      <td>2017-04-10</td>\n",
              "      <td>Consumer &amp; retail</td>\n",
              "      <td>Aberdeen</td>\n",
              "      <td>United Kingdom</td>\n",
              "      <td>Europe</td>\n",
              "      <td>2007</td>\n",
              "      <td>$233M</td>\n",
              "      <td>TSG Consumer Partners, Crowdcube</td>\n",
              "      <td>2017</td>\n",
              "      <td>10</td>\n",
              "    </tr>\n",
              "    <tr>\n",
              "      <th>386</th>\n",
              "      <td>BrewDog</td>\n",
              "      <td>2</td>\n",
              "      <td>2017-04-10</td>\n",
              "      <td>Consumer &amp; retail</td>\n",
              "      <td>Aberdeen</td>\n",
              "      <td>UnitedKingdom</td>\n",
              "      <td>Europe</td>\n",
              "      <td>2007</td>\n",
              "      <td>$233M</td>\n",
              "      <td>TSG Consumer Partners</td>\n",
              "      <td>2017</td>\n",
              "      <td>10</td>\n",
              "    </tr>\n",
              "    <tr>\n",
              "      <th>510</th>\n",
              "      <td>ZocDoc</td>\n",
              "      <td>2</td>\n",
              "      <td>2015-08-20</td>\n",
              "      <td>Health</td>\n",
              "      <td>New York</td>\n",
              "      <td>United States</td>\n",
              "      <td>North America</td>\n",
              "      <td>2007</td>\n",
              "      <td>$374M</td>\n",
              "      <td>Founders Fund, Khosla Ventures, Goldman Sachs</td>\n",
              "      <td>2015</td>\n",
              "      <td>8</td>\n",
              "    </tr>\n",
              "    <tr>\n",
              "      <th>511</th>\n",
              "      <td>ZocDoc</td>\n",
              "      <td>2</td>\n",
              "      <td>2015-08-20</td>\n",
              "      <td>Health</td>\n",
              "      <td>NaN</td>\n",
              "      <td>United States</td>\n",
              "      <td>North America</td>\n",
              "      <td>2007</td>\n",
              "      <td>$374M</td>\n",
              "      <td>Founders Fund</td>\n",
              "      <td>2015</td>\n",
              "      <td>8</td>\n",
              "    </tr>\n",
              "    <tr>\n",
              "      <th>1031</th>\n",
              "      <td>SoundHound</td>\n",
              "      <td>1</td>\n",
              "      <td>2018-05-03</td>\n",
              "      <td>Artificial intelligence</td>\n",
              "      <td>Santa Clara</td>\n",
              "      <td>United States</td>\n",
              "      <td>North America</td>\n",
              "      <td>2005</td>\n",
              "      <td>$215M</td>\n",
              "      <td>Tencent Holdings, Walden Venture Capital, Glob...</td>\n",
              "      <td>2018</td>\n",
              "      <td>13</td>\n",
              "    </tr>\n",
              "    <tr>\n",
              "      <th>1032</th>\n",
              "      <td>SoundHound</td>\n",
              "      <td>1</td>\n",
              "      <td>2018-05-03</td>\n",
              "      <td>Other</td>\n",
              "      <td>Santa Clara</td>\n",
              "      <td>United States</td>\n",
              "      <td>North America</td>\n",
              "      <td>2005</td>\n",
              "      <td>$215M</td>\n",
              "      <td>Tencent Holdings</td>\n",
              "      <td>2018</td>\n",
              "      <td>13</td>\n",
              "    </tr>\n",
              "  </tbody>\n",
              "</table>\n",
              "</div>"
            ],
            "text/plain": [
              "         Company  Valuation Date Joined                 Industry         City  \\\n",
              "385      BrewDog          2  2017-04-10        Consumer & retail     Aberdeen   \n",
              "386      BrewDog          2  2017-04-10        Consumer & retail     Aberdeen   \n",
              "510       ZocDoc          2  2015-08-20                   Health     New York   \n",
              "511       ZocDoc          2  2015-08-20                   Health          NaN   \n",
              "1031  SoundHound          1  2018-05-03  Artificial intelligence  Santa Clara   \n",
              "1032  SoundHound          1  2018-05-03                    Other  Santa Clara   \n",
              "\n",
              "      Country/Region      Continent  Year Founded Funding  \\\n",
              "385   United Kingdom         Europe          2007   $233M   \n",
              "386    UnitedKingdom         Europe          2007   $233M   \n",
              "510    United States  North America          2007   $374M   \n",
              "511    United States  North America          2007   $374M   \n",
              "1031   United States  North America          2005   $215M   \n",
              "1032   United States  North America          2005   $215M   \n",
              "\n",
              "                                       Select Investors  Year Joined  \\\n",
              "385                    TSG Consumer Partners, Crowdcube         2017   \n",
              "386                               TSG Consumer Partners         2017   \n",
              "510       Founders Fund, Khosla Ventures, Goldman Sachs         2015   \n",
              "511                                       Founders Fund         2015   \n",
              "1031  Tencent Holdings, Walden Venture Capital, Glob...         2018   \n",
              "1032                                   Tencent Holdings         2018   \n",
              "\n",
              "      Years to Unicorn  \n",
              "385                 10  \n",
              "386                 10  \n",
              "510                  8  \n",
              "511                  8  \n",
              "1031                13  \n",
              "1032                13  "
            ]
          },
          "execution_count": 16,
          "metadata": {},
          "output_type": "execute_result"
        }
      ],
      "source": [
        "# Isolate rows of all companies that have duplicates\n",
        "\n",
        "df[df.duplicated(subset='Company', keep=False)]"
      ],
      "id": "_A6w9QVU1_rp"
    },
    {
      "cell_type": "markdown",
      "metadata": {
        "id": "dmsiRGcQ1_rp"
      },
      "source": [
        "<details>\n",
        "  <summary><h4><strong>Hint 1</strong></h4></summary>\n",
        "\n",
        "Check for duplicated values specifically in the `Company` column, not entire rows that are duplicated.\n",
        "    \n",
        "</details>"
      ],
      "id": "dmsiRGcQ1_rp"
    },
    {
      "cell_type": "markdown",
      "metadata": {
        "id": "i0o2BM0f1_rp"
      },
      "source": [
        "<details>\n",
        "  <summary><h4><strong>Hint 2</strong></h4></summary>\n",
        "\n",
        "The pandas [`duplicated()`](https://pandas.pydata.org/docs/reference/api/pandas.DataFrame.duplicated.html#pandas.DataFrame.duplicated) `DataFrame` method can indentify duplicated rows. Apply it to the `Company` column in `companies` to find which companies appear more than once.\n",
        "    \n",
        "</details>"
      ],
      "id": "i0o2BM0f1_rp"
    },
    {
      "cell_type": "markdown",
      "metadata": {
        "id": "sFsGY9ed1_rp"
      },
      "source": [
        "<details>\n",
        "  <summary><h4><strong>Hint 3</strong></h4></summary>\n",
        "\n",
        "* To specify that you want to check for duplicates only in the `Company` column, indicate this with the `subset` parameter.\n",
        "* To return _all_ occurrences of duplicates, set the `keep` parameter to `False`.\n",
        "    \n",
        "</details>"
      ],
      "id": "sFsGY9ed1_rp"
    },
    {
      "cell_type": "markdown",
      "metadata": {
        "id": "ts0uoGTm1_rq"
      },
      "source": [
        "**Question: Do these duplicated companies seem like legitimate data points, or are they problematic data?**\n"
      ],
      "id": "ts0uoGTm1_rq"
    },
    {
      "cell_type": "markdown",
      "metadata": {
        "id": "rbchhpHx1_rq"
      },
      "source": [
        "They don't seem like legitimate data points, because there are no differences between the data entries."
      ],
      "id": "rbchhpHx1_rq"
    },
    {
      "cell_type": "markdown",
      "metadata": {
        "id": "I-SXTZxN1_rq"
      },
      "source": [
        "Keep the first occurrence of each duplicate company and drop the subsequent rows that are copies."
      ],
      "id": "I-SXTZxN1_rq"
    },
    {
      "cell_type": "code",
      "execution_count": null,
      "metadata": {
        "id": "C1HHriks1_rq"
      },
      "outputs": [],
      "source": [
        "# Drop rows of duplicate companies after their first occurrence\n",
        "\n",
        "df = df.drop_duplicates(subset=['Company'], keep='first')"
      ],
      "id": "C1HHriks1_rq"
    },
    {
      "cell_type": "markdown",
      "metadata": {
        "id": "2QlFArEh1_rq"
      },
      "source": [
        "<details>\n",
        "  <summary><h4><strong>Hint 1</strong></h4></summary>\n",
        "\n",
        "Use the [`drop_duplicates()`](https://pandas.pydata.org/docs/reference/api/pandas.DataFrame.drop_duplicates.html) `DataFrame` method.\n",
        "    \n",
        "</details>"
      ],
      "id": "2QlFArEh1_rq"
    },
    {
      "cell_type": "markdown",
      "metadata": {
        "id": "eRtM04uq1_rq"
      },
      "source": [
        "<details>\n",
        "  <summary><h4><strong>Hint 2</strong></h4></summary>\n",
        "\n",
        "Make sure to subset `Company` and reassign the results back to the `companies` dataframe for the changes to take effect.\n",
        "    \n",
        "</details>"
      ],
      "id": "eRtM04uq1_rq"
    },
    {
      "cell_type": "markdown",
      "metadata": {
        "id": "B5qJ-pd-1_rq"
      },
      "source": [
        "**Question: Why is it important to perform input validation?**\n"
      ],
      "id": "B5qJ-pd-1_rq"
    },
    {
      "cell_type": "markdown",
      "metadata": {
        "id": "MvBiyfkI1_rq"
      },
      "source": [
        "It's important because it keeps the data clean, and validated and avoids future problems with analysis and predictions."
      ],
      "id": "MvBiyfkI1_rq"
    },
    {
      "cell_type": "markdown",
      "metadata": {
        "id": "_Csr2tjt1_rq"
      },
      "source": [
        "**Question: What steps did you take to perform input validation for this dataset?**\n"
      ],
      "id": "_Csr2tjt1_rq"
    },
    {
      "cell_type": "markdown",
      "metadata": {
        "id": "kf-Wcm9c1_rq"
      },
      "source": [
        "The steps were:\n",
        "* Verify if there was any negative number in the Years to Unicorn column, investigate why, and fix it.\n",
        "* Verify if there was any value in the Industry column that was wrong and replace them.\n",
        "* Verify if there were any duplicated values in the Company column and eliminate them."
      ],
      "id": "kf-Wcm9c1_rq"
    },
    {
      "cell_type": "markdown",
      "metadata": {
        "id": "w_HtFyHrXVAc"
      },
      "source": [
        "### Convert numerical data to categorical data\n",
        "\n",
        "Sometimes, you'll want to simplify a numeric column by converting it to a categorical column. To do this, one common approach is to break the range of possible values into a defined number of equally sized bins and assign each bin a name. In the next step, you'll practice this process."
      ],
      "id": "w_HtFyHrXVAc"
    },
    {
      "cell_type": "markdown",
      "metadata": {
        "id": "3c03f2b7-8262-4ea5-94dd-53ee5f219cc7"
      },
      "source": [
        "#### Create a `High Valuation` column\n",
        "\n",
        "The data in the `Valuation` column represents how much money (in billions, USD) each company is valued at. Use the `Valuation` column to create a new column called `High Valuation`. For each company, the value in this column should be `low` if the company is in the bottom 50% of company valuations and `high` if the company is in the top 50%."
      ],
      "id": "3c03f2b7-8262-4ea5-94dd-53ee5f219cc7"
    },
    {
      "cell_type": "code",
      "execution_count": null,
      "metadata": {
        "id": "646aaace-82a5-4b73-822a-27475822de4a",
        "outputId": "9309e314-5355-4341-c0b4-9df8344ddc89"
      },
      "outputs": [
        {
          "data": {
            "text/html": [
              "<div>\n",
              "<style scoped>\n",
              "    .dataframe tbody tr th:only-of-type {\n",
              "        vertical-align: middle;\n",
              "    }\n",
              "\n",
              "    .dataframe tbody tr th {\n",
              "        vertical-align: top;\n",
              "    }\n",
              "\n",
              "    .dataframe thead th {\n",
              "        text-align: right;\n",
              "    }\n",
              "</style>\n",
              "<table border=\"1\" class=\"dataframe\">\n",
              "  <thead>\n",
              "    <tr style=\"text-align: right;\">\n",
              "      <th></th>\n",
              "      <th>Company</th>\n",
              "      <th>Valuation</th>\n",
              "      <th>Date Joined</th>\n",
              "      <th>Industry</th>\n",
              "      <th>City</th>\n",
              "      <th>Country/Region</th>\n",
              "      <th>Continent</th>\n",
              "      <th>Year Founded</th>\n",
              "      <th>Funding</th>\n",
              "      <th>Select Investors</th>\n",
              "      <th>Year Joined</th>\n",
              "      <th>Years to Unicorn</th>\n",
              "      <th>High Valuation</th>\n",
              "    </tr>\n",
              "  </thead>\n",
              "  <tbody>\n",
              "    <tr>\n",
              "      <th>0</th>\n",
              "      <td>Bytedance</td>\n",
              "      <td>180</td>\n",
              "      <td>2017-04-07</td>\n",
              "      <td>Artificial intelligence</td>\n",
              "      <td>Beijing</td>\n",
              "      <td>China</td>\n",
              "      <td>Asia</td>\n",
              "      <td>2012</td>\n",
              "      <td>$8B</td>\n",
              "      <td>Sequoia Capital China, SIG Asia Investments, S...</td>\n",
              "      <td>2017</td>\n",
              "      <td>5</td>\n",
              "      <td>high</td>\n",
              "    </tr>\n",
              "    <tr>\n",
              "      <th>1</th>\n",
              "      <td>SpaceX</td>\n",
              "      <td>100</td>\n",
              "      <td>2012-12-01</td>\n",
              "      <td>Other</td>\n",
              "      <td>Hawthorne</td>\n",
              "      <td>United States</td>\n",
              "      <td>North America</td>\n",
              "      <td>2002</td>\n",
              "      <td>$7B</td>\n",
              "      <td>Founders Fund, Draper Fisher Jurvetson, Rothen...</td>\n",
              "      <td>2012</td>\n",
              "      <td>10</td>\n",
              "      <td>high</td>\n",
              "    </tr>\n",
              "    <tr>\n",
              "      <th>2</th>\n",
              "      <td>SHEIN</td>\n",
              "      <td>100</td>\n",
              "      <td>2018-07-03</td>\n",
              "      <td>E-commerce &amp; direct-to-consumer</td>\n",
              "      <td>Shenzhen</td>\n",
              "      <td>China</td>\n",
              "      <td>Asia</td>\n",
              "      <td>2008</td>\n",
              "      <td>$2B</td>\n",
              "      <td>Tiger Global Management, Sequoia Capital China...</td>\n",
              "      <td>2018</td>\n",
              "      <td>10</td>\n",
              "      <td>high</td>\n",
              "    </tr>\n",
              "    <tr>\n",
              "      <th>3</th>\n",
              "      <td>Stripe</td>\n",
              "      <td>95</td>\n",
              "      <td>2014-01-23</td>\n",
              "      <td>Fintech</td>\n",
              "      <td>San Francisco</td>\n",
              "      <td>United States</td>\n",
              "      <td>North America</td>\n",
              "      <td>2010</td>\n",
              "      <td>$2B</td>\n",
              "      <td>Khosla Ventures, LowercaseCapital, capitalG</td>\n",
              "      <td>2014</td>\n",
              "      <td>4</td>\n",
              "      <td>high</td>\n",
              "    </tr>\n",
              "    <tr>\n",
              "      <th>4</th>\n",
              "      <td>Klarna</td>\n",
              "      <td>46</td>\n",
              "      <td>2011-12-12</td>\n",
              "      <td>Fintech</td>\n",
              "      <td>Stockholm</td>\n",
              "      <td>Sweden</td>\n",
              "      <td>Europe</td>\n",
              "      <td>2005</td>\n",
              "      <td>$4B</td>\n",
              "      <td>Institutional Venture Partners, Sequoia Capita...</td>\n",
              "      <td>2011</td>\n",
              "      <td>6</td>\n",
              "      <td>high</td>\n",
              "    </tr>\n",
              "  </tbody>\n",
              "</table>\n",
              "</div>"
            ],
            "text/plain": [
              "     Company  Valuation Date Joined                         Industry  \\\n",
              "0  Bytedance        180  2017-04-07          Artificial intelligence   \n",
              "1     SpaceX        100  2012-12-01                            Other   \n",
              "2      SHEIN        100  2018-07-03  E-commerce & direct-to-consumer   \n",
              "3     Stripe         95  2014-01-23                          Fintech   \n",
              "4     Klarna         46  2011-12-12                          Fintech   \n",
              "\n",
              "            City Country/Region      Continent  Year Founded Funding  \\\n",
              "0        Beijing          China           Asia          2012     $8B   \n",
              "1      Hawthorne  United States  North America          2002     $7B   \n",
              "2       Shenzhen          China           Asia          2008     $2B   \n",
              "3  San Francisco  United States  North America          2010     $2B   \n",
              "4      Stockholm         Sweden         Europe          2005     $4B   \n",
              "\n",
              "                                    Select Investors  Year Joined  \\\n",
              "0  Sequoia Capital China, SIG Asia Investments, S...         2017   \n",
              "1  Founders Fund, Draper Fisher Jurvetson, Rothen...         2012   \n",
              "2  Tiger Global Management, Sequoia Capital China...         2018   \n",
              "3        Khosla Ventures, LowercaseCapital, capitalG         2014   \n",
              "4  Institutional Venture Partners, Sequoia Capita...         2011   \n",
              "\n",
              "   Years to Unicorn High Valuation  \n",
              "0                 5           high  \n",
              "1                10           high  \n",
              "2                10           high  \n",
              "3                 4           high  \n",
              "4                 6           high  "
            ]
          },
          "execution_count": 18,
          "metadata": {},
          "output_type": "execute_result"
        }
      ],
      "source": [
        "# Create new `High Valuation` column\n",
        "# Use qcut to divide Valuation into 'high' and 'low' Valuation groups\n",
        "\n",
        "df['High Valuation'] = pd.qcut(\n",
        "    df['Valuation'],\n",
        "    2,\n",
        "    labels = ['low', 'high']\n",
        ")\n",
        "\n",
        "df.head()"
      ],
      "id": "646aaace-82a5-4b73-822a-27475822de4a"
    },
    {
      "cell_type": "markdown",
      "metadata": {
        "id": "3f610ee9-ef9d-4451-8667-edc8b4d803b9"
      },
      "source": [
        "<details>\n",
        "  <summary><h4><strong>Hint 1</strong></h4></summary>\n",
        "\n",
        "There are multiple ways to complete this task. Review what you've learned about organizing data into equal quantiles.\n",
        "    \n",
        "</details>"
      ],
      "id": "3f610ee9-ef9d-4451-8667-edc8b4d803b9"
    },
    {
      "cell_type": "markdown",
      "metadata": {
        "id": "97caea9d-0d55-45ba-be01-d90260610d95"
      },
      "source": [
        "<details>\n",
        "  <summary><h4><strong>Hint 2</strong></h4></summary>\n",
        "\n",
        "Consider using the pandas [`qcut()`](https://pandas.pydata.org/docs/reference/api/pandas.qcut.html) function.\n",
        "    \n",
        "</details>"
      ],
      "id": "97caea9d-0d55-45ba-be01-d90260610d95"
    },
    {
      "cell_type": "markdown",
      "metadata": {
        "id": "a606f612-aa34-46e3-b39f-c6f39b7e5dbd"
      },
      "source": [
        "<details>\n",
        "  <summary><h4><strong>Hint 3</strong></h4></summary>\n",
        "\n",
        "Use `pandas` `qcut()` to divide the data into two equal-sized quantile buckets. Use the `labels` parameter to define the output labels. The values you give for `labels` will be the values that are inserted into the new column.\n",
        "    \n",
        "</details>"
      ],
      "id": "a606f612-aa34-46e3-b39f-c6f39b7e5dbd"
    },
    {
      "cell_type": "markdown",
      "metadata": {
        "id": "6f5107f1-3694-4296-b857-b1e44ce2b09b"
      },
      "source": [
        "### Convert categorical data to numerical data\n",
        "\n",
        "Three common methods for changing categorical data to numerical are:\n",
        "\n",
        "1. Label encoding: order matters (ordinal numeric labels)\n",
        "2. Label encoding: order doesn't matter (nominal numeric labels)\n",
        "3. Dummy encoding: order doesn't matter (creation of binary columns for each possible category contained in the variable)\n",
        "\n",
        "The decision on which method to use depends on the context and must be made on a case-to-case basis. However, a distinction is typically made between categorical variables with equal weight given to all possible categories vs. variables with a hierarchical structure of importance to their possible categories.  \n",
        "\n",
        "For example, a variable called `subject` might have possible values of `history`, `mathematics`, `literature`. In this case, each subject might be **nominal**&mdash;given the same level of importance. However, you might have another variable called `class`, whose possible values are `freshman`, `sophomore`, `junior`, `senior`. In this case, the class variable is **ordinal**&mdash;its values have an ordered, hierarchical structure of importance.\n",
        "\n",
        "Machine learning models typically need all data to be numeric, and they generally use ordinal label encoding (method 1) and dummy encoding (method 3).\n",
        "\n",
        "In the next steps, you'll convert the following variables: `Continent`, `Country/Region`, and `Industry`, each using a different approach."
      ],
      "id": "6f5107f1-3694-4296-b857-b1e44ce2b09b"
    },
    {
      "cell_type": "markdown",
      "metadata": {
        "id": "1VXH0VIC1_rq"
      },
      "source": [
        "### Convert `Continent` to numeric\n",
        "\n",
        "For the purposes of this exercise, suppose that the investment group has specified that they want to give more weight to continents with fewer unicorn companies because they believe this could indicate unrealized market potential."
      ],
      "id": "1VXH0VIC1_rq"
    },
    {
      "cell_type": "markdown",
      "metadata": {
        "id": "_9mWjA_F1_rr"
      },
      "source": [
        "**Question: Which type of variable would this make the `Continent` variable in terms of how it would be converted to a numeric data type?**\n"
      ],
      "id": "_9mWjA_F1_rr"
    },
    {
      "cell_type": "markdown",
      "metadata": {
        "id": "oadBW7yd1_rr"
      },
      "source": [
        "This could be an ordinal variable because I will need to define and prioritize the continents that have fewer unicorn companies, so the order matters."
      ],
      "id": "oadBW7yd1_rr"
    },
    {
      "cell_type": "markdown",
      "metadata": {
        "id": "wnSRXzqw1_rr"
      },
      "source": [
        "Rank the continents in descending order from the greatest number of unicorn companies to the least."
      ],
      "id": "wnSRXzqw1_rr"
    },
    {
      "cell_type": "code",
      "execution_count": null,
      "metadata": {
        "id": "bbd72ed4-5cac-41f7-a816-3a4d28e34eb4",
        "outputId": "2207450b-0c8c-4484-9652-7a8d8cad076a"
      },
      "outputs": [
        {
          "data": {
            "text/html": [
              "<div>\n",
              "<style scoped>\n",
              "    .dataframe tbody tr th:only-of-type {\n",
              "        vertical-align: middle;\n",
              "    }\n",
              "\n",
              "    .dataframe tbody tr th {\n",
              "        vertical-align: top;\n",
              "    }\n",
              "\n",
              "    .dataframe thead th {\n",
              "        text-align: right;\n",
              "    }\n",
              "</style>\n",
              "<table border=\"1\" class=\"dataframe\">\n",
              "  <thead>\n",
              "    <tr style=\"text-align: right;\">\n",
              "      <th></th>\n",
              "      <th>Continent</th>\n",
              "      <th>Company</th>\n",
              "    </tr>\n",
              "  </thead>\n",
              "  <tbody>\n",
              "    <tr>\n",
              "      <th>0</th>\n",
              "      <td>North America</td>\n",
              "      <td>586</td>\n",
              "    </tr>\n",
              "    <tr>\n",
              "      <th>1</th>\n",
              "      <td>Asia</td>\n",
              "      <td>310</td>\n",
              "    </tr>\n",
              "    <tr>\n",
              "      <th>2</th>\n",
              "      <td>Europe</td>\n",
              "      <td>143</td>\n",
              "    </tr>\n",
              "    <tr>\n",
              "      <th>3</th>\n",
              "      <td>South America</td>\n",
              "      <td>21</td>\n",
              "    </tr>\n",
              "    <tr>\n",
              "      <th>4</th>\n",
              "      <td>Oceania</td>\n",
              "      <td>8</td>\n",
              "    </tr>\n",
              "    <tr>\n",
              "      <th>5</th>\n",
              "      <td>Africa</td>\n",
              "      <td>3</td>\n",
              "    </tr>\n",
              "  </tbody>\n",
              "</table>\n",
              "</div>"
            ],
            "text/plain": [
              "       Continent  Company\n",
              "0  North America      586\n",
              "1           Asia      310\n",
              "2         Europe      143\n",
              "3  South America       21\n",
              "4        Oceania        8\n",
              "5         Africa        3"
            ]
          },
          "execution_count": 25,
          "metadata": {},
          "output_type": "execute_result"
        }
      ],
      "source": [
        "# Rank the continents by number of unicorn companies\n",
        "\n",
        "df.groupby(by='Continent')['Company'].count().sort_values(ascending=False).reset_index()"
      ],
      "id": "bbd72ed4-5cac-41f7-a816-3a4d28e34eb4"
    },
    {
      "cell_type": "markdown",
      "metadata": {
        "id": "34f1f513-2d9f-4da7-b884-6a6714b7652e"
      },
      "source": [
        "<details>\n",
        "  <summary><h4><strong>Hint</strong></h4></summary>\n",
        "\n",
        "Use the `value_counts()` method on the `Continent` series.\n",
        "    \n",
        "</details>"
      ],
      "id": "34f1f513-2d9f-4da7-b884-6a6714b7652e"
    },
    {
      "cell_type": "markdown",
      "metadata": {
        "id": "2c95b77d-7cda-46ba-975f-8632aaa6158d",
        "tags": []
      },
      "source": [
        "Now, create a new column called `Continent Number` that represents the `Continent` column converted to numeric in the order of their number of unicorn companies, where North America is encoded as `1`, through Africa, encoded as `6`."
      ],
      "id": "2c95b77d-7cda-46ba-975f-8632aaa6158d"
    },
    {
      "cell_type": "code",
      "execution_count": null,
      "metadata": {
        "id": "c3bd716a-7845-4c3c-988c-3b227c10e036",
        "outputId": "73bd6e9d-f6ab-4ff9-ea8f-17981d437eb8"
      },
      "outputs": [
        {
          "data": {
            "text/html": [
              "<div>\n",
              "<style scoped>\n",
              "    .dataframe tbody tr th:only-of-type {\n",
              "        vertical-align: middle;\n",
              "    }\n",
              "\n",
              "    .dataframe tbody tr th {\n",
              "        vertical-align: top;\n",
              "    }\n",
              "\n",
              "    .dataframe thead th {\n",
              "        text-align: right;\n",
              "    }\n",
              "</style>\n",
              "<table border=\"1\" class=\"dataframe\">\n",
              "  <thead>\n",
              "    <tr style=\"text-align: right;\">\n",
              "      <th></th>\n",
              "      <th>Company</th>\n",
              "      <th>Valuation</th>\n",
              "      <th>Date Joined</th>\n",
              "      <th>Industry</th>\n",
              "      <th>City</th>\n",
              "      <th>Country/Region</th>\n",
              "      <th>Continent</th>\n",
              "      <th>Year Founded</th>\n",
              "      <th>Funding</th>\n",
              "      <th>Select Investors</th>\n",
              "      <th>Year Joined</th>\n",
              "      <th>Years to Unicorn</th>\n",
              "      <th>High Valuation</th>\n",
              "      <th>Continent Number</th>\n",
              "    </tr>\n",
              "  </thead>\n",
              "  <tbody>\n",
              "    <tr>\n",
              "      <th>0</th>\n",
              "      <td>Bytedance</td>\n",
              "      <td>180</td>\n",
              "      <td>2017-04-07</td>\n",
              "      <td>Artificial intelligence</td>\n",
              "      <td>Beijing</td>\n",
              "      <td>China</td>\n",
              "      <td>Asia</td>\n",
              "      <td>2012</td>\n",
              "      <td>$8B</td>\n",
              "      <td>Sequoia Capital China, SIG Asia Investments, S...</td>\n",
              "      <td>2017</td>\n",
              "      <td>5</td>\n",
              "      <td>high</td>\n",
              "      <td>2</td>\n",
              "    </tr>\n",
              "    <tr>\n",
              "      <th>1</th>\n",
              "      <td>SpaceX</td>\n",
              "      <td>100</td>\n",
              "      <td>2012-12-01</td>\n",
              "      <td>Other</td>\n",
              "      <td>Hawthorne</td>\n",
              "      <td>United States</td>\n",
              "      <td>North America</td>\n",
              "      <td>2002</td>\n",
              "      <td>$7B</td>\n",
              "      <td>Founders Fund, Draper Fisher Jurvetson, Rothen...</td>\n",
              "      <td>2012</td>\n",
              "      <td>10</td>\n",
              "      <td>high</td>\n",
              "      <td>1</td>\n",
              "    </tr>\n",
              "    <tr>\n",
              "      <th>2</th>\n",
              "      <td>SHEIN</td>\n",
              "      <td>100</td>\n",
              "      <td>2018-07-03</td>\n",
              "      <td>E-commerce &amp; direct-to-consumer</td>\n",
              "      <td>Shenzhen</td>\n",
              "      <td>China</td>\n",
              "      <td>Asia</td>\n",
              "      <td>2008</td>\n",
              "      <td>$2B</td>\n",
              "      <td>Tiger Global Management, Sequoia Capital China...</td>\n",
              "      <td>2018</td>\n",
              "      <td>10</td>\n",
              "      <td>high</td>\n",
              "      <td>2</td>\n",
              "    </tr>\n",
              "    <tr>\n",
              "      <th>3</th>\n",
              "      <td>Stripe</td>\n",
              "      <td>95</td>\n",
              "      <td>2014-01-23</td>\n",
              "      <td>Fintech</td>\n",
              "      <td>San Francisco</td>\n",
              "      <td>United States</td>\n",
              "      <td>North America</td>\n",
              "      <td>2010</td>\n",
              "      <td>$2B</td>\n",
              "      <td>Khosla Ventures, LowercaseCapital, capitalG</td>\n",
              "      <td>2014</td>\n",
              "      <td>4</td>\n",
              "      <td>high</td>\n",
              "      <td>1</td>\n",
              "    </tr>\n",
              "    <tr>\n",
              "      <th>4</th>\n",
              "      <td>Klarna</td>\n",
              "      <td>46</td>\n",
              "      <td>2011-12-12</td>\n",
              "      <td>Fintech</td>\n",
              "      <td>Stockholm</td>\n",
              "      <td>Sweden</td>\n",
              "      <td>Europe</td>\n",
              "      <td>2005</td>\n",
              "      <td>$4B</td>\n",
              "      <td>Institutional Venture Partners, Sequoia Capita...</td>\n",
              "      <td>2011</td>\n",
              "      <td>6</td>\n",
              "      <td>high</td>\n",
              "      <td>3</td>\n",
              "    </tr>\n",
              "  </tbody>\n",
              "</table>\n",
              "</div>"
            ],
            "text/plain": [
              "     Company  Valuation Date Joined                         Industry  \\\n",
              "0  Bytedance        180  2017-04-07          Artificial intelligence   \n",
              "1     SpaceX        100  2012-12-01                            Other   \n",
              "2      SHEIN        100  2018-07-03  E-commerce & direct-to-consumer   \n",
              "3     Stripe         95  2014-01-23                          Fintech   \n",
              "4     Klarna         46  2011-12-12                          Fintech   \n",
              "\n",
              "            City Country/Region      Continent  Year Founded Funding  \\\n",
              "0        Beijing          China           Asia          2012     $8B   \n",
              "1      Hawthorne  United States  North America          2002     $7B   \n",
              "2       Shenzhen          China           Asia          2008     $2B   \n",
              "3  San Francisco  United States  North America          2010     $2B   \n",
              "4      Stockholm         Sweden         Europe          2005     $4B   \n",
              "\n",
              "                                    Select Investors  Year Joined  \\\n",
              "0  Sequoia Capital China, SIG Asia Investments, S...         2017   \n",
              "1  Founders Fund, Draper Fisher Jurvetson, Rothen...         2012   \n",
              "2  Tiger Global Management, Sequoia Capital China...         2018   \n",
              "3        Khosla Ventures, LowercaseCapital, capitalG         2014   \n",
              "4  Institutional Venture Partners, Sequoia Capita...         2011   \n",
              "\n",
              "   Years to Unicorn High Valuation  Continent Number  \n",
              "0                 5           high                 2  \n",
              "1                10           high                 1  \n",
              "2                10           high                 2  \n",
              "3                 4           high                 1  \n",
              "4                 6           high                 3  "
            ]
          },
          "execution_count": 26,
          "metadata": {},
          "output_type": "execute_result"
        }
      ],
      "source": [
        "# Create numeric `Continent Number` column\n",
        "\n",
        "replace_dict = {\n",
        "    'North America': 1,\n",
        "    'Asia': 2,\n",
        "    'Europe': 3,\n",
        "    'South America': 4,\n",
        "    'Oceania': 5,\n",
        "    'Africa': 6\n",
        "}\n",
        "\n",
        "df['Continent Number'] = df['Continent'].replace(replace_dict)\n",
        "\n",
        "df.head()"
      ],
      "id": "c3bd716a-7845-4c3c-988c-3b227c10e036"
    },
    {
      "cell_type": "markdown",
      "metadata": {
        "id": "ce4eb04d-d2d3-454c-a273-0815b1d1a95a"
      },
      "source": [
        "<details>\n",
        "  <summary><h4><strong>Hint </strong></h4></summary>\n",
        "\n",
        "Create a mapping dictionary and use the `replace()` method on the `Category` column. Refer to the example provided above for more information about `replace()`.\n",
        "    \n",
        "</details>"
      ],
      "id": "ce4eb04d-d2d3-454c-a273-0815b1d1a95a"
    },
    {
      "cell_type": "markdown",
      "metadata": {
        "id": "pe38vYTi1_rr"
      },
      "source": [
        "### Convert `Country/Region` to numeric\n",
        "\n",
        "Now, suppose that within a given continent, each company's `Country/Region` is given equal importance. For analytical purposes, you want to convert the values in this column to numeric without creating a large number of dummy columns. Use label encoding of this nominal categorical variable to create a new column called `Country/Region Numeric`, wherein each unique `Country/Region` is assigned its own number."
      ],
      "id": "pe38vYTi1_rr"
    },
    {
      "cell_type": "code",
      "execution_count": null,
      "metadata": {
        "id": "dCkUUJji1_rr",
        "outputId": "fc673c1b-a957-4bea-b761-aa7e0f69ef52"
      },
      "outputs": [
        {
          "data": {
            "text/html": [
              "<div>\n",
              "<style scoped>\n",
              "    .dataframe tbody tr th:only-of-type {\n",
              "        vertical-align: middle;\n",
              "    }\n",
              "\n",
              "    .dataframe tbody tr th {\n",
              "        vertical-align: top;\n",
              "    }\n",
              "\n",
              "    .dataframe thead th {\n",
              "        text-align: right;\n",
              "    }\n",
              "</style>\n",
              "<table border=\"1\" class=\"dataframe\">\n",
              "  <thead>\n",
              "    <tr style=\"text-align: right;\">\n",
              "      <th></th>\n",
              "      <th>Company</th>\n",
              "      <th>Valuation</th>\n",
              "      <th>Date Joined</th>\n",
              "      <th>Industry</th>\n",
              "      <th>City</th>\n",
              "      <th>Country/Region</th>\n",
              "      <th>Continent</th>\n",
              "      <th>Year Founded</th>\n",
              "      <th>Funding</th>\n",
              "      <th>Select Investors</th>\n",
              "      <th>Year Joined</th>\n",
              "      <th>Years to Unicorn</th>\n",
              "      <th>High Valuation</th>\n",
              "      <th>Continent Number</th>\n",
              "      <th>Country/Region Numeric</th>\n",
              "    </tr>\n",
              "  </thead>\n",
              "  <tbody>\n",
              "    <tr>\n",
              "      <th>0</th>\n",
              "      <td>Bytedance</td>\n",
              "      <td>180</td>\n",
              "      <td>2017-04-07</td>\n",
              "      <td>Artificial intelligence</td>\n",
              "      <td>Beijing</td>\n",
              "      <td>China</td>\n",
              "      <td>Asia</td>\n",
              "      <td>2012</td>\n",
              "      <td>$8B</td>\n",
              "      <td>Sequoia Capital China, SIG Asia Investments, S...</td>\n",
              "      <td>2017</td>\n",
              "      <td>5</td>\n",
              "      <td>high</td>\n",
              "      <td>2</td>\n",
              "      <td>9</td>\n",
              "    </tr>\n",
              "    <tr>\n",
              "      <th>1</th>\n",
              "      <td>SpaceX</td>\n",
              "      <td>100</td>\n",
              "      <td>2012-12-01</td>\n",
              "      <td>Other</td>\n",
              "      <td>Hawthorne</td>\n",
              "      <td>United States</td>\n",
              "      <td>North America</td>\n",
              "      <td>2002</td>\n",
              "      <td>$7B</td>\n",
              "      <td>Founders Fund, Draper Fisher Jurvetson, Rothen...</td>\n",
              "      <td>2012</td>\n",
              "      <td>10</td>\n",
              "      <td>high</td>\n",
              "      <td>1</td>\n",
              "      <td>44</td>\n",
              "    </tr>\n",
              "    <tr>\n",
              "      <th>2</th>\n",
              "      <td>SHEIN</td>\n",
              "      <td>100</td>\n",
              "      <td>2018-07-03</td>\n",
              "      <td>E-commerce &amp; direct-to-consumer</td>\n",
              "      <td>Shenzhen</td>\n",
              "      <td>China</td>\n",
              "      <td>Asia</td>\n",
              "      <td>2008</td>\n",
              "      <td>$2B</td>\n",
              "      <td>Tiger Global Management, Sequoia Capital China...</td>\n",
              "      <td>2018</td>\n",
              "      <td>10</td>\n",
              "      <td>high</td>\n",
              "      <td>2</td>\n",
              "      <td>9</td>\n",
              "    </tr>\n",
              "    <tr>\n",
              "      <th>3</th>\n",
              "      <td>Stripe</td>\n",
              "      <td>95</td>\n",
              "      <td>2014-01-23</td>\n",
              "      <td>Fintech</td>\n",
              "      <td>San Francisco</td>\n",
              "      <td>United States</td>\n",
              "      <td>North America</td>\n",
              "      <td>2010</td>\n",
              "      <td>$2B</td>\n",
              "      <td>Khosla Ventures, LowercaseCapital, capitalG</td>\n",
              "      <td>2014</td>\n",
              "      <td>4</td>\n",
              "      <td>high</td>\n",
              "      <td>1</td>\n",
              "      <td>44</td>\n",
              "    </tr>\n",
              "    <tr>\n",
              "      <th>4</th>\n",
              "      <td>Klarna</td>\n",
              "      <td>46</td>\n",
              "      <td>2011-12-12</td>\n",
              "      <td>Fintech</td>\n",
              "      <td>Stockholm</td>\n",
              "      <td>Sweden</td>\n",
              "      <td>Europe</td>\n",
              "      <td>2005</td>\n",
              "      <td>$4B</td>\n",
              "      <td>Institutional Venture Partners, Sequoia Capita...</td>\n",
              "      <td>2011</td>\n",
              "      <td>6</td>\n",
              "      <td>high</td>\n",
              "      <td>3</td>\n",
              "      <td>38</td>\n",
              "    </tr>\n",
              "  </tbody>\n",
              "</table>\n",
              "</div>"
            ],
            "text/plain": [
              "     Company  Valuation Date Joined                         Industry  \\\n",
              "0  Bytedance        180  2017-04-07          Artificial intelligence   \n",
              "1     SpaceX        100  2012-12-01                            Other   \n",
              "2      SHEIN        100  2018-07-03  E-commerce & direct-to-consumer   \n",
              "3     Stripe         95  2014-01-23                          Fintech   \n",
              "4     Klarna         46  2011-12-12                          Fintech   \n",
              "\n",
              "            City Country/Region      Continent  Year Founded Funding  \\\n",
              "0        Beijing          China           Asia          2012     $8B   \n",
              "1      Hawthorne  United States  North America          2002     $7B   \n",
              "2       Shenzhen          China           Asia          2008     $2B   \n",
              "3  San Francisco  United States  North America          2010     $2B   \n",
              "4      Stockholm         Sweden         Europe          2005     $4B   \n",
              "\n",
              "                                    Select Investors  Year Joined  \\\n",
              "0  Sequoia Capital China, SIG Asia Investments, S...         2017   \n",
              "1  Founders Fund, Draper Fisher Jurvetson, Rothen...         2012   \n",
              "2  Tiger Global Management, Sequoia Capital China...         2018   \n",
              "3        Khosla Ventures, LowercaseCapital, capitalG         2014   \n",
              "4  Institutional Venture Partners, Sequoia Capita...         2011   \n",
              "\n",
              "   Years to Unicorn High Valuation  Continent Number  Country/Region Numeric  \n",
              "0                 5           high                 2                       9  \n",
              "1                10           high                 1                      44  \n",
              "2                10           high                 2                       9  \n",
              "3                 4           high                 1                      44  \n",
              "4                 6           high                 3                      38  "
            ]
          },
          "execution_count": 29,
          "metadata": {},
          "output_type": "execute_result"
        }
      ],
      "source": [
        "# Create `Country/Region Numeric` column\n",
        "# Create numeric categories for Country/Region\n",
        "\n",
        "df['Country/Region Numeric'] = df['Country/Region'].astype('category').cat.codes\n",
        "df.head()"
      ],
      "id": "dCkUUJji1_rr"
    },
    {
      "cell_type": "markdown",
      "metadata": {
        "id": "Z0Nc8c781_rr"
      },
      "source": [
        "<details>\n",
        "  <summary><h4><strong>Hint 1</strong></h4></summary>\n",
        "\n",
        "Review what you have learned about converting a variable with a string/object data type to a category.\n",
        "    \n",
        "</details>"
      ],
      "id": "Z0Nc8c781_rr"
    },
    {
      "cell_type": "markdown",
      "metadata": {
        "id": "CzsNestk1_rr"
      },
      "source": [
        "<details>\n",
        "  <summary><h4><strong>Hint 2</strong></h4></summary>\n",
        "\n",
        "To use label encoding, apply `.astype('category').cat.codes` to the `Country/Region` in `companies`.\n",
        "    \n",
        "</details>"
      ],
      "id": "CzsNestk1_rr"
    },
    {
      "cell_type": "markdown",
      "metadata": {
        "id": "2eeff065-469f-4a43-bf2a-87920c4d7bc0"
      },
      "source": [
        "### Convert `Industry` to numeric\n",
        "\n",
        "Finally, create dummy variables for the values in the `Industry` column."
      ],
      "id": "2eeff065-469f-4a43-bf2a-87920c4d7bc0"
    },
    {
      "cell_type": "code",
      "execution_count": null,
      "metadata": {
        "id": "4bca4703-9f76-4b59-bc5e-df0097e44b4a",
        "outputId": "80a39422-6aea-411b-e340-706c1212b09c"
      },
      "outputs": [
        {
          "data": {
            "text/html": [
              "<div>\n",
              "<style scoped>\n",
              "    .dataframe tbody tr th:only-of-type {\n",
              "        vertical-align: middle;\n",
              "    }\n",
              "\n",
              "    .dataframe tbody tr th {\n",
              "        vertical-align: top;\n",
              "    }\n",
              "\n",
              "    .dataframe thead th {\n",
              "        text-align: right;\n",
              "    }\n",
              "</style>\n",
              "<table border=\"1\" class=\"dataframe\">\n",
              "  <thead>\n",
              "    <tr style=\"text-align: right;\">\n",
              "      <th></th>\n",
              "      <th>Company</th>\n",
              "      <th>Valuation</th>\n",
              "      <th>Date Joined</th>\n",
              "      <th>Industry</th>\n",
              "      <th>City</th>\n",
              "      <th>Country/Region</th>\n",
              "      <th>Continent</th>\n",
              "      <th>Year Founded</th>\n",
              "      <th>Funding</th>\n",
              "      <th>Select Investors</th>\n",
              "      <th>Year Joined</th>\n",
              "      <th>Years to Unicorn</th>\n",
              "      <th>High Valuation</th>\n",
              "      <th>Continent Number</th>\n",
              "      <th>Country/Region Numeric</th>\n",
              "      <th>Artificial intelligence</th>\n",
              "      <th>Auto &amp; transportation</th>\n",
              "      <th>Consumer &amp; retail</th>\n",
              "      <th>Cybersecurity</th>\n",
              "      <th>Data management &amp; analytics</th>\n",
              "      <th>E-commerce &amp; direct-to-consumer</th>\n",
              "      <th>Edtech</th>\n",
              "      <th>Fintech</th>\n",
              "      <th>Hardware</th>\n",
              "      <th>Health</th>\n",
              "      <th>Internet software &amp; services</th>\n",
              "      <th>Mobile &amp; telecommunications</th>\n",
              "      <th>Other</th>\n",
              "      <th>Supply chain, logistics, &amp; delivery</th>\n",
              "      <th>Travel</th>\n",
              "    </tr>\n",
              "  </thead>\n",
              "  <tbody>\n",
              "    <tr>\n",
              "      <th>0</th>\n",
              "      <td>Bytedance</td>\n",
              "      <td>180</td>\n",
              "      <td>2017-04-07</td>\n",
              "      <td>Artificial intelligence</td>\n",
              "      <td>Beijing</td>\n",
              "      <td>China</td>\n",
              "      <td>Asia</td>\n",
              "      <td>2012</td>\n",
              "      <td>$8B</td>\n",
              "      <td>Sequoia Capital China, SIG Asia Investments, S...</td>\n",
              "      <td>2017</td>\n",
              "      <td>5</td>\n",
              "      <td>high</td>\n",
              "      <td>2</td>\n",
              "      <td>9</td>\n",
              "      <td>1</td>\n",
              "      <td>0</td>\n",
              "      <td>0</td>\n",
              "      <td>0</td>\n",
              "      <td>0</td>\n",
              "      <td>0</td>\n",
              "      <td>0</td>\n",
              "      <td>0</td>\n",
              "      <td>0</td>\n",
              "      <td>0</td>\n",
              "      <td>0</td>\n",
              "      <td>0</td>\n",
              "      <td>0</td>\n",
              "      <td>0</td>\n",
              "      <td>0</td>\n",
              "    </tr>\n",
              "    <tr>\n",
              "      <th>1</th>\n",
              "      <td>SpaceX</td>\n",
              "      <td>100</td>\n",
              "      <td>2012-12-01</td>\n",
              "      <td>Other</td>\n",
              "      <td>Hawthorne</td>\n",
              "      <td>United States</td>\n",
              "      <td>North America</td>\n",
              "      <td>2002</td>\n",
              "      <td>$7B</td>\n",
              "      <td>Founders Fund, Draper Fisher Jurvetson, Rothen...</td>\n",
              "      <td>2012</td>\n",
              "      <td>10</td>\n",
              "      <td>high</td>\n",
              "      <td>1</td>\n",
              "      <td>44</td>\n",
              "      <td>0</td>\n",
              "      <td>0</td>\n",
              "      <td>0</td>\n",
              "      <td>0</td>\n",
              "      <td>0</td>\n",
              "      <td>0</td>\n",
              "      <td>0</td>\n",
              "      <td>0</td>\n",
              "      <td>0</td>\n",
              "      <td>0</td>\n",
              "      <td>0</td>\n",
              "      <td>0</td>\n",
              "      <td>1</td>\n",
              "      <td>0</td>\n",
              "      <td>0</td>\n",
              "    </tr>\n",
              "    <tr>\n",
              "      <th>2</th>\n",
              "      <td>SHEIN</td>\n",
              "      <td>100</td>\n",
              "      <td>2018-07-03</td>\n",
              "      <td>E-commerce &amp; direct-to-consumer</td>\n",
              "      <td>Shenzhen</td>\n",
              "      <td>China</td>\n",
              "      <td>Asia</td>\n",
              "      <td>2008</td>\n",
              "      <td>$2B</td>\n",
              "      <td>Tiger Global Management, Sequoia Capital China...</td>\n",
              "      <td>2018</td>\n",
              "      <td>10</td>\n",
              "      <td>high</td>\n",
              "      <td>2</td>\n",
              "      <td>9</td>\n",
              "      <td>0</td>\n",
              "      <td>0</td>\n",
              "      <td>0</td>\n",
              "      <td>0</td>\n",
              "      <td>0</td>\n",
              "      <td>1</td>\n",
              "      <td>0</td>\n",
              "      <td>0</td>\n",
              "      <td>0</td>\n",
              "      <td>0</td>\n",
              "      <td>0</td>\n",
              "      <td>0</td>\n",
              "      <td>0</td>\n",
              "      <td>0</td>\n",
              "      <td>0</td>\n",
              "    </tr>\n",
              "    <tr>\n",
              "      <th>3</th>\n",
              "      <td>Stripe</td>\n",
              "      <td>95</td>\n",
              "      <td>2014-01-23</td>\n",
              "      <td>Fintech</td>\n",
              "      <td>San Francisco</td>\n",
              "      <td>United States</td>\n",
              "      <td>North America</td>\n",
              "      <td>2010</td>\n",
              "      <td>$2B</td>\n",
              "      <td>Khosla Ventures, LowercaseCapital, capitalG</td>\n",
              "      <td>2014</td>\n",
              "      <td>4</td>\n",
              "      <td>high</td>\n",
              "      <td>1</td>\n",
              "      <td>44</td>\n",
              "      <td>0</td>\n",
              "      <td>0</td>\n",
              "      <td>0</td>\n",
              "      <td>0</td>\n",
              "      <td>0</td>\n",
              "      <td>0</td>\n",
              "      <td>0</td>\n",
              "      <td>1</td>\n",
              "      <td>0</td>\n",
              "      <td>0</td>\n",
              "      <td>0</td>\n",
              "      <td>0</td>\n",
              "      <td>0</td>\n",
              "      <td>0</td>\n",
              "      <td>0</td>\n",
              "    </tr>\n",
              "    <tr>\n",
              "      <th>4</th>\n",
              "      <td>Klarna</td>\n",
              "      <td>46</td>\n",
              "      <td>2011-12-12</td>\n",
              "      <td>Fintech</td>\n",
              "      <td>Stockholm</td>\n",
              "      <td>Sweden</td>\n",
              "      <td>Europe</td>\n",
              "      <td>2005</td>\n",
              "      <td>$4B</td>\n",
              "      <td>Institutional Venture Partners, Sequoia Capita...</td>\n",
              "      <td>2011</td>\n",
              "      <td>6</td>\n",
              "      <td>high</td>\n",
              "      <td>3</td>\n",
              "      <td>38</td>\n",
              "      <td>0</td>\n",
              "      <td>0</td>\n",
              "      <td>0</td>\n",
              "      <td>0</td>\n",
              "      <td>0</td>\n",
              "      <td>0</td>\n",
              "      <td>0</td>\n",
              "      <td>1</td>\n",
              "      <td>0</td>\n",
              "      <td>0</td>\n",
              "      <td>0</td>\n",
              "      <td>0</td>\n",
              "      <td>0</td>\n",
              "      <td>0</td>\n",
              "      <td>0</td>\n",
              "    </tr>\n",
              "  </tbody>\n",
              "</table>\n",
              "</div>"
            ],
            "text/plain": [
              "     Company  Valuation Date Joined                         Industry  \\\n",
              "0  Bytedance        180  2017-04-07          Artificial intelligence   \n",
              "1     SpaceX        100  2012-12-01                            Other   \n",
              "2      SHEIN        100  2018-07-03  E-commerce & direct-to-consumer   \n",
              "3     Stripe         95  2014-01-23                          Fintech   \n",
              "4     Klarna         46  2011-12-12                          Fintech   \n",
              "\n",
              "            City Country/Region      Continent  Year Founded Funding  \\\n",
              "0        Beijing          China           Asia          2012     $8B   \n",
              "1      Hawthorne  United States  North America          2002     $7B   \n",
              "2       Shenzhen          China           Asia          2008     $2B   \n",
              "3  San Francisco  United States  North America          2010     $2B   \n",
              "4      Stockholm         Sweden         Europe          2005     $4B   \n",
              "\n",
              "                                    Select Investors  Year Joined  \\\n",
              "0  Sequoia Capital China, SIG Asia Investments, S...         2017   \n",
              "1  Founders Fund, Draper Fisher Jurvetson, Rothen...         2012   \n",
              "2  Tiger Global Management, Sequoia Capital China...         2018   \n",
              "3        Khosla Ventures, LowercaseCapital, capitalG         2014   \n",
              "4  Institutional Venture Partners, Sequoia Capita...         2011   \n",
              "\n",
              "   Years to Unicorn High Valuation  Continent Number  Country/Region Numeric  \\\n",
              "0                 5           high                 2                       9   \n",
              "1                10           high                 1                      44   \n",
              "2                10           high                 2                       9   \n",
              "3                 4           high                 1                      44   \n",
              "4                 6           high                 3                      38   \n",
              "\n",
              "   Artificial intelligence  Auto & transportation  Consumer & retail  \\\n",
              "0                        1                      0                  0   \n",
              "1                        0                      0                  0   \n",
              "2                        0                      0                  0   \n",
              "3                        0                      0                  0   \n",
              "4                        0                      0                  0   \n",
              "\n",
              "   Cybersecurity  Data management & analytics  \\\n",
              "0              0                            0   \n",
              "1              0                            0   \n",
              "2              0                            0   \n",
              "3              0                            0   \n",
              "4              0                            0   \n",
              "\n",
              "   E-commerce & direct-to-consumer  Edtech  Fintech  Hardware  Health  \\\n",
              "0                                0       0        0         0       0   \n",
              "1                                0       0        0         0       0   \n",
              "2                                1       0        0         0       0   \n",
              "3                                0       0        1         0       0   \n",
              "4                                0       0        1         0       0   \n",
              "\n",
              "   Internet software & services  Mobile & telecommunications  Other  \\\n",
              "0                             0                            0      0   \n",
              "1                             0                            0      1   \n",
              "2                             0                            0      0   \n",
              "3                             0                            0      0   \n",
              "4                             0                            0      0   \n",
              "\n",
              "   Supply chain, logistics, & delivery  Travel  \n",
              "0                                    0       0  \n",
              "1                                    0       0  \n",
              "2                                    0       0  \n",
              "3                                    0       0  \n",
              "4                                    0       0  "
            ]
          },
          "execution_count": 33,
          "metadata": {},
          "output_type": "execute_result"
        }
      ],
      "source": [
        "# Convert `Industry` to numeric data\n",
        "# Create dummy variables with Industry values\n",
        "\n",
        "df_dummies = pd.get_dummies(df['Industry'])\n",
        "\n",
        "# Combine `df` DataFrame with new dummy Industry columns\n",
        "\n",
        "df = pd.concat([df.reset_index(drop=True),df_dummies.reset_index(drop=True)], axis=1)\n",
        "df.head()"
      ],
      "id": "4bca4703-9f76-4b59-bc5e-df0097e44b4a"
    },
    {
      "cell_type": "markdown",
      "metadata": {
        "id": "V5-OBBrV1_rr"
      },
      "source": [
        "Display the first few rows of `df`"
      ],
      "id": "V5-OBBrV1_rr"
    },
    {
      "cell_type": "code",
      "execution_count": null,
      "metadata": {
        "id": "0z6i1DOc1_rs",
        "outputId": "04f90753-a1c8-4d50-f3bd-382ffe152d0e"
      },
      "outputs": [
        {
          "data": {
            "text/html": [
              "<div>\n",
              "<style scoped>\n",
              "    .dataframe tbody tr th:only-of-type {\n",
              "        vertical-align: middle;\n",
              "    }\n",
              "\n",
              "    .dataframe tbody tr th {\n",
              "        vertical-align: top;\n",
              "    }\n",
              "\n",
              "    .dataframe thead th {\n",
              "        text-align: right;\n",
              "    }\n",
              "</style>\n",
              "<table border=\"1\" class=\"dataframe\">\n",
              "  <thead>\n",
              "    <tr style=\"text-align: right;\">\n",
              "      <th></th>\n",
              "      <th>Company</th>\n",
              "      <th>Valuation</th>\n",
              "      <th>Date Joined</th>\n",
              "      <th>Industry</th>\n",
              "      <th>City</th>\n",
              "      <th>Country/Region</th>\n",
              "      <th>Continent</th>\n",
              "      <th>Year Founded</th>\n",
              "      <th>Funding</th>\n",
              "      <th>Select Investors</th>\n",
              "      <th>Year Joined</th>\n",
              "      <th>Years to Unicorn</th>\n",
              "      <th>High Valuation</th>\n",
              "      <th>Continent Number</th>\n",
              "      <th>Country/Region Numeric</th>\n",
              "      <th>Artificial intelligence</th>\n",
              "      <th>Auto &amp; transportation</th>\n",
              "      <th>Consumer &amp; retail</th>\n",
              "      <th>Cybersecurity</th>\n",
              "      <th>Data management &amp; analytics</th>\n",
              "      <th>E-commerce &amp; direct-to-consumer</th>\n",
              "      <th>Edtech</th>\n",
              "      <th>Fintech</th>\n",
              "      <th>Hardware</th>\n",
              "      <th>Health</th>\n",
              "      <th>Internet software &amp; services</th>\n",
              "      <th>Mobile &amp; telecommunications</th>\n",
              "      <th>Other</th>\n",
              "      <th>Supply chain, logistics, &amp; delivery</th>\n",
              "      <th>Travel</th>\n",
              "    </tr>\n",
              "  </thead>\n",
              "  <tbody>\n",
              "    <tr>\n",
              "      <th>0</th>\n",
              "      <td>Bytedance</td>\n",
              "      <td>180</td>\n",
              "      <td>2017-04-07</td>\n",
              "      <td>Artificial intelligence</td>\n",
              "      <td>Beijing</td>\n",
              "      <td>China</td>\n",
              "      <td>Asia</td>\n",
              "      <td>2012</td>\n",
              "      <td>$8B</td>\n",
              "      <td>Sequoia Capital China, SIG Asia Investments, S...</td>\n",
              "      <td>2017</td>\n",
              "      <td>5</td>\n",
              "      <td>high</td>\n",
              "      <td>2</td>\n",
              "      <td>9</td>\n",
              "      <td>1</td>\n",
              "      <td>0</td>\n",
              "      <td>0</td>\n",
              "      <td>0</td>\n",
              "      <td>0</td>\n",
              "      <td>0</td>\n",
              "      <td>0</td>\n",
              "      <td>0</td>\n",
              "      <td>0</td>\n",
              "      <td>0</td>\n",
              "      <td>0</td>\n",
              "      <td>0</td>\n",
              "      <td>0</td>\n",
              "      <td>0</td>\n",
              "      <td>0</td>\n",
              "    </tr>\n",
              "    <tr>\n",
              "      <th>1</th>\n",
              "      <td>SpaceX</td>\n",
              "      <td>100</td>\n",
              "      <td>2012-12-01</td>\n",
              "      <td>Other</td>\n",
              "      <td>Hawthorne</td>\n",
              "      <td>United States</td>\n",
              "      <td>North America</td>\n",
              "      <td>2002</td>\n",
              "      <td>$7B</td>\n",
              "      <td>Founders Fund, Draper Fisher Jurvetson, Rothen...</td>\n",
              "      <td>2012</td>\n",
              "      <td>10</td>\n",
              "      <td>high</td>\n",
              "      <td>1</td>\n",
              "      <td>44</td>\n",
              "      <td>0</td>\n",
              "      <td>0</td>\n",
              "      <td>0</td>\n",
              "      <td>0</td>\n",
              "      <td>0</td>\n",
              "      <td>0</td>\n",
              "      <td>0</td>\n",
              "      <td>0</td>\n",
              "      <td>0</td>\n",
              "      <td>0</td>\n",
              "      <td>0</td>\n",
              "      <td>0</td>\n",
              "      <td>1</td>\n",
              "      <td>0</td>\n",
              "      <td>0</td>\n",
              "    </tr>\n",
              "    <tr>\n",
              "      <th>2</th>\n",
              "      <td>SHEIN</td>\n",
              "      <td>100</td>\n",
              "      <td>2018-07-03</td>\n",
              "      <td>E-commerce &amp; direct-to-consumer</td>\n",
              "      <td>Shenzhen</td>\n",
              "      <td>China</td>\n",
              "      <td>Asia</td>\n",
              "      <td>2008</td>\n",
              "      <td>$2B</td>\n",
              "      <td>Tiger Global Management, Sequoia Capital China...</td>\n",
              "      <td>2018</td>\n",
              "      <td>10</td>\n",
              "      <td>high</td>\n",
              "      <td>2</td>\n",
              "      <td>9</td>\n",
              "      <td>0</td>\n",
              "      <td>0</td>\n",
              "      <td>0</td>\n",
              "      <td>0</td>\n",
              "      <td>0</td>\n",
              "      <td>1</td>\n",
              "      <td>0</td>\n",
              "      <td>0</td>\n",
              "      <td>0</td>\n",
              "      <td>0</td>\n",
              "      <td>0</td>\n",
              "      <td>0</td>\n",
              "      <td>0</td>\n",
              "      <td>0</td>\n",
              "      <td>0</td>\n",
              "    </tr>\n",
              "    <tr>\n",
              "      <th>3</th>\n",
              "      <td>Stripe</td>\n",
              "      <td>95</td>\n",
              "      <td>2014-01-23</td>\n",
              "      <td>Fintech</td>\n",
              "      <td>San Francisco</td>\n",
              "      <td>United States</td>\n",
              "      <td>North America</td>\n",
              "      <td>2010</td>\n",
              "      <td>$2B</td>\n",
              "      <td>Khosla Ventures, LowercaseCapital, capitalG</td>\n",
              "      <td>2014</td>\n",
              "      <td>4</td>\n",
              "      <td>high</td>\n",
              "      <td>1</td>\n",
              "      <td>44</td>\n",
              "      <td>0</td>\n",
              "      <td>0</td>\n",
              "      <td>0</td>\n",
              "      <td>0</td>\n",
              "      <td>0</td>\n",
              "      <td>0</td>\n",
              "      <td>0</td>\n",
              "      <td>1</td>\n",
              "      <td>0</td>\n",
              "      <td>0</td>\n",
              "      <td>0</td>\n",
              "      <td>0</td>\n",
              "      <td>0</td>\n",
              "      <td>0</td>\n",
              "      <td>0</td>\n",
              "    </tr>\n",
              "    <tr>\n",
              "      <th>4</th>\n",
              "      <td>Klarna</td>\n",
              "      <td>46</td>\n",
              "      <td>2011-12-12</td>\n",
              "      <td>Fintech</td>\n",
              "      <td>Stockholm</td>\n",
              "      <td>Sweden</td>\n",
              "      <td>Europe</td>\n",
              "      <td>2005</td>\n",
              "      <td>$4B</td>\n",
              "      <td>Institutional Venture Partners, Sequoia Capita...</td>\n",
              "      <td>2011</td>\n",
              "      <td>6</td>\n",
              "      <td>high</td>\n",
              "      <td>3</td>\n",
              "      <td>38</td>\n",
              "      <td>0</td>\n",
              "      <td>0</td>\n",
              "      <td>0</td>\n",
              "      <td>0</td>\n",
              "      <td>0</td>\n",
              "      <td>0</td>\n",
              "      <td>0</td>\n",
              "      <td>1</td>\n",
              "      <td>0</td>\n",
              "      <td>0</td>\n",
              "      <td>0</td>\n",
              "      <td>0</td>\n",
              "      <td>0</td>\n",
              "      <td>0</td>\n",
              "      <td>0</td>\n",
              "    </tr>\n",
              "  </tbody>\n",
              "</table>\n",
              "</div>"
            ],
            "text/plain": [
              "     Company  Valuation Date Joined                         Industry  \\\n",
              "0  Bytedance        180  2017-04-07          Artificial intelligence   \n",
              "1     SpaceX        100  2012-12-01                            Other   \n",
              "2      SHEIN        100  2018-07-03  E-commerce & direct-to-consumer   \n",
              "3     Stripe         95  2014-01-23                          Fintech   \n",
              "4     Klarna         46  2011-12-12                          Fintech   \n",
              "\n",
              "            City Country/Region      Continent  Year Founded Funding  \\\n",
              "0        Beijing          China           Asia          2012     $8B   \n",
              "1      Hawthorne  United States  North America          2002     $7B   \n",
              "2       Shenzhen          China           Asia          2008     $2B   \n",
              "3  San Francisco  United States  North America          2010     $2B   \n",
              "4      Stockholm         Sweden         Europe          2005     $4B   \n",
              "\n",
              "                                    Select Investors  Year Joined  \\\n",
              "0  Sequoia Capital China, SIG Asia Investments, S...         2017   \n",
              "1  Founders Fund, Draper Fisher Jurvetson, Rothen...         2012   \n",
              "2  Tiger Global Management, Sequoia Capital China...         2018   \n",
              "3        Khosla Ventures, LowercaseCapital, capitalG         2014   \n",
              "4  Institutional Venture Partners, Sequoia Capita...         2011   \n",
              "\n",
              "   Years to Unicorn High Valuation  Continent Number  Country/Region Numeric  \\\n",
              "0                 5           high                 2                       9   \n",
              "1                10           high                 1                      44   \n",
              "2                10           high                 2                       9   \n",
              "3                 4           high                 1                      44   \n",
              "4                 6           high                 3                      38   \n",
              "\n",
              "   Artificial intelligence  Auto & transportation  Consumer & retail  \\\n",
              "0                        1                      0                  0   \n",
              "1                        0                      0                  0   \n",
              "2                        0                      0                  0   \n",
              "3                        0                      0                  0   \n",
              "4                        0                      0                  0   \n",
              "\n",
              "   Cybersecurity  Data management & analytics  \\\n",
              "0              0                            0   \n",
              "1              0                            0   \n",
              "2              0                            0   \n",
              "3              0                            0   \n",
              "4              0                            0   \n",
              "\n",
              "   E-commerce & direct-to-consumer  Edtech  Fintech  Hardware  Health  \\\n",
              "0                                0       0        0         0       0   \n",
              "1                                0       0        0         0       0   \n",
              "2                                1       0        0         0       0   \n",
              "3                                0       0        1         0       0   \n",
              "4                                0       0        1         0       0   \n",
              "\n",
              "   Internet software & services  Mobile & telecommunications  Other  \\\n",
              "0                             0                            0      0   \n",
              "1                             0                            0      1   \n",
              "2                             0                            0      0   \n",
              "3                             0                            0      0   \n",
              "4                             0                            0      0   \n",
              "\n",
              "   Supply chain, logistics, & delivery  Travel  \n",
              "0                                    0       0  \n",
              "1                                    0       0  \n",
              "2                                    0       0  \n",
              "3                                    0       0  \n",
              "4                                    0       0  "
            ]
          },
          "execution_count": 34,
          "metadata": {},
          "output_type": "execute_result"
        }
      ],
      "source": [
        "df.head()"
      ],
      "id": "0z6i1DOc1_rs"
    },
    {
      "cell_type": "markdown",
      "metadata": {
        "id": "adc26824-609c-4a9b-a5d7-c3abfb5258e1"
      },
      "source": [
        "<details>\n",
        "  <summary><h4><strong>Hint 1</strong></h4></summary>\n",
        "\n",
        "Consider using `pd.get_dummies` on the specified column.\n",
        "    \n",
        "</details>"
      ],
      "id": "adc26824-609c-4a9b-a5d7-c3abfb5258e1"
    },
    {
      "cell_type": "markdown",
      "metadata": {
        "id": "5f2bf2c6-fc4b-4d5f-b985-dd8fe5a7d87d"
      },
      "source": [
        "<details>\n",
        "  <summary><h4><strong>Hint 2</strong></h4></summary>\n",
        "\n",
        "When you call `pd.get_dummies()` on a specified series, it will return a dataframe consisting of each possible category contained in the series represented as its own binary column. You'll then have to combine this new dataframe of binary columns with the existing `companies` dataframe.\n",
        "    \n",
        "</details>"
      ],
      "id": "5f2bf2c6-fc4b-4d5f-b985-dd8fe5a7d87d"
    },
    {
      "cell_type": "markdown",
      "metadata": {
        "id": "fa14d383-ff64-4249-b51b-8026618a4571"
      },
      "source": [
        "<details>\n",
        "  <summary><h4><strong>Hint 3</strong></h4></summary>\n",
        "\n",
        "You can use `pd.concat([col_a, col_b])` to combine the two dataframes. Remember to specify the correct axis of concatenation and to reassign the result back to the `companies` dataframe.\n",
        "    \n",
        "</details>"
      ],
      "id": "fa14d383-ff64-4249-b51b-8026618a4571"
    },
    {
      "cell_type": "markdown",
      "metadata": {
        "id": "f7edb136-45f0-4ff1-84d7-ff6bcc29dd43"
      },
      "source": [
        "**Question: Which categorical encoding approach did you use for each variable? Why?**"
      ],
      "id": "f7edb136-45f0-4ff1-84d7-ff6bcc29dd43"
    },
    {
      "cell_type": "markdown",
      "metadata": {
        "id": "qNl-29W8ejOX"
      },
      "source": [
        "* For the Continent variable, I used label encoding, because I needed to give more weight for the continents with fewer unicorn companies.\n",
        "* For the Country/Region variable, I also used label encoding, because the order doesn't matter here, and we have a lot of countries/regions to use dummy. It would increase the dataset a lot.\n",
        "* For the Industry variable, I used dummy encoding, because the order doesn't matter, and the dummies columns could have a lot of potential in a prediction model."
      ],
      "id": "qNl-29W8ejOX"
    },
    {
      "cell_type": "markdown",
      "metadata": {
        "id": "7NZyAvYw1_rs"
      },
      "source": [
        "**Question: How does label encoding change the data?**\n"
      ],
      "id": "7NZyAvYw1_rs"
    },
    {
      "cell_type": "markdown",
      "metadata": {
        "id": "lchX4mPt1_rs"
      },
      "source": [
        "It turns the categorical values into ordinal/nominal numeric values."
      ],
      "id": "lchX4mPt1_rs"
    },
    {
      "cell_type": "markdown",
      "metadata": {
        "id": "bYBRP5s51_rs"
      },
      "source": [
        "**Question: What are the benefits of label encoding?**\n"
      ],
      "id": "bYBRP5s51_rs"
    },
    {
      "cell_type": "markdown",
      "metadata": {
        "id": "0gJ6a8zV1_rs"
      },
      "source": [
        "It's very useful for machine learning models because they require all data to be numeric."
      ],
      "id": "0gJ6a8zV1_rs"
    },
    {
      "cell_type": "markdown",
      "metadata": {
        "id": "QUHqPfq31_rs"
      },
      "source": [
        "**Question: What are the disadvantages of label encoding?**\n"
      ],
      "id": "QUHqPfq31_rs"
    },
    {
      "cell_type": "markdown",
      "metadata": {
        "id": "xPATOB0L1_rs"
      },
      "source": [
        "It may introduce nonreal relationships and maybe can be more difficult to interpret."
      ],
      "id": "xPATOB0L1_rs"
    },
    {
      "cell_type": "markdown",
      "metadata": {
        "id": "c38f5e8d-89fa-4eaf-acd3-4841583e427c",
        "tags": []
      },
      "source": [
        "## Conclusion\n",
        "\n",
        "**What are some key takeaways that you learned during this lab?**"
      ],
      "id": "c38f5e8d-89fa-4eaf-acd3-4841583e427c"
    },
    {
      "cell_type": "markdown",
      "metadata": {
        "id": "d76dqPV31_rs"
      },
      "source": [
        "Clean the data and conducting the input validation are essential steps in the data analytics process because it give us more security assuring that the data is complete, error-free, and of high-quality, and also avoid future problems with analysis and predictions in the future."
      ],
      "id": "d76dqPV31_rs"
    },
    {
      "cell_type": "markdown",
      "metadata": {
        "id": "R9sAADZgr-YI"
      },
      "source": [
        "**Reference**\n",
        "\n",
        "[Bhat, M.A. *Unicorn Companies*](https://www.kaggle.com/datasets/mysarahmadbhat/unicorn-companies)\n",
        "\n"
      ],
      "id": "R9sAADZgr-YI"
    },
    {
      "cell_type": "markdown",
      "metadata": {
        "id": "tZLLIFNH1_rt"
      },
      "source": [
        "**Congratulations!** You've completed this lab. However, you may not notice a green check mark next to this item on Coursera's platform. Please continue your progress regardless of the check mark. Just click on the \"save\" icon at the top of this notebook to ensure your work has been logged."
      ],
      "id": "tZLLIFNH1_rt"
    }
  ],
  "metadata": {
    "colab": {
      "provenance": [],
      "include_colab_link": true
    },
    "kernelspec": {
      "display_name": "Python 3",
      "language": "python",
      "name": "python3"
    },
    "language_info": {
      "codemirror_mode": {
        "name": "ipython",
        "version": 3
      },
      "file_extension": ".py",
      "mimetype": "text/x-python",
      "name": "python",
      "nbconvert_exporter": "python",
      "pygments_lexer": "ipython3",
      "version": "3.7.6"
    },
    "toc-autonumbering": false,
    "toc-showtags": false
  },
  "nbformat": 4,
  "nbformat_minor": 5
}