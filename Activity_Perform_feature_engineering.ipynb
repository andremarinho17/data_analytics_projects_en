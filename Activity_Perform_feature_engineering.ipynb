{
  "cells": [
    {
      "cell_type": "markdown",
      "metadata": {
        "id": "view-in-github",
        "colab_type": "text"
      },
      "source": [
        "<a href=\"https://colab.research.google.com/github/andremarinho17/data_analytics_projects_en/blob/main/Activity_Perform_feature_engineering.ipynb\" target=\"_parent\"><img src=\"https://colab.research.google.com/assets/colab-badge.svg\" alt=\"Open In Colab\"/></a>"
      ]
    },
    {
      "cell_type": "markdown",
      "metadata": {
        "id": "yugMU9MjJtBl"
      },
      "source": [
        "# Activity: Perform feature engineering to to determine which features will most effectively predict the NBA players career duration\n",
        "\n",
        "<p align=\"center\"><img src=\"https://wallpapercat.com/w/full/4/c/5/921784-1920x1200-desktop-hd-nba-wallpaper-image.jpg\" >\n",
        "\n",
        "Art: Wallpapercat.com"
      ]
    },
    {
      "cell_type": "markdown",
      "metadata": {
        "id": "EzWqJunmJotv"
      },
      "source": [
        "### Author: André Marinho\n",
        "\n",
        "## **Introduction**\n",
        "\n",
        "\n",
        "As you're learning, data professionals working on modeling projects use featuring engineering to help them determine which attributes in the data can best predict certain measures.\n",
        "\n",
        "In this activity, you are working for a firm that provides insights to the National Basketball Association (NBA), a professional North American basketball league. You will help NBA managers and coaches identify which players are most likely to thrive in the high-pressure environment of professional basketball and help the team be successful over time.\n",
        "\n",
        "To do this, you will analyze a subset of data that contains information about NBA players and their performance records. You will conduct feature engineering to determine which features will most effectively predict whether a player's NBA career will last at least five years. The insights gained then will be used in the next stage of the project: building the predictive model.\n"
      ]
    },
    {
      "cell_type": "markdown",
      "metadata": {
        "id": "yTVinL1hJqoy"
      },
      "source": [
        "## **Step 1: Imports**\n"
      ]
    },
    {
      "cell_type": "markdown",
      "metadata": {
        "id": "2nWsweBcER70"
      },
      "source": [
        "Start by importing `pandas`."
      ]
    },
    {
      "cell_type": "code",
      "execution_count": null,
      "metadata": {
        "id": "1nDjAJPa4lVZ"
      },
      "outputs": [],
      "source": [
        "# Import pandas.\n",
        "\n",
        "import pandas as pd"
      ]
    },
    {
      "cell_type": "markdown",
      "metadata": {
        "id": "hKylHziGzY3X"
      },
      "source": [
        "The dataset is a .csv file named `nba-players.csv`. It consists of performance records for a subset of NBA players. As shown in this cell, the dataset has been automatically loaded in for you. You do not need to download the .csv file, or provide more code, in order to access the dataset and proceed with this lab. Please continue with this activity by completing the following instructions."
      ]
    },
    {
      "cell_type": "code",
      "execution_count": null,
      "metadata": {
        "id": "4ebqpNcm4BDH"
      },
      "outputs": [],
      "source": [
        "# RUN THIS CELL TO IMPORT YOUR DATA.\n",
        "\n",
        "# Save in a variable named `data`.\n",
        "\n",
        "### YOUR CODE HERE ###\n",
        "\n",
        "df = pd.read_csv(\"nba-players.csv\", index_col=0)"
      ]
    },
    {
      "cell_type": "markdown",
      "metadata": {
        "id": "L41MRy4Yzrjp"
      },
      "source": [
        "<details><summary><h4><strong>Hint 1</strong></h4></summary>\n",
        "\n",
        "The `read_csv()` function from `pandas` allows you to read in data from a csv file and load it into a DataFrame.\n",
        "    \n",
        "</details>"
      ]
    },
    {
      "cell_type": "markdown",
      "metadata": {
        "id": "tZeUaTZQqCEH"
      },
      "source": [
        "<details><summary><h4><strong>Hint 2</strong></h4></summary>\n",
        "\n",
        "Call the `read_csv()`, pass in the name of the csv file as a string, followed by `index_col=0` to use the first column from the csv as the index in the DataFrame.\n",
        "    \n",
        "</details>"
      ]
    },
    {
      "cell_type": "markdown",
      "metadata": {
        "id": "4zz8claq0Swi"
      },
      "source": [
        "## **Step 2: Data exploration**"
      ]
    },
    {
      "cell_type": "markdown",
      "metadata": {
        "id": "8kgPx_MP0cuc"
      },
      "source": [
        "Display the first 10 rows of the data to get a sense of what it entails."
      ]
    },
    {
      "cell_type": "code",
      "execution_count": null,
      "metadata": {
        "id": "0_U0Rb-x4h77",
        "outputId": "1cecb5a1-a1dc-4dd7-939f-a253b83b1b93"
      },
      "outputs": [
        {
          "data": {
            "text/html": [
              "<div>\n",
              "<style scoped>\n",
              "    .dataframe tbody tr th:only-of-type {\n",
              "        vertical-align: middle;\n",
              "    }\n",
              "\n",
              "    .dataframe tbody tr th {\n",
              "        vertical-align: top;\n",
              "    }\n",
              "\n",
              "    .dataframe thead th {\n",
              "        text-align: right;\n",
              "    }\n",
              "</style>\n",
              "<table border=\"1\" class=\"dataframe\">\n",
              "  <thead>\n",
              "    <tr style=\"text-align: right;\">\n",
              "      <th></th>\n",
              "      <th>name</th>\n",
              "      <th>gp</th>\n",
              "      <th>min</th>\n",
              "      <th>pts</th>\n",
              "      <th>fgm</th>\n",
              "      <th>fga</th>\n",
              "      <th>fg</th>\n",
              "      <th>3p_made</th>\n",
              "      <th>3pa</th>\n",
              "      <th>3p</th>\n",
              "      <th>...</th>\n",
              "      <th>fta</th>\n",
              "      <th>ft</th>\n",
              "      <th>oreb</th>\n",
              "      <th>dreb</th>\n",
              "      <th>reb</th>\n",
              "      <th>ast</th>\n",
              "      <th>stl</th>\n",
              "      <th>blk</th>\n",
              "      <th>tov</th>\n",
              "      <th>target_5yrs</th>\n",
              "    </tr>\n",
              "  </thead>\n",
              "  <tbody>\n",
              "    <tr>\n",
              "      <th>0</th>\n",
              "      <td>Brandon Ingram</td>\n",
              "      <td>36</td>\n",
              "      <td>27.4</td>\n",
              "      <td>7.4</td>\n",
              "      <td>2.6</td>\n",
              "      <td>7.6</td>\n",
              "      <td>34.7</td>\n",
              "      <td>0.5</td>\n",
              "      <td>2.1</td>\n",
              "      <td>25.0</td>\n",
              "      <td>...</td>\n",
              "      <td>2.3</td>\n",
              "      <td>69.9</td>\n",
              "      <td>0.7</td>\n",
              "      <td>3.4</td>\n",
              "      <td>4.1</td>\n",
              "      <td>1.9</td>\n",
              "      <td>0.4</td>\n",
              "      <td>0.4</td>\n",
              "      <td>1.3</td>\n",
              "      <td>0</td>\n",
              "    </tr>\n",
              "    <tr>\n",
              "      <th>1</th>\n",
              "      <td>Andrew Harrison</td>\n",
              "      <td>35</td>\n",
              "      <td>26.9</td>\n",
              "      <td>7.2</td>\n",
              "      <td>2.0</td>\n",
              "      <td>6.7</td>\n",
              "      <td>29.6</td>\n",
              "      <td>0.7</td>\n",
              "      <td>2.8</td>\n",
              "      <td>23.5</td>\n",
              "      <td>...</td>\n",
              "      <td>3.4</td>\n",
              "      <td>76.5</td>\n",
              "      <td>0.5</td>\n",
              "      <td>2.0</td>\n",
              "      <td>2.4</td>\n",
              "      <td>3.7</td>\n",
              "      <td>1.1</td>\n",
              "      <td>0.5</td>\n",
              "      <td>1.6</td>\n",
              "      <td>0</td>\n",
              "    </tr>\n",
              "    <tr>\n",
              "      <th>2</th>\n",
              "      <td>JaKarr Sampson</td>\n",
              "      <td>74</td>\n",
              "      <td>15.3</td>\n",
              "      <td>5.2</td>\n",
              "      <td>2.0</td>\n",
              "      <td>4.7</td>\n",
              "      <td>42.2</td>\n",
              "      <td>0.4</td>\n",
              "      <td>1.7</td>\n",
              "      <td>24.4</td>\n",
              "      <td>...</td>\n",
              "      <td>1.3</td>\n",
              "      <td>67.0</td>\n",
              "      <td>0.5</td>\n",
              "      <td>1.7</td>\n",
              "      <td>2.2</td>\n",
              "      <td>1.0</td>\n",
              "      <td>0.5</td>\n",
              "      <td>0.3</td>\n",
              "      <td>1.0</td>\n",
              "      <td>0</td>\n",
              "    </tr>\n",
              "    <tr>\n",
              "      <th>3</th>\n",
              "      <td>Malik Sealy</td>\n",
              "      <td>58</td>\n",
              "      <td>11.6</td>\n",
              "      <td>5.7</td>\n",
              "      <td>2.3</td>\n",
              "      <td>5.5</td>\n",
              "      <td>42.6</td>\n",
              "      <td>0.1</td>\n",
              "      <td>0.5</td>\n",
              "      <td>22.6</td>\n",
              "      <td>...</td>\n",
              "      <td>1.3</td>\n",
              "      <td>68.9</td>\n",
              "      <td>1.0</td>\n",
              "      <td>0.9</td>\n",
              "      <td>1.9</td>\n",
              "      <td>0.8</td>\n",
              "      <td>0.6</td>\n",
              "      <td>0.1</td>\n",
              "      <td>1.0</td>\n",
              "      <td>1</td>\n",
              "    </tr>\n",
              "    <tr>\n",
              "      <th>4</th>\n",
              "      <td>Matt Geiger</td>\n",
              "      <td>48</td>\n",
              "      <td>11.5</td>\n",
              "      <td>4.5</td>\n",
              "      <td>1.6</td>\n",
              "      <td>3.0</td>\n",
              "      <td>52.4</td>\n",
              "      <td>0.0</td>\n",
              "      <td>0.1</td>\n",
              "      <td>0.0</td>\n",
              "      <td>...</td>\n",
              "      <td>1.9</td>\n",
              "      <td>67.4</td>\n",
              "      <td>1.0</td>\n",
              "      <td>1.5</td>\n",
              "      <td>2.5</td>\n",
              "      <td>0.3</td>\n",
              "      <td>0.3</td>\n",
              "      <td>0.4</td>\n",
              "      <td>0.8</td>\n",
              "      <td>1</td>\n",
              "    </tr>\n",
              "  </tbody>\n",
              "</table>\n",
              "<p>5 rows × 21 columns</p>\n",
              "</div>"
            ],
            "text/plain": [
              "              name  gp   min  pts  fgm  fga    fg  3p_made  3pa    3p  ...  \\\n",
              "0   Brandon Ingram  36  27.4  7.4  2.6  7.6  34.7      0.5  2.1  25.0  ...   \n",
              "1  Andrew Harrison  35  26.9  7.2  2.0  6.7  29.6      0.7  2.8  23.5  ...   \n",
              "2   JaKarr Sampson  74  15.3  5.2  2.0  4.7  42.2      0.4  1.7  24.4  ...   \n",
              "3      Malik Sealy  58  11.6  5.7  2.3  5.5  42.6      0.1  0.5  22.6  ...   \n",
              "4      Matt Geiger  48  11.5  4.5  1.6  3.0  52.4      0.0  0.1   0.0  ...   \n",
              "\n",
              "   fta    ft  oreb  dreb  reb  ast  stl  blk  tov  target_5yrs  \n",
              "0  2.3  69.9   0.7   3.4  4.1  1.9  0.4  0.4  1.3            0  \n",
              "1  3.4  76.5   0.5   2.0  2.4  3.7  1.1  0.5  1.6            0  \n",
              "2  1.3  67.0   0.5   1.7  2.2  1.0  0.5  0.3  1.0            0  \n",
              "3  1.3  68.9   1.0   0.9  1.9  0.8  0.6  0.1  1.0            1  \n",
              "4  1.9  67.4   1.0   1.5  2.5  0.3  0.3  0.4  0.8            1  \n",
              "\n",
              "[5 rows x 21 columns]"
            ]
          },
          "execution_count": 6,
          "metadata": {},
          "output_type": "execute_result"
        }
      ],
      "source": [
        "# Display first 10 rows of data.\n",
        "\n",
        "df.head()"
      ]
    },
    {
      "cell_type": "markdown",
      "metadata": {
        "id": "pUmzKZUU2mKp"
      },
      "source": [
        "<details>\n",
        "<summary><h4><strong>Hint 1</strong></h4></summary>\n",
        "\n",
        "There is a function in the `pandas` library that can be called on a DataFrame to display the first n number of rows, where n is a number of your choice.\n",
        "</details>"
      ]
    },
    {
      "cell_type": "markdown",
      "metadata": {
        "id": "ORy1MNR62mKq"
      },
      "source": [
        "<details>\n",
        "<summary><h4><strong>Hint 2</strong></h4></summary>\n",
        "\n",
        "Call the `head()` function and pass in 10.\n",
        "</details>"
      ]
    },
    {
      "cell_type": "markdown",
      "metadata": {
        "id": "Gjasizab0tSL"
      },
      "source": [
        "Display the number of rows and the number of columns to get a sense of how much data is available to you."
      ]
    },
    {
      "cell_type": "code",
      "execution_count": null,
      "metadata": {
        "id": "xtxpSjCm4jCa",
        "outputId": "2db4b5ab-4d52-41c3-f643-7d837a6c6a2c"
      },
      "outputs": [
        {
          "data": {
            "text/plain": [
              "(1340, 21)"
            ]
          },
          "execution_count": 7,
          "metadata": {},
          "output_type": "execute_result"
        }
      ],
      "source": [
        "# Display number of rows, number of columns.\n",
        "\n",
        "df.shape"
      ]
    },
    {
      "cell_type": "markdown",
      "metadata": {
        "id": "dx8DO1Rw2ZBZ"
      },
      "source": [
        "<details>\n",
        "<summary><h4><strong>Hint 1</strong></h4></summary>\n",
        "\n",
        "DataFrames in `pandas` have an attribute that can be called to get the number of rows and columns as a tuple.\n",
        "</details>"
      ]
    },
    {
      "cell_type": "markdown",
      "metadata": {
        "id": "G9pDSxlG2di1"
      },
      "source": [
        "<details>\n",
        "<summary><h4><strong>Hint 2</strong></h4></summary>\n",
        "\n",
        "You can call the `shape` attribute.\n",
        "</details>"
      ]
    },
    {
      "cell_type": "markdown",
      "metadata": {
        "id": "zZndsnPq1UyL"
      },
      "source": [
        "**Question:** What do you observe about the number of rows and the number of columns in the data?"
      ]
    },
    {
      "cell_type": "markdown",
      "metadata": {
        "id": "PyElw2KWziLs"
      },
      "source": [
        "The dataset is composed of 21 columns and 1340 rows."
      ]
    },
    {
      "cell_type": "markdown",
      "metadata": {
        "id": "27OsOXsfVPC7"
      },
      "source": [
        "Now, display all column names to get a sense of the kinds of metadata available about each player. Use the columns property in pandas.\n"
      ]
    },
    {
      "cell_type": "code",
      "execution_count": null,
      "metadata": {
        "id": "3q9zjB-s1SZt",
        "outputId": "7227607f-4d5c-4e13-d563-9479fd60f4b4"
      },
      "outputs": [
        {
          "data": {
            "text/plain": [
              "Index(['name', 'gp', 'min', 'pts', 'fgm', 'fga', 'fg', '3p_made', '3pa', '3p',\n",
              "       'ftm', 'fta', 'ft', 'oreb', 'dreb', 'reb', 'ast', 'stl', 'blk', 'tov',\n",
              "       'target_5yrs'],\n",
              "      dtype='object')"
            ]
          },
          "execution_count": 10,
          "metadata": {},
          "output_type": "execute_result"
        }
      ],
      "source": [
        "# Display all column names.\n",
        "\n",
        "df.columns"
      ]
    },
    {
      "cell_type": "markdown",
      "metadata": {
        "id": "bxS9GyWmjwa-"
      },
      "source": [
        "The following table provides a description of the data in each column. This metadata comes from the data source, which is listed in the references section of this lab.\n",
        "\n",
        "<center>\n",
        "\n",
        "|Column Name|Column Description|\n",
        "|:---|:-------|\n",
        "|`name`|Name of NBA player|\n",
        "|`gp`|Number of games played|\n",
        "|`min`|Number of minutes played per game|\n",
        "|`pts`|Average number of points per game|\n",
        "|`fgm`|Average number of field goals made per game|\n",
        "|`fga`|Average number of field goal attempts per game|\n",
        "|`fg`|Average percent of field goals made per game|\n",
        "|`3p_made`|Average number of three-point field goals made per game|\n",
        "|`3pa`|Average number of three-point field goal attempts per game|\n",
        "|`3p`|Average percent of three-point field goals made per game|\n",
        "|`ftm`|Average number of free throws made per game|\n",
        "|`fta`|Average number of free throw attempts per game|\n",
        "|`ft`|Average percent of free throws made per game|\n",
        "|`oreb`|Average number of offensive rebounds per game|\n",
        "|`dreb`|Average number of defensive rebounds per game|\n",
        "|`reb`|Average number of rebounds per game|\n",
        "|`ast`|Average number of assists per game|\n",
        "|`stl`|Average number of steals per game|\n",
        "|`blk`|Average number of blocks per game|\n",
        "|`tov`|Average number of turnovers per game|\n",
        "|`target_5yrs`|1 if career duration >= 5 yrs, 0 otherwise|\n",
        "\n",
        "</center>"
      ]
    },
    {
      "cell_type": "markdown",
      "metadata": {
        "id": "HvomDnvFq4DW"
      },
      "source": [
        "Next, display a summary of the data to get additional information about the DataFrame, including the types of data in the columns."
      ]
    },
    {
      "cell_type": "code",
      "execution_count": null,
      "metadata": {
        "id": "28h2TzH-o8NQ",
        "outputId": "6d0fd422-33ed-495a-9a57-095edb600828"
      },
      "outputs": [
        {
          "name": "stdout",
          "output_type": "stream",
          "text": [
            "<class 'pandas.core.frame.DataFrame'>\n",
            "Int64Index: 1340 entries, 0 to 1339\n",
            "Data columns (total 21 columns):\n",
            " #   Column       Non-Null Count  Dtype  \n",
            "---  ------       --------------  -----  \n",
            " 0   name         1340 non-null   object \n",
            " 1   gp           1340 non-null   int64  \n",
            " 2   min          1340 non-null   float64\n",
            " 3   pts          1340 non-null   float64\n",
            " 4   fgm          1340 non-null   float64\n",
            " 5   fga          1340 non-null   float64\n",
            " 6   fg           1340 non-null   float64\n",
            " 7   3p_made      1340 non-null   float64\n",
            " 8   3pa          1340 non-null   float64\n",
            " 9   3p           1340 non-null   float64\n",
            " 10  ftm          1340 non-null   float64\n",
            " 11  fta          1340 non-null   float64\n",
            " 12  ft           1340 non-null   float64\n",
            " 13  oreb         1340 non-null   float64\n",
            " 14  dreb         1340 non-null   float64\n",
            " 15  reb          1340 non-null   float64\n",
            " 16  ast          1340 non-null   float64\n",
            " 17  stl          1340 non-null   float64\n",
            " 18  blk          1340 non-null   float64\n",
            " 19  tov          1340 non-null   float64\n",
            " 20  target_5yrs  1340 non-null   int64  \n",
            "dtypes: float64(18), int64(2), object(1)\n",
            "memory usage: 230.3+ KB\n"
          ]
        }
      ],
      "source": [
        "# Use .info() to display a summary of the DataFrame.\n",
        "\n",
        "df.info()"
      ]
    },
    {
      "cell_type": "markdown",
      "metadata": {
        "id": "0ajEYod6B7QJ"
      },
      "source": [
        "**Question:** Based on the preceding tables, which columns are numerical and which columns are categorical?"
      ]
    },
    {
      "cell_type": "markdown",
      "metadata": {
        "id": "5a-RfDKYzjN1"
      },
      "source": [
        "The only categorial column is the `name` column. The other ones are numerical."
      ]
    },
    {
      "cell_type": "markdown",
      "metadata": {
        "id": "VtL_ZDZC1xgF"
      },
      "source": [
        "### Check for missing values"
      ]
    },
    {
      "cell_type": "markdown",
      "metadata": {
        "id": "gFZy0IEpER75"
      },
      "source": [
        "Now, review the data to determine whether it contains any missing values. Begin by displaying the number of missing values in each column. After that, use isna() to check whether each value in the data is missing. Finally, use sum() to aggregate the number of missing values per column.\n"
      ]
    },
    {
      "cell_type": "code",
      "execution_count": null,
      "metadata": {
        "id": "_EGgJ5k92KX_",
        "outputId": "0bff6502-c9a4-4918-faa5-a0328855453c"
      },
      "outputs": [
        {
          "data": {
            "text/plain": [
              "name           0\n",
              "gp             0\n",
              "min            0\n",
              "pts            0\n",
              "fgm            0\n",
              "fga            0\n",
              "fg             0\n",
              "3p_made        0\n",
              "3pa            0\n",
              "3p             0\n",
              "ftm            0\n",
              "fta            0\n",
              "ft             0\n",
              "oreb           0\n",
              "dreb           0\n",
              "reb            0\n",
              "ast            0\n",
              "stl            0\n",
              "blk            0\n",
              "tov            0\n",
              "target_5yrs    0\n",
              "dtype: int64"
            ]
          },
          "execution_count": 12,
          "metadata": {},
          "output_type": "execute_result"
        }
      ],
      "source": [
        "# Display the number of missing values in each column.\n",
        "# Check whether each value is missing.\n",
        "#Aggregate the number of missing values per column.\n",
        "\n",
        "df.isna().sum()"
      ]
    },
    {
      "cell_type": "markdown",
      "metadata": {
        "id": "qcLj6oPd2FVQ"
      },
      "source": [
        "**Question:** What do you observe about the missing values in the columns?"
      ]
    },
    {
      "cell_type": "markdown",
      "metadata": {
        "id": "MGjdyuaczjmX"
      },
      "source": [
        "There aren't missing values in the whole dataset."
      ]
    },
    {
      "cell_type": "markdown",
      "metadata": {
        "id": "K2ehZVSQER75"
      },
      "source": [
        "**Question:** Why is it important to check for missing values?"
      ]
    },
    {
      "cell_type": "markdown",
      "metadata": {
        "id": "hq9dFFdaER75"
      },
      "source": [
        "Checking missing values is important because some advanced models don't perform well when they are present."
      ]
    },
    {
      "cell_type": "markdown",
      "metadata": {
        "id": "MY0rAjlZAheh"
      },
      "source": [
        "## **Step 3: Statistical tests**\n",
        "\n"
      ]
    },
    {
      "cell_type": "markdown",
      "metadata": {
        "id": "v6VpTiBeGvyO"
      },
      "source": [
        "Next, use a statistical technique to check the class balance in the data. To understand how balanced the dataset is in terms of class, display the percentage of values that belong to each class in the target column. In this context, class 1 indicates an NBA career duration of at least five years, while class 0 indicates an NBA career duration of less than five years."
      ]
    },
    {
      "cell_type": "code",
      "execution_count": null,
      "metadata": {
        "id": "gUEgzQW_6oMV",
        "outputId": "4f3440cf-638a-44de-9554-e600d3e6ce26"
      },
      "outputs": [
        {
          "data": {
            "text/plain": [
              "1    62.014925\n",
              "0    37.985075\n",
              "Name: target_5yrs, dtype: float64"
            ]
          },
          "execution_count": 15,
          "metadata": {},
          "output_type": "execute_result"
        }
      ],
      "source": [
        "# Display percentage (%) of values for each class (1, 0) represented in the target column of this dataset.\n",
        "\n",
        "df['target_5yrs'].value_counts(normalize=True) * 100"
      ]
    },
    {
      "cell_type": "markdown",
      "metadata": {
        "id": "N4ITIR9Jlpbr"
      },
      "source": [
        "<details>\n",
        "<summary><h4><strong>Hint 1</strong></h4></summary>\n",
        "\n",
        "In `pandas`, `value_counts(normalize=True)` can be used to calculate the frequency of each distinct value in a specific column of a DataFrame.  \n",
        "</details>"
      ]
    },
    {
      "cell_type": "markdown",
      "metadata": {
        "id": "2xHH7INqlpbt"
      },
      "source": [
        "<details>\n",
        "<summary><h4><strong>Hint 2</strong></h4></summary>\n",
        "\n",
        "After `value_counts(normalize=True)`, multipling by `100` converts the frequencies into percentages (%).\n",
        "</details>"
      ]
    },
    {
      "cell_type": "markdown",
      "metadata": {
        "id": "uMcdNVQW8K2D"
      },
      "source": [
        "**Question:** What do you observe about the class balance in the target column?"
      ]
    },
    {
      "cell_type": "markdown",
      "metadata": {
        "id": "eDXjxG94zkZO"
      },
      "source": [
        "Approximately 62% of NBA athletes have a career duration of at least 5 years, while 38% don't. The data is imbalanced, but given the size of the dataset and the number of values of the majority class, it's not too imbalanced (62-38)."
      ]
    },
    {
      "cell_type": "markdown",
      "metadata": {
        "id": "4WTuynsNER76"
      },
      "source": [
        "**Question:** Why is it important to check class balance?"
      ]
    },
    {
      "cell_type": "markdown",
      "metadata": {
        "id": "Hq5mwx2gER77"
      },
      "source": [
        "The class balance check is important because so many models don't perform well with imbalanced datasets, so it's important to handle it by applying some sampling techniques (upsampling/downsampling) in order to make the data balanced and well-prepared for the execution of advanced machine learning models."
      ]
    },
    {
      "cell_type": "markdown",
      "metadata": {
        "id": "qgV_6xAQAvgg"
      },
      "source": [
        "## **Step 4: Results and evaluation**\n",
        "\n",
        "\n",
        "Now, perform feature engineering, with the goal of identifying and creating features that will serve as useful predictors for the target variable, `target_5yrs`."
      ]
    },
    {
      "cell_type": "markdown",
      "metadata": {
        "id": "r-UHtsTnA5kE"
      },
      "source": [
        "### Feature selection"
      ]
    },
    {
      "cell_type": "markdown",
      "metadata": {
        "id": "atQDf16fK4in"
      },
      "source": [
        "The following table contains descriptions of the data in each column:\n",
        "\n",
        "<center>\n",
        "\n",
        "|Column Name|Column Description|\n",
        "|:---|:-------|\n",
        "|`name`|Name of NBA player|\n",
        "|`gp`|Number of games played|\n",
        "|`min`|Number of minutes played|\n",
        "|`pts`|Average number of points per game|\n",
        "|`fgm`|Average number of field goals made per game|\n",
        "|`fga`|Average number of field goal attempts per game|\n",
        "|`fg`|Average percent of field goals made per game|\n",
        "|`3p_made`|Average number of three-point field goals made per game|\n",
        "|`3pa`|Average number of three-point field goal attempts per game|\n",
        "|`3p`|Average percent of three-point field goals made per game|\n",
        "|`ftm`|Average number of free throws made per game|\n",
        "|`fta`|Average number of free throw attempts per game|\n",
        "|`ft`|Average percent of free throws made per game|\n",
        "|`oreb`|Average number of offensive rebounds per game|\n",
        "|`dreb`|Average number of defensive rebounds per game|\n",
        "|`reb`|Average number of rebounds per game|\n",
        "|`ast`|Average number of assists per game|\n",
        "|`stl`|Average number of steals per game|\n",
        "|`blk`|Average number of blocks per game|\n",
        "|`tov`|Average number of turnovers per game|\n",
        "|`target_5yrs`|1 if career duration >= 5 yrs, 0 otherwise|\n",
        "\n",
        "</center>"
      ]
    },
    {
      "cell_type": "markdown",
      "metadata": {
        "id": "uyUtq03NKe69"
      },
      "source": [
        "**Question:** Which columns would you select and avoid selecting as features, and why? Keep in mind the goal is to identify features that will serve as useful predictors for the target variable, `target_5yrs`."
      ]
    },
    {
      "cell_type": "markdown",
      "metadata": {
        "id": "Lsur6i-azlnT"
      },
      "source": [
        "* The name of the player is not useful for the model. Furthermore, there are some variables that already cover other ones, such as the percentage variables. For instance, the `fg`column, which represents the average percent of field goals made per game, is the division of the `fga` column by the `fgm` column, so these two columns wouldn't be necessary as features. The same applies to the `3p` and `ft` columns.\n",
        "* The `reb` column represents the overall of both offensive and defensive rebounds, so only the `reb` column will be used as a feature.\n",
        "* The other columns (`ast`, `stl`, `blk`, and `tov`) are important features.\n",
        "* The `gp`, `min`, and `pts` columns will be kept as features because they can be used for feature extraction. For instance, the number of minutes played across games (`min` * `gp`) and the total points (`gp` * `pts`)."
      ]
    },
    {
      "cell_type": "markdown",
      "metadata": {
        "id": "f0EgC-r_X_gk"
      },
      "source": [
        "Next, select the columns you want to proceed with. Make sure to include the target column, `target_5yrs`. Display the first few rows to confirm they are as expected."
      ]
    },
    {
      "cell_type": "code",
      "execution_count": null,
      "metadata": {
        "id": "0r-8_acoER77",
        "outputId": "aeaffa8f-012c-4d21-df96-73c4b72a1361"
      },
      "outputs": [
        {
          "data": {
            "text/plain": [
              "Index(['name', 'gp', 'min', 'pts', 'fgm', 'fga', 'fg', '3p_made', '3pa', '3p',\n",
              "       'ftm', 'fta', 'ft', 'oreb', 'dreb', 'reb', 'ast', 'stl', 'blk', 'tov',\n",
              "       'target_5yrs'],\n",
              "      dtype='object')"
            ]
          },
          "execution_count": 17,
          "metadata": {},
          "output_type": "execute_result"
        }
      ],
      "source": [
        "df.columns"
      ]
    },
    {
      "cell_type": "code",
      "execution_count": null,
      "metadata": {
        "id": "jeLHjMh_XwsU",
        "outputId": "d6db4add-2aa3-496c-8ce1-b38ac8fb2b88"
      },
      "outputs": [
        {
          "data": {
            "text/html": [
              "<div>\n",
              "<style scoped>\n",
              "    .dataframe tbody tr th:only-of-type {\n",
              "        vertical-align: middle;\n",
              "    }\n",
              "\n",
              "    .dataframe tbody tr th {\n",
              "        vertical-align: top;\n",
              "    }\n",
              "\n",
              "    .dataframe thead th {\n",
              "        text-align: right;\n",
              "    }\n",
              "</style>\n",
              "<table border=\"1\" class=\"dataframe\">\n",
              "  <thead>\n",
              "    <tr style=\"text-align: right;\">\n",
              "      <th></th>\n",
              "      <th>gp</th>\n",
              "      <th>min</th>\n",
              "      <th>pts</th>\n",
              "      <th>fg</th>\n",
              "      <th>3p</th>\n",
              "      <th>ft</th>\n",
              "      <th>reb</th>\n",
              "      <th>ast</th>\n",
              "      <th>stl</th>\n",
              "      <th>blk</th>\n",
              "      <th>tov</th>\n",
              "      <th>target_5yrs</th>\n",
              "    </tr>\n",
              "  </thead>\n",
              "  <tbody>\n",
              "    <tr>\n",
              "      <th>0</th>\n",
              "      <td>36</td>\n",
              "      <td>27.4</td>\n",
              "      <td>7.4</td>\n",
              "      <td>34.7</td>\n",
              "      <td>25.0</td>\n",
              "      <td>69.9</td>\n",
              "      <td>4.1</td>\n",
              "      <td>1.9</td>\n",
              "      <td>0.4</td>\n",
              "      <td>0.4</td>\n",
              "      <td>1.3</td>\n",
              "      <td>0</td>\n",
              "    </tr>\n",
              "    <tr>\n",
              "      <th>1</th>\n",
              "      <td>35</td>\n",
              "      <td>26.9</td>\n",
              "      <td>7.2</td>\n",
              "      <td>29.6</td>\n",
              "      <td>23.5</td>\n",
              "      <td>76.5</td>\n",
              "      <td>2.4</td>\n",
              "      <td>3.7</td>\n",
              "      <td>1.1</td>\n",
              "      <td>0.5</td>\n",
              "      <td>1.6</td>\n",
              "      <td>0</td>\n",
              "    </tr>\n",
              "    <tr>\n",
              "      <th>2</th>\n",
              "      <td>74</td>\n",
              "      <td>15.3</td>\n",
              "      <td>5.2</td>\n",
              "      <td>42.2</td>\n",
              "      <td>24.4</td>\n",
              "      <td>67.0</td>\n",
              "      <td>2.2</td>\n",
              "      <td>1.0</td>\n",
              "      <td>0.5</td>\n",
              "      <td>0.3</td>\n",
              "      <td>1.0</td>\n",
              "      <td>0</td>\n",
              "    </tr>\n",
              "    <tr>\n",
              "      <th>3</th>\n",
              "      <td>58</td>\n",
              "      <td>11.6</td>\n",
              "      <td>5.7</td>\n",
              "      <td>42.6</td>\n",
              "      <td>22.6</td>\n",
              "      <td>68.9</td>\n",
              "      <td>1.9</td>\n",
              "      <td>0.8</td>\n",
              "      <td>0.6</td>\n",
              "      <td>0.1</td>\n",
              "      <td>1.0</td>\n",
              "      <td>1</td>\n",
              "    </tr>\n",
              "    <tr>\n",
              "      <th>4</th>\n",
              "      <td>48</td>\n",
              "      <td>11.5</td>\n",
              "      <td>4.5</td>\n",
              "      <td>52.4</td>\n",
              "      <td>0.0</td>\n",
              "      <td>67.4</td>\n",
              "      <td>2.5</td>\n",
              "      <td>0.3</td>\n",
              "      <td>0.3</td>\n",
              "      <td>0.4</td>\n",
              "      <td>0.8</td>\n",
              "      <td>1</td>\n",
              "    </tr>\n",
              "  </tbody>\n",
              "</table>\n",
              "</div>"
            ],
            "text/plain": [
              "   gp   min  pts    fg    3p    ft  reb  ast  stl  blk  tov  target_5yrs\n",
              "0  36  27.4  7.4  34.7  25.0  69.9  4.1  1.9  0.4  0.4  1.3            0\n",
              "1  35  26.9  7.2  29.6  23.5  76.5  2.4  3.7  1.1  0.5  1.6            0\n",
              "2  74  15.3  5.2  42.2  24.4  67.0  2.2  1.0  0.5  0.3  1.0            0\n",
              "3  58  11.6  5.7  42.6  22.6  68.9  1.9  0.8  0.6  0.1  1.0            1\n",
              "4  48  11.5  4.5  52.4   0.0  67.4  2.5  0.3  0.3  0.4  0.8            1"
            ]
          },
          "execution_count": 19,
          "metadata": {},
          "output_type": "execute_result"
        }
      ],
      "source": [
        "# Select the columns to proceed with and save the DataFrame in new variable `selected_data`.\n",
        "# Include the target column, `target_5yrs`.\n",
        "\n",
        "selected_df = df[['gp', 'min', 'pts', 'fg', '3p', 'ft', 'reb', 'ast', 'stl', 'blk', 'tov','target_5yrs']]\n",
        "\n",
        "# Display the first few rows.\n",
        "\n",
        "### YOUR CODE HERE ###\n",
        "selected_df.head()"
      ]
    },
    {
      "cell_type": "markdown",
      "metadata": {
        "id": "eec8mVaZitRl"
      },
      "source": [
        "<details>\n",
        "<summary><h4><strong>Hint 1</strong></h4></summary>\n",
        "\n",
        "Refer to the materials about feature selection and selecting a subset of a DataFrame.\n",
        "</details>"
      ]
    },
    {
      "cell_type": "markdown",
      "metadata": {
        "id": "IGVBka7oitRn"
      },
      "source": [
        "<details>\n",
        "<summary><h4><strong>Hint 2</strong></h4></summary>\n",
        "\n",
        "Use two pairs of square brackets, and place the names of the columns you want to select inside the innermost brackets.\n",
        "\n",
        "</details>"
      ]
    },
    {
      "cell_type": "markdown",
      "metadata": {
        "id": "BB6uE5RSitRn"
      },
      "source": [
        "<details>\n",
        "<summary><h4><strong>Hint 3</strong></h4></summary>\n",
        "\n",
        "There is a function in `pandas` that can be used to display the first few rows of a DataFrame. Make sure to specify the column names with spelling that matches what's in the data. Use quotes to represent each column name as a string.\n",
        "</details>"
      ]
    },
    {
      "cell_type": "markdown",
      "metadata": {
        "id": "m9SD-zhXCLSm"
      },
      "source": [
        "### Feature transformation"
      ]
    },
    {
      "cell_type": "markdown",
      "metadata": {
        "id": "UQwsbcQHWeX1"
      },
      "source": [
        "An important aspect of feature transformation is feature encoding. If there are categorical columns that you would want to use as features, those columns should be transformed to be numerical. This technique is also known as feature encoding."
      ]
    },
    {
      "cell_type": "markdown",
      "metadata": {
        "id": "IMm2PPbvOUHb"
      },
      "source": [
        "**Question:** Why is feature transformation important to consider? Are there any transformations necessary for the features you want to use?"
      ]
    },
    {
      "cell_type": "markdown",
      "metadata": {
        "id": "Kg-1y3f2zmrg"
      },
      "source": [
        "Feature transformation is important because it allows us to transform categorical columns into numerical ones and use them as features. There are many models that don't support categorical features, so this step is crucial. In the NBA dataset, only the `name` column is categorical, but it won't be used as a feature, so this step isn't necessary."
      ]
    },
    {
      "cell_type": "markdown",
      "metadata": {
        "id": "yMK4zXxQCNYH"
      },
      "source": [
        "### Feature extraction"
      ]
    },
    {
      "cell_type": "markdown",
      "metadata": {
        "id": "LwU2VgiyfLg7"
      },
      "source": [
        "Display the first few rows containing containing descriptions of the data for reference. The table is as follows:\n",
        "\n",
        "<center>\n",
        "\n",
        "|Column Name|Column Description|\n",
        "|:---|:-------|\n",
        "|`name`|Name of NBA player|\n",
        "|`gp`|Number of games played|\n",
        "|`min`|Number of minutes played per game|\n",
        "|`pts`|Average number of points per game|\n",
        "|`fgm`|Average number of field goals made per game|\n",
        "|`fga`|Average number of field goal attempts per game|\n",
        "|`fg`|Average percent of field goals made per game|\n",
        "|`3p_made`|Average number of three-point field goals made per game|\n",
        "|`3pa`|Average number of three-point field goal attempts per game|\n",
        "|`3p`|Average percent of three-point field goals made per game|\n",
        "|`ftm`|Average number of free throws made per game|\n",
        "|`fta`|Average number of free throw attempts per game|\n",
        "|`ft`|Average percent of free throws made per game|\n",
        "|`oreb`|Average number of offensive rebounds per game|\n",
        "|`dreb`|Average number of defensive rebounds per game|\n",
        "|`reb`|Average number of rebounds per game|\n",
        "|`ast`|Average number of assists per game|\n",
        "|`stl`|Average number of steals per game|\n",
        "|`blk`|Average number of blocks per game|\n",
        "|`tov`|Average number of turnovers per game|\n",
        "|`target_5yrs`|1 if career duration >= 5 yrs, 0 otherwise|\n",
        "\n",
        "</center>"
      ]
    },
    {
      "cell_type": "code",
      "execution_count": null,
      "metadata": {
        "id": "TImr9RUzfNNk",
        "outputId": "e349da1d-710e-433b-e8de-2e0c759c92f8"
      },
      "outputs": [
        {
          "data": {
            "text/html": [
              "<div>\n",
              "<style scoped>\n",
              "    .dataframe tbody tr th:only-of-type {\n",
              "        vertical-align: middle;\n",
              "    }\n",
              "\n",
              "    .dataframe tbody tr th {\n",
              "        vertical-align: top;\n",
              "    }\n",
              "\n",
              "    .dataframe thead th {\n",
              "        text-align: right;\n",
              "    }\n",
              "</style>\n",
              "<table border=\"1\" class=\"dataframe\">\n",
              "  <thead>\n",
              "    <tr style=\"text-align: right;\">\n",
              "      <th></th>\n",
              "      <th>gp</th>\n",
              "      <th>min</th>\n",
              "      <th>pts</th>\n",
              "      <th>fg</th>\n",
              "      <th>3p</th>\n",
              "      <th>ft</th>\n",
              "      <th>reb</th>\n",
              "      <th>ast</th>\n",
              "      <th>stl</th>\n",
              "      <th>blk</th>\n",
              "      <th>tov</th>\n",
              "      <th>target_5yrs</th>\n",
              "    </tr>\n",
              "  </thead>\n",
              "  <tbody>\n",
              "    <tr>\n",
              "      <th>0</th>\n",
              "      <td>36</td>\n",
              "      <td>27.4</td>\n",
              "      <td>7.4</td>\n",
              "      <td>34.7</td>\n",
              "      <td>25.0</td>\n",
              "      <td>69.9</td>\n",
              "      <td>4.1</td>\n",
              "      <td>1.9</td>\n",
              "      <td>0.4</td>\n",
              "      <td>0.4</td>\n",
              "      <td>1.3</td>\n",
              "      <td>0</td>\n",
              "    </tr>\n",
              "    <tr>\n",
              "      <th>1</th>\n",
              "      <td>35</td>\n",
              "      <td>26.9</td>\n",
              "      <td>7.2</td>\n",
              "      <td>29.6</td>\n",
              "      <td>23.5</td>\n",
              "      <td>76.5</td>\n",
              "      <td>2.4</td>\n",
              "      <td>3.7</td>\n",
              "      <td>1.1</td>\n",
              "      <td>0.5</td>\n",
              "      <td>1.6</td>\n",
              "      <td>0</td>\n",
              "    </tr>\n",
              "    <tr>\n",
              "      <th>2</th>\n",
              "      <td>74</td>\n",
              "      <td>15.3</td>\n",
              "      <td>5.2</td>\n",
              "      <td>42.2</td>\n",
              "      <td>24.4</td>\n",
              "      <td>67.0</td>\n",
              "      <td>2.2</td>\n",
              "      <td>1.0</td>\n",
              "      <td>0.5</td>\n",
              "      <td>0.3</td>\n",
              "      <td>1.0</td>\n",
              "      <td>0</td>\n",
              "    </tr>\n",
              "    <tr>\n",
              "      <th>3</th>\n",
              "      <td>58</td>\n",
              "      <td>11.6</td>\n",
              "      <td>5.7</td>\n",
              "      <td>42.6</td>\n",
              "      <td>22.6</td>\n",
              "      <td>68.9</td>\n",
              "      <td>1.9</td>\n",
              "      <td>0.8</td>\n",
              "      <td>0.6</td>\n",
              "      <td>0.1</td>\n",
              "      <td>1.0</td>\n",
              "      <td>1</td>\n",
              "    </tr>\n",
              "    <tr>\n",
              "      <th>4</th>\n",
              "      <td>48</td>\n",
              "      <td>11.5</td>\n",
              "      <td>4.5</td>\n",
              "      <td>52.4</td>\n",
              "      <td>0.0</td>\n",
              "      <td>67.4</td>\n",
              "      <td>2.5</td>\n",
              "      <td>0.3</td>\n",
              "      <td>0.3</td>\n",
              "      <td>0.4</td>\n",
              "      <td>0.8</td>\n",
              "      <td>1</td>\n",
              "    </tr>\n",
              "  </tbody>\n",
              "</table>\n",
              "</div>"
            ],
            "text/plain": [
              "   gp   min  pts    fg    3p    ft  reb  ast  stl  blk  tov  target_5yrs\n",
              "0  36  27.4  7.4  34.7  25.0  69.9  4.1  1.9  0.4  0.4  1.3            0\n",
              "1  35  26.9  7.2  29.6  23.5  76.5  2.4  3.7  1.1  0.5  1.6            0\n",
              "2  74  15.3  5.2  42.2  24.4  67.0  2.2  1.0  0.5  0.3  1.0            0\n",
              "3  58  11.6  5.7  42.6  22.6  68.9  1.9  0.8  0.6  0.1  1.0            1\n",
              "4  48  11.5  4.5  52.4   0.0  67.4  2.5  0.3  0.3  0.4  0.8            1"
            ]
          },
          "execution_count": 21,
          "metadata": {},
          "output_type": "execute_result"
        }
      ],
      "source": [
        "# Display the first few rows of `selected_data` for reference.\n",
        "\n",
        "selected_df.head()"
      ]
    },
    {
      "cell_type": "markdown",
      "metadata": {
        "id": "c5GvdO_Ddgcv"
      },
      "source": [
        "**Question:** Which columns lend themselves to feature extraction?"
      ]
    },
    {
      "cell_type": "markdown",
      "metadata": {
        "id": "XrDQ4Qzezoo2"
      },
      "source": [
        "`gp`, `min`, and `pts` lend themselves to feature extraction. As mentioned earlier, the total points can be extracted by multiplying the number of games played (`gp`) by the points per game (`pts`). The number of minutes played across the games can also be extracted by multiplying the number of games played by the minutes played (`gp` * `min`).\n",
        "\n",
        "With the number of minutes played across the games calculated, it's possible to metrify some efficiency of points, by dividing the total of points by the number of minutes played across games (`total_points`/`total_minutes`)."
      ]
    },
    {
      "cell_type": "markdown",
      "metadata": {
        "id": "TzdzdImXmlVV"
      },
      "source": [
        "Extract the features that you think would help predict `target_5yrs`. Then, create a new variable named 'extracted_data' that contains features from 'selected_data', as well as the features being extracted."
      ]
    },
    {
      "cell_type": "code",
      "execution_count": null,
      "metadata": {
        "id": "wnYRJKZmER79",
        "outputId": "63ba7e9a-6fc1-4f67-a0a5-94aac6213ad1"
      },
      "outputs": [
        {
          "data": {
            "text/plain": [
              "Index(['gp', 'min', 'pts', 'fg', '3p', 'ft', 'reb', 'ast', 'stl', 'blk', 'tov',\n",
              "       'target_5yrs'],\n",
              "      dtype='object')"
            ]
          },
          "execution_count": 22,
          "metadata": {},
          "output_type": "execute_result"
        }
      ],
      "source": [
        "selected_df.columns"
      ]
    },
    {
      "cell_type": "code",
      "execution_count": null,
      "metadata": {
        "id": "-oKr7ZPumP4X"
      },
      "outputs": [],
      "source": [
        "# Extract two features that would help predict target_5yrs.\n",
        "\n",
        "selected_df['total_minutes'] = selected_df['gp'] * selected_df['min']\n",
        "selected_df['total_points'] = selected_df['gp'] * selected_df['pts']\n",
        "selected_df['points_efficiency'] = selected_df['total_points'] / selected_df['total_minutes']\n",
        "\n",
        "# Create a new variable named `extracted_data`.\n",
        "extracted_df = selected_df.copy()"
      ]
    },
    {
      "cell_type": "markdown",
      "metadata": {
        "id": "nBm31_L4stiM"
      },
      "source": [
        "<details>\n",
        "<summary><h4><strong>Hint 1</strong></h4></summary>\n",
        "\n",
        "Refer to the materials about feature extraction.\n",
        "</details>"
      ]
    },
    {
      "cell_type": "markdown",
      "metadata": {
        "id": "zfJjVoNnstiO"
      },
      "source": [
        "<details>\n",
        "<summary><h4><strong>Hint 2</strong></h4></summary>\n",
        "\n",
        "Use the function `copy()` to make a copy of a DataFrame. To access a specific column from a DataFrame, use a pair of square brackets and place the name of the column as a string inside the brackets.\n",
        "\n",
        "</details>"
      ]
    },
    {
      "cell_type": "markdown",
      "metadata": {
        "id": "5JK2XAKJstiP"
      },
      "source": [
        "<details>\n",
        "<summary><h4><strong>Hint 3</strong></h4></summary>\n",
        "\n",
        "Use a pair of square brackets to create a new column in a DataFrame. The columns in DataFrames are series objects, which support elementwise operations such as multiplication and division. Be sure the column names referenced in your code match the spelling of what's in the DataFrame.\n",
        "</details>"
      ]
    },
    {
      "cell_type": "markdown",
      "metadata": {
        "id": "_HSGCXKZt61x"
      },
      "source": [
        "Now, to prepare for the Naive Bayes model that you will build in a later lab, clean the extracted data and ensure ensure it is concise. Naive Bayes involves an assumption that features are independent of each other given the class. In order to satisfy that criteria, if certain features are aggregated to yield new features, it may be necessary to remove those original features. Therefore, drop the columns that were used to extract new features.\n",
        "\n",
        "**Note:** There are other types of models that do not involve independence assumptions, so this would not be required in those instances. In fact, keeping the original features may be beneficial."
      ]
    },
    {
      "cell_type": "code",
      "execution_count": null,
      "metadata": {
        "id": "9kF4nRy5r1DV",
        "outputId": "b0c81ce7-cb49-4e9a-b3a4-fb949cb80234"
      },
      "outputs": [
        {
          "data": {
            "text/html": [
              "<div>\n",
              "<style scoped>\n",
              "    .dataframe tbody tr th:only-of-type {\n",
              "        vertical-align: middle;\n",
              "    }\n",
              "\n",
              "    .dataframe tbody tr th {\n",
              "        vertical-align: top;\n",
              "    }\n",
              "\n",
              "    .dataframe thead th {\n",
              "        text-align: right;\n",
              "    }\n",
              "</style>\n",
              "<table border=\"1\" class=\"dataframe\">\n",
              "  <thead>\n",
              "    <tr style=\"text-align: right;\">\n",
              "      <th></th>\n",
              "      <th>fg</th>\n",
              "      <th>3p</th>\n",
              "      <th>ft</th>\n",
              "      <th>reb</th>\n",
              "      <th>ast</th>\n",
              "      <th>stl</th>\n",
              "      <th>blk</th>\n",
              "      <th>tov</th>\n",
              "      <th>target_5yrs</th>\n",
              "      <th>total_points</th>\n",
              "      <th>points_efficiency</th>\n",
              "    </tr>\n",
              "  </thead>\n",
              "  <tbody>\n",
              "    <tr>\n",
              "      <th>0</th>\n",
              "      <td>34.7</td>\n",
              "      <td>25.0</td>\n",
              "      <td>69.9</td>\n",
              "      <td>4.1</td>\n",
              "      <td>1.9</td>\n",
              "      <td>0.4</td>\n",
              "      <td>0.4</td>\n",
              "      <td>1.3</td>\n",
              "      <td>0</td>\n",
              "      <td>266.4</td>\n",
              "      <td>0.270073</td>\n",
              "    </tr>\n",
              "    <tr>\n",
              "      <th>1</th>\n",
              "      <td>29.6</td>\n",
              "      <td>23.5</td>\n",
              "      <td>76.5</td>\n",
              "      <td>2.4</td>\n",
              "      <td>3.7</td>\n",
              "      <td>1.1</td>\n",
              "      <td>0.5</td>\n",
              "      <td>1.6</td>\n",
              "      <td>0</td>\n",
              "      <td>252.0</td>\n",
              "      <td>0.267658</td>\n",
              "    </tr>\n",
              "    <tr>\n",
              "      <th>2</th>\n",
              "      <td>42.2</td>\n",
              "      <td>24.4</td>\n",
              "      <td>67.0</td>\n",
              "      <td>2.2</td>\n",
              "      <td>1.0</td>\n",
              "      <td>0.5</td>\n",
              "      <td>0.3</td>\n",
              "      <td>1.0</td>\n",
              "      <td>0</td>\n",
              "      <td>384.8</td>\n",
              "      <td>0.339869</td>\n",
              "    </tr>\n",
              "    <tr>\n",
              "      <th>3</th>\n",
              "      <td>42.6</td>\n",
              "      <td>22.6</td>\n",
              "      <td>68.9</td>\n",
              "      <td>1.9</td>\n",
              "      <td>0.8</td>\n",
              "      <td>0.6</td>\n",
              "      <td>0.1</td>\n",
              "      <td>1.0</td>\n",
              "      <td>1</td>\n",
              "      <td>330.6</td>\n",
              "      <td>0.491379</td>\n",
              "    </tr>\n",
              "    <tr>\n",
              "      <th>4</th>\n",
              "      <td>52.4</td>\n",
              "      <td>0.0</td>\n",
              "      <td>67.4</td>\n",
              "      <td>2.5</td>\n",
              "      <td>0.3</td>\n",
              "      <td>0.3</td>\n",
              "      <td>0.4</td>\n",
              "      <td>0.8</td>\n",
              "      <td>1</td>\n",
              "      <td>216.0</td>\n",
              "      <td>0.391304</td>\n",
              "    </tr>\n",
              "  </tbody>\n",
              "</table>\n",
              "</div>"
            ],
            "text/plain": [
              "     fg    3p    ft  reb  ast  stl  blk  tov  target_5yrs  total_points  \\\n",
              "0  34.7  25.0  69.9  4.1  1.9  0.4  0.4  1.3            0         266.4   \n",
              "1  29.6  23.5  76.5  2.4  3.7  1.1  0.5  1.6            0         252.0   \n",
              "2  42.2  24.4  67.0  2.2  1.0  0.5  0.3  1.0            0         384.8   \n",
              "3  42.6  22.6  68.9  1.9  0.8  0.6  0.1  1.0            1         330.6   \n",
              "4  52.4   0.0  67.4  2.5  0.3  0.3  0.4  0.8            1         216.0   \n",
              "\n",
              "   points_efficiency  \n",
              "0           0.270073  \n",
              "1           0.267658  \n",
              "2           0.339869  \n",
              "3           0.491379  \n",
              "4           0.391304  "
            ]
          },
          "execution_count": 31,
          "metadata": {},
          "output_type": "execute_result"
        }
      ],
      "source": [
        "# Remove any columns from `extracted_data` that are no longer needed.\n",
        "\n",
        "extracted_df = extracted_df.drop(columns=['gp', 'min', 'pts', 'total_minutes'])\n",
        "\n",
        "# Display the first few rows of `extracted_data` to ensure that column drops took place.\n",
        "\n",
        "extracted_df.head()"
      ]
    },
    {
      "cell_type": "markdown",
      "metadata": {
        "id": "zXgV7ogJutbC"
      },
      "source": [
        "<details>\n",
        "<summary><h4><strong>Hint 1</strong></h4></summary>\n",
        "\n",
        "Refer to the materials about feature extraction.\n",
        "</details>"
      ]
    },
    {
      "cell_type": "markdown",
      "metadata": {
        "id": "yy5eHxzrutbD"
      },
      "source": [
        "<details>\n",
        "<summary><h4><strong>Hint 2</strong></h4></summary>\n",
        "\n",
        "There are functions in the `pandas` library that remove specific columns from a DataFrame and that display the first few rows of a DataFrame.\n",
        "</details>"
      ]
    },
    {
      "cell_type": "markdown",
      "metadata": {
        "id": "V7pdI7hqutbE"
      },
      "source": [
        "<details>\n",
        "<summary><h4><strong>Hint 3</strong></h4></summary>\n",
        "\n",
        "Use the `drop()` function and pass in a list of the names of the columns you want to remove. By default, calling this function will result in a new DataFrame that reflects the changes you made. The original DataFrame is not automatically altered. You can reassign `extracted_data` to the result, in order to update it.\n",
        "\n",
        "Use the `head()` function to display the first few rows of a DataFrame.\n",
        "</details>"
      ]
    },
    {
      "cell_type": "markdown",
      "metadata": {
        "id": "T-_ViHlcwlik"
      },
      "source": [
        "Next, export the extracted data as a new .csv file. You will use this in a later lab."
      ]
    },
    {
      "cell_type": "code",
      "execution_count": null,
      "metadata": {
        "id": "gZ_DdQx1xIaN"
      },
      "outputs": [],
      "source": [
        "# Export the extracted data.\n",
        "\n",
        "extracted_df.to_csv(\"extracted_nba_players_data.csv\", index=0)"
      ]
    },
    {
      "cell_type": "markdown",
      "metadata": {
        "id": "izEApnWFxTCC"
      },
      "source": [
        "<details>\n",
        "<summary><h4><strong>Hint 1</strong></h4></summary>\n",
        "\n",
        "There is a function in the `pandas` library that exports a DataFrame as a .csv file.\n",
        "</details>"
      ]
    },
    {
      "cell_type": "markdown",
      "metadata": {
        "id": "13VAjGwHxTCC"
      },
      "source": [
        "<details>\n",
        "<summary><h4><strong>Hint 2</strong></h4></summary>\n",
        "\n",
        "Use the `to_csv()` function to export the DataFrame as a .csv file.\n",
        "</details>"
      ]
    },
    {
      "cell_type": "markdown",
      "metadata": {
        "id": "X_BDkIONxTCE"
      },
      "source": [
        "<details>\n",
        "<summary><h4><strong>Hint 3</strong></h4></summary>\n",
        "\n",
        "Call the `to_csv()` function on `extracted_data`, and pass in the name that you want to give to the resulting .csv file. Specify the file name as a string and in the file name. Make sure to include `.csv` as the file extension. Also, pass in the parameter `index` set to `0`, so that when the export occurs, the row indices from the DataFrame are not treated as an additional column in the resulting file.\n",
        "</details>"
      ]
    },
    {
      "cell_type": "markdown",
      "metadata": {
        "id": "xur2FC5xAzp0"
      },
      "source": [
        "## **Considerations**\n"
      ]
    },
    {
      "cell_type": "markdown",
      "metadata": {
        "id": "WvBogkdfggKN"
      },
      "source": [
        "**What summary would you provide to stakeholders? Consider key attributes to be shared from the data, as well as upcoming project plans.**"
      ]
    },
    {
      "cell_type": "markdown",
      "metadata": {
        "id": "8d2_JyVFgg0r"
      },
      "source": [
        "* The name of the player is not useful for the model, so it wasn't used as a feature for the upcoming model\n",
        "* There were some variables that already covered other ones, such as the average percentage variables for the field goals, three-point field goals, free throws, and overall rebounds. With that said, these variables were kept as features\n",
        "* The total of points across games and the efficiency of points (a.k.a points per minute) were extracted as new features\n",
        "* In summary, the following attributes were selected in order to help the NBA career duration of the players: field goals, three-point field goals, free throws, overall rebounds, assists, steals, blocks, turnovers, total points, and points efficiency."
      ]
    },
    {
      "cell_type": "markdown",
      "metadata": {
        "id": "12oanb7XER8A"
      },
      "source": [
        "**Congratulations!** You've completed this lab. However, you may not notice a green check mark next to this item on Coursera's platform. Please continue your progress regardless of the check mark. Just click on the \"save\" icon at the top of this notebook to ensure your work has been logged."
      ]
    }
  ],
  "metadata": {
    "colab": {
      "provenance": [],
      "include_colab_link": true
    },
    "kernelspec": {
      "display_name": "Python 3",
      "language": "python",
      "name": "python3"
    },
    "language_info": {
      "codemirror_mode": {
        "name": "ipython",
        "version": 3
      },
      "file_extension": ".py",
      "mimetype": "text/x-python",
      "name": "python",
      "nbconvert_exporter": "python",
      "pygments_lexer": "ipython3",
      "version": "3.7.6"
    }
  },
  "nbformat": 4,
  "nbformat_minor": 0
}